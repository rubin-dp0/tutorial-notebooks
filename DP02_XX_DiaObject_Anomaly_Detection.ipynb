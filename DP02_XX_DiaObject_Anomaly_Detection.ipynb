{
 "cells": [
  {
   "cell_type": "markdown",
   "metadata": {},
   "source": [
    "# DiaObject Anomaly Detection in DP0.2\n",
    "\n",
    "<img align=\"left\" src = https://project.lsst.org/sites/default/files/Rubin-O-Logo_0.png width=250 style=\"padding: 10px\"> \n",
    "\n",
    "<br>Contact author(s): Ryan Lau ... <br>\n",
    "Last verified to run: ... <br>\n",
    "LSST Science Pipelines version: ... <br>\n",
    "Container Size: ... <br>\n",
    "Targeted learning level: Intermediate <br>"
   ]
  },
  {
   "cell_type": "markdown",
   "metadata": {},
   "source": [
    "**Description:** Apply anomaly detection techniques to DIA Objects from the DP0.2 catalogs and inspect the anomalies."
   ]
  },
  {
   "cell_type": "markdown",
   "metadata": {},
   "source": [
    "**Skills:** Use Isolation Forest algorithm on the DP0.2 DiaObject Table. Plot results and inspect anomalies. Display calexp, difference template, and difference images using Butler."
   ]
  },
  {
   "cell_type": "markdown",
   "metadata": {},
   "source": [
    "**LSST Data Products:** TAP tables dp02_dc2_catalogs.DiaObject, DiaSource, TruthSummary"
   ]
  },
  {
   "cell_type": "markdown",
   "metadata": {},
   "source": [
    "**Packages:** lsst, scikit-learn, pandas, matplotlib, numpy, astropy, PIL\n"
   ]
  },
  {
   "cell_type": "markdown",
   "metadata": {},
   "source": [
    "**Credit:**\n",
    "Inspired by a notebook and discussion with Konstantin Malanchev. We thank Adam Miller and Brian Nord for feedback on the notebook."
   ]
  },
  {
   "cell_type": "markdown",
   "metadata": {},
   "source": [
    "**Get Support:**\n",
    "Find DP0-related documentation and resources at <a href=\"https://dp0-2.lsst.io\">dp0-2.lsst.io</a>. Questions are welcome as new topics in the <a href=\"https://community.lsst.org/c/support/dp0\">Support - Data Preview 0 Category</a> of the Rubin Community Forum. Rubin staff will respond to all questions posted there. For more information, please consider reaching out to the Anomaloy Detection interest group of the <a href=\"https://issc.science.lsst.org/\">LSST Informatics & Statistics Science Collaboration</a>."
   ]
  },
  {
   "cell_type": "markdown",
   "metadata": {
    "tags": []
   },
   "source": [
    "## 1. Introduction\n",
    "\n",
    "This notebook introduces an anomaly detection technique on difference-image analysis (DIA) objects from DP0.2. It demonstrates how to perform the following:\n",
    "\n",
    "1. apply the IsolationForest routine from [`scikit-learn`](https://scikit-learn.org/stable/);\n",
    "2. identify anomalous DiaObjects from the DP0.2 catalogs;\n",
    "3. how to inspect the properties of the anomalous targets.\n",
    "\n",
    "For further introduction and motivation on investigating anomalies, please view the following link: <a href=\"https://www.lsst.org/science/transient-optical-sky/unimagined \">The Unimagined</a>\n",
    "\n",
    "### 1.1. Package imports\n",
    "\n",
    "Import general python packages, the IsolationForest algorithm from `scikit-learn`, and the Rubin TAP service utilities.\n",
    "\n",
    "The [`matplotlib`](https://matplotlib.org/), [`numpy`](http://www.numpy.org/), and [`scikit-learn`](https://scikit-learn.org/stable/) libraries are widely used Python libraries for plotting, scientific computing, and conducting Machine-Learning data analysis. We will use these packages below, including the `lsst.rsp` package to access the TAP service and query the DP0 catalogs.\n",
    "\n",
    "We also use the `lsst.rsp` package to access the TAP service and query the DP0 catalogs."
   ]
  },
  {
   "cell_type": "code",
   "execution_count": null,
   "metadata": {
    "tags": []
   },
   "outputs": [],
   "source": [
    "import numpy as np\n",
    "import matplotlib.pyplot as plt\n",
    "from sklearn.ensemble import IsolationForest\n",
    "from lsst.rsp import get_tap_service"
   ]
  },
  {
   "cell_type": "markdown",
   "metadata": {},
   "source": [
    "In Sec. 2.4, we display image cutouts of an anomalous DiaObjects by the utilizing [`Butler`](https://pipelines.lsst.io/modules/lsst.daf.butler/index.html) to load the data. The following python packages are imported to display the image cutouts."
   ]
  },
  {
   "cell_type": "code",
   "execution_count": null,
   "metadata": {},
   "outputs": [],
   "source": [
    "from lsst.daf.butler import Butler\n",
    "import lsst.geom as geom\n",
    "\n",
    "from astropy.visualization import LinearStretch, ImageNormalize\n",
    "import warnings\n",
    "warnings.simplefilter(\"ignore\", category=UserWarning)\n",
    "\n",
    "from astropy.stats import sigma_clipped_stats"
   ]
  },
  {
   "cell_type": "markdown",
   "metadata": {},
   "source": [
    "Defining plotting parameters for nice displays"
   ]
  },
  {
   "cell_type": "code",
   "execution_count": null,
   "metadata": {},
   "outputs": [],
   "source": [
    "plt.style.use('tableau-colorblind10')\n",
    "\n",
    "plot_filter_labels = ['u', 'g', 'r', 'i', 'z', 'y']\n",
    "plot_filter_colors = {'u': '#56b4e9', 'g': '#008060', 'r': '#ff4000',\n",
    "                      'i': '#850000', 'z': '#6600cc', 'y': '#000000'}\n",
    "plot_filter_symbols = {'u': 'o', 'g': '^', 'r': 'v',\n",
    "                       'i': 's', 'z': '*', 'y': 'p'}"
   ]
  },
  {
   "cell_type": "markdown",
   "metadata": {},
   "source": [
    "## 2. Search for Anomalous DiaObjects using IsolationForest\n",
    "\n",
    "Here, we will apply the [Isolation Forest Algorithm](https://scikit-learn.org/stable/modules/generated/sklearn.ensemble.IsolationForest.html) from  `scikit-learn` on the DP0.2 DiaObject catalog to identify anomalous sources. \n",
    "\n",
    "In particular, we will look for DiaObjects that are anomalously variable, and then inspect their light curves. We will also obtain the display the science, reference, and difference image cutouts of the source with the highest anomaly score.\n",
    "\n",
    "### 2.1. Create the Rubin TAP Service client and Obtain DiaObject Sample\n",
    "\n",
    "First, get an instance of the TAP service, and assert that it exists."
   ]
  },
  {
   "cell_type": "code",
   "execution_count": null,
   "metadata": {},
   "outputs": [],
   "source": [
    "service = get_tap_service(\"tap\")\n",
    "assert service is not None"
   ]
  },
  {
   "cell_type": "markdown",
   "metadata": {},
   "source": [
    "To reduce spurious DiaObjects, we set a minimum number of DiaSource detections."
   ]
  },
  {
   "cell_type": "code",
   "execution_count": null,
   "metadata": {},
   "outputs": [],
   "source": [
    "ndiasources_min = 10"
   ]
  },
  {
   "cell_type": "markdown",
   "metadata": {},
   "source": [
    "For simplicity, we focus the search for anomalous behavior from DiaObjects in the r-band. \n",
    "\n",
    "We set an additional threshold for number of detections in the r-band filter."
   ]
  },
  {
   "cell_type": "code",
   "execution_count": null,
   "metadata": {},
   "outputs": [],
   "source": [
    "ndata_thresh = 8"
   ]
  },
  {
   "cell_type": "markdown",
   "metadata": {},
   "source": [
    "We now retrieve a random sample of 1000000 DiaObjects and the following statistics of their r-band light curve:\n",
    "\n",
    "\n",
    "**rPSFluxNdata:** The number of data points used to compute rPSFluxChi2. <br>\n",
    "**rPSFluxSigma:** The standard deviation of the fluxes. <br>\n",
    "**rPSFluxLinearSlope:** Slope of a linear model fit to diaSource PSF flux vs time.<br>\n",
    "**rPSFluxMean:** The average flux. <br>\n",
    "\n",
    "Note that the statistics are all based on the _difference-image point source (PS) flux values_.\n",
    "\n",
    "An r-band total mean flux (`rTOTFluxMean`) threshold of $<1\\times10^5$ nJy is set to filter out saturated sources. Limits are also placed on the maximum r-band difference-image flux (`rPSFluxMax` $<1\\times10^5$ nJy) and the minimum r-band difference-image flux (`rPSFluxMin` $>-1\\times10^5$ nJy) to avoid artifacts from saturated sources.\n",
    "\n",
    "The following cell should take less than 10 seconds to run."
   ]
  },
  {
   "cell_type": "code",
   "execution_count": null,
   "metadata": {},
   "outputs": [],
   "source": [
    "results = service.search(\"SELECT TOP 1000000 \"\n",
    "                         \"ra, decl, diaObjectId, nDiaSources, rPSFluxNdata, \"\n",
    "                         \"rPSFluxSigma, rPSFluxLinearSlope, rPSFluxMean \"\n",
    "                         \"FROM dp02_dc2_catalogs.DiaObject \"\n",
    "                         \"WHERE nDiaSources > \"+str(ndiasources_min)+\" \"\n",
    "                         \"AND rTOTFluxMean < 1e5 \" + \" \"\n",
    "                         \"AND rPSFluxMax < 1e5 \" + \" \"\n",
    "                         \"AND rPSFluxMin > -1e5 \" + \" \"\n",
    "                         \"AND rPSFluxNdata > \"+str(ndata_thresh)+\" \")\n",
    "DiaObjs = results.to_table()\n",
    "df = DiaObjs.to_pandas()\n",
    "del results"
   ]
  },
  {
   "cell_type": "markdown",
   "metadata": {},
   "source": [
    "### 2.2. Run IsolationForest Algorithm\n",
    "\n",
    "We run the [Isolation Forest Algorithm](https://scikit-learn.org/stable/modules/generated/sklearn.ensemble.IsolationForest.html) on the DiaObject sample and look for outliers based on the `rPSFluxMean`, `rPSFluxLinearSlope`, and `rPSFluxSigma`values. The algorithm outputs anomaly scores based on the input sample where negative scores represent outliers.\n",
    "\n",
    "The indicies of the top 20 outliers are saved in the array `idx`.\n"
   ]
  },
  {
   "cell_type": "code",
   "execution_count": null,
   "metadata": {},
   "outputs": [],
   "source": [
    "sample = df[[\n",
    "    'rPSFluxMean',\n",
    "    'rPSFluxLinearSlope',\n",
    "    'rPSFluxSigma',\n",
    "    ]].values\n",
    "\n",
    "rng = np.random.RandomState(42)\n",
    "\n",
    "ifo = IsolationForest(max_samples=1000,\n",
    "                      random_state=rng, n_jobs=1)\n",
    "ifo.fit(sample)\n",
    "idx = np.argsort(ifo.score_samples(sample))[:20]"
   ]
  },
  {
   "cell_type": "markdown",
   "metadata": {},
   "source": [
    "Uncomment the following to show the scores of the top 20 outliers"
   ]
  },
  {
   "cell_type": "code",
   "execution_count": null,
   "metadata": {},
   "outputs": [],
   "source": [
    "# np.sort(ifo.score_samples(x))[:20]"
   ]
  },
  {
   "cell_type": "markdown",
   "metadata": {},
   "source": [
    "We also show the histogram of the Isolation Forest scores from our input sample."
   ]
  },
  {
   "cell_type": "code",
   "execution_count": null,
   "metadata": {},
   "outputs": [],
   "source": [
    "plt.title('Histogram of Isolation Forest Scores')\n",
    "plt.hist(ifo.score_samples(sample), bins=50)\n",
    "plt.yscale('log')\n",
    "plt.show()"
   ]
  },
  {
   "cell_type": "markdown",
   "metadata": {},
   "source": [
    "> Figure 1: Histogram of Isolation Forest scores from the input sample. Scores with the most negative values indicate outliers."
   ]
  },
  {
   "cell_type": "markdown",
   "metadata": {},
   "source": [
    "Uncomment to Display the DIA Objects IDs of the anomolies"
   ]
  },
  {
   "cell_type": "code",
   "execution_count": null,
   "metadata": {
    "tags": []
   },
   "outputs": [],
   "source": [
    "# [df['diaObjectId'][i] for i in idx]"
   ]
  },
  {
   "cell_type": "markdown",
   "metadata": {},
   "source": [
    "### 2.3. Vizualising the Identified Anomalies\n",
    "\n",
    "Plot the distribution of DiaObjects with the properties used to identify outliers: `rPSFluxMean`, `rPSFluxLinearSlope`, and `rPSFluxSigma`."
   ]
  },
  {
   "cell_type": "code",
   "execution_count": null,
   "metadata": {},
   "outputs": [],
   "source": [
    "fig, ax = plt.subplots(1, 2, figsize=(12, 5), sharey=False, sharex=False)\n",
    "\n",
    "params = [\n",
    "    ('rPSFluxMean', 'rPSFluxLinearSlope'),\n",
    "    ('rPSFluxMean', 'rPSFluxSigma'),\n",
    "]\n",
    "\n",
    "for j, (px, py) in enumerate(params):\n",
    "    ax[j].plot(df[px], df[py], 'o', ms=1, color='grey', alpha=0.1)\n",
    "    ax[j].set_xlabel(px)\n",
    "    ax[j].set_ylabel(py)\n",
    "    for i in idx:\n",
    "        ax[j].plot(df[px][i], df[py][i], '*', ms=12, color='red', mec='black')\n",
    "\n",
    "plt.tight_layout()\n",
    "plt.show()"
   ]
  },
  {
   "cell_type": "markdown",
   "metadata": {},
   "source": [
    "> Figure 2: Distribution of DiaObjects showing (Left) ``rPSFluxLinearSlope`` vs ``rPSFluxMean`` and (Right) ``rPSFluxSigma`` vs ``rPSFluxMean``. The anomalies identified from the IsolationForest algorithm (red star) indeed appear to be outliers in the distribution of other DiaObjects (grey points)"
   ]
  },
  {
   "cell_type": "markdown",
   "metadata": {},
   "source": [
    "Next, we plot the r-band light curves of the 20 DiaObject outliers."
   ]
  },
  {
   "cell_type": "code",
   "execution_count": null,
   "metadata": {},
   "outputs": [],
   "source": [
    "fig, ax = plt.subplots(5, 4, figsize=(10, 10), sharey=False, sharex=False)\n",
    "\n",
    "n = 0\n",
    "filters = ['r']\n",
    "\n",
    "for i in range(5):\n",
    "    for j in range(4):\n",
    "        results = service.search(\"SELECT ra, decl, diaObjectId, diaSourceId, \"\n",
    "                                 \"filterName, midPointTai, psFlux \"\n",
    "                                 \"FROM dp02_dc2_catalogs.DiaSource \"\n",
    "                                 \"WHERE diaObjectId = \"+str(df['diaObjectId'][idx[n]]))\n",
    "        results = results.to_table()\n",
    "\n",
    "        for f, filt in enumerate(filters):\n",
    "            fx = np.where(results['filterName'] == filt)[0]\n",
    "            ax[i, j].plot(results['midPointTai'][fx], results['psFlux'][fx],\n",
    "                              plot_filter_symbols[filt], ms=10, mew=0, alpha=0.5,\n",
    "                              color=plot_filter_colors[filt])\n",
    "\n",
    "        ax[i, j].set_title(df['diaObjectId'][idx[n]])\n",
    "\n",
    "        if i == 4:\n",
    "            ax[i, j].xaxis.set_label_text('MJD (days)')\n",
    "        if j == 0:\n",
    "            ax[i, j].yaxis.set_label_text('psFlux(nJy)')\n",
    "\n",
    "        n += 1\n",
    "        del results\n",
    "\n",
    "plt.tight_layout()\n",
    "plt.show()"
   ]
  },
  {
   "cell_type": "markdown",
   "metadata": {},
   "source": [
    "> Figure 3: r-band light curves of the 20 DiaObject outliers. Note that the outlier light curves indeed show significant changes in r-band flux. "
   ]
  },
  {
   "cell_type": "markdown",
   "metadata": {},
   "source": [
    "### 2.4. Display the Cutout Images of Anomalous Sources"
   ]
  },
  {
   "cell_type": "markdown",
   "metadata": {},
   "source": [
    "We now utilize the butler to investigate the cutout images of the anomalous sources."
   ]
  },
  {
   "cell_type": "code",
   "execution_count": null,
   "metadata": {},
   "outputs": [],
   "source": [
    "butler = Butler('dp02', collections='2.2i/runs/DP0.2')"
   ]
  },
  {
   "cell_type": "markdown",
   "metadata": {},
   "source": [
    "Defining function to obtain cutouts"
   ]
  },
  {
   "cell_type": "code",
   "execution_count": null,
   "metadata": {},
   "outputs": [],
   "source": [
    "def cutout_im(butler, ra, dec, datasettype, visit, detector, cutoutsidelength=51, **kwargs):\n",
    "\n",
    "    \"\"\"\n",
    "    Produce a cutout from a calexp at the given ra, dec position.\n",
    "\n",
    "    Adapted from cutout_coadd which was adapted from a DC2 tutorial\n",
    "    notebook by Michael Wood-Vasey.\n",
    "\n",
    "    \"\"\"\n",
    "\n",
    "    dataid = {'visit': visit, 'detector': detector}    \n",
    "    radec = geom.SpherePoint(ra, dec, geom.degrees)\n",
    "    cutoutsize = geom.ExtentI(cutoutsidelength, cutoutsidelength)\n",
    "    wcs = butler.get('%s.wcs' % datasettype, **dataid)\n",
    "    xy = geom.PointI(wcs.skyToPixel(radec))\n",
    "    bbox = geom.BoxI(xy - cutoutsize // 2, cutoutsize)\n",
    "    parameters = {'bbox': bbox}\n",
    "    cutout_image = butler.get(datasettype, parameters=parameters, **dataid)\n",
    "\n",
    "    return cutout_image\n",
    "\n",
    "diff = 'goodSeeingDiff_differenceExp'\n",
    "difftemp = 'goodSeeingDiff_templateExp'\n",
    "calexp = 'calexp'"
   ]
  },
  {
   "cell_type": "markdown",
   "metadata": {},
   "source": [
    "Next, we obtain the diaSources and their properties for a given diaOjbect in our outlier list defined by the index ``anom_ind``. We obtain the diaSource properties for the diaObject with the highest anomaly score (i.e., ``anom_ind`` = 0)."
   ]
  },
  {
   "cell_type": "code",
   "execution_count": null,
   "metadata": {},
   "outputs": [],
   "source": [
    "anom_ind = 0\n",
    "DiaObjID = df['diaObjectId'][idx[anom_ind]]\n",
    "\n",
    "results = service.search(\"SELECT ra, decl, diaObjectId, diaSourceId, psFlux, \"\n",
    "                         \"psFluxErr, filterName, midPointTai, SNR, ccdVisitId, \"\n",
    "                         \"apFlux_flag, centroid_flag, forced_PsfFlux_flag, \"\n",
    "                         \"pixelFlags, isDipole, \"\n",
    "                         \"scisql_nanojanskyToAbMag(psFlux) AS psAbMag \"\n",
    "                         \"FROM dp02_dc2_catalogs.DiaSource \"\n",
    "                         \"WHERE diaObjectId = \"+str(DiaObjID))\n",
    "diasrc = results.to_table()\n",
    "\n",
    "diasrc.sort('midPointTai')\n",
    "del results"
   ]
  },
  {
   "cell_type": "markdown",
   "metadata": {},
   "source": [
    "We will obtain two sets of image cutouts where the measured r-band flux (``psFlux``) is brightest and faintest. To do this, we execute the following cell to identify the indicies in the table of diaSource properties where the r-band flux is brightest and faintest."
   ]
  },
  {
   "cell_type": "code",
   "execution_count": null,
   "metadata": {},
   "outputs": [],
   "source": [
    "ind_mm = {}\n",
    "filt_cond = diasrc['filterName'] == 'r'\n",
    "ind_mm['ind_max'] = np.where(diasrc[filt_cond]['psFlux'] ==\n",
    "                             np.max(diasrc[filt_cond]['psFlux']))[0][0]\n",
    "ind_mm['ind_min'] = np.where(diasrc[filt_cond]['psFlux'] ==\n",
    "                             np.min(diasrc[filt_cond]['psFlux']))[0][0]"
   ]
  },
  {
   "cell_type": "markdown",
   "metadata": {},
   "source": [
    "The following light curve of the DiaObject is overlaid with dashed vertical lines that indicate where the r-band flux is brightest and faintest."
   ]
  },
  {
   "cell_type": "code",
   "execution_count": null,
   "metadata": {},
   "outputs": [],
   "source": [
    "plt.figure(figsize=(6, 4))\n",
    "\n",
    "filters = ['r']\n",
    "mjds = diasrc[anom_ind]['midPointTai']\n",
    "\n",
    "results = service.search(\"SELECT ra, decl, diaObjectId, diaSourceId, \"\n",
    "                                 \"filterName, midPointTai, psFlux \"\n",
    "                                 \"FROM dp02_dc2_catalogs.DiaSource \"\n",
    "                                 \"WHERE diaObjectId = \"+str(df['diaObjectId'][idx[anom_ind]]))\n",
    "results = results.to_table()\n",
    "\n",
    "for f, filt in enumerate(filters):\n",
    "    fx = np.where(results['filterName'] == filt)[0]\n",
    "    plt.plot(results['midPointTai'][fx], results['psFlux'][fx],\n",
    "    plot_filter_symbols[filt], ms=10, mew=0, alpha=0.5, color=plot_filter_colors[filt])\n",
    "\n",
    "del(results)\n",
    "\n",
    "for im_ind in ind_mm:\n",
    "    plt.axvline(x=diasrc[filt_cond][ind_mm[im_ind]]['midPointTai'], ls='--', color='black')\n",
    "    \n",
    "    \n",
    "plt.title(df['diaObjectId'][idx[anom_ind]])\n",
    "plt.xlabel('MJD (days)')\n",
    "plt.ylabel('psFlux (nJy)')\n",
    "\n",
    "plt.tight_layout()\n",
    "plt.show()"
   ]
  },
  {
   "cell_type": "markdown",
   "metadata": {},
   "source": [
    "> Figure 4: r-band light curve of the DiaObject outlier under inspection. Dashed lines indicate the date of maximum and minimum flux."
   ]
  },
  {
   "cell_type": "markdown",
   "metadata": {},
   "source": [
    "We then obtain and display two sets of image cutout triplets that includes the calexp, reference template, and the difference images. \n",
    "\n",
    "The first set shows cutouts from the r-band flux maximum and the second set shows the cutouts from the r-band flux minimum. DiaSource info from each cutout set is provided above the images. \n",
    "\n",
    "The following cell takes around 40 seconds to run."
   ]
  },
  {
   "cell_type": "code",
   "execution_count": null,
   "metadata": {},
   "outputs": [],
   "source": [
    "for im_ind in ind_mm: \n",
    "    ind = np.where(diasrc['filterName'] == 'r')[0][ind_mm[im_ind]]\n",
    "    cutoutsize = 101\n",
    "\n",
    "    ra = diasrc[ind]['ra']\n",
    "    dec = diasrc[ind]['decl']\n",
    "    ccdvisitid = diasrc[ind]['ccdVisitId']\n",
    "    mag = diasrc[ind]['psAbMag']\n",
    "    flux = diasrc[ind]['psFlux']\n",
    "\n",
    "    print('Displaying calexp, difference template, and difference image for diaSource', \n",
    "          diasrc[ind]['diaSourceId'], 'from DiaObjectID', DiaObjID)\n",
    "\n",
    "    visit = str(ccdvisitid)[:-3]\n",
    "    detector = str(ccdvisitid)[-3:]\n",
    "    visit = int(visit)\n",
    "    detector = int(detector)\n",
    "\n",
    "    mjd = diasrc[ind]['midPointTai']\n",
    "    filt = diasrc[ind]['filterName']\n",
    "\n",
    "    print('Visit =', visit, ', Detector = ', detector)\n",
    "\n",
    "    cutout_diff = cutout_im(butler, ra, dec, diff, visit, detector, cutoutsidelength=cutoutsize)\n",
    "    cutout_ref = cutout_im(butler, ra, dec, difftemp, visit, detector, cutoutsidelength=cutoutsize)\n",
    "    cutout_calexp = cutout_im(butler, ra, dec, calexp, visit, detector, cutoutsidelength=cutoutsize)\n",
    "\n",
    "    fig, axs = plt.subplots(nrows=1, ncols=3, figsize=(16, 6))\n",
    "    triplet = [cutout_calexp, cutout_ref, cutout_diff]\n",
    "    titles = ['calexp', 'reference template', 'difference image']\n",
    "    for i, ax in enumerate(axs.flatten()):\n",
    "        plt.sca(ax)\n",
    "        ax.set_xticklabels([])\n",
    "        ax.set_yticklabels([])\n",
    "        ax.set_xticks([])\n",
    "        ax.set_yticks([])\n",
    "        plt.title('%s' % titles[i], fontsize=18)\n",
    "        im_arr = triplet[i].image.array\n",
    "        _, im_arr_med, im_arr_std = sigma_clipped_stats(im_arr)\n",
    "\n",
    "        minstd = -2\n",
    "        maxstd = 8\n",
    "        circle = plt.Circle((cutoutsize/2, cutoutsize/2), 0.5, color='r')\n",
    "        ax.add_patch(circle)\n",
    "        norm = ImageNormalize(im_arr-im_arr_med, vmin=minstd * im_arr_std,\n",
    "                              vmax=maxstd * im_arr_std, stretch=LinearStretch())\n",
    "        plt.imshow(im_arr, origin='lower', norm=norm, cmap='gray')\n",
    "        plt.colorbar(fraction=0.046, pad=0.04)\n",
    "\n",
    "    plt.suptitle('MJD %.2f, Band = %s, psFlux =%.2f nJy, Cutout Size = %.2f arcsec'\n",
    "                 '\\n Flags: apFlux_flag = %s, centroid_flag = %s,'\n",
    "                 '\\n forced_PsfFlux_flag = %s, pixelFlags = %s, isDipole = %s ' \n",
    "                 % (mjd, filt, flux, 0.199918 * cutoutsize, diasrc[ind]['apFlux_flag'],\n",
    "                    diasrc[ind]['centroid_flag'], diasrc[ind]['forced_PsfFlux_flag'],\n",
    "                    diasrc[ind]['pixelFlags'], diasrc[ind]['isDipole']),\n",
    "                 y=1.01, fontsize=22)\n",
    "    plt.show()\n"
   ]
  },
  {
   "cell_type": "markdown",
   "metadata": {},
   "source": [
    "> Figure 5: Cutout of the calexp, reference template, and difference image from the visits where the r-band flux was at (Top) maximum and (Bottom) minimum. "
   ]
  },
  {
   "cell_type": "markdown",
   "metadata": {},
   "source": [
    "The set of cutout images show that the transient indeed appears to be \"real\" and that the associated DiaObject does not arise from an artifact."
   ]
  },
  {
   "cell_type": "markdown",
   "metadata": {},
   "source": [
    "### Sec. 2.5 Identifying the Anomalous DiaObject in the TruthSummary Table\n",
    "\n",
    "Using the ``TruthSummary`` table we can investigate whether or not the anomalous DiaObject from the previous sub-section is an artifact or a transient.\n",
    "\n",
    "We perform a coordinate search of the anomalous DiaObject in the TruthSummary table to identify the source, and we then present the resulting properties of the corresponding source from the TruthSummary table."
   ]
  },
  {
   "cell_type": "code",
   "execution_count": null,
   "metadata": {},
   "outputs": [],
   "source": [
    "ra = df['ra'][idx[anom_ind]]\n",
    "dec = df['decl'][idx[anom_ind]]\n",
    "\n",
    "results = service.search(\"SELECT ts.ra, ts.dec, ts.host_galaxy, \"\n",
    "                         \"ts.is_pointsource, ts.is_variable, ts.truth_type \"\n",
    "                         \"FROM dp02_dc2_catalogs.TruthSummary AS ts \"\n",
    "                         \"WHERE CONTAINS(POINT('ICRS', ts.ra, ts.dec), \"\n",
    "                         \"CIRCLE('ICRS',\" + str(ra) + \", \"\n",
    "                         + str(dec) + \", 0.00014)) = 1 \", maxrec=100000)\n",
    "SrcTruth = results.to_table()\n",
    "SrcTruth"
   ]
  },
  {
   "cell_type": "markdown",
   "metadata": {},
   "source": [
    "The ``truth_type`` = 3, which indicates the source is indeed a supernova (See Table B.2. from the \n",
    " <a href=\"https://arxiv.org/pdf/2101.04855\">DESC DC2 Release Note</a>)"
   ]
  },
  {
   "cell_type": "markdown",
   "metadata": {},
   "source": [
    "# 3. Exercises for the learner"
   ]
  },
  {
   "cell_type": "markdown",
   "metadata": {},
   "source": [
    "**1. Incorporate different DiaObject properties and filter bands in the Isolation Forest fit (Sec. 2.1) and investigate how that affects the resulting anomalies.**\n",
    "\n",
    "**2. Try testing other astro-specific implementations of the Isolation Forest fitting (e.g., https://coniferest.readthedocs.io/en/latest/index.html)**"
   ]
  },
  {
   "cell_type": "code",
   "execution_count": null,
   "metadata": {},
   "outputs": [],
   "source": []
  }
 ],
 "metadata": {
  "kernelspec": {
   "display_name": "LSST",
   "language": "python",
   "name": "lsst"
  },
  "language_info": {
   "codemirror_mode": {
    "name": "ipython",
    "version": 3
   },
   "file_extension": ".py",
   "mimetype": "text/x-python",
   "name": "python",
   "nbconvert_exporter": "python",
   "pygments_lexer": "ipython3",
   "version": "3.11.9"
  }
 },
 "nbformat": 4,
 "nbformat_minor": 4
}
