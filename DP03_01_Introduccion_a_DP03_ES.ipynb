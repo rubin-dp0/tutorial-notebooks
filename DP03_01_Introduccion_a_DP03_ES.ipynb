{
 "cells": [
  {
   "cell_type": "markdown",
   "id": "bc27f992-6cfd-4c2c-bb8b-5c8a7515f0db",
   "metadata": {},
   "source": [
    "<img align=\"left\" src = https://project.lsst.org/sites/default/files/Rubin-O-Logo_0.png width=250 style=\"padding: 10px\"> \n",
    "<br><b>Introducción a DP0.3</b> <br>\n",
    "Autoría: Bob Abel, Douglas Tucker y Melissa Graham<br>\n",
    "Última verificación de ejecución: 2024-09-16 <br>\n",
    "Versión de las Pipelines Científicas de LSST: Weekly 2024-37 <br>\n",
    "Tamaño del contenedor (Container size): medium <br>\n",
    "Nivel de aprendizaje: principiante<br>"
   ]
  },
  {
   "cell_type": "markdown",
   "id": "e57b4248-cf79-4945-956b-3186f3cc41c2",
   "metadata": {},
   "source": [
    "**Descripción:** una vista general del contenido de los catálogos de objetos en movimiento de DP0.3."
   ]
  },
  {
   "cell_type": "markdown",
   "id": "d9fd4286-3bff-4345-affa-0d8e519b8d50",
   "metadata": {},
   "source": [
    "**Habilidades:** utilizar el servicio TAP y ADQL para acceder a las tablas de DP0.3."
   ]
  },
  {
   "cell_type": "markdown",
   "id": "7e79e389-8abf-4dff-b503-55c0383084d1",
   "metadata": {},
   "source": [
    "**Productos de Datos LSST:** TAP dp03_catalogs."
   ]
  },
  {
   "cell_type": "markdown",
   "id": "07aae406-2b73-4995-a1c8-fc833a24cee2",
   "metadata": {},
   "source": [
    "**Paquetes:** `lsst.rsp.get_tap_service`"
   ]
  },
  {
   "cell_type": "markdown",
   "id": "8740f32b-3d92-4c10-8d88-46e600a63a96",
   "metadata": {},
   "source": [
    "**Créditos:** el conjunto de datos DP0.3 fue generado por miembros de los equipos de Pipelines del Sistema Solar y Puesta a Punto de Rubin --Rubin Solar System Pipelines and Commissioning teams-- con ayuda del grupo de la Colaboración Científica del Sistema Solar de LSST --LSST Solar System Science Collaboration--, en particular: Pedro Bernardinelli, Jake Kurlander, Joachim Moeyens, Samuel Cornwall, Ari Heinze, Steph Merritt, Lynne Jones, Siegfried Eggl, Meg Schwamb y Mario Jurić.\n",
    "\n",
    "Mario Jurić brindó asistencia esencial en la etapa inicial de la creación de este notebook. Quienes construyeron este notebook además reconocen la ayuda de Leanne Guy, Pedro Bernardinelli, Sarah Greenstreet, Megan Schwamb, Brian Rogers, Niall McElroy y Jake Vanderplass, entre otras personas."
   ]
  },
  {
   "cell_type": "markdown",
   "id": "e7b54235-6bab-4626-a603-13c15a3c93b6",
   "metadata": {},
   "source": [
    "**Soporte:**\n",
    "se pueden encontrar recursos y documentación relacionados con DP0 en <a href=\"https://dp0.lsst.io\">dp0.lsst.io</a>. Las preguntas son bienvenidas como nuevos temas en la categoría <a href=\"https://community.lsst.org/c/support/dp0\">Support - Data Preview 0</a> del foro de la comunidad de Rubin. El equipo de Rubin responderá a todas las preguntas publicadas allí."
   ]
  },
  {
   "cell_type": "markdown",
   "id": "c84499ca-08c3-47a6-b1cc-6e289ec42fdf",
   "metadata": {},
   "source": [
    "## 1. Introducción\n",
    "\n",
    "Este notebook muestra cómo acceder al conjunto de datos simulado de Vista Previa de Datos 0.3 (DP0.3 --Data Preview 0.3) en la Plataforma Científica de Rubin (RSP - Rubin Science Platform).\n",
    "\n",
    "Para la simulación DP0.3, sólo se simularon objetos en movimiento y sólo fueron creados los cátalogos (no hay imágenes).\n",
    "La simulación DP0.3 es *enteramente independiente y separada de* la simulación DP0.2.\n",
    "\n",
    "DP0.3 es un catálogo híbrido que contiene objetos del Sistema Solar tanto reales como simulados (asteroides, objetos próximos a la Tierra, Troyanos, objetos transneptunianos, cometas e incluso una nave espacial simulada... pero ningún planeta principal ni la Luna).\n",
    "Ver la <a href=\"https://dp0-3.lsst.io\"> documentación de DP0.3</a> para más información acerca de cómo fue creado el catálogo híbrido.\n",
    "\n",
    "En las Operaciones de Rubin --Rubin Operations--, estas tablas estarían cambiando constantemente, siendo actualizadas todos los días con los resultados de\n",
    "las observaciones de la noche anterior.\n",
    "Sin embargo, para DP0.3, se han simulado tanto un catálogo estático de 1 año como un catálogo estático de 10 años.\n",
    "\n",
    "> **Aviso:** para reiterar, en DP0.3, hay tablas disponibles tanto para catálogos de 1 año como para catálogos de 10 años. Sin embargo, durante el resto de este notebook, a menos que se indique lo contrario, sólo consideraremos las tablas del catálogo de 10 años. Se recomienda explorar las tablas de los catálogos de 1 año por cuenta propia."
   ]
  },
  {
   "cell_type": "markdown",
   "id": "1fdd57af-83de-464a-863f-f0886a70d989",
   "metadata": {},
   "source": [
    "### 1.1. Importación de paquetes\n",
    "\n",
    "Importar paquetes generales de python y las utilidades del servicio TAP de Rubin."
   ]
  },
  {
   "cell_type": "code",
   "execution_count": null,
   "id": "dab33fdd-8ff9-4f8f-b027-77ba5368de5d",
   "metadata": {
    "tags": []
   },
   "outputs": [],
   "source": [
    "import numpy as np\n",
    "import matplotlib.pyplot as plt\n",
    "from matplotlib import colormaps\n",
    "import pandas as pd\n",
    "from lsst.rsp import get_tap_service"
   ]
  },
  {
   "cell_type": "markdown",
   "id": "0484b1ba-eafd-465a-8691-5c1ba3bcc208",
   "metadata": {},
   "source": [
    "## 2. Crear el cliente del servicio SSO TAP de Rubin\n",
    "\n",
    "El conjunto de datos DP0.3 está disponible mediante el servicio de protocolo de acceso a datos tabulados (TAP --Table Access Protocol)\n",
    "y puede ser accedido mediante sentencias ADQL (Astronomical Data Query Language --Lenguaje de consulta de datos astronómicos).\n",
    "\n",
    "TAP provee un acceso estandarizado a los datos de catálogos para exploración, búsqueda y acceso. \n",
    "La <a href=\"http://www.ivoa.net/documents/TAP\">documentación completa de TAP</a> es provista por la Alianza Internacional de Observatorios Virtuales (IVOA --International Virtual Observatory Alliance). \n",
    "ADQL es similar a SQL (Structured Query Language --lenguaje de consulta estructurado).\n",
    "La <a href=\"http://www.ivoa.net/documents/latest/ADQL.html\">documentación de ADQL</a> incluye más información sobre sintaxis y palabras clave.\n",
    "\n",
    "Obtener una instancia del servicio SSO TAP, y corroborar que éste exista.\n",
    "\n",
    "> **Aviso:** el servicio TAP de DP0.3 se llama `ssotap` (mientras que `tap` se utiliza para DP0.2)."
   ]
  },
  {
   "cell_type": "code",
   "execution_count": null,
   "id": "a8daf49b-a897-479b-9524-f816bea54733",
   "metadata": {
    "tags": []
   },
   "outputs": [],
   "source": [
    "service = get_tap_service(\"ssotap\")\n",
    "assert service is not None"
   ]
  },
  {
   "cell_type": "markdown",
   "id": "d49c768a-e8c5-44a6-bde1-bfa456ac7f98",
   "metadata": {},
   "source": [
    "### 2.1. ¿Qué esquemas de `ssotap` están disponibles?\n",
    "\n",
    "Crear una consulta ADQL para seleccionar todos (\\*) los esquemas disponibles, y usar el servicio TAP para ejecutar la consulta.\n",
    "\n",
    "Usar `to_table` para convertir a una tabla `astropy`, la cual visualizará los resultados de manera amigable."
   ]
  },
  {
   "cell_type": "code",
   "execution_count": null,
   "id": "d62ab2ef-05df-4024-b514-dc02e4379041",
   "metadata": {
    "tags": []
   },
   "outputs": [],
   "source": [
    "query = \"SELECT * FROM tap_schema.schemas\"\n",
    "results = service.search(query).to_table()\n",
    "results"
   ]
  },
  {
   "cell_type": "markdown",
   "id": "e56f59e6-28d7-49f9-9030-118f43bbf5ad",
   "metadata": {},
   "source": [
    "### 2.2 ¿Qué tablas de DP0.3 están disponibles?"
   ]
  },
  {
   "cell_type": "markdown",
   "id": "16dbae17-6f9d-4356-941c-3e20498bc804",
   "metadata": {},
   "source": [
    "Hay cuatro tablas para la simulación de 1 año y la de 10 años:\n",
    "`MPCORB`, `SSObject`, `SSSource` y `DiaSource`.\n",
    "\n",
    "Se podrán encontrar las descripciones de las tablas y sus esquemas, más\n",
    "información y consejos sobre acceso y consulta de las tablas de DP0.3 \n",
    "(incluyendo qué columnas están <a href=\"https://dp0-3.lsst.io/data-products-dp0-3/table-access-and-queries.html#unpopulated-columns\">actualmente vacías</a>),\n",
    "en la <a href=\"https://dp0-3.lsst.io/data-products-dp0-3/index.html#dp0-3-data-products-definition-document-dpdd\">documentación de las definiciones de los productos de datos de DP0.3</a>.\n",
    "\n",
    "Este tutorial explorará las tablas individualmente, y la combinación de tablas \n",
    "será mostrada en un tutorial futuro (ver también <a href=\"https://dp0-3.lsst.io/data-products-dp0-3/table-access-and-queries.html#table-joins\">este consejo sobre combinaciones de tablas en DP0.3</a>).\n",
    "\n",
    "Seleccionar todas las tablas disponibles y mostrar información acerca de ellas."
   ]
  },
  {
   "cell_type": "code",
   "execution_count": null,
   "id": "79bbde6a-bd68-4de8-a02d-2160dfae6bc4",
   "metadata": {
    "tags": []
   },
   "outputs": [],
   "source": [
    "query = \"SELECT * FROM tap_schema.tables \" \\\n",
    "        \"WHERE tap_schema.tables.schema_name LIKE 'dp03_catalogs%' \" \\\n",
    "        \"ORDER BY table_index ASC\"\n",
    "results = service.search(query).to_table()\n",
    "results"
   ]
  },
  {
   "cell_type": "markdown",
   "id": "e7302673-cab0-4003-a3dd-d22b1a77a97b",
   "metadata": {},
   "source": [
    "## 3. La tabla `MPCORB`\n",
    "\n",
    "Durante las Operaciones de Rubin, el Procesamiento del Sistema Solar ocurrirá durante el día, después de una noche de observación.\n",
    "Asociará las detecciones de objetos en movimiento en imágenes diferenciales y reportará los descubrimientos\n",
    "al <a href=\"https://minorplanetcenter.net\">Centro de Planetas Menores</a> (MPC --Minor Planet Center),\n",
    "como así también computará las propiedades derivadas (magnitudes, ajustes de curvas de fase, coordenadas en varios sistemas).\n",
    "\n",
    "El MPC calculará los parámetros orbitales y esos resultados se enviarán de vuelta a Rubin, y serán almacenados\n",
    "y puestos a disposición a la comunidad usuaria como la tabla `MPCORB`\n",
    "(las otras propiedades derivadas son almacenadas en las otras tres tablas exploradas abajo).\n",
    "La tabla `MPCORB` de DP0.3 es una simulación de cómo será este producto de datos después de 10 años de LSST. \n",
    "\n",
    "> **Aviso:** el MPC contiene todos los objetos en movimiento reportados en el Sistema Solar, y no se limita a aquellos detectados por LSST. De esta manera, la tabla `MPCORB` tendrá más filas que la tabla `SSObject`.\n",
    "\n",
    "> **Aviso:** para DP0.3, el MPC no realizó ajustes y la tabla MPCORB contiene los elementos orbitales usados en la simulación (la tabla `MPCORB` es una tabla con valores de verdad).\n",
    "\n",
    "Para más información acerca de los planes de Rubin para el Procesamiento del Sistema Solar, ver la Sección 3.2.2 del\n",
    "<a href=\"https://docushare.lsstcorp.org/docushare/dsweb/Get/LSE-163/LSE-163_DataProductsDefinitionDocumentDPDD.pdf\">Documento de Definición de Productos de Datos</a> (Data Products Definitions Document, DPDD).\n",
    "Es importante tener en cuenta que todavía existen diferencias entre la Tabla 4 del DPDD, que contiene el esquema anticipado para las tablas de\n",
    "objetos en movimiento, y los esquemas de tablas de DP0.3."
   ]
  },
  {
   "cell_type": "markdown",
   "id": "cd15dac9-45bf-4a0f-9f32-5d31bb48a4d5",
   "metadata": {},
   "source": [
    "### 3.1. Tamaño\n",
    "\n",
    "Usar el servicio TAP para contar el número de filas en la tabla `MPCORB`."
   ]
  },
  {
   "cell_type": "code",
   "execution_count": null,
   "id": "e965cf06-6e16-4117-a29b-97a6a8577fb2",
   "metadata": {
    "tags": []
   },
   "outputs": [],
   "source": [
    "results = service.search(\"SELECT COUNT(*) FROM dp03_catalogs_10yr.MPCORB\")\n",
    "results.to_table()"
   ]
  },
  {
   "cell_type": "markdown",
   "id": "1dfddcd0-0a73-4f41-9324-2fc590bb0fbf",
   "metadata": {},
   "source": [
    "Hay 14.5 millones de filas en la tabla `MPCORB`."
   ]
  },
  {
   "cell_type": "markdown",
   "id": "69152b41-0c0c-435c-884f-553ca4a682db",
   "metadata": {},
   "source": [
    "### 3.2. Columnas\n",
    "\n",
    "Usar el servicio TAP para consultar sobre información de las columnas de `MPCORB`.\n",
    "\n",
    "Imprimir los resultados como una tabla de `pandas`."
   ]
  },
  {
   "cell_type": "code",
   "execution_count": null,
   "id": "d24359a4-6f1a-433b-84cf-b9184f4f673f",
   "metadata": {
    "tags": []
   },
   "outputs": [],
   "source": [
    "results = service.search(\"SELECT column_name, datatype, description, \"\n",
    "                         \"       unit from TAP_SCHEMA.columns \"\n",
    "                         \"WHERE table_name = 'dp03_catalogs_10yr.MPCORB'\")\n",
    "results.to_table().to_pandas()"
   ]
  },
  {
   "cell_type": "markdown",
   "id": "06e52c7d-3e45-4f21-bddd-1b7e7d879e21",
   "metadata": {},
   "source": [
    "En algunos casos, las descripciones de las columnas se cortan en la tabla anterior. \n",
    "\n",
    "Ejecutar lo siguiente para ver, por ejemplo, la descripción completa para la columna `mpcDesignation`."
   ]
  },
  {
   "cell_type": "code",
   "execution_count": null,
   "id": "7743b75b-9c91-4756-892e-741e15bd3cef",
   "metadata": {
    "tags": []
   },
   "outputs": [],
   "source": [
    "results['description'][10]"
   ]
  },
  {
   "cell_type": "markdown",
   "id": "50c4dcdf-9e70-4c56-aa2b-15c7bc6feb65",
   "metadata": {},
   "source": [
    "### 3.3. Obtener un subconjunto al azar\n",
    "\n",
    "Para obtener un subconjunto de filas al azar, hacer uso del hecho de que `ssObjectId` es un entero sin signo de tipo long unsigned integer de 64-bits asignado aleatoriamente.\n",
    "Ya que ADQL interpreta al tipo long unsigned integer de 64-bits como un entero _con signo_ de 63-bits,\n",
    "estos varían desde un valor entero negativo muy grande hasta un valor entero positivo muy grande.\n",
    "Esto será arreglado en el futuro para que todos los identificadores sean números positivos. \n",
    "\n",
    "> **Aviso:** por el uso de `ssObjectId`, la siguiente consulta devuelve un subconjunto de filas al azar de `MPCORB` *que están asociadas con una fila en la tabla `SSObject`*. En otras palabras, esto limita la consulta a sólo obtener objetos en movimiento desde la tabla `MPCORB` que han sido detectados por LSST.\n",
    "\n",
    "Primero, averiguar el rango completo de los valores de `ssObjectId` usando las funciones `MIN` y `MAX` de ADQL."
   ]
  },
  {
   "cell_type": "code",
   "execution_count": null,
   "id": "daf15ffa-ac64-497b-8a08-2df29570fa36",
   "metadata": {
    "tags": []
   },
   "outputs": [],
   "source": [
    "results = service.search(\"SELECT min(ssObjectId), max(ssObjectId)\"\n",
    "                         \"FROM dp03_catalogs_10yr.MPCORB\")\n",
    "results.to_table()"
   ]
  },
  {
   "cell_type": "markdown",
   "id": "086af243-a5fe-4bc3-b7d9-57595cb0c637",
   "metadata": {},
   "source": [
    "Definir un rango de búsqueda para `ssObjectId` que devuelva no más del 1% de todos los objetos en `MPCORB`. Esto lo haremos estimando un nuevo mínimo `ssObjectId` que esté 1% *por debajo* del máximo `ssObjectId` para todo el rango de los valores de `ssObjectId`.\n",
    "\n",
    "> **Aviso:** ya que el *rango* de `ssObjectId` (-9223370383071521539 --> +9223370875126069107) es mucho más grande que el número de *filas* en la tabla `MPCORB` (14600302), no esperamos obtener con este método *exactamente* el 1% de las filas de `MPCORB`, pero deberíamos obtener aproximadamente el 1%, siempre y cuando los valores de `ssObjectId` estén distribuidos de manera razonablemente uniforme sobre su extenso rango."
   ]
  },
  {
   "cell_type": "code",
   "execution_count": null,
   "id": "ad841f2b-80da-4ff4-9b2e-b56473cb6fee",
   "metadata": {
    "tags": []
   },
   "outputs": [],
   "source": [
    "min_val = int(results[0].get('min1'))\n",
    "max_val = int(results[0].get('max2'))\n",
    "print('Rango completo: ', min_val, max_val)\n",
    "\n",
    "min_val = int(max_val - 0.01*(max_val-min_val))\n",
    "print('Rango de búsqueda: ', min_val, max_val)"
   ]
  },
  {
   "cell_type": "markdown",
   "id": "6ab5d7bb-6c76-4a06-9086-d6d92d458ce3",
   "metadata": {
    "execution": {
     "iopub.execute_input": "2023-06-27T22:39:44.565969Z",
     "iopub.status.busy": "2023-06-27T22:39:44.565076Z",
     "iopub.status.idle": "2023-06-27T22:39:44.570822Z",
     "shell.execute_reply": "2023-06-27T22:39:44.569984Z",
     "shell.execute_reply.started": "2023-06-27T22:39:44.565938Z"
    },
    "tags": []
   },
   "source": [
    "Ejecutar la busqueda y obtener todas (\\*) las columnas de la tabla `MPCORB`.\n",
    "\n",
    "Guardar los resultados en `df` como un marco de datos de `pandas` (_dataframe_)."
   ]
  },
  {
   "cell_type": "code",
   "execution_count": null,
   "id": "21fc62cd-b749-46fa-8739-f5ba90c36d83",
   "metadata": {
    "tags": []
   },
   "outputs": [],
   "source": [
    "results = service.search(\"SELECT * FROM dp03_catalogs_10yr.MPCORB \"\n",
    "                         \"WHERE ssObjectId BETWEEN 9038903462544093184 \"\n",
    "                         \"AND 9223370875126069107\")\n",
    "df = results.to_table().to_pandas()"
   ]
  },
  {
   "cell_type": "markdown",
   "id": "0e2fb6d0-dddf-4c35-aa1d-561f7fcf29a8",
   "metadata": {},
   "source": [
    "Mostrar el dataframe resultante. Notar que es truncado automáticamente tanto en las columnas como en las filas\n",
    "(busca los \"...\" a mitad de camino hacia abajo y a mitad de camino a través de la tabla)."
   ]
  },
  {
   "cell_type": "code",
   "execution_count": null,
   "id": "6cdda7dc-977e-46f1-84ad-aad3b7ab087f",
   "metadata": {
    "tags": []
   },
   "outputs": [],
   "source": [
    "df"
   ]
  },
  {
   "cell_type": "markdown",
   "id": "528bd445-2510-4fbd-985e-f33c91f3e47f",
   "metadata": {},
   "source": [
    "Como se puede ver, se obtuvieron 144,472 filas, las cuales -- _como se esperaba_ -- son casi (pero no exactamente) el 1% de las 14,462,388 filas en la tabla `MPCORB`.\n",
    "\n",
    "> **Aviso:** hay numerosas columnas que actualmente contienen valores `NaN` (not a number -- no es un número).\n",
    "> Para los datos simulados de DP0.3 estas columnas podrían ser reemplazadas en el futuro cercano\n",
    "> y para las divulgaciones de datos reales no habrá ninguna columna con todos sus valores en `NaN`.\n",
    "> Si se desea, se pueden quitar todas las columnas con `NaN` haciendo, e.g. `df.dropna(axis=1, how='all', inplace=True)`.\n",
    "> De todas formas, la mejor práctica es entender las columnas y obtener sólo lo que se vaya a utilizar."
   ]
  },
  {
   "cell_type": "markdown",
   "id": "aaa28cea-3137-4a8a-a5a1-756a4943ddbb",
   "metadata": {
    "execution": {
     "iopub.execute_input": "2023-06-27T22:42:58.606568Z",
     "iopub.status.busy": "2023-06-27T22:42:58.605621Z",
     "iopub.status.idle": "2023-06-27T22:42:58.612817Z",
     "shell.execute_reply": "2023-06-27T22:42:58.611762Z",
     "shell.execute_reply.started": "2023-06-27T22:42:58.606523Z"
    },
    "tags": []
   },
   "source": [
    "**Opcional:** usar la función `info` del dataframe de `pandas` para aprender más acerca de los valores en las columnas obtenidas.\n",
    "Descomentar la siguiente celda de código (eliminar el símbolo #) y ejecutar la celda para ver la información sobre `df`."
   ]
  },
  {
   "cell_type": "code",
   "execution_count": null,
   "id": "1752b220-1916-440b-8c3e-616c4e0623f7",
   "metadata": {
    "tags": []
   },
   "outputs": [],
   "source": [
    "# df.info()"
   ]
  },
  {
   "cell_type": "markdown",
   "id": "b4a18142-d555-4cba-a499-b80902ba4a2e",
   "metadata": {},
   "source": [
    "**Opcional:** usar la función `describe` de `pandas` para mostrar estadísticas de las \n",
    "columnas numéricas en el dataframe (conteo, media, desviación estándar, etc.)."
   ]
  },
  {
   "cell_type": "code",
   "execution_count": null,
   "id": "0cdf2982-1cc2-476c-a14b-9ba9d3561fb2",
   "metadata": {
    "tags": []
   },
   "outputs": [],
   "source": [
    "# df.describe()"
   ]
  },
  {
   "cell_type": "markdown",
   "id": "9721c47c-6302-4e0c-8d38-3825ff86266c",
   "metadata": {},
   "source": [
    "### 3.4. Graficar histogramas de columnas seleccionadas\n",
    "\n",
    "Wikipedia provee una guía adecuada de <a href=\"https://es.wikipedia.org/wiki/Elementos_orbitales\">elementos orbitales para principiantes</a>.\n",
    "\n",
    "Para una referencia rápida, abajo se muestran distribuciones para cinco elementos orbitales clave\n",
    "y la magnitud absoluta $H$ (ver la Sección 4.4 para una descripción de $H$)."
   ]
  },
  {
   "cell_type": "code",
   "execution_count": null,
   "id": "478cba37-0c97-4132-83e5-6bde2083b6bc",
   "metadata": {
    "tags": []
   },
   "outputs": [],
   "source": [
    "fig, ax = plt.subplots(2, 3, figsize=(10, 6), sharey=False)\n",
    "ax[0, 0].hist(df['e'], bins=100, log=True)\n",
    "ax[0, 0].set_xlabel('Excentricidad')\n",
    "ax[0, 0].set_ylabel('log(Número)')\n",
    "ax[0, 1].hist(df['incl'], bins=100, log=True)\n",
    "ax[0, 1].set_xlabel('Inclinación (deg)')\n",
    "ax[0, 1].set_ylabel('log(Número)')\n",
    "ax[0, 2].hist(df['mpcH'], bins=100, log=True)\n",
    "ax[0, 2].set_xlabel('Magnitud Absoluta, H (mag)')\n",
    "ax[0, 2].set_ylabel('log(Número)')\n",
    "ax[1, 0].hist(df['node'], bins=50)\n",
    "ax[1, 0].set_xlabel('Longitud del Nodo Ascendente (deg)')\n",
    "ax[1, 0].set_ylabel('Número')\n",
    "ax[1, 0].set_ylim(0,3500)\n",
    "ax[1, 1].hist(df['peri'], bins=50)\n",
    "ax[1, 1].set_xlabel('Argumento del Perihelio (deg)')\n",
    "ax[1, 1].set_ylabel('Número')\n",
    "ax[1, 1].set_ylim(0,3500)\n",
    "ax[1, 2].hist(df['q'], bins=100, log=True)\n",
    "ax[1, 2].set_xlabel('Distancia al Perihelio (au)')\n",
    "ax[1, 2].set_ylabel('log(Número)')\n",
    "fig.suptitle('Histogramas de Elementos Orbitales Clave')\n",
    "fig.tight_layout()\n",
    "plt.show()"
   ]
  },
  {
   "cell_type": "markdown",
   "id": "463704a9-dc73-4f7c-abfd-43b2f9731539",
   "metadata": {
    "execution": {
     "iopub.execute_input": "2023-06-17T15:47:28.771164Z",
     "iopub.status.busy": "2023-06-17T15:47:28.770077Z",
     "iopub.status.idle": "2023-06-17T15:47:28.774678Z",
     "shell.execute_reply": "2023-06-17T15:47:28.773860Z",
     "shell.execute_reply.started": "2023-06-17T15:47:28.771122Z"
    },
    "tags": []
   },
   "source": [
    "## 4. La tabla `SSObject`\n",
    "\n",
    "Durante las Operaciones de Rubin, el Procesamiento de Datos Inmediatos (Prompt Processing) se realizará durante la noche, detectando fuentes en imágenes diferenciales (a las cuales llamaremos DIASources --fuentes resultantes del Análisis de Imágenes Diferenciales o fuentes DIA--, ver Sección 6, tabla `DiaSource`) y asociándolas a transitorios y variables estáticos en el cielo (llamados DIAObjects de la tabla `DIAObject`, no incluidos en DP0.3).\n",
    "\n",
    "El Procesamiento del Sistema Solar que ocurre durante el día, luego de una noche de observación,\n",
    "vincula las detecciones de objetos en movimiento `DiaSource` con objetos `SSObject` (Objeto del Sistema Solar).\n",
    "Mientras que la tabla `MPCORB` contiene los elementos orbitales para esos objetos en movimiento,\n",
    "los objetos de `SSObject` contienen las propiedades medidas por Rubin como ajustes de curvas de fase y magnitudes absolutas.\n",
    "\n",
    "> **Aviso:** no se inyectaron artefactos ni fuentes de imágenes diferenciales espurias en los catálogos de DP0.3.\n",
    "\n",
    "> **Aviso:** aunque hay columnas para ellas, no se simularon datos para las bandas _u_ o _Y_ en DP0.3. A menos que se indique lo contrario, ignoraremos los datos de las bandas _u_ o _Y_ para el resto de este notebook.\n",
    "\n",
    "\n",
    "### 4.1. Tamaño\n",
    "\n",
    "Usar la función de conteo de ADQL para devolver el tamaño."
   ]
  },
  {
   "cell_type": "code",
   "execution_count": null,
   "id": "cd943cfe-7c32-49da-b2eb-af12cf3b78b2",
   "metadata": {
    "tags": []
   },
   "outputs": [],
   "source": [
    "results = service.search(\"SELECT COUNT(*) from dp03_catalogs_10yr.SSObject\")\n",
    "results.to_table().to_pandas()"
   ]
  },
  {
   "cell_type": "markdown",
   "id": "56f8dad2-5f9a-4393-960c-f652440ed3b1",
   "metadata": {},
   "source": [
    "El conjunto de datos DP0.3 contiene 4.4 millones de objetos del sistema solar detectados por Rubin.\n",
    "\n",
    "Esto es menos que los 14.5 millones de objetos en el catálogo `MPCORB`.\n",
    "Se deja como ejercicio en la Sección 7 determinar las características de\n",
    "esos objetos de la tabla `MPCORB` que faltan en la tabla `SSObject`."
   ]
  },
  {
   "cell_type": "markdown",
   "id": "cb8901f4-f8d2-43a1-b2c4-cc020a31a30f",
   "metadata": {},
   "source": [
    "### 4.2. Columnas\n",
    "\n",
    "**Opcional:** mostrar una lista de nombres de columnas, tipos de datos, descripciones y unidades."
   ]
  },
  {
   "cell_type": "code",
   "execution_count": null,
   "id": "19816767-ea9b-4b23-a38d-c16a05450604",
   "metadata": {
    "tags": []
   },
   "outputs": [],
   "source": [
    "# results = service.search(\"SELECT column_name, datatype, description, \"\n",
    "#                          \"unit from TAP_SCHEMA.columns \"\n",
    "#                          \"WHERE table_name = 'dp03_catalogs_10yr.SSObject'\")\n",
    "# results.to_table().to_pandas()"
   ]
  },
  {
   "cell_type": "markdown",
   "id": "e4c7043b-4fc4-4c46-a819-9c3bdfed379a",
   "metadata": {},
   "source": [
    "### 4.3. Obtener un subconjunto al azar\n",
    "\n",
    "Usar básicamente la misma consulta que se utilizo para la tabla `MPCORB`, arriba."
   ]
  },
  {
   "cell_type": "code",
   "execution_count": null,
   "id": "c78509c8-bb10-4fce-9921-18fe19101e72",
   "metadata": {
    "tags": []
   },
   "outputs": [],
   "source": [
    "results = service.search(\"SELECT * FROM dp03_catalogs_10yr.ssObject \"\n",
    "                         \"WHERE ssObjectId BETWEEN 9038903462544093184 \"\n",
    "                         \"AND 9223370875126069107\")\n",
    "df = results.to_table().to_pandas()"
   ]
  },
  {
   "cell_type": "code",
   "execution_count": null,
   "id": "a1a152e1-50c3-49f6-9739-a375b422b805",
   "metadata": {
    "tags": []
   },
   "outputs": [],
   "source": [
    "df"
   ]
  },
  {
   "cell_type": "markdown",
   "id": "4cd4af29-a072-4361-b65b-5979d4812783",
   "metadata": {
    "execution": {
     "iopub.execute_input": "2023-06-27T21:51:31.545543Z",
     "iopub.status.busy": "2023-06-27T21:51:31.545077Z",
     "iopub.status.idle": "2023-06-27T21:51:31.549274Z",
     "shell.execute_reply": "2023-06-27T21:51:31.548724Z",
     "shell.execute_reply.started": "2023-06-27T21:51:31.545521Z"
    },
    "tags": []
   },
   "source": [
    "Hay 44611 filas."
   ]
  },
  {
   "cell_type": "markdown",
   "id": "5c1b56c6-5874-4f5c-a7cd-d0a6daa69a84",
   "metadata": {},
   "source": [
    "**Opcional:** usar las funciones `info` o `describe` sobre el dataframe de `pandas` para aprender más sobre los resultados obtenidos."
   ]
  },
  {
   "cell_type": "code",
   "execution_count": null,
   "id": "aeeb504b-3ae8-4483-ac8a-809ab113e213",
   "metadata": {
    "tags": []
   },
   "outputs": [],
   "source": [
    "# df.info()"
   ]
  },
  {
   "cell_type": "code",
   "execution_count": null,
   "id": "d8571bad-0431-4040-a083-cab4364a7927",
   "metadata": {
    "tags": []
   },
   "outputs": [],
   "source": [
    "# df.describe()"
   ]
  },
  {
   "cell_type": "markdown",
   "id": "f5c93746-8820-4dc1-8102-4d67b393b542",
   "metadata": {},
   "source": [
    "### 4.4. Graficar un diagrama color-color\n",
    "\n",
    "En el dataframe mostrado arriba, pareciera que para varios objetos de `SSObject` los ajustes de las curvas de fase para obtener magnitudes absolutas no fueron exitosos, ya que las columnas `<banda>_H` (donde `<banda>` es una banda u, g, r, i, z o y) tienen valores `NaN`. (Recordar en particular que no se simularon datos para las bandas _u_ o _y_ en DP0.3).\n",
    "\n",
    "Antes de calcular y graficar los colores, quitar todas las filas para las cuales los ajustes de las curvas de fase no fueron exitosos para las bandas _g_, _r_, _i_, y/o _z_."
   ]
  },
  {
   "cell_type": "code",
   "execution_count": null,
   "id": "937fb5ee-ef7b-4ef3-98ea-8d7237fe2a95",
   "metadata": {
    "tags": []
   },
   "outputs": [],
   "source": [
    "df.dropna(subset=['g_H', 'r_H', 'i_H', 'z_H'], inplace=True)\n",
    "df.reset_index(inplace=True)\n",
    "print('Número de filas después de eliminar filas: %d' % len(df))"
   ]
  },
  {
   "cell_type": "markdown",
   "id": "00180672-d7d6-40df-9d85-c51bb298dce6",
   "metadata": {},
   "source": [
    "Para objetos del Sistema Solar, las magnitudes absolutas se definen como la magnitud de un objeto a 1 ua del Sol y a 1 ua\n",
    "del observador, y en un ángulo de fase (el ángulo Sol-objeto-Tierra) de 0 grados.\n",
    "\n",
    "Las magnitudes absolutas se obtienen corrigiendo por distancia, ajustando una función a la relación entre\n",
    "la magnitud absoluta y la fase y evaluando la función en una fase de 0 grados.\n",
    "\n",
    "El proceso de ajuste de las curvas de fase será abordado en otro tutorial.\n",
    "\n",
    "Calcular los colores en los filtros de Rubin para los objetos `SSObject` que tienen magnitudes absolutas."
   ]
  },
  {
   "cell_type": "code",
   "execution_count": null,
   "id": "16eeddc9-f0dc-470c-ab96-252b4cfc66f6",
   "metadata": {
    "tags": []
   },
   "outputs": [],
   "source": [
    "df['gr'] = df['g_H'] - df['r_H']\n",
    "df['ri'] = df['r_H'] - df['i_H']\n",
    "df['iz'] = df['i_H'] - df['z_H']"
   ]
  },
  {
   "cell_type": "markdown",
   "id": "8296082b-a528-4abd-92ce-52707da8ccc4",
   "metadata": {},
   "source": [
    "Graficar diagramas color-color como histogramas bi-dimensionales (mapas de calor -- heatmaps)."
   ]
  },
  {
   "cell_type": "code",
   "execution_count": null,
   "id": "649578b9-496c-4703-8938-b3084d37cfd2",
   "metadata": {
    "tags": []
   },
   "outputs": [],
   "source": [
    "fig, ax = plt.subplots(1, 2, figsize=(8, 3))\n",
    "\n",
    "h = ax[0].hist2d(df['gr'], df['ri'],\n",
    "                 bins=(np.arange(-0.5, 1.5, 0.01),\n",
    "                       np.arange(-0.5, 0.75, 0.01)),\n",
    "                 norm='log')\n",
    "ax[0].set_xlabel('g - r')\n",
    "ax[0].set_ylabel('r - i')\n",
    "ax[0].grid()\n",
    "plt.colorbar(h[3])\n",
    "\n",
    "h = ax[1].hist2d(df['ri'], df['iz'],\n",
    "                 bins=(np.arange(-0.5, 0.75, 0.01),\n",
    "                       np.arange(-0.75, 0.5, 0.01)),\n",
    "                 norm='log')\n",
    "ax[1].set_xlabel('r - i')\n",
    "ax[1].set_ylabel('i - z')\n",
    "ax[1].grid()\n",
    "plt.colorbar(h[3])\n",
    "\n",
    "fig.suptitle('Diagramas Color-Color para el catálogo SSObject')\n",
    "fig.tight_layout()\n",
    "plt.show()"
   ]
  },
  {
   "cell_type": "markdown",
   "id": "653f251d-a172-4cda-b3c5-0aeecf28d8e6",
   "metadata": {},
   "source": [
    "Hay dos colores usados en la simulación - pero este no es el caso para los objetos reales del Sistema Solar. Estos gráficos se verán muy diferentes en el futuro, cuando estén hechos con datos reales de Rubin."
   ]
  },
  {
   "cell_type": "markdown",
   "id": "ef9ba117-4a6c-4a4c-9b82-5b74a9c40001",
   "metadata": {},
   "source": [
    "## 5. La tabla `SSSource`\n",
    "\n",
    "Como se describe arriba, el Procesamiento del Sistema Solar vincula las fuentes de `DiaSource` (detecciones en las\n",
    "imágenes diferenciales individuales) con objetos móviles en los objetos de `SSObject`.\n",
    "\n",
    "La tabla `SSSource` (Fuentes del Sistema Solar) contiene las coordenadas 2-d (cielo) y las distancias y velocidades 3-d\n",
    "para cada objeto de `SSObject` al momento de cada observación de LSST de ese objeto `SSObject`.\n",
    "Las tablas `SSSource`y `DiaSource` son 1:1, ya que cada una contiene datos *por observación*,\n",
    "mientras que `SSObject` contiene datos *por objeto*."
   ]
  },
  {
   "cell_type": "markdown",
   "id": "4dc55526-5aa8-47cd-8d2a-75f02b8b48b7",
   "metadata": {},
   "source": [
    "### 5.1. Tamaño\n",
    "\n",
    "Puede tomar hasta un minuto obtener el tamaño del catálogo `SSSource`."
   ]
  },
  {
   "cell_type": "code",
   "execution_count": null,
   "id": "faa8f8da-ea55-4cf9-a6a5-ce2a9a9e983e",
   "metadata": {
    "tags": []
   },
   "outputs": [],
   "source": [
    "results = service.search(\"SELECT COUNT(*) from dp03_catalogs_10yr.SSSource\")\n",
    "results.to_table().to_pandas()"
   ]
  },
  {
   "cell_type": "markdown",
   "id": "47b9a7c5-4f38-42f3-96b8-732c72010b81",
   "metadata": {},
   "source": [
    "**_¡Esta tabla contiene más de 653 millones de fuentes!_**"
   ]
  },
  {
   "cell_type": "markdown",
   "id": "05883359-a838-40ce-8106-494262b5435a",
   "metadata": {},
   "source": [
    "### 5.2. Columnas\n",
    "\n",
    "**Opcional:** imprimir la información de las columnas para la tabla `SSSource`."
   ]
  },
  {
   "cell_type": "code",
   "execution_count": null,
   "id": "450c92ce-cc7e-4c6e-a6bd-a423d713c8ee",
   "metadata": {
    "tags": []
   },
   "outputs": [],
   "source": [
    "# results = service.search(\"SELECT column_name, datatype, description, \"\n",
    "#                          \"unit from TAP_SCHEMA.columns \"\n",
    "#                          \"WHERE table_name = 'dp03_catalogs_10yr.SSSource'\")\n",
    "# results.to_table().to_pandas()"
   ]
  },
  {
   "cell_type": "markdown",
   "id": "55f7fd6f-a5c8-4e58-8781-5d7f14ebf530",
   "metadata": {},
   "source": [
    "### 5.3. Obtener datos de un objeto de `SSObject`\n",
    "\n",
    "Es posible obtener los datos de `SSSource` para un conjunto de objetos de `SSObject`.\n",
    "Por ejemplo, para obtener todas las fuentes de `SSSource` para los objetos de `SSObject` obtenidos en la Sección 4,\n",
    "usar una consulta como:\n",
    "\n",
    "```\n",
    "SELECT * FROM dp03_catalogs_10yr.SSSource\n",
    "WHERE ssObjectId BETWEEN 9038903462544093184 AND 9223370875126069107\n",
    "```\n",
    "\n",
    "Sin embargo, la mejor manera de mostrar los datos en la tabla `SSSource` es mirar sólo un objeto de `SSObject`,\n",
    "y el que tiene un `ssObjectId` = `6793512588511170680` es una opción divertida.\n",
    "\n",
    "Obtener las coordenadas X e Y heliocéntricas (centradas en el sol) y topocéntricas (centradas en el observatorio)."
   ]
  },
  {
   "cell_type": "code",
   "execution_count": null,
   "id": "8715489d-7c11-42b0-9797-5d29e5086d17",
   "metadata": {
    "tags": []
   },
   "outputs": [],
   "source": [
    "results = service.search(\"SELECT heliocentricX, heliocentricY, \"\n",
    "                         \"topocentricX, topocentricY, ssObjectId \"\n",
    "                         \"FROM dp03_catalogs_10yr.SSSource \"\n",
    "                         \"WHERE ssObjectId = 6793512588511170680\")\n",
    "df_xy = results.to_table().to_pandas()\n",
    "print('Retrieved ', len(df_xy), ' rows.')"
   ]
  },
  {
   "cell_type": "markdown",
   "id": "b1a6bd96-c573-4b43-9310-cc3cc9411b42",
   "metadata": {},
   "source": [
    "**Opcional:** mostrar la tabla en su totalidad o utilizar las funciones `info` o `describe`."
   ]
  },
  {
   "cell_type": "code",
   "execution_count": null,
   "id": "defd1bb3-9065-4ca8-9171-0b2ce125a462",
   "metadata": {
    "tags": []
   },
   "outputs": [],
   "source": [
    "# df_xy"
   ]
  },
  {
   "cell_type": "code",
   "execution_count": null,
   "id": "77771ca4-ca51-4617-a9ce-8939595272b7",
   "metadata": {
    "tags": []
   },
   "outputs": [],
   "source": [
    "# df_xy.info()"
   ]
  },
  {
   "cell_type": "code",
   "execution_count": null,
   "id": "3daf9b96-9444-49b6-a702-aded212fa5ca",
   "metadata": {
    "tags": []
   },
   "outputs": [],
   "source": [
    "# df_xy.describe()"
   ]
  },
  {
   "cell_type": "markdown",
   "id": "11c32da4-7632-4ca0-8e51-c3ae130bde77",
   "metadata": {},
   "source": [
    "### 5.3. Graficar las posiciones de un objeto de `SSObject`\n",
    "\n",
    "Graficar las posiciones del objeto seleccionado de la tabla `SSObject` en el momento de cada \n",
    "observación de LSST utilizando las coordenadas X e Y heliocéntricas (centradas en el Sol; estrella naranja)\n",
    "y las coordenadas topocéntricas (centradas en el observatorio; círculo azul).\n",
    "Esto puede considerarse una proyección de la órbita en el plano del Sistema Solar.\n",
    "\n",
    "Notar cómo los puntos no están espaciados regularmente.\n",
    "Esto es debido a que hay un punto por observación realizada por el LSST al objeto\n",
    "y algunos años éste recibe más o menos observaciones.\n",
    "\n",
    "Observar cómo los puntos aparecen en una elipse alrededor del Sol con coordenadas heliocéntricas (izquierda).\n",
    "Esto se debe a que el objeto seleccionado está en el cinturón principal de asteroides y lo suficientemente cerca del Sol como\n",
    "para completar al menos una órbita durante los 10 años de estudio del LSST.\n",
    "Si el objeto seleccionado hubiese estado en el Sistema Solar exterior, o si este tutorial estuviera utilizando\n",
    "el conjunto de datos de 1 año, el gráfico a continuación mostraría un arco en lugar de una elipse.\n",
    "\n",
    "El gráfico de las coordenadas topocéntricas (derecha) no se ve elíptico porque \n",
    "el movimiento de la Tierra respecto al objeto durante los 10 años del LSST\n",
    "está reflejado en los datos. \n",
    "Para las coordenadas topocéntricas, la rotación de la Tierra también contribuye,\n",
    "pero es un efecto mucho menor en la escala de estos gráficos."
   ]
  },
  {
   "cell_type": "code",
   "execution_count": null,
   "id": "0464b3fa-299a-4d27-8f47-f19cd21062b6",
   "metadata": {
    "tags": []
   },
   "outputs": [],
   "source": [
    "fig, ax = plt.subplots(1, 2, figsize=(8, 4))\n",
    "ax[0].grid()\n",
    "ax[0].plot(df_xy['heliocentricX'], df_xy['heliocentricY'],\n",
    "           'o', ms=4, mew=0, color='black')\n",
    "ax[0].plot(0, 0, '*', ms=15, color='darkorange')\n",
    "ax[0].set_xlabel('X heliocéntrico (au)')\n",
    "ax[0].set_ylabel('Y heliocéntrico (au)')\n",
    "ax[0].set_title('Coordenadas Heliocéntricas')\n",
    "ax[1].grid()\n",
    "ax[1].plot(df_xy['topocentricX'], df_xy['topocentricY'],\n",
    "           'o', ms=4, mew=0, color='black')\n",
    "ax[1].plot(0, 0, 'o', ms=15, color='dodgerblue')\n",
    "ax[1].set_xlabel('X topocéntrico (au)')\n",
    "ax[1].set_ylabel('Y topocéntrico (au)')\n",
    "ax[1].set_title('Coordenadas Topocéntricas')\n",
    "fig.suptitle('Trayectoria XY de 6793512588511170680')\n",
    "fig.tight_layout()\n",
    "plt.show()"
   ]
  },
  {
   "cell_type": "markdown",
   "id": "7c568937-4f20-489c-b113-711f32cfad34",
   "metadata": {},
   "source": [
    "## 6. El catálogo `DiaSource`\n",
    "\n",
    "Por último, pero definitivamente no menos importante, la tabla `DiaSource` - la cual en realidad es la primera en ser generada\n",
    "por el pipeline del Procesamiento de Datos Inmediatos.\n",
    "Esta tabla va a contener mediciones para todas las fuentes detectadas con una relación señal/ruido de al menos 5 \n",
    "en una imagen diferencial, incluyendo fuentes en movimiento y estáticas en el cielo (static-sky).\n",
    "\n",
    "Sin embargo, para la simulación DP0.3 la tabla `DiaSource` contiene *sólo objetos en movimiento*, y no objetos transitorios con posición fija en el cielo (ni defectos del detector).\n",
    "\n",
    "Para DP0.3 la tabla simulada `DiaSource` contiene sólo un subconjunto de las columnas que tendrá la tabla `DiaSource` real; ver Tabla 1 del\n",
    "<a href=\"https://docushare.lsstcorp.org/docushare/dsweb/Get/LSE-163/LSE-163_DataProductsDefinitionDocumentDPDD.pdf\">Documento de Definición de Productos de Datos</a> de Rubin.\n",
    "Más aún, la tabla `DiaSource` contiene unas pocas columnas con valores de verdad extras, tales como  `raTrue`, `decTrue`, `magTrue`.\n",
    "\n",
    "Para DP0.3 no se simularon variaciones fotométricas debidas a, e.g., la rotación de cuerpos no esféricos, colisiones o eventos de desgasificación.\n",
    "Toda la evolución en magnitudes aparentes con el tiempo son debidas a la curva de fase, la cual es explorada\n",
    "en otro tutorial."
   ]
  },
  {
   "cell_type": "markdown",
   "id": "7c11588b-6129-4b89-acc4-a14f13c09053",
   "metadata": {},
   "source": [
    "### 6.1. Tamaño\n",
    "\n",
    "**Opcional:** obtener el tamaño de la tabla `DiaSource` (es 1:1 con la tabla `SSSource`, por lo que tienen el mismo tamaño)."
   ]
  },
  {
   "cell_type": "code",
   "execution_count": null,
   "id": "97cc39ef-af55-4244-939f-13a79a0f944d",
   "metadata": {
    "tags": []
   },
   "outputs": [],
   "source": [
    "# results = service.search(\"SELECT COUNT(*) from dp03_catalogs_10yr.DiaSource\")\n",
    "# results.to_table().to_pandas()"
   ]
  },
  {
   "cell_type": "markdown",
   "id": "abdb5907-467b-4c2d-9797-0dbf7659a796",
   "metadata": {},
   "source": [
    "### 6.2. Columnas\n",
    "\n",
    "**Opcional:** imprimir la información de las columnas."
   ]
  },
  {
   "cell_type": "code",
   "execution_count": null,
   "id": "ad2f5716-4310-4393-89fc-0299b176a169",
   "metadata": {
    "tags": []
   },
   "outputs": [],
   "source": [
    "# results = service.search(\"SELECT column_name, datatype, description, \"\n",
    "#                          \"unit from TAP_SCHEMA.columns \"\n",
    "#                          \"WHERE table_name = 'dp03_catalogs_10yr.DiaSource'\")\n",
    "# results.to_table().to_pandas()"
   ]
  },
  {
   "cell_type": "markdown",
   "id": "ebb6fe98-f238-4c46-8964-090eff82bec1",
   "metadata": {},
   "source": [
    "### 6.3. Obtener datos para un objeto de `SSObject`\n",
    "\n",
    "Parecido a lo que hicimos con los datos de `SSSource` en la Sección 5, es posible obtener los datos de `DiaSource` para un conjunto de objetos `SSObject`. Por ejemplo, para obtener todas las fuentes en `DiaSource` para los objetos de `SSObject` que se obtuvieron en la Sección 4,\n",
    "usar una consulta como:\n",
    "\n",
    "```\n",
    "SELECT * FROM dp03_catalogs_10yr.DiaSource\n",
    "WHERE ssObjectId BETWEEN 9038903462544093184 AND 9223370875126069107\n",
    "```\n",
    "\n",
    "Sin embargo, como vimos para los datos de las fuentes de `SSSource` en la Sección 5, la mejor forma de mostrar los datos en la tabla `DiaSource` es mirar sólo un objeto de `SSObject`.\n",
    "Aquí, como en la Sección 5, usaremos el que tiene un `ssObjectId` = `6793512588511170680`.\n",
    "\n",
    "Obtener la ascensión recta, declinación y el <a href=\"https://es.wikipedia.org/wiki/Tiempo_At%C3%B3mico_Internacional\">TAI</a> (Tiempo Atómico Internacional) correctos en el punto medio de exposición (MJD) de la observación."
   ]
  },
  {
   "cell_type": "code",
   "execution_count": null,
   "id": "10af5ce9-89b6-4d6b-9a52-55c3e1c4dfa2",
   "metadata": {
    "tags": []
   },
   "outputs": [],
   "source": [
    "results = service.search(\"SELECT ra, dec, midpointMjdTai \"\n",
    "                         \"FROM dp03_catalogs_10yr.DiaSource \"\n",
    "                         \"WHERE ssObjectId = 6793512588511170680\")\n",
    "df = results.to_table().to_pandas()\n",
    "\n",
    "df"
   ]
  },
  {
   "cell_type": "markdown",
   "id": "8985789e-a504-454d-b920-45c474e93747",
   "metadata": {},
   "source": [
    "### 6.4. Graficar datos sobre transitorios para un objeto de `SSObject`\n",
    "\n",
    "Aquí, graficaremos las coordenadas ecuatoriales para todas las observaciones, coloreadas por la MJD de la observación.\n",
    "\n",
    "Este gráfico muestra la posición del objeto en el cielo, visto desde la Tierra.\n",
    "Recordar de los gráficos de la Sección 5 que este objeto está aproximadamente a sólo unas 2 ua del Sol,\n",
    "por lo que se encuentra en el borde interno del Cinturón Principal de Asteroides.\n",
    "La paralaje de la órbita terrestre contribuye a cómo se ve este gráfico."
   ]
  },
  {
   "cell_type": "code",
   "execution_count": null,
   "id": "064324af-f6fa-46ec-a425-036ce96af31c",
   "metadata": {
    "tags": []
   },
   "outputs": [],
   "source": [
    "cmap = colormaps['viridis']\n",
    "fig, ax = plt.subplots(1, 1, figsize=(12, 3))\n",
    "im = ax.scatter(df['ra'], df['dec'], c=df['midpointMjdTai'], cmap=cmap)\n",
    "ax.set_xlabel('ra (deg)')\n",
    "ax.set_ylabel('dec (deg)')\n",
    "fig.suptitle(\"Trayectoria de un objeto SSObject en coordenadas ecuatoriales a lo largo de 10 años\")\n",
    "fig.subplots_adjust(right=0.8)\n",
    "cbar_ax = fig.add_axes([0.85, 0.15, 0.02, 0.7])\n",
    "fig.colorbar(im, cax=cbar_ax, label='TAI')\n",
    "ax.grid(True)"
   ]
  },
  {
   "cell_type": "markdown",
   "id": "e75a0bd3-022a-4277-934d-23e7de048602",
   "metadata": {},
   "source": [
    "El uso de la magnitud y el filtro de los datos obtenidos de la tabla `DiaSource` es dejado como\n",
    "ejercicio en la Sección 7."
   ]
  },
  {
   "cell_type": "markdown",
   "id": "68e9e475-96e2-4f47-8164-37d3ddbf67a5",
   "metadata": {
    "tags": []
   },
   "source": [
    "## 7. Ejercicios"
   ]
  },
  {
   "cell_type": "markdown",
   "id": "27380304-2669-4e14-ba81-f57fd072ebd9",
   "metadata": {},
   "source": [
    "**1. Calcular el semieje mayor para un subconjunto de objetos.**\n",
    "\n",
    "El elemento orbital del semieje mayor ($a$) no está pre-computado en la tabla `MPCORB`\n",
    "debido a que se puede obtener a partir de la elipticidad de la órbita ($e$) y de la distancia al perihelio ($q$)\n",
    "con $a = q/(1-e)$.\n",
    "\n",
    "Copiar la consulta de la Sección 3.3 y modificarla para obtener sólo $e$ y $q$ para un subconjunto de objetos.\n",
    "Luego agregar una columna a la tabla resultante para el semieje mayor y graficar la excentricidad\n",
    "versus el semieje mayor.\n",
    "\n",
    "Pistas:\n",
    " 1. Restringir la consulta a objetos con excentricidades entre 0 y 1.\n",
    " 2. `df['a'] = df['q'] / (1.0 - df['e'])`"
   ]
  },
  {
   "cell_type": "markdown",
   "id": "6822d11e-b160-472b-972a-cb5d16f9be5c",
   "metadata": {},
   "source": [
    "**2. ¿Cómo cambia la magnitud de un objeto de la tabla SSObject con el tiempo?**\n",
    "\n",
    "En la Sección 6.4, no se obtuvieron ni la magnitud ni el filtro para todas las detecciones del objeto de `SSObject` en\n",
    "la tabla `DiaSource`; modificar la consulta para obtener `mag` y `band`,\n",
    "y graficar la magnitud como función del tiempo para el filtro de tu elección\n",
    "(recordar: no habrá magnitudes en las bandas *u* o *y*).\n",
    "Notar que la única causa simulada de los cambios fotométricos en los objetos de DP0.3 es la distancia a la Tierra y la curva de fase.\n",
    "La corrección por distancia y las aplicaciones de curvas de fase, se abordan en otro tutorial."
   ]
  }
 ],
 "metadata": {
  "kernelspec": {
   "display_name": "LSST",
   "language": "python",
   "name": "lsst"
  },
  "language_info": {
   "codemirror_mode": {
    "name": "ipython",
    "version": 3
   },
   "file_extension": ".py",
   "mimetype": "text/x-python",
   "name": "python",
   "nbconvert_exporter": "python",
   "pygments_lexer": "ipython3",
   "version": "3.11.9"
  }
 },
 "nbformat": 4,
 "nbformat_minor": 5
}
