{
 "cells": [
  {
   "cell_type": "markdown",
   "id": "548dece7-d479-4307-844c-ab93396f3813",
   "metadata": {},
   "source": [
    "# Galaxy cluster weak gravitational lensing analysis\n",
    "\n",
    "<img align=\"left\" src = https://project.lsst.org/sites/default/files/Rubin-O-Logo_0.png width=250 style=\"padding: 10px\" alt=\"Rubin Observatory logo, a graphical representation of turning stars into data.\">\n",
    "<br>\n",
    "Contact author(s): Shenming Fu <br>\n",
    "Last verified to run: 2025-02-xx <br>\n",
    "LSST Science Pipelines version: Weekly 2024_50 <br>\n",
    "Container Size: medium <br>\n",
    "Targeted learning level: beginner <br>"
   ]
  },
  {
   "cell_type": "code",
   "execution_count": null,
   "id": "cb2af61a-c8de-43b7-9347-fe5da0972ff2",
   "metadata": {},
   "outputs": [],
   "source": [
    "%load_ext pycodestyle_magic\n",
    "%flake8_on\n",
    "import logging\n",
    "logging.getLogger(\"flake8\").setLevel(logging.FATAL)"
   ]
  },
  {
   "cell_type": "markdown",
   "id": "8d18491e-849d-40f9-b538-f843dd3df052",
   "metadata": {},
   "source": [
    "**Description:** This notebook demonstrates how to DP0 data for galaxy cluster weak gravitational lensing analysis."
   ]
  },
  {
   "cell_type": "markdown",
   "id": "be30837a-e4ac-4993-938e-7358069dcb0b",
   "metadata": {},
   "source": [
    "**Skills:** Select background galaxies by color and make a mean shape profile."
   ]
  },
  {
   "cell_type": "markdown",
   "id": "e30e29e3-d61c-4c59-846d-6e1dcf47661b",
   "metadata": {},
   "source": [
    "**LSST Data Products:** Images (deepCoadd) and catalogs (object table)."
   ]
  },
  {
   "cell_type": "markdown",
   "id": "36c38828-d573-4846-a3c0-3ab49d7c3a9e",
   "metadata": {},
   "source": [
    "**Packages:** lsst.daf.butler, lsst.rsp"
   ]
  },
  {
   "cell_type": "markdown",
   "id": "82a93e03-80aa-41a5-a48d-dbda31209251",
   "metadata": {},
   "source": [
    "**Credit:** This tutorial was originally developed by Shenming Fu."
   ]
  },
  {
   "cell_type": "markdown",
   "id": "f71bd866-d5c3-4ffd-a42d-4379acf723b3",
   "metadata": {},
   "source": [
    "**Get Support:**\n",
    "Find DP0-related documentation and resources at <a href=\"https://dp0.lsst.io\">dp0.lsst.io</a>. Questions are welcome as new topics in the <a href=\"https://community.lsst.org/c/support/dp0\">Support - Data Preview 0 Category</a> of the Rubin Community Forum. Rubin staff will respond to all questions posted there."
   ]
  },
  {
   "cell_type": "markdown",
   "id": "984f8f89-15ea-4ab9-80af-66415f59dfbb",
   "metadata": {},
   "source": [
    "## 1. Introduction\n",
    "\n",
    "Galaxy clusters are the largest gravitionally bound objects in the Universe. The large mass of a cluster coherently distorts the images of backgroud galaxies over a large sky area via weak gravitational lensing (WL). \n",
    "This notebook gives an example of detecting lensing signal of clusters using DP0 data."
   ]
  },
  {
   "cell_type": "markdown",
   "id": "6c367e76-bcb0-4415-a20c-0f50a4c5ce02",
   "metadata": {},
   "source": [
    "### 1.1. Import packages\n",
    "Import general packages, the LSST Science Pipelines packages for bulter and display, and Rubin Science Platform TAP package. "
   ]
  },
  {
   "cell_type": "code",
   "execution_count": null,
   "id": "44f14be7-bf70-433c-b960-d6d8fb54aae2",
   "metadata": {},
   "outputs": [],
   "source": [
    "import matplotlib.pyplot as plt\n",
    "plt.style.use('tableau-colorblind10')\n",
    "\n",
    "import numpy as np\n",
    "from scipy.stats import binned_statistic, bootstrap\n",
    "from astropy.table import Table, vstack\n",
    "from astropy.coordinates import SkyCoord\n",
    "\n",
    "# LSST Science Pipelines (Stack) packages\n",
    "import lsst.daf.butler as dafButler\n",
    "import lsst.afw.display as afwDisplay\n",
    "afwDisplay.setDefaultBackend('matplotlib')\n",
    "\n",
    "from lsst.rsp import get_tap_service"
   ]
  },
  {
   "cell_type": "markdown",
   "id": "672d3972-1e9a-4e22-b80c-ae66c59a5bd9",
   "metadata": {},
   "source": [
    "## 2. Get the coadd object catalog around a cluster\n",
    "There is a known cluster at (55.749, -32.273) for RA, DEC. Make a cone search for primary objects with radius 15 arcmin using TAP. \n",
    "The details of TAP can be found at the notebook 02a. \n",
    "\n",
    "Select galaxies by extendedness (difference between the PSF photometry and the CModel photometry); see details [here](https://github.com/rubin-dp0/delegate-contributions-dp02/tree/main/extendedness). Use the g and r-band color information to remove foreground galaxies, and include some related flag cuts. Also, use r-band for shape analysis (common in WL analysis), and include some quality cuts for the shape measurements ([Mandelbaum+2018](https://ui.adsabs.harvard.edu/abs/2018PASJ...70S..25M/abstract)). \n",
    "\n",
    "For simplicity, skip the use of photometric redshift in this notebook.\n",
    "\n",
    "Finally, save the results into an astropy table."
   ]
  },
  {
   "cell_type": "code",
   "execution_count": null,
   "id": "3ad25819-50e3-4c0b-b712-deb1a7cd5350",
   "metadata": {},
   "outputs": [],
   "source": [
    "service = get_tap_service(\"tap\")\n",
    "assert service is not None"
   ]
  },
  {
   "cell_type": "code",
   "execution_count": null,
   "id": "674fba05-f486-4d11-8087-1932bb9e8dd4",
   "metadata": {
    "scrolled": true
   },
   "outputs": [],
   "source": [
    "center_ra = 55.749\n",
    "center_dec = -32.273\n",
    "radius = 15/60.\n",
    "\n",
    "str_center_coords = str(center_ra) + \", \" + str(center_dec)\n",
    "str_radius = str(radius)\n",
    "\n",
    "query = \"SELECT r_ra, r_decl, \"\\\n",
    "        \"r_cModelFlux, r_cModelFluxErr, g_cModelFlux, g_cModelFluxErr, \"\\\n",
    "        \"r_hsmShapeRegauss_e1, r_hsmShapeRegauss_e2, x, y \"\\\n",
    "        \"FROM dp02_dc2_catalogs.Object \"\\\n",
    "        \"WHERE CONTAINS(POINT('ICRS', coord_ra, coord_dec), \"\\\n",
    "        \"CIRCLE('ICRS', \" + str_center_coords + \", \" + str_radius + \")) = 1 \"\\\n",
    "        \"AND detect_isPrimary = 1 \"\\\n",
    "        \"AND r_extendedness = 1 \"\\\n",
    "        \"AND r_extendedness_flag = 0 \"\\\n",
    "        \"AND r_cModel_flag = 0 \"\\\n",
    "        \"AND g_cModel_flag = 0 \"\\\n",
    "        \"AND r_psfFlux_flag = 0 \"\\\n",
    "        \"AND r_centroid_flag = 0 \"\\\n",
    "        \"AND r_hsmShapeRegauss_sigma < 0.4 \"\\\n",
    "        \"AND r_blendedness < 0.42 \"\n",
    "\n",
    "\n",
    "print(query)\n",
    "\n",
    "job = service.submit_job(query)\n",
    "job.run()\n",
    "job.wait(phases=['COMPLETED', 'ERROR'])\n",
    "print('Job phase is', job.phase)\n",
    "assert job.phase == 'COMPLETED'\n",
    "\n",
    "results = job.fetch_result().to_table().to_pandas()\n",
    "print(results)\n",
    "\n",
    "job.delete()\n",
    "\n",
    "data = Table.from_pandas(results)\n",
    "\n",
    "del query, results"
   ]
  },
  {
   "cell_type": "markdown",
   "id": "2ff7ecb6-d39d-4a79-b507-5cef1816def8",
   "metadata": {},
   "source": [
    "Apply some further cuts on the g and r-band photometry to ensure the quality. Also, require the measured ellipticity to be within 2; this removes galaxies with very large measured ellipticities that are unphysical, but allows galaxies with measured ellipticities slightly larger than 1 ([Mandelbaum+2018](https://ui.adsabs.harvard.edu/abs/2018PASJ...70S..25M/abstract)). For demonstration, skip shear calibration but just study the mean galaxy shape in this notebook."
   ]
  },
  {
   "cell_type": "code",
   "execution_count": null,
   "id": "96a77ad5-5386-45a9-b6ab-f6322473b5d9",
   "metadata": {},
   "outputs": [],
   "source": [
    "data = data[data['r_cModelFluxErr'] > 0]\n",
    "data = data[data['g_cModelFluxErr'] > 0]\n",
    "\n",
    "r_SNR = data['r_cModelFlux'] / data['r_cModelFluxErr']\n",
    "g_SNR = data['g_cModelFlux'] / data['g_cModelFluxErr']\n",
    "e1 = data['r_hsmShapeRegauss_e1']\n",
    "e2 = data['r_hsmShapeRegauss_e2']\n",
    "\n",
    "sel = r_SNR > 5.\n",
    "sel &= g_SNR > 5.\n",
    "\n",
    "sel &= (e1**2 + e2**2)**0.5 < 2.\n",
    "\n",
    "data_s = data[sel]"
   ]
  },
  {
   "cell_type": "code",
   "execution_count": null,
   "id": "c936baf1-6344-4356-9fda-f4536e98501a",
   "metadata": {},
   "outputs": [],
   "source": [
    "del data"
   ]
  },
  {
   "cell_type": "markdown",
   "id": "99b69b92-a359-4459-99a7-a6dc4d6d1cbc",
   "metadata": {},
   "source": [
    "## 3. Select galaxies by color\n",
    "\n",
    "Create the g-r vs r color-magnitude diagram (CMD) of galaxies. Clusters generally have a typical red sequence (RS) in CMD due to evolution -- those red galaxies are the oldest and reddest in the cluster. Galaxies that are redder than RS are background galaxies. Thus, use colors to select a sample of background galaxies, and a sample of bright cluster member galaxies -- they show different colors in CMD. See also examples [here](https://dp0-2.lsst.io/tutorials-examples/portal-4.html).\n",
    "\n",
    "First, convert flux into magnitude (notebook 01) and compute the magnitude uncertainty. "
   ]
  },
  {
   "cell_type": "code",
   "execution_count": null,
   "id": "c161531a-02a0-474e-b03f-f20171c25242",
   "metadata": {},
   "outputs": [],
   "source": [
    "r_cModel = -2.5*np.log10(data_s['r_cModelFlux']) + 31.4\n",
    "g_cModel = -2.5*np.log10(data_s['g_cModelFlux']) + 31.4\n",
    "\n",
    "fac = 2.5 / np.log(10)\n",
    "r_cModel_err = fac / r_SNR[sel]"
   ]
  },
  {
   "cell_type": "markdown",
   "id": "a9899d12-32bd-4960-8aed-069e1faf79d4",
   "metadata": {},
   "source": [
    "Make CMD."
   ]
  },
  {
   "cell_type": "code",
   "execution_count": null,
   "id": "db0c92dc-29d6-4520-8e48-552b17e38312",
   "metadata": {
    "scrolled": true
   },
   "outputs": [],
   "source": [
    "plt.scatter(r_cModel,\n",
    "            g_cModel - r_cModel,\n",
    "            s=0.03, c='k', marker='.')\n",
    "\n",
    "sel_rs = g_cModel - r_cModel > 1.0\n",
    "sel_rs &= g_cModel - r_cModel < 1.2\n",
    "sel_rs &= r_cModel < 23.\n",
    "\n",
    "plt.scatter(r_cModel[sel_rs],\n",
    "            (g_cModel - r_cModel)[sel_rs],\n",
    "            s=3, c='r', alpha=0.3,\n",
    "            label='RS', marker='^')\n",
    "\n",
    "sel_bg = g_cModel - r_cModel > 1.35\n",
    "\n",
    "plt.scatter(r_cModel[sel_bg],\n",
    "            (g_cModel - r_cModel)[sel_bg],\n",
    "            s=3, c='b', alpha=0.3,\n",
    "            label='background', marker='s')\n",
    "\n",
    "plt.legend()\n",
    "\n",
    "plt.xlim(15, 27)\n",
    "plt.ylim(-1, 3.)\n",
    "plt.xlabel('r')\n",
    "plt.ylabel('g - r')\n",
    "plt.minorticks_on()\n",
    "plt.savefig('RS.png')"
   ]
  },
  {
   "cell_type": "markdown",
   "id": "5802b2bc-3ea2-4570-a351-da3292d1bf6e",
   "metadata": {},
   "source": [
    "> Figure 1: Color-magnitude of galaxies with markers showing the selected background galaxies and the bright red sequence galaxies. "
   ]
  },
  {
   "cell_type": "markdown",
   "id": "c27f219c-b7ef-40bc-9b54-c20a16536967",
   "metadata": {},
   "source": [
    "Check the relation between the r-band magnitude and uncertainty, and compare that with SNR. "
   ]
  },
  {
   "cell_type": "code",
   "execution_count": null,
   "id": "3b07a765-0053-4072-a96b-863066844814",
   "metadata": {
    "scrolled": true
   },
   "outputs": [],
   "source": [
    "plt.figure()\n",
    "\n",
    "plt.scatter(r_cModel,\n",
    "            r_cModel_err,\n",
    "            s=0.1, c='k')\n",
    "\n",
    "ls_list = ['-', '--', '-.']\n",
    "for i, SNR in enumerate([5, 10, 20]):\n",
    "    plt.axhline(fac / SNR, c='C%d'%i, label='SNR=%d'%SNR, ls=ls_list[i])\n",
    "\n",
    "plt.xlim(16, 28)\n",
    "plt.ylim(0, 0.25)\n",
    "\n",
    "plt.axvline(26, c='y', ls=':', label='mag=26')\n",
    "\n",
    "plt.xlabel('r')\n",
    "plt.ylabel('r_err')\n",
    "\n",
    "plt.legend()"
   ]
  },
  {
   "cell_type": "markdown",
   "id": "0f290015-a720-47b2-a642-d99c731cda85",
   "metadata": {},
   "source": [
    "> Figure 2: r-band magnitude and uncertainty of galaxies."
   ]
  },
  {
   "cell_type": "markdown",
   "id": "81e50e3b-88c4-4845-8e4f-c83a2fecb412",
   "metadata": {},
   "source": [
    "Now, check the distribution of galaxies on the sky. Clearly, the RS galaxies have a concentration near the cluster center, but the background ones are uniformally distributed. "
   ]
  },
  {
   "cell_type": "code",
   "execution_count": null,
   "id": "f2e719ba-9b33-4bba-bd02-7053a2c9248e",
   "metadata": {
    "scrolled": true
   },
   "outputs": [],
   "source": [
    "ra = data_s['r_ra']\n",
    "dec = data_s['r_decl']\n",
    "\n",
    "plt.figure(figsize=(5, 5))\n",
    "plt.scatter(ra[sel_rs], dec[sel_rs], s=3, ec='r',\n",
    "            label=\"RS\", marker='^')\n",
    "plt.scatter(ra[sel_bg], dec[sel_bg], s=1, ec='b',\n",
    "            label=\"background\", marker='s')\n",
    "plt.xlabel('RA [deg]')\n",
    "plt.ylabel('DEC [deg]')\n",
    "plt.gca().invert_xaxis()\n",
    "plt.legend()\n",
    "\n",
    "plt.savefig('RS_sel.png')"
   ]
  },
  {
   "cell_type": "markdown",
   "id": "4a6de724-9a8f-442d-8cb4-2a3d9b24d431",
   "metadata": {},
   "source": [
    "> Figure 3: Sky distribution of the selected background and RS galaxies."
   ]
  },
  {
   "cell_type": "markdown",
   "id": "0860beb7-7649-4ebf-ad9e-cabc3ca622c3",
   "metadata": {},
   "source": [
    "Also check the coadd image and see how the RS galaxies look like -- those bright large cluster galaxies do get selected. "
   ]
  },
  {
   "cell_type": "code",
   "execution_count": null,
   "id": "f65d612f-5567-4c9c-81c7-081a2b73f1be",
   "metadata": {},
   "outputs": [],
   "source": [
    "config = 'dp02'\n",
    "collections = '2.2i/runs/DP0.2'\n",
    "butler = dafButler.Butler(config, collections=collections)\n",
    "\n",
    "datasetType = 'deepCoadd'\n",
    "dataId = {'tract': 4431, 'patch': 17, 'band': 'r'}\n",
    "coadd = butler.get(datasetType, dataId=dataId)"
   ]
  },
  {
   "cell_type": "code",
   "execution_count": null,
   "id": "fd373db3-2433-4b90-a0b3-3f016a50f797",
   "metadata": {
    "scrolled": true
   },
   "outputs": [],
   "source": [
    "x = data_s['x']\n",
    "y = data_s['y']\n",
    "fig = plt.figure()\n",
    "display = afwDisplay.Display(frame=fig)\n",
    "display.scale('asinh', 'zscale')\n",
    "display.mtv(coadd.image)\n",
    "plt.scatter(x[sel_rs], y[sel_rs], ec='r', fc='none')\n",
    "plt.xlim(12000, 16000)\n",
    "plt.ylim(8000, 12000)\n",
    "plt.xlabel('x [pix]')\n",
    "plt.ylabel('y [pix]')\n",
    "plt.savefig('RS_sel.png')\n"
   ]
  },
  {
   "cell_type": "markdown",
   "id": "68bd6bf5-a2bd-49fb-ba1e-14ea4dce541e",
   "metadata": {},
   "source": [
    "> Figure 4: Coadd r-band image with the selected RS galaxies."
   ]
  },
  {
   "cell_type": "code",
   "execution_count": null,
   "id": "23c35b53-1674-40c2-b94d-42c3cab48a4c",
   "metadata": {},
   "outputs": [],
   "source": [
    "del coadd"
   ]
  },
  {
   "cell_type": "markdown",
   "id": "077f62e7-53e3-48ad-af77-d721d2e2acc3",
   "metadata": {},
   "source": [
    "## 4. Lensing analysis\n",
    "\n",
    "Compute the tangential and cross ellipticities of background galaxies toward the cluster center. Also, compute the radial distance in arcmin. "
   ]
  },
  {
   "cell_type": "code",
   "execution_count": null,
   "id": "163b9436-7119-4588-b9a4-332baa0a2a11",
   "metadata": {},
   "outputs": [],
   "source": [
    "e1 = data_s['r_hsmShapeRegauss_e1']\n",
    "e2 = data_s['r_hsmShapeRegauss_e2']\n",
    "\n",
    "coord0 = SkyCoord(center_ra, center_dec, frame='icrs', unit='deg')\n",
    "coord1 = SkyCoord(ra, dec, frame='icrs', unit='deg')\n",
    "\n",
    "position_angle = coord0.position_angle(coord1).rad + np.pi/2.\n",
    "\n",
    "e_t = - e1 * np.cos(2.*position_angle) - e2 * np.sin(2.*position_angle)\n",
    "e_x = + e1 * np.sin(2.*position_angle) - e2 * np.cos(2.*position_angle)\n",
    "\n",
    "r = coord0.separation(coord1).arcmin"
   ]
  },
  {
   "cell_type": "markdown",
   "id": "a7879e76-a87f-4de9-9476-7889403fb5b4",
   "metadata": {},
   "source": [
    "Check the distributions of the tangential ellipticities and the cross ellipticities. They show Gaussian-like distributions, but the tangential one has a mean above zero (weakly), while the cross one has a mean close to zero."
   ]
  },
  {
   "cell_type": "code",
   "execution_count": null,
   "id": "f59dfd2b-43cb-4cd6-8e5d-be7fe7dc5020",
   "metadata": {
    "scrolled": true
   },
   "outputs": [],
   "source": [
    "bins = np.linspace(-1, 1, 30)\n",
    "mid = 0.5 * (bins[1:] + bins[:-1])\n",
    "\n",
    "plt.figure()\n",
    "\n",
    "n_e_t, _, im = plt.hist(e_t[sel_bg], bins=bins, histtype='step',\n",
    "                        density=True, label='e_t')\n",
    "n_e_x, _, im = plt.hist(e_x[sel_bg], bins=bins, histtype='step',\n",
    "                        density=True, ls='--', label='e_x')\n",
    "\n",
    "plt.axvline(np.mean(e_t[sel_bg]), c='C0', label='mean[e_t]')\n",
    "plt.axvline(np.mean(e_x[sel_bg]), c='C1', ls='--', label='mean[e_x]')\n",
    "\n",
    "plt.xlabel('ellipticity')\n",
    "plt.ylabel('count')\n",
    "\n",
    "plt.legend()"
   ]
  },
  {
   "cell_type": "markdown",
   "id": "ed843f17-afa3-49a2-aa0c-a29698e928c8",
   "metadata": {},
   "source": [
    "> Figure 5: Distributions of the tangential ellipticities and the cross ellipticities of the selected background galaxies."
   ]
  },
  {
   "cell_type": "markdown",
   "id": "0a06b85d-e280-4c79-a3d1-04b3905e906f",
   "metadata": {},
   "source": [
    "The difference between two distributions shows a dipole feature as expected. "
   ]
  },
  {
   "cell_type": "code",
   "execution_count": null,
   "id": "ff90e181-3486-4246-b58a-559fc7e0851a",
   "metadata": {
    "scrolled": true
   },
   "outputs": [],
   "source": [
    "plt.figure()\n",
    "plt.step(mid, n_e_t - n_e_x, where='mid')\n",
    "plt.axvline(0, c='k', ls=':')\n",
    "plt.xlabel('ellipticity')\n",
    "plt.ylabel('count difference')"
   ]
  },
  {
   "cell_type": "markdown",
   "id": "b6906929-1afa-4f5b-ab5a-fe4969d767cd",
   "metadata": {},
   "source": [
    "> Figure 6: Difference between the distributions of the tangential ellipticities and the cross ellipticities."
   ]
  },
  {
   "cell_type": "markdown",
   "id": "368408e6-1b97-4f02-8e62-109a3c61c6cf",
   "metadata": {},
   "source": [
    "Bin the data by radial distance to find the mean. Estimate the error bar by std/sqrt(N). \n",
    "When plotting the cross component result, shift the data point slightly for visualization."
   ]
  },
  {
   "cell_type": "code",
   "execution_count": null,
   "id": "969201e4-882b-4771-a6b9-9a64f9b65267",
   "metadata": {
    "scrolled": true
   },
   "outputs": [],
   "source": [
    "r_max = np.max(r)\n",
    "print(r_max)\n",
    "\n",
    "bins = np.linspace(0, r_max, 7)\n",
    "mid = 0.5 * (bins[1:] + bins[:-1])\n",
    "\n",
    "e_t_mean, _, _ = binned_statistic(r[sel_bg], e_t[sel_bg], bins=bins)\n",
    "e_x_mean, _, _ = binned_statistic(r[sel_bg], e_x[sel_bg], bins=bins)\n",
    "\n",
    "e_t_std, _, _ = binned_statistic(r[sel_bg], e_t[sel_bg], bins=bins,\n",
    "                                 statistic='std')\n",
    "e_x_std, _, _ = binned_statistic(r[sel_bg], e_x[sel_bg], bins=bins,\n",
    "                                 statistic='std')\n",
    "\n",
    "count, _, _ = binned_statistic(r[sel_bg], e_t[sel_bg], bins=bins,\n",
    "                               statistic='count')\n",
    "\n",
    "e_t_err = e_t_std / count ** 0.5\n",
    "e_x_err = e_x_std / count ** 0.5\n",
    "\n",
    "plt.figure()\n",
    "plt.errorbar(mid, e_t_mean, e_t_err, fmt='o', label='e_t')\n",
    "plt.errorbar(mid+r_max*0.03, e_x_mean, e_x_err, fmt='x', label='e_x')\n",
    "plt.axhline(0, c='k', ls=':')\n",
    "plt.xlabel('r [arcmin]')\n",
    "plt.ylabel('<e_i>')\n",
    "\n",
    "plt.legend()"
   ]
  },
  {
   "cell_type": "markdown",
   "id": "8b291098-4b92-43d5-bcc6-1f081888e6c9",
   "metadata": {},
   "source": [
    "> Figure 7: Mean shape profile with error bars estimated by statistical uncertainty."
   ]
  },
  {
   "cell_type": "markdown",
   "id": "76efa0bf-0d95-4adb-959a-1b2b7075657b",
   "metadata": {},
   "source": [
    "Also use bootstrapping to estimate the error bar. Very close result to the previous one."
   ]
  },
  {
   "cell_type": "code",
   "execution_count": null,
   "id": "4b494a21-7832-40d9-a037-f614f01f2396",
   "metadata": {},
   "outputs": [],
   "source": [
    "def get_stat(data, statistic=np.mean, confidence_level=0.682):\n",
    "    rng = np.random.default_rng()\n",
    "    res = bootstrap((data,),\n",
    "                    statistic=statistic,\n",
    "                    confidence_level=confidence_level,\n",
    "                    random_state=rng)\n",
    "    stat = np.mean(data)\n",
    "    lerr = stat - res.confidence_interval[0]\n",
    "    herr = res.confidence_interval[1] - stat\n",
    "    return stat, lerr, herr, res.standard_error"
   ]
  },
  {
   "cell_type": "code",
   "execution_count": null,
   "id": "fcd67b81-1b7e-4e77-bc8a-bb278a816694",
   "metadata": {},
   "outputs": [],
   "source": [
    "inds = np.digitize(r[sel_bg], bins)\n",
    "\n",
    "e_t_mean_list = []\n",
    "e_t_lerr_list = []\n",
    "e_t_herr_list = []\n",
    "e_t_std_list = []\n",
    "\n",
    "e_x_mean_list = []\n",
    "e_x_lerr_list = []\n",
    "e_x_herr_list = []\n",
    "e_x_std_list = []\n",
    "\n",
    "for i in range(1, len(bins)):\n",
    "    sel = inds == i\n",
    "    mean, lerr, herr, std = get_stat(np.ma.getdata(e_t[sel_bg][sel]))\n",
    "    e_t_mean_list.append(mean)\n",
    "    e_t_lerr_list.append(lerr)\n",
    "    e_t_herr_list.append(herr)\n",
    "    e_t_std_list.append(std)\n",
    "\n",
    "    mean, lerr, herr, std = get_stat(np.ma.getdata(e_x[sel_bg][sel]))\n",
    "    e_x_mean_list.append(mean)\n",
    "    e_x_lerr_list.append(lerr)\n",
    "    e_x_herr_list.append(herr)\n",
    "    e_x_std_list.append(std)\n"
   ]
  },
  {
   "cell_type": "code",
   "execution_count": null,
   "id": "6f0e53f3-740a-47a7-9db5-1435346a75d2",
   "metadata": {
    "scrolled": true
   },
   "outputs": [],
   "source": [
    "plt.figure()\n",
    "plt.errorbar(mid, e_t_mean_list, [e_t_lerr_list, e_t_herr_list],\n",
    "             fmt='o', label='e_t')\n",
    "plt.errorbar(mid+r_max*0.03, e_x_mean_list, [e_x_lerr_list, e_x_herr_list],\n",
    "             fmt='x', label='e_x')\n",
    "plt.axhline(0, c='k', ls=':')\n",
    "plt.xlabel('r [arcmin]')\n",
    "plt.ylabel('<e_i>')\n",
    "plt.legend()"
   ]
  },
  {
   "cell_type": "markdown",
   "id": "91433e59-1607-4f87-ba0f-d8e8e35296c0",
   "metadata": {},
   "source": [
    "> Figure 8: Mean shape profile with error bars estimated by bootstrapping."
   ]
  },
  {
   "cell_type": "markdown",
   "id": "831dc083-f3eb-4091-bd1a-43b87ef15436",
   "metadata": {},
   "source": [
    "##  5. Exercises for the learner\n",
    "1. Use a big cutout (notebook 03c) to get the coadd image.\n",
    "2. Test the shape distribution of cluster member galaxies.\n",
    "3. Test other clusters."
   ]
  },
  {
   "cell_type": "code",
   "execution_count": null,
   "id": "51a01f39-9fab-4a89-b481-9418096bd7bc",
   "metadata": {},
   "outputs": [],
   "source": []
  }
 ],
 "metadata": {
  "kernelspec": {
   "display_name": "LSST",
   "language": "python",
   "name": "lsst"
  },
  "language_info": {
   "codemirror_mode": {
    "name": "ipython",
    "version": 3
   },
   "file_extension": ".py",
   "mimetype": "text/x-python",
   "name": "python",
   "nbconvert_exporter": "python",
   "pygments_lexer": "ipython3",
   "version": "3.11.9"
  }
 },
 "nbformat": 4,
 "nbformat_minor": 5
}
