{
 "cells": [
  {
   "cell_type": "markdown",
   "id": "749b0ddf",
   "metadata": {
    "tags": []
   },
   "source": [
    "# DP0.2 Notebook 16 Galaxy Photometry\n",
    "\n",
    "<img align=\"left\" src = https://project.lsst.org/sites/default/files/Rubin-O-Logo_0.png width=250 style=\"padding: 10px\" alt=\"Rubin Observatory logo, a graphical representation of turning stars into data.\">\n",
    "<br>\n",
    "Contact author(s): <i>Christina Williams</i> <br>\n",
    "Last verified to run: <i>2024-11-18</i> <br>\n",
    "LSST Science Pipelines version: Weekly <i>2024_24</i> <br>\n",
    "Container Size: <i>medium</i> <br>\n",
    "Targeted learning level: <i>beginner</i> <br>"
   ]
  },
  {
   "cell_type": "markdown",
   "id": "2d9cd09b-d5c4-4610-993b-711bdc9bd80e",
   "metadata": {},
   "source": [
    "_In this template, text in italics are examples or instructions that should be: \n",
    "(a) removed if it is not applicable to the notebook; \n",
    "or (b) replaced with text that is appropriate for the notebook. \n",
    "But bold or regular text should appear pretty much as-is in all CET notebooks._\n",
    "\n",
    "_Remember to use the [CST's Guidelines for Tutorial Notebooks](rtn-045.lsst.io)._"
   ]
  },
  {
   "cell_type": "code",
   "execution_count": 1,
   "id": "7acc79a4-8530-42d9-96e5-b7acb4397864",
   "metadata": {
    "execution": {
     "iopub.execute_input": "2024-12-16T19:26:00.845473Z",
     "iopub.status.busy": "2024-12-16T19:26:00.845330Z",
     "iopub.status.idle": "2024-12-16T19:26:00.872992Z",
     "shell.execute_reply": "2024-12-16T19:26:00.872589Z",
     "shell.execute_reply.started": "2024-12-16T19:26:00.845459Z"
    }
   },
   "outputs": [],
   "source": [
    "%load_ext pycodestyle_magic\n",
    "%flake8_on\n",
    "import logging\n",
    "logging.getLogger(\"flake8\").setLevel(logging.FATAL)"
   ]
  },
  {
   "cell_type": "markdown",
   "id": "482777d8-0a8d-432e-ba53-2da536700407",
   "metadata": {},
   "source": [
    "_The six cells below are considered the extended header of the notebook. The first four will be used, verbatim, to create the table of notebook metadata in the README.md file for the repository._"
   ]
  },
  {
   "cell_type": "markdown",
   "id": "9da1a210-d858-42fe-8591-570965b8be1a",
   "metadata": {},
   "source": [
    "**Description:** _Very brief description of notebook._"
   ]
  },
  {
   "cell_type": "markdown",
   "id": "80a0baf5-51ad-40ec-8991-060a7b27c289",
   "metadata": {},
   "source": [
    "**Skills:** _Brief list of skills to match the README.md file for the repository._"
   ]
  },
  {
   "cell_type": "markdown",
   "id": "393da88f-7978-4920-aa4a-a9830df6eed9",
   "metadata": {},
   "source": [
    "**LSST Data Products:** _List the all of the types of LSST catalogs and images used._"
   ]
  },
  {
   "cell_type": "markdown",
   "id": "5c67fab9-136a-4adc-bb42-142b91ab69dd",
   "metadata": {},
   "source": [
    "**Packages:** _List the python packages used._ (_List the packages being taught first, e.g., afwDisplay for a notebook about displaying images. Then supporting packages, e.g., lsst.daf.butler for a notebook about displaying images. It is OK to leave out basic support packages like os or glob.)_"
   ]
  },
  {
   "cell_type": "markdown",
   "id": "8f72b27f",
   "metadata": {},
   "source": [
    "**Credit:**\n",
    "_E.g., \"Originally developed by\" or \"Based on notebooks developed by\" and then people's names, including journal article or software release citations if appropriate._\n",
    "Please consider acknowledging them if this notebook is used for the preparation of journal articles, software releases, or other notebooks."
   ]
  },
  {
   "cell_type": "markdown",
   "id": "28e91cbf-ab7f-4e26-9276-b00299d6065e",
   "metadata": {},
   "source": [
    "**Get Support:**\n",
    "Find DP0-related documentation and resources at <a href=\"https://dp0.lsst.io\">dp0.lsst.io</a>.\n",
    "Questions are welcome as new topics in the \n",
    "<a href=\"https://community.lsst.org/c/support/dp0\">Support - Data Preview 0 Category</a> \n",
    "of the Rubin Community Forum. \n",
    "Rubin staff will respond to all questions posted there."
   ]
  },
  {
   "cell_type": "markdown",
   "id": "cfc73be0",
   "metadata": {},
   "source": [
    "## 1. Introduction\n",
    "\n",
    "_Provide a light narrative about this notebook, e.g., \"This notebook will teach the user...\"._\n",
    "\n",
    "_Cite or link to any external information or documentation, and cross-reference to other notebooks._\n",
    "\n",
    "> **Notice:** *use indented text preceded with* **Notice** *or* **Warning** *to attract attention to particular information.*\n",
    "\n",
    "_Embedded images or generated figures should be captioned in a markdown cell, like this._"
   ]
  },
  {
   "cell_type": "markdown",
   "id": "7eb3ba1f-659f-4cb0-acad-52690f60a485",
   "metadata": {
    "execution": {
     "iopub.execute_input": "2024-12-02T22:37:09.704845Z",
     "iopub.status.busy": "2024-12-02T22:37:09.704072Z",
     "iopub.status.idle": "2024-12-02T22:37:10.367698Z",
     "shell.execute_reply": "2024-12-02T22:37:10.366983Z",
     "shell.execute_reply.started": "2024-12-02T22:37:09.704824Z"
    }
   },
   "source": [
    "### 1.0 Selected text grabbed from Melissa's photo-z notebook (for now)\n",
    "#### Schema: types of fluxes measured\n",
    "\n",
    "Schema for the object catalog for DP0.2: https://dm.lsst.org/sdm_schemas/browser/dp02.html#Object\n",
    "\n",
    "For photometric redshifts, since accurate colors are important, it is the GaaP fluxes that should be used.\n",
    "\n",
    "### Aperture fluxes\n",
    "This contains the enclosed flux inside a given aperture (these are raw fluxes, meaning, they are not corrected to total fluxes using an aperture correction that accounts for the flux falling outside the aperture using the PSF). Fixed aperture diameter size in pixels.\n",
    "\n",
    "```\n",
    "<f>_ap<pix>Flux     : Flux within <pix>-pixel aperture. Forced on <f>-band.\n",
    "<f>_ap<pix>FluxErr  : Uncertainty of <f>_ap<pix>Flux.\n",
    "<f>_ap<pix>FluxFlag : Failure flag for <f>_ap<pix>Flux.\n",
    "```\n",
    "\n",
    "For DP0.2, the apertures are 3, 6, 9, 12, 17, 25, 35, 50, and 70 pixels.\n",
    "\n",
    "In the column name, apertures are `03`, `06`, `09`, `12`, and so on.\n",
    "\n",
    "### Composite Model (CModel) fluxes\n",
    "\n",
    "Similar in nature to those measured for SDSS: \n",
    "https://www.sdss3.org/dr8/algorithms/magnitudes.php#cmodel\n",
    "\n",
    "In short, it is the linear combination of the best fit exponential and de Vaucouleurs profiles.\n",
    "\n",
    "```\n",
    "<f>_cModelFlux    :\tFlux from the final cmodel fit. Forced on <f>-band.\n",
    "<f>_cModelFluxErr : Uncertainty of <f>_cModelFlux\n",
    "<f>_cModel_flag   : Failure flag for <f>_cModelFlux\n",
    "```\n",
    "\n",
    "Fluxes fit to the individual model components.\n",
    "\n",
    "```\n",
    "<f>_bdFluxB    : Flux from the de Vaucouleurs fit. Measured on <f>-band.\n",
    "<f>_bdFluxD    : Flux from the exponential fit. Measured on <f>-band.\n",
    "<f>_bdFluxBErr : Uncertainty of <f>_bdFluxB\n",
    "<f>_bdFluxDErr : Uncertainty of <f>_bdFluxD\n",
    "```\n",
    "\n",
    "The fit sizes are also available (half-light radii, ellipse axes).\n",
    "\n",
    "### GaaP fluxes\n",
    "\n",
    "The Gaussian-aperture-and-PSF flux from <a href=\"https://ui.adsabs.harvard.edu/abs/2008A%26A...482.1053K/abstract\">Kuijken et al. 2008</a>.\n",
    "\n",
    "**Optimal**\n",
    "\n",
    "```\n",
    "<f>_gaapOptimalFlux    : GaaP flux with optimal aperture after multiplying the seeing by 1.15. Forced on <f>-band.\n",
    "<f>_gaapOptimalFluxErr : Uncertainty of <f>_gaapOptimalFlux.\n",
    "```\n",
    "\n",
    "**PSF**\n",
    "\n",
    "```\n",
    "<f>_gaapPsfFlux    : GaaP flux with PSF aperture after multiplying the seeing by 1.15. Forced on <f>-band.\n",
    "<f>_gaapPsfFluxErr : Uncertainty of <f>_gaapPsfFlux.\n",
    "```\n",
    "\n",
    "**Aperture**\n",
    "\n",
    "```\n",
    "<f>_gaap<ap>Flux    : GaaP flux with <ap> aperture after multiplying the seeing by 1.15. Forced on <f>-band.\n",
    "<f>_gaap<ap>FluxErr : Uncertainty of <f>_gaap<ap>Flux.\n",
    "```\n",
    "\n",
    "Where the apertures are 0.5, 0.7, 1.0, 1.5, 2.5, and 3.0.\n",
    "In the column name `<ap>` appears as `0p5`, `0p7`, etc.\n",
    "\n",
    "\n",
    "### Kron fluxes\n",
    "\n",
    "A decent summary of Kron fluxes <a href=\"https://ned.ipac.caltech.edu/level5/March05/Graham/Graham2_6.html\">in the NED documentation</a>.\n",
    "\n",
    "```\n",
    "<f>_kronFlux      : Flux from Kron Flux algorithm. Measured on <f> g-band.\n",
    "<f>_kronFluxErr   : Uncertainty of <f>_kronFlux.\n",
    "<f>_kronFlux_flag : Failure flag for <f>_kronFlux.\n",
    "```\n",
    "\n",
    "The Kron radius, `<f>_kronRad`, is also available.\n",
    "\n",
    "### PSF fluxes\n",
    "\n",
    "Fluxes derived using the model point-spread function (PSF) of the image. The focus here should be static sky (calexp, deepCoadd) and extended objects (i.e. not PSF fluxes). Connect where relevant to the PSF tutorial and to the tutorial developed for SP-910 (is this Notebook 12a/b or 5?).\n",
    "\n",
    "```\n",
    "<f>_psfFlux      : Flux derived from linear least-squares fit of PSF model. Forced on <f>-band.\n",
    "<f>_psfFluxErr   : Uncertainty of <f>_psfFlux.\n",
    "<f>_psfFlux_flag : Failure flag for <f>_psfFlux.\n",
    "\n",
    "```\n"
   ]
  },
  {
   "cell_type": "markdown",
   "id": "dc36f107",
   "metadata": {},
   "source": [
    "### 1.1 Import packages\n"
   ]
  },
  {
   "cell_type": "markdown",
   "id": "ccb4fe61-835a-47ac-a691-e086ce766e79",
   "metadata": {},
   "source": [
    "`numpy` is a fundamental package for scientific computing with arrays in Python\n",
    "(<a href=\"https://numpy.org\">numpy.org</a>).\n",
    "\n",
    "`matplotlib` is a comprehensive library for creating static, animated, and\n",
    "interactive visualizations in Python \n",
    "(<a href=\"https://matplotlib.org/\">matplotlib.org</a>; \n",
    "<a href=\"https://matplotlib.org/stable/gallery/index.html\">matplotlib gallery</a>).\n",
    "\n",
    "From the `lsst` package, modules for accessing the TAP service, the butler, and image display functions are imported (<a href=\"https://pipelines.lsst.io/\">pipelines.lsst.io</a>)."
   ]
  },
  {
   "cell_type": "code",
   "execution_count": 2,
   "id": "2dbc75bd-a802-4576-8628-4e0088942303",
   "metadata": {
    "execution": {
     "iopub.execute_input": "2024-12-16T19:26:00.873696Z",
     "iopub.status.busy": "2024-12-16T19:26:00.873546Z",
     "iopub.status.idle": "2024-12-16T19:26:03.127233Z",
     "shell.execute_reply": "2024-12-16T19:26:03.126652Z",
     "shell.execute_reply.started": "2024-12-16T19:26:00.873683Z"
    }
   },
   "outputs": [],
   "source": [
    "import matplotlib.pyplot as plt\n",
    "from astropy.wcs import WCS\n",
    "from astropy.visualization import make_lupton_rgb\n",
    "from astropy import units as u\n",
    "from astropy.coordinates import SkyCoord\n",
    "import gc\n",
    "import numpy as np\n",
    "\n",
    "import lsst.afw.display as afwDisplay\n",
    "from lsst.afw.image import MultibandExposure\n",
    "from lsst.daf.butler import Butler\n",
    "from lsst.rsp import get_tap_service\n",
    "import lsst.geom as geom"
   ]
  },
  {
   "cell_type": "markdown",
   "id": "c217adff-25ed-4fce-95e7-8aa04630f6cc",
   "metadata": {},
   "source": [
    "### 1.2 Define functions and parameters\n",
    "\n",
    "_If your notebook defines functions or parameters to use later or throughout, do it here in sub-section 1.2._\n",
    "\n",
    "_It is OK to rename the subsection to be more specific to the notebook, and/or to use sub-sub-sections like \"1.2.1 Define global cosmological parameter values\" or \"1.2.2 Define a function to make an image cutout\"._\n",
    "\n",
    "_It is OK to remove this sub-section if it is not being used._"
   ]
  },
  {
   "cell_type": "code",
   "execution_count": 3,
   "id": "0d2ecffa-a837-4d10-be95-616c95fda15f",
   "metadata": {
    "execution": {
     "iopub.execute_input": "2024-12-16T19:26:03.128540Z",
     "iopub.status.busy": "2024-12-16T19:26:03.127914Z",
     "iopub.status.idle": "2024-12-16T19:26:03.233902Z",
     "shell.execute_reply": "2024-12-16T19:26:03.233332Z",
     "shell.execute_reply.started": "2024-12-16T19:26:03.128517Z"
    }
   },
   "outputs": [],
   "source": [
    "plt.style.use('tableau-colorblind10')\n",
    "afwDisplay.setDefaultBackend('matplotlib')"
   ]
  },
  {
   "cell_type": "code",
   "execution_count": 4,
   "id": "4fabe755-cb34-4d50-bbbc-99d8db7980c4",
   "metadata": {
    "execution": {
     "iopub.execute_input": "2024-12-16T19:26:03.235020Z",
     "iopub.status.busy": "2024-12-16T19:26:03.234603Z",
     "iopub.status.idle": "2024-12-16T19:26:03.351442Z",
     "shell.execute_reply": "2024-12-16T19:26:03.350915Z",
     "shell.execute_reply.started": "2024-12-16T19:26:03.234998Z"
    }
   },
   "outputs": [],
   "source": [
    "service = get_tap_service(\"tap\")"
   ]
  },
  {
   "cell_type": "markdown",
   "id": "ec51ac0b",
   "metadata": {
    "tags": []
   },
   "source": [
    "## 2. Section heading\n",
    "\n",
    "_Use numbers for sections, sub-sections, and sub-sub-sections to enable referencing, e.g., \"I'm having trouble with the second code cell in Section 2.3.\"_\n",
    "\n",
    "_Use section titles that actively describe what is being done, e.g., \"Create a color-magnitude diagram\" instead of \"Plot\", so that the auto-generated table of contents is easy to navigate._\n",
    "\n",
    "### 2.1 Section sub-heading\n",
    "\n",
    "#### 2.1.1 Section sub-sub-heading"
   ]
  },
  {
   "cell_type": "code",
   "execution_count": 5,
   "id": "6ad9a3ea-5d4c-4247-b0ff-712fafa00bb3",
   "metadata": {
    "execution": {
     "iopub.execute_input": "2024-12-16T19:26:03.352325Z",
     "iopub.status.busy": "2024-12-16T19:26:03.352122Z",
     "iopub.status.idle": "2024-12-16T19:26:07.787878Z",
     "shell.execute_reply": "2024-12-16T19:26:07.787244Z",
     "shell.execute_reply.started": "2024-12-16T19:26:03.352309Z"
    }
   },
   "outputs": [],
   "source": [
    "butler = Butler('dp02', collections='2.2i/runs/DP0.2')\n",
    "\n",
    "dataId = {'tract': 4431, 'patch': 17, 'band': 'i'}\n",
    "datasetType = 'deepCoadd'\n",
    "coadd = butler.get(datasetType, **dataId)"
   ]
  },
  {
   "cell_type": "code",
   "execution_count": 6,
   "id": "a59e517d-e7e9-4371-9904-174fc6bf1f4f",
   "metadata": {
    "execution": {
     "iopub.execute_input": "2024-12-16T19:26:07.789226Z",
     "iopub.status.busy": "2024-12-16T19:26:07.788509Z",
     "iopub.status.idle": "2024-12-16T19:26:07.865191Z",
     "shell.execute_reply": "2024-12-16T19:26:07.864666Z",
     "shell.execute_reply.started": "2024-12-16T19:26:07.789207Z"
    }
   },
   "outputs": [
    {
     "data": {
      "text/html": [
       "<pre style=\"margin: 0.1em;\n",
       "padding-left: 0.25em;\n",
       "border-left-style: solid;\n",
       "font-family: var(--jp-code-font-family);\n",
       "font-size: var(--jp-code-font-size);\n",
       "line-height: var(--jp-code-line-height);\n",
       "\"><span style=\"color: var(--jp-warn-color2)\">pycodestyle</span> <span style=\"color: var(--jp-info-color0)\">INFO</span>: 1:1: E265 block comment should start with &#x27;# &#x27;</pre>"
      ],
      "text/plain": [
       "<IPython.core.display.HTML object>"
      ]
     },
     "metadata": {},
     "output_type": "display_data"
    },
    {
     "data": {
      "text/html": [
       "<pre style=\"margin: 0.1em;\n",
       "padding-left: 0.25em;\n",
       "border-left-style: solid;\n",
       "font-family: var(--jp-code-font-family);\n",
       "font-size: var(--jp-code-font-size);\n",
       "line-height: var(--jp-code-line-height);\n",
       "\"><span style=\"color: var(--jp-warn-color2)\">pycodestyle</span> <span style=\"color: var(--jp-info-color0)\">INFO</span>: 2:1: E265 block comment should start with &#x27;# &#x27;</pre>"
      ],
      "text/plain": [
       "<IPython.core.display.HTML object>"
      ]
     },
     "metadata": {},
     "output_type": "display_data"
    },
    {
     "data": {
      "text/html": [
       "<pre style=\"margin: 0.1em;\n",
       "padding-left: 0.25em;\n",
       "border-left-style: solid;\n",
       "font-family: var(--jp-code-font-family);\n",
       "font-size: var(--jp-code-font-size);\n",
       "line-height: var(--jp-code-line-height);\n",
       "\"><span style=\"color: var(--jp-warn-color2)\">pycodestyle</span> <span style=\"color: var(--jp-info-color0)\">INFO</span>: 3:1: E265 block comment should start with &#x27;# &#x27;</pre>"
      ],
      "text/plain": [
       "<IPython.core.display.HTML object>"
      ]
     },
     "metadata": {},
     "output_type": "display_data"
    },
    {
     "data": {
      "text/html": [
       "<pre style=\"margin: 0.1em;\n",
       "padding-left: 0.25em;\n",
       "border-left-style: solid;\n",
       "font-family: var(--jp-code-font-family);\n",
       "font-size: var(--jp-code-font-size);\n",
       "line-height: var(--jp-code-line-height);\n",
       "\"><span style=\"color: var(--jp-warn-color2)\">pycodestyle</span> <span style=\"color: var(--jp-info-color0)\">INFO</span>: 4:1: E265 block comment should start with &#x27;# &#x27;</pre>"
      ],
      "text/plain": [
       "<IPython.core.display.HTML object>"
      ]
     },
     "metadata": {},
     "output_type": "display_data"
    },
    {
     "data": {
      "text/html": [
       "<pre style=\"margin: 0.1em;\n",
       "padding-left: 0.25em;\n",
       "border-left-style: solid;\n",
       "font-family: var(--jp-code-font-family);\n",
       "font-size: var(--jp-code-font-size);\n",
       "line-height: var(--jp-code-line-height);\n",
       "\"><span style=\"color: var(--jp-warn-color2)\">pycodestyle</span> <span style=\"color: var(--jp-info-color0)\">INFO</span>: 5:1: E265 block comment should start with &#x27;# &#x27;</pre>"
      ],
      "text/plain": [
       "<IPython.core.display.HTML object>"
      ]
     },
     "metadata": {},
     "output_type": "display_data"
    },
    {
     "data": {
      "text/html": [
       "<pre style=\"margin: 0.1em;\n",
       "padding-left: 0.25em;\n",
       "border-left-style: solid;\n",
       "font-family: var(--jp-code-font-family);\n",
       "font-size: var(--jp-code-font-size);\n",
       "line-height: var(--jp-code-line-height);\n",
       "\"><span style=\"color: var(--jp-warn-color2)\">pycodestyle</span> <span style=\"color: var(--jp-info-color0)\">INFO</span>: 6:1: E265 block comment should start with &#x27;# &#x27;</pre>"
      ],
      "text/plain": [
       "<IPython.core.display.HTML object>"
      ]
     },
     "metadata": {},
     "output_type": "display_data"
    }
   ],
   "source": [
    "#fig, ax = plt.subplots()\n",
    "#display = afwDisplay.Display(frame=fig)\n",
    "#display.scale('asinh', 'zscale')\n",
    "#display.mtv(coadd.image)\n",
    "#plt.show()\n",
    "#remove_figure(fig)"
   ]
  },
  {
   "cell_type": "code",
   "execution_count": 7,
   "id": "914e6572-fcac-415a-a4de-fb526d198483",
   "metadata": {
    "execution": {
     "iopub.execute_input": "2024-12-16T19:26:07.866268Z",
     "iopub.status.busy": "2024-12-16T19:26:07.866094Z",
     "iopub.status.idle": "2024-12-16T19:26:08.234782Z",
     "shell.execute_reply": "2024-12-16T19:26:08.234197Z",
     "shell.execute_reply.started": "2024-12-16T19:26:07.866252Z"
    }
   },
   "outputs": [],
   "source": [
    "skymap = butler.get('skyMap')\n",
    "dataId = {'skymap': skymap, 'tract': 4431, 'patch': 17}\n"
   ]
  },
  {
   "cell_type": "code",
   "execution_count": 8,
   "id": "7006a12e-5631-4b55-9eba-6f5fd7f73bac",
   "metadata": {
    "execution": {
     "iopub.execute_input": "2024-12-16T19:26:08.235632Z",
     "iopub.status.busy": "2024-12-16T19:26:08.235461Z",
     "iopub.status.idle": "2024-12-16T19:26:08.317057Z",
     "shell.execute_reply": "2024-12-16T19:26:08.316205Z",
     "shell.execute_reply.started": "2024-12-16T19:26:08.235616Z"
    }
   },
   "outputs": [],
   "source": [
    "cutout_image = coadd\n",
    "\n",
    "wcs = cutout_image.getWcs()\n",
    "\n",
    "x0 = float(cutout_image.getX0())\n",
    "y0 = float(cutout_image.getY0())\n",
    "width = cutout_image.getWidth()\n",
    "height = cutout_image.getHeight()\n",
    "\n",
    "xcorners = [x0, x0+width, x0+width, x0]\n",
    "ycorners = [y0, y0, y0+width, y0+width]\n",
    "\n",
    "ra_corners = []\n",
    "dec_corners = []\n",
    "\n",
    "for i in range(len(xcorners)):\n",
    "    radec = wcs.pixelToSky(xcorners[i], ycorners[i])\n",
    "    ra_corners.append(radec.getRa().asDegrees())\n",
    "    dec_corners.append(radec.getDec().asDegrees())"
   ]
  },
  {
   "cell_type": "code",
   "execution_count": 9,
   "id": "decab323-5735-4e6a-af11-cabb3cc7bdc3",
   "metadata": {
    "execution": {
     "iopub.execute_input": "2024-12-16T19:26:08.317964Z",
     "iopub.status.busy": "2024-12-16T19:26:08.317779Z",
     "iopub.status.idle": "2024-12-16T19:26:08.400569Z",
     "shell.execute_reply": "2024-12-16T19:26:08.399947Z",
     "shell.execute_reply.started": "2024-12-16T19:26:08.317949Z"
    }
   },
   "outputs": [
    {
     "data": {
      "text/html": [
       "<pre style=\"margin: 0.1em;\n",
       "padding-left: 0.25em;\n",
       "border-left-style: solid;\n",
       "font-family: var(--jp-code-font-family);\n",
       "font-size: var(--jp-code-font-size);\n",
       "line-height: var(--jp-code-line-height);\n",
       "\"><span style=\"color: var(--jp-warn-color2)\">pycodestyle</span> <span style=\"color: var(--jp-info-color0)\">INFO</span>: 9:80: E501 line too long (87 &gt; 79 characters)</pre>"
      ],
      "text/plain": [
       "<IPython.core.display.HTML object>"
      ]
     },
     "metadata": {},
     "output_type": "display_data"
    },
    {
     "data": {
      "text/html": [
       "<pre style=\"margin: 0.1em;\n",
       "padding-left: 0.25em;\n",
       "border-left-style: solid;\n",
       "font-family: var(--jp-code-font-family);\n",
       "font-size: var(--jp-code-font-size);\n",
       "line-height: var(--jp-code-line-height);\n",
       "\"><span style=\"color: var(--jp-warn-color2)\">pycodestyle</span> <span style=\"color: var(--jp-info-color0)\">INFO</span>: 14:80: E501 line too long (82 &gt; 79 characters)</pre>"
      ],
      "text/plain": [
       "<IPython.core.display.HTML object>"
      ]
     },
     "metadata": {},
     "output_type": "display_data"
    },
    {
     "name": "stdout",
     "output_type": "stream",
     "text": [
      "SELECT objectId, coord_ra, coord_dec, x, y, tract, patch, i_ap09Flux, i_ap12Flux, i_ap17Flux, i_ap25Flux, i_ap35Flux, i_cModelFlux, i_free_cModelFlux, i_gaap3p0Flux, i_gaap1p5Flux, i_gaapOptimalFlux, i_kronFlux, i_kronRad, i_kronFlux_flag, detect_fromBlend FROM dp02_dc2_catalogs.Object WHERE CONTAINS(POINT('ICRS', coord_ra, coord_dec), POLYGON('ICRS', 55.79016376401875, -32.322225378380246, 55.5140525810614, -32.32222523523597, 55.51440424131911, -32.088896406426095, 55.78981243851229, -32.088896548288034)) = 1 AND detect_isPrimary = 1 AND tract = 4431 AND patch = 17\n"
     ]
    }
   ],
   "source": [
    "query = \"SELECT objectId, coord_ra, coord_dec, x, y, tract, patch, \" + \\\n",
    "        \"i_ap09Flux, i_ap12Flux, i_ap17Flux, i_ap25Flux, i_ap35Flux, \" + \\\n",
    "        \"i_cModelFlux, i_free_cModelFlux, \" + \\\n",
    "        \"i_gaap3p0Flux, i_gaap1p5Flux, i_gaapOptimalFlux, \" + \\\n",
    "        \"i_kronFlux, i_kronRad, i_kronFlux_flag, \" + \\\n",
    "        \"detect_fromBlend \" + \\\n",
    "        \"FROM dp02_dc2_catalogs.Object \" + \\\n",
    "        \"WHERE CONTAINS(POINT('ICRS', coord_ra, coord_dec), \" + \\\n",
    "        \"POLYGON('ICRS', \" + str(ra_corners[0]) + \", \" + str(dec_corners[0]) + \", \" + \\\n",
    "        str(ra_corners[1]) + \", \" + str(dec_corners[1]) + \", \" + \\\n",
    "        str(ra_corners[2]) + \", \" + str(dec_corners[2]) + \", \" + \\\n",
    "        str(ra_corners[3]) + \", \" + str(dec_corners[3]) + \")) = 1 AND \" + \\\n",
    "        \"detect_isPrimary = 1 AND \" + \\\n",
    "        \"tract = \" + str(dataId['tract']) + \" AND patch = \" + str(dataId['patch'])\n",
    "print(query)"
   ]
  },
  {
   "cell_type": "code",
   "execution_count": 10,
   "id": "8b1fb7e3-b2f3-49d5-8991-aaa0a39d2b83",
   "metadata": {
    "execution": {
     "iopub.execute_input": "2024-12-16T19:26:08.401331Z",
     "iopub.status.busy": "2024-12-16T19:26:08.401177Z",
     "iopub.status.idle": "2024-12-16T19:26:08.492752Z",
     "shell.execute_reply": "2024-12-16T19:26:08.492250Z",
     "shell.execute_reply.started": "2024-12-16T19:26:08.401317Z"
    }
   },
   "outputs": [
    {
     "data": {
      "text/html": [
       "<pre style=\"margin: 0.1em;\n",
       "padding-left: 0.25em;\n",
       "border-left-style: solid;\n",
       "font-family: var(--jp-code-font-family);\n",
       "font-size: var(--jp-code-font-size);\n",
       "line-height: var(--jp-code-line-height);\n",
       "\"><span style=\"color: var(--jp-warn-color2)\">pycodestyle</span> <span style=\"color: var(--jp-info-color0)\">INFO</span>: 1:80: E501 line too long (85 &gt; 79 characters)</pre>"
      ],
      "text/plain": [
       "<IPython.core.display.HTML object>"
      ]
     },
     "metadata": {},
     "output_type": "display_data"
    },
    {
     "data": {
      "text/html": [
       "<pre style=\"margin: 0.1em;\n",
       "padding-left: 0.25em;\n",
       "border-left-style: solid;\n",
       "font-family: var(--jp-code-font-family);\n",
       "font-size: var(--jp-code-font-size);\n",
       "line-height: var(--jp-code-line-height);\n",
       "\"><span style=\"color: var(--jp-warn-color2)\">pycodestyle</span> <span style=\"color: var(--jp-info-color0)\">INFO</span>: 3:80: E501 line too long (84 &gt; 79 characters)</pre>"
      ],
      "text/plain": [
       "<IPython.core.display.HTML object>"
      ]
     },
     "metadata": {},
     "output_type": "display_data"
    },
    {
     "data": {
      "text/html": [
       "<pre style=\"margin: 0.1em;\n",
       "padding-left: 0.25em;\n",
       "border-left-style: solid;\n",
       "font-family: var(--jp-code-font-family);\n",
       "font-size: var(--jp-code-font-size);\n",
       "line-height: var(--jp-code-line-height);\n",
       "\"><span style=\"color: var(--jp-warn-color2)\">pycodestyle</span> <span style=\"color: var(--jp-info-color0)\">INFO</span>: 8:80: E501 line too long (92 &gt; 79 characters)</pre>"
      ],
      "text/plain": [
       "<IPython.core.display.HTML object>"
      ]
     },
     "metadata": {},
     "output_type": "display_data"
    },
    {
     "data": {
      "text/html": [
       "<pre style=\"margin: 0.1em;\n",
       "padding-left: 0.25em;\n",
       "border-left-style: solid;\n",
       "font-family: var(--jp-code-font-family);\n",
       "font-size: var(--jp-code-font-size);\n",
       "line-height: var(--jp-code-line-height);\n",
       "\"><span style=\"color: var(--jp-warn-color2)\">pycodestyle</span> <span style=\"color: var(--jp-info-color0)\">INFO</span>: 9:80: E501 line too long (84 &gt; 79 characters)</pre>"
      ],
      "text/plain": [
       "<IPython.core.display.HTML object>"
      ]
     },
     "metadata": {},
     "output_type": "display_data"
    },
    {
     "data": {
      "text/html": [
       "<pre style=\"margin: 0.1em;\n",
       "padding-left: 0.25em;\n",
       "border-left-style: solid;\n",
       "font-family: var(--jp-code-font-family);\n",
       "font-size: var(--jp-code-font-size);\n",
       "line-height: var(--jp-code-line-height);\n",
       "\"><span style=\"color: var(--jp-warn-color2)\">pycodestyle</span> <span style=\"color: var(--jp-info-color0)\">INFO</span>: 10:80: E501 line too long (107 &gt; 79 characters)</pre>"
      ],
      "text/plain": [
       "<IPython.core.display.HTML object>"
      ]
     },
     "metadata": {},
     "output_type": "display_data"
    },
    {
     "data": {
      "text/html": [
       "<pre style=\"margin: 0.1em;\n",
       "padding-left: 0.25em;\n",
       "border-left-style: solid;\n",
       "font-family: var(--jp-code-font-family);\n",
       "font-size: var(--jp-code-font-size);\n",
       "line-height: var(--jp-code-line-height);\n",
       "\"><span style=\"color: var(--jp-warn-color2)\">pycodestyle</span> <span style=\"color: var(--jp-info-color0)\">INFO</span>: 13:1: E265 block comment should start with &#x27;# &#x27;</pre>"
      ],
      "text/plain": [
       "<IPython.core.display.HTML object>"
      ]
     },
     "metadata": {},
     "output_type": "display_data"
    },
    {
     "data": {
      "text/html": [
       "<pre style=\"margin: 0.1em;\n",
       "padding-left: 0.25em;\n",
       "border-left-style: solid;\n",
       "font-family: var(--jp-code-font-family);\n",
       "font-size: var(--jp-code-font-size);\n",
       "line-height: var(--jp-code-line-height);\n",
       "\"><span style=\"color: var(--jp-warn-color2)\">pycodestyle</span> <span style=\"color: var(--jp-info-color0)\">INFO</span>: 13:80: E501 line too long (80 &gt; 79 characters)</pre>"
      ],
      "text/plain": [
       "<IPython.core.display.HTML object>"
      ]
     },
     "metadata": {},
     "output_type": "display_data"
    },
    {
     "data": {
      "text/html": [
       "<pre style=\"margin: 0.1em;\n",
       "padding-left: 0.25em;\n",
       "border-left-style: solid;\n",
       "font-family: var(--jp-code-font-family);\n",
       "font-size: var(--jp-code-font-size);\n",
       "line-height: var(--jp-code-line-height);\n",
       "\"><span style=\"color: var(--jp-warn-color2)\">pycodestyle</span> <span style=\"color: var(--jp-info-color0)\">INFO</span>: 16:68: W291 trailing whitespace</pre>"
      ],
      "text/plain": [
       "<IPython.core.display.HTML object>"
      ]
     },
     "metadata": {},
     "output_type": "display_data"
    },
    {
     "data": {
      "text/html": [
       "<pre style=\"margin: 0.1em;\n",
       "padding-left: 0.25em;\n",
       "border-left-style: solid;\n",
       "font-family: var(--jp-code-font-family);\n",
       "font-size: var(--jp-code-font-size);\n",
       "line-height: var(--jp-code-line-height);\n",
       "\"><span style=\"color: var(--jp-warn-color2)\">pycodestyle</span> <span style=\"color: var(--jp-info-color0)\">INFO</span>: 17:9: E116 unexpected indentation (comment)</pre>"
      ],
      "text/plain": [
       "<IPython.core.display.HTML object>"
      ]
     },
     "metadata": {},
     "output_type": "display_data"
    },
    {
     "data": {
      "text/html": [
       "<pre style=\"margin: 0.1em;\n",
       "padding-left: 0.25em;\n",
       "border-left-style: solid;\n",
       "font-family: var(--jp-code-font-family);\n",
       "font-size: var(--jp-code-font-size);\n",
       "line-height: var(--jp-code-line-height);\n",
       "\"><span style=\"color: var(--jp-warn-color2)\">pycodestyle</span> <span style=\"color: var(--jp-info-color0)\">INFO</span>: 17:9: E265 block comment should start with &#x27;# &#x27;</pre>"
      ],
      "text/plain": [
       "<IPython.core.display.HTML object>"
      ]
     },
     "metadata": {},
     "output_type": "display_data"
    },
    {
     "data": {
      "text/html": [
       "<pre style=\"margin: 0.1em;\n",
       "padding-left: 0.25em;\n",
       "border-left-style: solid;\n",
       "font-family: var(--jp-code-font-family);\n",
       "font-size: var(--jp-code-font-size);\n",
       "line-height: var(--jp-code-line-height);\n",
       "\"><span style=\"color: var(--jp-warn-color2)\">pycodestyle</span> <span style=\"color: var(--jp-info-color0)\">INFO</span>: 17:53: W291 trailing whitespace</pre>"
      ],
      "text/plain": [
       "<IPython.core.display.HTML object>"
      ]
     },
     "metadata": {},
     "output_type": "display_data"
    },
    {
     "data": {
      "text/html": [
       "<pre style=\"margin: 0.1em;\n",
       "padding-left: 0.25em;\n",
       "border-left-style: solid;\n",
       "font-family: var(--jp-code-font-family);\n",
       "font-size: var(--jp-code-font-size);\n",
       "line-height: var(--jp-code-line-height);\n",
       "\"><span style=\"color: var(--jp-warn-color2)\">pycodestyle</span> <span style=\"color: var(--jp-info-color0)\">INFO</span>: 19:9: E116 unexpected indentation (comment)</pre>"
      ],
      "text/plain": [
       "<IPython.core.display.HTML object>"
      ]
     },
     "metadata": {},
     "output_type": "display_data"
    },
    {
     "data": {
      "text/html": [
       "<pre style=\"margin: 0.1em;\n",
       "padding-left: 0.25em;\n",
       "border-left-style: solid;\n",
       "font-family: var(--jp-code-font-family);\n",
       "font-size: var(--jp-code-font-size);\n",
       "line-height: var(--jp-code-line-height);\n",
       "\"><span style=\"color: var(--jp-warn-color2)\">pycodestyle</span> <span style=\"color: var(--jp-info-color0)\">INFO</span>: 19:9: E265 block comment should start with &#x27;# &#x27;</pre>"
      ],
      "text/plain": [
       "<IPython.core.display.HTML object>"
      ]
     },
     "metadata": {},
     "output_type": "display_data"
    },
    {
     "data": {
      "text/html": [
       "<pre style=\"margin: 0.1em;\n",
       "padding-left: 0.25em;\n",
       "border-left-style: solid;\n",
       "font-family: var(--jp-code-font-family);\n",
       "font-size: var(--jp-code-font-size);\n",
       "line-height: var(--jp-code-line-height);\n",
       "\"><span style=\"color: var(--jp-warn-color2)\">pycodestyle</span> <span style=\"color: var(--jp-info-color0)\">INFO</span>: 20:9: E116 unexpected indentation (comment)</pre>"
      ],
      "text/plain": [
       "<IPython.core.display.HTML object>"
      ]
     },
     "metadata": {},
     "output_type": "display_data"
    },
    {
     "data": {
      "text/html": [
       "<pre style=\"margin: 0.1em;\n",
       "padding-left: 0.25em;\n",
       "border-left-style: solid;\n",
       "font-family: var(--jp-code-font-family);\n",
       "font-size: var(--jp-code-font-size);\n",
       "line-height: var(--jp-code-line-height);\n",
       "\"><span style=\"color: var(--jp-warn-color2)\">pycodestyle</span> <span style=\"color: var(--jp-info-color0)\">INFO</span>: 20:9: E265 block comment should start with &#x27;# &#x27;</pre>"
      ],
      "text/plain": [
       "<IPython.core.display.HTML object>"
      ]
     },
     "metadata": {},
     "output_type": "display_data"
    },
    {
     "data": {
      "text/html": [
       "<pre style=\"margin: 0.1em;\n",
       "padding-left: 0.25em;\n",
       "border-left-style: solid;\n",
       "font-family: var(--jp-code-font-family);\n",
       "font-size: var(--jp-code-font-size);\n",
       "line-height: var(--jp-code-line-height);\n",
       "\"><span style=\"color: var(--jp-warn-color2)\">pycodestyle</span> <span style=\"color: var(--jp-info-color0)\">INFO</span>: 20:80: E501 line too long (91 &gt; 79 characters)</pre>"
      ],
      "text/plain": [
       "<IPython.core.display.HTML object>"
      ]
     },
     "metadata": {},
     "output_type": "display_data"
    },
    {
     "data": {
      "text/html": [
       "<pre style=\"margin: 0.1em;\n",
       "padding-left: 0.25em;\n",
       "border-left-style: solid;\n",
       "font-family: var(--jp-code-font-family);\n",
       "font-size: var(--jp-code-font-size);\n",
       "line-height: var(--jp-code-line-height);\n",
       "\"><span style=\"color: var(--jp-warn-color2)\">pycodestyle</span> <span style=\"color: var(--jp-info-color0)\">INFO</span>: 22:1: E265 block comment should start with &#x27;# &#x27;</pre>"
      ],
      "text/plain": [
       "<IPython.core.display.HTML object>"
      ]
     },
     "metadata": {},
     "output_type": "display_data"
    },
    {
     "name": "stdout",
     "output_type": "stream",
     "text": [
      "SELECT mt.id_truth_type, mt.match_objectId, ts.ra, ts.dec, ts.truth_type, obj.coord_ra, obj.coord_dec obj.i_kronFlux, obj.i_kronRad, obj.i_kronFlux_flag, obj.i_cModelFlux, obj.i_cModelFlux, obj.i_free_cModelFlux, obj.i_gaap3p0Flux, obj.i_gaap1p5Flux, obj.i_gaapOptimalFlux, obj.detect_fromBlend  FROM dp02_dc2_catalogs.MatchesTruth AS mt JOIN dp02_dc2_catalogs.TruthSummary AS ts ON mt.id_truth_type = ts.id_truth_type JOIN dp02_dc2_catalogs.Object AS obj ON mt.match_objectId = obj.objectId WHERE CONTAINS(POINT('ICRS', obj.coord_ra, obj.coord_dec), CIRCLE('ICRS', 62.0, -37.0, 0.10)) = 1\n"
     ]
    }
   ],
   "source": [
    "query = \"SELECT mt.id_truth_type, mt.match_objectId, ts.ra, ts.dec, ts.truth_type, \"\\\n",
    "        \"obj.coord_ra, obj.coord_dec \"\\\n",
    "        \"obj.i_kronFlux, obj.i_kronRad, obj.i_kronFlux_flag, obj.i_cModelFlux, \" + \\\n",
    "        \"obj.i_cModelFlux, obj.i_free_cModelFlux, \" + \\\n",
    "        \"obj.i_gaap3p0Flux, obj.i_gaap1p5Flux, obj.i_gaapOptimalFlux, \" + \\\n",
    "        \"obj.detect_fromBlend  \" + \\\n",
    "        \"FROM dp02_dc2_catalogs.MatchesTruth AS mt \"\\\n",
    "        \"JOIN dp02_dc2_catalogs.TruthSummary AS ts ON mt.id_truth_type = ts.id_truth_type \"\\\n",
    "        \"JOIN dp02_dc2_catalogs.Object AS obj ON mt.match_objectId = obj.objectId \"\\\n",
    "        \"WHERE CONTAINS(POINT('ICRS', obj.coord_ra, obj.coord_dec), CIRCLE('ICRS', 62.0, -37.0, 0.10)) = 1\"\n",
    "\n",
    "\n",
    "#\"POLYGON('ICRS', \" + str(ra_corners[0]) + \", \" + str(dec_corners[0]) + \", \" + \\\n",
    "#        str(ra_corners[1]) + \", \" + str(dec_corners[1]) + \", \" + \\\n",
    "#        str(ra_corners[2]) + \", \" + str(dec_corners[2]) + \", \" + \\\n",
    "#        str(ra_corners[3]) + \", \" + str(dec_corners[3]) + \")) = 1\" \n",
    "        #, CIRCLE('ICRS', 62.0, -37.0, 0.10)) = 1 \"\" \n",
    "# AND \" + \\\n",
    "        #\"obj.detect_isPrimary = 1 AND \" + \\\n",
    "        #\"obj.tract = \" + str(dataId['tract']) + \" AND obj.patch = \" + str(dataId['patch'])\n",
    "\n",
    "#CIRCLE('ICRS', 62.0, -37.0, 0.10)) = 1 \"\n",
    "print(query)"
   ]
  },
  {
   "cell_type": "code",
   "execution_count": 11,
   "id": "0d28a6ad-4436-410c-9b9d-e995140be304",
   "metadata": {
    "execution": {
     "iopub.execute_input": "2024-12-16T19:26:08.493522Z",
     "iopub.status.busy": "2024-12-16T19:26:08.493353Z",
     "iopub.status.idle": "2024-12-16T19:26:08.577965Z",
     "shell.execute_reply": "2024-12-16T19:26:08.577466Z",
     "shell.execute_reply.started": "2024-12-16T19:26:08.493508Z"
    }
   },
   "outputs": [
    {
     "name": "stdout",
     "output_type": "stream",
     "text": [
      "SELECT mt.id_truth_type, mt.match_objectId, ts.ra, ts.dec, ts.truth_type, ts.flux_i, obj.coord_ra, obj.coord_dec, obj.i_kronFlux, obj.i_kronRad, obj.i_kronFlux_flag, obj.i_cModelFlux FROM dp02_dc2_catalogs.MatchesTruth AS mt JOIN dp02_dc2_catalogs.TruthSummary AS ts ON mt.id_truth_type = ts.id_truth_type JOIN dp02_dc2_catalogs.Object AS obj ON mt.match_objectId = obj.objectId WHERE CONTAINS(POINT('ICRS', obj.coord_ra, obj.coord_dec), CIRCLE('ICRS', 62.0, -37.0, 0.10)) = 1 \n"
     ]
    },
    {
     "data": {
      "text/html": [
       "<pre style=\"margin: 0.1em;\n",
       "padding-left: 0.25em;\n",
       "border-left-style: solid;\n",
       "font-family: var(--jp-code-font-family);\n",
       "font-size: var(--jp-code-font-size);\n",
       "line-height: var(--jp-code-line-height);\n",
       "\"><span style=\"color: var(--jp-warn-color2)\">pycodestyle</span> <span style=\"color: var(--jp-info-color0)\">INFO</span>: 1:80: E501 line too long (96 &gt; 79 characters)</pre>"
      ],
      "text/plain": [
       "<IPython.core.display.HTML object>"
      ]
     },
     "metadata": {},
     "output_type": "display_data"
    },
    {
     "data": {
      "text/html": [
       "<pre style=\"margin: 0.1em;\n",
       "padding-left: 0.25em;\n",
       "border-left-style: solid;\n",
       "font-family: var(--jp-code-font-family);\n",
       "font-size: var(--jp-code-font-size);\n",
       "line-height: var(--jp-code-line-height);\n",
       "\"><span style=\"color: var(--jp-warn-color2)\">pycodestyle</span> <span style=\"color: var(--jp-info-color0)\">INFO</span>: 3:80: E501 line too long (83 &gt; 79 characters)</pre>"
      ],
      "text/plain": [
       "<IPython.core.display.HTML object>"
      ]
     },
     "metadata": {},
     "output_type": "display_data"
    },
    {
     "data": {
      "text/html": [
       "<pre style=\"margin: 0.1em;\n",
       "padding-left: 0.25em;\n",
       "border-left-style: solid;\n",
       "font-family: var(--jp-code-font-family);\n",
       "font-size: var(--jp-code-font-size);\n",
       "line-height: var(--jp-code-line-height);\n",
       "\"><span style=\"color: var(--jp-warn-color2)\">pycodestyle</span> <span style=\"color: var(--jp-info-color0)\">INFO</span>: 5:80: E501 line too long (92 &gt; 79 characters)</pre>"
      ],
      "text/plain": [
       "<IPython.core.display.HTML object>"
      ]
     },
     "metadata": {},
     "output_type": "display_data"
    },
    {
     "data": {
      "text/html": [
       "<pre style=\"margin: 0.1em;\n",
       "padding-left: 0.25em;\n",
       "border-left-style: solid;\n",
       "font-family: var(--jp-code-font-family);\n",
       "font-size: var(--jp-code-font-size);\n",
       "line-height: var(--jp-code-line-height);\n",
       "\"><span style=\"color: var(--jp-warn-color2)\">pycodestyle</span> <span style=\"color: var(--jp-info-color0)\">INFO</span>: 6:80: E501 line too long (84 &gt; 79 characters)</pre>"
      ],
      "text/plain": [
       "<IPython.core.display.HTML object>"
      ]
     },
     "metadata": {},
     "output_type": "display_data"
    },
    {
     "data": {
      "text/html": [
       "<pre style=\"margin: 0.1em;\n",
       "padding-left: 0.25em;\n",
       "border-left-style: solid;\n",
       "font-family: var(--jp-code-font-family);\n",
       "font-size: var(--jp-code-font-size);\n",
       "line-height: var(--jp-code-line-height);\n",
       "\"><span style=\"color: var(--jp-warn-color2)\">pycodestyle</span> <span style=\"color: var(--jp-info-color0)\">INFO</span>: 7:80: E501 line too long (108 &gt; 79 characters)</pre>"
      ],
      "text/plain": [
       "<IPython.core.display.HTML object>"
      ]
     },
     "metadata": {},
     "output_type": "display_data"
    }
   ],
   "source": [
    "query = \"SELECT mt.id_truth_type, mt.match_objectId, ts.ra, ts.dec, ts.truth_type, ts.flux_i, \"\\\n",
    "        \"obj.coord_ra, obj.coord_dec, \"\\\n",
    "        \"obj.i_kronFlux, obj.i_kronRad, obj.i_kronFlux_flag, obj.i_cModelFlux \" + \\\n",
    "        \"FROM dp02_dc2_catalogs.MatchesTruth AS mt \"\\\n",
    "        \"JOIN dp02_dc2_catalogs.TruthSummary AS ts ON mt.id_truth_type = ts.id_truth_type \"\\\n",
    "        \"JOIN dp02_dc2_catalogs.Object AS obj ON mt.match_objectId = obj.objectId \"\\\n",
    "        \"WHERE CONTAINS(POINT('ICRS', obj.coord_ra, obj.coord_dec), CIRCLE('ICRS', 62.0, -37.0, 0.10)) = 1 \"\n",
    "print(query)"
   ]
  },
  {
   "cell_type": "code",
   "execution_count": 12,
   "id": "1b10f993-c750-49a3-82c0-1c5a5112884a",
   "metadata": {
    "execution": {
     "iopub.execute_input": "2024-12-16T19:26:08.578754Z",
     "iopub.status.busy": "2024-12-16T19:26:08.578602Z",
     "iopub.status.idle": "2024-12-16T19:27:17.104865Z",
     "shell.execute_reply": "2024-12-16T19:27:17.104239Z",
     "shell.execute_reply.started": "2024-12-16T19:26:08.578740Z"
    }
   },
   "outputs": [
    {
     "name": "stdout",
     "output_type": "stream",
     "text": [
      "Job phase is COMPLETED\n"
     ]
    }
   ],
   "source": [
    "job = service.submit_job(query)\n",
    "job.run()\n",
    "job.wait(phases=['COMPLETED', 'ERROR'])\n",
    "print('Job phase is', job.phase)"
   ]
  },
  {
   "cell_type": "code",
   "execution_count": 13,
   "id": "6b0938c2-0724-459c-b560-56e0b4f2a330",
   "metadata": {
    "execution": {
     "iopub.execute_input": "2024-12-16T19:27:17.105762Z",
     "iopub.status.busy": "2024-12-16T19:27:17.105581Z",
     "iopub.status.idle": "2024-12-16T19:27:17.617123Z",
     "shell.execute_reply": "2024-12-16T19:27:17.616490Z",
     "shell.execute_reply.started": "2024-12-16T19:27:17.105740Z"
    }
   },
   "outputs": [
    {
     "name": "stdout",
     "output_type": "stream",
     "text": [
      "14850\n"
     ]
    },
    {
     "data": {
      "text/html": [
       "<div><i>Table length=14850</i>\n",
       "<table id=\"table133286381979664\" class=\"table-striped table-bordered table-condensed\">\n",
       "<thead><tr><th>id_truth_type</th><th>match_objectId</th><th>ra</th><th>dec</th><th>truth_type</th><th>flux_i</th><th>coord_ra</th><th>coord_dec</th><th>i_kronFlux</th><th>i_kronRad</th><th>i_kronFlux_flag</th><th>i_cModelFlux</th></tr></thead>\n",
       "<thead><tr><th></th><th></th><th>deg</th><th>deg</th><th></th><th>nJy</th><th>deg</th><th>deg</th><th>nJy</th><th></th><th></th><th>nJy</th></tr></thead>\n",
       "<thead><tr><th>str18</th><th>int64</th><th>float64</th><th>float64</th><th>int64</th><th>float32</th><th>float64</th><th>float64</th><th>float64</th><th>float32</th><th>bool</th><th>float64</th></tr></thead>\n",
       "<tr><td>7945422126_1</td><td>1651220174314970042</td><td>62.0098537</td><td>-37.0901136</td><td>1</td><td>80.1357</td><td>62.0097847</td><td>-37.0901294</td><td>165.209455</td><td>3.96143</td><td>False</td><td>144.8895812</td></tr>\n",
       "<tr><td>7945243448_1</td><td>1651220174314969053</td><td>62.0123662</td><td>-37.0958262</td><td>1</td><td>29.3619</td><td>62.0122497</td><td>-37.095827</td><td>26.3455006</td><td>3.35127</td><td>False</td><td>26.4549883</td></tr>\n",
       "<tr><td>7943980583_1</td><td>1651220174314973031</td><td>62.0804319</td><td>-37.0599329</td><td>1</td><td>85.0716</td><td>62.0804585</td><td>-37.0599007</td><td>162.519251</td><td>5.77871</td><td>False</td><td>94.6220978</td></tr>\n",
       "<tr><td>7945989161_1</td><td>1651220174314971178</td><td>62.0564371</td><td>-37.0798811</td><td>1</td><td>19.3238</td><td>62.0564774</td><td>-37.0798535</td><td>302.4945923</td><td>6.34324</td><td>False</td><td>26.7677409</td></tr>\n",
       "<tr><td>7943914894_1</td><td>1651220174314972468</td><td>62.0265776</td><td>-37.0665263</td><td>1</td><td>97.0441</td><td>62.0265816</td><td>-37.0666442</td><td>88.0578177</td><td>2.17656</td><td>False</td><td>92.9627681</td></tr>\n",
       "<tr><td>7945857828_1</td><td>1651220174314944411</td><td>62.0235745</td><td>-37.09605</td><td>1</td><td>17.5286</td><td>62.0237049</td><td>-37.0960033</td><td>894.5515387</td><td>7.43073</td><td>True</td><td>46.6692541</td></tr>\n",
       "<tr><td>7952673851_1</td><td>1651220174314942424</td><td>62.0192451</td><td>-37.0681484</td><td>1</td><td>21.9923</td><td>62.0192534</td><td>-37.0680369</td><td>235.4698083</td><td>6.75986</td><td>True</td><td>16.5300362</td></tr>\n",
       "<tr><td>7944426799_1</td><td>1651220174314944029</td><td>62.0598167</td><td>-37.078065</td><td>1</td><td>71.2611</td><td>62.0596735</td><td>-37.0780034</td><td>--</td><td>--</td><td>True</td><td>51.5588324</td></tr>\n",
       "<tr><td>7950583914_1</td><td>1651220174314971134</td><td>62.0263471</td><td>-37.0806093</td><td>1</td><td>225.01</td><td>62.0264767</td><td>-37.080598</td><td>154.3405117</td><td>3.28615</td><td>False</td><td>150.5482851</td></tr>\n",
       "<tr><td>...</td><td>...</td><td>...</td><td>...</td><td>...</td><td>...</td><td>...</td><td>...</td><td>...</td><td>...</td><td>...</td><td>...</td></tr>\n",
       "<tr><td>7941947856_1</td><td>1651220174314938116</td><td>62.0738491</td><td>-37.0527351</td><td>1</td><td>101.294</td><td>62.0738721</td><td>-37.0527186</td><td>582.997383</td><td>10.4693</td><td>True</td><td>126.1897222</td></tr>\n",
       "<tr><td>7940592997_1</td><td>1651220174314938114</td><td>62.002132</td><td>-37.0526555</td><td>1</td><td>206.925</td><td>62.0021215</td><td>-37.0526411</td><td>436.3974334</td><td>6.11094</td><td>False</td><td>174.7833985</td></tr>\n",
       "<tr><td>7941544592_1</td><td>1651220174314938119</td><td>62.077169</td><td>-37.0524956</td><td>1</td><td>269.445</td><td>62.0771789</td><td>-37.0525201</td><td>331.2637501</td><td>2.76985</td><td>False</td><td>302.0123595</td></tr>\n",
       "<tr><td>7939674321_1</td><td>1651281746966117442</td><td>62.0134859</td><td>-36.9668543</td><td>1</td><td>247.05</td><td>62.0135091</td><td>-36.966804</td><td>246.8713545</td><td>3.19171</td><td>False</td><td>243.6787974</td></tr>\n",
       "<tr><td>7939694560_1</td><td>1651281746966118922</td><td>62.0979825</td><td>-36.9472682</td><td>1</td><td>106.092</td><td>62.0978588</td><td>-36.9472224</td><td>244.5113481</td><td>2.96379</td><td>False</td><td>244.874761</td></tr>\n",
       "<tr><td>7939674319_1</td><td>1651281746966116931</td><td>62.015545</td><td>-36.9700529</td><td>1</td><td>99.9993</td><td>62.0155967</td><td>-36.9699778</td><td>113.0465834</td><td>2.5054</td><td>False</td><td>118.1390177</td></tr>\n",
       "<tr><td>7939674328_1</td><td>1651281746966117956</td><td>62.0059488</td><td>-36.9589215</td><td>1</td><td>104.76</td><td>62.0059801</td><td>-36.9588153</td><td>544.2527922</td><td>9.1372</td><td>False</td><td>228.9871482</td></tr>\n",
       "<tr><td>7939699200_1</td><td>1651281746966119021</td><td>62.0115523</td><td>-36.9472928</td><td>1</td><td>156.38</td><td>62.011636</td><td>-36.9472674</td><td>10.962813</td><td>2.81807</td><td>False</td><td>11.0785882</td></tr>\n",
       "<tr><td>7939698330_1</td><td>1651220174314939597</td><td>62.0242245</td><td>-37.0181435</td><td>1</td><td>87.0308</td><td>62.0243168</td><td>-37.0180876</td><td>477.8553625</td><td>6.65687</td><td>False</td><td>213.6284599</td></tr>\n",
       "</table></div>"
      ],
      "text/plain": [
       "<Table length=14850>\n",
       "id_truth_type    match_objectId       ra     ... i_kronFlux_flag i_cModelFlux\n",
       "                                     deg     ...                     nJy     \n",
       "    str18            int64         float64   ...       bool        float64   \n",
       "------------- ------------------- ---------- ... --------------- ------------\n",
       " 7945422126_1 1651220174314970042 62.0098537 ...           False  144.8895812\n",
       " 7945243448_1 1651220174314969053 62.0123662 ...           False   26.4549883\n",
       " 7943980583_1 1651220174314973031 62.0804319 ...           False   94.6220978\n",
       " 7945989161_1 1651220174314971178 62.0564371 ...           False   26.7677409\n",
       " 7943914894_1 1651220174314972468 62.0265776 ...           False   92.9627681\n",
       " 7945857828_1 1651220174314944411 62.0235745 ...            True   46.6692541\n",
       " 7952673851_1 1651220174314942424 62.0192451 ...            True   16.5300362\n",
       " 7944426799_1 1651220174314944029 62.0598167 ...            True   51.5588324\n",
       " 7950583914_1 1651220174314971134 62.0263471 ...           False  150.5482851\n",
       "          ...                 ...        ... ...             ...          ...\n",
       " 7941947856_1 1651220174314938116 62.0738491 ...            True  126.1897222\n",
       " 7940592997_1 1651220174314938114  62.002132 ...           False  174.7833985\n",
       " 7941544592_1 1651220174314938119  62.077169 ...           False  302.0123595\n",
       " 7939674321_1 1651281746966117442 62.0134859 ...           False  243.6787974\n",
       " 7939694560_1 1651281746966118922 62.0979825 ...           False   244.874761\n",
       " 7939674319_1 1651281746966116931  62.015545 ...           False  118.1390177\n",
       " 7939674328_1 1651281746966117956 62.0059488 ...           False  228.9871482\n",
       " 7939699200_1 1651281746966119021 62.0115523 ...           False   11.0785882\n",
       " 7939698330_1 1651220174314939597 62.0242245 ...           False  213.6284599"
      ]
     },
     "execution_count": 13,
     "metadata": {},
     "output_type": "execute_result"
    }
   ],
   "source": [
    "results = job.fetch_result()\n",
    "print(len(results))\n",
    "tab = results.to_table()\n",
    "tab"
   ]
  },
  {
   "cell_type": "code",
   "execution_count": 26,
   "id": "14124486-2f17-4fc2-8b17-ff62e91028e3",
   "metadata": {
    "execution": {
     "iopub.execute_input": "2024-12-16T19:31:40.773779Z",
     "iopub.status.busy": "2024-12-16T19:31:40.773086Z",
     "iopub.status.idle": "2024-12-16T19:31:41.062591Z",
     "shell.execute_reply": "2024-12-16T19:31:41.062101Z",
     "shell.execute_reply.started": "2024-12-16T19:31:40.773757Z"
    }
   },
   "outputs": [
    {
     "name": "stderr",
     "output_type": "stream",
     "text": [
      "/tmp/ipykernel_9284/1456611101.py:3: RuntimeWarning: divide by zero encountered in log10\n",
      "  cmodel_mag = -2.50 * np.log10(tab['i_cModelFlux']) + 31.4\n",
      "/tmp/ipykernel_9284/1456611101.py:3: RuntimeWarning: invalid value encountered in log10\n",
      "  cmodel_mag = -2.50 * np.log10(tab['i_cModelFlux']) + 31.4\n",
      "/tmp/ipykernel_9284/1456611101.py:4: RuntimeWarning: divide by zero encountered in log10\n",
      "  kron_mag = -2.50 * np.log10(tab['i_kronFlux']) + 31.4\n",
      "/tmp/ipykernel_9284/1456611101.py:4: RuntimeWarning: invalid value encountered in log10\n",
      "  kron_mag = -2.50 * np.log10(tab['i_kronFlux']) + 31.4\n"
     ]
    },
    {
     "data": {
      "image/png": "[encoded data removed]",
      "text/plain": [
       "<Figure size 640x480 with 1 Axes>"
      ]
     },
     "metadata": {},
     "output_type": "display_data"
    },
    {
     "data": {
      "text/html": [
       "<pre style=\"margin: 0.1em;\n",
       "padding-left: 0.25em;\n",
       "border-left-style: solid;\n",
       "font-family: var(--jp-code-font-family);\n",
       "font-size: var(--jp-code-font-size);\n",
       "line-height: var(--jp-code-line-height);\n",
       "\"><span style=\"color: var(--jp-warn-color2)\">pycodestyle</span> <span style=\"color: var(--jp-info-color0)\">INFO</span>: 5:12: E222 multiple spaces after operator</pre>"
      ],
      "text/plain": [
       "<IPython.core.display.HTML object>"
      ]
     },
     "metadata": {},
     "output_type": "display_data"
    },
    {
     "data": {
      "text/html": [
       "<pre style=\"margin: 0.1em;\n",
       "padding-left: 0.25em;\n",
       "border-left-style: solid;\n",
       "font-family: var(--jp-code-font-family);\n",
       "font-size: var(--jp-code-font-size);\n",
       "line-height: var(--jp-code-line-height);\n",
       "\"><span style=\"color: var(--jp-warn-color2)\">pycodestyle</span> <span style=\"color: var(--jp-info-color0)\">INFO</span>: 7:1: E265 block comment should start with &#x27;# &#x27;</pre>"
      ],
      "text/plain": [
       "<IPython.core.display.HTML object>"
      ]
     },
     "metadata": {},
     "output_type": "display_data"
    },
    {
     "data": {
      "text/html": [
       "<pre style=\"margin: 0.1em;\n",
       "padding-left: 0.25em;\n",
       "border-left-style: solid;\n",
       "font-family: var(--jp-code-font-family);\n",
       "font-size: var(--jp-code-font-size);\n",
       "line-height: var(--jp-code-line-height);\n",
       "\"><span style=\"color: var(--jp-warn-color2)\">pycodestyle</span> <span style=\"color: var(--jp-info-color0)\">INFO</span>: 9:77: E231 missing whitespace after &#x27;,&#x27;</pre>"
      ],
      "text/plain": [
       "<IPython.core.display.HTML object>"
      ]
     },
     "metadata": {},
     "output_type": "display_data"
    },
    {
     "data": {
      "text/html": [
       "<pre style=\"margin: 0.1em;\n",
       "padding-left: 0.25em;\n",
       "border-left-style: solid;\n",
       "font-family: var(--jp-code-font-family);\n",
       "font-size: var(--jp-code-font-size);\n",
       "line-height: var(--jp-code-line-height);\n",
       "\"><span style=\"color: var(--jp-warn-color2)\">pycodestyle</span> <span style=\"color: var(--jp-info-color0)\">INFO</span>: 9:80: E501 line too long (90 &gt; 79 characters)</pre>"
      ],
      "text/plain": [
       "<IPython.core.display.HTML object>"
      ]
     },
     "metadata": {},
     "output_type": "display_data"
    },
    {
     "data": {
      "text/html": [
       "<pre style=\"margin: 0.1em;\n",
       "padding-left: 0.25em;\n",
       "border-left-style: solid;\n",
       "font-family: var(--jp-code-font-family);\n",
       "font-size: var(--jp-code-font-size);\n",
       "line-height: var(--jp-code-line-height);\n",
       "\"><span style=\"color: var(--jp-warn-color2)\">pycodestyle</span> <span style=\"color: var(--jp-info-color0)\">INFO</span>: 9:81: E231 missing whitespace after &#x27;,&#x27;</pre>"
      ],
      "text/plain": [
       "<IPython.core.display.HTML object>"
      ]
     },
     "metadata": {},
     "output_type": "display_data"
    },
    {
     "data": {
      "text/html": [
       "<pre style=\"margin: 0.1em;\n",
       "padding-left: 0.25em;\n",
       "border-left-style: solid;\n",
       "font-family: var(--jp-code-font-family);\n",
       "font-size: var(--jp-code-font-size);\n",
       "line-height: var(--jp-code-line-height);\n",
       "\"><span style=\"color: var(--jp-warn-color2)\">pycodestyle</span> <span style=\"color: var(--jp-info-color0)\">INFO</span>: 11:1: E265 block comment should start with &#x27;# &#x27;</pre>"
      ],
      "text/plain": [
       "<IPython.core.display.HTML object>"
      ]
     },
     "metadata": {},
     "output_type": "display_data"
    },
    {
     "data": {
      "text/html": [
       "<pre style=\"margin: 0.1em;\n",
       "padding-left: 0.25em;\n",
       "border-left-style: solid;\n",
       "font-family: var(--jp-code-font-family);\n",
       "font-size: var(--jp-code-font-size);\n",
       "line-height: var(--jp-code-line-height);\n",
       "\"><span style=\"color: var(--jp-warn-color2)\">pycodestyle</span> <span style=\"color: var(--jp-info-color0)\">INFO</span>: 13:17: E231 missing whitespace after &#x27;,&#x27;</pre>"
      ],
      "text/plain": [
       "<IPython.core.display.HTML object>"
      ]
     },
     "metadata": {},
     "output_type": "display_data"
    },
    {
     "data": {
      "text/html": [
       "<pre style=\"margin: 0.1em;\n",
       "padding-left: 0.25em;\n",
       "border-left-style: solid;\n",
       "font-family: var(--jp-code-font-family);\n",
       "font-size: var(--jp-code-font-size);\n",
       "line-height: var(--jp-code-line-height);\n",
       "\"><span style=\"color: var(--jp-warn-color2)\">pycodestyle</span> <span style=\"color: var(--jp-info-color0)\">INFO</span>: 15:1: E265 block comment should start with &#x27;# &#x27;</pre>"
      ],
      "text/plain": [
       "<IPython.core.display.HTML object>"
      ]
     },
     "metadata": {},
     "output_type": "display_data"
    },
    {
     "data": {
      "text/html": [
       "<pre style=\"margin: 0.1em;\n",
       "padding-left: 0.25em;\n",
       "border-left-style: solid;\n",
       "font-family: var(--jp-code-font-family);\n",
       "font-size: var(--jp-code-font-size);\n",
       "line-height: var(--jp-code-line-height);\n",
       "\"><span style=\"color: var(--jp-warn-color2)\">pycodestyle</span> <span style=\"color: var(--jp-info-color0)\">INFO</span>: 16:1: E265 block comment should start with &#x27;# &#x27;</pre>"
      ],
      "text/plain": [
       "<IPython.core.display.HTML object>"
      ]
     },
     "metadata": {},
     "output_type": "display_data"
    },
    {
     "data": {
      "text/html": [
       "<pre style=\"margin: 0.1em;\n",
       "padding-left: 0.25em;\n",
       "border-left-style: solid;\n",
       "font-family: var(--jp-code-font-family);\n",
       "font-size: var(--jp-code-font-size);\n",
       "line-height: var(--jp-code-line-height);\n",
       "\"><span style=\"color: var(--jp-warn-color2)\">pycodestyle</span> <span style=\"color: var(--jp-info-color0)\">INFO</span>: 17:1: E265 block comment should start with &#x27;# &#x27;</pre>"
      ],
      "text/plain": [
       "<IPython.core.display.HTML object>"
      ]
     },
     "metadata": {},
     "output_type": "display_data"
    },
    {
     "data": {
      "text/html": [
       "<pre style=\"margin: 0.1em;\n",
       "padding-left: 0.25em;\n",
       "border-left-style: solid;\n",
       "font-family: var(--jp-code-font-family);\n",
       "font-size: var(--jp-code-font-size);\n",
       "line-height: var(--jp-code-line-height);\n",
       "\"><span style=\"color: var(--jp-warn-color2)\">pycodestyle</span> <span style=\"color: var(--jp-info-color0)\">INFO</span>: 18:1: E265 block comment should start with &#x27;# &#x27;</pre>"
      ],
      "text/plain": [
       "<IPython.core.display.HTML object>"
      ]
     },
     "metadata": {},
     "output_type": "display_data"
    },
    {
     "data": {
      "text/html": [
       "<pre style=\"margin: 0.1em;\n",
       "padding-left: 0.25em;\n",
       "border-left-style: solid;\n",
       "font-family: var(--jp-code-font-family);\n",
       "font-size: var(--jp-code-font-size);\n",
       "line-height: var(--jp-code-line-height);\n",
       "\"><span style=\"color: var(--jp-warn-color2)\">pycodestyle</span> <span style=\"color: var(--jp-info-color0)\">INFO</span>: 20:1: E265 block comment should start with &#x27;# &#x27;</pre>"
      ],
      "text/plain": [
       "<IPython.core.display.HTML object>"
      ]
     },
     "metadata": {},
     "output_type": "display_data"
    }
   ],
   "source": [
    "# this is where you are working here:\n",
    "\n",
    "cmodel_mag = -2.50 * np.log10(tab['i_cModelFlux']) + 31.4\n",
    "kron_mag = -2.50 * np.log10(tab['i_kronFlux']) + 31.4\n",
    "truth_mag =  -2.50 * np.log10(tab['flux_i']) + 31.4\n",
    "\n",
    "#plt.scatter(truth_mag,cmodel_mag,c=tab['i_kronRad'], marker='.', alpha=.5)\n",
    "fig, ax = plt.subplots()\n",
    "ax.plot(truth_mag, 1+np.abs(tab['i_cModelFlux']-tab['flux_i'])/tab['flux_i'],'.',alpha=.5)\n",
    "\n",
    "#ax.scatter(truth_mag,kron_mag,c=tab['i_kronRad'], marker='+', alpha=.5)\n",
    "\n",
    "ax.set_ylim([0.5,25])\n",
    "ax.set_yscale('log')\n",
    "#plt.ylim(15,20)\n",
    "#x = np.arange(14,30,.1)\n",
    "#plt.plot(x,x,linestyle='--')\n",
    "#plt.axhline(1,linestyle='--')\n",
    "\n",
    "#plt.show()"
   ]
  },
  {
   "cell_type": "code",
   "execution_count": null,
   "id": "999d12f2-b84b-4a80-a7fd-f7f111674470",
   "metadata": {},
   "outputs": [],
   "source": [
    "query = \"SELECT column_name, datatype, description, unit \" \\\n",
    "        \"FROM tap_schema.columns \" \\\n",
    "        \"WHERE table_name = 'dp02_dc2_catalogs.Object'\"\n",
    "\n",
    "results = service.search(query).to_table()\n",
    "results"
   ]
  },
  {
   "cell_type": "code",
   "execution_count": 16,
   "id": "3c0a793b-f6b1-4e39-99a2-1fd5b26fe4ae",
   "metadata": {
    "execution": {
     "iopub.execute_input": "2024-12-16T19:27:18.073929Z",
     "iopub.status.busy": "2024-12-16T19:27:18.073762Z",
     "iopub.status.idle": "2024-12-16T19:27:18.174086Z",
     "shell.execute_reply": "2024-12-16T19:27:18.173381Z",
     "shell.execute_reply.started": "2024-12-16T19:27:18.073914Z"
    }
   },
   "outputs": [
    {
     "name": "stdout",
     "output_type": "stream",
     "text": [
      "i_ap03Flux\n",
      "i_ap03Flux_flag\n",
      "i_ap03FluxErr\n",
      "i_ap06Flux\n",
      "i_ap06Flux_flag\n",
      "i_ap06FluxErr\n",
      "i_ap09Flux\n",
      "i_ap09Flux_flag\n",
      "i_ap09FluxErr\n",
      "i_ap12Flux\n",
      "i_ap12Flux_flag\n",
      "i_ap12FluxErr\n",
      "i_ap17Flux\n",
      "i_ap17Flux_flag\n",
      "i_ap17FluxErr\n",
      "i_ap25Flux\n",
      "i_ap25Flux_flag\n",
      "i_ap25FluxErr\n",
      "i_ap35Flux\n",
      "i_ap35Flux_flag\n",
      "i_ap35FluxErr\n",
      "i_ap50Flux\n",
      "i_ap50Flux_flag\n",
      "i_ap50FluxErr\n",
      "i_ap70Flux\n",
      "i_ap70Flux_flag\n",
      "i_ap70FluxErr\n",
      "i_apFlux_flag\n",
      "i_apFlux_flag_apertureTruncated\n",
      "i_apFlux_flag_sincCoeffsTruncated\n",
      "i_bdFluxB\n",
      "i_bdFluxBErr\n",
      "i_bdFluxD\n",
      "i_bdFluxDErr\n",
      "i_calibFlux\n",
      "i_calibFlux_flag\n",
      "i_calibFlux_flag_apertureTruncated\n",
      "i_calibFlux_flag_sincCoeffsTruncated\n",
      "i_calibFluxErr\n",
      "i_cModelFlux\n",
      "i_cModelFlux_inner\n",
      "i_cModelFluxErr\n",
      "i_free_cModelFlux\n",
      "i_free_cModelFlux_flag\n",
      "i_free_cModelFlux_inner\n",
      "i_free_cModelFluxErr\n",
      "i_free_psfFlux\n",
      "i_free_psfFlux_flag\n",
      "i_free_psfFluxErr\n",
      "i_gaap0p5Flux\n",
      "i_gaap0p5Flux_flag_bigPsf\n",
      "i_gaap0p5FluxErr\n",
      "i_gaap0p7Flux\n",
      "i_gaap0p7Flux_flag_bigPsf\n",
      "i_gaap0p7FluxErr\n",
      "i_gaap1p0Flux\n",
      "i_gaap1p0Flux_flag_bigPsf\n",
      "i_gaap1p0FluxErr\n",
      "i_gaap1p5Flux\n",
      "i_gaap1p5Flux_flag_bigPsf\n",
      "i_gaap1p5FluxErr\n",
      "i_gaap2p5Flux\n",
      "i_gaap2p5Flux_flag_bigPsf\n",
      "i_gaap2p5FluxErr\n",
      "i_gaap3p0Flux\n",
      "i_gaap3p0Flux_flag_bigPsf\n",
      "i_gaap3p0FluxErr\n",
      "i_gaapFlux_flag\n",
      "i_gaapFlux_flag_edge\n",
      "i_gaapFlux_flag_gaussianization\n",
      "i_gaapOptimalFlux\n",
      "i_gaapOptimalFlux_flag_bigPsf\n",
      "i_gaapOptimalFluxErr\n",
      "i_gaapPsfFlux\n",
      "i_gaapPsfFluxErr\n",
      "i_kronFlux\n",
      "i_kronFlux_flag\n",
      "i_kronFlux_flag_bad_radius\n",
      "i_kronFlux_flag_bad_shape\n",
      "i_kronFlux_flag_bad_shape_no_psf\n",
      "i_kronFlux_flag_edge\n",
      "i_kronFlux_flag_no_fallback_radius\n",
      "i_kronFlux_flag_no_minimum_radius\n",
      "i_kronFlux_flag_small_radius\n",
      "i_kronFlux_flag_used_minimum_radius\n",
      "i_kronFlux_flag_used_psf_radius\n",
      "i_kronFluxErr\n",
      "i_psfFlux\n",
      "i_psfFlux_area\n",
      "i_psfFlux_flag\n",
      "i_psfFlux_flag_apCorr\n",
      "i_psfFlux_flag_edge\n",
      "i_psfFlux_flag_noGoodPixels\n",
      "i_psfFluxErr\n"
     ]
    }
   ],
   "source": [
    "search_string = 'Flux'\n",
    "band = 'i_'\n",
    "for cname in results['column_name']:\n",
    "    if (cname.find(search_string) > -1) and (cname.find(band) > -1):\n",
    "        print(cname)"
   ]
  },
  {
   "cell_type": "code",
   "execution_count": 17,
   "id": "2f52232f-8e56-4118-8454-66593a552ddc",
   "metadata": {
    "execution": {
     "iopub.execute_input": "2024-12-16T19:27:18.175203Z",
     "iopub.status.busy": "2024-12-16T19:27:18.174745Z",
     "iopub.status.idle": "2024-12-16T19:27:18.268087Z",
     "shell.execute_reply": "2024-12-16T19:27:18.267505Z",
     "shell.execute_reply.started": "2024-12-16T19:27:18.175178Z"
    }
   },
   "outputs": [
    {
     "data": {
      "text/html": [
       "<div><i>Table length=14850</i>\n",
       "<table id=\"table133286381979664\" class=\"table-striped table-bordered table-condensed\">\n",
       "<thead><tr><th>id_truth_type</th><th>match_objectId</th><th>ra</th><th>dec</th><th>truth_type</th><th>flux_i</th><th>coord_ra</th><th>coord_dec</th><th>i_kronFlux</th><th>i_kronRad</th><th>i_kronFlux_flag</th><th>i_cModelFlux</th></tr></thead>\n",
       "<thead><tr><th></th><th></th><th>deg</th><th>deg</th><th></th><th>nJy</th><th>deg</th><th>deg</th><th>nJy</th><th></th><th></th><th>nJy</th></tr></thead>\n",
       "<thead><tr><th>str18</th><th>int64</th><th>float64</th><th>float64</th><th>int64</th><th>float32</th><th>float64</th><th>float64</th><th>float64</th><th>float32</th><th>bool</th><th>float64</th></tr></thead>\n",
       "<tr><td>7945422126_1</td><td>1651220174314970042</td><td>62.0098537</td><td>-37.0901136</td><td>1</td><td>80.1357</td><td>62.0097847</td><td>-37.0901294</td><td>165.209455</td><td>3.96143</td><td>False</td><td>144.8895812</td></tr>\n",
       "<tr><td>7945243448_1</td><td>1651220174314969053</td><td>62.0123662</td><td>-37.0958262</td><td>1</td><td>29.3619</td><td>62.0122497</td><td>-37.095827</td><td>26.3455006</td><td>3.35127</td><td>False</td><td>26.4549883</td></tr>\n",
       "<tr><td>7943980583_1</td><td>1651220174314973031</td><td>62.0804319</td><td>-37.0599329</td><td>1</td><td>85.0716</td><td>62.0804585</td><td>-37.0599007</td><td>162.519251</td><td>5.77871</td><td>False</td><td>94.6220978</td></tr>\n",
       "<tr><td>7945989161_1</td><td>1651220174314971178</td><td>62.0564371</td><td>-37.0798811</td><td>1</td><td>19.3238</td><td>62.0564774</td><td>-37.0798535</td><td>302.4945923</td><td>6.34324</td><td>False</td><td>26.7677409</td></tr>\n",
       "<tr><td>7943914894_1</td><td>1651220174314972468</td><td>62.0265776</td><td>-37.0665263</td><td>1</td><td>97.0441</td><td>62.0265816</td><td>-37.0666442</td><td>88.0578177</td><td>2.17656</td><td>False</td><td>92.9627681</td></tr>\n",
       "<tr><td>7945857828_1</td><td>1651220174314944411</td><td>62.0235745</td><td>-37.09605</td><td>1</td><td>17.5286</td><td>62.0237049</td><td>-37.0960033</td><td>894.5515387</td><td>7.43073</td><td>True</td><td>46.6692541</td></tr>\n",
       "<tr><td>7952673851_1</td><td>1651220174314942424</td><td>62.0192451</td><td>-37.0681484</td><td>1</td><td>21.9923</td><td>62.0192534</td><td>-37.0680369</td><td>235.4698083</td><td>6.75986</td><td>True</td><td>16.5300362</td></tr>\n",
       "<tr><td>7944426799_1</td><td>1651220174314944029</td><td>62.0598167</td><td>-37.078065</td><td>1</td><td>71.2611</td><td>62.0596735</td><td>-37.0780034</td><td>--</td><td>--</td><td>True</td><td>51.5588324</td></tr>\n",
       "<tr><td>7950583914_1</td><td>1651220174314971134</td><td>62.0263471</td><td>-37.0806093</td><td>1</td><td>225.01</td><td>62.0264767</td><td>-37.080598</td><td>154.3405117</td><td>3.28615</td><td>False</td><td>150.5482851</td></tr>\n",
       "<tr><td>...</td><td>...</td><td>...</td><td>...</td><td>...</td><td>...</td><td>...</td><td>...</td><td>...</td><td>...</td><td>...</td><td>...</td></tr>\n",
       "<tr><td>7941947856_1</td><td>1651220174314938116</td><td>62.0738491</td><td>-37.0527351</td><td>1</td><td>101.294</td><td>62.0738721</td><td>-37.0527186</td><td>582.997383</td><td>10.4693</td><td>True</td><td>126.1897222</td></tr>\n",
       "<tr><td>7940592997_1</td><td>1651220174314938114</td><td>62.002132</td><td>-37.0526555</td><td>1</td><td>206.925</td><td>62.0021215</td><td>-37.0526411</td><td>436.3974334</td><td>6.11094</td><td>False</td><td>174.7833985</td></tr>\n",
       "<tr><td>7941544592_1</td><td>1651220174314938119</td><td>62.077169</td><td>-37.0524956</td><td>1</td><td>269.445</td><td>62.0771789</td><td>-37.0525201</td><td>331.2637501</td><td>2.76985</td><td>False</td><td>302.0123595</td></tr>\n",
       "<tr><td>7939674321_1</td><td>1651281746966117442</td><td>62.0134859</td><td>-36.9668543</td><td>1</td><td>247.05</td><td>62.0135091</td><td>-36.966804</td><td>246.8713545</td><td>3.19171</td><td>False</td><td>243.6787974</td></tr>\n",
       "<tr><td>7939694560_1</td><td>1651281746966118922</td><td>62.0979825</td><td>-36.9472682</td><td>1</td><td>106.092</td><td>62.0978588</td><td>-36.9472224</td><td>244.5113481</td><td>2.96379</td><td>False</td><td>244.874761</td></tr>\n",
       "<tr><td>7939674319_1</td><td>1651281746966116931</td><td>62.015545</td><td>-36.9700529</td><td>1</td><td>99.9993</td><td>62.0155967</td><td>-36.9699778</td><td>113.0465834</td><td>2.5054</td><td>False</td><td>118.1390177</td></tr>\n",
       "<tr><td>7939674328_1</td><td>1651281746966117956</td><td>62.0059488</td><td>-36.9589215</td><td>1</td><td>104.76</td><td>62.0059801</td><td>-36.9588153</td><td>544.2527922</td><td>9.1372</td><td>False</td><td>228.9871482</td></tr>\n",
       "<tr><td>7939699200_1</td><td>1651281746966119021</td><td>62.0115523</td><td>-36.9472928</td><td>1</td><td>156.38</td><td>62.011636</td><td>-36.9472674</td><td>10.962813</td><td>2.81807</td><td>False</td><td>11.0785882</td></tr>\n",
       "<tr><td>7939698330_1</td><td>1651220174314939597</td><td>62.0242245</td><td>-37.0181435</td><td>1</td><td>87.0308</td><td>62.0243168</td><td>-37.0180876</td><td>477.8553625</td><td>6.65687</td><td>False</td><td>213.6284599</td></tr>\n",
       "</table></div>"
      ],
      "text/plain": [
       "<Table length=14850>\n",
       "id_truth_type    match_objectId       ra     ... i_kronFlux_flag i_cModelFlux\n",
       "                                     deg     ...                     nJy     \n",
       "    str18            int64         float64   ...       bool        float64   \n",
       "------------- ------------------- ---------- ... --------------- ------------\n",
       " 7945422126_1 1651220174314970042 62.0098537 ...           False  144.8895812\n",
       " 7945243448_1 1651220174314969053 62.0123662 ...           False   26.4549883\n",
       " 7943980583_1 1651220174314973031 62.0804319 ...           False   94.6220978\n",
       " 7945989161_1 1651220174314971178 62.0564371 ...           False   26.7677409\n",
       " 7943914894_1 1651220174314972468 62.0265776 ...           False   92.9627681\n",
       " 7945857828_1 1651220174314944411 62.0235745 ...            True   46.6692541\n",
       " 7952673851_1 1651220174314942424 62.0192451 ...            True   16.5300362\n",
       " 7944426799_1 1651220174314944029 62.0598167 ...            True   51.5588324\n",
       " 7950583914_1 1651220174314971134 62.0263471 ...           False  150.5482851\n",
       "          ...                 ...        ... ...             ...          ...\n",
       " 7941947856_1 1651220174314938116 62.0738491 ...            True  126.1897222\n",
       " 7940592997_1 1651220174314938114  62.002132 ...           False  174.7833985\n",
       " 7941544592_1 1651220174314938119  62.077169 ...           False  302.0123595\n",
       " 7939674321_1 1651281746966117442 62.0134859 ...           False  243.6787974\n",
       " 7939694560_1 1651281746966118922 62.0979825 ...           False   244.874761\n",
       " 7939674319_1 1651281746966116931  62.015545 ...           False  118.1390177\n",
       " 7939674328_1 1651281746966117956 62.0059488 ...           False  228.9871482\n",
       " 7939699200_1 1651281746966119021 62.0115523 ...           False   11.0785882\n",
       " 7939698330_1 1651220174314939597 62.0242245 ...           False  213.6284599"
      ]
     },
     "execution_count": 17,
     "metadata": {},
     "output_type": "execute_result"
    }
   ],
   "source": [
    "tab"
   ]
  },
  {
   "cell_type": "code",
   "execution_count": 18,
   "id": "20443fe8-caa8-4f32-97a9-e19cc2ff8079",
   "metadata": {
    "execution": {
     "iopub.execute_input": "2024-12-16T19:27:18.268752Z",
     "iopub.status.busy": "2024-12-16T19:27:18.268603Z",
     "iopub.status.idle": "2024-12-16T19:27:18.675021Z",
     "shell.execute_reply": "2024-12-16T19:27:18.674484Z",
     "shell.execute_reply.started": "2024-12-16T19:27:18.268738Z"
    }
   },
   "outputs": [
    {
     "name": "stderr",
     "output_type": "stream",
     "text": [
      "/tmp/ipykernel_9284/2103441182.py:6: RuntimeWarning: divide by zero encountered in log10\n",
      "  cmodel_mag = -2.50 * np.log10(tab['i_cModelFlux']) + 31.4\n",
      "/tmp/ipykernel_9284/2103441182.py:6: RuntimeWarning: invalid value encountered in log10\n",
      "  cmodel_mag = -2.50 * np.log10(tab['i_cModelFlux']) + 31.4\n",
      "/tmp/ipykernel_9284/2103441182.py:7: RuntimeWarning: divide by zero encountered in log10\n",
      "  kron_mag = -2.50 * np.log10(tab['i_kronFlux']) + 31.4\n",
      "/tmp/ipykernel_9284/2103441182.py:7: RuntimeWarning: invalid value encountered in log10\n",
      "  kron_mag = -2.50 * np.log10(tab['i_kronFlux']) + 31.4\n"
     ]
    },
    {
     "data": {
      "image/png": "[encoded data removed]",
      "text/plain": [
       "<Figure size 640x480 with 2 Axes>"
      ]
     },
     "metadata": {},
     "output_type": "display_data"
    },
    {
     "data": {
      "text/html": [
       "<pre style=\"margin: 0.1em;\n",
       "padding-left: 0.25em;\n",
       "border-left-style: solid;\n",
       "font-family: var(--jp-code-font-family);\n",
       "font-size: var(--jp-code-font-size);\n",
       "line-height: var(--jp-code-line-height);\n",
       "\"><span style=\"color: var(--jp-warn-color2)\">pycodestyle</span> <span style=\"color: var(--jp-info-color0)\">INFO</span>: 3:1: E265 block comment should start with &#x27;# &#x27;</pre>"
      ],
      "text/plain": [
       "<IPython.core.display.HTML object>"
      ]
     },
     "metadata": {},
     "output_type": "display_data"
    },
    {
     "data": {
      "text/html": [
       "<pre style=\"margin: 0.1em;\n",
       "padding-left: 0.25em;\n",
       "border-left-style: solid;\n",
       "font-family: var(--jp-code-font-family);\n",
       "font-size: var(--jp-code-font-size);\n",
       "line-height: var(--jp-code-line-height);\n",
       "\"><span style=\"color: var(--jp-warn-color2)\">pycodestyle</span> <span style=\"color: var(--jp-info-color0)\">INFO</span>: 4:80: E501 line too long (84 &gt; 79 characters)</pre>"
      ],
      "text/plain": [
       "<IPython.core.display.HTML object>"
      ]
     },
     "metadata": {},
     "output_type": "display_data"
    },
    {
     "data": {
      "text/html": [
       "<pre style=\"margin: 0.1em;\n",
       "padding-left: 0.25em;\n",
       "border-left-style: solid;\n",
       "font-family: var(--jp-code-font-family);\n",
       "font-size: var(--jp-code-font-size);\n",
       "line-height: var(--jp-code-line-height);\n",
       "\"><span style=\"color: var(--jp-warn-color2)\">pycodestyle</span> <span style=\"color: var(--jp-info-color0)\">INFO</span>: 9:23: E231 missing whitespace after &#x27;,&#x27;</pre>"
      ],
      "text/plain": [
       "<IPython.core.display.HTML object>"
      ]
     },
     "metadata": {},
     "output_type": "display_data"
    },
    {
     "data": {
      "text/html": [
       "<pre style=\"margin: 0.1em;\n",
       "padding-left: 0.25em;\n",
       "border-left-style: solid;\n",
       "font-family: var(--jp-code-font-family);\n",
       "font-size: var(--jp-code-font-size);\n",
       "line-height: var(--jp-code-line-height);\n",
       "\"><span style=\"color: var(--jp-warn-color2)\">pycodestyle</span> <span style=\"color: var(--jp-info-color0)\">INFO</span>: 12:1: E265 block comment should start with &#x27;# &#x27;</pre>"
      ],
      "text/plain": [
       "<IPython.core.display.HTML object>"
      ]
     },
     "metadata": {},
     "output_type": "display_data"
    },
    {
     "data": {
      "text/html": [
       "<pre style=\"margin: 0.1em;\n",
       "padding-left: 0.25em;\n",
       "border-left-style: solid;\n",
       "font-family: var(--jp-code-font-family);\n",
       "font-size: var(--jp-code-font-size);\n",
       "line-height: var(--jp-code-line-height);\n",
       "\"><span style=\"color: var(--jp-warn-color2)\">pycodestyle</span> <span style=\"color: var(--jp-info-color0)\">INFO</span>: 14:17: E231 missing whitespace after &#x27;,&#x27;</pre>"
      ],
      "text/plain": [
       "<IPython.core.display.HTML object>"
      ]
     },
     "metadata": {},
     "output_type": "display_data"
    },
    {
     "data": {
      "text/html": [
       "<pre style=\"margin: 0.1em;\n",
       "padding-left: 0.25em;\n",
       "border-left-style: solid;\n",
       "font-family: var(--jp-code-font-family);\n",
       "font-size: var(--jp-code-font-size);\n",
       "line-height: var(--jp-code-line-height);\n",
       "\"><span style=\"color: var(--jp-warn-color2)\">pycodestyle</span> <span style=\"color: var(--jp-info-color0)\">INFO</span>: 14:32: E231 missing whitespace after &#x27;,&#x27;</pre>"
      ],
      "text/plain": [
       "<IPython.core.display.HTML object>"
      ]
     },
     "metadata": {},
     "output_type": "display_data"
    }
   ],
   "source": [
    "# compare kron mag to cmodel mag\n",
    "\n",
    "#whbright = np.where(tab['i_kronFlux'] > 0.0001e6)[0]\n",
    "whbright = np.where((tab['i_kronFlux'] > 0.01e6) & (tab['i_kronFlux_flag'] == 0))[0]\n",
    "\n",
    "cmodel_mag = -2.50 * np.log10(tab['i_cModelFlux']) + 31.4\n",
    "kron_mag = -2.50 * np.log10(tab['i_kronFlux']) + 31.4\n",
    "\n",
    "plt.scatter(cmodel_mag,kron_mag,\n",
    "            c=tab['i_kronRad'], marker='.', alpha=.5)\n",
    "\n",
    "#plt.scatter(cmodel_mag[whbright],kron_mag[whbright],\n",
    "#            c=tab['i_kronRad'][whbright], marker='.', alpha=.5)\n",
    "plt.axhline(26.4,linestyle='--',label='10-yr 5sig depth')\n",
    "\n",
    "plt.colorbar(label='Kron Radius [pixels]')\n",
    "plt.xlabel('cModel AB Magnitude [i-band]')\n",
    "plt.ylabel('kron AB Magnitude [i-band]')\n",
    "plt.legend()\n",
    "plt.show()"
   ]
  },
  {
   "cell_type": "code",
   "execution_count": 19,
   "id": "c80af7f5-a048-4169-b7e7-61fb479b6df8",
   "metadata": {
    "execution": {
     "iopub.execute_input": "2024-12-16T19:27:18.675850Z",
     "iopub.status.busy": "2024-12-16T19:27:18.675684Z",
     "iopub.status.idle": "2024-12-16T19:27:19.257839Z",
     "shell.execute_reply": "2024-12-16T19:27:19.256931Z",
     "shell.execute_reply.started": "2024-12-16T19:27:18.675835Z"
    }
   },
   "outputs": [
    {
     "ename": "KeyError",
     "evalue": "'i_gaapOptimalFlux'",
     "output_type": "error",
     "traceback": [
      "\u001b[0;31m---------------------------------------------------------------------------\u001b[0m",
      "\u001b[0;31mKeyError\u001b[0m                                  Traceback (most recent call last)",
      "Cell \u001b[0;32mIn[19], line 1\u001b[0m\n\u001b[0;32m----> 1\u001b[0m cmodel_mag \u001b[38;5;241m=\u001b[39m \u001b[38;5;241m-\u001b[39m\u001b[38;5;241m2.50\u001b[39m \u001b[38;5;241m*\u001b[39m np\u001b[38;5;241m.\u001b[39mlog10(\u001b[43mtab\u001b[49m\u001b[43m[\u001b[49m\u001b[38;5;124;43m'\u001b[39;49m\u001b[38;5;124;43mi_gaapOptimalFlux\u001b[39;49m\u001b[38;5;124;43m'\u001b[39;49m\u001b[43m]\u001b[49m) \u001b[38;5;241m+\u001b[39m \u001b[38;5;241m31.4\u001b[39m\n\u001b[1;32m      2\u001b[0m kron_mag \u001b[38;5;241m=\u001b[39m \u001b[38;5;241m-\u001b[39m\u001b[38;5;241m2.50\u001b[39m \u001b[38;5;241m*\u001b[39m np\u001b[38;5;241m.\u001b[39mlog10(tab[\u001b[38;5;124m'\u001b[39m\u001b[38;5;124mi_kronFlux\u001b[39m\u001b[38;5;124m'\u001b[39m]) \u001b[38;5;241m+\u001b[39m \u001b[38;5;241m31.4\u001b[39m\n\u001b[1;32m      4\u001b[0m plt\u001b[38;5;241m.\u001b[39mscatter(cmodel_mag,kron_mag,\n\u001b[1;32m      5\u001b[0m             c\u001b[38;5;241m=\u001b[39mtab[\u001b[38;5;124m'\u001b[39m\u001b[38;5;124mi_kronRad\u001b[39m\u001b[38;5;124m'\u001b[39m], marker\u001b[38;5;241m=\u001b[39m\u001b[38;5;124m'\u001b[39m\u001b[38;5;124m.\u001b[39m\u001b[38;5;124m'\u001b[39m, alpha\u001b[38;5;241m=\u001b[39m\u001b[38;5;241m.5\u001b[39m, vmin\u001b[38;5;241m=\u001b[39m\u001b[38;5;241m1\u001b[39m, vmax\u001b[38;5;241m=\u001b[39m\u001b[38;5;241m50\u001b[39m)\n",
      "File \u001b[0;32m/opt/lsst/software/stack/conda/envs/lsst-scipipe-9.0.0/lib/python3.11/site-packages/astropy/table/table.py:2093\u001b[0m, in \u001b[0;36mTable.__getitem__\u001b[0;34m(self, item)\u001b[0m\n\u001b[1;32m   2091\u001b[0m \u001b[38;5;28;01mdef\u001b[39;00m \u001b[38;5;21m__getitem__\u001b[39m(\u001b[38;5;28mself\u001b[39m, item):\n\u001b[1;32m   2092\u001b[0m     \u001b[38;5;28;01mif\u001b[39;00m \u001b[38;5;28misinstance\u001b[39m(item, \u001b[38;5;28mstr\u001b[39m):\n\u001b[0;32m-> 2093\u001b[0m         \u001b[38;5;28;01mreturn\u001b[39;00m \u001b[38;5;28;43mself\u001b[39;49m\u001b[38;5;241;43m.\u001b[39;49m\u001b[43mcolumns\u001b[49m\u001b[43m[\u001b[49m\u001b[43mitem\u001b[49m\u001b[43m]\u001b[49m\n\u001b[1;32m   2094\u001b[0m     \u001b[38;5;28;01melif\u001b[39;00m \u001b[38;5;28misinstance\u001b[39m(item, (\u001b[38;5;28mint\u001b[39m, np\u001b[38;5;241m.\u001b[39minteger)):\n\u001b[1;32m   2095\u001b[0m         \u001b[38;5;28;01mreturn\u001b[39;00m \u001b[38;5;28mself\u001b[39m\u001b[38;5;241m.\u001b[39mRow(\u001b[38;5;28mself\u001b[39m, item)\n",
      "File \u001b[0;32m/opt/lsst/software/stack/conda/envs/lsst-scipipe-9.0.0/lib/python3.11/site-packages/astropy/table/table.py:267\u001b[0m, in \u001b[0;36mTableColumns.__getitem__\u001b[0;34m(self, item)\u001b[0m\n\u001b[1;32m    256\u001b[0m \u001b[38;5;250m\u001b[39m\u001b[38;5;124;03m\"\"\"Get items from a TableColumns object.\u001b[39;00m\n\u001b[1;32m    257\u001b[0m \n\u001b[1;32m    258\u001b[0m \u001b[38;5;124;03m::\u001b[39;00m\n\u001b[0;32m   (...)\u001b[0m\n\u001b[1;32m    264\u001b[0m \u001b[38;5;124;03m  tc[1:3] # <TableColumns names=('b', 'c')>\u001b[39;00m\n\u001b[1;32m    265\u001b[0m \u001b[38;5;124;03m\"\"\"\u001b[39;00m\n\u001b[1;32m    266\u001b[0m \u001b[38;5;28;01mif\u001b[39;00m \u001b[38;5;28misinstance\u001b[39m(item, \u001b[38;5;28mstr\u001b[39m):\n\u001b[0;32m--> 267\u001b[0m     \u001b[38;5;28;01mreturn\u001b[39;00m \u001b[43mOrderedDict\u001b[49m\u001b[38;5;241;43m.\u001b[39;49m\u001b[38;5;21;43m__getitem__\u001b[39;49m\u001b[43m(\u001b[49m\u001b[38;5;28;43mself\u001b[39;49m\u001b[43m,\u001b[49m\u001b[43m \u001b[49m\u001b[43mitem\u001b[49m\u001b[43m)\u001b[49m\n\u001b[1;32m    268\u001b[0m \u001b[38;5;28;01melif\u001b[39;00m \u001b[38;5;28misinstance\u001b[39m(item, (\u001b[38;5;28mint\u001b[39m, np\u001b[38;5;241m.\u001b[39minteger)):\n\u001b[1;32m    269\u001b[0m     \u001b[38;5;28;01mreturn\u001b[39;00m \u001b[38;5;28mlist\u001b[39m(\u001b[38;5;28mself\u001b[39m\u001b[38;5;241m.\u001b[39mvalues())[item]\n",
      "\u001b[0;31mKeyError\u001b[0m: 'i_gaapOptimalFlux'"
     ]
    },
    {
     "data": {
      "text/html": [
       "<pre style=\"margin: 0.1em;\n",
       "padding-left: 0.25em;\n",
       "border-left-style: solid;\n",
       "font-family: var(--jp-code-font-family);\n",
       "font-size: var(--jp-code-font-size);\n",
       "line-height: var(--jp-code-line-height);\n",
       "\"><span style=\"color: var(--jp-warn-color2)\">pycodestyle</span> <span style=\"color: var(--jp-info-color0)\">INFO</span>: 5:23: E231 missing whitespace after &#x27;,&#x27;</pre>"
      ],
      "text/plain": [
       "<IPython.core.display.HTML object>"
      ]
     },
     "metadata": {},
     "output_type": "display_data"
    },
    {
     "data": {
      "text/html": [
       "<pre style=\"margin: 0.1em;\n",
       "padding-left: 0.25em;\n",
       "border-left-style: solid;\n",
       "font-family: var(--jp-code-font-family);\n",
       "font-size: var(--jp-code-font-size);\n",
       "line-height: var(--jp-code-line-height);\n",
       "\"><span style=\"color: var(--jp-warn-color2)\">pycodestyle</span> <span style=\"color: var(--jp-info-color0)\">INFO</span>: 8:1: E265 block comment should start with &#x27;# &#x27;</pre>"
      ],
      "text/plain": [
       "<IPython.core.display.HTML object>"
      ]
     },
     "metadata": {},
     "output_type": "display_data"
    },
    {
     "data": {
      "text/html": [
       "<pre style=\"margin: 0.1em;\n",
       "padding-left: 0.25em;\n",
       "border-left-style: solid;\n",
       "font-family: var(--jp-code-font-family);\n",
       "font-size: var(--jp-code-font-size);\n",
       "line-height: var(--jp-code-line-height);\n",
       "\"><span style=\"color: var(--jp-warn-color2)\">pycodestyle</span> <span style=\"color: var(--jp-info-color0)\">INFO</span>: 10:17: E231 missing whitespace after &#x27;,&#x27;</pre>"
      ],
      "text/plain": [
       "<IPython.core.display.HTML object>"
      ]
     },
     "metadata": {},
     "output_type": "display_data"
    },
    {
     "data": {
      "text/html": [
       "<pre style=\"margin: 0.1em;\n",
       "padding-left: 0.25em;\n",
       "border-left-style: solid;\n",
       "font-family: var(--jp-code-font-family);\n",
       "font-size: var(--jp-code-font-size);\n",
       "line-height: var(--jp-code-line-height);\n",
       "\"><span style=\"color: var(--jp-warn-color2)\">pycodestyle</span> <span style=\"color: var(--jp-info-color0)\">INFO</span>: 10:32: E231 missing whitespace after &#x27;,&#x27;</pre>"
      ],
      "text/plain": [
       "<IPython.core.display.HTML object>"
      ]
     },
     "metadata": {},
     "output_type": "display_data"
    }
   ],
   "source": [
    "\n",
    "cmodel_mag = -2.50 * np.log10(tab['i_gaapOptimalFlux']) + 31.4\n",
    "kron_mag = -2.50 * np.log10(tab['i_kronFlux']) + 31.4\n",
    "\n",
    "plt.scatter(cmodel_mag,kron_mag,\n",
    "            c=tab['i_kronRad'], marker='.', alpha=.5, vmin=1, vmax=50)\n",
    "\n",
    "#plt.scatter(cmodel_mag[whbright],kron_mag[whbright],\n",
    "#            c=tab['i_kronRad'][whbright], marker='.', alpha=.5)\n",
    "plt.axhline(26.4,linestyle='--',label='10-yr 5sig depth')\n",
    "\n",
    "plt.colorbar(label='Kron Radius [pixels]')\n",
    "plt.xlabel('GaaP optimal AB Magnitude [i-band]')\n",
    "plt.ylabel('kron AB Magnitude [i-band]')\n",
    "plt.legend()\n",
    "plt.show()"
   ]
  },
  {
   "cell_type": "code",
   "execution_count": null,
   "id": "6553101d-d9fa-45b5-9d68-6242bd9ae28d",
   "metadata": {
    "execution": {
     "iopub.status.busy": "2024-12-16T19:27:19.258345Z",
     "iopub.status.idle": "2024-12-16T19:27:19.258568Z",
     "shell.execute_reply": "2024-12-16T19:27:19.258479Z",
     "shell.execute_reply.started": "2024-12-16T19:27:19.258470Z"
    }
   },
   "outputs": [],
   "source": [
    "\n",
    "cmodel_mag = -2.50 * np.log10(tab['i_gaap1p5Flux']) + 31.4\n",
    "kron_mag = -2.50 * np.log10(tab['i_kronFlux']) + 31.4\n",
    "\n",
    "plt.scatter(cmodel_mag,kron_mag,\n",
    "            c=tab['i_kronRad'], marker='.', alpha=.5, vmin=1, vmax=50)\n",
    "\n",
    "#plt.scatter(cmodel_mag[whbright],kron_mag[whbright],\n",
    "#            c=tab['i_kronRad'][whbright], marker='.', alpha=.5)\n",
    "plt.axhline(26.4,linestyle='--',label='10-yr 5sig depth')\n",
    "\n",
    "plt.colorbar(label='Kron Radius [pixels]')\n",
    "plt.xlabel('GaaP AB Magnitude 1.5 aperture [i-band]')\n",
    "plt.ylabel('kron AB Magnitude [i-band]')\n",
    "plt.legend()\n",
    "plt.show()"
   ]
  },
  {
   "cell_type": "code",
   "execution_count": null,
   "id": "ed161a44-81df-4b9e-9563-e7431e2dce89",
   "metadata": {
    "execution": {
     "iopub.status.busy": "2024-12-16T19:27:19.259095Z",
     "iopub.status.idle": "2024-12-16T19:27:19.259261Z",
     "shell.execute_reply": "2024-12-16T19:27:19.259190Z",
     "shell.execute_reply.started": "2024-12-16T19:27:19.259183Z"
    }
   },
   "outputs": [],
   "source": [
    "\n",
    "whbright = np.where((tab['i_kronFlux'] > 0.001e6) & (tab['i_kronFlux_flag'] == 0))[0]\n",
    "\n",
    "mag = -2.50 * np.log10(tab['i_kronFlux']) + 31.4\n",
    "plt.scatter(mag[whbright],tab['i_kronFlux'][whbright]/tab['i_cModelFlux'][whbright],\n",
    "            c=tab['i_kronRad'][whbright], marker='o', alpha=.5, vmin=1, vmax=50)\n",
    "plt.colorbar(label='Kron Radius [pixels]')\n",
    "plt.axhline(1,linestyle='--')\n",
    "plt.xlabel('Kron AB Magnitude [i-band]')\n",
    "plt.yscale('log')\n",
    "plt.ylabel('Kron flux / cModel Flux')\n",
    "\n",
    "\n",
    "#whbad = np.where( (np.abs(tab['i_kronFlux'][whbright]/tab['i_cModelFlux'][whbright]) > 2) & (mag[whbright] < 22))[0]\n",
    "whblend = np.where( tab['detect_fromBlend'][whbright] == True)[0]\n",
    "\n",
    "print(tab['detect_fromBlend'][whbright][whbad])\n",
    "plt.plot(mag[whbright][whblend],tab['i_kronFlux'][whbright][whblend]/tab['i_cModelFlux'][whbright][whblend],'k+')\n",
    "\n",
    "plt.show()"
   ]
  },
  {
   "cell_type": "code",
   "execution_count": null,
   "id": "4d35fa45-3cc2-47c3-8e47-a29d3c7ec440",
   "metadata": {},
   "outputs": [],
   "source": []
  },
  {
   "cell_type": "code",
   "execution_count": null,
   "id": "f5c9bc62-6bbd-4e5c-8603-519427970caf",
   "metadata": {
    "execution": {
     "iopub.status.busy": "2024-12-16T19:27:19.259716Z",
     "iopub.status.idle": "2024-12-16T19:27:19.259898Z",
     "shell.execute_reply": "2024-12-16T19:27:19.259829Z",
     "shell.execute_reply.started": "2024-12-16T19:27:19.259822Z"
    }
   },
   "outputs": [],
   "source": [
    "plt.scatter(tab['i_kronRad'][whbright],tab['i_kronFlux'][whbright]/tab['i_gaapOptimalFlux'][whbright],\n",
    "            c=mag[whbright], marker='o', alpha=.5)\n",
    "plt.xlabel('Kron Radius [pix]')\n",
    "plt.ylabel('Kron flux / GaaP Optimal Flux')\n",
    "plt.colorbar(label='Kron Mag [ABmag]')\n",
    "plt.xlim([0,50])\n",
    "plt.ylim([-1,30])\n",
    "plt.show()"
   ]
  },
  {
   "cell_type": "code",
   "execution_count": null,
   "id": "c1487f21-af5c-48ee-9a7a-6cf0aa56185c",
   "metadata": {
    "execution": {
     "iopub.status.busy": "2024-12-16T19:27:19.260772Z",
     "iopub.status.idle": "2024-12-16T19:27:19.260944Z",
     "shell.execute_reply": "2024-12-16T19:27:19.260866Z",
     "shell.execute_reply.started": "2024-12-16T19:27:19.260859Z"
    }
   },
   "outputs": [],
   "source": [
    "plt.scatter(tab['i_kronRad'][whbright],tab['i_kronFlux'][whbright]/tab['i_cModelFlux'][whbright],\n",
    "            c=mag[whbright], marker='o', alpha=.5)\n",
    "plt.xlabel('Kron Radius [pix]')\n",
    "plt.ylabel('Kron flux / cModel Flux')\n",
    "plt.colorbar(label='Kron Mag [ABmag]')\n",
    "plt.xlim([0,50])\n",
    "plt.ylim([-1,30])\n",
    "plt.show()"
   ]
  },
  {
   "cell_type": "code",
   "execution_count": null,
   "id": "253d0d24-6393-4494-ac2e-a7003a6138fe",
   "metadata": {},
   "outputs": [],
   "source": []
  },
  {
   "cell_type": "code",
   "execution_count": null,
   "id": "11263c1d-e9a0-4402-bafd-6595c60faeb6",
   "metadata": {},
   "outputs": [],
   "source": []
  }
 ],
 "metadata": {
  "kernelspec": {
   "display_name": "LSST",
   "language": "python",
   "name": "lsst"
  },
  "language_info": {
   "codemirror_mode": {
    "name": "ipython",
    "version": 3
   },
   "file_extension": ".py",
   "mimetype": "text/x-python",
   "name": "python",
   "nbconvert_exporter": "python",
   "pygments_lexer": "ipython3",
   "version": "3.11.9"
  },
  "toc-autonumbering": false
 },
 "nbformat": 4,
 "nbformat_minor": 5
}
