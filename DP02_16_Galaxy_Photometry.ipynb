{
 "cells": [
  {
   "cell_type": "markdown",
   "id": "749b0ddf",
   "metadata": {
    "tags": []
   },
   "source": [
    "# DP0.2 Notebook 16 Galaxy Photometry\n",
    "\n",
    "<img align=\"left\" src = https://project.lsst.org/sites/default/files/Rubin-O-Logo_0.png width=250 style=\"padding: 10px\" alt=\"Rubin Observatory logo, a graphical representation of turning stars into data.\">\n",
    "<br>\n",
    "Contact author(s): <i>Christina Williams</i> <br>\n",
    "Last verified to run: <i>2024-12-19</i> <br>\n",
    "LSST Science Pipelines version: Weekly <i>2024_24</i> <br>\n",
    "Container Size: <i>medium</i> <br>\n",
    "Targeted learning level: <i>beginner</i> <br>"
   ]
  },
  {
   "cell_type": "markdown",
   "id": "2d9cd09b-d5c4-4610-993b-711bdc9bd80e",
   "metadata": {},
   "source": [
    "_In this template, text in italics are examples or instructions that should be: \n",
    "(a) removed if it is not applicable to the notebook; \n",
    "or (b) replaced with text that is appropriate for the notebook. \n",
    "But bold or regular text should appear pretty much as-is in all CET notebooks._\n",
    "\n",
    "_Remember to use the [CST's Guidelines for Tutorial Notebooks](rtn-045.lsst.io)._"
   ]
  },
  {
   "cell_type": "code",
   "execution_count": null,
   "id": "7acc79a4-8530-42d9-96e5-b7acb4397864",
   "metadata": {},
   "outputs": [],
   "source": [
    "%load_ext pycodestyle_magic\n",
    "%flake8_on\n",
    "import logging\n",
    "logging.getLogger(\"flake8\").setLevel(logging.FATAL)"
   ]
  },
  {
   "cell_type": "markdown",
   "id": "482777d8-0a8d-432e-ba53-2da536700407",
   "metadata": {},
   "source": [
    "_The six cells below are considered the extended header of the notebook. The first four will be used, verbatim, to create the table of notebook metadata in the README.md file for the repository._"
   ]
  },
  {
   "cell_type": "markdown",
   "id": "9da1a210-d858-42fe-8591-570965b8be1a",
   "metadata": {},
   "source": [
    "**Description:** _Very brief description of notebook._"
   ]
  },
  {
   "cell_type": "markdown",
   "id": "80a0baf5-51ad-40ec-8991-060a7b27c289",
   "metadata": {},
   "source": [
    "**Skills:** _Brief list of skills to match the README.md file for the repository._"
   ]
  },
  {
   "cell_type": "markdown",
   "id": "393da88f-7978-4920-aa4a-a9830df6eed9",
   "metadata": {},
   "source": [
    "**LSST Data Products:** _List the all of the types of LSST catalogs and images used._"
   ]
  },
  {
   "cell_type": "markdown",
   "id": "5c67fab9-136a-4adc-bb42-142b91ab69dd",
   "metadata": {},
   "source": [
    "**Packages:** _List the python packages used._ (_List the packages being taught first, e.g., afwDisplay for a notebook about displaying images. Then supporting packages, e.g., lsst.daf.butler for a notebook about displaying images. It is OK to leave out basic support packages like os or glob.)_"
   ]
  },
  {
   "cell_type": "markdown",
   "id": "8f72b27f",
   "metadata": {},
   "source": [
    "**Credit:**\n",
    "_E.g., \"Originally developed by\" or \"Based on notebooks developed by\" and then people's names, including journal article or software release citations if appropriate._\n",
    "Please consider acknowledging them if this notebook is used for the preparation of journal articles, software releases, or other notebooks."
   ]
  },
  {
   "cell_type": "markdown",
   "id": "28e91cbf-ab7f-4e26-9276-b00299d6065e",
   "metadata": {},
   "source": [
    "**Get Support:**\n",
    "Find DP0-related documentation and resources at <a href=\"https://dp0.lsst.io\">dp0.lsst.io</a>.\n",
    "Questions are welcome as new topics in the \n",
    "<a href=\"https://community.lsst.org/c/support/dp0\">Support - Data Preview 0 Category</a> \n",
    "of the Rubin Community Forum. \n",
    "Rubin staff will respond to all questions posted there."
   ]
  },
  {
   "cell_type": "markdown",
   "id": "cfc73be0",
   "metadata": {},
   "source": [
    "## 1. Introduction\n",
    "\n",
    "This notebook will teach the user about the automated photometry measurements that are measured on the deepCoadd images and appear in the Object Catalog as part of the LSST pipelines data products. The focus will be on galaxies (and thus is distinct from the demonstrations in Tutorial Notebook 12a/b about the PSF photometry (CHECK/LINK). \n",
    "\n",
    "_Cite or link to any external information or documentation, and cross-reference to other notebooks._\n",
    "\n",
    "> **Notice:** *use indented text preceded with* **Notice** *or* **Warning** *to attract attention to particular information.*\n",
    "\n",
    "_Embedded images or generated figures should be captioned in a markdown cell, like this._"
   ]
  },
  {
   "cell_type": "markdown",
   "id": "7eb3ba1f-659f-4cb0-acad-52690f60a485",
   "metadata": {
    "execution": {
     "iopub.execute_input": "2024-12-02T22:37:09.704845Z",
     "iopub.status.busy": "2024-12-02T22:37:09.704072Z",
     "iopub.status.idle": "2024-12-02T22:37:10.367698Z",
     "shell.execute_reply": "2024-12-02T22:37:10.366983Z",
     "shell.execute_reply.started": "2024-12-02T22:37:09.704824Z"
    }
   },
   "source": [
    "### 1.1 Types of photometry measurements that exist in the Object Table\n",
    "\n",
    "Schema for the object catalog for DP0.2: https://dm.lsst.org/sdm_schemas/browser/dp02.html#Object\n",
    "\n",
    "For photometric redshifts, since accurate colors are important, it is the GaaP fluxes that should be used.\n",
    "\n",
    "### Aperture fluxes\n",
    "This contains the enclosed flux inside a given aperture (these are raw fluxes, meaning, they are not corrected to total fluxes using an aperture correction that accounts for the flux falling outside the aperture using the PSF). Fixed aperture diameter size in pixels.\n",
    "\n",
    "```\n",
    "<f>_ap<pix>Flux     : Flux within <pix>-pixel aperture. Forced on <f>-band.\n",
    "<f>_ap<pix>FluxErr  : Uncertainty of <f>_ap<pix>Flux.\n",
    "<f>_ap<pix>FluxFlag : Failure flag for <f>_ap<pix>Flux.\n",
    "```\n",
    "\n",
    "For DP0.2, the apertures are 3, 6, 9, 12, 17, 25, 35, 50, and 70 pixels.\n",
    "\n",
    "In the column name, apertures are `03`, `06`, `09`, `12`, and so on.\n",
    "\n",
    "### Composite Model (CModel) fluxes\n",
    "\n",
    "Similar in nature to those measured for SDSS: \n",
    "https://www.sdss3.org/dr8/algorithms/magnitudes.php#cmodel\n",
    "\n",
    "In short, it is the linear combination of the best fit exponential and de Vaucouleurs profiles.\n",
    "\n",
    "```\n",
    "<f>_cModelFlux    :\tFlux from the final cmodel fit. Forced on <f>-band.\n",
    "<f>_cModelFluxErr : Uncertainty of <f>_cModelFlux\n",
    "<f>_cModel_flag   : Failure flag for <f>_cModelFlux\n",
    "```\n",
    "\n",
    "Fluxes fit to the individual model components.\n",
    "\n",
    "```\n",
    "<f>_bdFluxB    : Flux from the de Vaucouleurs fit. Measured on <f>-band.\n",
    "<f>_bdFluxD    : Flux from the exponential fit. Measured on <f>-band.\n",
    "<f>_bdFluxBErr : Uncertainty of <f>_bdFluxB\n",
    "<f>_bdFluxDErr : Uncertainty of <f>_bdFluxD\n",
    "```\n",
    "\n",
    "The fit sizes are also available (half-light radii, ellipse axes).\n",
    "\n",
    "### GaaP fluxes\n",
    "\n",
    "The Gaussian-aperture-and-PSF flux from <a href=\"https://ui.adsabs.harvard.edu/abs/2008A%26A...482.1053K/abstract\">Kuijken et al. 2008</a>.\n",
    "\n",
    "**Optimal**\n",
    "\n",
    "```\n",
    "<f>_gaapOptimalFlux    : GaaP flux with optimal aperture after multiplying the seeing by 1.15. Forced on <f>-band.\n",
    "<f>_gaapOptimalFluxErr : Uncertainty of <f>_gaapOptimalFlux.\n",
    "```\n",
    "\n",
    "**PSF**\n",
    "\n",
    "```\n",
    "<f>_gaapPsfFlux    : GaaP flux with PSF aperture after multiplying the seeing by 1.15. Forced on <f>-band.\n",
    "<f>_gaapPsfFluxErr : Uncertainty of <f>_gaapPsfFlux.\n",
    "```\n",
    "\n",
    "**Aperture**\n",
    "\n",
    "```\n",
    "<f>_gaap<ap>Flux    : GaaP flux with <ap> aperture after multiplying the seeing by 1.15. Forced on <f>-band.\n",
    "<f>_gaap<ap>FluxErr : Uncertainty of <f>_gaap<ap>Flux.\n",
    "```\n",
    "\n",
    "Where the apertures are 0.5, 0.7, 1.0, 1.5, 2.5, and 3.0.\n",
    "In the column name `<ap>` appears as `0p5`, `0p7`, etc.\n",
    "\n",
    "\n",
    "### Kron fluxes\n",
    "\n",
    "A decent summary of Kron fluxes <a href=\"https://ned.ipac.caltech.edu/level5/March05/Graham/Graham2_6.html\">in the NED documentation</a>.\n",
    "\n",
    "```\n",
    "<f>_kronFlux      : Flux from Kron Flux algorithm. Measured on <f> g-band.\n",
    "<f>_kronFluxErr   : Uncertainty of <f>_kronFlux.\n",
    "<f>_kronFlux_flag : Failure flag for <f>_kronFlux.\n",
    "```\n",
    "\n",
    "The Kron radius, `<f>_kronRad`, is also available.\n",
    "\n",
    "### PSF fluxes\n",
    "\n",
    "Fluxes derived using the model point-spread function (PSF) of the image. Since PSF fluxes are designed for unresolved sources (not the majority of galaxies) this notebook will not explore science applications for this type of photometry. Interested users can find more information in the PSF tutorial and to the tutorial developed for SP-910 (is this Notebook 12a/b or 5?).\n",
    "\n",
    "```\n",
    "<f>_psfFlux      : Flux derived from linear least-squares fit of PSF model. Forced on <f>-band.\n",
    "<f>_psfFluxErr   : Uncertainty of <f>_psfFlux.\n",
    "<f>_psfFlux_flag : Failure flag for <f>_psfFlux.\n",
    "\n",
    "```\n"
   ]
  },
  {
   "cell_type": "markdown",
   "id": "dc36f107",
   "metadata": {},
   "source": [
    "### 1.1 Import packages\n"
   ]
  },
  {
   "cell_type": "markdown",
   "id": "ccb4fe61-835a-47ac-a691-e086ce766e79",
   "metadata": {},
   "source": [
    "`numpy` is a fundamental package for scientific computing with arrays in Python\n",
    "(<a href=\"https://numpy.org\">numpy.org</a>).\n",
    "\n",
    "`matplotlib` is a comprehensive library for creating static, animated, and\n",
    "interactive visualizations in Python \n",
    "(<a href=\"https://matplotlib.org/\">matplotlib.org</a>; \n",
    "<a href=\"https://matplotlib.org/stable/gallery/index.html\">matplotlib gallery</a>).\n",
    "\n",
    "From the `lsst` package, modules for accessing the TAP service, the butler, and image display functions are imported (<a href=\"https://pipelines.lsst.io/\">pipelines.lsst.io</a>)."
   ]
  },
  {
   "cell_type": "code",
   "execution_count": null,
   "id": "2dbc75bd-a802-4576-8628-4e0088942303",
   "metadata": {},
   "outputs": [],
   "source": [
    "import matplotlib.pyplot as plt\n",
    "from astropy.wcs import WCS\n",
    "from astropy.visualization import make_lupton_rgb\n",
    "from astropy import units as u\n",
    "from astropy.coordinates import SkyCoord\n",
    "import gc\n",
    "import numpy as np\n",
    "\n",
    "import lsst.afw.display as afwDisplay\n",
    "from lsst.afw.image import MultibandExposure\n",
    "from lsst.daf.butler import Butler\n",
    "from lsst.rsp import get_tap_service\n",
    "import lsst.geom as geom\n",
    "\n",
    "from scipy import stats#.binned_statistic\n",
    "from scipy.stats import sigmaclip\n"
   ]
  },
  {
   "cell_type": "markdown",
   "id": "c217adff-25ed-4fce-95e7-8aa04630f6cc",
   "metadata": {},
   "source": [
    "### 1.2 Define functions and parameters\n",
    "\n",
    "_If your notebook defines functions or parameters to use later or throughout, do it here in sub-section 1.2._\n",
    "\n",
    "_It is OK to rename the subsection to be more specific to the notebook, and/or to use sub-sub-sections like \"1.2.1 Define global cosmological parameter values\" or \"1.2.2 Define a function to make an image cutout\"._\n",
    "\n",
    "_It is OK to remove this sub-section if it is not being used._"
   ]
  },
  {
   "cell_type": "code",
   "execution_count": null,
   "id": "0d2ecffa-a837-4d10-be95-616c95fda15f",
   "metadata": {},
   "outputs": [],
   "source": [
    "plt.style.use('tableau-colorblind10')\n",
    "afwDisplay.setDefaultBackend('matplotlib')"
   ]
  },
  {
   "cell_type": "code",
   "execution_count": null,
   "id": "4fabe755-cb34-4d50-bbbc-99d8db7980c4",
   "metadata": {},
   "outputs": [],
   "source": [
    "service = get_tap_service(\"tap\")"
   ]
  },
  {
   "cell_type": "markdown",
   "id": "ec51ac0b",
   "metadata": {
    "tags": []
   },
   "source": [
    "## 2. Integrated photometry of galaxies using the LSST pipeline\n",
    "\n",
    "_Use numbers for sections, sub-sections, and sub-sub-sections to enable referencing, e.g., \"I'm having trouble with the second code cell in Section 2.3.\"_\n",
    "\n",
    "_Use section titles that actively describe what is being done, e.g., \"Create a color-magnitude diagram\" instead of \"Plot\", so that the auto-generated table of contents is easy to navigate._\n",
    "\n",
    "### 2.1 Object table photometry measurements\n",
    "\n",
    "First see what is available in the object catalog."
   ]
  },
  {
   "cell_type": "code",
   "execution_count": null,
   "id": "6ad9a3ea-5d4c-4247-b0ff-712fafa00bb3",
   "metadata": {},
   "outputs": [],
   "source": [
    "butler = Butler('dp02', collections='2.2i/runs/DP0.2')\n",
    "\n"
   ]
  },
  {
   "cell_type": "code",
   "execution_count": null,
   "id": "999d12f2-b84b-4a80-a7fd-f7f111674470",
   "metadata": {},
   "outputs": [],
   "source": [
    "query = \"SELECT column_name, datatype, description, unit \" \\\n",
    "        \"FROM tap_schema.columns \" \\\n",
    "        \"WHERE table_name = 'dp02_dc2_catalogs.Object'\"\n",
    "\n",
    "results = service.search(query).to_table()\n",
    "results"
   ]
  },
  {
   "cell_type": "markdown",
   "id": "586716d7-7f95-4ad2-8c3a-88c9052a32fa",
   "metadata": {},
   "source": [
    "Below are all the parameters available related to \"Flux\" measured in the i-band "
   ]
  },
  {
   "cell_type": "code",
   "execution_count": null,
   "id": "3c0a793b-f6b1-4e39-99a2-1fd5b26fe4ae",
   "metadata": {},
   "outputs": [],
   "source": [
    "search_string = 'Flux'\n",
    "band = 'i_'\n",
    "for cname in results['column_name']:\n",
    "    if (cname.find(search_string) > -1) and (cname.find(band) > -1):\n",
    "        print(cname)"
   ]
  },
  {
   "cell_type": "markdown",
   "id": "ff2fc2b3-fb3b-4d92-a325-ace4dfa059dc",
   "metadata": {},
   "source": [
    "### 2.2 Compare simulated photometry measured with the LSST pipelines to their input values\n",
    "\n",
    "Here use the truth tables to get a sense of how good the various photometry measurement methods are, and in what regimes they perform well vs poorly.\n",
    "\n",
    "Grab the truth values for i-band mag, measured i-band mag values from the catalog, and a number of flags that may help understand whats going on"
   ]
  },
  {
   "cell_type": "code",
   "execution_count": null,
   "id": "0d28a6ad-4436-410c-9b9d-e995140be304",
   "metadata": {},
   "outputs": [],
   "source": [
    "query = \"SELECT mt.id_truth_type, mt.match_objectId, ts.ra, ts.dec, ts.truth_type, ts.flux_i, ts.redshift, \"\\\n",
    "        \"obj.coord_ra, obj.coord_dec, obj.detect_fromBlend, obj.detect_isIsolated, obj.i_blendedness_flag, obj.i_blendedness, obj.i_extendedness, \"\\\n",
    "        \"obj.i_kronFlux, obj.i_kronRad, obj.i_kronFlux_flag, obj.i_cModelFlux, obj.i_gaapOptimalFlux \" + \\\n",
    "        \"FROM dp02_dc2_catalogs.MatchesTruth AS mt \"\\\n",
    "        \"JOIN dp02_dc2_catalogs.TruthSummary AS ts ON mt.id_truth_type = ts.id_truth_type \"\\\n",
    "        \"JOIN dp02_dc2_catalogs.Object AS obj ON mt.match_objectId = obj.objectId \"\\\n",
    "        \"WHERE (obj.detect_isPrimary = 1) AND CONTAINS(POINT('ICRS', obj.coord_ra, obj.coord_dec), CIRCLE('ICRS', 62.0, -37.0, 0.10)) = 1 \"\n",
    "print(query)"
   ]
  },
  {
   "cell_type": "code",
   "execution_count": null,
   "id": "1b10f993-c750-49a3-82c0-1c5a5112884a",
   "metadata": {},
   "outputs": [],
   "source": [
    "job = service.submit_job(query)\n",
    "job.run()\n",
    "job.wait(phases=['COMPLETED', 'ERROR'])\n",
    "print('Job phase is', job.phase)"
   ]
  },
  {
   "cell_type": "code",
   "execution_count": null,
   "id": "6b0938c2-0724-459c-b560-56e0b4f2a330",
   "metadata": {},
   "outputs": [],
   "source": [
    "results = job.fetch_result()\n",
    "print(len(results))\n",
    "tab = results.to_table()\n",
    "tab"
   ]
  },
  {
   "cell_type": "markdown",
   "id": "1d22c355-0953-46e7-8e40-6614f088c607",
   "metadata": {},
   "source": [
    "### 2.3 Exploring the input vs output photometry\n",
    "\n",
    "Explore 3 measurements relevant for galaxies: cModel, Kron and GaaP"
   ]
  },
  {
   "cell_type": "code",
   "execution_count": null,
   "id": "14124486-2f17-4fc2-8b17-ff62e91028e3",
   "metadata": {},
   "outputs": [],
   "source": [
    "# this is where you are working here:\n",
    "\n",
    "cmodel_mag = -2.50 * np.log10(tab['i_cModelFlux']) + 31.4\n",
    "kron_mag = -2.50 * np.log10(tab['i_kronFlux']) + 31.4\n",
    "truth_mag =  -2.50 * np.log10(tab['flux_i']) + 31.4\n",
    "\n",
    "#plt.scatter(truth_mag,cmodel_mag,c=tab['i_kronRad'], marker='.', alpha=.5)\n",
    "fig, ax = plt.subplots()\n",
    "\n",
    "scale = 1\n",
    "\n",
    "ax.axhline(scale,linestyle='--')\n",
    "\n",
    "ax.plot(truth_mag, scale+(tab['i_cModelFlux']-tab['flux_i'])/tab['flux_i'],'.',alpha=.1,label='cModel',color='r')\n",
    "ax.plot(truth_mag, scale+(tab['i_kronFlux']-tab['flux_i'])/tab['flux_i'],'.',alpha=.1,label='Kron',color='blue')\n",
    "ax.plot(truth_mag, scale+(tab['i_gaapOptimalFlux']-tab['flux_i'])/tab['flux_i'],'.',alpha=.1, label='gaapOptimal',color='green')\n",
    "\n",
    "\n",
    "x = truth_mag\n",
    "y = scale+(tab['i_cModelFlux']-tab['flux_i'])/tab['flux_i']\n",
    "bins=np.arange(16,30,1)\n",
    "bin_means, bin_edges, binnumber = stats.binned_statistic(x,\n",
    "             y, statistic='median', bins=bins)\n",
    "binctr = bin_edges[:-1] + (bin_edges[1:]-bin_edges[:-1])/2\n",
    "plt.plot(binctr, bin_means, color='red', lw=2, label='cModel bin median',zorder=10)\n",
    "\n",
    "y = scale+(tab['i_kronFlux']-tab['flux_i'])/tab['flux_i']\n",
    "bin_means, bin_edges, binnumber = stats.binned_statistic(x,\n",
    "             y, statistic='median', bins=bins)\n",
    "binctr = bin_edges[:-1] + (bin_edges[1:]-bin_edges[:-1])/2\n",
    "plt.plot(binctr, bin_means, color='blue', lw=2, label='kron bin median',zorder=10)\n",
    "\n",
    "y = scale+(tab['i_gaapOptimalFlux']-tab['flux_i'])/tab['flux_i']\n",
    "bin_means, bin_edges, binnumber = stats.binned_statistic(x,\n",
    "             y, statistic='median', bins=bins)\n",
    "binctr = bin_edges[:-1] + (bin_edges[1:]-bin_edges[:-1])/2\n",
    "plt.plot(binctr, bin_means, color='green', lw=2, label='GaaP Optimal bin median',zorder=10)#,color='green')\n",
    "\n",
    "#ax.scatter(truth_mag,kron_mag,c=tab['i_kronRad'], marker='+', alpha=.5)\n",
    "\n",
    "ax.set_xlabel('True i-band Magnitude')\n",
    "ax.set_ylabel('Flux Accuracy (F$_{obs}$ - F$_{true}$) / F$_{true}$')\n",
    "\n",
    "ax.set_ylim([.5,5])\n",
    "ax.set_yscale('log')\n",
    "plt.legend()\n"
   ]
  },
  {
   "cell_type": "code",
   "execution_count": null,
   "id": "8bbb1505-5e91-49d2-b94e-045ff9f482e2",
   "metadata": {},
   "outputs": [],
   "source": [
    "\n",
    "cmodel_mag = -2.50 * np.log10(tab['i_cModelFlux']) + 31.4\n",
    "kron_mag = -2.50 * np.log10(tab['i_kronFlux']) + 31.4\n",
    "truth_mag =  -2.50 * np.log10(tab['flux_i']) + 31.4\n",
    "gaap_mag = -2.50 * np.log10(tab['i_gaapOptimalFlux']) + 31.4\n",
    "\n",
    "#plt.scatter(truth_mag,cmodel_mag,c=tab['i_kronRad'], marker='.', alpha=.5)\n",
    "fig, ax = plt.subplots()\n",
    "\n",
    "scale = 0\n",
    "\n",
    "ax.axhline(scale,linestyle='--')\n",
    "\n",
    "ax.plot(truth_mag, (kron_mag-truth_mag)/truth_mag,'.',alpha=.1,label='Kron',color='blue')\n",
    "ax.plot(truth_mag, (gaap_mag-truth_mag)/truth_mag,'.',alpha=.1, label='gaapOptimal',color='green')\n",
    "ax.plot(truth_mag, (cmodel_mag-truth_mag)/truth_mag,'.',alpha=.1,label='cModel',color='r')\n",
    "\n",
    "\n",
    "x = truth_mag\n",
    "y = (cmodel_mag-truth_mag)/truth_mag\n",
    "bins=np.arange(16,30,1)\n",
    "bin_means, bin_edges, binnumber = stats.binned_statistic(x,\n",
    "             y, statistic='median', bins=bins)\n",
    "binctr = bin_edges[:-1] + (bin_edges[1:]-bin_edges[:-1])/2\n",
    "plt.plot(binctr, bin_means, color='red', lw=2, label='cModel bin median',zorder=10)\n",
    "\n",
    "y = (kron_mag-truth_mag)/truth_mag\n",
    "bin_means, bin_edges, binnumber = stats.binned_statistic(x,\n",
    "             y, statistic='median', bins=bins)\n",
    "binctr = bin_edges[:-1] + (bin_edges[1:]-bin_edges[:-1])/2\n",
    "plt.plot(binctr, bin_means, color='blue', lw=2, label='kron bin median',zorder=10)\n",
    "\n",
    "y = (gaap_mag-truth_mag)/truth_mag\n",
    "bin_means, bin_edges, binnumber = stats.binned_statistic(x,\n",
    "             y, statistic='median', bins=bins)\n",
    "binctr = bin_edges[:-1] + (bin_edges[1:]-bin_edges[:-1])/2\n",
    "plt.plot(binctr, bin_means, color='green', lw=2, label='GaaP Optimal bin median',zorder=10)#,color='green')\n",
    "\n",
    "#ax.scatter(truth_mag,kron_mag,c=tab['i_kronRad'], marker='+', alpha=.5)\n",
    "\n",
    "ax.set_xlabel('True i-band Magnitude')\n",
    "ax.set_ylabel('Mag Accuracy (M$_{obs}$ - M$_{true}$) /  M$_{true}$')\n",
    "#ax.set_ylim([-5,5])\n",
    "ax.set_ylim([-.2,.2])\n",
    "#ax.set_yscale('log')\n",
    "plt.legend()\n",
    "#plt.ylim(15,20)\n",
    "#x = np.arange(14,30,.1)\n",
    "#plt.plot(x,x,linestyle='--')\n",
    "#plt.axhline(1,linestyle='--')\n",
    "\n",
    "#plt.show()"
   ]
  },
  {
   "cell_type": "code",
   "execution_count": null,
   "id": "09d48509-bf5d-4e1b-a136-2c0bb4c03084",
   "metadata": {},
   "outputs": [],
   "source": [
    "\n",
    "cmodel_mag = -2.50 * np.log10(tab['i_cModelFlux']) + 31.4\n",
    "kron_mag = -2.50 * np.log10(tab['i_kronFlux']) + 31.4\n",
    "truth_mag =  -2.50 * np.log10(tab['flux_i']) + 31.4\n",
    "gaap_mag = -2.50 * np.log10(tab['i_gaapOptimalFlux']) + 31.4\n",
    "\n",
    "whz = np.where(results['redshift'] < 1)[0]\n",
    "\n",
    "fig, ax = plt.subplots()\n",
    "\n",
    "scale = 0\n",
    "\n",
    "ax.axhline(scale,linestyle='--')\n",
    "\n",
    "ax.plot(truth_mag[whz], (kron_mag[whz]-truth_mag[whz])/truth_mag[whz],'.',alpha=.1,label='Kron',color='blue')\n",
    "ax.plot(truth_mag[whz], (gaap_mag[whz]-truth_mag[whz])/truth_mag[whz],'.',alpha=.1, label='gaapOptimal',color='green')\n",
    "ax.plot(truth_mag[whz], (cmodel_mag[whz]-truth_mag[whz])/truth_mag[whz],'.',alpha=.1,label='cModel',color='r')\n",
    "\n",
    "\n",
    "x = truth_mag[whz]\n",
    "y = (cmodel_mag[whz]-truth_mag[whz])/truth_mag[whz]\n",
    "bins=np.arange(16,30,1)\n",
    "bin_means, bin_edges, binnumber = stats.binned_statistic(x,\n",
    "             y, statistic='median', bins=bins)\n",
    "binctr = bin_edges[:-1] + (bin_edges[1:]-bin_edges[:-1])/2\n",
    "plt.plot(binctr, bin_means, color='red', lw=2, label='cModel bin median',zorder=10)\n",
    "\n",
    "y = (kron_mag[whz]-truth_mag[whz])/truth_mag[whz]\n",
    "bin_means, bin_edges, binnumber = stats.binned_statistic(x,\n",
    "             y, statistic='median', bins=bins)\n",
    "binctr = bin_edges[:-1] + (bin_edges[1:]-bin_edges[:-1])/2\n",
    "plt.plot(binctr, bin_means, color='blue', lw=2, label='kron bin median',zorder=10)\n",
    "\n",
    "y = (gaap_mag[whz]-truth_mag[whz])/truth_mag[whz]\n",
    "bin_means, bin_edges, binnumber = stats.binned_statistic(x,\n",
    "             y, statistic='median', bins=bins)\n",
    "binctr = bin_edges[:-1] + (bin_edges[1:]-bin_edges[:-1])/2\n",
    "plt.plot(binctr, bin_means, color='green', lw=2, label='GaaP Optimal bin median',zorder=10,linestyle='--')#,color='green')\n",
    "\n",
    "#ax.scatter(truth_mag,kron_mag,c=tab['i_kronRad'], marker='+', alpha=.5)\n",
    "\n",
    "ax.set_xlabel('True i-band Magnitude')\n",
    "ax.set_ylabel('Mag Accuracy (M$_{obs}$ - M$_{true}$) /  M$_{true}$')\n",
    "#ax.set_ylim([-5,5])\n",
    "ax.set_ylim([-.2,.2])\n",
    "#ax.set_yscale('log')\n",
    "plt.legend()\n",
    "#plt.ylim(15,20)"
   ]
  },
  {
   "cell_type": "code",
   "execution_count": null,
   "id": "b29401a5-28df-4d93-88ec-4282ff467f06",
   "metadata": {},
   "outputs": [],
   "source": [
    "plt.plot(tab['i_gaapOptimalFlux'][whz], tab['i_gaapOptimalFlux'][whz]/tab['i_cModelFlux'][whz],'.',alpha=.2)\n",
    "#plt.plot(gaap_mag[whz], gaap_mag[whz]/cmodel_mag[whz],'.',alpha=.2)"
   ]
  },
  {
   "cell_type": "markdown",
   "id": "8a3c30b3-721e-4cbc-abfd-8d4c9b216de8",
   "metadata": {},
   "source": [
    "Below, compare the Kron magnitudes to truth under various circumstances. 2 basic paramters are set: extendedness = 1 means its a galaxy. Kronflag = 0 means there were no problems flagged in the flux measurement. \n",
    "\n",
    "Then we test whether blending impacts the photometry:\n",
    "\n",
    "1) detect_fromBlend = 1 means some deblending happened prior to flux measurement. this is responsible for some under-estimated magnitude (over-estimated flux) perhaps because neighbors were not removed at the bright end?\n",
    "\n",
    "2) The increased scatter at faint mags is due to increased fraction of flux contaminated by neighbors i_blendedness: (1 - child_flux/parent_flux)\n",
    "   \n",
    "3) detect_isIsolated = 1 means no deblending and the galaxy has no blended neighbors. The upturn at bright mags is not there among isolated galaxies\n",
    "\n",
    "4) Not sure i understand the tail to negative flux difference (i.e. underestimated flux) at bright mags"
   ]
  },
  {
   "cell_type": "code",
   "execution_count": null,
   "id": "3f5073a8-7c3d-4361-92b7-e1fa05c5dcde",
   "metadata": {},
   "outputs": [],
   "source": [
    "#\n",
    "fig,(ax, ax2) = plt.subplots(1, 2)\n",
    "#whblend = np.where( tab['detect_fromBlend'][whbright] == False)[0]\n",
    "\n",
    "# Pick things where there was no flagged error in the Kron meausrement, and things that are extended (i.e. galaxies)\n",
    "\n",
    "whgood = np.where((tab['i_kronFlux_flag'] == 0) & (tab['i_extendedness'] == 1) & ( tab['detect_fromBlend'] == 1))[0] #(tab['detect_fromBlend'] == 0) )[0]\n",
    "\n",
    "cmap = tab['i_blendedness'][whgood] #only saw things blended with 1 neighbor is this acutally boolean?\n",
    "vmax = 1\n",
    "colmaplabel='Fraction of flux contaminated by neighbors'\n",
    "#cmap = tab['i_kronRad'][whgood]\n",
    "#vmax = 20\n",
    "#colmaplabel='Kron Radius [pixels]'\n",
    "\n",
    "ax.scatter(truth_mag,(kron_mag-truth_mag)/truth_mag,color='k', marker='.', alpha=.5)#,vmin=0,vmax=20)\n",
    "im = ax.scatter(truth_mag[whgood],(kron_mag[whgood]-truth_mag[whgood])/truth_mag[whgood],c=cmap, marker='.', alpha=.5,vmin=0,vmax=vmax)\n",
    "\n",
    "\n",
    "ax.set_xlabel('truth AB Magnitude [i-band]')\n",
    "ax.set_ylabel('Mag Fractional Accuracy (M$_{obs}$ - M$_{true}$) /  M$_{true}$')\n",
    "ax.set_ylim([-.2,.2])\n",
    "\n",
    "\n",
    "whgood = np.where((tab['i_kronFlux_flag'] == 0) & (tab['i_extendedness'] == 1) & (tab['detect_isIsolated'] == 1) )[0]\n",
    "#cmap = tab['i_kronRad'][whgood] #tab['i_blendedness'][whgood] # #tab['i_blendedness'][whgood] #\n",
    "cmap = tab['i_blendedness'][whgood]\n",
    "\n",
    "ax2.scatter(truth_mag,(kron_mag-truth_mag)/truth_mag,color='k', marker='.', alpha=.5)#,vmin=0,vmax=20)\n",
    "ax2.scatter(truth_mag[whgood],(kron_mag[whgood]-truth_mag[whgood])/truth_mag[whgood],c=cmap, marker='.', alpha=.5,vmin=0,vmax=vmax)\n",
    "ax2.set_xlabel('truth AB Magnitude [i-band]')\n",
    "#ax2.set_ylabel('Mag Accuracy (M$_{obs}$ - M$_{true}$) /  M$_{true}$')\n",
    "ax2.set_ylim([-.2,.2])\n",
    "\n",
    "\n",
    "fig.subplots_adjust(right=0.8)\n",
    "cbar_ax = fig.add_axes([0.85, 0.15, 0.05, 0.7])\n",
    "fig.colorbar(im, cax=cbar_ax,label=colmaplabel)\n",
    "\n",
    "plt.show()"
   ]
  },
  {
   "cell_type": "code",
   "execution_count": null,
   "id": "1e525f6f-5521-4a67-9abb-b96e4a198043",
   "metadata": {},
   "outputs": [],
   "source": [
    "#\n",
    "fig,(ax, ax2) = plt.subplots(1, 2)\n",
    "#whblend = np.where( tab['detect_fromBlend'][whbright] == False)[0]\n",
    "\n",
    "# Pick things where there was no flagged error in the Kron meausrement, and things that are extended (i.e. galaxies)\n",
    "\n",
    "whgood = np.where((tab['i_kronFlux_flag'] == 0) & (tab['i_extendedness'] == 1) & ( tab['detect_fromBlend'] == 1))[0] #(tab['detect_fromBlend'] == 0) )[0]\n",
    "\n",
    "cmap = tab['i_blendedness'][whgood] #only saw things blended with 1 neighbor is this acutally boolean?\n",
    "vmax = 1\n",
    "colmaplabel='Fraction of flux contaminated by neighbors'\n",
    "#cmap = tab['i_kronRad'][whgood]\n",
    "#vmax = 20\n",
    "#colmaplabel='Kron Radius [pixels]'\n",
    "\n",
    "ax.scatter(truth_mag,(cmodel_mag-truth_mag)/truth_mag,color='k', marker='.', alpha=.5)#,vmin=0,vmax=20)\n",
    "im = ax.scatter(truth_mag[whgood],(cmodel_mag[whgood]-truth_mag[whgood])/truth_mag[whgood],c=cmap, marker='.', alpha=.5,vmin=0,vmax=vmax)\n",
    "\n",
    "\n",
    "ax.set_xlabel('truth AB Magnitude [i-band]')\n",
    "ax.set_ylabel('Mag Fractional Accuracy (M$_{obs}$ - M$_{true}$) /  M$_{true}$')\n",
    "ax.set_ylim([-.2,.2])\n",
    "\n",
    "\n",
    "whgood = np.where((tab['i_kronFlux_flag'] == 0) & (tab['i_extendedness'] == 1) & (tab['detect_isIsolated'] == 1) )[0]\n",
    "#cmap = tab['i_kronRad'][whgood] #tab['i_blendedness'][whgood] # #tab['i_blendedness'][whgood] #\n",
    "cmap = tab['i_blendedness'][whgood]\n",
    "\n",
    "ax2.scatter(truth_mag,(cmodel_mag-truth_mag)/truth_mag,color='k', marker='.', alpha=.5)#,vmin=0,vmax=20)\n",
    "ax2.scatter(truth_mag[whgood],(cmodel_mag[whgood]-truth_mag[whgood])/truth_mag[whgood],c=cmap, marker='.', alpha=.5,vmin=0,vmax=vmax)\n",
    "ax2.set_xlabel('truth AB Magnitude [i-band]')\n",
    "#ax2.set_ylabel('Mag Accuracy (M$_{obs}$ - M$_{true}$) /  M$_{true}$')\n",
    "ax2.set_ylim([-.2,.2])\n",
    "\n",
    "\n",
    "fig.subplots_adjust(right=0.8)\n",
    "cbar_ax = fig.add_axes([0.85, 0.15, 0.05, 0.7])\n",
    "fig.colorbar(im, cax=cbar_ax,label=colmaplabel)\n",
    "\n",
    "plt.show()"
   ]
  },
  {
   "cell_type": "code",
   "execution_count": null,
   "id": "94c2ecc1-5760-4872-b01d-e6d48b145201",
   "metadata": {},
   "outputs": [],
   "source": [
    "# now do the outlier fraction. histogram up the delta_M / M > 0.1 as function of magnitude for the 3\n",
    "\n",
    "x = truth_mag\n",
    "y = (cmodel_mag-truth_mag)#/truth_mag\n",
    "bins=np.arange(16,30,1)\n",
    "bin_means, bin_edges, binnumber = stats.binned_statistic(x,\n",
    "             y, statistic=lambda sigmaz: float(len(np.where(np.abs(y) > 0.01)[0]))/len(y) ,bins=bins)\n",
    "\n",
    "binctr = bin_edges[:-1] + (bin_edges[1:]-bin_edges[:-1])/2\n",
    "plt.plot(binctr, bin_means, color='red', lw=2, label='cModel bin median',zorder=10)\n",
    "#plt.hist(bins[:-1],bins,weights=bin_means,color='r',alpha=.5,edgecolor='black', linewidth=1.2)\n",
    "\n",
    "y = (kron_mag-truth_mag)#/truth_mag\n",
    "bin_means, bin_edges, binnumber = stats.binned_statistic(x,\n",
    "             y, statistic=lambda sigmaz: float(len(np.where(y > 0.01)[0]))/len(y) ,bins=bins)\n",
    "binctr = bin_edges[:-1] + (bin_edges[1:]-bin_edges[:-1])/2\n",
    "#plt.plot(binctr, bin_means, color='blue', lw=2, label='kron bin median',zorder=10)\n",
    "#plt.hist(bins[:-1],bins,weights=bin_means,color='b',alpha=.5,edgecolor='black', linewidth=1.2)\n",
    "\n",
    "y = (gaap_mag-truth_mag)#/truth_mag\n",
    "bin_means, bin_edges, binnumber = stats.binned_statistic(x,\n",
    "             y,  statistic=lambda sigmaz: float(len(np.where(y > 0.01)[0]))/len(y) ,bins=bins)\n",
    "binctr = bin_edges[:-1] + (bin_edges[1:]-bin_edges[:-1])/2\n",
    "#plt.plot(binctr, bin_means, color='green', lw=2, label='GaaP Optimal bin median',zorder=10)#,color='green')\n",
    "#plt.hist(bins[:-1],bins,weights=bin_means,color='g',alpha=.5,edgecolor='black', linewidth=1.2)\n",
    "\n",
    "#ax.scatter(truth_mag,kron_mag,c=tab['i_kronRad'], marker='+', alpha=.5)\n",
    "\n",
    "#plt.set_xlabel('True i-band Magnitude')\n",
    "#plt.set_ylabel('Mag Accuracy (M$_{obs}$ - M$_{true}$) /  M$_{true}$')\n",
    "#ax.set_ylim([-5,5])\n",
    "#plt.ylim([0,1000])\n",
    "#ax.set_yscale('log')\n",
    "plt.legend()\n",
    "\n",
    "\n",
    "#bin_means, bin_edges, binnumber = stats.binned_statistic(F150mag,sigmaz, statistic=lambda sigmaz: float(len(np.where(sigmaz > 0.15)[0]))/len(sigmaz) ,bins=bins)\n",
    "\n",
    "print(bin_means)\n"
   ]
  },
  {
   "cell_type": "code",
   "execution_count": null,
   "id": "2f52232f-8e56-4118-8454-66593a552ddc",
   "metadata": {},
   "outputs": [],
   "source": []
  },
  {
   "cell_type": "code",
   "execution_count": null,
   "id": "20443fe8-caa8-4f32-97a9-e19cc2ff8079",
   "metadata": {},
   "outputs": [],
   "source": [
    "# compare kron mag to cmodel mag\n",
    "\n",
    "#whbright = np.where(tab['i_kronFlux'] > 0.0001e6)[0]\n",
    "whbright = np.where((tab['i_kronFlux'] > 0.01e6) & (tab['i_kronFlux_flag'] == 0))[0]\n",
    "\n",
    "cmodel_mag = -2.50 * np.log10(tab['i_cModelFlux']) + 31.4\n",
    "kron_mag = -2.50 * np.log10(tab['i_kronFlux']) + 31.4\n",
    "\n",
    "plt.scatter(cmodel_mag,kron_mag,\n",
    "            c=tab['i_kronRad'], marker='.', alpha=.5)\n",
    "\n",
    "#plt.scatter(cmodel_mag[whbright],kron_mag[whbright],\n",
    "#            c=tab['i_kronRad'][whbright], marker='.', alpha=.5)\n",
    "plt.axhline(26.4,linestyle='--',label='10-yr 5sig depth')\n",
    "\n",
    "plt.colorbar(label='Kron Radius [pixels]')\n",
    "plt.xlabel('cModel AB Magnitude [i-band]')\n",
    "plt.ylabel('kron AB Magnitude [i-band]')\n",
    "plt.legend()\n",
    "plt.show()"
   ]
  },
  {
   "cell_type": "code",
   "execution_count": null,
   "id": "c80af7f5-a048-4169-b7e7-61fb479b6df8",
   "metadata": {},
   "outputs": [],
   "source": [
    "\n",
    "cmodel_mag = -2.50 * np.log10(tab['i_gaapOptimalFlux']) + 31.4\n",
    "kron_mag = -2.50 * np.log10(tab['i_kronFlux']) + 31.4\n",
    "\n",
    "plt.scatter(cmodel_mag,kron_mag,\n",
    "            c=tab['i_kronRad'], marker='.', alpha=.5, vmin=1, vmax=50)\n",
    "\n",
    "#plt.scatter(cmodel_mag[whbright],kron_mag[whbright],\n",
    "#            c=tab['i_kronRad'][whbright], marker='.', alpha=.5)\n",
    "plt.axhline(26.4,linestyle='--',label='10-yr 5sig depth')\n",
    "\n",
    "plt.colorbar(label='Kron Radius [pixels]')\n",
    "plt.xlabel('GaaP optimal AB Magnitude [i-band]')\n",
    "plt.ylabel('kron AB Magnitude [i-band]')\n",
    "plt.legend()\n",
    "plt.show()"
   ]
  },
  {
   "cell_type": "code",
   "execution_count": null,
   "id": "6553101d-d9fa-45b5-9d68-6242bd9ae28d",
   "metadata": {},
   "outputs": [],
   "source": [
    "\n",
    "#cmodel_mag = -2.50 * np.log10(tab['i_gaap1p5Flux']) + 31.4\n",
    "kron_mag = -2.50 * np.log10(tab['i_kronFlux']) + 31.4\n",
    "\n",
    "plt.scatter(cmodel_mag,kron_mag,\n",
    "            c=tab['i_kronRad'], marker='.', alpha=.5, vmin=1, vmax=50)\n",
    "\n",
    "#plt.scatter(cmodel_mag[whbright],kron_mag[whbright],\n",
    "#            c=tab['i_kronRad'][whbright], marker='.', alpha=.5)\n",
    "plt.axhline(26.4,linestyle='--',label='10-yr 5sig depth')\n",
    "\n",
    "plt.colorbar(label='Kron Radius [pixels]')\n",
    "plt.xlabel('GaaP AB Magnitude 1.5 aperture [i-band]')\n",
    "plt.ylabel('kron AB Magnitude [i-band]')\n",
    "plt.legend()\n",
    "plt.show()"
   ]
  },
  {
   "cell_type": "code",
   "execution_count": null,
   "id": "ed161a44-81df-4b9e-9563-e7431e2dce89",
   "metadata": {},
   "outputs": [],
   "source": [
    "\n",
    "whbright = np.where((tab['i_kronFlux'] > 0.001e6) & (tab['i_kronFlux_flag'] == 0))[0]\n",
    "\n",
    "mag = -2.50 * np.log10(tab['i_kronFlux']) + 31.4\n",
    "plt.scatter(mag[whbright],tab['i_kronFlux'][whbright]/tab['i_cModelFlux'][whbright],\n",
    "            c=tab['i_kronRad'][whbright], marker='o', alpha=.5, vmin=1, vmax=50)\n",
    "plt.colorbar(label='Kron Radius [pixels]')\n",
    "plt.axhline(1,linestyle='--')\n",
    "plt.xlabel('Kron AB Magnitude [i-band]')\n",
    "plt.yscale('log')\n",
    "plt.ylabel('Kron flux / cModel Flux')\n",
    "\n",
    "\n",
    "#whbad = np.where( (np.abs(tab['i_kronFlux'][whbright]/tab['i_cModelFlux'][whbright]) > 2) & (mag[whbright] < 22))[0]\n",
    "whblend = np.where( tab['detect_fromBlend'][whbright] == True)[0]\n",
    "\n",
    "print(tab['detect_fromBlend'][whbright][whbad])\n",
    "plt.plot(mag[whbright][whblend],tab['i_kronFlux'][whbright][whblend]/tab['i_cModelFlux'][whbright][whblend],'k+')\n",
    "\n",
    "plt.show()"
   ]
  },
  {
   "cell_type": "code",
   "execution_count": null,
   "id": "4d35fa45-3cc2-47c3-8e47-a29d3c7ec440",
   "metadata": {},
   "outputs": [],
   "source": []
  },
  {
   "cell_type": "code",
   "execution_count": null,
   "id": "f5c9bc62-6bbd-4e5c-8603-519427970caf",
   "metadata": {},
   "outputs": [],
   "source": [
    "plt.scatter(tab['i_kronRad'][whbright],tab['i_kronFlux'][whbright]/tab['i_gaapOptimalFlux'][whbright],\n",
    "            c=mag[whbright], marker='o', alpha=.5)\n",
    "plt.xlabel('Kron Radius [pix]')\n",
    "plt.ylabel('Kron flux / GaaP Optimal Flux')\n",
    "plt.colorbar(label='Kron Mag [ABmag]')\n",
    "plt.xlim([0,50])\n",
    "plt.ylim([-1,30])\n",
    "plt.show()"
   ]
  },
  {
   "cell_type": "code",
   "execution_count": null,
   "id": "c1487f21-af5c-48ee-9a7a-6cf0aa56185c",
   "metadata": {},
   "outputs": [],
   "source": [
    "plt.scatter(tab['i_kronRad'][whbright],tab['i_kronFlux'][whbright]/tab['i_cModelFlux'][whbright],\n",
    "            c=mag[whbright], marker='o', alpha=.5)\n",
    "plt.xlabel('Kron Radius [pix]')\n",
    "plt.ylabel('Kron flux / cModel Flux')\n",
    "plt.colorbar(label='Kron Mag [ABmag]')\n",
    "plt.xlim([0,50])\n",
    "plt.ylim([-1,30])\n",
    "plt.show()"
   ]
  },
  {
   "cell_type": "markdown",
   "id": "b16c2ecf-c99e-4b30-8d0c-1655c1cb7f92",
   "metadata": {},
   "source": [
    "# 3. Integrated photometry for high-redshift galaxies"
   ]
  },
  {
   "cell_type": "markdown",
   "id": "b7ec87d9-8f56-4974-a9c4-052af0fec039",
   "metadata": {},
   "source": [
    "# 4. AGN and host photometry"
   ]
  },
  {
   "cell_type": "markdown",
   "id": "6cc1a4dc-5256-48f5-a4d1-8100458c058b",
   "metadata": {},
   "source": [
    "# 5. Science application for aperture fluxes"
   ]
  },
  {
   "cell_type": "markdown",
   "id": "2e364b4b-7cfd-4bfd-af48-8f08e0af2481",
   "metadata": {},
   "source": [
    "easier for someone to correct something i've done wrong than to tell me the right way to do it (so, try to write it up and take af irst stab at it and then ask if thats what they were going for). \n",
    "\n",
    "for DP1: here is literal interpretation of measurement (these should be short)\n",
    "\n",
    "then one for low-z galaxies and nuances of measuring photometry\n",
    "\n",
    "then one for high-z galaxies \n",
    "\n",
    "AGN: point source right in the center thats a better science case than the SN contamination one. there will be more of these and stacking doesn't take it out.\n",
    "\n",
    "can we think of a science case we would want to use galaxy photometry from a calexp? this is probably a different science case. lets exclude calexp photometry form this notebook. \n",
    "\n",
    "when you're ready for input from DM make a list of what i want help with (so Yusra can find someone for help and then help them respond to specific questions"
   ]
  }
 ],
 "metadata": {
  "kernelspec": {
   "display_name": "LSST",
   "language": "python",
   "name": "lsst"
  },
  "language_info": {
   "codemirror_mode": {
    "name": "ipython",
    "version": 3
   },
   "file_extension": ".py",
   "mimetype": "text/x-python",
   "name": "python",
   "nbconvert_exporter": "python",
   "pygments_lexer": "ipython3",
   "version": "3.11.9"
  },
  "toc-autonumbering": false
 },
 "nbformat": 4,
 "nbformat_minor": 5
}
