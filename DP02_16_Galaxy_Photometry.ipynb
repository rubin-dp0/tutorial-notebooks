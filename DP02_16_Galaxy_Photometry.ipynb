{
 "cells": [
  {
   "cell_type": "markdown",
   "id": "749b0ddf",
   "metadata": {
    "tags": []
   },
   "source": [
    "# DP0.2 Notebook 16 Galaxy Photometry\n",
    "\n",
    "<img align=\"left\" src = https://project.lsst.org/sites/default/files/Rubin-O-Logo_0.png width=250 style=\"padding: 10px\" alt=\"Rubin Observatory logo, a graphical representation of turning stars into data.\">\n",
    "<br>\n",
    "Contact author(s): <i>Christina Williams</i> <br>\n",
    "Last verified to run: <i>2024-11-18</i> <br>\n",
    "LSST Science Pipelines version: Weekly <i>2024_24</i> <br>\n",
    "Container Size: <i>medium</i> <br>\n",
    "Targeted learning level: <i>beginner</i> <br>"
   ]
  },
  {
   "cell_type": "markdown",
   "id": "2d9cd09b-d5c4-4610-993b-711bdc9bd80e",
   "metadata": {},
   "source": [
    "_In this template, text in italics are examples or instructions that should be: \n",
    "(a) removed if it is not applicable to the notebook; \n",
    "or (b) replaced with text that is appropriate for the notebook. \n",
    "But bold or regular text should appear pretty much as-is in all CET notebooks._\n",
    "\n",
    "_Remember to use the [CST's Guidelines for Tutorial Notebooks](rtn-045.lsst.io)._"
   ]
  },
  {
   "cell_type": "code",
   "execution_count": null,
   "id": "7acc79a4-8530-42d9-96e5-b7acb4397864",
   "metadata": {},
   "outputs": [],
   "source": [
    "%load_ext pycodestyle_magic\n",
    "%flake8_on\n",
    "import logging\n",
    "logging.getLogger(\"flake8\").setLevel(logging.FATAL)"
   ]
  },
  {
   "cell_type": "markdown",
   "id": "482777d8-0a8d-432e-ba53-2da536700407",
   "metadata": {},
   "source": [
    "_The six cells below are considered the extended header of the notebook. The first four will be used, verbatim, to create the table of notebook metadata in the README.md file for the repository._"
   ]
  },
  {
   "cell_type": "markdown",
   "id": "9da1a210-d858-42fe-8591-570965b8be1a",
   "metadata": {},
   "source": [
    "**Description:** _Very brief description of notebook._"
   ]
  },
  {
   "cell_type": "markdown",
   "id": "80a0baf5-51ad-40ec-8991-060a7b27c289",
   "metadata": {},
   "source": [
    "**Skills:** _Brief list of skills to match the README.md file for the repository._"
   ]
  },
  {
   "cell_type": "markdown",
   "id": "393da88f-7978-4920-aa4a-a9830df6eed9",
   "metadata": {},
   "source": [
    "**LSST Data Products:** _List the all of the types of LSST catalogs and images used._"
   ]
  },
  {
   "cell_type": "markdown",
   "id": "5c67fab9-136a-4adc-bb42-142b91ab69dd",
   "metadata": {},
   "source": [
    "**Packages:** _List the python packages used._ (_List the packages being taught first, e.g., afwDisplay for a notebook about displaying images. Then supporting packages, e.g., lsst.daf.butler for a notebook about displaying images. It is OK to leave out basic support packages like os or glob.)_"
   ]
  },
  {
   "cell_type": "markdown",
   "id": "8f72b27f",
   "metadata": {},
   "source": [
    "**Credit:**\n",
    "_E.g., \"Originally developed by\" or \"Based on notebooks developed by\" and then people's names, including journal article or software release citations if appropriate._\n",
    "Please consider acknowledging them if this notebook is used for the preparation of journal articles, software releases, or other notebooks."
   ]
  },
  {
   "cell_type": "markdown",
   "id": "28e91cbf-ab7f-4e26-9276-b00299d6065e",
   "metadata": {},
   "source": [
    "**Get Support:**\n",
    "Find DP0-related documentation and resources at <a href=\"https://dp0.lsst.io\">dp0.lsst.io</a>.\n",
    "Questions are welcome as new topics in the \n",
    "<a href=\"https://community.lsst.org/c/support/dp0\">Support - Data Preview 0 Category</a> \n",
    "of the Rubin Community Forum. \n",
    "Rubin staff will respond to all questions posted there."
   ]
  },
  {
   "cell_type": "markdown",
   "id": "cfc73be0",
   "metadata": {},
   "source": [
    "## 1. Introduction\n",
    "\n",
    "_Provide a light narrative about this notebook, e.g., \"This notebook will teach the user...\"._\n",
    "\n",
    "_Cite or link to any external information or documentation, and cross-reference to other notebooks._\n",
    "\n",
    "> **Notice:** *use indented text preceded with* **Notice** *or* **Warning** *to attract attention to particular information.*\n",
    "\n",
    "_Embedded images or generated figures should be captioned in a markdown cell, like this._"
   ]
  },
  {
   "cell_type": "markdown",
   "id": "7eb3ba1f-659f-4cb0-acad-52690f60a485",
   "metadata": {
    "execution": {
     "iopub.execute_input": "2024-12-02T22:37:09.704845Z",
     "iopub.status.busy": "2024-12-02T22:37:09.704072Z",
     "iopub.status.idle": "2024-12-02T22:37:10.367698Z",
     "shell.execute_reply": "2024-12-02T22:37:10.366983Z",
     "shell.execute_reply.started": "2024-12-02T22:37:09.704824Z"
    }
   },
   "source": [
    "### 1.0 Selected text grabbed from Melissa's photo-z notebook (for now)\n",
    "#### Schema: types of fluxes measured\n",
    "\n",
    "Schema for the object catalog for DP0.2: https://dm.lsst.org/sdm_schemas/browser/dp02.html#Object\n",
    "\n",
    "For photometric redshifts, since accurate colors are important, it is the GaaP fluxes that should be used.\n",
    "\n",
    "### Aperture fluxes\n",
    "Fixed aperture diameter size in pixels.\n",
    "\n",
    "```\n",
    "<f>_ap<pix>Flux     : Flux within <pix>-pixel aperture. Forced on <f>-band.\n",
    "<f>_ap<pix>FluxErr  : Uncertainty of <f>_ap<pix>Flux.\n",
    "<f>_ap<pix>FluxFlag : Failure flag for <f>_ap<pix>Flux.\n",
    "```\n",
    "\n",
    "For DP0.2, the apertures are 3, 6, 9, 12, 17, 25, 35, 50, and 70 pixels.\n",
    "\n",
    "In the column name, apertures are `03`, `06`, `09`, `12`, and so on.\n",
    "\n",
    "### Composite Model (CModel) fluxes\n",
    "\n",
    "Similar in nature to those measured for SDSS: \n",
    "https://www.sdss3.org/dr8/algorithms/magnitudes.php#cmodel\n",
    "\n",
    "In short, it is the linear combination of the best fit exponential and de Vaucouleurs profiles.\n",
    "\n",
    "```\n",
    "<f>_cModelFlux    :\tFlux from the final cmodel fit. Forced on <f>-band.\n",
    "<f>_cModelFluxErr : Uncertainty of <f>_cModelFlux\n",
    "<f>_cModel_flag   : Failure flag for <f>_cModelFlux\n",
    "```\n",
    "\n",
    "Fluxes fit to the individual model components.\n",
    "\n",
    "```\n",
    "<f>_bdFluxB    : Flux from the de Vaucouleurs fit. Measured on <f>-band.\n",
    "<f>_bdFluxD    : Flux from the exponential fit. Measured on <f>-band.\n",
    "<f>_bdFluxBErr : Uncertainty of <f>_bdFluxB\n",
    "<f>_bdFluxDErr : Uncertainty of <f>_bdFluxD\n",
    "```\n",
    "\n",
    "The fit sizes are also available (half-light radii, ellipse axes).\n",
    "\n",
    "### GaaP fluxes\n",
    "\n",
    "The Gaussian-aperture-and-PSF flux from <a href=\"https://ui.adsabs.harvard.edu/abs/2008A%26A...482.1053K/abstract\">Kuijken et al. 2008</a>.\n",
    "\n",
    "**Optimal**\n",
    "\n",
    "```\n",
    "<f>_gaapOptimalFlux    : GaaP flux with optimal aperture after multiplying the seeing by 1.15. Forced on <f>-band.\n",
    "<f>_gaapOptimalFluxErr : Uncertainty of <f>_gaapOptimalFlux.\n",
    "```\n",
    "\n",
    "**PSF**\n",
    "\n",
    "```\n",
    "<f>_gaapPsfFlux    : GaaP flux with PSF aperture after multiplying the seeing by 1.15. Forced on <f>-band.\n",
    "<f>_gaapPsfFluxErr : Uncertainty of <f>_gaapPsfFlux.\n",
    "```\n",
    "\n",
    "**Aperture**\n",
    "\n",
    "```\n",
    "<f>_gaap<ap>Flux    : GaaP flux with <ap> aperture after multiplying the seeing by 1.15. Forced on <f>-band.\n",
    "<f>_gaap<ap>FluxErr : Uncertainty of <f>_gaap<ap>Flux.\n",
    "```\n",
    "\n",
    "Where the apertures are 0.5, 0.7, 1.0, 1.5, 2.5, and 3.0.\n",
    "In the column name `<ap>` appears as `0p5`, `0p7`, etc.\n",
    "\n",
    "\n",
    "### Kron fluxes\n",
    "\n",
    "A decent summary of Kron fluxes <a href=\"https://ned.ipac.caltech.edu/level5/March05/Graham/Graham2_6.html\">in the NED documentation</a>.\n",
    "\n",
    "```\n",
    "<f>_kronFlux      : Flux from Kron Flux algorithm. Measured on <f> g-band.\n",
    "<f>_kronFluxErr   : Uncertainty of <f>_kronFlux.\n",
    "<f>_kronFlux_flag : Failure flag for <f>_kronFlux.\n",
    "```\n",
    "\n",
    "The Kron radius, `<f>_kronRad`, is also available.\n",
    "\n",
    "### PSF fluxes\n",
    "\n",
    "Fluxes derived using the model point-spread function (PSF) of the image. The focus here should be static sky (calexp, deepCoadd) and extended objects (i.e. not PSF fluxes). Connect where relevant to the PSF tutorial and to the tutorial developed for SP-910 (is this Notebook 12a/b or 5?).\n",
    "\n",
    "```\n",
    "<f>_psfFlux      : Flux derived from linear least-squares fit of PSF model. Forced on <f>-band.\n",
    "<f>_psfFluxErr   : Uncertainty of <f>_psfFlux.\n",
    "<f>_psfFlux_flag : Failure flag for <f>_psfFlux.\n",
    "\n",
    "```\n"
   ]
  },
  {
   "cell_type": "markdown",
   "id": "dc36f107",
   "metadata": {},
   "source": [
    "### 1.1 Import packages\n"
   ]
  },
  {
   "cell_type": "markdown",
   "id": "ccb4fe61-835a-47ac-a691-e086ce766e79",
   "metadata": {},
   "source": [
    "`numpy` is a fundamental package for scientific computing with arrays in Python\n",
    "(<a href=\"https://numpy.org\">numpy.org</a>).\n",
    "\n",
    "`matplotlib` is a comprehensive library for creating static, animated, and\n",
    "interactive visualizations in Python \n",
    "(<a href=\"https://matplotlib.org/\">matplotlib.org</a>; \n",
    "<a href=\"https://matplotlib.org/stable/gallery/index.html\">matplotlib gallery</a>).\n",
    "\n",
    "From the `lsst` package, modules for accessing the TAP service, the butler, and image display functions are imported (<a href=\"https://pipelines.lsst.io/\">pipelines.lsst.io</a>)."
   ]
  },
  {
   "cell_type": "code",
   "execution_count": null,
   "id": "2dbc75bd-a802-4576-8628-4e0088942303",
   "metadata": {},
   "outputs": [],
   "source": [
    "import matplotlib.pyplot as plt\n",
    "from astropy.wcs import WCS\n",
    "from astropy.visualization import make_lupton_rgb\n",
    "from astropy import units as u\n",
    "from astropy.coordinates import SkyCoord\n",
    "import gc\n",
    "import numpy as np\n",
    "\n",
    "import lsst.afw.display as afwDisplay\n",
    "from lsst.afw.image import MultibandExposure\n",
    "from lsst.daf.butler import Butler\n",
    "from lsst.rsp import get_tap_service\n",
    "import lsst.geom as geom"
   ]
  },
  {
   "cell_type": "markdown",
   "id": "c217adff-25ed-4fce-95e7-8aa04630f6cc",
   "metadata": {},
   "source": [
    "### 1.2 Define functions and parameters\n",
    "\n",
    "_If your notebook defines functions or parameters to use later or throughout, do it here in sub-section 1.2._\n",
    "\n",
    "_It is OK to rename the subsection to be more specific to the notebook, and/or to use sub-sub-sections like \"1.2.1 Define global cosmological parameter values\" or \"1.2.2 Define a function to make an image cutout\"._\n",
    "\n",
    "_It is OK to remove this sub-section if it is not being used._"
   ]
  },
  {
   "cell_type": "code",
   "execution_count": null,
   "id": "0d2ecffa-a837-4d10-be95-616c95fda15f",
   "metadata": {},
   "outputs": [],
   "source": [
    "plt.style.use('tableau-colorblind10')\n",
    "afwDisplay.setDefaultBackend('matplotlib')"
   ]
  },
  {
   "cell_type": "code",
   "execution_count": null,
   "id": "4fabe755-cb34-4d50-bbbc-99d8db7980c4",
   "metadata": {},
   "outputs": [],
   "source": [
    "service = get_tap_service(\"tap\")"
   ]
  },
  {
   "cell_type": "markdown",
   "id": "ec51ac0b",
   "metadata": {
    "tags": []
   },
   "source": [
    "## 2. Section heading\n",
    "\n",
    "_Use numbers for sections, sub-sections, and sub-sub-sections to enable referencing, e.g., \"I'm having trouble with the second code cell in Section 2.3.\"_\n",
    "\n",
    "_Use section titles that actively describe what is being done, e.g., \"Create a color-magnitude diagram\" instead of \"Plot\", so that the auto-generated table of contents is easy to navigate._\n",
    "\n",
    "### 2.1 Section sub-heading\n",
    "\n",
    "#### 2.1.1 Section sub-sub-heading"
   ]
  },
  {
   "cell_type": "code",
   "execution_count": null,
   "id": "6ad9a3ea-5d4c-4247-b0ff-712fafa00bb3",
   "metadata": {},
   "outputs": [],
   "source": [
    "butler = Butler('dp02', collections='2.2i/runs/DP0.2')\n",
    "\n",
    "dataId = {'tract': 4431, 'patch': 17, 'band': 'i'}\n",
    "datasetType = 'deepCoadd'\n",
    "coadd = butler.get(datasetType, **dataId)"
   ]
  },
  {
   "cell_type": "code",
   "execution_count": null,
   "id": "a59e517d-e7e9-4371-9904-174fc6bf1f4f",
   "metadata": {},
   "outputs": [],
   "source": [
    "fig, ax = plt.subplots()\n",
    "display = afwDisplay.Display(frame=fig)\n",
    "display.scale('asinh', 'zscale')\n",
    "display.mtv(coadd.image)\n",
    "plt.show()\n",
    "#remove_figure(fig)"
   ]
  },
  {
   "cell_type": "code",
   "execution_count": null,
   "id": "914e6572-fcac-415a-a4de-fb526d198483",
   "metadata": {},
   "outputs": [],
   "source": [
    "skymap = butler.get('skyMap')\n",
    "dataId = {'skymap': skymap, 'tract': 4431, 'patch': 17}\n",
    "#objects = butler.get('Object', dataId=dataId)\n",
    "\n",
    "# this doens't work:\n",
    "#objects = butler.registry.queryDataIds('objectTable', dataId=dataId)\n",
    "\n",
    "\n",
    "#butler.registry.queryDataIds(\n",
    "#    dataId,\n",
    "    #datasets=\"deepCoadd\",\n",
    "#    collections='2.2i/runs/DP0.2').limit(10)"
   ]
  },
  {
   "cell_type": "code",
   "execution_count": null,
   "id": "7006a12e-5631-4b55-9eba-6f5fd7f73bac",
   "metadata": {},
   "outputs": [],
   "source": [
    "cutout_image = coadd\n",
    "\n",
    "wcs = cutout_image.getWcs()\n",
    "\n",
    "x0 = float(cutout_image.getX0())\n",
    "y0 = float(cutout_image.getY0())\n",
    "width = cutout_image.getWidth()\n",
    "height = cutout_image.getHeight()\n",
    "\n",
    "xcorners = [x0, x0+width, x0+width, x0]\n",
    "ycorners = [y0, y0, y0+width, y0+width]\n",
    "\n",
    "ra_corners = []\n",
    "dec_corners = []\n",
    "\n",
    "for i in range(len(xcorners)):\n",
    "    radec = wcs.pixelToSky(xcorners[i], ycorners[i])\n",
    "    ra_corners.append(radec.getRa().asDegrees())\n",
    "    dec_corners.append(radec.getDec().asDegrees())"
   ]
  },
  {
   "cell_type": "code",
   "execution_count": null,
   "id": "decab323-5735-4e6a-af11-cabb3cc7bdc3",
   "metadata": {},
   "outputs": [],
   "source": [
    "query = \"SELECT objectId, coord_ra, coord_dec, x, y, tract, patch, \" + \\\n",
    "        \"i_ap09Flux, i_ap12Flux, i_ap17Flux, i_ap25Flux, i_ap35Flux, \" + \\\n",
    "        \"i_cModelFlux, i_free_cModelFlux, \" + \\\n",
    "        \"i_gaap3p0Flux, i_gaap1p5Flux, i_gaapOptimalFlux, \" + \\\n",
    "        \"i_kronFlux, i_kronRad, i_kronFlux_flag \" + \\\n",
    "        \"FROM dp02_dc2_catalogs.Object \" + \\\n",
    "        \"WHERE CONTAINS(POINT('ICRS', coord_ra, coord_dec), \" +\\\n",
    "        \"POLYGON('ICRS', \" + str(ra_corners[0]) + \", \" + str(dec_corners[0]) + \", \" +\\\n",
    "        str(ra_corners[1]) + \", \" + str(dec_corners[1]) + \", \" +\\\n",
    "        str(ra_corners[2]) + \", \" + str(dec_corners[2]) + \", \" +\\\n",
    "        str(ra_corners[3]) + \", \" + str(dec_corners[3]) + \")) = 1 AND \" +\\\n",
    "        \"detect_isPrimary = 1 AND \" +\\\n",
    "        \"tract = \" + str(dataId['tract']) + \" AND patch = \" + str(dataId['patch'])\n",
    "print(query)"
   ]
  },
  {
   "cell_type": "code",
   "execution_count": null,
   "id": "1b10f993-c750-49a3-82c0-1c5a5112884a",
   "metadata": {},
   "outputs": [],
   "source": [
    "job = service.submit_job(query)\n",
    "job.run()\n",
    "job.wait(phases=['COMPLETED', 'ERROR'])\n",
    "print('Job phase is', job.phase)"
   ]
  },
  {
   "cell_type": "code",
   "execution_count": null,
   "id": "6b0938c2-0724-459c-b560-56e0b4f2a330",
   "metadata": {},
   "outputs": [],
   "source": [
    "results = job.fetch_result()\n",
    "print(len(results))\n",
    "tab = results.to_table()\n",
    "tab"
   ]
  },
  {
   "cell_type": "code",
   "execution_count": null,
   "id": "14124486-2f17-4fc2-8b17-ff62e91028e3",
   "metadata": {},
   "outputs": [],
   "source": [
    "# this messes up memory, already validated that it finds the galaxies\n",
    "\n",
    "#fig, ax = plt.subplots()\n",
    "#display = afwDisplay.Display(frame=fig)\n",
    "#display.scale('asinh', 'zscale')\n",
    "#display.mtv(cutout_image.image)\n",
    "#with display.Buffering():\n",
    "#    for i in range(len(tab)):\n",
    "#        display.dot('+', tab[i]['x'], tab[i]['y'], ctype=afwDisplay.RED)\n",
    "#        display.dot('o', tab[i]['x'], tab[i]['y'], size=20, ctype='orange')\n",
    "#plt.show()"
   ]
  },
  {
   "cell_type": "code",
   "execution_count": null,
   "id": "999d12f2-b84b-4a80-a7fd-f7f111674470",
   "metadata": {},
   "outputs": [],
   "source": [
    "query = \"SELECT column_name, datatype, description, unit \" \\\n",
    "        \"FROM tap_schema.columns \" \\\n",
    "        \"WHERE table_name = 'dp02_dc2_catalogs.Object'\"\n",
    "\n",
    "results = service.search(query).to_table()\n",
    "results"
   ]
  },
  {
   "cell_type": "code",
   "execution_count": null,
   "id": "3c0a793b-f6b1-4e39-99a2-1fd5b26fe4ae",
   "metadata": {},
   "outputs": [],
   "source": [
    "search_string = 'Flux'\n",
    "band = 'i_'\n",
    "for cname in results['column_name']:\n",
    "    if (cname.find(search_string) > -1) and (cname.find(band) > -1):\n",
    "        print(cname)"
   ]
  },
  {
   "cell_type": "code",
   "execution_count": null,
   "id": "2f52232f-8e56-4118-8454-66593a552ddc",
   "metadata": {},
   "outputs": [],
   "source": [
    "tab"
   ]
  },
  {
   "cell_type": "code",
   "execution_count": null,
   "id": "20443fe8-caa8-4f32-97a9-e19cc2ff8079",
   "metadata": {},
   "outputs": [],
   "source": [
    "# compare kron mag to cmodel mag\n",
    "\n",
    "#whbright = np.where(tab['i_kronFlux'] > 0.0001e6)[0]\n",
    "whbright = np.where((tab['i_kronFlux'] > 0.01e6) & (tab['i_kronFlux_flag'] == 0))[0]\n",
    "\n",
    "cmodel_mag = -2.50 * np.log10(tab['i_cModelFlux']) + 31.4\n",
    "kron_mag = -2.50 * np.log10(tab['i_kronFlux']) + 31.4\n",
    "\n",
    "plt.scatter(cmodel_mag,kron_mag,\n",
    "            c=tab['i_kronRad'], marker='.', alpha=.5)\n",
    "\n",
    "#plt.scatter(cmodel_mag[whbright],kron_mag[whbright],\n",
    "#            c=tab['i_kronRad'][whbright], marker='.', alpha=.5)\n",
    "plt.axhline(26.4,linestyle='--',label='10-yr 5sig depth')\n",
    "\n",
    "plt.colorbar(label='Kron Radius [pixels]')\n",
    "plt.xlabel('cModel AB Magnitude [i-band]')\n",
    "plt.ylabel('kron AB Magnitude [i-band]')\n",
    "plt.legend()\n",
    "plt.show()"
   ]
  },
  {
   "cell_type": "code",
   "execution_count": null,
   "id": "c80af7f5-a048-4169-b7e7-61fb479b6df8",
   "metadata": {},
   "outputs": [],
   "source": [
    "\n",
    "cmodel_mag = -2.50 * np.log10(tab['i_gaapOptimalFlux']) + 31.4\n",
    "kron_mag = -2.50 * np.log10(tab['i_kronFlux']) + 31.4\n",
    "\n",
    "plt.scatter(cmodel_mag,kron_mag,\n",
    "            c=tab['i_kronRad'], marker='.', alpha=.5, vmin=1, vmax=50)\n",
    "\n",
    "#plt.scatter(cmodel_mag[whbright],kron_mag[whbright],\n",
    "#            c=tab['i_kronRad'][whbright], marker='.', alpha=.5)\n",
    "plt.axhline(26.4,linestyle='--',label='10-yr 5sig depth')\n",
    "\n",
    "plt.colorbar(label='Kron Radius [pixels]')\n",
    "plt.xlabel('GaaP optimal AB Magnitude [i-band]')\n",
    "plt.ylabel('kron AB Magnitude [i-band]')\n",
    "plt.legend()\n",
    "plt.show()"
   ]
  },
  {
   "cell_type": "code",
   "execution_count": null,
   "id": "6553101d-d9fa-45b5-9d68-6242bd9ae28d",
   "metadata": {},
   "outputs": [],
   "source": [
    "\n",
    "cmodel_mag = -2.50 * np.log10(tab['i_gaap1p5Flux']) + 31.4\n",
    "kron_mag = -2.50 * np.log10(tab['i_kronFlux']) + 31.4\n",
    "\n",
    "plt.scatter(cmodel_mag,kron_mag,\n",
    "            c=tab['i_kronRad'], marker='.', alpha=.5, vmin=1, vmax=50)\n",
    "\n",
    "#plt.scatter(cmodel_mag[whbright],kron_mag[whbright],\n",
    "#            c=tab['i_kronRad'][whbright], marker='.', alpha=.5)\n",
    "plt.axhline(26.4,linestyle='--',label='10-yr 5sig depth')\n",
    "\n",
    "plt.colorbar(label='Kron Radius [pixels]')\n",
    "plt.xlabel('GaaP AB Magnitude 1.5 aperture [i-band]')\n",
    "plt.ylabel('kron AB Magnitude [i-band]')\n",
    "plt.legend()\n",
    "plt.show()"
   ]
  },
  {
   "cell_type": "code",
   "execution_count": null,
   "id": "ed161a44-81df-4b9e-9563-e7431e2dce89",
   "metadata": {},
   "outputs": [],
   "source": [
    "\n",
    "whbright = np.where((tab['i_kronFlux'] > 0.01e6) & (tab['i_kronFlux_flag'] == 0))[0]\n",
    "\n",
    "mag = -2.50 * np.log10(tab['i_kronFlux']) + 31.4\n",
    "plt.scatter(mag[whbright],tab['i_ap17Flux'][whbright]/tab['i_ap35Flux'][whbright],\n",
    "            c=tab['i_kronRad'][whbright], marker='o', alpha=.5, vmin=1, vmax=50)\n",
    "plt.colorbar(label='Kron Radius [pixels]')\n",
    "plt.axhline(1,linestyle='--')\n",
    "plt.xlabel('Kron AB Magnitude [i-band]')\n",
    "plt.ylabel('aperture [9 pix] flux / [17 pix] Flux')\n",
    "plt.show()"
   ]
  },
  {
   "cell_type": "code",
   "execution_count": null,
   "id": "f5c9bc62-6bbd-4e5c-8603-519427970caf",
   "metadata": {},
   "outputs": [],
   "source": [
    "plt.scatter(tab['i_kronRad'][whbright],tab['i_ap09Flux'][whbright]/tab['i_ap25Flux'][whbright],\n",
    "            c=mag[whbright], marker='o', alpha=.5)\n",
    "plt.xlabel('Kron Radius [pix]')\n",
    "plt.ylabel('aperture [9 pix] flux / aperture [25 pix] Flux')\n",
    "plt.colorbar(label='Kron Mag [ABmag]')\n",
    "plt.xlim([0,30])\n",
    "plt.show()"
   ]
  },
  {
   "cell_type": "code",
   "execution_count": null,
   "id": "253d0d24-6393-4494-ac2e-a7003a6138fe",
   "metadata": {},
   "outputs": [],
   "source": [
    "\n",
    "\n",
    "mag = -2.50 * np.log10(tab['i_cModelFlux']) + 31.4\n",
    "plt.scatter(mag[whbright],tab['i_ap09Flux'][whbright]/tab['i_ap12Flux'][whbright],\n",
    "            c=tab['i_kronRad'][whbright], marker='o', alpha=.5)\n",
    "plt.colorbar(label='Kron Radius [pixels]')\n",
    "plt.xlabel('AB Magnitude [i-band]')\n",
    "plt.show()"
   ]
  },
  {
   "cell_type": "code",
   "execution_count": null,
   "id": "11263c1d-e9a0-4402-bafd-6595c60faeb6",
   "metadata": {},
   "outputs": [],
   "source": []
  }
 ],
 "metadata": {
  "kernelspec": {
   "display_name": "LSST",
   "language": "python",
   "name": "lsst"
  },
  "language_info": {
   "codemirror_mode": {
    "name": "ipython",
    "version": 3
   },
   "file_extension": ".py",
   "mimetype": "text/x-python",
   "name": "python",
   "nbconvert_exporter": "python",
   "pygments_lexer": "ipython3",
   "version": "3.11.9"
  },
  "toc-autonumbering": false
 },
 "nbformat": 4,
 "nbformat_minor": 5
}
