{
 "cells": [
  {
   "cell_type": "markdown",
   "id": "749b0ddf",
   "metadata": {
    "tags": []
   },
   "source": [
    "# DP0.2 Notebook 16 Galaxy Photometry\n",
    "\n",
    "<img align=\"left\" src = https://project.lsst.org/sites/default/files/Rubin-O-Logo_0.png width=250 style=\"padding: 10px\" alt=\"Rubin Observatory logo, a graphical representation of turning stars into data.\">\n",
    "<br>\n",
    "Contact author(s): <i>Christina Williams</i> <br>\n",
    "Last verified to run: <i>2024-11-18</i> <br>\n",
    "LSST Science Pipelines version: Weekly <i>2024_24</i> <br>\n",
    "Container Size: <i>medium</i> <br>\n",
    "Targeted learning level: <i>beginner</i> <br>"
   ]
  },
  {
   "cell_type": "markdown",
   "id": "2d9cd09b-d5c4-4610-993b-711bdc9bd80e",
   "metadata": {},
   "source": [
    "_In this template, text in italics are examples or instructions that should be: \n",
    "(a) removed if it is not applicable to the notebook; \n",
    "or (b) replaced with text that is appropriate for the notebook. \n",
    "But bold or regular text should appear pretty much as-is in all CET notebooks._\n",
    "\n",
    "_Remember to use the [CST's Guidelines for Tutorial Notebooks](rtn-045.lsst.io)._"
   ]
  },
  {
   "cell_type": "code",
   "execution_count": null,
   "id": "7acc79a4-8530-42d9-96e5-b7acb4397864",
   "metadata": {},
   "outputs": [],
   "source": [
    "%load_ext pycodestyle_magic\n",
    "%flake8_on\n",
    "import logging\n",
    "logging.getLogger(\"flake8\").setLevel(logging.FATAL)"
   ]
  },
  {
   "cell_type": "markdown",
   "id": "482777d8-0a8d-432e-ba53-2da536700407",
   "metadata": {},
   "source": [
    "_The six cells below are considered the extended header of the notebook. The first four will be used, verbatim, to create the table of notebook metadata in the README.md file for the repository._"
   ]
  },
  {
   "cell_type": "markdown",
   "id": "9da1a210-d858-42fe-8591-570965b8be1a",
   "metadata": {},
   "source": [
    "**Description:** _Very brief description of notebook._"
   ]
  },
  {
   "cell_type": "markdown",
   "id": "80a0baf5-51ad-40ec-8991-060a7b27c289",
   "metadata": {},
   "source": [
    "**Skills:** _Brief list of skills to match the README.md file for the repository._"
   ]
  },
  {
   "cell_type": "markdown",
   "id": "393da88f-7978-4920-aa4a-a9830df6eed9",
   "metadata": {},
   "source": [
    "**LSST Data Products:** _List the all of the types of LSST catalogs and images used._"
   ]
  },
  {
   "cell_type": "markdown",
   "id": "5c67fab9-136a-4adc-bb42-142b91ab69dd",
   "metadata": {},
   "source": [
    "**Packages:** _List the python packages used._ (_List the packages being taught first, e.g., afwDisplay for a notebook about displaying images. Then supporting packages, e.g., lsst.daf.butler for a notebook about displaying images. It is OK to leave out basic support packages like os or glob.)_"
   ]
  },
  {
   "cell_type": "markdown",
   "id": "8f72b27f",
   "metadata": {},
   "source": [
    "**Credit:**\n",
    "_E.g., \"Originally developed by\" or \"Based on notebooks developed by\" and then people's names, including journal article or software release citations if appropriate._\n",
    "Please consider acknowledging them if this notebook is used for the preparation of journal articles, software releases, or other notebooks."
   ]
  },
  {
   "cell_type": "markdown",
   "id": "28e91cbf-ab7f-4e26-9276-b00299d6065e",
   "metadata": {},
   "source": [
    "**Get Support:**\n",
    "Find DP0-related documentation and resources at <a href=\"https://dp0.lsst.io\">dp0.lsst.io</a>.\n",
    "Questions are welcome as new topics in the \n",
    "<a href=\"https://community.lsst.org/c/support/dp0\">Support - Data Preview 0 Category</a> \n",
    "of the Rubin Community Forum. \n",
    "Rubin staff will respond to all questions posted there."
   ]
  },
  {
   "cell_type": "markdown",
   "id": "cfc73be0",
   "metadata": {},
   "source": [
    "## 1. Introduction\n",
    "\n",
    "_Provide a light narrative about this notebook, e.g., \"This notebook will teach the user...\"._\n",
    "\n",
    "_Cite or link to any external information or documentation, and cross-reference to other notebooks._\n",
    "\n",
    "> **Notice:** *use indented text preceded with* **Notice** *or* **Warning** *to attract attention to particular information.*\n",
    "\n",
    "_Embedded images or generated figures should be captioned in a markdown cell, like this._"
   ]
  },
  {
   "cell_type": "markdown",
   "id": "1cb7977c-8faa-4c34-8296-7ba014056a97",
   "metadata": {},
   "source": [
    "<img align=\"center\" src='example.png' width=350 alt=\"A plot of value 2 versus value 1 for case A and case B, showing the cases are different power laws.\"><br>"
   ]
  },
  {
   "cell_type": "markdown",
   "id": "69ec20dd-47fc-43f1-9cd7-c265e493b31f",
   "metadata": {},
   "source": [
    "> **Figure 1:** Value 2 as a function of Value 1 for Case A as black open circles and Case B as grey open triangles, showing that in Case B the power law has a higher exponent."
   ]
  },
  {
   "cell_type": "markdown",
   "id": "dc36f107",
   "metadata": {},
   "source": [
    "### 1.1 Import packages\n",
    "\n",
    "_All package imports should be done in the first code cell._\n",
    "\n",
    "_Do not import packages unless they are used._\n",
    "\n",
    "_Provide explanation or external links to package documentation, where appropriate._\n",
    "\n",
    "_Describe the packages being imported, as is done below for commonly-imported packages._"
   ]
  },
  {
   "cell_type": "markdown",
   "id": "ccb4fe61-835a-47ac-a691-e086ce766e79",
   "metadata": {},
   "source": [
    "`numpy` is a fundamental package for scientific computing with arrays in Python\n",
    "(<a href=\"https://numpy.org\">numpy.org</a>).\n",
    "\n",
    "`matplotlib` is a comprehensive library for creating static, animated, and\n",
    "interactive visualizations in Python \n",
    "(<a href=\"https://matplotlib.org/\">matplotlib.org</a>; \n",
    "<a href=\"https://matplotlib.org/stable/gallery/index.html\">matplotlib gallery</a>).\n",
    "\n",
    "From the `lsst` package, modules for accessing the TAP service, the butler, and image display functions are imported (<a href=\"https://pipelines.lsst.io/\">pipelines.lsst.io</a>)."
   ]
  },
  {
   "cell_type": "code",
   "execution_count": null,
   "id": "cddc1458",
   "metadata": {},
   "outputs": [],
   "source": [
    "import numpy as np\n",
    "import matplotlib.pyplot as plt\n",
    "from lsst.rsp import get_tap_service, retrieve_query\n",
    "import lsst.daf.butler as dafButler\n",
    "import lsst.afw.display as afwDisplay"
   ]
  },
  {
   "cell_type": "markdown",
   "id": "c217adff-25ed-4fce-95e7-8aa04630f6cc",
   "metadata": {},
   "source": [
    "### 1.2 Define functions and parameters\n",
    "\n",
    "_If your notebook defines functions or parameters to use later or throughout, do it here in sub-section 1.2._\n",
    "\n",
    "_It is OK to rename the subsection to be more specific to the notebook, and/or to use sub-sub-sections like \"1.2.1 Define global cosmological parameter values\" or \"1.2.2 Define a function to make an image cutout\"._\n",
    "\n",
    "_It is OK to remove this sub-section if it is not being used._"
   ]
  },
  {
   "cell_type": "code",
   "execution_count": null,
   "id": "0d2ecffa-a837-4d10-be95-616c95fda15f",
   "metadata": {},
   "outputs": [],
   "source": [
    "plt.style.use('tableau-colorblind10')"
   ]
  },
  {
   "cell_type": "markdown",
   "id": "ec51ac0b",
   "metadata": {
    "tags": []
   },
   "source": [
    "## 2. Section heading\n",
    "\n",
    "_Use numbers for sections, sub-sections, and sub-sub-sections to enable referencing, e.g., \"I'm having trouble with the second code cell in Section 2.3.\"_\n",
    "\n",
    "_Use section titles that actively describe what is being done, e.g., \"Create a color-magnitude diagram\" instead of \"Plot\", so that the auto-generated table of contents is easy to navigate._\n",
    "\n",
    "### 2.1 Section sub-heading\n",
    "\n",
    "#### 2.1.1 Section sub-sub-heading"
   ]
  },
  {
   "cell_type": "code",
   "execution_count": null,
   "id": "5d02e77b-875a-4638-b345-33e2f31cf772",
   "metadata": {},
   "outputs": [],
   "source": []
  }
 ],
 "metadata": {
  "kernelspec": {
   "display_name": "LSST",
   "language": "python",
   "name": "lsst"
  },
  "language_info": {
   "codemirror_mode": {
    "name": "ipython",
    "version": 3
   },
   "file_extension": ".py",
   "mimetype": "text/x-python",
   "name": "python",
   "nbconvert_exporter": "python",
   "pygments_lexer": "ipython3",
   "version": "3.11.9"
  },
  "toc-autonumbering": false
 },
 "nbformat": 4,
 "nbformat_minor": 5
}
