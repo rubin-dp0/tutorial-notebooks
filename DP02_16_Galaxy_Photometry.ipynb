{
 "cells": [
  {
   "cell_type": "markdown",
   "id": "749b0ddf",
   "metadata": {
    "tags": []
   },
   "source": [
    "# DP0.2 Notebook 16 Galaxy Photometry\n",
    "\n",
    "<img align=\"left\" src = https://project.lsst.org/sites/default/files/Rubin-O-Logo_0.png width=250 style=\"padding: 10px\" alt=\"Rubin Observatory logo, a graphical representation of turning stars into data.\">\n",
    "<br>\n",
    "Contact author(s): <i>Christina Williams</i> <br>\n",
    "Last verified to run: <i>2024-01-10</i> <br>\n",
    "LSST Science Pipelines version: Weekly <i>2024_24</i> <br>\n",
    "Container Size: <i>medium</i> <br>\n",
    "Targeted learning level: <i>beginner</i> <br>"
   ]
  },
  {
   "cell_type": "code",
   "execution_count": 1,
   "id": "7acc79a4-8530-42d9-96e5-b7acb4397864",
   "metadata": {
    "execution": {
     "iopub.execute_input": "2025-01-14T23:31:03.459964Z",
     "iopub.status.busy": "2025-01-14T23:31:03.459809Z",
     "iopub.status.idle": "2025-01-14T23:31:03.462357Z",
     "shell.execute_reply": "2025-01-14T23:31:03.461815Z",
     "shell.execute_reply.started": "2025-01-14T23:31:03.459949Z"
    }
   },
   "outputs": [],
   "source": [
    "#%load_ext pycodestyle_magic\n",
    "#%flake8_on\n",
    "#import logging\n",
    "#logging.getLogger(\"flake8\").setLevel(logging.FATAL)"
   ]
  },
  {
   "cell_type": "markdown",
   "id": "2963cbac-4ecd-4694-bea3-c111f527e51b",
   "metadata": {},
   "source": [
    "**Description:** Explore the available measurements of galaxy photometry produced by the LSST pipelines and their applications."
   ]
  },
  {
   "cell_type": "markdown",
   "id": "80a0baf5-51ad-40ec-8991-060a7b27c289",
   "metadata": {},
   "source": [
    "**Skills:** Basic understanding of photometric measurement methods typically used to characterize galaxies."
   ]
  },
  {
   "cell_type": "markdown",
   "id": "393da88f-7978-4920-aa4a-a9830df6eed9",
   "metadata": {},
   "source": [
    "**LSST Data Products:** objectTable"
   ]
  },
  {
   "cell_type": "markdown",
   "id": "5c67fab9-136a-4adc-bb42-142b91ab69dd",
   "metadata": {},
   "source": [
    "**Packages:** No new LSST packages are introduced here. The notebook will make use of the TAP service from the `lsst.rsp` package."
   ]
  },
  {
   "cell_type": "markdown",
   "id": "8f72b27f",
   "metadata": {},
   "source": [
    "**Credit:**\n",
    "\"This notebook benefitted from earlier exploration of simulated data and notebook development by Melissa Graham and Dan Taranu. _E.g., \"Originally developed by\" or \"Based on notebooks developed by\" and then people's names, including journal article or software release citations if appropriate._\n",
    "Please consider acknowledging them if this notebook is used for the preparation of journal articles, software releases, or other notebooks."
   ]
  },
  {
   "cell_type": "markdown",
   "id": "28e91cbf-ab7f-4e26-9276-b00299d6065e",
   "metadata": {},
   "source": [
    "**Get Support:**\n",
    "Find DP0-related documentation and resources at <a href=\"https://dp0.lsst.io\">dp0.lsst.io</a>.\n",
    "Questions are welcome as new topics in the \n",
    "<a href=\"https://community.lsst.org/c/support/dp0\">Support - Data Preview 0 Category</a> \n",
    "of the Rubin Community Forum. \n",
    "Rubin staff will respond to all questions posted there."
   ]
  },
  {
   "cell_type": "markdown",
   "id": "cfc73be0",
   "metadata": {},
   "source": [
    "## 1. Introduction\n",
    "\n",
    "This notebook will teach the user about the automated photometry measurements that are measured on the deepCoadd images and appear in the Object Catalog as part of the LSST pipelines data products. The focus will be on galaxies (and thus is distinct from the demonstrations in Tutorial Notebook 12a/b about the PSF photometry (CHECK/LINK). \n"
   ]
  },
  {
   "cell_type": "markdown",
   "id": "7eb3ba1f-659f-4cb0-acad-52690f60a485",
   "metadata": {
    "execution": {
     "iopub.execute_input": "2024-12-02T22:37:09.704845Z",
     "iopub.status.busy": "2024-12-02T22:37:09.704072Z",
     "iopub.status.idle": "2024-12-02T22:37:10.367698Z",
     "shell.execute_reply": "2024-12-02T22:37:10.366983Z",
     "shell.execute_reply.started": "2024-12-02T22:37:09.704824Z"
    }
   },
   "source": [
    "### 1.1 Types of photometry measurements that exist in the Object Table\n",
    "\n",
    "Schema for the object catalog for DP0.2: https://dm.lsst.org/sdm_schemas/browser/dp02.html#Object\n",
    "\n",
    "Numerous photometry measurements are produced by the LSST Pipelines. Two types of photometry are there: The first are total fluxes are those that integrate the total light coming from objects, corrected for loss due to the blurring effects of PSF or seeing, including \"Composite Model\" (`cModel`) fluxes and \"Kron Fluxes\". The second category characterize the relative brightness of objects for specific regions of objects (i.e. are not corrected to be total fluxes) but can be useful for measuring accurate light profiles or accurate colors.\n",
    "\n",
    "### 1.1.1 Total fluxes\n",
    "\n",
    "#### Kron fluxes\n",
    "\n",
    "A decent summary of Kron fluxes <a href=\"https://ned.ipac.caltech.edu/level5/March05/Graham/Graham2_6.html\">in the NED documentation</a>.\n",
    "\n",
    "```\n",
    "<f>_kronFlux      : Flux from Kron Flux algorithm. Measured on <f> g-band.\n",
    "<f>_kronFluxErr   : Uncertainty of <f>_kronFlux.\n",
    "<f>_kronFlux_flag : Failure flag for <f>_kronFlux.\n",
    "```\n",
    "\n",
    "The Kron radius, `<f>_kronRad`, is also available.\n",
    "\n",
    "\n",
    "#### Composite Model (CModel) fluxes\n",
    "\n",
    "Similar in nature to those measured for SDSS: \n",
    "https://www.sdss3.org/dr8/algorithms/magnitudes.php#cmodel\n",
    "\n",
    "In short, it is the linear combination of the best fit exponential and de Vaucouleurs profiles.\n",
    "\n",
    "```\n",
    "<f>_cModelFlux    :\tFlux from the final cmodel fit. Forced on <f>-band.\n",
    "<f>_cModelFluxErr : Uncertainty of <f>_cModelFlux\n",
    "<f>_cModel_flag   : Failure flag for <f>_cModelFlux\n",
    "```\n",
    "\n",
    "Fluxes fit to the individual model components.\n",
    "\n",
    "```\n",
    "<f>_bdFluxB    : Flux from the de Vaucouleurs fit. Measured on <f>-band.\n",
    "<f>_bdFluxD    : Flux from the exponential fit. Measured on <f>-band.\n",
    "<f>_bdFluxBErr : Uncertainty of <f>_bdFluxB\n",
    "<f>_bdFluxDErr : Uncertainty of <f>_bdFluxD\n",
    "```\n",
    "\n",
    "The fit sizes are also available (half-light radii, ellipse axes).\n",
    "\n",
    "### 1.1.2 Regional fluxes\n",
    "\n",
    "#### Aperture fluxes\n",
    "This contains the enclosed flux inside a given aperture (these are raw fluxes, meaning, they are not corrected to total fluxes using an aperture correction that accounts for the flux falling outside the aperture using the PSF). Fixed aperture diameter size in pixels.\n",
    "\n",
    "```\n",
    "<f>_ap<pix>Flux     : Flux within <pix>-pixel aperture. Forced on <f>-band.\n",
    "<f>_ap<pix>FluxErr  : Uncertainty of <f>_ap<pix>Flux.\n",
    "<f>_ap<pix>FluxFlag : Failure flag for <f>_ap<pix>Flux.\n",
    "```\n",
    "\n",
    "For DP0.2, the apertures are 3, 6, 9, 12, 17, 25, 35, 50, and 70 pixels.\n",
    "\n",
    "In the column name, apertures are `03`, `06`, `09`, `12`, and so on.\n",
    "\n",
    "#### GaaP fluxes\n",
    "\n",
    "These are the Gaussian-aperture-and-PSF flux from <a href=\"https://ui.adsabs.harvard.edu/abs/2008A%26A...482.1053K/abstract\">Kuijken et al. 2008</a>. The main goal of this method is to measure accurate colors while accounting for the different spatial resolution between filters. This is sometimes done by convolving all images to the largest PSF, but this process is computationally very time consuming for large images. It is not a measure of total flux in a filter. For photometric redshifts, since accurate colors are important, it is the GaaP fluxes that should be used. Several apertures are available (TBD: what is optimal aperture based on?)\n",
    "\n",
    "**Optimal**\n",
    "\n",
    "```\n",
    "<f>_gaapOptimalFlux    : GaaP flux with optimal aperture after multiplying the seeing by 1.15. Forced on <f>-band.\n",
    "<f>_gaapOptimalFluxErr : Uncertainty of <f>_gaapOptimalFlux.\n",
    "```\n",
    "\n",
    "**PSF**\n",
    "\n",
    "```\n",
    "<f>_gaapPsfFlux    : GaaP flux with PSF aperture after multiplying the seeing by 1.15. Forced on <f>-band.\n",
    "<f>_gaapPsfFluxErr : Uncertainty of <f>_gaapPsfFlux.\n",
    "```\n",
    "\n",
    "**Aperture**\n",
    "\n",
    "```\n",
    "<f>_gaap<ap>Flux    : GaaP flux with <ap> aperture after multiplying the seeing by 1.15. Forced on <f>-band.\n",
    "<f>_gaap<ap>FluxErr : Uncertainty of <f>_gaap<ap>Flux.\n",
    "```\n",
    "\n",
    "Where the apertures are 0.5, 0.7, 1.0, 1.5, 2.5, and 3.0.\n",
    "In the column name `<ap>` appears as `0p5`, `0p7`, etc.\n",
    "\n",
    "\n",
    "#### PSF fluxes\n",
    "\n",
    "Fluxes derived using the model point-spread function (PSF) of the image. Since PSF fluxes are designed for unresolved sources (not the majority of galaxies) this notebook will not explore science applications for this type of photometry. Interested users can find more information in the PSF Tutorial notebooks <a href=\"https://dp0-2.lsst.io/_static/nb_html/DP02_12a_PSF_Data_Products.html\">12a</a> and <a href=\"https://dp0-2.lsst.io/_static/nb_html/DP02_12b_PSF_Science_Demo.html\">12b</a>.\n",
    "\n",
    "```\n",
    "<f>_psfFlux      : Flux derived from linear least-squares fit of PSF model. Forced on <f>-band.\n",
    "<f>_psfFluxErr   : Uncertainty of <f>_psfFlux.\n",
    "<f>_psfFlux_flag : Failure flag for <f>_psfFlux.\n",
    "\n",
    "```\n"
   ]
  },
  {
   "cell_type": "markdown",
   "id": "dc36f107",
   "metadata": {},
   "source": [
    "### 1.2 Import packages\n"
   ]
  },
  {
   "cell_type": "markdown",
   "id": "ccb4fe61-835a-47ac-a691-e086ce766e79",
   "metadata": {},
   "source": [
    "`numpy` is a fundamental package for scientific computing with arrays in Python\n",
    "(<a href=\"https://numpy.org\">numpy.org</a>).\n",
    "\n",
    "`matplotlib` is a comprehensive library for creating static, animated, and\n",
    "interactive visualizations in Python \n",
    "(<a href=\"https://matplotlib.org/\">matplotlib.org</a>; \n",
    "<a href=\"https://matplotlib.org/stable/gallery/index.html\">matplotlib gallery</a>).\n",
    "\n",
    "From the `lsst` package, modules for accessing the TAP service, the butler, and image display functions are imported (<a href=\"https://pipelines.lsst.io/\">pipelines.lsst.io</a>)."
   ]
  },
  {
   "cell_type": "code",
   "execution_count": 2,
   "id": "2dbc75bd-a802-4576-8628-4e0088942303",
   "metadata": {
    "execution": {
     "iopub.execute_input": "2025-01-14T23:31:03.462996Z",
     "iopub.status.busy": "2025-01-14T23:31:03.462856Z",
     "iopub.status.idle": "2025-01-14T23:31:07.257542Z",
     "shell.execute_reply": "2025-01-14T23:31:07.257026Z",
     "shell.execute_reply.started": "2025-01-14T23:31:03.462982Z"
    }
   },
   "outputs": [],
   "source": [
    "import matplotlib.pyplot as plt\n",
    "#from astropy.wcs import WCS\n",
    "#from astropy.visualization import make_lupton_rgb\n",
    "from astropy import units as u\n",
    "from astropy.coordinates import SkyCoord\n",
    "import gc\n",
    "import numpy as np\n",
    "import sys\n",
    "\n",
    "#import lsst.afw.display as afwDisplay\n",
    "#from lsst.afw.image import MultibandExposure\n",
    "#from lsst.daf.butler import Butler\n",
    "from lsst.rsp import get_tap_service\n",
    "#import lsst.geom as geom\n",
    "\n",
    "from scipy import stats#.binned_statistic\n",
    "from scipy.stats import sigmaclip\n",
    "\n",
    "\n",
    "# stuff for cutout\n",
    "import time\n",
    "import numpy as np\n",
    "import uuid\n",
    "import os\n",
    "import glob\n",
    "import math\n",
    "import pandas\n",
    "import matplotlib.pyplot as plt\n",
    "from PIL import Image\n",
    "from IPython.display import Image as dimg\n",
    "\n",
    "import lsst.geom as geom\n",
    "import lsst.resources\n",
    "import lsst.afw.display as afwDisplay\n",
    "from lsst.afw.image import Exposure, ExposureF\n",
    "from lsst.pipe.tasks.registerImage import RegisterConfig, RegisterTask\n",
    "from lsst.rsp import get_tap_service\n",
    "from lsst.rsp.utils import get_access_token\n",
    "from lsst.afw.fits import MemFileManager\n",
    "\n",
    "import pyvo\n",
    "from pyvo.dal.adhoc import DatalinkResults, SodaQuery\n",
    "\n",
    "from astropy import units as u\n",
    "from astropy.coordinates import SkyCoord, Angle\n",
    "from astropy.io import fits\n",
    "from astropy.wcs import WCS\n"
   ]
  },
  {
   "cell_type": "markdown",
   "id": "c217adff-25ed-4fce-95e7-8aa04630f6cc",
   "metadata": {},
   "source": [
    "### 1.3 Define functions and parameters\n",
    "\n",
    "_TBD if we can remove this_\n",
    "\n",
    "_It is OK to rename the subsection to be more specific to the notebook, and/or to use sub-sub-sections like \"1.2.1 Define global cosmological parameter values\" or \"1.2.2 Define a function to make an image cutout\"._\n",
    "\n",
    "_It is OK to remove this sub-section if it is not being used._"
   ]
  },
  {
   "cell_type": "code",
   "execution_count": 3,
   "id": "0d2ecffa-a837-4d10-be95-616c95fda15f",
   "metadata": {
    "execution": {
     "iopub.execute_input": "2025-01-14T23:31:07.258678Z",
     "iopub.status.busy": "2025-01-14T23:31:07.258111Z",
     "iopub.status.idle": "2025-01-14T23:31:07.285337Z",
     "shell.execute_reply": "2025-01-14T23:31:07.284744Z",
     "shell.execute_reply.started": "2025-01-14T23:31:07.258659Z"
    }
   },
   "outputs": [],
   "source": [
    "plt.style.use('tableau-colorblind10')\n",
    "#afwDisplay.setDefaultBackend('matplotlib')\n",
    "afwDisplay.setDefaultBackend('matplotlib')\n",
    "\n",
    "params = {'axes.labelsize': 18,\n",
    "          'font.size': 18,\n",
    "          'legend.fontsize': 12,\n",
    "          'xtick.major.width': 2,\n",
    "          'xtick.minor.width': 1,\n",
    "          'xtick.major.size': 10,\n",
    "          'xtick.minor.size': 4,\n",
    "          'xtick.direction': 'in',\n",
    "          'xtick.top': True,\n",
    "          'lines.linewidth': 2,\n",
    "          'axes.linewidth': 2,\n",
    "          'axes.labelweight': 2,\n",
    "          'axes.titleweight': 2,\n",
    "          'ytick.major.width': 2,\n",
    "          'ytick.minor.width': 1,\n",
    "          'ytick.major.size': 10,\n",
    "          'ytick.minor.size': 4,\n",
    "          'ytick.direction': 'in',\n",
    "          'ytick.right': True,\n",
    "          'figure.figsize': [6, 6],\n",
    "          'figure.facecolor': 'White'\n",
    "          }\n",
    "plt.style.use('tableau-colorblind10')\n",
    "\n",
    "plt.rcParams.update(params)"
   ]
  },
  {
   "cell_type": "code",
   "execution_count": 4,
   "id": "2f19f3b6-7357-4848-a2b4-5597aa8c8e15",
   "metadata": {
    "execution": {
     "iopub.execute_input": "2025-01-14T23:31:07.286246Z",
     "iopub.status.busy": "2025-01-14T23:31:07.286076Z",
     "iopub.status.idle": "2025-01-14T23:31:07.289532Z",
     "shell.execute_reply": "2025-01-14T23:31:07.289103Z",
     "shell.execute_reply.started": "2025-01-14T23:31:07.286232Z"
    }
   },
   "outputs": [],
   "source": [
    "def plotImage(exposure: ExposureF):\n",
    "    \"\"\"Plot and image using lsst.awf.image package\n",
    "\n",
    "   Parameters\n",
    "    ----------\n",
    "    exposure : `ExposureF`\n",
    "        the image to plot from file in LSST awf image exposure class format\n",
    "\n",
    "   Returns\n",
    "    -------\n",
    "    image for notebook display\n",
    "    \"\"\"\n",
    "\n",
    "    fig, ax = plt.subplots()\n",
    "    display = afwDisplay.Display(frame=fig)\n",
    "    display.scale('asinh', 'zscale')\n",
    "    display.mtv(exposure.image)\n",
    "    plt.show()"
   ]
  },
  {
   "cell_type": "code",
   "execution_count": 5,
   "id": "da81a645-947e-4ca2-82f7-905de4ef79da",
   "metadata": {
    "execution": {
     "iopub.execute_input": "2025-01-14T23:31:07.290488Z",
     "iopub.status.busy": "2025-01-14T23:31:07.290283Z",
     "iopub.status.idle": "2025-01-14T23:31:07.304911Z",
     "shell.execute_reply": "2025-01-14T23:31:07.304306Z",
     "shell.execute_reply.started": "2025-01-14T23:31:07.290472Z"
    }
   },
   "outputs": [],
   "source": [
    "\n",
    "\n",
    "def make_image_cutout(tap_service, ra, dec, dataId, cutout_size=0.01,\n",
    "                      imtype=None, filename=None):\n",
    "    \"\"\"Wrapper function to generate a cutout using the cutout tool\n",
    "\n",
    "   Parameters\n",
    "    ----------\n",
    "    tap_service : an instance of the TAP service\n",
    "    ra, dec : 'float'\n",
    "        the ra and dec of the cutout center\n",
    "    dataId : 'dict'\n",
    "        the dataId of the image to make a cutout from. The format\n",
    "        must correspond to that provided for parameter 'imtype'\n",
    "    cutout_size : 'float', optional\n",
    "        edge length in degrees of the cutout\n",
    "    imtype : 'string', optional\n",
    "        string containing the type of LSST image to generate\n",
    "        a cutout of (e.g. deepCoadd, calexp). If imtype=None,\n",
    "        the function will assume a deepCoadd.\n",
    "    filename : 'string', optional\n",
    "        filename of the resulting cutout (which has fits format)\n",
    "\n",
    "   Returns\n",
    "    -------\n",
    "    sodaCutout : 'string'\n",
    "        filename of the cutout in fits format (including\n",
    "        full directory path; for now by default it is saved\n",
    "        in /home/dp02_13a_temp/\n",
    "    \"\"\"\n",
    "\n",
    "    spherePoint = geom.SpherePoint(ra*geom.degrees, dec*geom.degrees)\n",
    "\n",
    "    if imtype == 'calexp':\n",
    "\n",
    "        query = \"SELECT access_format, access_url, dataproduct_subtype, \" + \\\n",
    "            \"lsst_visit, lsst_detector, lsst_band, s_ra, s_dec \" + \\\n",
    "            \"FROM ivoa.ObsCore WHERE dataproduct_type = 'image' \" + \\\n",
    "            \"AND obs_collection = 'LSST.DP02' \" + \\\n",
    "            \"AND dataproduct_subtype = 'lsst.calexp' \" + \\\n",
    "            \"AND lsst_visit = \" + str(dataId[\"visit\"]) + \" \" + \\\n",
    "            \"AND lsst_detector = \" + str(dataId[\"detector\"])\n",
    "        results = tap_service.search(query)\n",
    "\n",
    "    else:\n",
    "        # Find the tract and patch that contain this point\n",
    "        tract = dataId[\"tract\"]\n",
    "        patch = dataId[\"patch\"]\n",
    "\n",
    "        # add optional default band if it is not contained in the dataId\n",
    "        band = dataId[\"band\"]\n",
    "\n",
    "        query = \"SELECT access_format, access_url, dataproduct_subtype, \" + \\\n",
    "            \"lsst_patch, lsst_tract, lsst_band, s_ra, s_dec \" + \\\n",
    "            \"FROM ivoa.ObsCore WHERE dataproduct_type = 'image' \" + \\\n",
    "            \"AND obs_collection = 'LSST.DP02' \" + \\\n",
    "            \"AND dataproduct_subtype = 'lsst.deepCoadd_calexp' \" + \\\n",
    "            \"AND lsst_tract = \" + str(tract) + \" \" + \\\n",
    "            \"AND lsst_patch = \" + str(patch) + \" \" + \\\n",
    "            \"AND lsst_band = \" + \"'\" + str(band) + \"' \"\n",
    "        results = tap_service.search(query)\n",
    "\n",
    "    # Get datalink\n",
    "    dataLinkUrl = results[0].getdataurl()\n",
    "    auth_session = service._session\n",
    "    dl = DatalinkResults.from_result_url(dataLinkUrl,\n",
    "                                         session=auth_session)\n",
    "\n",
    "    # from_resource: creates a instance from\n",
    "    # a number of records and a Datalink Resource.\n",
    "    sq = SodaQuery.from_resource(dl,\n",
    "                                 dl.get_adhocservice_by_id(\"cutout-sync\"),\n",
    "                                 session=auth_session)\n",
    "\n",
    "    sq.circle = (spherePoint.getRa().asDegrees() * u.deg,\n",
    "                 spherePoint.getDec().asDegrees() * u.deg,\n",
    "                 cutout_size * u.deg)\n",
    "\n",
    "    if filename:\n",
    "        sodaCutout = os.path.join(os.getenv('HOME'), 'dp02_13a_temp/'+filename)\n",
    "    else:\n",
    "        sodaCutout = os.path.join(os.getenv('HOME'), 'dp02_13a_temp/soda-cutout.fits')\n",
    "\n",
    "    with open(sodaCutout, 'bw') as f:\n",
    "        f.write(sq.execute_stream().read())\n",
    "\n",
    "    return sodaCutout\n"
   ]
  },
  {
   "cell_type": "markdown",
   "id": "ec51ac0b",
   "metadata": {
    "tags": []
   },
   "source": [
    "## 2. Integrated photometry of galaxies using the LSST pipeline\n",
    "\n",
    "This section will explore the total, integrated photometry measurements, and provide some guidance for which are optimal for certain science applications using galaxies. \n"
   ]
  },
  {
   "cell_type": "markdown",
   "id": "45c86ed0-aebe-4d74-af42-619c0f6b0705",
   "metadata": {},
   "source": [
    "### 2.1 Initialize the TAP service"
   ]
  },
  {
   "cell_type": "code",
   "execution_count": 6,
   "id": "4fabe755-cb34-4d50-bbbc-99d8db7980c4",
   "metadata": {
    "execution": {
     "iopub.execute_input": "2025-01-14T23:31:07.305692Z",
     "iopub.status.busy": "2025-01-14T23:31:07.305519Z",
     "iopub.status.idle": "2025-01-14T23:31:07.342647Z",
     "shell.execute_reply": "2025-01-14T23:31:07.342031Z",
     "shell.execute_reply.started": "2025-01-14T23:31:07.305679Z"
    }
   },
   "outputs": [],
   "source": [
    "service = get_tap_service(\"tap\")"
   ]
  },
  {
   "cell_type": "markdown",
   "id": "9547e659-fd0e-432c-af25-968cc9ebea9d",
   "metadata": {},
   "source": [
    "### 2.2 Object table photometry measurements\n",
    "\n",
    "First see what is available in the object catalog by querying the tap_schema columns, and printing all the parameters available related to \"Flux\" measured in the i-band (as an example). The return shows also errors and flags associated with the photometric measurements outlined in section 1.1. "
   ]
  },
  {
   "cell_type": "code",
   "execution_count": 7,
   "id": "999d12f2-b84b-4a80-a7fd-f7f111674470",
   "metadata": {
    "execution": {
     "iopub.execute_input": "2025-01-14T23:31:07.343368Z",
     "iopub.status.busy": "2025-01-14T23:31:07.343215Z",
     "iopub.status.idle": "2025-01-14T23:31:07.440092Z",
     "shell.execute_reply": "2025-01-14T23:31:07.439618Z",
     "shell.execute_reply.started": "2025-01-14T23:31:07.343354Z"
    }
   },
   "outputs": [],
   "source": [
    "query = \"SELECT column_name, datatype, description, unit \" \\\n",
    "        \"FROM tap_schema.columns \" \\\n",
    "        \"WHERE table_name = 'dp02_dc2_catalogs.Object'\"\n",
    "\n",
    "results = service.search(query).to_table()"
   ]
  },
  {
   "cell_type": "code",
   "execution_count": 8,
   "id": "3c0a793b-f6b1-4e39-99a2-1fd5b26fe4ae",
   "metadata": {
    "execution": {
     "iopub.execute_input": "2025-01-14T23:31:07.440810Z",
     "iopub.status.busy": "2025-01-14T23:31:07.440667Z",
     "iopub.status.idle": "2025-01-14T23:31:07.455412Z",
     "shell.execute_reply": "2025-01-14T23:31:07.454968Z",
     "shell.execute_reply.started": "2025-01-14T23:31:07.440796Z"
    }
   },
   "outputs": [
    {
     "name": "stdout",
     "output_type": "stream",
     "text": [
      "i_ap03Flux\n",
      "i_ap03Flux_flag\n",
      "i_ap03FluxErr\n",
      "i_ap06Flux\n",
      "i_ap06Flux_flag\n",
      "i_ap06FluxErr\n",
      "i_ap09Flux\n",
      "i_ap09Flux_flag\n",
      "i_ap09FluxErr\n",
      "i_ap12Flux\n",
      "i_ap12Flux_flag\n",
      "i_ap12FluxErr\n",
      "i_ap17Flux\n",
      "i_ap17Flux_flag\n",
      "i_ap17FluxErr\n",
      "i_ap25Flux\n",
      "i_ap25Flux_flag\n",
      "i_ap25FluxErr\n",
      "i_ap35Flux\n",
      "i_ap35Flux_flag\n",
      "i_ap35FluxErr\n",
      "i_ap50Flux\n",
      "i_ap50Flux_flag\n",
      "i_ap50FluxErr\n",
      "i_ap70Flux\n",
      "i_ap70Flux_flag\n",
      "i_ap70FluxErr\n",
      "i_apFlux_flag\n",
      "i_apFlux_flag_apertureTruncated\n",
      "i_apFlux_flag_sincCoeffsTruncated\n",
      "i_bdFluxB\n",
      "i_bdFluxBErr\n",
      "i_bdFluxD\n",
      "i_bdFluxDErr\n",
      "i_calibFlux\n",
      "i_calibFlux_flag\n",
      "i_calibFlux_flag_apertureTruncated\n",
      "i_calibFlux_flag_sincCoeffsTruncated\n",
      "i_calibFluxErr\n",
      "i_cModelFlux\n",
      "i_cModelFlux_inner\n",
      "i_cModelFluxErr\n",
      "i_free_cModelFlux\n",
      "i_free_cModelFlux_flag\n",
      "i_free_cModelFlux_inner\n",
      "i_free_cModelFluxErr\n",
      "i_free_psfFlux\n",
      "i_free_psfFlux_flag\n",
      "i_free_psfFluxErr\n",
      "i_gaap0p5Flux\n",
      "i_gaap0p5Flux_flag_bigPsf\n",
      "i_gaap0p5FluxErr\n",
      "i_gaap0p7Flux\n",
      "i_gaap0p7Flux_flag_bigPsf\n",
      "i_gaap0p7FluxErr\n",
      "i_gaap1p0Flux\n",
      "i_gaap1p0Flux_flag_bigPsf\n",
      "i_gaap1p0FluxErr\n",
      "i_gaap1p5Flux\n",
      "i_gaap1p5Flux_flag_bigPsf\n",
      "i_gaap1p5FluxErr\n",
      "i_gaap2p5Flux\n",
      "i_gaap2p5Flux_flag_bigPsf\n",
      "i_gaap2p5FluxErr\n",
      "i_gaap3p0Flux\n",
      "i_gaap3p0Flux_flag_bigPsf\n",
      "i_gaap3p0FluxErr\n",
      "i_gaapFlux_flag\n",
      "i_gaapFlux_flag_edge\n",
      "i_gaapFlux_flag_gaussianization\n",
      "i_gaapOptimalFlux\n",
      "i_gaapOptimalFlux_flag_bigPsf\n",
      "i_gaapOptimalFluxErr\n",
      "i_gaapPsfFlux\n",
      "i_gaapPsfFluxErr\n",
      "i_kronFlux\n",
      "i_kronFlux_flag\n",
      "i_kronFlux_flag_bad_radius\n",
      "i_kronFlux_flag_bad_shape\n",
      "i_kronFlux_flag_bad_shape_no_psf\n",
      "i_kronFlux_flag_edge\n",
      "i_kronFlux_flag_no_fallback_radius\n",
      "i_kronFlux_flag_no_minimum_radius\n",
      "i_kronFlux_flag_small_radius\n",
      "i_kronFlux_flag_used_minimum_radius\n",
      "i_kronFlux_flag_used_psf_radius\n",
      "i_kronFluxErr\n",
      "i_psfFlux\n",
      "i_psfFlux_area\n",
      "i_psfFlux_flag\n",
      "i_psfFlux_flag_apCorr\n",
      "i_psfFlux_flag_edge\n",
      "i_psfFlux_flag_noGoodPixels\n",
      "i_psfFluxErr\n"
     ]
    }
   ],
   "source": [
    "search_string = 'Flux'\n",
    "band = 'i_'\n",
    "for cname in results['column_name']:\n",
    "    if (cname.find(search_string) > -1) and (cname.find(band) > -1):\n",
    "        print(cname)"
   ]
  },
  {
   "cell_type": "code",
   "execution_count": 9,
   "id": "0d82dd79-a4d7-4428-a77c-1ed2bb717486",
   "metadata": {
    "execution": {
     "iopub.execute_input": "2025-01-14T23:31:07.456087Z",
     "iopub.status.busy": "2025-01-14T23:31:07.455933Z",
     "iopub.status.idle": "2025-01-14T23:31:07.463717Z",
     "shell.execute_reply": "2025-01-14T23:31:07.463109Z",
     "shell.execute_reply.started": "2025-01-14T23:31:07.456074Z"
    }
   },
   "outputs": [],
   "source": [
    "query = \"SELECT obj.coord_ra, obj.coord_dec, obj.detect_fromBlend, obj.detect_isIsolated, obj.i_blendedness_flag, obj.i_blendedness, obj.i_extendedness, \"\\\n",
    "        \"obj.i_kronFlux, obj.i_kronFluxErr, obj.i_kronRad, obj.i_kronFlux_flag, obj.i_cModelFlux, obj.i_gaapOptimalFlux \" + \\\n",
    "        \"FROM dp02_dc2_catalogs.Object AS obj  \"\\\n",
    "        \"WHERE (obj.detect_isPrimary = 1) AND (obj.i_kronFlux/obj.i_kronFluxErr > 10) AND (obj.i_extendedness = 1) AND \"\\\n",
    "        \"CONTAINS(POINT('ICRS', obj.coord_ra, obj.coord_dec), CIRCLE('ICRS', 62.0, -37.0, 0.20)) = 1 \"\n"
   ]
  },
  {
   "cell_type": "code",
   "execution_count": 10,
   "id": "e75ee4db-e4b9-4ff2-ba07-1f7f34a8d44b",
   "metadata": {
    "execution": {
     "iopub.execute_input": "2025-01-14T23:31:07.464404Z",
     "iopub.status.busy": "2025-01-14T23:31:07.464251Z",
     "iopub.status.idle": "2025-01-14T23:31:10.635052Z",
     "shell.execute_reply": "2025-01-14T23:31:10.634605Z",
     "shell.execute_reply.started": "2025-01-14T23:31:07.464391Z"
    }
   },
   "outputs": [
    {
     "name": "stdout",
     "output_type": "stream",
     "text": [
      "Job phase is COMPLETED\n"
     ]
    }
   ],
   "source": [
    "job = service.submit_job(query)\n",
    "job.run()\n",
    "job.wait(phases=['COMPLETED', 'ERROR'])\n",
    "print('Job phase is', job.phase)"
   ]
  },
  {
   "cell_type": "markdown",
   "id": "6d90ce60-2dc7-432d-bf12-1679cd43c3f3",
   "metadata": {},
   "source": [
    "Print the results of the search query."
   ]
  },
  {
   "cell_type": "code",
   "execution_count": 11,
   "id": "02ea5eb7-bac9-4c9f-90e4-626a69340b41",
   "metadata": {
    "execution": {
     "iopub.execute_input": "2025-01-14T23:31:10.635848Z",
     "iopub.status.busy": "2025-01-14T23:31:10.635680Z",
     "iopub.status.idle": "2025-01-14T23:31:11.095550Z",
     "shell.execute_reply": "2025-01-14T23:31:11.095061Z",
     "shell.execute_reply.started": "2025-01-14T23:31:10.635834Z"
    }
   },
   "outputs": [
    {
     "name": "stdout",
     "output_type": "stream",
     "text": [
      "13699\n"
     ]
    },
    {
     "data": {
      "text/html": [
       "<div><i>Table length=13699</i>\n",
       "<table id=\"table134598543082512\" class=\"table-striped table-bordered table-condensed\">\n",
       "<thead><tr><th>coord_ra</th><th>coord_dec</th><th>detect_fromBlend</th><th>detect_isIsolated</th><th>i_blendedness_flag</th><th>i_blendedness</th><th>i_extendedness</th><th>i_kronFlux</th><th>i_kronFluxErr</th><th>i_kronRad</th><th>i_kronFlux_flag</th><th>i_cModelFlux</th><th>i_gaapOptimalFlux</th></tr></thead>\n",
       "<thead><tr><th>deg</th><th>deg</th><th></th><th></th><th></th><th></th><th></th><th>nJy</th><th>nJy</th><th></th><th></th><th>nJy</th><th>nJy</th></tr></thead>\n",
       "<thead><tr><th>float64</th><th>float64</th><th>bool</th><th>bool</th><th>bool</th><th>float64</th><th>float64</th><th>float64</th><th>float64</th><th>float32</th><th>bool</th><th>float64</th><th>float64</th></tr></thead>\n",
       "<tr><td>61.7706493</td><td>-36.9697356</td><td>True</td><td>False</td><td>False</td><td>-0.007827</td><td>1.0</td><td>739.8429047</td><td>59.4996204</td><td>3.79338</td><td>False</td><td>673.0858612</td><td>553.2206068</td></tr>\n",
       "<tr><td>61.7549646</td><td>-36.9680703</td><td>True</td><td>False</td><td>False</td><td>0.0991178</td><td>1.0</td><td>619.0834886</td><td>55.5849972</td><td>3.49558</td><td>False</td><td>619.6897725</td><td>473.4394404</td></tr>\n",
       "<tr><td>61.7657586</td><td>-36.9495165</td><td>True</td><td>False</td><td>False</td><td>-0.016065</td><td>1.0</td><td>1966.7031092</td><td>55.1067734</td><td>3.45856</td><td>False</td><td>1813.335798</td><td>1560.6365686</td></tr>\n",
       "<tr><td>61.7667836</td><td>-36.9492381</td><td>True</td><td>False</td><td>False</td><td>0.0050871</td><td>1.0</td><td>1353.4824791</td><td>53.8404146</td><td>3.38249</td><td>False</td><td>1353.7914025</td><td>1088.3605684</td></tr>\n",
       "<tr><td>61.7701176</td><td>-36.9304069</td><td>True</td><td>False</td><td>False</td><td>0.0354649</td><td>1.0</td><td>522.2245085</td><td>48.759376</td><td>3.07855</td><td>False</td><td>540.6289795</td><td>427.367894</td></tr>\n",
       "<tr><td>61.7695731</td><td>-36.9300678</td><td>True</td><td>False</td><td>False</td><td>-0.0034611</td><td>1.0</td><td>717.8192689</td><td>48.8100869</td><td>3.08925</td><td>False</td><td>711.583578</td><td>616.9401011</td></tr>\n",
       "<tr><td>61.7640363</td><td>-36.9488123</td><td>True</td><td>False</td><td>False</td><td>-0.0031328</td><td>1.0</td><td>3530.9923422</td><td>60.9319949</td><td>3.82088</td><td>False</td><td>3444.861802</td><td>2568.7314356</td></tr>\n",
       "<tr><td>61.7633748</td><td>-36.9475632</td><td>True</td><td>False</td><td>False</td><td>0.0798863</td><td>1.0</td><td>767.3396102</td><td>58.7878928</td><td>3.72145</td><td>False</td><td>767.5660595</td><td>583.1319233</td></tr>\n",
       "<tr><td>61.769842</td><td>-36.9507726</td><td>True</td><td>False</td><td>False</td><td>-0.0285192</td><td>1.0</td><td>1393.0031465</td><td>52.4085023</td><td>3.33254</td><td>False</td><td>1317.2676753</td><td>1160.0142166</td></tr>\n",
       "<tr><td>...</td><td>...</td><td>...</td><td>...</td><td>...</td><td>...</td><td>...</td><td>...</td><td>...</td><td>...</td><td>...</td><td>...</td><td>...</td></tr>\n",
       "<tr><td>62.2340701</td><td>-37.0589707</td><td>True</td><td>False</td><td>False</td><td>0.017393</td><td>1.0</td><td>5475.2581198</td><td>106.5125488</td><td>6.51392</td><td>False</td><td>7968.7930086</td><td>2812.270571</td></tr>\n",
       "<tr><td>62.238679</td><td>-37.0598473</td><td>True</td><td>False</td><td>False</td><td>0.002246</td><td>1.0</td><td>656.6051349</td><td>53.4197209</td><td>3.30962</td><td>False</td><td>646.5235391</td><td>512.0469676</td></tr>\n",
       "<tr><td>62.2379366</td><td>-37.0608993</td><td>True</td><td>False</td><td>False</td><td>0.0243649</td><td>1.0</td><td>3448.5360492</td><td>60.0880805</td><td>3.71268</td><td>False</td><td>3390.7405566</td><td>2514.2672709</td></tr>\n",
       "<tr><td>62.2347859</td><td>-37.0630304</td><td>True</td><td>False</td><td>False</td><td>-0.0123865</td><td>1.0</td><td>2758.118914</td><td>43.642257</td><td>2.69446</td><td>False</td><td>2795.1106328</td><td>2595.641324</td></tr>\n",
       "<tr><td>62.2320894</td><td>-37.0631907</td><td>True</td><td>False</td><td>False</td><td>-0.0024702</td><td>1.0</td><td>3348.8860869</td><td>74.5423706</td><td>4.53893</td><td>False</td><td>3404.9391468</td><td>2013.9016243</td></tr>\n",
       "<tr><td>62.2374752</td><td>-37.063016</td><td>True</td><td>False</td><td>False</td><td>-0.0445366</td><td>1.0</td><td>1474.240171</td><td>42.3870591</td><td>2.62527</td><td>False</td><td>1484.0448861</td><td>1422.4822653</td></tr>\n",
       "<tr><td>62.2346703</td><td>-37.0661891</td><td>True</td><td>False</td><td>False</td><td>0.061405</td><td>1.0</td><td>777.2332956</td><td>65.4523749</td><td>4.02862</td><td>False</td><td>777.261764</td><td>537.0907481</td></tr>\n",
       "<tr><td>62.2339994</td><td>-37.0649774</td><td>True</td><td>False</td><td>False</td><td>-0.0043305</td><td>1.0</td><td>2170.4946541</td><td>47.0723022</td><td>2.8639</td><td>False</td><td>2130.9356269</td><td>1949.1903224</td></tr>\n",
       "<tr><td>62.23306</td><td>-37.0618854</td><td>True</td><td>False</td><td>False</td><td>-0.003919</td><td>1.0</td><td>1128.0548814</td><td>71.7575598</td><td>4.39139</td><td>False</td><td>1162.450445</td><td>765.2318206</td></tr>\n",
       "</table></div>"
      ],
      "text/plain": [
       "<Table length=13699>\n",
       " coord_ra   coord_dec  detect_fromBlend ... i_cModelFlux i_gaapOptimalFlux\n",
       "   deg         deg                      ...     nJy             nJy       \n",
       " float64     float64         bool       ...   float64         float64     \n",
       "---------- ----------- ---------------- ... ------------ -----------------\n",
       "61.7706493 -36.9697356             True ...  673.0858612       553.2206068\n",
       "61.7549646 -36.9680703             True ...  619.6897725       473.4394404\n",
       "61.7657586 -36.9495165             True ...  1813.335798      1560.6365686\n",
       "61.7667836 -36.9492381             True ... 1353.7914025      1088.3605684\n",
       "61.7701176 -36.9304069             True ...  540.6289795        427.367894\n",
       "61.7695731 -36.9300678             True ...   711.583578       616.9401011\n",
       "61.7640363 -36.9488123             True ...  3444.861802      2568.7314356\n",
       "61.7633748 -36.9475632             True ...  767.5660595       583.1319233\n",
       " 61.769842 -36.9507726             True ... 1317.2676753      1160.0142166\n",
       "       ...         ...              ... ...          ...               ...\n",
       "62.2340701 -37.0589707             True ... 7968.7930086       2812.270571\n",
       " 62.238679 -37.0598473             True ...  646.5235391       512.0469676\n",
       "62.2379366 -37.0608993             True ... 3390.7405566      2514.2672709\n",
       "62.2347859 -37.0630304             True ... 2795.1106328       2595.641324\n",
       "62.2320894 -37.0631907             True ... 3404.9391468      2013.9016243\n",
       "62.2374752  -37.063016             True ... 1484.0448861      1422.4822653\n",
       "62.2346703 -37.0661891             True ...   777.261764       537.0907481\n",
       "62.2339994 -37.0649774             True ... 2130.9356269      1949.1903224\n",
       "  62.23306 -37.0618854             True ...  1162.450445       765.2318206"
      ]
     },
     "execution_count": 11,
     "metadata": {},
     "output_type": "execute_result"
    }
   ],
   "source": [
    "results = job.fetch_result()\n",
    "print(len(results))\n",
    "tab = results.to_table()\n",
    "tab"
   ]
  },
  {
   "cell_type": "markdown",
   "id": "e6a27a39-ed2b-49fe-ac6d-51ae4c300bfc",
   "metadata": {},
   "source": [
    "### 2.4 Exploring the input vs output photometry\n",
    "\n",
    "This section will explore 3 photometric measurements that are relevant for galaxies: cModel, Kron and GaaP (as defined in Section 2.1). \n",
    "\n",
    "First, store the AB magnitudes to go with the fluxes extracted from the objectTable."
   ]
  },
  {
   "cell_type": "code",
   "execution_count": 12,
   "id": "e8b4a64a-6565-4d7d-ae48-0a666c41101e",
   "metadata": {
    "execution": {
     "iopub.execute_input": "2025-01-14T23:31:11.096168Z",
     "iopub.status.busy": "2025-01-14T23:31:11.096021Z",
     "iopub.status.idle": "2025-01-14T23:31:11.101889Z",
     "shell.execute_reply": "2025-01-14T23:31:11.101264Z",
     "shell.execute_reply.started": "2025-01-14T23:31:11.096155Z"
    }
   },
   "outputs": [
    {
     "name": "stderr",
     "output_type": "stream",
     "text": [
      "/tmp/ipykernel_75576/1658089687.py:3: RuntimeWarning: divide by zero encountered in log10\n",
      "  cmodel_mag = -2.50 * np.log10(tab['i_cModelFlux']) + 31.4\n"
     ]
    }
   ],
   "source": [
    "#truth_mag =  -2.50 * np.log10(tab['flux_i']) + 31.4\n",
    "\n",
    "cmodel_mag = -2.50 * np.log10(tab['i_cModelFlux']) + 31.4\n",
    "kron_mag = -2.50 * np.log10(tab['i_kronFlux']) + 31.4\n",
    "gaap_mag = -2.50 * np.log10(tab['i_gaapOptimalFlux']) + 31.4\n"
   ]
  },
  {
   "cell_type": "code",
   "execution_count": 13,
   "id": "432db690-be7e-43bf-a640-a80af727652b",
   "metadata": {
    "execution": {
     "iopub.execute_input": "2025-01-14T23:31:11.102641Z",
     "iopub.status.busy": "2025-01-14T23:31:11.102485Z",
     "iopub.status.idle": "2025-01-14T23:31:11.113679Z",
     "shell.execute_reply": "2025-01-14T23:31:11.112314Z",
     "shell.execute_reply.started": "2025-01-14T23:31:11.102627Z"
    }
   },
   "outputs": [
    {
     "ename": "SystemExit",
     "evalue": "",
     "output_type": "error",
     "traceback": [
      "An exception has occurred, use %tb to see the full traceback.\n",
      "\u001b[0;31mSystemExit\u001b[0m\n"
     ]
    },
    {
     "name": "stderr",
     "output_type": "stream",
     "text": [
      "/opt/lsst/software/stack/conda/envs/lsst-scipipe-9.0.0/lib/python3.11/site-packages/IPython/core/interactiveshell.py:3585: UserWarning: To exit: use 'exit', 'quit', or Ctrl-D.\n",
      "  warn(\"To exit: use 'exit', 'quit', or Ctrl-D.\", stacklevel=1)\n"
     ]
    }
   ],
   "source": [
    "sys.exit()"
   ]
  },
  {
   "cell_type": "markdown",
   "id": "52267cd8-1041-4e09-bda1-248468b21971",
   "metadata": {},
   "source": [
    " OLD STUFF BELOW: (see notes from Melissa 1/14 at the end for the plan)"
   ]
  },
  {
   "cell_type": "markdown",
   "id": "ff2fc2b3-fb3b-4d92-a325-ace4dfa059dc",
   "metadata": {},
   "source": [
    "### 2.3 Compare (total) simulated photometry measured with the LSST pipelines to their input values\n",
    "\n",
    "The following cells will query the truth tables to get the input fluxes in the DP0.2 simulated objects, matched to those measured from the simulated images using the LSST pipelines. This comparison provides a sense of how good the various photometry measurement methods are by comparing input flux to measured flux. This provides some insight into what regimes they may perform well vs poorly.\n",
    "\n",
    "The below cells query the truth values for i-band mag, measured i-band mag values from the catalog, and a number of flags that are relevant to the quality of the galaxy photometric measurements. Specifically, request `fromBlend`, `detect_isIsolated`, and `i_blendedness` which will indicate how much blending may have occurred, how large the galaxies are, to help provide insight in cases of catastrophic outliers.\n",
    "\n",
    "Further, to ensure good measurements, restrict to objects which are detected at S/N > 5 and where `detect_isPrimary` is true, to ensure unique objects are returned (for more information on the use of the `detect_isPrimary` flag, see <a href=\"https://dp0-2.lsst.io/_static/nb_html/DP02_10_Deblender_Data_Products.html\">Tutorial Notebook 10</a> about deblender data products. Also, set the condition that `i_extendedness` = 1 in order to return a population of galaxies (i.e. remove stars as point sources). To expedite the search we will limit to a 0.1 degree region on the sky."
   ]
  },
  {
   "cell_type": "code",
   "execution_count": null,
   "id": "0d28a6ad-4436-410c-9b9d-e995140be304",
   "metadata": {
    "execution": {
     "iopub.status.busy": "2025-01-14T23:31:11.114149Z",
     "iopub.status.idle": "2025-01-14T23:31:11.114353Z",
     "shell.execute_reply": "2025-01-14T23:31:11.114260Z",
     "shell.execute_reply.started": "2025-01-14T23:31:11.114252Z"
    }
   },
   "outputs": [],
   "source": [
    "query = \"SELECT mt.id_truth_type, mt.match_objectId, ts.ra, ts.dec, ts.truth_type, ts.flux_i, ts.redshift, \"\\\n",
    "        \"obj.coord_ra, obj.coord_dec, obj.detect_fromBlend, obj.detect_isIsolated, obj.i_blendedness_flag, obj.i_blendedness, obj.i_extendedness, \"\\\n",
    "        \"obj.i_kronFlux, obj.i_kronFluxErr, obj.i_kronRad, obj.i_kronFlux_flag, obj.i_cModelFlux, obj.i_gaapOptimalFlux \" + \\\n",
    "        \"FROM dp02_dc2_catalogs.MatchesTruth AS mt \"\\\n",
    "        \"JOIN dp02_dc2_catalogs.TruthSummary AS ts ON mt.id_truth_type = ts.id_truth_type \"\\\n",
    "        \"JOIN dp02_dc2_catalogs.Object AS obj ON mt.match_objectId = obj.objectId \"\\\n",
    "        \"WHERE (obj.detect_isPrimary = 1) AND (obj.i_kronFlux/obj.i_kronFluxErr > 10) AND (obj.i_extendedness = 1) AND \"\\\n",
    "        \"CONTAINS(POINT('ICRS', obj.coord_ra, obj.coord_dec), CIRCLE('ICRS', 62.0, -37.0, 0.20)) = 1 \""
   ]
  },
  {
   "cell_type": "code",
   "execution_count": null,
   "id": "1b10f993-c750-49a3-82c0-1c5a5112884a",
   "metadata": {
    "execution": {
     "iopub.status.busy": "2025-01-14T23:31:11.115193Z",
     "iopub.status.idle": "2025-01-14T23:31:11.115394Z",
     "shell.execute_reply": "2025-01-14T23:31:11.115315Z",
     "shell.execute_reply.started": "2025-01-14T23:31:11.115305Z"
    }
   },
   "outputs": [],
   "source": [
    "job = service.submit_job(query)\n",
    "job.run()\n",
    "job.wait(phases=['COMPLETED', 'ERROR'])\n",
    "print('Job phase is', job.phase)"
   ]
  },
  {
   "cell_type": "markdown",
   "id": "80ebe401-5124-40f1-8806-fa86850c75f4",
   "metadata": {},
   "source": [
    "Print the results of the search query."
   ]
  },
  {
   "cell_type": "code",
   "execution_count": null,
   "id": "6b0938c2-0724-459c-b560-56e0b4f2a330",
   "metadata": {
    "execution": {
     "iopub.status.busy": "2025-01-14T23:31:11.116082Z",
     "iopub.status.idle": "2025-01-14T23:31:11.116253Z",
     "shell.execute_reply": "2025-01-14T23:31:11.116181Z",
     "shell.execute_reply.started": "2025-01-14T23:31:11.116174Z"
    }
   },
   "outputs": [],
   "source": [
    "results = job.fetch_result()\n",
    "print(len(results))\n",
    "tab = results.to_table()\n",
    "tab"
   ]
  },
  {
   "cell_type": "markdown",
   "id": "1d22c355-0953-46e7-8e40-6614f088c607",
   "metadata": {},
   "source": [
    "### 2.4 Exploring the input vs output photometry\n",
    "\n",
    "This section will explore 3 photometric measurements that are relevant for galaxies: cModel, Kron and GaaP (as defined in Section 2.1). \n",
    "\n",
    "First, store the AB magnitudes to go with the fluxes extracted from the objectTable."
   ]
  },
  {
   "cell_type": "code",
   "execution_count": null,
   "id": "7a8000f6-a914-4073-8130-67d912f52b09",
   "metadata": {
    "execution": {
     "iopub.status.busy": "2025-01-14T23:31:11.117122Z",
     "iopub.status.idle": "2025-01-14T23:31:11.117313Z",
     "shell.execute_reply": "2025-01-14T23:31:11.117228Z",
     "shell.execute_reply.started": "2025-01-14T23:31:11.117220Z"
    }
   },
   "outputs": [],
   "source": [
    "truth_mag =  -2.50 * np.log10(tab['flux_i']) + 31.4\n",
    "\n",
    "cmodel_mag = -2.50 * np.log10(tab['i_cModelFlux']) + 31.4\n",
    "kron_mag = -2.50 * np.log10(tab['i_kronFlux']) + 31.4\n",
    "gaap_mag = -2.50 * np.log10(tab['i_gaapOptimalFlux']) + 31.4\n"
   ]
  },
  {
   "cell_type": "markdown",
   "id": "4f28e9cf-fd39-4281-8c56-e4f1040475df",
   "metadata": {},
   "source": [
    "The next cell will compare the percent difference between the three different photometric measurements with the input (truth). Additionally a running median is calculated to help interpret the typical accuracy of the different methods. The median has the best overall percent accuracy for cModel, which is has < 3.5% median deviation for all magnitudes < 24 ABmag. Additionally, the Gaussian and PSF photometry is highly inaccurate, as explained in Section 1.1 this is not meant to measure the total flux of galaxies, but rather to measure accurate colors using a sub-region of each galaxy. Deviation from truth for this measurement is thus expected."
   ]
  },
  {
   "cell_type": "code",
   "execution_count": null,
   "id": "14124486-2f17-4fc2-8b17-ff62e91028e3",
   "metadata": {
    "execution": {
     "iopub.status.busy": "2025-01-14T23:31:11.117937Z",
     "iopub.status.idle": "2025-01-14T23:31:11.118103Z",
     "shell.execute_reply": "2025-01-14T23:31:11.118029Z",
     "shell.execute_reply.started": "2025-01-14T23:31:11.118023Z"
    }
   },
   "outputs": [],
   "source": [
    "fig, ax = plt.subplots()\n",
    "\n",
    "ax.plot(truth_mag, (tab['i_cModelFlux']-tab['flux_i'])/tab['flux_i'] * 100,'.',alpha=.1,label='cModel',color='r')\n",
    "ax.plot(truth_mag, (tab['i_kronFlux']-tab['flux_i'])/tab['flux_i'] * 100,'.',alpha=.1,label='Kron',color='blue')\n",
    "ax.plot(truth_mag, (tab['i_gaapOptimalFlux']-tab['flux_i'])/tab['flux_i'] * 100,'.',alpha=.1, label='gaapOptimal',color='green')\n",
    "\n",
    "x = truth_mag\n",
    "y = (tab['i_cModelFlux']-tab['flux_i'])/tab['flux_i'] *100\n",
    "bins=np.arange(16,27,1)\n",
    "bin_means, bin_edges, binnumber = stats.binned_statistic(x,\n",
    "             y, statistic='median', bins=bins)\n",
    "binctr = bin_edges[:-1] + (bin_edges[1:]-bin_edges[:-1])/2\n",
    "plt.plot(binctr, bin_means, color='red', lw=2, label='cModel bin median',zorder=10)\n",
    "for i in range(len(bin_means)):\n",
    "    print(binctr[i],bin_means[i],'cModel')\n",
    "\n",
    "y = (tab['i_kronFlux']-tab['flux_i'])/tab['flux_i'] *100\n",
    "bin_means, bin_edges, binnumber = stats.binned_statistic(x,\n",
    "             y, statistic='median', bins=bins)\n",
    "binctr = bin_edges[:-1] + (bin_edges[1:]-bin_edges[:-1])/2\n",
    "plt.plot(binctr, bin_means, color='blue', lw=2, label='kron bin median',zorder=10)\n",
    "for i in range(len(bin_means)):\n",
    "    print(binctr[i],bin_means[i],'kron')\n",
    "\n",
    "y = (tab['i_gaapOptimalFlux']-tab['flux_i'])/tab['flux_i'] * 100\n",
    "bin_means, bin_edges, binnumber = stats.binned_statistic(x,\n",
    "             y, statistic='median', bins=bins)\n",
    "binctr = bin_edges[:-1] + (bin_edges[1:]-bin_edges[:-1])/2\n",
    "plt.plot(binctr, bin_means, color='green', lw=2, label='GaaP Optimal bin median',zorder=10)#,color='green')\n",
    "\n",
    "ax.axhline(0,linestyle='--')\n",
    "ax.set_xlabel('True i-band Magnitude')\n",
    "ax.set_ylabel('Flux Percent Accuracy (F$_{obs}$ - F$_{true}$) / F$_{true}$ x 100%')\n",
    "ax.set_ylim([-100,100])\n",
    "ax.set_xlim([14,27])\n",
    "plt.legend()\n"
   ]
  },
  {
   "cell_type": "markdown",
   "id": "0d55a187-ccc9-4975-9868-a716e1106559",
   "metadata": {},
   "source": [
    "Below, take a closer look at the differences in AB magnitude and how the overall distributions compare. While the systematic offset of GaaP is clear, the medians of Kron and cModel both compare well. These two plots indicate that there is excellent agreement between the cModel measurements and the input, at the level of < 0.03 magnitude at ABmag of < 25. Kron is also adequate overall, although at intermediate magnitudes (ABmag ~ 18-22) exhibits a slight underestimate of flux (overestimate in magnitude of order 0.1-0.2).  \n",
    "\n",
    "Note that the input light profiles of simulated galaxies in DP0.2 are sersic profiles; thus it is perhaps not unexpected that modeling the light as sersic profiles by the LSST pipelines to produce cModel fluxes would perform the best."
   ]
  },
  {
   "cell_type": "code",
   "execution_count": null,
   "id": "8bbb1505-5e91-49d2-b94e-045ff9f482e2",
   "metadata": {
    "execution": {
     "iopub.status.busy": "2025-01-14T23:31:11.118690Z",
     "iopub.status.idle": "2025-01-14T23:31:11.118876Z",
     "shell.execute_reply": "2025-01-14T23:31:11.118793Z",
     "shell.execute_reply.started": "2025-01-14T23:31:11.118783Z"
    }
   },
   "outputs": [],
   "source": [
    "fig, (ax, ax2) = plt.subplots(ncols=2, nrows=1, width_ratios=[0.8, 0.2], figsize=(10, 6))\n",
    "ylims = [-1.2,1.2]\n",
    "\n",
    "ax.plot(truth_mag, (kron_mag-truth_mag),'.',alpha=.1,label='Kron',color='blue')\n",
    "ax.plot(truth_mag, (gaap_mag-truth_mag),'.',alpha=.1, label='gaapOptimal',color='green')\n",
    "ax.plot(truth_mag, (cmodel_mag-truth_mag),'.',alpha=.1,label='cModel',color='r')\n",
    "\n",
    "ax2.hist((kron_mag-truth_mag),edgecolor='blue',orientation=\"horizontal\", bins=np.linspace(ylims[0], ylims[1], 40),align='mid',histtype=\"step\",stacked=True,fill=False)\n",
    "ax2.hist((gaap_mag-truth_mag),edgecolor='green',orientation=\"horizontal\", bins=np.linspace(ylims[0], ylims[1], 40),align='mid',histtype=\"step\",stacked=True,fill=False)\n",
    "ax2.hist((cmodel_mag-truth_mag),edgecolor='red',orientation=\"horizontal\", bins=np.linspace(ylims[0], ylims[1], 40),align='mid',histtype=\"step\",stacked=True,fill=False)\n",
    "ax2.axhline(0,linestyle='--')\n",
    "\n",
    "x = truth_mag\n",
    "y = (cmodel_mag-truth_mag)\n",
    "\n",
    "bin_means, bin_edges, binnumber = stats.binned_statistic(x,\n",
    "             y, statistic='median', bins=bins)\n",
    "binctr = bin_edges[:-1] + (bin_edges[1:]-bin_edges[:-1])/2\n",
    "ax.plot(binctr, bin_means, color='red', lw=2, label='cModel bin median',zorder=10)\n",
    "for i in range(len(bin_means)):\n",
    "    print(binctr[i],bin_means[i],'cModel')\n",
    "\n",
    "    \n",
    "y = (kron_mag-truth_mag)\n",
    "bin_means, bin_edges, binnumber = stats.binned_statistic(x,\n",
    "             y, statistic='median', bins=bins)\n",
    "binctr = bin_edges[:-1] + (bin_edges[1:]-bin_edges[:-1])/2\n",
    "ax.plot(binctr, bin_means, color='blue', lw=2, label='kron bin median',zorder=10)\n",
    "for i in range(len(bin_means)):\n",
    "    print(binctr[i],bin_means[i],'kron')\n",
    "\n",
    "y = (gaap_mag-truth_mag)\n",
    "bin_means, bin_edges, binnumber = stats.binned_statistic(x,\n",
    "             y, statistic='median', bins=bins)\n",
    "binctr = bin_edges[:-1] + (bin_edges[1:]-bin_edges[:-1])/2\n",
    "ax.plot(binctr, bin_means, color='green', lw=2, label='GaaP Optimal bin median',zorder=10)#,color='green')\n",
    "\n",
    "ax.axhline(0,linestyle='--')\n",
    "ax.set_xlabel('True i-band Magnitude')\n",
    "ax.set_ylabel('Magnitude difference (M$_{obs}$ - M$_{true}$)')\n",
    "ax.set_xlim([14,27])\n",
    "ax.set_ylim(ylims)\n",
    "ax.legend()\n"
   ]
  },
  {
   "cell_type": "markdown",
   "id": "8a3c30b3-721e-4cbc-abfd-8d4c9b216de8",
   "metadata": {},
   "source": [
    "The next cells will explore and compare the Kron magnitudes to truth under various circumstances. 2 basic paramters are set: extendedness = 1 means the source is a galaxy; kronFlag = 0 identifies galaxies for which there were no problems flagged in the Kron flux measurement. \n",
    "\n",
    "Test whether the following blending parameters indicate that blending contributes to the inaccurate measurement of the photometry:\n",
    "\n",
    "1) detect_fromBlend = 1 means some deblending happened prior to flux measurement. This is responsible for some under-estimated magnitude (over-estimated flux) perhaps because neighbors were not removed at the bright end?\n",
    "\n",
    "2) The increased scatter at faint magnitudes is due to increased fraction of flux contaminated by neighbors i_blendedness: (1 - child_flux/parent_flux)\n",
    "   \n",
    "3) detect_isIsolated = 1 means no deblending and the galaxy has no blended neighbors. The upturn at bright mags is not there among isolated galaxies\n",
    "\n",
    "4) Not sure i understand the tail to negative flux difference (i.e. underestimated flux) at bright mags"
   ]
  },
  {
   "cell_type": "code",
   "execution_count": null,
   "id": "3f5073a8-7c3d-4361-92b7-e1fa05c5dcde",
   "metadata": {
    "execution": {
     "iopub.status.busy": "2025-01-14T23:31:11.119497Z",
     "iopub.status.idle": "2025-01-14T23:31:11.119668Z",
     "shell.execute_reply": "2025-01-14T23:31:11.119596Z",
     "shell.execute_reply.started": "2025-01-14T23:31:11.119589Z"
    }
   },
   "outputs": [],
   "source": [
    "# here add a second set of panels to try to understand the small bias at bright end of kron (is it kron radius-dependent? since its not deblending dependent?\n",
    "\n",
    "fig,(ax, ax2) = plt.subplots(1, 2,figsize=(12,5))\n",
    "\n",
    "whgood = np.where((tab['i_kronFlux_flag'] == 0) & ( tab['detect_fromBlend'] == 1))[0]\n",
    "\n",
    "# color scale by blendedness, or by kron radius to see dependence\n",
    "cmap = tab['i_blendedness'][whgood] #only saw things blended with 1 neighbor is this acutally boolean?\n",
    "vmax = 0.2\n",
    "colmaplabel='Fraction of flux contaminated by neighbors'\n",
    "cmap = tab['i_kronRad'][whgood]\n",
    "vmax = 12\n",
    "colmaplabel='Kron Radius [pixels]'\n",
    "\n",
    "im = ax.scatter(truth_mag[whgood],(kron_mag[whgood]-truth_mag[whgood]),c=cmap, marker='.', alpha=.5,vmin=0,vmax=vmax,label='fromBlend')\n",
    "\n",
    "ax.axhline(0,linestyle='--')\n",
    "ax.set_title('Kron Photometry')\n",
    "ax.set_xlabel('truth AB Magnitude [i-band]')\n",
    "ax.set_ylabel('Mag Percent Accuracy (M$_{obs}$ - M$_{true}$) ')\n",
    "ax.set_xlim([16,26])\n",
    "ax.set_ylim([-1,1])\n",
    "ax.legend()\n",
    "\n",
    "whgood = np.where((tab['i_kronFlux_flag'] == 0) & (tab['i_extendedness'] == 1) & (tab['detect_isIsolated'] == 1) )[0]\n",
    "\n",
    "# color scale by blendedness, or by kron radius to see dependence\n",
    "cmap = tab['i_blendedness'][whgood]\n",
    "vmax = 0.2\n",
    "colmaplabel='Fraction of flux contaminated by neighbors'\n",
    "cmap = tab['i_kronRad'][whgood]\n",
    "vmax = 12\n",
    "colmaplabel='Kron Radius [pixels]'\n",
    "\n",
    "ax2.scatter(truth_mag[whgood],(kron_mag[whgood]-truth_mag[whgood]),c=cmap, marker='.', alpha=.5,vmin=0,vmax=vmax,label='isIsolated')\n",
    "print(len(whgood))\n",
    "ax2.set_xlabel('truth AB Magnitude [i-band]')\n",
    "ax2.set_ylabel('Magnitude offset (M$_{obs}$ - M$_{true}$) ')\n",
    "ax2.set_ylim([-1,1])\n",
    "ax2.set_xlim([16,26])\n",
    "ax2.legend()\n",
    "ax2.axhline(0,linestyle='--')\n",
    "ax2.set_title('Kron Photometry')\n",
    "\n",
    "fig.subplots_adjust(right=0.8)\n",
    "cbar_ax = fig.add_axes([0.85, 0.15, 0.05, 0.7])\n",
    "fig.colorbar(im, cax=cbar_ax,label=colmaplabel)\n"
   ]
  },
  {
   "cell_type": "markdown",
   "id": "947bfd05-2762-4525-bac4-83745a230999",
   "metadata": {},
   "source": [
    "The above plots show that blending and contamination of flux by neighbors can result in inaccurate flux among the strong outliers, but does not cause the systematic overestimate in magnitude by Kron measurements at intermediate magnitudes. However, it is also the case that nearly none of these overestimated sources are isolated (they are blended with neibors). Large galaxy radius does increase with brightness but otherwise does not seem to give rise to the offset. (TBD: otherwise perhaps its the case that kron is not a good measure of multi-component light profiles, and the sum of 2 sersic models does a better job? Not sure how to test that. Andreon et al. 2002 says \"the 2MASS isophotal mag misses some 0.1 mag with respect the Kron–like mag listed in the 2MASS database, which in turn misses about 0.15 mag with respect the true Kron mag (because computed on a too small object region), which in turn misses 5 to 10% of the total flux.).\""
   ]
  },
  {
   "cell_type": "code",
   "execution_count": null,
   "id": "6fdf7c38-0c80-4351-856d-8390d22ad375",
   "metadata": {
    "execution": {
     "iopub.status.busy": "2025-01-14T23:31:11.120408Z",
     "iopub.status.idle": "2025-01-14T23:31:11.120613Z",
     "shell.execute_reply": "2025-01-14T23:31:11.120529Z",
     "shell.execute_reply.started": "2025-01-14T23:31:11.120518Z"
    }
   },
   "outputs": [],
   "source": [
    "whgood = np.where((tab['i_kronFlux_flag'] == 0) & ( tab['detect_fromBlend'] == 1))[0]\n",
    "\n",
    "whtest = np.where((truth_mag[whgood] < 20) & \n",
    "                  ((kron_mag[whgood]-truth_mag[whgood]) > 0.15) & \n",
    "                  ((kron_mag[whgood]-truth_mag[whgood]) < 0.25))[0]\n",
    "\n",
    "print(whtest)\n",
    "for i in range(2):\n",
    "    ra = results['ra'][whgood][whtest][i]\n",
    "    dec = results['dec'][whgood][whtest][i]\n",
    "    coord = SkyCoord(ra=ra*u.degree, dec=dec*u.degree, frame='icrs')\n",
    "    radius = .1 * u.deg\n",
    "\n",
    "    spherePoint = lsst.geom.SpherePoint(ra*geom.degrees, dec*geom.degrees)\n",
    "\n",
    "    query = \"SELECT lsst_patch, lsst_tract, s_region, \" + \\\n",
    "            \"access_format, access_url, dataproduct_subtype \" + \\\n",
    "            \"FROM ivoa.ObsCore \" + \\\n",
    "            \"WHERE dataproduct_type = 'image' \" + \\\n",
    "            \"AND obs_collection = 'LSST.DP02' \" + \\\n",
    "            \"AND dataproduct_subtype = 'lsst.deepCoadd_calexp' \" + \\\n",
    "            \"AND lsst_band = 'i' \" + \\\n",
    "            \"AND CONTAINS(POINT('ICRS', \" + str(coord.ra.value) + \\\n",
    "            \", \" + str(coord.dec.value) + \"), \" + \\\n",
    "            \"s_region) = 1\"\n",
    "\n",
    "    job = service.submit_job(query)\n",
    "    job.run()\n",
    "    job.wait(phases=['COMPLETED', 'ERROR'])\n",
    "    print('Job phase is', job.phase)\n",
    "    assert job.phase == 'COMPLETED'\n",
    "    results2 = job.fetch_result()\n",
    "    results2.to_table()\n",
    "\n",
    "    tract = results2['lsst_tract'][0]\n",
    "    patch = results2['lsst_patch'][0]\n",
    "\n",
    "    dataId = {'band': 'i', 'tract': tract,\n",
    "              'patch': patch}\n",
    "\n",
    "    print(dataId, ra, dec, patch, tract)\n",
    "    imtype = 'deepCoadd'\n",
    "    sodaCutout = make_image_cutout(service, ra, dec, dataId=dataId,\n",
    "                         imtype=imtype, cutout_size=0.005)\n",
    "    plotImage(ExposureF(sodaCutout))\n",
    "\n",
    "sys.exit()"
   ]
  },
  {
   "cell_type": "code",
   "execution_count": null,
   "id": "1e525f6f-5521-4a67-9abb-b96e4a198043",
   "metadata": {
    "execution": {
     "iopub.status.busy": "2025-01-14T23:31:11.121410Z",
     "iopub.status.idle": "2025-01-14T23:31:11.121602Z",
     "shell.execute_reply": "2025-01-14T23:31:11.121521Z",
     "shell.execute_reply.started": "2025-01-14T23:31:11.121513Z"
    }
   },
   "outputs": [],
   "source": [
    "# the following plots are identical, consider a different comparison that is informative\n",
    "fig,(ax, ax2) = plt.subplots(1, 2,figsize=(12,5))\n",
    "\n",
    "whgood = np.where((tab['i_kronFlux_flag'] == 0) & ( tab['detect_fromBlend'] == 1))[0]\n",
    "\n",
    "cmap = tab['i_blendedness'][whgood] #only saw things blended with 1 neighbor is this acutally boolean?\n",
    "vmax = 0.2\n",
    "colmaplabel='Fraction of flux contaminated by neighbors'\n",
    "\n",
    "#cmap = tab['i_kronRad'][whgood]\n",
    "#vmax = 20\n",
    "#colmaplabel='Kron Radius [pixels]'\n",
    "\n",
    "#ax.scatter(truth_mag,(cmodel_mag-truth_mag)/truth_mag,color='k', marker='.', alpha=.5)#,vmin=0,vmax=20)\n",
    "im = ax.scatter(truth_mag[whgood],(cmodel_mag[whgood]-truth_mag[whgood]),c=cmap, marker='.', alpha=.5,vmin=0,vmax=vmax,label='fromBlend')\n",
    "\n",
    "\n",
    "ax.set_xlabel('truth AB Magnitude [i-band]')\n",
    "ax.set_ylabel('Mag Fractional Accuracy (M$_{obs}$ - M$_{true}$) ')\n",
    "ax.set_ylim([-1,1])\n",
    "ax.set_xlim([16,26])\n",
    "ax.axhline(0,linestyle='--')\n",
    "ax.set_title('cModel Photometry')\n",
    "ax.legend()\n",
    "#cmap = tab['i_kronRad'][whgood] #tab['i_blendedness'][whgood] # #tab['i_blendedness'][whgood] #\n",
    "whgood = np.where((tab['i_kronFlux_flag'] == 0) & (tab['i_extendedness'] == 1) & (tab['detect_isIsolated'] == 1) )[0]\n",
    "cmap = tab['i_blendedness'][whgood]\n",
    "\n",
    "#ax2.scatter(truth_mag,(cmodel_mag-truth_mag),color='k', marker='.', alpha=.5)#,vmin=0,vmax=20)\n",
    "ax2.scatter(truth_mag[whgood],(cmodel_mag[whgood]-truth_mag[whgood]),c=cmap, marker='.', alpha=.5,vmin=0,vmax=vmax,label='isIsolated')\n",
    "ax2.set_xlabel('truth AB Magnitude [i-band]')\n",
    "#ax2.set_ylabel('Mag Accuracy (M$_{obs}$ - M$_{true}$) /  M$_{true}$')\n",
    "#ax2.set_ylim([-1.5,1.5])\n",
    "ax2.set_ylim([-1,1])\n",
    "ax2.set_xlim([16,26])\n",
    "ax2.axhline(0,linestyle='--')\n",
    "print(len(whgood))\n",
    "\n",
    "fig.subplots_adjust(right=0.8)\n",
    "cbar_ax = fig.add_axes([0.85, 0.15, 0.05, 0.7])\n",
    "fig.colorbar(im, cax=cbar_ax,label=colmaplabel)\n",
    "\n",
    "ax2.set_title('cModel Photometry')\n",
    "ax2.legend()"
   ]
  },
  {
   "cell_type": "markdown",
   "id": "b16c2ecf-c99e-4b30-8d0c-1655c1cb7f92",
   "metadata": {},
   "source": [
    "### 2.5 Integrated photometry for high-redshift galaxies\n",
    "\n",
    "This section compares the photometry measurements for both low redshift and high redshift galaxies to see if one performs better for larger or smaller galaxies. In both cases it seems that while `kron` and `cModel` are both adequate, like the previous section, on average `cModel` has slightly better performance, in particular at bright magnitudes."
   ]
  },
  {
   "cell_type": "code",
   "execution_count": null,
   "id": "09d48509-bf5d-4e1b-a136-2c0bb4c03084",
   "metadata": {
    "execution": {
     "iopub.status.busy": "2025-01-14T23:31:11.122379Z",
     "iopub.status.idle": "2025-01-14T23:31:11.122570Z",
     "shell.execute_reply": "2025-01-14T23:31:11.122493Z",
     "shell.execute_reply.started": "2025-01-14T23:31:11.122485Z"
    }
   },
   "outputs": [],
   "source": [
    "\n",
    "zlim = 0.5\n",
    "whz = np.where(results['redshift'] < zlim)[0]\n",
    "whighz = np.where(results['redshift'] >= zlim)[0]\n",
    "print(len(results['redshift']),len(whz),len(whighz))\n",
    "\n",
    "fig,(ax, ax2) = plt.subplots(1, 2,figsize=(10,5))\n",
    "\n",
    "ax.axhline(0,linestyle='--')\n",
    "\n",
    "ax.plot(truth_mag[whz], (kron_mag[whz]-truth_mag[whz]),'.',alpha=.1,label='Kron',color='blue')\n",
    "#ax.plot(truth_mag[whz], (gaap_mag[whz]-truth_mag[whz]),'.',alpha=.1, label='gaapOptimal',color='green')\n",
    "ax.plot(truth_mag[whz], (cmodel_mag[whz]-truth_mag[whz]),'.',alpha=.1,label='cModel',color='r')\n",
    "\n",
    "x = truth_mag[whz]\n",
    "y = (cmodel_mag[whz]-truth_mag[whz])\n",
    "bin_means, bin_edges, binnumber = stats.binned_statistic(x,\n",
    "             y, statistic='median', bins=bins)\n",
    "binctr = bin_edges[:-1] + (bin_edges[1:]-bin_edges[:-1])/2\n",
    "ax.plot(binctr, bin_means, color='red', lw=2, label='cModel bin median',zorder=10)\n",
    "\n",
    "y = (kron_mag[whz]-truth_mag[whz])\n",
    "bin_means, bin_edges, binnumber = stats.binned_statistic(x,\n",
    "             y, statistic='median', bins=bins)\n",
    "binctr = bin_edges[:-1] + (bin_edges[1:]-bin_edges[:-1])/2\n",
    "ax.plot(binctr, bin_means, color='blue', lw=2, label='kron bin median',zorder=10)\n",
    "\n",
    "#y = (gaap_mag[whz]-truth_mag[whz])\n",
    "#bin_means, bin_edges, binnumber = stats.binned_statistic(x,\n",
    "#             y, statistic='median', bins=bins)\n",
    "#binctr = bin_edges[:-1] + (bin_edges[1:]-bin_edges[:-1])/2\n",
    "#ax.plot(binctr, bin_means, color='green', lw=2, label='GaaP Optimal bin median',zorder=10,linestyle='--')#,color='green')\n",
    "\n",
    "ax.set_xlabel('True i-band Magnitude')\n",
    "ax.set_ylabel('Mag Accuracy (M$_{obs}$ - M$_{true}$) ')\n",
    "#ax.set_ylim([-.2,.2])\n",
    "ax.set_xlim([16,26])\n",
    "ax.set_title('Low redshift z<'+str(zlim))\n",
    "ax.set_ylim([-1,1])\n",
    "\n",
    "ax2.axhline(0,linestyle='--')\n",
    "\n",
    "ax2.plot(truth_mag[whighz], (kron_mag[whighz]-truth_mag[whighz]),'.',alpha=.1,label='Kron',color='blue')\n",
    "#ax2.plot(truth_mag[whighz], (gaap_mag[whighz]-truth_mag[whighz]),'.',alpha=.1, label='gaapOptimal',color='green')\n",
    "ax2.plot(truth_mag[whighz], (cmodel_mag[whighz]-truth_mag[whighz]),'.',alpha=.1,label='cModel',color='r')\n",
    "\n",
    "x = truth_mag[whighz]\n",
    "y = (cmodel_mag[whighz]-truth_mag[whighz])\n",
    "\n",
    "bin_means, bin_edges, binnumber = stats.binned_statistic(x,\n",
    "             y, statistic='median', bins=bins)\n",
    "binctr = bin_edges[:-1] + (bin_edges[1:]-bin_edges[:-1])/2\n",
    "ax2.plot(binctr, bin_means, color='red', lw=2, label='cModel bin median',zorder=10)\n",
    "\n",
    "y = (kron_mag[whighz]-truth_mag[whighz])\n",
    "bin_means, bin_edges, binnumber = stats.binned_statistic(x,\n",
    "             y, statistic='median', bins=bins)\n",
    "binctr = bin_edges[:-1] + (bin_edges[1:]-bin_edges[:-1])/2\n",
    "ax2.plot(binctr, bin_means, color='blue', lw=2, label='kron bin median',zorder=10)\n",
    "\n",
    "#y = (gaap_mag[whighz]-truth_mag[whighz])\n",
    "#bin_means, bin_edges, binnumber = stats.binned_statistic(x,\n",
    "#             y, statistic='median', bins=bins)\n",
    "#binctr = bin_edges[:-1] + (bin_edges[1:]-bin_edges[:-1])/2\n",
    "#ax2.plot(binctr, bin_means, color='green', lw=2, label='GaaP Optimal bin median',zorder=10,linestyle='--')#,color='green')\n",
    "\n",
    "ax2.set_xlabel('True i-band Magnitude')\n",
    "ax2.set_ylim([-1,1])\n",
    "ax2.set_xlim([16,26])\n",
    "ax2.set_title('High redshift z>'+str(zlim))\n",
    "plt.legend()"
   ]
  },
  {
   "cell_type": "markdown",
   "id": "b6bc05d8-2f63-4b24-a123-4dd6620ac98a",
   "metadata": {},
   "source": [
    "## 3. Photometry for colors\n",
    "\n",
    "Here we show observed vs intrinsic colors to demonstrate that GaaP is good for that. Except all 3 measurements are decent and actually cModel has hte least bias (reason, and purpose of GaaP is still TBD).\n",
    "\n",
    "First, query for the photometry in g and z bands (which will have a large difference in spatial resolution given their relatively large difference wavelengths). u and y band would have an even larger wavelength baseline for comparison, but g and z have better throughput and thus S/N are typically higher. Like earlier sections, also retrieve the truth table input fluxes as a baseline for assessing accuracy in color between the different measurements."
   ]
  },
  {
   "cell_type": "code",
   "execution_count": null,
   "id": "fd7e6ebb-f348-4df9-9859-9d4febb51238",
   "metadata": {
    "execution": {
     "iopub.status.busy": "2025-01-14T23:31:11.123193Z",
     "iopub.status.idle": "2025-01-14T23:31:11.123355Z",
     "shell.execute_reply": "2025-01-14T23:31:11.123280Z",
     "shell.execute_reply.started": "2025-01-14T23:31:11.123274Z"
    }
   },
   "outputs": [],
   "source": [
    "query = \"SELECT mt.id_truth_type, mt.match_objectId, ts.ra, ts.dec, ts.truth_type, ts.flux_g, ts.flux_z, ts.redshift, \"\\\n",
    "        \"obj.coord_ra, obj.coord_dec, obj.detect_fromBlend, obj.detect_isIsolated, obj.i_blendedness_flag, obj.i_blendedness, obj.i_extendedness, \"\\\n",
    "        \"obj.g_kronFlux, obj.g_kronFluxErr, obj.g_kronRad, obj.g_kronFlux_flag, obj.g_cModelFlux, obj.g_gaapOptimalFlux, \" + \\\n",
    "        \"obj.z_kronFlux, obj.z_kronFluxErr, obj.z_kronRad, obj.z_kronFlux_flag, obj.z_cModelFlux, obj.z_gaapOptimalFlux \" + \\\n",
    "        \"FROM dp02_dc2_catalogs.MatchesTruth AS mt \"\\\n",
    "        \"JOIN dp02_dc2_catalogs.TruthSummary AS ts ON mt.id_truth_type = ts.id_truth_type \"\\\n",
    "        \"JOIN dp02_dc2_catalogs.Object AS obj ON mt.match_objectId = obj.objectId \"\\\n",
    "        \"WHERE (obj.detect_isPrimary = 1) AND (obj.g_kronFlux/obj.g_kronFluxErr > 10)  AND (obj.g_extendedness = 1) AND \"\\\n",
    "        \"CONTAINS(POINT('ICRS', obj.coord_ra, obj.coord_dec), CIRCLE('ICRS', 62.0, -37.0, 0.20)) = 1 \""
   ]
  },
  {
   "cell_type": "code",
   "execution_count": null,
   "id": "baec0660-1125-43de-9f21-cc5ccef958f0",
   "metadata": {
    "execution": {
     "iopub.status.busy": "2025-01-14T23:31:11.123942Z",
     "iopub.status.idle": "2025-01-14T23:31:11.124124Z",
     "shell.execute_reply": "2025-01-14T23:31:11.124039Z",
     "shell.execute_reply.started": "2025-01-14T23:31:11.124030Z"
    }
   },
   "outputs": [],
   "source": [
    "job = service.submit_job(query)\n",
    "job.run()\n",
    "job.wait(phases=['COMPLETED', 'ERROR'])\n",
    "print('Job phase is', job.phase)\n",
    "\n",
    "results = job.fetch_result()\n",
    "tab = results.to_table()"
   ]
  },
  {
   "cell_type": "code",
   "execution_count": null,
   "id": "8d97291d-2043-40a6-859c-db391565a9da",
   "metadata": {
    "execution": {
     "iopub.status.busy": "2025-01-14T23:31:11.124758Z",
     "iopub.status.idle": "2025-01-14T23:31:11.124917Z",
     "shell.execute_reply": "2025-01-14T23:31:11.124850Z",
     "shell.execute_reply.started": "2025-01-14T23:31:11.124843Z"
    }
   },
   "outputs": [],
   "source": [
    "g_cmodel_mag = -2.50 * np.log10(tab['g_cModelFlux']) + 31.4\n",
    "g_kron_mag = -2.50 * np.log10(tab['g_kronFlux']) + 31.4\n",
    "g_gaap_mag = -2.50 * np.log10(tab['g_gaapOptimalFlux']) + 31.4\n",
    "g_truth_mag =  -2.50 * np.log10(tab['flux_g']) + 31.4\n",
    "\n",
    "z_cmodel_mag = -2.50 * np.log10(tab['z_cModelFlux']) + 31.4\n",
    "z_kron_mag = -2.50 * np.log10(tab['z_kronFlux']) + 31.4\n",
    "z_gaap_mag = -2.50 * np.log10(tab['z_gaapOptimalFlux']) + 31.4\n",
    "z_truth_mag =  -2.50 * np.log10(tab['flux_z']) + 31.4\n"
   ]
  },
  {
   "cell_type": "code",
   "execution_count": null,
   "id": "59afd145-cc34-4671-82ac-616ba6f28882",
   "metadata": {
    "execution": {
     "iopub.status.busy": "2025-01-14T23:31:11.125662Z",
     "iopub.status.idle": "2025-01-14T23:31:11.125821Z",
     "shell.execute_reply": "2025-01-14T23:31:11.125751Z",
     "shell.execute_reply.started": "2025-01-14T23:31:11.125745Z"
    }
   },
   "outputs": [],
   "source": [
    "# very confused about why these colors line up so perfectly when the mags do not...\n",
    "# maybe on the fainter end (S/N ~ 5) the colors differ more? Check.\n",
    "\n",
    "fig, (ax, ax2) = plt.subplots(ncols=2, nrows=1, width_ratios=[0.8, 0.2], figsize=(10, 6))\n",
    "ylims = [-0.2,0.2]\n",
    "\n",
    "truth_color = g_truth_mag - z_truth_mag\n",
    "kron_color = g_kron_mag - z_kron_mag\n",
    "cmodel_color = g_cmodel_mag - z_cmodel_mag\n",
    "gaap_color =  g_gaap_mag - z_gaap_mag\n",
    "\n",
    "ax.plot(z_kron_mag, kron_color-truth_color, '.',alpha=.5, label='Kron '+str(np.median(kron_color-truth_color)),color='b')\n",
    "ax.plot(z_cmodel_mag, cmodel_color-truth_color, '.',alpha=.5, label='cModel '+str(np.median(cmodel_color-truth_color)),color='r')\n",
    "ax.plot(z_gaap_mag, gaap_color-truth_color, '.',alpha=.5, label='GaaP optimal '+str(np.median(gaap_color-truth_color)),color='g')\n",
    "\n",
    "ax2.hist((kron_color-truth_color),edgecolor='blue',orientation=\"horizontal\", bins=np.linspace(ylims[0], ylims[1], 80),align='mid',histtype=\"step\",stacked=True,fill=False)\n",
    "ax2.hist((gaap_color-truth_color),edgecolor='green',orientation=\"horizontal\", bins=np.linspace(ylims[0], ylims[1], 80),align='mid',histtype=\"step\",stacked=True,fill=False)\n",
    "ax2.hist((cmodel_color-truth_color),edgecolor='red',orientation=\"horizontal\", bins=np.linspace(ylims[0], ylims[1], 80),align='mid',histtype=\"step\",stacked=True,fill=False)\n",
    "ax2.axhline(0,linestyle='--')\n",
    "\n",
    "\n",
    "x = np.arange(-.1,6,.1)\n",
    "#plt.plot(x,x,linestyle='--')\n",
    "#plt.plot(x+.1,x+.1,linestyle='--')\n",
    "#plt.plot(x-.1,x-.1,linestyle='--')\n",
    "ylims = [-1,1]\n",
    "ax.axhline(0)\n",
    "ax.set_ylim(ylims)\n",
    "ax.set_xlim([16,26])\n",
    "ax.set_xlabel('Observed g-band Magnitude')\n",
    "ax.set_ylabel('Observed g-z color - True g-z color')\n",
    "#ax2.set_ylabel('Observed g-z color - True g-z color')\n",
    "ax.legend()"
   ]
  },
  {
   "cell_type": "markdown",
   "id": "f00bea4c-b9cb-40e5-8e5d-23110210a3f3",
   "metadata": {},
   "source": [
    "### 4. Photometry for light profiles (i.e. how to use aperture photometry)\n",
    "Science application for aperture fluxes\n",
    "Not sure how to do this yet"
   ]
  },
  {
   "cell_type": "code",
   "execution_count": null,
   "id": "8575a64b-f166-453b-aebd-dd09d728a259",
   "metadata": {
    "execution": {
     "iopub.status.busy": "2025-01-14T23:31:11.126152Z",
     "iopub.status.idle": "2025-01-14T23:31:11.126317Z",
     "shell.execute_reply": "2025-01-14T23:31:11.126237Z",
     "shell.execute_reply.started": "2025-01-14T23:31:11.126231Z"
    }
   },
   "outputs": [],
   "source": [
    "query = \"SELECT mt.id_truth_type, mt.match_objectId, ts.ra, ts.dec, ts.truth_type, ts.flux_i, ts.redshift, \"\\\n",
    "        \"obj.coord_ra, obj.coord_dec, obj.detect_fromBlend, obj.detect_isIsolated, obj.i_blendedness_flag, obj.i_blendedness, obj.i_extendedness, \"\\\n",
    "        \"obj.i_ap03Flux, obj.i_ap06Flux, obj.i_ap09Flux, obj.i_ap12Flux, obj.i_ap17Flux, obj.i_ap25Flux, obj.i_ap35Flux, obj.i_ap50Flux, obj.i_kronRad, obj.i_kronFlux_flag \" + \\\n",
    "        \"FROM dp02_dc2_catalogs.MatchesTruth AS mt \"\\\n",
    "        \"JOIN dp02_dc2_catalogs.TruthSummary AS ts ON mt.id_truth_type = ts.id_truth_type \"\\\n",
    "        \"JOIN dp02_dc2_catalogs.Object AS obj ON mt.match_objectId = obj.objectId \"\\\n",
    "        \"WHERE (obj.detect_isPrimary = 1) AND (obj.i_kronFlux/obj.i_kronFluxErr > 10) AND (obj.i_extendedness = 1) AND \"\\\n",
    "        \"CONTAINS(POINT('ICRS', obj.coord_ra, obj.coord_dec), CIRCLE('ICRS', 62.0, -37.0, 0.20)) = 1 \""
   ]
  },
  {
   "cell_type": "code",
   "execution_count": null,
   "id": "24718446-033d-4b3d-b11f-a94c708c6d1e",
   "metadata": {
    "execution": {
     "iopub.status.busy": "2025-01-14T23:31:11.127061Z",
     "iopub.status.idle": "2025-01-14T23:31:11.127217Z",
     "shell.execute_reply": "2025-01-14T23:31:11.127149Z",
     "shell.execute_reply.started": "2025-01-14T23:31:11.127142Z"
    }
   },
   "outputs": [],
   "source": [
    "job = service.submit_job(query)\n",
    "job.run()\n",
    "job.wait(phases=['COMPLETED', 'ERROR'])\n",
    "print('Job phase is', job.phase)"
   ]
  },
  {
   "cell_type": "code",
   "execution_count": null,
   "id": "1ddc4e98-1151-4aba-806a-b9097d2edfd0",
   "metadata": {
    "execution": {
     "iopub.status.busy": "2025-01-14T23:31:11.127806Z",
     "iopub.status.idle": "2025-01-14T23:31:11.127983Z",
     "shell.execute_reply": "2025-01-14T23:31:11.127902Z",
     "shell.execute_reply.started": "2025-01-14T23:31:11.127892Z"
    }
   },
   "outputs": [],
   "source": [
    "results = job.fetch_result()\n",
    "tab = results.to_table()"
   ]
  },
  {
   "cell_type": "code",
   "execution_count": null,
   "id": "0b26042c-c234-4885-819b-a05dfba2bc31",
   "metadata": {
    "execution": {
     "iopub.status.busy": "2025-01-14T23:31:11.128854Z",
     "iopub.status.idle": "2025-01-14T23:31:11.129007Z",
     "shell.execute_reply": "2025-01-14T23:31:11.128940Z",
     "shell.execute_reply.started": "2025-01-14T23:31:11.128934Z"
    }
   },
   "outputs": [],
   "source": [
    "# pick an object that has large size\n",
    "wh = np.where(tab['i_kronRad'] > 10)[0]\n",
    "#print(len(wh), tab['i_kronRad'][wh])\n",
    "\n",
    "rad = np.array([3,6,9,12,17,25,35,50])\n",
    "light_profile = np.array([tab['i_ap03Flux'][wh][0],tab['i_ap06Flux'][wh][0],tab['i_ap09Flux'][wh][0],tab['i_ap12Flux'][wh][0],tab['i_ap17Flux'][wh][0],\n",
    "                          tab['i_ap25Flux'][wh][0],tab['i_ap35Flux'][wh][0],tab['i_ap50Flux'][wh][0]])\n",
    "plt.plot(rad, light_profile, label='Large Radius R='+str(tab['i_kronRad'][wh][0]))\n",
    "plt.xlabel('Aperture Radius [pixels]')\n",
    "plt.ylabel('Flux density [nJy]')\n",
    "\n",
    "# pick an object that has large size\n",
    "wh = np.where(tab['i_kronRad'] < 5)[0]\n",
    "#print(len(wh), tab['i_kronRad'][wh])\n",
    "indx = 10\n",
    "rad = np.array([3,6,9,12,17,25,35,50])\n",
    "light_profile = np.array([tab['i_ap03Flux'][wh][indx],tab['i_ap06Flux'][wh][0],tab['i_ap09Flux'][wh][indx],tab['i_ap12Flux'][wh][indx],tab['i_ap17Flux'][wh][indx],\n",
    "                          tab['i_ap25Flux'][wh][indx],tab['i_ap35Flux'][wh][indx],tab['i_ap50Flux'][wh][indx]])\n",
    "plt.plot(rad, light_profile, label='Small Radius R='+str(tab['i_kronRad'][wh][indx]))\n",
    "plt.legend()\n"
   ]
  },
  {
   "cell_type": "code",
   "execution_count": null,
   "id": "12f5be0d-7816-4622-8523-aff5e6b9a028",
   "metadata": {
    "execution": {
     "iopub.status.busy": "2025-01-14T23:31:11.130039Z",
     "iopub.status.idle": "2025-01-14T23:31:11.130263Z",
     "shell.execute_reply": "2025-01-14T23:31:11.130171Z",
     "shell.execute_reply.started": "2025-01-14T23:31:11.130163Z"
    }
   },
   "outputs": [],
   "source": [
    "sys.exit()"
   ]
  },
  {
   "cell_type": "code",
   "execution_count": null,
   "id": "94c2ecc1-5760-4872-b01d-e6d48b145201",
   "metadata": {
    "execution": {
     "iopub.status.busy": "2025-01-14T23:31:11.131017Z",
     "iopub.status.idle": "2025-01-14T23:31:11.131201Z",
     "shell.execute_reply": "2025-01-14T23:31:11.131117Z",
     "shell.execute_reply.started": "2025-01-14T23:31:11.131108Z"
    }
   },
   "outputs": [],
   "source": [
    "#junk that doens't work yet:\n",
    "\n",
    "# now do the outlier fraction. histogram up the delta_M / M > 0.1 as function of magnitude for the 3\n",
    "\n",
    "x = truth_mag\n",
    "y = (cmodel_mag-truth_mag)#/truth_mag\n",
    "bins=np.arange(16,30,1)\n",
    "bin_means, bin_edges, binnumber = stats.binned_statistic(x,\n",
    "             y, statistic=lambda sigmaz: float(len(np.where(np.abs(y) > 0.01)[0]))/len(y) ,bins=bins)\n",
    "\n",
    "binctr = bin_edges[:-1] + (bin_edges[1:]-bin_edges[:-1])/2\n",
    "plt.plot(binctr, bin_means, color='red', lw=2, label='cModel bin median',zorder=10)\n",
    "#plt.hist(bins[:-1],bins,weights=bin_means,color='r',alpha=.5,edgecolor='black', linewidth=1.2)\n",
    "\n",
    "y = (kron_mag-truth_mag)#/truth_mag\n",
    "bin_means, bin_edges, binnumber = stats.binned_statistic(x,\n",
    "             y, statistic=lambda sigmaz: float(len(np.where(y > 0.01)[0]))/len(y) ,bins=bins)\n",
    "binctr = bin_edges[:-1] + (bin_edges[1:]-bin_edges[:-1])/2\n",
    "#plt.plot(binctr, bin_means, color='blue', lw=2, label='kron bin median',zorder=10)\n",
    "#plt.hist(bins[:-1],bins,weights=bin_means,color='b',alpha=.5,edgecolor='black', linewidth=1.2)\n",
    "\n",
    "y = (gaap_mag-truth_mag)#/truth_mag\n",
    "bin_means, bin_edges, binnumber = stats.binned_statistic(x,\n",
    "             y,  statistic=lambda sigmaz: float(len(np.where(y > 0.01)[0]))/len(y) ,bins=bins)\n",
    "binctr = bin_edges[:-1] + (bin_edges[1:]-bin_edges[:-1])/2\n",
    "#plt.plot(binctr, bin_means, color='green', lw=2, label='GaaP Optimal bin median',zorder=10)#,color='green')\n",
    "#plt.hist(bins[:-1],bins,weights=bin_means,color='g',alpha=.5,edgecolor='black', linewidth=1.2)\n",
    "\n",
    "#ax.scatter(truth_mag,kron_mag,c=tab['i_kronRad'], marker='+', alpha=.5)\n",
    "\n",
    "#plt.set_xlabel('True i-band Magnitude')\n",
    "#plt.set_ylabel('Mag Accuracy (M$_{obs}$ - M$_{true}$) /  M$_{true}$')\n",
    "#ax.set_ylim([-5,5])\n",
    "#plt.ylim([0,1000])\n",
    "#ax.set_yscale('log')\n",
    "plt.legend()\n",
    "\n",
    "\n",
    "#bin_means, bin_edges, binnumber = stats.binned_statistic(F150mag,sigmaz, statistic=lambda sigmaz: float(len(np.where(sigmaz > 0.15)[0]))/len(sigmaz) ,bins=bins)\n",
    "\n",
    "print(bin_means)\n"
   ]
  },
  {
   "cell_type": "code",
   "execution_count": null,
   "id": "20443fe8-caa8-4f32-97a9-e19cc2ff8079",
   "metadata": {
    "execution": {
     "iopub.status.busy": "2025-01-14T23:31:11.131790Z",
     "iopub.status.idle": "2025-01-14T23:31:11.131959Z",
     "shell.execute_reply": "2025-01-14T23:31:11.131886Z",
     "shell.execute_reply.started": "2025-01-14T23:31:11.131879Z"
    }
   },
   "outputs": [],
   "source": [
    "# compare kron mag to cmodel mag\n",
    "\n",
    "#whbright = np.where(tab['i_kronFlux'] > 0.0001e6)[0]\n",
    "whbright = np.where((tab['i_kronFlux'] > 0.01e6) & (tab['i_kronFlux_flag'] == 0))[0]\n",
    "\n",
    "cmodel_mag = -2.50 * np.log10(tab['i_cModelFlux']) + 31.4\n",
    "kron_mag = -2.50 * np.log10(tab['i_kronFlux']) + 31.4\n",
    "\n",
    "plt.scatter(cmodel_mag,kron_mag,\n",
    "            c=tab['i_kronRad'], marker='.', alpha=.5)\n",
    "\n",
    "#plt.scatter(cmodel_mag[whbright],kron_mag[whbright],\n",
    "#            c=tab['i_kronRad'][whbright], marker='.', alpha=.5)\n",
    "plt.axhline(26.4,linestyle='--',label='10-yr 5sig depth')\n",
    "\n",
    "plt.colorbar(label='Kron Radius [pixels]')\n",
    "plt.xlabel('cModel AB Magnitude [i-band]')\n",
    "plt.ylabel('kron AB Magnitude [i-band]')\n",
    "plt.legend()\n",
    "plt.show()"
   ]
  },
  {
   "cell_type": "code",
   "execution_count": null,
   "id": "c80af7f5-a048-4169-b7e7-61fb479b6df8",
   "metadata": {
    "execution": {
     "iopub.status.busy": "2025-01-14T23:31:11.132448Z",
     "iopub.status.idle": "2025-01-14T23:31:11.132667Z",
     "shell.execute_reply": "2025-01-14T23:31:11.132583Z",
     "shell.execute_reply.started": "2025-01-14T23:31:11.132574Z"
    }
   },
   "outputs": [],
   "source": [
    "\n",
    "cmodel_mag = -2.50 * np.log10(tab['i_gaapOptimalFlux']) + 31.4\n",
    "kron_mag = -2.50 * np.log10(tab['i_kronFlux']) + 31.4\n",
    "\n",
    "plt.scatter(cmodel_mag,kron_mag,\n",
    "            c=tab['i_kronRad'], marker='.', alpha=.5, vmin=1, vmax=50)\n",
    "\n",
    "#plt.scatter(cmodel_mag[whbright],kron_mag[whbright],\n",
    "#            c=tab['i_kronRad'][whbright], marker='.', alpha=.5)\n",
    "plt.axhline(26.4,linestyle='--',label='10-yr 5sig depth')\n",
    "\n",
    "plt.colorbar(label='Kron Radius [pixels]')\n",
    "plt.xlabel('GaaP optimal AB Magnitude [i-band]')\n",
    "plt.ylabel('kron AB Magnitude [i-band]')\n",
    "plt.legend()\n",
    "plt.show()"
   ]
  },
  {
   "cell_type": "code",
   "execution_count": null,
   "id": "6553101d-d9fa-45b5-9d68-6242bd9ae28d",
   "metadata": {
    "execution": {
     "iopub.status.busy": "2025-01-14T23:31:11.133544Z",
     "iopub.status.idle": "2025-01-14T23:31:11.133720Z",
     "shell.execute_reply": "2025-01-14T23:31:11.133642Z",
     "shell.execute_reply.started": "2025-01-14T23:31:11.133635Z"
    }
   },
   "outputs": [],
   "source": [
    "\n",
    "#cmodel_mag = -2.50 * np.log10(tab['i_gaap1p5Flux']) + 31.4\n",
    "kron_mag = -2.50 * np.log10(tab['i_kronFlux']) + 31.4\n",
    "\n",
    "plt.scatter(cmodel_mag,kron_mag,\n",
    "            c=tab['i_kronRad'], marker='.', alpha=.5, vmin=1, vmax=50)\n",
    "\n",
    "#plt.scatter(cmodel_mag[whbright],kron_mag[whbright],\n",
    "#            c=tab['i_kronRad'][whbright], marker='.', alpha=.5)\n",
    "plt.axhline(26.4,linestyle='--',label='10-yr 5sig depth')\n",
    "\n",
    "plt.colorbar(label='Kron Radius [pixels]')\n",
    "plt.xlabel('GaaP AB Magnitude 1.5 aperture [i-band]')\n",
    "plt.ylabel('kron AB Magnitude [i-band]')\n",
    "plt.legend()\n",
    "plt.show()"
   ]
  },
  {
   "cell_type": "code",
   "execution_count": null,
   "id": "ed161a44-81df-4b9e-9563-e7431e2dce89",
   "metadata": {
    "execution": {
     "iopub.status.busy": "2025-01-14T23:31:11.134445Z",
     "iopub.status.idle": "2025-01-14T23:31:11.134639Z",
     "shell.execute_reply": "2025-01-14T23:31:11.134569Z",
     "shell.execute_reply.started": "2025-01-14T23:31:11.134562Z"
    }
   },
   "outputs": [],
   "source": [
    "\n",
    "whbright = np.where((tab['i_kronFlux'] > 0.001e6) & (tab['i_kronFlux_flag'] == 0))[0]\n",
    "\n",
    "mag = -2.50 * np.log10(tab['i_kronFlux']) + 31.4\n",
    "plt.scatter(mag[whbright],tab['i_kronFlux'][whbright]/tab['i_cModelFlux'][whbright],\n",
    "            c=tab['i_kronRad'][whbright], marker='o', alpha=.5, vmin=1, vmax=50)\n",
    "plt.colorbar(label='Kron Radius [pixels]')\n",
    "plt.axhline(1,linestyle='--')\n",
    "plt.xlabel('Kron AB Magnitude [i-band]')\n",
    "plt.yscale('log')\n",
    "plt.ylabel('Kron flux / cModel Flux')\n",
    "\n",
    "\n",
    "whbad = np.where( (np.abs(tab['i_kronFlux'][whbright]/tab['i_cModelFlux'][whbright]) > 2) & (mag[whbright] < 22))[0]\n",
    "whblend = np.where( tab['detect_fromBlend'][whbright] == True)[0]\n",
    "\n",
    "print(tab['detect_fromBlend'][whbright][whbad])\n",
    "plt.plot(mag[whbright][whblend],tab['i_kronFlux'][whbright][whblend]/tab['i_cModelFlux'][whbright][whblend],'k+')\n",
    "\n",
    "plt.show()"
   ]
  },
  {
   "cell_type": "code",
   "execution_count": null,
   "id": "4d35fa45-3cc2-47c3-8e47-a29d3c7ec440",
   "metadata": {},
   "outputs": [],
   "source": []
  },
  {
   "cell_type": "code",
   "execution_count": null,
   "id": "f5c9bc62-6bbd-4e5c-8603-519427970caf",
   "metadata": {
    "execution": {
     "iopub.status.busy": "2025-01-14T23:31:11.136113Z",
     "iopub.status.idle": "2025-01-14T23:31:11.136313Z",
     "shell.execute_reply": "2025-01-14T23:31:11.136225Z",
     "shell.execute_reply.started": "2025-01-14T23:31:11.136217Z"
    }
   },
   "outputs": [],
   "source": [
    "plt.scatter(tab['i_kronRad'][whbright],tab['i_kronFlux'][whbright]/tab['i_gaapOptimalFlux'][whbright],\n",
    "            c=mag[whbright], marker='o', alpha=.5)\n",
    "plt.xlabel('Kron Radius [pix]')\n",
    "plt.ylabel('Kron flux / GaaP Optimal Flux')\n",
    "plt.colorbar(label='Kron Mag [ABmag]')\n",
    "plt.xlim([0,50])\n",
    "plt.ylim([-1,30])\n",
    "plt.show()"
   ]
  },
  {
   "cell_type": "code",
   "execution_count": null,
   "id": "c1487f21-af5c-48ee-9a7a-6cf0aa56185c",
   "metadata": {
    "execution": {
     "iopub.status.busy": "2025-01-14T23:31:11.137071Z",
     "iopub.status.idle": "2025-01-14T23:31:11.137243Z",
     "shell.execute_reply": "2025-01-14T23:31:11.137165Z",
     "shell.execute_reply.started": "2025-01-14T23:31:11.137158Z"
    }
   },
   "outputs": [],
   "source": [
    "plt.scatter(tab['i_kronRad'][whbright],tab['i_kronFlux'][whbright]/tab['i_cModelFlux'][whbright],\n",
    "            c=mag[whbright], marker='o', alpha=.5)\n",
    "plt.xlabel('Kron Radius [pix]')\n",
    "plt.ylabel('Kron flux / cModel Flux')\n",
    "plt.colorbar(label='Kron Mag [ABmag]')\n",
    "plt.xlim([0,50])\n",
    "plt.ylim([-1,30])\n",
    "plt.show()"
   ]
  },
  {
   "cell_type": "markdown",
   "id": "b7ec87d9-8f56-4974-a9c4-052af0fec039",
   "metadata": {},
   "source": [
    "# 4. AGN and host photometry"
   ]
  },
  {
   "cell_type": "markdown",
   "id": "6cc1a4dc-5256-48f5-a4d1-8100458c058b",
   "metadata": {},
   "source": []
  },
  {
   "cell_type": "markdown",
   "id": "2e364b4b-7cfd-4bfd-af48-8f08e0af2481",
   "metadata": {},
   "source": [
    "easier for someone to correct something i've done wrong than to tell me the right way to do it (so, try to write it up and take af irst stab at it and then ask if thats what they were going for). \n",
    "\n",
    "for DP1: here is literal interpretation of measurement (these should be short)\n",
    "\n",
    "then one for low-z galaxies and nuances of measuring photometry\n",
    "\n",
    "then one for high-z galaxies \n",
    "\n",
    "AGN: point source right in the center thats a better science case than the SN contamination one. there will be more of these and stacking doesn't take it out.\n",
    "\n",
    "can we think of a science case we would want to use galaxy photometry from a calexp? this is probably a different science case. lets exclude calexp photometry form this notebook. \n",
    "\n",
    "when you're ready for input from DM make a list of what i want help with (so Yusra can find someone for help and then help them respond to specific questions\n",
    "\n",
    "1/14/24 meeting with melissa:\n",
    "\n",
    "pull out a minimum (short) version of htis that is just hte stuff i'm sure about (descriptive) minimal on science demo. try to compare one measurement to the other (problem with truth is that people may remember forever that cmodel is best however it could just be that cmodel recovered with cmodel performed well.\n",
    "\n",
    "find a galaxy and show difference size of apertures on there as a demo. upper undergrad level. \n",
    "\n",
    "we are def going to have object catalogs for DP1 so we will need a tutorial for that. \n",
    "\n",
    "have shenming review (does weak lensing and. first talk to melissa to let her know then she will see hwat shenming is up to."
   ]
  }
 ],
 "metadata": {
  "kernelspec": {
   "display_name": "LSST",
   "language": "python",
   "name": "lsst"
  },
  "language_info": {
   "codemirror_mode": {
    "name": "ipython",
    "version": 3
   },
   "file_extension": ".py",
   "mimetype": "text/x-python",
   "name": "python",
   "nbconvert_exporter": "python",
   "pygments_lexer": "ipython3",
   "version": "3.11.9"
  },
  "toc-autonumbering": false
 },
 "nbformat": 4,
 "nbformat_minor": 5
}
