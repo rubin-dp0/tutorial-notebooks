{
 "cells": [
  {
   "cell_type": "markdown",
   "id": "749b0ddf",
   "metadata": {
    "tags": []
   },
   "source": [
    "# DP0.2 Notebook 16 Galaxy Photometry\n",
    "\n",
    "<img align=\"left\" src = https://project.lsst.org/sites/default/files/Rubin-O-Logo_0.png width=250 style=\"padding: 10px\" alt=\"Rubin Observatory logo, a graphical representation of turning stars into data.\">\n",
    "<br>\n",
    "Contact author(s): <i>Christina Williams</i> <br>\n",
    "Last verified to run: <i>2024-01-10</i> <br>\n",
    "LSST Science Pipelines version: Weekly <i>2024_24</i> <br>\n",
    "Container Size: <i>medium</i> <br>\n",
    "Targeted learning level: <i>beginner</i> <br>"
   ]
  },
  {
   "cell_type": "code",
   "execution_count": null,
   "id": "7acc79a4-8530-42d9-96e5-b7acb4397864",
   "metadata": {},
   "outputs": [],
   "source": [
    "#%load_ext pycodestyle_magic\n",
    "#%flake8_on\n",
    "#import logging\n",
    "#logging.getLogger(\"flake8\").setLevel(logging.FATAL)"
   ]
  },
  {
   "cell_type": "markdown",
   "id": "2963cbac-4ecd-4694-bea3-c111f527e51b",
   "metadata": {},
   "source": [
    "**Description:** Explore the available measurements of galaxy photometry produced by the LSST pipelines and their applications."
   ]
  },
  {
   "cell_type": "markdown",
   "id": "80a0baf5-51ad-40ec-8991-060a7b27c289",
   "metadata": {},
   "source": [
    "**Skills:** Basic understanding of photometric measurement methods typically used to characterize galaxies."
   ]
  },
  {
   "cell_type": "markdown",
   "id": "393da88f-7978-4920-aa4a-a9830df6eed9",
   "metadata": {},
   "source": [
    "**LSST Data Products:** objectTable"
   ]
  },
  {
   "cell_type": "markdown",
   "id": "5c67fab9-136a-4adc-bb42-142b91ab69dd",
   "metadata": {},
   "source": [
    "**Packages:** No new LSST packages are introduced here. The notebook will make use of the TAP service from the `lsst.rsp` package."
   ]
  },
  {
   "cell_type": "markdown",
   "id": "8f72b27f",
   "metadata": {},
   "source": [
    "**Credit:**\n",
    "\"This notebook benefitted from earlier exploration of simulated data and notebook development by Melissa Graham and Dan Taranu. _E.g., \"Originally developed by\" or \"Based on notebooks developed by\" and then people's names, including journal article or software release citations if appropriate._\n",
    "Please consider acknowledging them if this notebook is used for the preparation of journal articles, software releases, or other notebooks."
   ]
  },
  {
   "cell_type": "markdown",
   "id": "28e91cbf-ab7f-4e26-9276-b00299d6065e",
   "metadata": {},
   "source": [
    "**Get Support:**\n",
    "Find DP0-related documentation and resources at <a href=\"https://dp0.lsst.io\">dp0.lsst.io</a>.\n",
    "Questions are welcome as new topics in the \n",
    "<a href=\"https://community.lsst.org/c/support/dp0\">Support - Data Preview 0 Category</a> \n",
    "of the Rubin Community Forum. \n",
    "Rubin staff will respond to all questions posted there."
   ]
  },
  {
   "cell_type": "markdown",
   "id": "cfc73be0",
   "metadata": {},
   "source": [
    "## 1. Introduction\n",
    "\n",
    "This notebook will teach the user about the automated photometry measurements that are measured on the deepCoadd images and appear in the Object Catalog as part of the LSST pipelines data products. The focus will be on galaxies (and thus is distinct from the demonstrations in Tutorial Notebook 12a/b about the PSF photometry (CHECK/LINK). \n"
   ]
  },
  {
   "cell_type": "markdown",
   "id": "7eb3ba1f-659f-4cb0-acad-52690f60a485",
   "metadata": {
    "execution": {
     "iopub.execute_input": "2024-12-02T22:37:09.704845Z",
     "iopub.status.busy": "2024-12-02T22:37:09.704072Z",
     "iopub.status.idle": "2024-12-02T22:37:10.367698Z",
     "shell.execute_reply": "2024-12-02T22:37:10.366983Z",
     "shell.execute_reply.started": "2024-12-02T22:37:09.704824Z"
    }
   },
   "source": [
    "### 1.1 Types of photometry measurements that exist in the Object Table\n",
    "\n",
    "Schema for the object catalog for DP0.2: https://dm.lsst.org/sdm_schemas/browser/dp02.html#Object\n",
    "\n",
    "Numerous photometry measurements are produced by the LSST Pipelines. Two types of photometry are there: The first are total fluxes are those that integrate the total light coming from objects, corrected for loss due to the blurring effects of PSF or seeing, including \"Composite Model\" (`cModel`) fluxes and \"Kron Fluxes\". The second category characterize the relative brightness of objects for specific regions of objects (i.e. are not corrected to be total fluxes) but can be useful for measuring accurate light profiles or accurate colors.\n",
    "\n",
    "### 1.1.1 Total fluxes\n",
    "\n",
    "#### Kron fluxes\n",
    "\n",
    "A decent summary of Kron fluxes <a href=\"https://ned.ipac.caltech.edu/level5/March05/Graham/Graham2_6.html\">in the NED documentation</a>.\n",
    "\n",
    "```\n",
    "<f>_kronFlux      : Flux from Kron Flux algorithm. Measured on <f> g-band.\n",
    "<f>_kronFluxErr   : Uncertainty of <f>_kronFlux.\n",
    "<f>_kronFlux_flag : Failure flag for <f>_kronFlux.\n",
    "```\n",
    "\n",
    "The Kron radius, `<f>_kronRad`, is also available.\n",
    "\n",
    "\n",
    "#### Composite Model (CModel) fluxes\n",
    "\n",
    "Similar in nature to those measured for SDSS: \n",
    "https://www.sdss3.org/dr8/algorithms/magnitudes.php#cmodel\n",
    "\n",
    "In short, it is the linear combination of the best fit exponential and de Vaucouleurs profiles.\n",
    "\n",
    "```\n",
    "<f>_cModelFlux    :\tFlux from the final cmodel fit. Forced on <f>-band.\n",
    "<f>_cModelFluxErr : Uncertainty of <f>_cModelFlux\n",
    "<f>_cModel_flag   : Failure flag for <f>_cModelFlux\n",
    "```\n",
    "\n",
    "Fluxes fit to the individual model components.\n",
    "\n",
    "```\n",
    "<f>_bdFluxB    : Flux from the de Vaucouleurs fit. Measured on <f>-band.\n",
    "<f>_bdFluxD    : Flux from the exponential fit. Measured on <f>-band.\n",
    "<f>_bdFluxBErr : Uncertainty of <f>_bdFluxB\n",
    "<f>_bdFluxDErr : Uncertainty of <f>_bdFluxD\n",
    "```\n",
    "\n",
    "The fit sizes are also available (half-light radii, ellipse axes).\n",
    "\n",
    "### 1.1.2 Regional fluxes\n",
    "\n",
    "#### Aperture fluxes\n",
    "This contains the enclosed flux inside a given aperture (these are raw fluxes, meaning, they are not corrected to total fluxes using an aperture correction that accounts for the flux falling outside the aperture using the PSF). Fixed aperture diameter size in pixels.\n",
    "\n",
    "```\n",
    "<f>_ap<pix>Flux     : Flux within <pix>-pixel aperture. Forced on <f>-band.\n",
    "<f>_ap<pix>FluxErr  : Uncertainty of <f>_ap<pix>Flux.\n",
    "<f>_ap<pix>FluxFlag : Failure flag for <f>_ap<pix>Flux.\n",
    "```\n",
    "\n",
    "For DP0.2, the apertures are 3, 6, 9, 12, 17, 25, 35, 50, and 70 pixels.\n",
    "\n",
    "In the column name, apertures are `03`, `06`, `09`, `12`, and so on.\n",
    "\n",
    "#### GaaP fluxes\n",
    "\n",
    "These are the Gaussian-aperture-and-PSF flux from <a href=\"https://ui.adsabs.harvard.edu/abs/2008A%26A...482.1053K/abstract\">Kuijken et al. 2008</a>. The main goal of this method is to measure accurate colors while accounting for the different spatial resolution between filters. This is sometimes done by convolving all images to the largest PSF, but this process is computationally very time consuming for large images. It is not a measure of total flux in a filter. For photometric redshifts, since accurate colors are important, it is the GaaP fluxes that should be used. Several apertures are available (TBD: what is optimal aperture based on?)\n",
    "\n",
    "**Optimal**\n",
    "\n",
    "```\n",
    "<f>_gaapOptimalFlux    : GaaP flux with optimal aperture after multiplying the seeing by 1.15. Forced on <f>-band.\n",
    "<f>_gaapOptimalFluxErr : Uncertainty of <f>_gaapOptimalFlux.\n",
    "```\n",
    "\n",
    "**PSF**\n",
    "\n",
    "```\n",
    "<f>_gaapPsfFlux    : GaaP flux with PSF aperture after multiplying the seeing by 1.15. Forced on <f>-band.\n",
    "<f>_gaapPsfFluxErr : Uncertainty of <f>_gaapPsfFlux.\n",
    "```\n",
    "\n",
    "**Aperture**\n",
    "\n",
    "```\n",
    "<f>_gaap<ap>Flux    : GaaP flux with <ap> aperture after multiplying the seeing by 1.15. Forced on <f>-band.\n",
    "<f>_gaap<ap>FluxErr : Uncertainty of <f>_gaap<ap>Flux.\n",
    "```\n",
    "\n",
    "Where the apertures are 0.5, 0.7, 1.0, 1.5, 2.5, and 3.0.\n",
    "In the column name `<ap>` appears as `0p5`, `0p7`, etc.\n",
    "\n",
    "\n",
    "#### PSF fluxes\n",
    "\n",
    "Fluxes derived using the model point-spread function (PSF) of the image. Since PSF fluxes are designed for unresolved sources (not the majority of galaxies) this notebook will not explore science applications for this type of photometry. Interested users can find more information in the PSF Tutorial notebooks <a href=\"https://dp0-2.lsst.io/_static/nb_html/DP02_12a_PSF_Data_Products.html\">12a</a> and <a href=\"https://dp0-2.lsst.io/_static/nb_html/DP02_12b_PSF_Science_Demo.html\">12b</a>.\n",
    "\n",
    "```\n",
    "<f>_psfFlux      : Flux derived from linear least-squares fit of PSF model. Forced on <f>-band.\n",
    "<f>_psfFluxErr   : Uncertainty of <f>_psfFlux.\n",
    "<f>_psfFlux_flag : Failure flag for <f>_psfFlux.\n",
    "\n",
    "```\n"
   ]
  },
  {
   "cell_type": "markdown",
   "id": "dc36f107",
   "metadata": {},
   "source": [
    "### 1.2 Import packages\n"
   ]
  },
  {
   "cell_type": "markdown",
   "id": "ccb4fe61-835a-47ac-a691-e086ce766e79",
   "metadata": {},
   "source": [
    "`numpy` is a fundamental package for scientific computing with arrays in Python\n",
    "(<a href=\"https://numpy.org\">numpy.org</a>).\n",
    "\n",
    "`matplotlib` is a comprehensive library for creating static, animated, and\n",
    "interactive visualizations in Python \n",
    "(<a href=\"https://matplotlib.org/\">matplotlib.org</a>; \n",
    "<a href=\"https://matplotlib.org/stable/gallery/index.html\">matplotlib gallery</a>).\n",
    "\n",
    "From the `lsst` package, modules for accessing the TAP service, the butler, and image display functions are imported (<a href=\"https://pipelines.lsst.io/\">pipelines.lsst.io</a>)."
   ]
  },
  {
   "cell_type": "code",
   "execution_count": null,
   "id": "2dbc75bd-a802-4576-8628-4e0088942303",
   "metadata": {},
   "outputs": [],
   "source": [
    "import matplotlib.pyplot as plt\n",
    "#from astropy.wcs import WCS\n",
    "#from astropy.visualization import make_lupton_rgb\n",
    "from astropy import units as u\n",
    "from astropy.coordinates import SkyCoord\n",
    "import gc\n",
    "import numpy as np\n",
    "import sys\n",
    "\n",
    "#import lsst.afw.display as afwDisplay\n",
    "#from lsst.afw.image import MultibandExposure\n",
    "#from lsst.daf.butler import Butler\n",
    "from lsst.rsp import get_tap_service\n",
    "#import lsst.geom as geom\n",
    "\n",
    "from scipy import stats#.binned_statistic\n",
    "from scipy.stats import sigmaclip\n"
   ]
  },
  {
   "cell_type": "markdown",
   "id": "c217adff-25ed-4fce-95e7-8aa04630f6cc",
   "metadata": {},
   "source": [
    "### 1.3 Define functions and parameters\n",
    "\n",
    "_TBD if we can remove this_\n",
    "\n",
    "_It is OK to rename the subsection to be more specific to the notebook, and/or to use sub-sub-sections like \"1.2.1 Define global cosmological parameter values\" or \"1.2.2 Define a function to make an image cutout\"._\n",
    "\n",
    "_It is OK to remove this sub-section if it is not being used._"
   ]
  },
  {
   "cell_type": "code",
   "execution_count": null,
   "id": "0d2ecffa-a837-4d10-be95-616c95fda15f",
   "metadata": {},
   "outputs": [],
   "source": [
    "plt.style.use('tableau-colorblind10')\n",
    "#afwDisplay.setDefaultBackend('matplotlib')"
   ]
  },
  {
   "cell_type": "markdown",
   "id": "ec51ac0b",
   "metadata": {
    "tags": []
   },
   "source": [
    "## 2. Integrated photometry of galaxies using the LSST pipeline\n",
    "\n",
    "This section will explore the total, integrated photometry measurements, and provide some guidance for which are optimal for certain science applications using galaxies. \n"
   ]
  },
  {
   "cell_type": "markdown",
   "id": "45c86ed0-aebe-4d74-af42-619c0f6b0705",
   "metadata": {},
   "source": [
    "### 2.1 Initialize the TAP service"
   ]
  },
  {
   "cell_type": "code",
   "execution_count": null,
   "id": "4fabe755-cb34-4d50-bbbc-99d8db7980c4",
   "metadata": {},
   "outputs": [],
   "source": [
    "service = get_tap_service(\"tap\")"
   ]
  },
  {
   "cell_type": "markdown",
   "id": "9547e659-fd0e-432c-af25-968cc9ebea9d",
   "metadata": {},
   "source": [
    "### 2.2 Object table photometry measurements\n",
    "\n",
    "First see what is available in the object catalog by querying the tap_schema columns, and printing all the parameters available related to \"Flux\" measured in the i-band (as an example). The return shows also errors and flags associated with the photometric measurements outlined in section 1.1. "
   ]
  },
  {
   "cell_type": "code",
   "execution_count": null,
   "id": "999d12f2-b84b-4a80-a7fd-f7f111674470",
   "metadata": {},
   "outputs": [],
   "source": [
    "query = \"SELECT column_name, datatype, description, unit \" \\\n",
    "        \"FROM tap_schema.columns \" \\\n",
    "        \"WHERE table_name = 'dp02_dc2_catalogs.Object'\"\n",
    "\n",
    "results = service.search(query).to_table()"
   ]
  },
  {
   "cell_type": "code",
   "execution_count": null,
   "id": "3c0a793b-f6b1-4e39-99a2-1fd5b26fe4ae",
   "metadata": {},
   "outputs": [],
   "source": [
    "search_string = 'Flux'\n",
    "band = 'i_'\n",
    "for cname in results['column_name']:\n",
    "    if (cname.find(search_string) > -1) and (cname.find(band) > -1):\n",
    "        print(cname)"
   ]
  },
  {
   "cell_type": "markdown",
   "id": "ff2fc2b3-fb3b-4d92-a325-ace4dfa059dc",
   "metadata": {},
   "source": [
    "### 2.3 Compare (total) simulated photometry measured with the LSST pipelines to their input values\n",
    "\n",
    "The following cells will query the truth tables to get the input fluxes in the DP0.2 simulated objects, matched to those measured from the simulated images using the LSST pipelines. This comparison provides a sense of how good the various photometry measurement methods are by comparing input flux to measured flux. This provides some insight into what regimes they may perform well vs poorly.\n",
    "\n",
    "The below cells query the truth values for i-band mag, measured i-band mag values from the catalog, and a number of flags that are relevant to the quality of the galaxy photometric measurements. Specifically, request `fromBlend`, `detect_isIsolated`, and `i_blendedness` which will indicate how much blending may have occurred, how large the galaxies are, to help provide insight in cases of catastrophic outliers.\n",
    "\n",
    "Further, to ensure good measurements, restrict to objects which are detected at S/N > 5 and where `detect_isPrimary` is true, to ensure unique objects are returned (for more information on the use of the `detect_isPrimary` flag, see <a href=\"https://dp0-2.lsst.io/_static/nb_html/DP02_10_Deblender_Data_Products.html\">Tutorial Notebook 10</a> about deblender data products. Also, set the condition that `i_extendedness` = 1 in order to return a population of galaxies (i.e. remove stars as point sources). To expedite the search we will limit to a 0.1 degree region on the sky."
   ]
  },
  {
   "cell_type": "code",
   "execution_count": null,
   "id": "0d28a6ad-4436-410c-9b9d-e995140be304",
   "metadata": {},
   "outputs": [],
   "source": [
    "query = \"SELECT mt.id_truth_type, mt.match_objectId, ts.ra, ts.dec, ts.truth_type, ts.flux_i, ts.redshift, \"\\\n",
    "        \"obj.coord_ra, obj.coord_dec, obj.detect_fromBlend, obj.detect_isIsolated, obj.i_blendedness_flag, obj.i_blendedness, obj.i_extendedness, \"\\\n",
    "        \"obj.i_kronFlux, obj.i_kronFluxErr, obj.i_kronRad, obj.i_kronFlux_flag, obj.i_cModelFlux, obj.i_gaapOptimalFlux \" + \\\n",
    "        \"FROM dp02_dc2_catalogs.MatchesTruth AS mt \"\\\n",
    "        \"JOIN dp02_dc2_catalogs.TruthSummary AS ts ON mt.id_truth_type = ts.id_truth_type \"\\\n",
    "        \"JOIN dp02_dc2_catalogs.Object AS obj ON mt.match_objectId = obj.objectId \"\\\n",
    "        \"WHERE (obj.detect_isPrimary = 1) AND (obj.i_kronFlux/obj.i_kronFluxErr > 10) AND (obj.i_extendedness = 1) AND \"\\\n",
    "        \"CONTAINS(POINT('ICRS', obj.coord_ra, obj.coord_dec), CIRCLE('ICRS', 62.0, -37.0, 0.20)) = 1 \""
   ]
  },
  {
   "cell_type": "code",
   "execution_count": null,
   "id": "1b10f993-c750-49a3-82c0-1c5a5112884a",
   "metadata": {},
   "outputs": [],
   "source": [
    "job = service.submit_job(query)\n",
    "job.run()\n",
    "job.wait(phases=['COMPLETED', 'ERROR'])\n",
    "print('Job phase is', job.phase)"
   ]
  },
  {
   "cell_type": "markdown",
   "id": "80ebe401-5124-40f1-8806-fa86850c75f4",
   "metadata": {},
   "source": [
    "Print the results of the search query."
   ]
  },
  {
   "cell_type": "code",
   "execution_count": null,
   "id": "6b0938c2-0724-459c-b560-56e0b4f2a330",
   "metadata": {},
   "outputs": [],
   "source": [
    "results = job.fetch_result()\n",
    "print(len(results))\n",
    "tab = results.to_table()\n",
    "tab"
   ]
  },
  {
   "cell_type": "markdown",
   "id": "1d22c355-0953-46e7-8e40-6614f088c607",
   "metadata": {},
   "source": [
    "### 2.4 Exploring the input vs output photometry\n",
    "\n",
    "This section will explore 3 photometric measurements that are relevant for galaxies: cModel, Kron and GaaP (as defined in Section 2.1). \n",
    "\n",
    "First, store the AB magnitudes to go with the fluxes extracted from the objectTable."
   ]
  },
  {
   "cell_type": "code",
   "execution_count": null,
   "id": "7a8000f6-a914-4073-8130-67d912f52b09",
   "metadata": {},
   "outputs": [],
   "source": [
    "truth_mag =  -2.50 * np.log10(tab['flux_i']) + 31.4\n",
    "\n",
    "cmodel_mag = -2.50 * np.log10(tab['i_cModelFlux']) + 31.4\n",
    "kron_mag = -2.50 * np.log10(tab['i_kronFlux']) + 31.4\n",
    "gaap_mag = -2.50 * np.log10(tab['i_gaapOptimalFlux']) + 31.4\n"
   ]
  },
  {
   "cell_type": "markdown",
   "id": "4f28e9cf-fd39-4281-8c56-e4f1040475df",
   "metadata": {},
   "source": [
    "The next cell will compare the percent difference between the three different photometric measurements with the input (truth). Additionally a running median is calculated to help interpret the typical accuracy of the different methods. The median has the best overall percent accuracy for cModel. Additionally, the Gaussian and PSF photometry is highly inaccurate, as explained in Section 1.1 this is not meant to measure the total flux of galaxies, but rather to measure accurate colors using a sub-region of each galaxy. Deviation from truth for this measurement is thus expected."
   ]
  },
  {
   "cell_type": "code",
   "execution_count": null,
   "id": "14124486-2f17-4fc2-8b17-ff62e91028e3",
   "metadata": {},
   "outputs": [],
   "source": [
    "fig, ax = plt.subplots()\n",
    "\n",
    "ax.plot(truth_mag, (tab['i_cModelFlux']-tab['flux_i'])/tab['flux_i'] * 100,'.',alpha=.1,label='cModel',color='r')\n",
    "ax.plot(truth_mag, (tab['i_kronFlux']-tab['flux_i'])/tab['flux_i'] * 100,'.',alpha=.1,label='Kron',color='blue')\n",
    "ax.plot(truth_mag, (tab['i_gaapOptimalFlux']-tab['flux_i'])/tab['flux_i'] * 100,'.',alpha=.1, label='gaapOptimal',color='green')\n",
    "\n",
    "x = truth_mag\n",
    "y = (tab['i_cModelFlux']-tab['flux_i'])/tab['flux_i'] *100\n",
    "bins=np.arange(16,27,1)\n",
    "bin_means, bin_edges, binnumber = stats.binned_statistic(x,\n",
    "             y, statistic='median', bins=bins)\n",
    "binctr = bin_edges[:-1] + (bin_edges[1:]-bin_edges[:-1])/2\n",
    "plt.plot(binctr, bin_means, color='red', lw=2, label='cModel bin median',zorder=10)\n",
    "\n",
    "y = (tab['i_kronFlux']-tab['flux_i'])/tab['flux_i'] *100\n",
    "bin_means, bin_edges, binnumber = stats.binned_statistic(x,\n",
    "             y, statistic='median', bins=bins)\n",
    "binctr = bin_edges[:-1] + (bin_edges[1:]-bin_edges[:-1])/2\n",
    "plt.plot(binctr, bin_means, color='blue', lw=2, label='kron bin median',zorder=10)\n",
    "\n",
    "y = (tab['i_gaapOptimalFlux']-tab['flux_i'])/tab['flux_i'] * 100\n",
    "bin_means, bin_edges, binnumber = stats.binned_statistic(x,\n",
    "             y, statistic='median', bins=bins)\n",
    "binctr = bin_edges[:-1] + (bin_edges[1:]-bin_edges[:-1])/2\n",
    "plt.plot(binctr, bin_means, color='green', lw=2, label='GaaP Optimal bin median',zorder=10)#,color='green')\n",
    "\n",
    "ax.axhline(0,linestyle='--')\n",
    "ax.set_xlabel('True i-band Magnitude')\n",
    "ax.set_ylabel('Flux Percent Accuracy (F$_{obs}$ - F$_{true}$) / F$_{true}$ x 100%')\n",
    "ax.set_ylim([-100,100])\n",
    "ax.set_xlim([14,27])\n",
    "plt.legend()\n"
   ]
  },
  {
   "cell_type": "markdown",
   "id": "0d55a187-ccc9-4975-9868-a716e1106559",
   "metadata": {},
   "source": [
    "Below, take a closer look at the differences in AB magnitude and how the overall distributions compare. While the systematic offset of GaaP is clear, the medians of Kron and cModel both compare well. These two plots indicate that there is excellent agreement between the cModel measurements and the input, at the level of < 0.03 magnitude at ABmag of < 25. Kron is also adequate overall, although at intermediate magnitudes (ABmag ~ 18-22) exhibits a slight underestimate of flux (overestimate in magnitude of order 0.1-0.2).  \n",
    "\n",
    "Note that the input light profiles of simulated galaxies in DP0.2 are sersic profiles; thus it is perhaps not unexpected that modeling the light as sersic profiles by the LSST pipelines to produce cModel fluxes would perform the best."
   ]
  },
  {
   "cell_type": "code",
   "execution_count": null,
   "id": "8bbb1505-5e91-49d2-b94e-045ff9f482e2",
   "metadata": {},
   "outputs": [],
   "source": [
    "fig, (ax, ax2) = plt.subplots(ncols=2, nrows=1, width_ratios=[0.8, 0.2], figsize=(10, 6))\n",
    "ylims = [-1.2,1.2]\n",
    "\n",
    "ax.plot(truth_mag, (kron_mag-truth_mag),'.',alpha=.1,label='Kron',color='blue')\n",
    "ax.plot(truth_mag, (gaap_mag-truth_mag),'.',alpha=.1, label='gaapOptimal',color='green')\n",
    "ax.plot(truth_mag, (cmodel_mag-truth_mag),'.',alpha=.1,label='cModel',color='r')\n",
    "\n",
    "ax2.hist((kron_mag-truth_mag),edgecolor='blue',orientation=\"horizontal\", bins=np.linspace(ylims[0], ylims[1], 40),align='mid',histtype=\"step\",stacked=True,fill=False)\n",
    "ax2.hist((gaap_mag-truth_mag),edgecolor='green',orientation=\"horizontal\", bins=np.linspace(ylims[0], ylims[1], 40),align='mid',histtype=\"step\",stacked=True,fill=False)\n",
    "ax2.hist((cmodel_mag-truth_mag),edgecolor='red',orientation=\"horizontal\", bins=np.linspace(ylims[0], ylims[1], 40),align='mid',histtype=\"step\",stacked=True,fill=False)\n",
    "ax2.axhline(0,linestyle='--')\n",
    "\n",
    "x = truth_mag\n",
    "y = (cmodel_mag-truth_mag)\n",
    "\n",
    "bin_means, bin_edges, binnumber = stats.binned_statistic(x,\n",
    "             y, statistic='median', bins=bins)\n",
    "binctr = bin_edges[:-1] + (bin_edges[1:]-bin_edges[:-1])/2\n",
    "ax.plot(binctr, bin_means, color='red', lw=2, label='cModel bin median',zorder=10)\n",
    "for i in range(len(bin_means)):\n",
    "    print(binctr[i],bin_means[i],'cModel')\n",
    "\n",
    "    \n",
    "y = (kron_mag-truth_mag)\n",
    "bin_means, bin_edges, binnumber = stats.binned_statistic(x,\n",
    "             y, statistic='median', bins=bins)\n",
    "binctr = bin_edges[:-1] + (bin_edges[1:]-bin_edges[:-1])/2\n",
    "ax.plot(binctr, bin_means, color='blue', lw=2, label='kron bin median',zorder=10)\n",
    "for i in range(len(bin_means)):\n",
    "    print(binctr[i],bin_means[i],'kron')\n",
    "\n",
    "y = (gaap_mag-truth_mag)\n",
    "bin_means, bin_edges, binnumber = stats.binned_statistic(x,\n",
    "             y, statistic='median', bins=bins)\n",
    "binctr = bin_edges[:-1] + (bin_edges[1:]-bin_edges[:-1])/2\n",
    "ax.plot(binctr, bin_means, color='green', lw=2, label='GaaP Optimal bin median',zorder=10)#,color='green')\n",
    "\n",
    "ax.axhline(0,linestyle='--')\n",
    "ax.set_xlabel('True i-band Magnitude')\n",
    "ax.set_ylabel('Magnitude difference (M$_{obs}$ - M$_{true}$)')\n",
    "ax.set_xlim([14,27])\n",
    "ax.set_ylim(ylims)\n",
    "ax.legend()\n"
   ]
  },
  {
   "cell_type": "markdown",
   "id": "8a3c30b3-721e-4cbc-abfd-8d4c9b216de8",
   "metadata": {},
   "source": [
    "The next cells will explore and compare the Kron magnitudes to truth under various circumstances. 2 basic paramters are set: extendedness = 1 means the source is a galaxy; kronFlag = 0 identifies galaxies for which there were no problems flagged in the Kron flux measurement. \n",
    "\n",
    "Test whether the following blending parameters indicate that blending contributes to the inaccurate measurement of the photometry:\n",
    "\n",
    "1) detect_fromBlend = 1 means some deblending happened prior to flux measurement. This is responsible for some under-estimated magnitude (over-estimated flux) perhaps because neighbors were not removed at the bright end?\n",
    "\n",
    "2) The increased scatter at faint magnitudes is due to increased fraction of flux contaminated by neighbors i_blendedness: (1 - child_flux/parent_flux)\n",
    "   \n",
    "3) detect_isIsolated = 1 means no deblending and the galaxy has no blended neighbors. The upturn at bright mags is not there among isolated galaxies\n",
    "\n",
    "4) Not sure i understand the tail to negative flux difference (i.e. underestimated flux) at bright mags"
   ]
  },
  {
   "cell_type": "code",
   "execution_count": null,
   "id": "3f5073a8-7c3d-4361-92b7-e1fa05c5dcde",
   "metadata": {},
   "outputs": [],
   "source": [
    "# here add a second set of panels to try to understand the small bias at bright end of kron (is it kron radius-dependent? since its not deblending dependent?\n",
    "\n",
    "\n",
    "fig,(ax, ax2) = plt.subplots(1, 2,figsize=(12,5))\n",
    "#whblend = np.where( tab['detect_fromBlend'][whbright] == False)[0]\n",
    "\n",
    "# Pick things where there was no flagged error in the Kron meausrement, and things that are extended (i.e. galaxies)\n",
    "\n",
    "# Remove i_extendedness, you put it directly into the query instead\n",
    "\n",
    "whgood = np.where((tab['i_kronFlux_flag'] == 0) & ( tab['detect_fromBlend'] == 1))[0]\n",
    "\n",
    "cmap = tab['i_blendedness'][whgood] #only saw things blended with 1 neighbor is this acutally boolean?\n",
    "vmax = 0.2\n",
    "colmaplabel='Fraction of flux contaminated by neighbors'\n",
    "#cmap = tab['i_kronRad'][whgood]\n",
    "#vmax = 20\n",
    "#colmaplabel='Kron Radius [pixels]'\n",
    "\n",
    "#ax.scatter(truth_mag,(kron_mag-truth_mag)/truth_mag,color='k', marker='.', alpha=.5)#,vmin=0,vmax=20)\n",
    "im = ax.scatter(truth_mag[whgood],(kron_mag[whgood]-truth_mag[whgood]),c=cmap, marker='.', alpha=.5,vmin=0,vmax=vmax,label='fromBlend')\n",
    "ax.axhline(scale,linestyle='--')\n",
    "ax.set_title('Kron Photometry')\n",
    "\n",
    "ax.set_xlabel('truth AB Magnitude [i-band]')\n",
    "ax.set_ylabel('Mag Percent Accuracy (M$_{obs}$ - M$_{true}$) ')\n",
    "ax.set_xlim([16,26])\n",
    "ax.set_ylim([-1,1])\n",
    "ax.legend()\n",
    "\n",
    "whgood = np.where((tab['i_kronFlux_flag'] == 0) & (tab['i_extendedness'] == 1) & (tab['detect_isIsolated'] == 1) )[0]\n",
    "#cmap = tab['i_kronRad'][whgood] #tab['i_blendedness'][whgood] # #tab['i_blendedness'][whgood] #\n",
    "cmap = tab['i_blendedness'][whgood]\n",
    "\n",
    "#ax2.scatter(truth_mag,(kron_mag-truth_mag)/truth_mag,color='k', marker='.', alpha=.5)#,vmin=0,vmax=20)\n",
    "ax2.scatter(truth_mag[whgood],(kron_mag[whgood]-truth_mag[whgood]),c=cmap, marker='.', alpha=.5,vmin=0,vmax=vmax,label='isIsolated')\n",
    "print(len(whgood))\n",
    "ax2.set_xlabel('truth AB Magnitude [i-band]')\n",
    "#ax2.set_ylabel('Mag Accuracy (M$_{obs}$ - M$_{true}$) ')\n",
    "ax2.set_ylim([-1,1])\n",
    "ax2.set_xlim([16,26])\n",
    "ax2.legend()\n",
    "ax2.axhline(scale,linestyle='--')\n",
    "ax2.set_title('Kron Photometry')\n",
    "\n",
    "fig.subplots_adjust(right=0.8)\n",
    "cbar_ax = fig.add_axes([0.85, 0.15, 0.05, 0.7])\n",
    "fig.colorbar(im, cax=cbar_ax,label=colmaplabel)\n"
   ]
  },
  {
   "cell_type": "code",
   "execution_count": null,
   "id": "1e525f6f-5521-4a67-9abb-b96e4a198043",
   "metadata": {},
   "outputs": [],
   "source": [
    "# the following plots are identical, consider a different comparison that is informative\n",
    "\n",
    "\n",
    "fig,(ax, ax2) = plt.subplots(1, 2,figsize=(12,5))\n",
    "#whblend = np.where( tab['detect_fromBlend'][whbright] == False)[0]\n",
    "\n",
    "# Pick things where there was no flagged error in the Kron meausrement, and things that are extended (i.e. galaxies)\n",
    "\n",
    "whgood = np.where((tab['i_kronFlux_flag'] == 0) & ( tab['detect_fromBlend'] == 1))[0]\n",
    "\n",
    "cmap = tab['i_blendedness'][whgood] #only saw things blended with 1 neighbor is this acutally boolean?\n",
    "vmax = 1\n",
    "colmaplabel='Fraction of flux contaminated by neighbors'\n",
    "\n",
    "#cmap = tab['i_kronRad'][whgood]\n",
    "#vmax = 20\n",
    "#colmaplabel='Kron Radius [pixels]'\n",
    "\n",
    "#ax.scatter(truth_mag,(cmodel_mag-truth_mag)/truth_mag,color='k', marker='.', alpha=.5)#,vmin=0,vmax=20)\n",
    "im = ax.scatter(truth_mag[whgood],(cmodel_mag[whgood]-truth_mag[whgood]),c=cmap, marker='.', alpha=.5,vmin=0,vmax=vmax,label='fromBlend')\n",
    "\n",
    "\n",
    "ax.set_xlabel('truth AB Magnitude [i-band]')\n",
    "ax.set_ylabel('Mag Fractional Accuracy (M$_{obs}$ - M$_{true}$) ')\n",
    "ax.set_ylim([-1,1])\n",
    "ax.set_xlim([16,26])\n",
    "ax.axhline(scale,linestyle='--')\n",
    "ax.set_title('cModel Photometry')\n",
    "ax.legend()\n",
    "#cmap = tab['i_kronRad'][whgood] #tab['i_blendedness'][whgood] # #tab['i_blendedness'][whgood] #\n",
    "whgood = np.where((tab['i_kronFlux_flag'] == 0) & (tab['i_extendedness'] == 1) & (tab['detect_isIsolated'] == 1) )[0]\n",
    "cmap = tab['i_blendedness'][whgood]\n",
    "\n",
    "#ax2.scatter(truth_mag,(cmodel_mag-truth_mag),color='k', marker='.', alpha=.5)#,vmin=0,vmax=20)\n",
    "ax2.scatter(truth_mag[whgood],(cmodel_mag[whgood]-truth_mag[whgood]),c=cmap, marker='.', alpha=.5,vmin=0,vmax=vmax,label='isIsolated')\n",
    "ax2.set_xlabel('truth AB Magnitude [i-band]')\n",
    "#ax2.set_ylabel('Mag Accuracy (M$_{obs}$ - M$_{true}$) /  M$_{true}$')\n",
    "#ax2.set_ylim([-1.5,1.5])\n",
    "ax2.set_ylim([-1,1])\n",
    "ax2.set_xlim([16,26])\n",
    "ax2.axhline(scale,linestyle='--')\n",
    "print(len(whgood))\n",
    "\n",
    "fig.subplots_adjust(right=0.8)\n",
    "cbar_ax = fig.add_axes([0.85, 0.15, 0.05, 0.7])\n",
    "fig.colorbar(im, cax=cbar_ax,label=colmaplabel)\n",
    "\n",
    "ax2.set_title('cModel Photometry')\n",
    "ax2.legend()"
   ]
  },
  {
   "cell_type": "markdown",
   "id": "b16c2ecf-c99e-4b30-8d0c-1655c1cb7f92",
   "metadata": {},
   "source": [
    "### 2.5 Integrated photometry for high-redshift galaxies"
   ]
  },
  {
   "cell_type": "code",
   "execution_count": null,
   "id": "09d48509-bf5d-4e1b-a136-2c0bb4c03084",
   "metadata": {},
   "outputs": [],
   "source": [
    "# perhaps move this to the redshift section 3\n",
    "\n",
    "zlim = 0.5\n",
    "whz = np.where(results['redshift'] < zlim)[0]\n",
    "whighz = np.where(results['redshift'] > zlim)[0]\n",
    "\n",
    "fig,(ax, ax2) = plt.subplots(1, 2,figsize=(10,5))\n",
    "\n",
    "ax.axhline(scale,linestyle='--')\n",
    "\n",
    "ax.plot(truth_mag[whz], (kron_mag[whz]-truth_mag[whz]),'.',alpha=.1,label='Kron',color='blue')\n",
    "ax.plot(truth_mag[whz], (gaap_mag[whz]-truth_mag[whz]),'.',alpha=.1, label='gaapOptimal',color='green')\n",
    "ax.plot(truth_mag[whz], (cmodel_mag[whz]-truth_mag[whz]),'.',alpha=.1,label='cModel',color='r')\n",
    "\n",
    "x = truth_mag[whz]\n",
    "y = (cmodel_mag[whz]-truth_mag[whz])\n",
    "bin_means, bin_edges, binnumber = stats.binned_statistic(x,\n",
    "             y, statistic='median', bins=bins)\n",
    "binctr = bin_edges[:-1] + (bin_edges[1:]-bin_edges[:-1])/2\n",
    "ax.plot(binctr, bin_means, color='red', lw=2, label='cModel bin median',zorder=10)\n",
    "\n",
    "y = (kron_mag[whz]-truth_mag[whz])\n",
    "bin_means, bin_edges, binnumber = stats.binned_statistic(x,\n",
    "             y, statistic='median', bins=bins)\n",
    "binctr = bin_edges[:-1] + (bin_edges[1:]-bin_edges[:-1])/2\n",
    "ax.plot(binctr, bin_means, color='blue', lw=2, label='kron bin median',zorder=10)\n",
    "\n",
    "y = (gaap_mag[whz]-truth_mag[whz])\n",
    "bin_means, bin_edges, binnumber = stats.binned_statistic(x,\n",
    "             y, statistic='median', bins=bins)\n",
    "binctr = bin_edges[:-1] + (bin_edges[1:]-bin_edges[:-1])/2\n",
    "ax.plot(binctr, bin_means, color='green', lw=2, label='GaaP Optimal bin median',zorder=10,linestyle='--')#,color='green')\n",
    "\n",
    "ax.set_xlabel('True i-band Magnitude')\n",
    "ax.set_ylabel('Mag Accuracy (M$_{obs}$ - M$_{true}$) ')\n",
    "#ax.set_ylim([-.2,.2])\n",
    "ax.set_title('Low redshift z<'+str(zlim))\n",
    "ax.set_ylim([-2,2])\n",
    "\n",
    "ax2.axhline(scale,linestyle='--')\n",
    "\n",
    "ax2.plot(truth_mag[whighz], (kron_mag[whighz]-truth_mag[whighz]),'.',alpha=.1,label='Kron',color='blue')\n",
    "ax2.plot(truth_mag[whighz], (gaap_mag[whighz]-truth_mag[whighz]),'.',alpha=.1, label='gaapOptimal',color='green')\n",
    "ax2.plot(truth_mag[whighz], (cmodel_mag[whighz]-truth_mag[whighz]),'.',alpha=.1,label='cModel',color='r')\n",
    "\n",
    "x = truth_mag[whighz]\n",
    "y = (cmodel_mag[whighz]-truth_mag[whighz])\n",
    "\n",
    "bin_means, bin_edges, binnumber = stats.binned_statistic(x,\n",
    "             y, statistic='median', bins=bins)\n",
    "binctr = bin_edges[:-1] + (bin_edges[1:]-bin_edges[:-1])/2\n",
    "ax2.plot(binctr, bin_means, color='red', lw=2, label='cModel bin median',zorder=10)\n",
    "\n",
    "y = (kron_mag[whighz]-truth_mag[whighz])\n",
    "bin_means, bin_edges, binnumber = stats.binned_statistic(x,\n",
    "             y, statistic='median', bins=bins)\n",
    "binctr = bin_edges[:-1] + (bin_edges[1:]-bin_edges[:-1])/2\n",
    "ax2.plot(binctr, bin_means, color='blue', lw=2, label='kron bin median',zorder=10)\n",
    "\n",
    "y = (gaap_mag[whighz]-truth_mag[whighz])\n",
    "bin_means, bin_edges, binnumber = stats.binned_statistic(x,\n",
    "             y, statistic='median', bins=bins)\n",
    "binctr = bin_edges[:-1] + (bin_edges[1:]-bin_edges[:-1])/2\n",
    "ax2.plot(binctr, bin_means, color='green', lw=2, label='GaaP Optimal bin median',zorder=10,linestyle='--')#,color='green')\n",
    "\n",
    "ax2.set_xlabel('True i-band Magnitude')\n",
    "ax2.set_ylim([-2,2])\n",
    "ax2.set_xlim([19,26])\n",
    "ax2.set_title('High redshift z>'+str(zlim))\n",
    "plt.legend()"
   ]
  },
  {
   "cell_type": "markdown",
   "id": "b6bc05d8-2f63-4b24-a123-4dd6620ac98a",
   "metadata": {},
   "source": [
    "## 3. Photometry for colors\n",
    "\n",
    "Here we show observed vs intrinsic colors to demonstrate that GaaP is good for that. Except all 3 measurements are decent and actually cModel has hte least bias (reason, and purpose of GaaP is still TBD).\n",
    "\n",
    "First, query for the photometry in g and z bands (which will have a large difference in spatial resolution given their relatively large difference wavelengths). u and y band would have an even larger wavelength baseline for comparison, but g and z have better throughput and thus S/N are typically higher. Like earlier sections, also retrieve the truth table input fluxes as a baseline for assessing accuracy in color between the different measurements."
   ]
  },
  {
   "cell_type": "code",
   "execution_count": null,
   "id": "fd7e6ebb-f348-4df9-9859-9d4febb51238",
   "metadata": {},
   "outputs": [],
   "source": [
    "query = \"SELECT mt.id_truth_type, mt.match_objectId, ts.ra, ts.dec, ts.truth_type, ts.flux_g, ts.flux_z, ts.redshift, \"\\\n",
    "        \"obj.coord_ra, obj.coord_dec, obj.detect_fromBlend, obj.detect_isIsolated, obj.i_blendedness_flag, obj.i_blendedness, obj.i_extendedness, \"\\\n",
    "        \"obj.g_kronFlux, obj.g_kronFluxErr, obj.g_kronRad, obj.g_kronFlux_flag, obj.g_cModelFlux, obj.g_gaapOptimalFlux, \" + \\\n",
    "        \"obj.z_kronFlux, obj.z_kronFluxErr, obj.z_kronRad, obj.z_kronFlux_flag, obj.z_cModelFlux, obj.z_gaapOptimalFlux \" + \\\n",
    "        \"FROM dp02_dc2_catalogs.MatchesTruth AS mt \"\\\n",
    "        \"JOIN dp02_dc2_catalogs.TruthSummary AS ts ON mt.id_truth_type = ts.id_truth_type \"\\\n",
    "        \"JOIN dp02_dc2_catalogs.Object AS obj ON mt.match_objectId = obj.objectId \"\\\n",
    "        \"WHERE (obj.detect_isPrimary = 1) AND (obj.u_kronFlux/obj.u_kronFluxErr > 10)  AND (obj.i_extendedness = 1) AND \"\\\n",
    "        \"CONTAINS(POINT('ICRS', obj.coord_ra, obj.coord_dec), CIRCLE('ICRS', 62.0, -37.0, 0.20)) = 1 \""
   ]
  },
  {
   "cell_type": "code",
   "execution_count": null,
   "id": "baec0660-1125-43de-9f21-cc5ccef958f0",
   "metadata": {},
   "outputs": [],
   "source": [
    "job = service.submit_job(query)\n",
    "job.run()\n",
    "job.wait(phases=['COMPLETED', 'ERROR'])\n",
    "print('Job phase is', job.phase)\n",
    "\n",
    "results = job.fetch_result()\n",
    "tab = results.to_table()"
   ]
  },
  {
   "cell_type": "code",
   "execution_count": null,
   "id": "8d97291d-2043-40a6-859c-db391565a9da",
   "metadata": {},
   "outputs": [],
   "source": [
    "g_cmodel_mag = -2.50 * np.log10(tab['g_cModelFlux']) + 31.4\n",
    "g_kron_mag = -2.50 * np.log10(tab['g_kronFlux']) + 31.4\n",
    "g_gaap_mag = -2.50 * np.log10(tab['g_gaapOptimalFlux']) + 31.4\n",
    "g_truth_mag =  -2.50 * np.log10(tab['flux_g']) + 31.4\n",
    "\n",
    "z_cmodel_mag = -2.50 * np.log10(tab['z_cModelFlux']) + 31.4\n",
    "z_kron_mag = -2.50 * np.log10(tab['z_kronFlux']) + 31.4\n",
    "z_gaap_mag = -2.50 * np.log10(tab['z_gaapOptimalFlux']) + 31.4\n",
    "z_truth_mag =  -2.50 * np.log10(tab['flux_z']) + 31.4\n"
   ]
  },
  {
   "cell_type": "code",
   "execution_count": null,
   "id": "59afd145-cc34-4671-82ac-616ba6f28882",
   "metadata": {},
   "outputs": [],
   "source": [
    "# very confused about why these colors line up so perfectly when the mags do not...\n",
    "\n",
    "fig, (ax, ax2) = plt.subplots(ncols=2, nrows=1, width_ratios=[0.8, 0.2], figsize=(10, 6))\n",
    "ylims = [-0.2,0.2]\n",
    "\n",
    "truth_color = g_truth_mag - z_truth_mag\n",
    "kron_color = g_kron_mag - z_kron_mag\n",
    "cmodel_color = g_cmodel_mag - z_cmodel_mag\n",
    "gaap_color =  g_gaap_mag - z_gaap_mag\n",
    "\n",
    "ax.plot(z_kron_mag, kron_color-truth_color, '.',alpha=.5, label='Kron '+str(np.median(kron_color-truth_color)),color='b')\n",
    "ax.plot(z_cmodel_mag, cmodel_color-truth_color, '.',alpha=.5, label='cModel '+str(np.median(cmodel_color-truth_color)),color='r')\n",
    "ax.plot(z_gaap_mag, gaap_color-truth_color, '.',alpha=.5, label='GaaP optimal '+str(np.median(gaap_color-truth_color)),color='g')\n",
    "\n",
    "ax2.hist((kron_color-truth_color),edgecolor='blue',orientation=\"horizontal\", bins=np.linspace(ylims[0], ylims[1], 80),align='mid',histtype=\"step\",stacked=True,fill=False)\n",
    "ax2.hist((gaap_color-truth_color),edgecolor='green',orientation=\"horizontal\", bins=np.linspace(ylims[0], ylims[1], 80),align='mid',histtype=\"step\",stacked=True,fill=False)\n",
    "ax2.hist((cmodel_color-truth_color),edgecolor='red',orientation=\"horizontal\", bins=np.linspace(ylims[0], ylims[1], 80),align='mid',histtype=\"step\",stacked=True,fill=False)\n",
    "ax2.axhline(0,linestyle='--')\n",
    "\n",
    "\n",
    "x = np.arange(-.1,6,.1)\n",
    "#plt.plot(x,x,linestyle='--')\n",
    "#plt.plot(x+.1,x+.1,linestyle='--')\n",
    "#plt.plot(x-.1,x-.1,linestyle='--')\n",
    "ylims = [-1,1]\n",
    "ax.axhline(0)\n",
    "ax.set_ylim(ylims)\n",
    "ax.set_xlim([16,26])\n",
    "ax.set_xlabel('Observed g-band Magnitude')\n",
    "ax.set_ylabel('Observed g-z color - True g-z color')\n",
    "#ax2.set_ylabel('Observed g-z color - True g-z color')\n",
    "ax.legend()"
   ]
  },
  {
   "cell_type": "markdown",
   "id": "f00bea4c-b9cb-40e5-8e5d-23110210a3f3",
   "metadata": {},
   "source": [
    "### 4. Photometry for light profiles (i.e. how to use aperture photometry)\n",
    "Science application for aperture fluxes\n",
    "Not sure how to do this yet"
   ]
  },
  {
   "cell_type": "code",
   "execution_count": null,
   "id": "8575a64b-f166-453b-aebd-dd09d728a259",
   "metadata": {},
   "outputs": [],
   "source": [
    "query = \"SELECT mt.id_truth_type, mt.match_objectId, ts.ra, ts.dec, ts.truth_type, ts.flux_i, ts.redshift, \"\\\n",
    "        \"obj.coord_ra, obj.coord_dec, obj.detect_fromBlend, obj.detect_isIsolated, obj.i_blendedness_flag, obj.i_blendedness, obj.i_extendedness, \"\\\n",
    "        \"obj.i_ap03Flux, obj.i_ap06Flux, obj.i_ap09Flux, obj.i_ap12Flux, obj.i_ap17Flux, obj.i_ap25Flux, obj.i_ap35Flux, obj.i_ap50Flux, obj.i_kronRad, obj.i_kronFlux_flag \" + \\\n",
    "        \"FROM dp02_dc2_catalogs.MatchesTruth AS mt \"\\\n",
    "        \"JOIN dp02_dc2_catalogs.TruthSummary AS ts ON mt.id_truth_type = ts.id_truth_type \"\\\n",
    "        \"JOIN dp02_dc2_catalogs.Object AS obj ON mt.match_objectId = obj.objectId \"\\\n",
    "        \"WHERE (obj.detect_isPrimary = 1) AND (obj.i_kronFlux/obj.i_kronFluxErr > 10) AND (obj.i_extendedness = 1) AND \"\\\n",
    "        \"CONTAINS(POINT('ICRS', obj.coord_ra, obj.coord_dec), CIRCLE('ICRS', 62.0, -37.0, 0.10)) = 1 \""
   ]
  },
  {
   "cell_type": "code",
   "execution_count": null,
   "id": "24718446-033d-4b3d-b11f-a94c708c6d1e",
   "metadata": {},
   "outputs": [],
   "source": [
    "job = service.submit_job(query)\n",
    "job.run()\n",
    "job.wait(phases=['COMPLETED', 'ERROR'])\n",
    "print('Job phase is', job.phase)"
   ]
  },
  {
   "cell_type": "code",
   "execution_count": null,
   "id": "1ddc4e98-1151-4aba-806a-b9097d2edfd0",
   "metadata": {},
   "outputs": [],
   "source": [
    "results = job.fetch_result()\n",
    "tab = results.to_table()"
   ]
  },
  {
   "cell_type": "code",
   "execution_count": null,
   "id": "0b26042c-c234-4885-819b-a05dfba2bc31",
   "metadata": {},
   "outputs": [],
   "source": [
    "# pick an object that has large size\n",
    "wh = np.where(tab['i_kronRad'] > 10)[0]\n",
    "print(len(wh), tab['i_kronRad'][wh])\n",
    "\n",
    "rad = np.array([3,6,9,12,17,25,35,50])\n",
    "light_profile = np.array([tab['i_ap03Flux'][wh][0],tab['i_ap06Flux'][wh][0],tab['i_ap09Flux'][wh][0],tab['i_ap12Flux'][wh][0],tab['i_ap17Flux'][wh][0],\n",
    "                          tab['i_ap25Flux'][wh][0],tab['i_ap35Flux'][wh][0],tab['i_ap50Flux'][wh][0]])\n",
    "plt.plot(rad, light_profile, label='Large Radius R='+str(tab['i_kronRad'][wh][0]))\n",
    "plt.xlabel('Aperture Radius [pixels]')\n",
    "plt.ylabel('Flux density [nJy]')\n",
    "\n",
    "# pick an object that has large size\n",
    "wh = np.where(tab['i_kronRad'] < 5)[0]\n",
    "print(len(wh), tab['i_kronRad'][wh])\n",
    "\n",
    "rad = np.array([3,6,9,12,17,25,35,50])\n",
    "light_profile = np.array([tab['i_ap03Flux'][wh][0],tab['i_ap06Flux'][wh][0],tab['i_ap09Flux'][wh][0],tab['i_ap12Flux'][wh][0],tab['i_ap17Flux'][wh][0],\n",
    "                          tab['i_ap25Flux'][wh][0],tab['i_ap35Flux'][wh][0],tab['i_ap50Flux'][wh][0]])\n",
    "plt.plot(rad, light_profile, label='Small Radius R='+str(tab['i_kronRad'][wh][0]))\n",
    "plt.legend()\n"
   ]
  },
  {
   "cell_type": "code",
   "execution_count": null,
   "id": "12f5be0d-7816-4622-8523-aff5e6b9a028",
   "metadata": {},
   "outputs": [],
   "source": [
    "sys.exit()"
   ]
  },
  {
   "cell_type": "code",
   "execution_count": null,
   "id": "94c2ecc1-5760-4872-b01d-e6d48b145201",
   "metadata": {},
   "outputs": [],
   "source": [
    "#junk that doens't work yet:\n",
    "\n",
    "# now do the outlier fraction. histogram up the delta_M / M > 0.1 as function of magnitude for the 3\n",
    "\n",
    "x = truth_mag\n",
    "y = (cmodel_mag-truth_mag)#/truth_mag\n",
    "bins=np.arange(16,30,1)\n",
    "bin_means, bin_edges, binnumber = stats.binned_statistic(x,\n",
    "             y, statistic=lambda sigmaz: float(len(np.where(np.abs(y) > 0.01)[0]))/len(y) ,bins=bins)\n",
    "\n",
    "binctr = bin_edges[:-1] + (bin_edges[1:]-bin_edges[:-1])/2\n",
    "plt.plot(binctr, bin_means, color='red', lw=2, label='cModel bin median',zorder=10)\n",
    "#plt.hist(bins[:-1],bins,weights=bin_means,color='r',alpha=.5,edgecolor='black', linewidth=1.2)\n",
    "\n",
    "y = (kron_mag-truth_mag)#/truth_mag\n",
    "bin_means, bin_edges, binnumber = stats.binned_statistic(x,\n",
    "             y, statistic=lambda sigmaz: float(len(np.where(y > 0.01)[0]))/len(y) ,bins=bins)\n",
    "binctr = bin_edges[:-1] + (bin_edges[1:]-bin_edges[:-1])/2\n",
    "#plt.plot(binctr, bin_means, color='blue', lw=2, label='kron bin median',zorder=10)\n",
    "#plt.hist(bins[:-1],bins,weights=bin_means,color='b',alpha=.5,edgecolor='black', linewidth=1.2)\n",
    "\n",
    "y = (gaap_mag-truth_mag)#/truth_mag\n",
    "bin_means, bin_edges, binnumber = stats.binned_statistic(x,\n",
    "             y,  statistic=lambda sigmaz: float(len(np.where(y > 0.01)[0]))/len(y) ,bins=bins)\n",
    "binctr = bin_edges[:-1] + (bin_edges[1:]-bin_edges[:-1])/2\n",
    "#plt.plot(binctr, bin_means, color='green', lw=2, label='GaaP Optimal bin median',zorder=10)#,color='green')\n",
    "#plt.hist(bins[:-1],bins,weights=bin_means,color='g',alpha=.5,edgecolor='black', linewidth=1.2)\n",
    "\n",
    "#ax.scatter(truth_mag,kron_mag,c=tab['i_kronRad'], marker='+', alpha=.5)\n",
    "\n",
    "#plt.set_xlabel('True i-band Magnitude')\n",
    "#plt.set_ylabel('Mag Accuracy (M$_{obs}$ - M$_{true}$) /  M$_{true}$')\n",
    "#ax.set_ylim([-5,5])\n",
    "#plt.ylim([0,1000])\n",
    "#ax.set_yscale('log')\n",
    "plt.legend()\n",
    "\n",
    "\n",
    "#bin_means, bin_edges, binnumber = stats.binned_statistic(F150mag,sigmaz, statistic=lambda sigmaz: float(len(np.where(sigmaz > 0.15)[0]))/len(sigmaz) ,bins=bins)\n",
    "\n",
    "print(bin_means)\n"
   ]
  },
  {
   "cell_type": "code",
   "execution_count": null,
   "id": "2f52232f-8e56-4118-8454-66593a552ddc",
   "metadata": {},
   "outputs": [],
   "source": []
  },
  {
   "cell_type": "code",
   "execution_count": null,
   "id": "20443fe8-caa8-4f32-97a9-e19cc2ff8079",
   "metadata": {},
   "outputs": [],
   "source": [
    "# compare kron mag to cmodel mag\n",
    "\n",
    "#whbright = np.where(tab['i_kronFlux'] > 0.0001e6)[0]\n",
    "whbright = np.where((tab['i_kronFlux'] > 0.01e6) & (tab['i_kronFlux_flag'] == 0))[0]\n",
    "\n",
    "cmodel_mag = -2.50 * np.log10(tab['i_cModelFlux']) + 31.4\n",
    "kron_mag = -2.50 * np.log10(tab['i_kronFlux']) + 31.4\n",
    "\n",
    "plt.scatter(cmodel_mag,kron_mag,\n",
    "            c=tab['i_kronRad'], marker='.', alpha=.5)\n",
    "\n",
    "#plt.scatter(cmodel_mag[whbright],kron_mag[whbright],\n",
    "#            c=tab['i_kronRad'][whbright], marker='.', alpha=.5)\n",
    "plt.axhline(26.4,linestyle='--',label='10-yr 5sig depth')\n",
    "\n",
    "plt.colorbar(label='Kron Radius [pixels]')\n",
    "plt.xlabel('cModel AB Magnitude [i-band]')\n",
    "plt.ylabel('kron AB Magnitude [i-band]')\n",
    "plt.legend()\n",
    "plt.show()"
   ]
  },
  {
   "cell_type": "code",
   "execution_count": null,
   "id": "c80af7f5-a048-4169-b7e7-61fb479b6df8",
   "metadata": {},
   "outputs": [],
   "source": [
    "\n",
    "cmodel_mag = -2.50 * np.log10(tab['i_gaapOptimalFlux']) + 31.4\n",
    "kron_mag = -2.50 * np.log10(tab['i_kronFlux']) + 31.4\n",
    "\n",
    "plt.scatter(cmodel_mag,kron_mag,\n",
    "            c=tab['i_kronRad'], marker='.', alpha=.5, vmin=1, vmax=50)\n",
    "\n",
    "#plt.scatter(cmodel_mag[whbright],kron_mag[whbright],\n",
    "#            c=tab['i_kronRad'][whbright], marker='.', alpha=.5)\n",
    "plt.axhline(26.4,linestyle='--',label='10-yr 5sig depth')\n",
    "\n",
    "plt.colorbar(label='Kron Radius [pixels]')\n",
    "plt.xlabel('GaaP optimal AB Magnitude [i-band]')\n",
    "plt.ylabel('kron AB Magnitude [i-band]')\n",
    "plt.legend()\n",
    "plt.show()"
   ]
  },
  {
   "cell_type": "code",
   "execution_count": null,
   "id": "6553101d-d9fa-45b5-9d68-6242bd9ae28d",
   "metadata": {},
   "outputs": [],
   "source": [
    "\n",
    "#cmodel_mag = -2.50 * np.log10(tab['i_gaap1p5Flux']) + 31.4\n",
    "kron_mag = -2.50 * np.log10(tab['i_kronFlux']) + 31.4\n",
    "\n",
    "plt.scatter(cmodel_mag,kron_mag,\n",
    "            c=tab['i_kronRad'], marker='.', alpha=.5, vmin=1, vmax=50)\n",
    "\n",
    "#plt.scatter(cmodel_mag[whbright],kron_mag[whbright],\n",
    "#            c=tab['i_kronRad'][whbright], marker='.', alpha=.5)\n",
    "plt.axhline(26.4,linestyle='--',label='10-yr 5sig depth')\n",
    "\n",
    "plt.colorbar(label='Kron Radius [pixels]')\n",
    "plt.xlabel('GaaP AB Magnitude 1.5 aperture [i-band]')\n",
    "plt.ylabel('kron AB Magnitude [i-band]')\n",
    "plt.legend()\n",
    "plt.show()"
   ]
  },
  {
   "cell_type": "code",
   "execution_count": null,
   "id": "ed161a44-81df-4b9e-9563-e7431e2dce89",
   "metadata": {},
   "outputs": [],
   "source": [
    "\n",
    "whbright = np.where((tab['i_kronFlux'] > 0.001e6) & (tab['i_kronFlux_flag'] == 0))[0]\n",
    "\n",
    "mag = -2.50 * np.log10(tab['i_kronFlux']) + 31.4\n",
    "plt.scatter(mag[whbright],tab['i_kronFlux'][whbright]/tab['i_cModelFlux'][whbright],\n",
    "            c=tab['i_kronRad'][whbright], marker='o', alpha=.5, vmin=1, vmax=50)\n",
    "plt.colorbar(label='Kron Radius [pixels]')\n",
    "plt.axhline(1,linestyle='--')\n",
    "plt.xlabel('Kron AB Magnitude [i-band]')\n",
    "plt.yscale('log')\n",
    "plt.ylabel('Kron flux / cModel Flux')\n",
    "\n",
    "\n",
    "whbad = np.where( (np.abs(tab['i_kronFlux'][whbright]/tab['i_cModelFlux'][whbright]) > 2) & (mag[whbright] < 22))[0]\n",
    "whblend = np.where( tab['detect_fromBlend'][whbright] == True)[0]\n",
    "\n",
    "print(tab['detect_fromBlend'][whbright][whbad])\n",
    "plt.plot(mag[whbright][whblend],tab['i_kronFlux'][whbright][whblend]/tab['i_cModelFlux'][whbright][whblend],'k+')\n",
    "\n",
    "plt.show()"
   ]
  },
  {
   "cell_type": "code",
   "execution_count": null,
   "id": "4d35fa45-3cc2-47c3-8e47-a29d3c7ec440",
   "metadata": {},
   "outputs": [],
   "source": []
  },
  {
   "cell_type": "code",
   "execution_count": null,
   "id": "f5c9bc62-6bbd-4e5c-8603-519427970caf",
   "metadata": {},
   "outputs": [],
   "source": [
    "plt.scatter(tab['i_kronRad'][whbright],tab['i_kronFlux'][whbright]/tab['i_gaapOptimalFlux'][whbright],\n",
    "            c=mag[whbright], marker='o', alpha=.5)\n",
    "plt.xlabel('Kron Radius [pix]')\n",
    "plt.ylabel('Kron flux / GaaP Optimal Flux')\n",
    "plt.colorbar(label='Kron Mag [ABmag]')\n",
    "plt.xlim([0,50])\n",
    "plt.ylim([-1,30])\n",
    "plt.show()"
   ]
  },
  {
   "cell_type": "code",
   "execution_count": null,
   "id": "c1487f21-af5c-48ee-9a7a-6cf0aa56185c",
   "metadata": {},
   "outputs": [],
   "source": [
    "plt.scatter(tab['i_kronRad'][whbright],tab['i_kronFlux'][whbright]/tab['i_cModelFlux'][whbright],\n",
    "            c=mag[whbright], marker='o', alpha=.5)\n",
    "plt.xlabel('Kron Radius [pix]')\n",
    "plt.ylabel('Kron flux / cModel Flux')\n",
    "plt.colorbar(label='Kron Mag [ABmag]')\n",
    "plt.xlim([0,50])\n",
    "plt.ylim([-1,30])\n",
    "plt.show()"
   ]
  },
  {
   "cell_type": "markdown",
   "id": "b7ec87d9-8f56-4974-a9c4-052af0fec039",
   "metadata": {},
   "source": [
    "# 4. AGN and host photometry"
   ]
  },
  {
   "cell_type": "markdown",
   "id": "6cc1a4dc-5256-48f5-a4d1-8100458c058b",
   "metadata": {},
   "source": []
  },
  {
   "cell_type": "markdown",
   "id": "2e364b4b-7cfd-4bfd-af48-8f08e0af2481",
   "metadata": {},
   "source": [
    "easier for someone to correct something i've done wrong than to tell me the right way to do it (so, try to write it up and take af irst stab at it and then ask if thats what they were going for). \n",
    "\n",
    "for DP1: here is literal interpretation of measurement (these should be short)\n",
    "\n",
    "then one for low-z galaxies and nuances of measuring photometry\n",
    "\n",
    "then one for high-z galaxies \n",
    "\n",
    "AGN: point source right in the center thats a better science case than the SN contamination one. there will be more of these and stacking doesn't take it out.\n",
    "\n",
    "can we think of a science case we would want to use galaxy photometry from a calexp? this is probably a different science case. lets exclude calexp photometry form this notebook. \n",
    "\n",
    "when you're ready for input from DM make a list of what i want help with (so Yusra can find someone for help and then help them respond to specific questions"
   ]
  }
 ],
 "metadata": {
  "kernelspec": {
   "display_name": "LSST",
   "language": "python",
   "name": "lsst"
  },
  "language_info": {
   "codemirror_mode": {
    "name": "ipython",
    "version": 3
   },
   "file_extension": ".py",
   "mimetype": "text/x-python",
   "name": "python",
   "nbconvert_exporter": "python",
   "pygments_lexer": "ipython3",
   "version": "3.11.9"
  },
  "toc-autonumbering": false
 },
 "nbformat": 4,
 "nbformat_minor": 5
}
