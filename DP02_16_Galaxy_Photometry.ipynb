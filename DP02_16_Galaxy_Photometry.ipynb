{
 "cells": [
  {
   "cell_type": "markdown",
   "id": "749b0ddf",
   "metadata": {
    "tags": []
   },
   "source": [
    "# DP0.2 Notebook 16 Galaxy Photometry\n",
    "\n",
    "<img align=\"left\" src = https://project.lsst.org/sites/default/files/Rubin-O-Logo_0.png width=250 style=\"padding: 10px\" alt=\"Rubin Observatory logo, a graphical representation of turning stars into data.\">\n",
    "<br>\n",
    "Contact author(s): <i>Christina Williams</i> <br>\n",
    "Last verified to run: <i>2024-01-18</i> <br>\n",
    "LSST Science Pipelines version: Weekly <i>2024_24</i> <br>\n",
    "Container Size: <i>medium</i> <br>\n",
    "Targeted learning level: <i>beginner</i> <br>"
   ]
  },
  {
   "cell_type": "code",
   "execution_count": 1,
   "id": "7acc79a4-8530-42d9-96e5-b7acb4397864",
   "metadata": {
    "execution": {
     "iopub.execute_input": "2025-01-28T22:17:35.849959Z",
     "iopub.status.busy": "2025-01-28T22:17:35.849795Z",
     "iopub.status.idle": "2025-01-28T22:17:35.852384Z",
     "shell.execute_reply": "2025-01-28T22:17:35.851898Z",
     "shell.execute_reply.started": "2025-01-28T22:17:35.849945Z"
    }
   },
   "outputs": [],
   "source": [
    "#%load_ext pycodestyle_magic\n",
    "#%flake8_on\n",
    "#import logging\n",
    "#logging.getLogger(\"flake8\").setLevel(logging.FATAL)"
   ]
  },
  {
   "cell_type": "markdown",
   "id": "2963cbac-4ecd-4694-bea3-c111f527e51b",
   "metadata": {},
   "source": [
    "**Description:** Explore the available measurements of galaxy photometry produced by the LSST pipelines and their applications."
   ]
  },
  {
   "cell_type": "markdown",
   "id": "80a0baf5-51ad-40ec-8991-060a7b27c289",
   "metadata": {},
   "source": [
    "**Skills:** Basic understanding of photometric measurement methods typically used to characterize galaxies."
   ]
  },
  {
   "cell_type": "markdown",
   "id": "393da88f-7978-4920-aa4a-a9830df6eed9",
   "metadata": {},
   "source": [
    "**LSST Data Products:** objectTable"
   ]
  },
  {
   "cell_type": "markdown",
   "id": "5c67fab9-136a-4adc-bb42-142b91ab69dd",
   "metadata": {},
   "source": [
    "**Packages:** No new LSST packages are introduced here. The notebook will make use of the TAP service from the `lsst.rsp` package."
   ]
  },
  {
   "cell_type": "markdown",
   "id": "8f72b27f",
   "metadata": {},
   "source": [
    "**Credit:**\n",
    "\"This notebook benefitted from earlier exploration of simulated data and notebook development by Melissa Graham and Dan Taranu. _E.g., \"Originally developed by\" or \"Based on notebooks developed by\" and then people's names, including journal article or software release citations if appropriate._\n",
    "Please consider acknowledging them if this notebook is used for the preparation of journal articles, software releases, or other notebooks."
   ]
  },
  {
   "cell_type": "markdown",
   "id": "28e91cbf-ab7f-4e26-9276-b00299d6065e",
   "metadata": {},
   "source": [
    "**Get Support:**\n",
    "Find DP0-related documentation and resources at <a href=\"https://dp0.lsst.io\">dp0.lsst.io</a>.\n",
    "Questions are welcome as new topics in the \n",
    "<a href=\"https://community.lsst.org/c/support/dp0\">Support - Data Preview 0 Category</a> \n",
    "of the Rubin Community Forum. \n",
    "Rubin staff will respond to all questions posted there."
   ]
  },
  {
   "cell_type": "markdown",
   "id": "cfc73be0",
   "metadata": {},
   "source": [
    "## 1. Introduction\n",
    "\n",
    "This notebook will teach the user about the automated photometry measurements that are measured on the deepCoadd images and appear in the Object Catalog as part of the LSST pipelines data products. The focus will be on galaxies (and thus is distinct from the demonstrations in Tutorial Notebook 12a/b about the PSF photometry (CHECK/LINK). \n"
   ]
  },
  {
   "cell_type": "markdown",
   "id": "7eb3ba1f-659f-4cb0-acad-52690f60a485",
   "metadata": {
    "execution": {
     "iopub.execute_input": "2024-12-02T22:37:09.704845Z",
     "iopub.status.busy": "2024-12-02T22:37:09.704072Z",
     "iopub.status.idle": "2024-12-02T22:37:10.367698Z",
     "shell.execute_reply": "2024-12-02T22:37:10.366983Z",
     "shell.execute_reply.started": "2024-12-02T22:37:09.704824Z"
    }
   },
   "source": [
    "### 1.1 Types of photometry measurements that exist in the Object Table\n",
    "\n",
    "Schema for the object catalog for DP0.2: https://dm.lsst.org/sdm_schemas/browser/dp02.html#Object\n",
    "\n",
    "Numerous photometry measurements are produced by the LSST Pipelines. Two types of photometry are there: The first are total fluxes are those that integrate the total light coming from objects, corrected for loss due to the blurring effects of PSF or seeing, including \"Composite Model\" (`cModel`) fluxes and \"Kron Fluxes\". The second category characterize the relative brightness of objects for specific regions of objects (i.e. are not corrected to be total fluxes) but can be useful for measuring accurate light profiles or accurate colors.\n",
    "\n",
    "### 1.1.1 Total fluxes\n",
    "\n",
    "#### Kron fluxes\n",
    "\n",
    "A decent summary of Kron fluxes <a href=\"https://ned.ipac.caltech.edu/level5/March05/Graham/Graham2_6.html\">in the NED documentation</a>.\n",
    "\n",
    "```\n",
    "<f>_kronFlux      : Flux from Kron Flux algorithm. Measured on <f> g-band.\n",
    "<f>_kronFluxErr   : Uncertainty of <f>_kronFlux.\n",
    "<f>_kronFlux_flag : Failure flag for <f>_kronFlux.\n",
    "```\n",
    "\n",
    "The Kron radius, `<f>_kronRad`, is also available.\n",
    "\n",
    "\n",
    "#### Composite Model (CModel) fluxes\n",
    "\n",
    "Similar in nature to those measured for SDSS: \n",
    "https://www.sdss3.org/dr8/algorithms/magnitudes.php#cmodel\n",
    "\n",
    "In short, it is the linear combination of the best fit exponential and de Vaucouleurs profiles.\n",
    "\n",
    "```\n",
    "<f>_cModelFlux    :\tFlux from the final cmodel fit. Forced on <f>-band.\n",
    "<f>_cModelFluxErr : Uncertainty of <f>_cModelFlux\n",
    "<f>_cModel_flag   : Failure flag for <f>_cModelFlux\n",
    "```\n",
    "\n",
    "Fluxes fit to the individual model components.\n",
    "\n",
    "```\n",
    "<f>_bdFluxB    : Flux from the de Vaucouleurs fit. Measured on <f>-band.\n",
    "<f>_bdFluxD    : Flux from the exponential fit. Measured on <f>-band.\n",
    "<f>_bdFluxBErr : Uncertainty of <f>_bdFluxB\n",
    "<f>_bdFluxDErr : Uncertainty of <f>_bdFluxD\n",
    "```\n",
    "\n",
    "The fit sizes are also available (half-light radii, ellipse axes).\n",
    "\n",
    "### 1.1.2 Regional fluxes\n",
    "\n",
    "#### Aperture fluxes\n",
    "This contains the enclosed flux inside a given aperture (these are raw fluxes, meaning, they are not corrected to total fluxes using an aperture correction that accounts for the flux falling outside the aperture using the PSF). Fixed aperture diameter size in pixels.\n",
    "\n",
    "```\n",
    "<f>_ap<pix>Flux     : Flux within <pix>-pixel aperture. Forced on <f>-band.\n",
    "<f>_ap<pix>FluxErr  : Uncertainty of <f>_ap<pix>Flux.\n",
    "<f>_ap<pix>FluxFlag : Failure flag for <f>_ap<pix>Flux.\n",
    "```\n",
    "\n",
    "For DP0.2, the apertures are 3, 6, 9, 12, 17, 25, 35, 50, and 70 pixels.\n",
    "\n",
    "In the column name, apertures are `03`, `06`, `09`, `12`, and so on.\n",
    "\n",
    "#### GaaP fluxes\n",
    "\n",
    "These are the Gaussian-aperture-and-PSF flux from <a href=\"https://ui.adsabs.harvard.edu/abs/2008A%26A...482.1053K/abstract\">Kuijken et al. 2008</a>. The main goal of this method is to measure accurate colors while accounting for the different spatial resolution between filters. This is sometimes done by convolving all images to the largest PSF, but this process is computationally very time consuming for large images. It is not a measure of total flux in a filter. For photometric redshifts, since accurate colors are important, it is the GaaP fluxes that should be used. Several apertures are available (TBD: what is optimal aperture based on?)\n",
    "\n",
    "**Optimal**\n",
    "\n",
    "```\n",
    "<f>_gaapOptimalFlux    : GaaP flux with optimal aperture after multiplying the seeing by 1.15. Forced on <f>-band.\n",
    "<f>_gaapOptimalFluxErr : Uncertainty of <f>_gaapOptimalFlux.\n",
    "```\n",
    "\n",
    "**PSF**\n",
    "\n",
    "```\n",
    "<f>_gaapPsfFlux    : GaaP flux with PSF aperture after multiplying the seeing by 1.15. Forced on <f>-band.\n",
    "<f>_gaapPsfFluxErr : Uncertainty of <f>_gaapPsfFlux.\n",
    "```\n",
    "\n",
    "**Aperture**\n",
    "\n",
    "```\n",
    "<f>_gaap<ap>Flux    : GaaP flux with <ap> aperture after multiplying the seeing by 1.15. Forced on <f>-band.\n",
    "<f>_gaap<ap>FluxErr : Uncertainty of <f>_gaap<ap>Flux.\n",
    "```\n",
    "\n",
    "Where the apertures are 0.5, 0.7, 1.0, 1.5, 2.5, and 3.0.\n",
    "In the column name `<ap>` appears as `0p5`, `0p7`, etc.\n",
    "\n",
    "\n",
    "#### PSF fluxes\n",
    "\n",
    "Fluxes derived using the model point-spread function (PSF) of the image. Since PSF fluxes are designed for unresolved sources (not the majority of galaxies) this notebook will not explore science applications for this type of photometry. Interested users can find more information in the PSF Tutorial notebooks <a href=\"https://dp0-2.lsst.io/_static/nb_html/DP02_12a_PSF_Data_Products.html\">12a</a> and <a href=\"https://dp0-2.lsst.io/_static/nb_html/DP02_12b_PSF_Science_Demo.html\">12b</a>.\n",
    "\n",
    "```\n",
    "<f>_psfFlux      : Flux derived from linear least-squares fit of PSF model. Forced on <f>-band.\n",
    "<f>_psfFluxErr   : Uncertainty of <f>_psfFlux.\n",
    "<f>_psfFlux_flag : Failure flag for <f>_psfFlux.\n",
    "\n",
    "```\n"
   ]
  },
  {
   "cell_type": "markdown",
   "id": "dc36f107",
   "metadata": {},
   "source": [
    "### 1.2 Import packages\n"
   ]
  },
  {
   "cell_type": "markdown",
   "id": "ccb4fe61-835a-47ac-a691-e086ce766e79",
   "metadata": {},
   "source": [
    "`numpy` is a fundamental package for scientific computing with arrays in Python\n",
    "(<a href=\"https://numpy.org\">numpy.org</a>).\n",
    "\n",
    "`matplotlib` is a comprehensive library for creating static, animated, and\n",
    "interactive visualizations in Python \n",
    "(<a href=\"https://matplotlib.org/\">matplotlib.org</a>; \n",
    "<a href=\"https://matplotlib.org/stable/gallery/index.html\">matplotlib gallery</a>).\n",
    "\n",
    "From the `lsst` package, modules for accessing the TAP service, the butler, and image display functions are imported (<a href=\"https://pipelines.lsst.io/\">pipelines.lsst.io</a>)."
   ]
  },
  {
   "cell_type": "code",
   "execution_count": 2,
   "id": "2dbc75bd-a802-4576-8628-4e0088942303",
   "metadata": {
    "execution": {
     "iopub.execute_input": "2025-01-28T22:17:35.853122Z",
     "iopub.status.busy": "2025-01-28T22:17:35.852963Z",
     "iopub.status.idle": "2025-01-28T22:17:41.219083Z",
     "shell.execute_reply": "2025-01-28T22:17:41.218391Z",
     "shell.execute_reply.started": "2025-01-28T22:17:35.853108Z"
    }
   },
   "outputs": [],
   "source": [
    "import matplotlib.pyplot as plt\n",
    "#from astropy.wcs import WCS\n",
    "#from astropy.visualization import make_lupton_rgb\n",
    "from astropy import units as u\n",
    "from astropy.coordinates import SkyCoord\n",
    "import gc\n",
    "import numpy as np\n",
    "import sys\n",
    "\n",
    "#import lsst.afw.display as afwDisplay\n",
    "#from lsst.afw.image import MultibandExposure\n",
    "#from lsst.daf.butler import Butler\n",
    "from lsst.rsp import get_tap_service\n",
    "#import lsst.geom as geom\n",
    "\n",
    "from scipy import stats#.binned_statistic\n",
    "from scipy.stats import sigmaclip\n",
    "\n",
    "\n",
    "# stuff for cutout\n",
    "import time\n",
    "import numpy as np\n",
    "import uuid\n",
    "import os\n",
    "import glob\n",
    "import math\n",
    "import pandas\n",
    "import matplotlib.pyplot as plt\n",
    "from PIL import Image\n",
    "from IPython.display import Image as dimg\n",
    "\n",
    "import lsst.geom as geom\n",
    "import lsst.resources\n",
    "import lsst.afw.display as afwDisplay\n",
    "from lsst.afw.image import Exposure, ExposureF\n",
    "from lsst.pipe.tasks.registerImage import RegisterConfig, RegisterTask\n",
    "from lsst.rsp import get_tap_service\n",
    "from lsst.rsp.utils import get_access_token\n",
    "from lsst.afw.fits import MemFileManager\n",
    "\n",
    "import pyvo\n",
    "from pyvo.dal.adhoc import DatalinkResults, SodaQuery\n",
    "\n",
    "from astropy import units as u\n",
    "from astropy.coordinates import SkyCoord, Angle\n",
    "from astropy.io import fits\n",
    "from astropy.wcs import WCS\n",
    "\n",
    "from photutils.aperture import SkyCircularAperture\n"
   ]
  },
  {
   "cell_type": "markdown",
   "id": "c217adff-25ed-4fce-95e7-8aa04630f6cc",
   "metadata": {},
   "source": [
    "### 1.3 Define functions and parameters\n",
    "\n",
    "_TBD if we can remove this_\n",
    "\n",
    "_It is OK to rename the subsection to be more specific to the notebook, and/or to use sub-sub-sections like \"1.2.1 Define global cosmological parameter values\" or \"1.2.2 Define a function to make an image cutout\"._\n",
    "\n",
    "_It is OK to remove this sub-section if it is not being used._"
   ]
  },
  {
   "cell_type": "code",
   "execution_count": 3,
   "id": "0d2ecffa-a837-4d10-be95-616c95fda15f",
   "metadata": {
    "execution": {
     "iopub.execute_input": "2025-01-28T22:17:41.220255Z",
     "iopub.status.busy": "2025-01-28T22:17:41.219641Z",
     "iopub.status.idle": "2025-01-28T22:17:41.247902Z",
     "shell.execute_reply": "2025-01-28T22:17:41.247239Z",
     "shell.execute_reply.started": "2025-01-28T22:17:41.220234Z"
    }
   },
   "outputs": [],
   "source": [
    "plt.style.use('tableau-colorblind10')\n",
    "#afwDisplay.setDefaultBackend('matplotlib')\n",
    "afwDisplay.setDefaultBackend('matplotlib')\n",
    "\n",
    "params = {'axes.labelsize': 18,\n",
    "          'font.size': 18,\n",
    "          'legend.fontsize': 12,\n",
    "          'xtick.major.width': 2,\n",
    "          'xtick.minor.width': 1,\n",
    "          'xtick.major.size': 10,\n",
    "          'xtick.minor.size': 4,\n",
    "          'xtick.direction': 'in',\n",
    "          'xtick.top': True,\n",
    "          'lines.linewidth': 2,\n",
    "          'axes.linewidth': 2,\n",
    "          'axes.labelweight': 2,\n",
    "          'axes.titleweight': 2,\n",
    "          'ytick.major.width': 2,\n",
    "          'ytick.minor.width': 1,\n",
    "          'ytick.major.size': 10,\n",
    "          'ytick.minor.size': 4,\n",
    "          'ytick.direction': 'in',\n",
    "          'ytick.right': True,\n",
    "          'figure.figsize': [6, 6],\n",
    "          'figure.facecolor': 'White'\n",
    "          }\n",
    "plt.style.use('tableau-colorblind10')\n",
    "\n",
    "plt.rcParams.update(params)"
   ]
  },
  {
   "cell_type": "code",
   "execution_count": 4,
   "id": "2f19f3b6-7357-4848-a2b4-5597aa8c8e15",
   "metadata": {
    "execution": {
     "iopub.execute_input": "2025-01-28T22:17:41.249111Z",
     "iopub.status.busy": "2025-01-28T22:17:41.248900Z",
     "iopub.status.idle": "2025-01-28T22:17:41.252550Z",
     "shell.execute_reply": "2025-01-28T22:17:41.252001Z",
     "shell.execute_reply.started": "2025-01-28T22:17:41.249094Z"
    }
   },
   "outputs": [],
   "source": [
    "def plotImage(exposure: ExposureF):\n",
    "    \"\"\"Plot and image using lsst.awf.image package\n",
    "\n",
    "   Parameters\n",
    "    ----------\n",
    "    exposure : `ExposureF`\n",
    "        the image to plot from file in LSST awf image exposure class format\n",
    "\n",
    "   Returns\n",
    "    -------\n",
    "    image for notebook display\n",
    "    \"\"\"\n",
    "\n",
    "    fig, ax = plt.subplots()\n",
    "    display = afwDisplay.Display(frame=fig)\n",
    "    display.scale('asinh', 'zscale')\n",
    "    display.mtv(exposure.image)\n",
    "    plt.show()"
   ]
  },
  {
   "cell_type": "code",
   "execution_count": 5,
   "id": "da81a645-947e-4ca2-82f7-905de4ef79da",
   "metadata": {
    "execution": {
     "iopub.execute_input": "2025-01-28T22:17:41.253284Z",
     "iopub.status.busy": "2025-01-28T22:17:41.253121Z",
     "iopub.status.idle": "2025-01-28T22:17:41.268724Z",
     "shell.execute_reply": "2025-01-28T22:17:41.268013Z",
     "shell.execute_reply.started": "2025-01-28T22:17:41.253269Z"
    }
   },
   "outputs": [],
   "source": [
    "\n",
    "\n",
    "def make_image_cutout(tap_service, ra, dec, dataId, cutout_size=0.01,\n",
    "                      imtype=None, filename=None):\n",
    "    \"\"\"Wrapper function to generate a cutout using the cutout tool\n",
    "\n",
    "   Parameters\n",
    "    ----------\n",
    "    tap_service : an instance of the TAP service\n",
    "    ra, dec : 'float'\n",
    "        the ra and dec of the cutout center\n",
    "    dataId : 'dict'\n",
    "        the dataId of the image to make a cutout from. The format\n",
    "        must correspond to that provided for parameter 'imtype'\n",
    "    cutout_size : 'float', optional\n",
    "        edge length in degrees of the cutout\n",
    "    imtype : 'string', optional\n",
    "        string containing the type of LSST image to generate\n",
    "        a cutout of (e.g. deepCoadd, calexp). If imtype=None,\n",
    "        the function will assume a deepCoadd.\n",
    "    filename : 'string', optional\n",
    "        filename of the resulting cutout (which has fits format)\n",
    "\n",
    "   Returns\n",
    "    -------\n",
    "    sodaCutout : 'string'\n",
    "        filename of the cutout in fits format (including\n",
    "        full directory path; for now by default it is saved\n",
    "        in /home/dp02_13a_temp/\n",
    "    \"\"\"\n",
    "\n",
    "    spherePoint = geom.SpherePoint(ra*geom.degrees, dec*geom.degrees)\n",
    "\n",
    "    if imtype == 'calexp':\n",
    "\n",
    "        query = \"SELECT access_format, access_url, dataproduct_subtype, \" + \\\n",
    "            \"lsst_visit, lsst_detector, lsst_band, s_ra, s_dec \" + \\\n",
    "            \"FROM ivoa.ObsCore WHERE dataproduct_type = 'image' \" + \\\n",
    "            \"AND obs_collection = 'LSST.DP02' \" + \\\n",
    "            \"AND dataproduct_subtype = 'lsst.calexp' \" + \\\n",
    "            \"AND lsst_visit = \" + str(dataId[\"visit\"]) + \" \" + \\\n",
    "            \"AND lsst_detector = \" + str(dataId[\"detector\"])\n",
    "        results = tap_service.search(query)\n",
    "\n",
    "    else:\n",
    "        # Find the tract and patch that contain this point\n",
    "        tract = dataId[\"tract\"]\n",
    "        patch = dataId[\"patch\"]\n",
    "\n",
    "        # add optional default band if it is not contained in the dataId\n",
    "        band = dataId[\"band\"]\n",
    "\n",
    "        query = \"SELECT access_format, access_url, dataproduct_subtype, \" + \\\n",
    "            \"lsst_patch, lsst_tract, lsst_band, s_ra, s_dec \" + \\\n",
    "            \"FROM ivoa.ObsCore WHERE dataproduct_type = 'image' \" + \\\n",
    "            \"AND obs_collection = 'LSST.DP02' \" + \\\n",
    "            \"AND dataproduct_subtype = 'lsst.deepCoadd_calexp' \" + \\\n",
    "            \"AND lsst_tract = \" + str(tract) + \" \" + \\\n",
    "            \"AND lsst_patch = \" + str(patch) + \" \" + \\\n",
    "            \"AND lsst_band = \" + \"'\" + str(band) + \"' \"\n",
    "        results = tap_service.search(query)\n",
    "\n",
    "    # Get datalink\n",
    "    dataLinkUrl = results[0].getdataurl()\n",
    "    auth_session = service._session\n",
    "    dl = DatalinkResults.from_result_url(dataLinkUrl,\n",
    "                                         session=auth_session)\n",
    "\n",
    "    # from_resource: creates a instance from\n",
    "    # a number of records and a Datalink Resource.\n",
    "    sq = SodaQuery.from_resource(dl,\n",
    "                                 dl.get_adhocservice_by_id(\"cutout-sync\"),\n",
    "                                 session=auth_session)\n",
    "\n",
    "    sq.circle = (spherePoint.getRa().asDegrees() * u.deg,\n",
    "                 spherePoint.getDec().asDegrees() * u.deg,\n",
    "                 cutout_size * u.deg)\n",
    "\n",
    "    if filename:\n",
    "        sodaCutout = os.path.join(os.getenv('HOME'), 'dp02_13a_temp/'+filename)\n",
    "    else:\n",
    "        sodaCutout = os.path.join(os.getenv('HOME'), 'dp02_13a_temp/soda-cutout.fits')\n",
    "\n",
    "    with open(sodaCutout, 'bw') as f:\n",
    "        f.write(sq.execute_stream().read())\n",
    "\n",
    "    return sodaCutout\n"
   ]
  },
  {
   "cell_type": "markdown",
   "id": "ec51ac0b",
   "metadata": {
    "tags": []
   },
   "source": [
    "## 2. Integrated photometry of galaxies using the LSST pipeline\n",
    "\n",
    "This section will explore the total, integrated photometry measurements, and provide some guidance for which are optimal for certain science applications using galaxies. \n"
   ]
  },
  {
   "cell_type": "markdown",
   "id": "45c86ed0-aebe-4d74-af42-619c0f6b0705",
   "metadata": {},
   "source": [
    "### 2.1 Initialize the TAP service"
   ]
  },
  {
   "cell_type": "code",
   "execution_count": 6,
   "id": "4fabe755-cb34-4d50-bbbc-99d8db7980c4",
   "metadata": {
    "execution": {
     "iopub.execute_input": "2025-01-28T22:17:41.269489Z",
     "iopub.status.busy": "2025-01-28T22:17:41.269297Z",
     "iopub.status.idle": "2025-01-28T22:17:41.321845Z",
     "shell.execute_reply": "2025-01-28T22:17:41.321293Z",
     "shell.execute_reply.started": "2025-01-28T22:17:41.269450Z"
    }
   },
   "outputs": [],
   "source": [
    "service = get_tap_service(\"tap\")"
   ]
  },
  {
   "cell_type": "markdown",
   "id": "9547e659-fd0e-432c-af25-968cc9ebea9d",
   "metadata": {},
   "source": [
    "### 2.2 Object table photometry measurements\n",
    "\n",
    "First see what is available in the object catalog by querying the tap_schema columns, and printing all the parameters available related to \"Flux\" measured in the i-band (as an example). The return shows also errors and flags associated with the photometric measurements outlined in section 1.1. "
   ]
  },
  {
   "cell_type": "code",
   "execution_count": 7,
   "id": "999d12f2-b84b-4a80-a7fd-f7f111674470",
   "metadata": {
    "execution": {
     "iopub.execute_input": "2025-01-28T22:17:41.322632Z",
     "iopub.status.busy": "2025-01-28T22:17:41.322436Z",
     "iopub.status.idle": "2025-01-28T22:17:41.504399Z",
     "shell.execute_reply": "2025-01-28T22:17:41.503783Z",
     "shell.execute_reply.started": "2025-01-28T22:17:41.322617Z"
    }
   },
   "outputs": [],
   "source": [
    "query = \"SELECT column_name, datatype, description, unit \" \\\n",
    "        \"FROM tap_schema.columns \" \\\n",
    "        \"WHERE table_name = 'dp02_dc2_catalogs.Object'\"\n",
    "\n",
    "results = service.search(query).to_table()"
   ]
  },
  {
   "cell_type": "code",
   "execution_count": 8,
   "id": "3c0a793b-f6b1-4e39-99a2-1fd5b26fe4ae",
   "metadata": {
    "execution": {
     "iopub.execute_input": "2025-01-28T22:17:41.505261Z",
     "iopub.status.busy": "2025-01-28T22:17:41.505073Z",
     "iopub.status.idle": "2025-01-28T22:17:41.520628Z",
     "shell.execute_reply": "2025-01-28T22:17:41.520084Z",
     "shell.execute_reply.started": "2025-01-28T22:17:41.505245Z"
    }
   },
   "outputs": [
    {
     "name": "stdout",
     "output_type": "stream",
     "text": [
      "i_ap03Flux\n",
      "i_ap03Flux_flag\n",
      "i_ap03FluxErr\n",
      "i_ap06Flux\n",
      "i_ap06Flux_flag\n",
      "i_ap06FluxErr\n",
      "i_ap09Flux\n",
      "i_ap09Flux_flag\n",
      "i_ap09FluxErr\n",
      "i_ap12Flux\n",
      "i_ap12Flux_flag\n",
      "i_ap12FluxErr\n",
      "i_ap17Flux\n",
      "i_ap17Flux_flag\n",
      "i_ap17FluxErr\n",
      "i_ap25Flux\n",
      "i_ap25Flux_flag\n",
      "i_ap25FluxErr\n",
      "i_ap35Flux\n",
      "i_ap35Flux_flag\n",
      "i_ap35FluxErr\n",
      "i_ap50Flux\n",
      "i_ap50Flux_flag\n",
      "i_ap50FluxErr\n",
      "i_ap70Flux\n",
      "i_ap70Flux_flag\n",
      "i_ap70FluxErr\n",
      "i_apFlux_flag\n",
      "i_apFlux_flag_apertureTruncated\n",
      "i_apFlux_flag_sincCoeffsTruncated\n",
      "i_bdFluxB\n",
      "i_bdFluxBErr\n",
      "i_bdFluxD\n",
      "i_bdFluxDErr\n",
      "i_calibFlux\n",
      "i_calibFlux_flag\n",
      "i_calibFlux_flag_apertureTruncated\n",
      "i_calibFlux_flag_sincCoeffsTruncated\n",
      "i_calibFluxErr\n",
      "i_cModelFlux\n",
      "i_cModelFlux_inner\n",
      "i_cModelFluxErr\n",
      "i_free_cModelFlux\n",
      "i_free_cModelFlux_flag\n",
      "i_free_cModelFlux_inner\n",
      "i_free_cModelFluxErr\n",
      "i_free_psfFlux\n",
      "i_free_psfFlux_flag\n",
      "i_free_psfFluxErr\n",
      "i_gaap0p5Flux\n",
      "i_gaap0p5Flux_flag_bigPsf\n",
      "i_gaap0p5FluxErr\n",
      "i_gaap0p7Flux\n",
      "i_gaap0p7Flux_flag_bigPsf\n",
      "i_gaap0p7FluxErr\n",
      "i_gaap1p0Flux\n",
      "i_gaap1p0Flux_flag_bigPsf\n",
      "i_gaap1p0FluxErr\n",
      "i_gaap1p5Flux\n",
      "i_gaap1p5Flux_flag_bigPsf\n",
      "i_gaap1p5FluxErr\n",
      "i_gaap2p5Flux\n",
      "i_gaap2p5Flux_flag_bigPsf\n",
      "i_gaap2p5FluxErr\n",
      "i_gaap3p0Flux\n",
      "i_gaap3p0Flux_flag_bigPsf\n",
      "i_gaap3p0FluxErr\n",
      "i_gaapFlux_flag\n",
      "i_gaapFlux_flag_edge\n",
      "i_gaapFlux_flag_gaussianization\n",
      "i_gaapOptimalFlux\n",
      "i_gaapOptimalFlux_flag_bigPsf\n",
      "i_gaapOptimalFluxErr\n",
      "i_gaapPsfFlux\n",
      "i_gaapPsfFluxErr\n",
      "i_kronFlux\n",
      "i_kronFlux_flag\n",
      "i_kronFlux_flag_bad_radius\n",
      "i_kronFlux_flag_bad_shape\n",
      "i_kronFlux_flag_bad_shape_no_psf\n",
      "i_kronFlux_flag_edge\n",
      "i_kronFlux_flag_no_fallback_radius\n",
      "i_kronFlux_flag_no_minimum_radius\n",
      "i_kronFlux_flag_small_radius\n",
      "i_kronFlux_flag_used_minimum_radius\n",
      "i_kronFlux_flag_used_psf_radius\n",
      "i_kronFluxErr\n",
      "i_psfFlux\n",
      "i_psfFlux_area\n",
      "i_psfFlux_flag\n",
      "i_psfFlux_flag_apCorr\n",
      "i_psfFlux_flag_edge\n",
      "i_psfFlux_flag_noGoodPixels\n",
      "i_psfFluxErr\n"
     ]
    }
   ],
   "source": [
    "search_string = 'Flux'\n",
    "band = 'i_'\n",
    "for cname in results['column_name']:\n",
    "    if (cname.find(search_string) > -1) and (cname.find(band) > -1):\n",
    "        print(cname)"
   ]
  },
  {
   "cell_type": "code",
   "execution_count": 9,
   "id": "0d82dd79-a4d7-4428-a77c-1ed2bb717486",
   "metadata": {
    "execution": {
     "iopub.execute_input": "2025-01-28T22:17:41.521399Z",
     "iopub.status.busy": "2025-01-28T22:17:41.521220Z",
     "iopub.status.idle": "2025-01-28T22:17:41.536124Z",
     "shell.execute_reply": "2025-01-28T22:17:41.535516Z",
     "shell.execute_reply.started": "2025-01-28T22:17:41.521384Z"
    }
   },
   "outputs": [],
   "source": [
    "query = \"SELECT obj.coord_ra, obj.coord_dec, obj.detect_fromBlend, obj.detect_isIsolated, obj.i_blendedness_flag, obj.i_blendedness, obj.i_extendedness, \"\\\n",
    "        \"obj.i_kronFlux, obj.i_kronFluxErr, obj.i_kronRad, obj.i_kronFlux_flag, obj.i_cModelFlux, obj.i_gaapOptimalFlux \" + \\\n",
    "        \"FROM dp02_dc2_catalogs.Object AS obj  \"\\\n",
    "        \"WHERE (obj.detect_isPrimary = 1) AND (obj.i_kronFlux/obj.i_kronFluxErr > 10) AND (obj.i_extendedness = 1) AND \"\\\n",
    "        \"CONTAINS(POINT('ICRS', obj.coord_ra, obj.coord_dec), CIRCLE('ICRS', 62.0, -37.0, 0.20)) = 1 \"\n"
   ]
  },
  {
   "cell_type": "code",
   "execution_count": 10,
   "id": "e75ee4db-e4b9-4ff2-ba07-1f7f34a8d44b",
   "metadata": {
    "execution": {
     "iopub.execute_input": "2025-01-28T22:17:41.536966Z",
     "iopub.status.busy": "2025-01-28T22:17:41.536793Z",
     "iopub.status.idle": "2025-01-28T22:17:44.722686Z",
     "shell.execute_reply": "2025-01-28T22:17:44.722079Z",
     "shell.execute_reply.started": "2025-01-28T22:17:41.536952Z"
    }
   },
   "outputs": [
    {
     "name": "stdout",
     "output_type": "stream",
     "text": [
      "Job phase is COMPLETED\n"
     ]
    }
   ],
   "source": [
    "job = service.submit_job(query)\n",
    "job.run()\n",
    "job.wait(phases=['COMPLETED', 'ERROR'])\n",
    "print('Job phase is', job.phase)"
   ]
  },
  {
   "cell_type": "markdown",
   "id": "6d90ce60-2dc7-432d-bf12-1679cd43c3f3",
   "metadata": {},
   "source": [
    "Print the results of the search query."
   ]
  },
  {
   "cell_type": "code",
   "execution_count": 11,
   "id": "02ea5eb7-bac9-4c9f-90e4-626a69340b41",
   "metadata": {
    "execution": {
     "iopub.execute_input": "2025-01-28T22:17:44.723465Z",
     "iopub.status.busy": "2025-01-28T22:17:44.723289Z",
     "iopub.status.idle": "2025-01-28T22:17:45.194527Z",
     "shell.execute_reply": "2025-01-28T22:17:45.193957Z",
     "shell.execute_reply.started": "2025-01-28T22:17:44.723436Z"
    }
   },
   "outputs": [
    {
     "name": "stdout",
     "output_type": "stream",
     "text": [
      "13699\n"
     ]
    },
    {
     "data": {
      "text/html": [
       "<div><i>Table length=13699</i>\n",
       "<table id=\"table139486025584144\" class=\"table-striped table-bordered table-condensed\">\n",
       "<thead><tr><th>coord_ra</th><th>coord_dec</th><th>detect_fromBlend</th><th>detect_isIsolated</th><th>i_blendedness_flag</th><th>i_blendedness</th><th>i_extendedness</th><th>i_kronFlux</th><th>i_kronFluxErr</th><th>i_kronRad</th><th>i_kronFlux_flag</th><th>i_cModelFlux</th><th>i_gaapOptimalFlux</th></tr></thead>\n",
       "<thead><tr><th>deg</th><th>deg</th><th></th><th></th><th></th><th></th><th></th><th>nJy</th><th>nJy</th><th></th><th></th><th>nJy</th><th>nJy</th></tr></thead>\n",
       "<thead><tr><th>float64</th><th>float64</th><th>bool</th><th>bool</th><th>bool</th><th>float64</th><th>float64</th><th>float64</th><th>float64</th><th>float32</th><th>bool</th><th>float64</th><th>float64</th></tr></thead>\n",
       "<tr><td>62.0067968</td><td>-36.9020816</td><td>True</td><td>False</td><td>False</td><td>0.0049983</td><td>1.0</td><td>10922.7229643</td><td>85.9962967</td><td>5.04477</td><td>False</td><td>12304.6727035</td><td>6460.0525305</td></tr>\n",
       "<tr><td>62.0037681</td><td>-36.9024377</td><td>True</td><td>False</td><td>False</td><td>-7e-06</td><td>1.0</td><td>1182.0265062</td><td>53.1780048</td><td>3.20611</td><td>False</td><td>1181.785426</td><td>910.9258521</td></tr>\n",
       "<tr><td>62.0085719</td><td>-36.9024176</td><td>True</td><td>False</td><td>False</td><td>0.0726756</td><td>1.0</td><td>1266.9036015</td><td>82.3860448</td><td>4.84711</td><td>False</td><td>1372.3096197</td><td>756.726213</td></tr>\n",
       "<tr><td>62.005342</td><td>-36.903529</td><td>True</td><td>False</td><td>False</td><td>0.0069281</td><td>1.0</td><td>909.234224</td><td>75.7142907</td><td>4.51312</td><td>False</td><td>886.0944003</td><td>607.4636703</td></tr>\n",
       "<tr><td>62.0045637</td><td>-36.902735</td><td>True</td><td>False</td><td>False</td><td>-0.0154942</td><td>1.0</td><td>604.4002275</td><td>51.3669159</td><td>3.07866</td><td>False</td><td>616.7654328</td><td>507.5349915</td></tr>\n",
       "<tr><td>62.0423854</td><td>-36.9036671</td><td>True</td><td>False</td><td>False</td><td>-0.0023311</td><td>1.0</td><td>13512.3935231</td><td>71.4485953</td><td>4.36286</td><td>False</td><td>13351.4881963</td><td>8748.3736732</td></tr>\n",
       "<tr><td>62.1962173</td><td>-36.9037948</td><td>True</td><td>False</td><td>False</td><td>0.041724</td><td>1.0</td><td>661.3043447</td><td>53.564723</td><td>3.22397</td><td>False</td><td>656.9081063</td><td>539.9425927</td></tr>\n",
       "<tr><td>62.1956541</td><td>-36.9046139</td><td>True</td><td>False</td><td>False</td><td>-0.0236929</td><td>1.0</td><td>802.0931369</td><td>67.3860517</td><td>4.07341</td><td>False</td><td>789.6351291</td><td>551.6344401</td></tr>\n",
       "<tr><td>62.0184482</td><td>-36.9029098</td><td>True</td><td>False</td><td>False</td><td>-0.0024643</td><td>1.0</td><td>3610.8459627</td><td>60.6887248</td><td>3.67457</td><td>False</td><td>3703.5324696</td><td>2622.7699794</td></tr>\n",
       "<tr><td>...</td><td>...</td><td>...</td><td>...</td><td>...</td><td>...</td><td>...</td><td>...</td><td>...</td><td>...</td><td>...</td><td>...</td><td>...</td></tr>\n",
       "<tr><td>62.2340701</td><td>-37.0589707</td><td>True</td><td>False</td><td>False</td><td>0.017393</td><td>1.0</td><td>5475.2581198</td><td>106.5125488</td><td>6.51392</td><td>False</td><td>7968.7930086</td><td>2812.270571</td></tr>\n",
       "<tr><td>62.238679</td><td>-37.0598473</td><td>True</td><td>False</td><td>False</td><td>0.002246</td><td>1.0</td><td>656.6051349</td><td>53.4197209</td><td>3.30962</td><td>False</td><td>646.5235391</td><td>512.0469676</td></tr>\n",
       "<tr><td>62.2379366</td><td>-37.0608993</td><td>True</td><td>False</td><td>False</td><td>0.0243649</td><td>1.0</td><td>3448.5360492</td><td>60.0880805</td><td>3.71268</td><td>False</td><td>3390.7405566</td><td>2514.2672709</td></tr>\n",
       "<tr><td>62.2347859</td><td>-37.0630304</td><td>True</td><td>False</td><td>False</td><td>-0.0123865</td><td>1.0</td><td>2758.118914</td><td>43.642257</td><td>2.69446</td><td>False</td><td>2795.1106328</td><td>2595.641324</td></tr>\n",
       "<tr><td>62.2320894</td><td>-37.0631907</td><td>True</td><td>False</td><td>False</td><td>-0.0024702</td><td>1.0</td><td>3348.8860869</td><td>74.5423706</td><td>4.53893</td><td>False</td><td>3404.9391468</td><td>2013.9016243</td></tr>\n",
       "<tr><td>62.2374752</td><td>-37.063016</td><td>True</td><td>False</td><td>False</td><td>-0.0445366</td><td>1.0</td><td>1474.240171</td><td>42.3870591</td><td>2.62527</td><td>False</td><td>1484.0448861</td><td>1422.4822653</td></tr>\n",
       "<tr><td>62.2346703</td><td>-37.0661891</td><td>True</td><td>False</td><td>False</td><td>0.061405</td><td>1.0</td><td>777.2332956</td><td>65.4523749</td><td>4.02862</td><td>False</td><td>777.261764</td><td>537.0907481</td></tr>\n",
       "<tr><td>62.2339994</td><td>-37.0649774</td><td>True</td><td>False</td><td>False</td><td>-0.0043305</td><td>1.0</td><td>2170.4946541</td><td>47.0723022</td><td>2.8639</td><td>False</td><td>2130.9356269</td><td>1949.1903224</td></tr>\n",
       "<tr><td>62.23306</td><td>-37.0618854</td><td>True</td><td>False</td><td>False</td><td>-0.003919</td><td>1.0</td><td>1128.0548814</td><td>71.7575598</td><td>4.39139</td><td>False</td><td>1162.450445</td><td>765.2318206</td></tr>\n",
       "</table></div>"
      ],
      "text/plain": [
       "<Table length=13699>\n",
       " coord_ra   coord_dec  detect_fromBlend ...  i_cModelFlux i_gaapOptimalFlux\n",
       "   deg         deg                      ...      nJy             nJy       \n",
       " float64     float64         bool       ...    float64         float64     \n",
       "---------- ----------- ---------------- ... ------------- -----------------\n",
       "62.0067968 -36.9020816             True ... 12304.6727035      6460.0525305\n",
       "62.0037681 -36.9024377             True ...   1181.785426       910.9258521\n",
       "62.0085719 -36.9024176             True ...  1372.3096197        756.726213\n",
       " 62.005342  -36.903529             True ...   886.0944003       607.4636703\n",
       "62.0045637  -36.902735             True ...   616.7654328       507.5349915\n",
       "62.0423854 -36.9036671             True ... 13351.4881963      8748.3736732\n",
       "62.1962173 -36.9037948             True ...   656.9081063       539.9425927\n",
       "62.1956541 -36.9046139             True ...   789.6351291       551.6344401\n",
       "62.0184482 -36.9029098             True ...  3703.5324696      2622.7699794\n",
       "       ...         ...              ... ...           ...               ...\n",
       "62.2340701 -37.0589707             True ...  7968.7930086       2812.270571\n",
       " 62.238679 -37.0598473             True ...   646.5235391       512.0469676\n",
       "62.2379366 -37.0608993             True ...  3390.7405566      2514.2672709\n",
       "62.2347859 -37.0630304             True ...  2795.1106328       2595.641324\n",
       "62.2320894 -37.0631907             True ...  3404.9391468      2013.9016243\n",
       "62.2374752  -37.063016             True ...  1484.0448861      1422.4822653\n",
       "62.2346703 -37.0661891             True ...    777.261764       537.0907481\n",
       "62.2339994 -37.0649774             True ...  2130.9356269      1949.1903224\n",
       "  62.23306 -37.0618854             True ...   1162.450445       765.2318206"
      ]
     },
     "execution_count": 11,
     "metadata": {},
     "output_type": "execute_result"
    }
   ],
   "source": [
    "results = job.fetch_result()\n",
    "print(len(results))\n",
    "tab = results.to_table()\n",
    "tab"
   ]
  },
  {
   "cell_type": "markdown",
   "id": "e6a27a39-ed2b-49fe-ac6d-51ae4c300bfc",
   "metadata": {},
   "source": [
    "### 2.4 Exploring the input vs output photometry\n",
    "\n",
    "This section will explore 3 photometric measurements that are relevant for galaxies: cModel, Kron and GaaP (as defined in Section 2.1). \n",
    "\n",
    "First, store the AB magnitudes to go with the fluxes extracted from the objectTable."
   ]
  },
  {
   "cell_type": "code",
   "execution_count": 12,
   "id": "e8b4a64a-6565-4d7d-ae48-0a666c41101e",
   "metadata": {
    "execution": {
     "iopub.execute_input": "2025-01-28T22:17:45.195220Z",
     "iopub.status.busy": "2025-01-28T22:17:45.195060Z",
     "iopub.status.idle": "2025-01-28T22:17:45.201446Z",
     "shell.execute_reply": "2025-01-28T22:17:45.200876Z",
     "shell.execute_reply.started": "2025-01-28T22:17:45.195206Z"
    }
   },
   "outputs": [
    {
     "name": "stderr",
     "output_type": "stream",
     "text": [
      "/tmp/ipykernel_6782/4090871.py:3: RuntimeWarning: divide by zero encountered in log10\n",
      "  cmodel_mag = -2.50 * np.log10(tab['i_cModelFlux']) + 31.4\n"
     ]
    }
   ],
   "source": [
    "#truth_mag =  -2.50 * np.log10(tab['flux_i']) + 31.4\n",
    "i_kronRad = tab['i_kronRad']\n",
    "cmodel_mag = -2.50 * np.log10(tab['i_cModelFlux']) + 31.4\n",
    "kron_mag = -2.50 * np.log10(tab['i_kronFlux']) + 31.4\n",
    "gaap_mag = -2.50 * np.log10(tab['i_gaapOptimalFlux']) + 31.4\n"
   ]
  },
  {
   "cell_type": "code",
   "execution_count": 13,
   "id": "d72bd736-3fb0-40b6-a607-a583ab4773ea",
   "metadata": {
    "execution": {
     "iopub.execute_input": "2025-01-28T22:17:45.202224Z",
     "iopub.status.busy": "2025-01-28T22:17:45.202066Z",
     "iopub.status.idle": "2025-01-28T22:17:45.507923Z",
     "shell.execute_reply": "2025-01-28T22:17:45.507151Z",
     "shell.execute_reply.started": "2025-01-28T22:17:45.202209Z"
    }
   },
   "outputs": [
    {
     "data": {
      "text/plain": [
       "<matplotlib.legend.Legend at 0x7edc9ee16650>"
      ]
     },
     "execution_count": 13,
     "metadata": {},
     "output_type": "execute_result"
    },
    {
     "data": {
      "image/png": "[encoded data removed]",
      "text/plain": [
       "<Figure size 1000x600 with 2 Axes>"
      ]
     },
     "metadata": {},
     "output_type": "display_data"
    }
   ],
   "source": [
    "fig, (ax, ax2) = plt.subplots(ncols=2, nrows=1, width_ratios=[0.8, 0.2], figsize=(10, 6))\n",
    "ylims = [-1.2,1.2]\n",
    "\n",
    "ax.plot(i_kronRad, (cmodel_mag-kron_mag),'.',alpha=.1,label='Kron',color='blue')\n",
    "ax.plot(i_kronRad, (cmodel_mag-gaap_mag),'.',alpha=.1, label='gaapOptimal',color='green')\n",
    "#ax.plot(truth_mag, (cmodel_mag-truth_mag),'.',alpha=.1,label='cModel',color='r')\n",
    "\n",
    "ax2.hist((cmodel_mag-kron_mag),edgecolor='blue',orientation=\"horizontal\", bins=np.linspace(ylims[0], ylims[1], 40),align='mid',histtype=\"step\",stacked=True,fill=False)\n",
    "ax2.hist((cmodel_mag-gaap_mag),edgecolor='green',orientation=\"horizontal\", bins=np.linspace(ylims[0], ylims[1], 40),align='mid',histtype=\"step\",stacked=True,fill=False)\n",
    "ax2.set_ylim([-1,1])\n",
    "#ax.axhline(0,linestyle='--')\n",
    "ax.set_xlabel('Kron Radius [i-band; pixels]')\n",
    "ax.set_ylabel('cModel mag - Other mag')\n",
    "ax.set_ylim([-1,1])\n",
    "ax.set_xlim([0,15])\n",
    "ax.legend()\n"
   ]
  },
  {
   "cell_type": "code",
   "execution_count": 14,
   "id": "ca225554-ed54-4934-a656-89ac1cc9ad76",
   "metadata": {
    "execution": {
     "iopub.execute_input": "2025-01-28T22:17:45.508910Z",
     "iopub.status.busy": "2025-01-28T22:17:45.508699Z",
     "iopub.status.idle": "2025-01-28T22:17:45.629636Z",
     "shell.execute_reply": "2025-01-28T22:17:45.629014Z",
     "shell.execute_reply.started": "2025-01-28T22:17:45.508893Z"
    }
   },
   "outputs": [
    {
     "name": "stdout",
     "output_type": "stream",
     "text": [
      "i_kronFlux\n",
      "i_kronFlux_flag\n",
      "i_kronFlux_flag_bad_radius\n",
      "i_kronFlux_flag_bad_shape\n",
      "i_kronFlux_flag_bad_shape_no_psf\n",
      "i_kronFlux_flag_edge\n",
      "i_kronFlux_flag_no_fallback_radius\n",
      "i_kronFlux_flag_no_minimum_radius\n",
      "i_kronFlux_flag_small_radius\n",
      "i_kronFlux_flag_used_minimum_radius\n",
      "i_kronFlux_flag_used_psf_radius\n",
      "i_kronFluxErr\n",
      "i_kronRad\n"
     ]
    }
   ],
   "source": [
    "query = \"SELECT column_name, datatype, description, unit \" \\\n",
    "        \"FROM tap_schema.columns \" \\\n",
    "        \"WHERE table_name = 'dp02_dc2_catalogs.Object'\"\n",
    "\n",
    "schema_results = service.search(query).to_table()\n",
    "search_string = 'kron'\n",
    "band = 'i_'\n",
    "for cname in schema_results['column_name']:\n",
    "    if (cname.find(search_string) > -1) and (cname.find(band) > -1):\n",
    "        print(cname)"
   ]
  },
  {
   "cell_type": "code",
   "execution_count": 15,
   "id": "432db690-be7e-43bf-a640-a80af727652b",
   "metadata": {
    "execution": {
     "iopub.execute_input": "2025-01-28T22:17:45.630368Z",
     "iopub.status.busy": "2025-01-28T22:17:45.630205Z",
     "iopub.status.idle": "2025-01-28T22:17:45.637651Z",
     "shell.execute_reply": "2025-01-28T22:17:45.635126Z",
     "shell.execute_reply.started": "2025-01-28T22:17:45.630354Z"
    }
   },
   "outputs": [
    {
     "ename": "SystemExit",
     "evalue": "",
     "output_type": "error",
     "traceback": [
      "An exception has occurred, use %tb to see the full traceback.\n",
      "\u001b[0;31mSystemExit\u001b[0m\n"
     ]
    },
    {
     "name": "stderr",
     "output_type": "stream",
     "text": [
      "/opt/lsst/software/stack/conda/envs/lsst-scipipe-9.0.0/lib/python3.11/site-packages/IPython/core/interactiveshell.py:3585: UserWarning: To exit: use 'exit', 'quit', or Ctrl-D.\n",
      "  warn(\"To exit: use 'exit', 'quit', or Ctrl-D.\", stacklevel=1)\n"
     ]
    }
   ],
   "source": [
    "sys.exit()"
   ]
  },
  {
   "cell_type": "markdown",
   "id": "52267cd8-1041-4e09-bda1-248468b21971",
   "metadata": {},
   "source": [
    " OLD STUFF BELOW: (see notes from Melissa 1/14 at the end for the plan)"
   ]
  },
  {
   "cell_type": "markdown",
   "id": "ff2fc2b3-fb3b-4d92-a325-ace4dfa059dc",
   "metadata": {},
   "source": [
    "### 2.3 Compare (total) simulated photometry measured with the LSST pipelines to their input values\n",
    "\n",
    "The following cells will query the truth tables to get the input fluxes in the DP0.2 simulated objects, matched to those measured from the simulated images using the LSST pipelines. This comparison provides a sense of how good the various photometry measurement methods are by comparing input flux to measured flux. This provides some insight into what regimes they may perform well vs poorly.\n",
    "\n",
    "The below cells query the truth values for i-band mag, measured i-band mag values from the catalog, and a number of flags that are relevant to the quality of the galaxy photometric measurements. Specifically, request `fromBlend`, `detect_isIsolated`, and `i_blendedness` which will indicate how much blending may have occurred, how large the galaxies are, to help provide insight in cases of catastrophic outliers.\n",
    "\n",
    "Further, to ensure good measurements, restrict to objects which are detected at S/N > 5 and where `detect_isPrimary` is true, to ensure unique objects are returned (for more information on the use of the `detect_isPrimary` flag, see <a href=\"https://dp0-2.lsst.io/_static/nb_html/DP02_10_Deblender_Data_Products.html\">Tutorial Notebook 10</a> about deblender data products. Also, set the condition that `i_extendedness` = 1 in order to return a population of galaxies (i.e. remove stars as point sources). To expedite the search we will limit to a 0.1 degree region on the sky."
   ]
  },
  {
   "cell_type": "code",
   "execution_count": null,
   "id": "0d28a6ad-4436-410c-9b9d-e995140be304",
   "metadata": {
    "execution": {
     "iopub.status.busy": "2025-01-28T22:17:45.638051Z",
     "iopub.status.idle": "2025-01-28T22:17:45.638259Z",
     "shell.execute_reply": "2025-01-28T22:17:45.638172Z",
     "shell.execute_reply.started": "2025-01-28T22:17:45.638162Z"
    }
   },
   "outputs": [],
   "source": [
    "query = \"SELECT mt.id_truth_type, mt.match_objectId, ts.ra, ts.dec, ts.truth_type, ts.flux_i, ts.redshift, \"\\\n",
    "        \"obj.coord_ra, obj.coord_dec, obj.detect_fromBlend, obj.detect_isIsolated, obj.i_blendedness_flag, obj.i_blendedness, obj.i_extendedness, \"\\\n",
    "        \"obj.i_kronFlux, obj.i_kronFluxErr, obj.i_kronRad, obj.i_kronFlux_flag, obj.i_cModelFlux, obj.i_gaapOptimalFlux \" + \\\n",
    "        \"FROM dp02_dc2_catalogs.MatchesTruth AS mt \"\\\n",
    "        \"JOIN dp02_dc2_catalogs.TruthSummary AS ts ON mt.id_truth_type = ts.id_truth_type \"\\\n",
    "        \"JOIN dp02_dc2_catalogs.Object AS obj ON mt.match_objectId = obj.objectId \"\\\n",
    "        \"WHERE (obj.detect_isPrimary = 1) AND (obj.i_kronFlux/obj.i_kronFluxErr > 10) AND (obj.i_extendedness = 1) AND \"\\\n",
    "        \"CONTAINS(POINT('ICRS', obj.coord_ra, obj.coord_dec), CIRCLE('ICRS', 62.0, -37.0, 0.20)) = 1 \""
   ]
  },
  {
   "cell_type": "code",
   "execution_count": null,
   "id": "1b10f993-c750-49a3-82c0-1c5a5112884a",
   "metadata": {
    "execution": {
     "iopub.status.busy": "2025-01-28T22:17:45.638968Z",
     "iopub.status.idle": "2025-01-28T22:17:45.639148Z",
     "shell.execute_reply": "2025-01-28T22:17:45.639072Z",
     "shell.execute_reply.started": "2025-01-28T22:17:45.639065Z"
    }
   },
   "outputs": [],
   "source": [
    "job = service.submit_job(query)\n",
    "job.run()\n",
    "job.wait(phases=['COMPLETED', 'ERROR'])\n",
    "print('Job phase is', job.phase)"
   ]
  },
  {
   "cell_type": "markdown",
   "id": "80ebe401-5124-40f1-8806-fa86850c75f4",
   "metadata": {},
   "source": [
    "Print the results of the search query."
   ]
  },
  {
   "cell_type": "code",
   "execution_count": null,
   "id": "6b0938c2-0724-459c-b560-56e0b4f2a330",
   "metadata": {
    "execution": {
     "iopub.status.busy": "2025-01-28T22:17:45.639841Z",
     "iopub.status.idle": "2025-01-28T22:17:45.640004Z",
     "shell.execute_reply": "2025-01-28T22:17:45.639932Z",
     "shell.execute_reply.started": "2025-01-28T22:17:45.639924Z"
    }
   },
   "outputs": [],
   "source": [
    "results = job.fetch_result()\n",
    "print(len(results))\n",
    "tab = results.to_table()\n",
    "tab"
   ]
  },
  {
   "cell_type": "markdown",
   "id": "1d22c355-0953-46e7-8e40-6614f088c607",
   "metadata": {},
   "source": [
    "### 2.4 Exploring the input vs output photometry\n",
    "\n",
    "This section will explore 3 photometric measurements that are relevant for galaxies: cModel, Kron and GaaP (as defined in Section 2.1). \n",
    "\n",
    "First, store the AB magnitudes to go with the fluxes extracted from the objectTable."
   ]
  },
  {
   "cell_type": "code",
   "execution_count": null,
   "id": "7a8000f6-a914-4073-8130-67d912f52b09",
   "metadata": {
    "execution": {
     "iopub.status.busy": "2025-01-28T22:17:45.640475Z",
     "iopub.status.idle": "2025-01-28T22:17:45.640706Z",
     "shell.execute_reply": "2025-01-28T22:17:45.640628Z",
     "shell.execute_reply.started": "2025-01-28T22:17:45.640621Z"
    }
   },
   "outputs": [],
   "source": [
    "truth_mag =  -2.50 * np.log10(tab['flux_i']) + 31.4\n",
    "\n",
    "cmodel_mag = -2.50 * np.log10(tab['i_cModelFlux']) + 31.4\n",
    "kron_mag = -2.50 * np.log10(tab['i_kronFlux']) + 31.4\n",
    "gaap_mag = -2.50 * np.log10(tab['i_gaapOptimalFlux']) + 31.4\n"
   ]
  },
  {
   "cell_type": "markdown",
   "id": "4f28e9cf-fd39-4281-8c56-e4f1040475df",
   "metadata": {},
   "source": [
    "The next cell will compare the percent difference between the three different photometric measurements with the input (truth). Additionally a running median is calculated to help interpret the typical accuracy of the different methods. The median has the best overall percent accuracy for cModel, which is has < 3.5% median deviation for all magnitudes < 24 ABmag. Additionally, the Gaussian and PSF photometry is highly inaccurate, as explained in Section 1.1 this is not meant to measure the total flux of galaxies, but rather to measure accurate colors using a sub-region of each galaxy. Deviation from truth for this measurement is thus expected."
   ]
  },
  {
   "cell_type": "code",
   "execution_count": null,
   "id": "14124486-2f17-4fc2-8b17-ff62e91028e3",
   "metadata": {
    "execution": {
     "iopub.status.busy": "2025-01-28T22:17:45.641381Z",
     "iopub.status.idle": "2025-01-28T22:17:45.641548Z",
     "shell.execute_reply": "2025-01-28T22:17:45.641474Z",
     "shell.execute_reply.started": "2025-01-28T22:17:45.641467Z"
    }
   },
   "outputs": [],
   "source": [
    "fig, ax = plt.subplots()\n",
    "\n",
    "ax.plot(truth_mag, (tab['i_cModelFlux']-tab['flux_i'])/tab['flux_i'] * 100,'.',alpha=.1,label='cModel',color='r')\n",
    "ax.plot(truth_mag, (tab['i_kronFlux']-tab['flux_i'])/tab['flux_i'] * 100,'.',alpha=.1,label='Kron',color='blue')\n",
    "ax.plot(truth_mag, (tab['i_gaapOptimalFlux']-tab['flux_i'])/tab['flux_i'] * 100,'.',alpha=.1, label='gaapOptimal',color='green')\n",
    "\n",
    "x = truth_mag\n",
    "y = (tab['i_cModelFlux']-tab['flux_i'])/tab['flux_i'] *100\n",
    "bins=np.arange(16,27,1)\n",
    "bin_means, bin_edges, binnumber = stats.binned_statistic(x,\n",
    "             y, statistic='median', bins=bins)\n",
    "binctr = bin_edges[:-1] + (bin_edges[1:]-bin_edges[:-1])/2\n",
    "plt.plot(binctr, bin_means, color='red', lw=2, label='cModel bin median',zorder=10)\n",
    "for i in range(len(bin_means)):\n",
    "    print(binctr[i],bin_means[i],'cModel')\n",
    "\n",
    "y = (tab['i_kronFlux']-tab['flux_i'])/tab['flux_i'] *100\n",
    "bin_means, bin_edges, binnumber = stats.binned_statistic(x,\n",
    "             y, statistic='median', bins=bins)\n",
    "binctr = bin_edges[:-1] + (bin_edges[1:]-bin_edges[:-1])/2\n",
    "plt.plot(binctr, bin_means, color='blue', lw=2, label='kron bin median',zorder=10)\n",
    "for i in range(len(bin_means)):\n",
    "    print(binctr[i],bin_means[i],'kron')\n",
    "\n",
    "y = (tab['i_gaapOptimalFlux']-tab['flux_i'])/tab['flux_i'] * 100\n",
    "bin_means, bin_edges, binnumber = stats.binned_statistic(x,\n",
    "             y, statistic='median', bins=bins)\n",
    "binctr = bin_edges[:-1] + (bin_edges[1:]-bin_edges[:-1])/2\n",
    "plt.plot(binctr, bin_means, color='green', lw=2, label='GaaP Optimal bin median',zorder=10)#,color='green')\n",
    "\n",
    "ax.axhline(0,linestyle='--')\n",
    "ax.set_xlabel('True i-band Magnitude')\n",
    "ax.set_ylabel('Flux Percent Accuracy (F$_{obs}$ - F$_{true}$) / F$_{true}$ x 100%')\n",
    "ax.set_ylim([-100,100])\n",
    "ax.set_xlim([14,27])\n",
    "plt.legend()\n"
   ]
  },
  {
   "cell_type": "markdown",
   "id": "0d55a187-ccc9-4975-9868-a716e1106559",
   "metadata": {},
   "source": [
    "Below, take a closer look at the differences in AB magnitude and how the overall distributions compare. While the systematic offset of GaaP is clear, the medians of Kron and cModel both compare well. These two plots indicate that there is excellent agreement between the cModel measurements and the input, at the level of < 0.03 magnitude at ABmag of < 25. Kron is also adequate overall, although at intermediate magnitudes (ABmag ~ 18-22) exhibits a slight underestimate of flux (overestimate in magnitude of order 0.1-0.2).  \n",
    "\n",
    "Note that the input light profiles of simulated galaxies in DP0.2 are sersic profiles; thus it is perhaps not unexpected that modeling the light as sersic profiles by the LSST pipelines to produce cModel fluxes would perform the best."
   ]
  },
  {
   "cell_type": "code",
   "execution_count": null,
   "id": "8bbb1505-5e91-49d2-b94e-045ff9f482e2",
   "metadata": {
    "execution": {
     "iopub.status.busy": "2025-01-28T22:17:45.641902Z",
     "iopub.status.idle": "2025-01-28T22:17:45.642057Z",
     "shell.execute_reply": "2025-01-28T22:17:45.641982Z",
     "shell.execute_reply.started": "2025-01-28T22:17:45.641975Z"
    }
   },
   "outputs": [],
   "source": [
    "fig, (ax, ax2) = plt.subplots(ncols=2, nrows=1, width_ratios=[0.8, 0.2], figsize=(10, 6))\n",
    "ylims = [-1.2,1.2]\n",
    "\n",
    "ax.plot(truth_mag, (kron_mag-truth_mag),'.',alpha=.1,label='Kron',color='blue')\n",
    "ax.plot(truth_mag, (gaap_mag-truth_mag),'.',alpha=.1, label='gaapOptimal',color='green')\n",
    "ax.plot(truth_mag, (cmodel_mag-truth_mag),'.',alpha=.1,label='cModel',color='r')\n",
    "\n",
    "ax2.hist((kron_mag-truth_mag),edgecolor='blue',orientation=\"horizontal\", bins=np.linspace(ylims[0], ylims[1], 40),align='mid',histtype=\"step\",stacked=True,fill=False)\n",
    "ax2.hist((gaap_mag-truth_mag),edgecolor='green',orientation=\"horizontal\", bins=np.linspace(ylims[0], ylims[1], 40),align='mid',histtype=\"step\",stacked=True,fill=False)\n",
    "ax2.hist((cmodel_mag-truth_mag),edgecolor='red',orientation=\"horizontal\", bins=np.linspace(ylims[0], ylims[1], 40),align='mid',histtype=\"step\",stacked=True,fill=False)\n",
    "ax2.axhline(0,linestyle='--')\n",
    "\n",
    "x = truth_mag\n",
    "y = (cmodel_mag-truth_mag)\n",
    "\n",
    "bin_means, bin_edges, binnumber = stats.binned_statistic(x,\n",
    "             y, statistic='median', bins=bins)\n",
    "binctr = bin_edges[:-1] + (bin_edges[1:]-bin_edges[:-1])/2\n",
    "ax.plot(binctr, bin_means, color='red', lw=2, label='cModel bin median',zorder=10)\n",
    "for i in range(len(bin_means)):\n",
    "    print(binctr[i],bin_means[i],'cModel')\n",
    "\n",
    "    \n",
    "y = (kron_mag-truth_mag)\n",
    "bin_means, bin_edges, binnumber = stats.binned_statistic(x,\n",
    "             y, statistic='median', bins=bins)\n",
    "binctr = bin_edges[:-1] + (bin_edges[1:]-bin_edges[:-1])/2\n",
    "ax.plot(binctr, bin_means, color='blue', lw=2, label='kron bin median',zorder=10)\n",
    "for i in range(len(bin_means)):\n",
    "    print(binctr[i],bin_means[i],'kron')\n",
    "\n",
    "y = (gaap_mag-truth_mag)\n",
    "bin_means, bin_edges, binnumber = stats.binned_statistic(x,\n",
    "             y, statistic='median', bins=bins)\n",
    "binctr = bin_edges[:-1] + (bin_edges[1:]-bin_edges[:-1])/2\n",
    "ax.plot(binctr, bin_means, color='green', lw=2, label='GaaP Optimal bin median',zorder=10)#,color='green')\n",
    "\n",
    "ax.axhline(0,linestyle='--')\n",
    "ax.set_xlabel('True i-band Magnitude')\n",
    "ax.set_ylabel('Magnitude difference (M$_{obs}$ - M$_{true}$)')\n",
    "ax.set_xlim([14,27])\n",
    "ax.set_ylim(ylims)\n",
    "ax.legend()\n"
   ]
  },
  {
   "cell_type": "markdown",
   "id": "8a3c30b3-721e-4cbc-abfd-8d4c9b216de8",
   "metadata": {},
   "source": [
    "The next cells will explore and compare the Kron magnitudes to truth under various circumstances. 2 basic paramters are set: extendedness = 1 means the source is a galaxy; kronFlag = 0 identifies galaxies for which there were no problems flagged in the Kron flux measurement. \n",
    "\n",
    "Test whether the following blending parameters indicate that blending contributes to the inaccurate measurement of the photometry:\n",
    "\n",
    "1) detect_fromBlend = 1 means some deblending happened prior to flux measurement. This is responsible for some under-estimated magnitude (over-estimated flux) perhaps because neighbors were not removed at the bright end?\n",
    "\n",
    "2) The increased scatter at faint magnitudes is due to increased fraction of flux contaminated by neighbors i_blendedness: (1 - child_flux/parent_flux)\n",
    "   \n",
    "3) detect_isIsolated = 1 means no deblending and the galaxy has no blended neighbors. The upturn at bright mags is not there among isolated galaxies\n",
    "\n",
    "4) Not sure i understand the tail to negative flux difference (i.e. underestimated flux) at bright mags"
   ]
  },
  {
   "cell_type": "code",
   "execution_count": null,
   "id": "3f5073a8-7c3d-4361-92b7-e1fa05c5dcde",
   "metadata": {
    "execution": {
     "iopub.status.busy": "2025-01-28T22:17:45.642739Z",
     "iopub.status.idle": "2025-01-28T22:17:45.642927Z",
     "shell.execute_reply": "2025-01-28T22:17:45.642843Z",
     "shell.execute_reply.started": "2025-01-28T22:17:45.642833Z"
    }
   },
   "outputs": [],
   "source": [
    "# here add a second set of panels to try to understand the small bias at bright end of kron (is it kron radius-dependent? since its not deblending dependent?\n",
    "\n",
    "fig,(ax, ax2) = plt.subplots(1, 2,figsize=(12,5))\n",
    "\n",
    "whgood = np.where((tab['i_kronFlux_flag'] == 0) & ( tab['detect_fromBlend'] == 1))[0]\n",
    "\n",
    "# color scale by blendedness, or by kron radius to see dependence\n",
    "cmap = tab['i_blendedness'][whgood] #only saw things blended with 1 neighbor is this acutally boolean?\n",
    "vmax = 0.2\n",
    "colmaplabel='Fraction of flux contaminated by neighbors'\n",
    "cmap = tab['i_kronRad'][whgood]\n",
    "vmax = 12\n",
    "colmaplabel='Kron Radius [pixels]'\n",
    "\n",
    "im = ax.scatter(truth_mag[whgood],(kron_mag[whgood]-truth_mag[whgood]),c=cmap, marker='.', alpha=.5,vmin=0,vmax=vmax,label='fromBlend')\n",
    "\n",
    "ax.axhline(0,linestyle='--')\n",
    "ax.set_title('Kron Photometry')\n",
    "ax.set_xlabel('truth AB Magnitude [i-band]')\n",
    "ax.set_ylabel('Mag Percent Accuracy (M$_{obs}$ - M$_{true}$) ')\n",
    "ax.set_xlim([16,26])\n",
    "ax.set_ylim([-1,1])\n",
    "ax.legend()\n",
    "\n",
    "whgood = np.where((tab['i_kronFlux_flag'] == 0) & (tab['i_extendedness'] == 1) & (tab['detect_isIsolated'] == 1) )[0]\n",
    "\n",
    "# color scale by blendedness, or by kron radius to see dependence\n",
    "cmap = tab['i_blendedness'][whgood]\n",
    "vmax = 0.2\n",
    "colmaplabel='Fraction of flux contaminated by neighbors'\n",
    "cmap = tab['i_kronRad'][whgood]\n",
    "vmax = 12\n",
    "colmaplabel='Kron Radius [pixels]'\n",
    "\n",
    "ax2.scatter(truth_mag[whgood],(kron_mag[whgood]-truth_mag[whgood]),c=cmap, marker='.', alpha=.5,vmin=0,vmax=vmax,label='isIsolated')\n",
    "print(len(whgood))\n",
    "ax2.set_xlabel('truth AB Magnitude [i-band]')\n",
    "ax2.set_ylabel('Magnitude offset (M$_{obs}$ - M$_{true}$) ')\n",
    "ax2.set_ylim([-1,1])\n",
    "ax2.set_xlim([16,26])\n",
    "ax2.legend()\n",
    "ax2.axhline(0,linestyle='--')\n",
    "ax2.set_title('Kron Photometry')\n",
    "\n",
    "fig.subplots_adjust(right=0.8)\n",
    "cbar_ax = fig.add_axes([0.85, 0.15, 0.05, 0.7])\n",
    "fig.colorbar(im, cax=cbar_ax,label=colmaplabel)\n"
   ]
  },
  {
   "cell_type": "markdown",
   "id": "947bfd05-2762-4525-bac4-83745a230999",
   "metadata": {},
   "source": [
    "The above plots show that blending and contamination of flux by neighbors can result in inaccurate flux among the strong outliers, but does not cause the systematic overestimate in magnitude by Kron measurements at intermediate magnitudes. However, it is also the case that nearly none of these overestimated sources are isolated (they are blended with neibors). Large galaxy radius does increase with brightness but otherwise does not seem to give rise to the offset. (TBD: otherwise perhaps its the case that kron is not a good measure of multi-component light profiles, and the sum of 2 sersic models does a better job? Not sure how to test that. Andreon et al. 2002 says \"the 2MASS isophotal mag misses some 0.1 mag with respect the Kron–like mag listed in the 2MASS database, which in turn misses about 0.15 mag with respect the true Kron mag (because computed on a too small object region), which in turn misses 5 to 10% of the total flux.).\""
   ]
  },
  {
   "cell_type": "code",
   "execution_count": null,
   "id": "6fdf7c38-0c80-4351-856d-8390d22ad375",
   "metadata": {
    "execution": {
     "iopub.status.busy": "2025-01-28T22:17:45.643513Z",
     "iopub.status.idle": "2025-01-28T22:17:45.643677Z",
     "shell.execute_reply": "2025-01-28T22:17:45.643603Z",
     "shell.execute_reply.started": "2025-01-28T22:17:45.643596Z"
    }
   },
   "outputs": [],
   "source": [
    "whgood = np.where((tab['i_kronFlux_flag'] == 0) & ( tab['detect_fromBlend'] == 1))[0]\n",
    "\n",
    "whtest = np.where((truth_mag[whgood] < 20) & \n",
    "                  ((kron_mag[whgood]-truth_mag[whgood]) > 0.15) & \n",
    "                  ((kron_mag[whgood]-truth_mag[whgood]) < 0.25))[0]\n",
    "\n",
    "print(whtest)\n",
    "for i in range(2):\n",
    "    ra = results['ra'][whgood][whtest][i]\n",
    "    dec = results['dec'][whgood][whtest][i]\n",
    "    coord = SkyCoord(ra=ra*u.degree, dec=dec*u.degree, frame='icrs')\n",
    "    radius = .1 * u.deg\n",
    "\n",
    "    spherePoint = lsst.geom.SpherePoint(ra*geom.degrees, dec*geom.degrees)\n",
    "\n",
    "    query = \"SELECT lsst_patch, lsst_tract, s_region, \" + \\\n",
    "            \"access_format, access_url, dataproduct_subtype \" + \\\n",
    "            \"FROM ivoa.ObsCore \" + \\\n",
    "            \"WHERE dataproduct_type = 'image' \" + \\\n",
    "            \"AND obs_collection = 'LSST.DP02' \" + \\\n",
    "            \"AND dataproduct_subtype = 'lsst.deepCoadd_calexp' \" + \\\n",
    "            \"AND lsst_band = 'i' \" + \\\n",
    "            \"AND CONTAINS(POINT('ICRS', \" + str(coord.ra.value) + \\\n",
    "            \", \" + str(coord.dec.value) + \"), \" + \\\n",
    "            \"s_region) = 1\"\n",
    "\n",
    "    job = service.submit_job(query)\n",
    "    job.run()\n",
    "    job.wait(phases=['COMPLETED', 'ERROR'])\n",
    "    print('Job phase is', job.phase)\n",
    "    assert job.phase == 'COMPLETED'\n",
    "    results2 = job.fetch_result()\n",
    "    results2.to_table()\n",
    "\n",
    "    tract = results2['lsst_tract'][0]\n",
    "    patch = results2['lsst_patch'][0]\n",
    "\n",
    "    dataId = {'band': 'i', 'tract': tract,\n",
    "              'patch': patch}\n",
    "\n",
    "    print(dataId, ra, dec, patch, tract)\n",
    "    imtype = 'deepCoadd'\n",
    "    sodaCutout = make_image_cutout(service, ra, dec, dataId=dataId,\n",
    "                         imtype=imtype, cutout_size=0.005)\n",
    "    plotImage(ExposureF(sodaCutout))\n",
    "\n",
    "sys.exit()"
   ]
  },
  {
   "cell_type": "code",
   "execution_count": null,
   "id": "1e525f6f-5521-4a67-9abb-b96e4a198043",
   "metadata": {
    "execution": {
     "iopub.status.busy": "2025-01-28T22:17:45.644144Z",
     "iopub.status.idle": "2025-01-28T22:17:45.644292Z",
     "shell.execute_reply": "2025-01-28T22:17:45.644224Z",
     "shell.execute_reply.started": "2025-01-28T22:17:45.644218Z"
    }
   },
   "outputs": [],
   "source": [
    "# the following plots are identical, consider a different comparison that is informative\n",
    "fig,(ax, ax2) = plt.subplots(1, 2,figsize=(12,5))\n",
    "\n",
    "whgood = np.where((tab['i_kronFlux_flag'] == 0) & ( tab['detect_fromBlend'] == 1))[0]\n",
    "\n",
    "cmap = tab['i_blendedness'][whgood] #only saw things blended with 1 neighbor is this acutally boolean?\n",
    "vmax = 0.2\n",
    "colmaplabel='Fraction of flux contaminated by neighbors'\n",
    "\n",
    "#cmap = tab['i_kronRad'][whgood]\n",
    "#vmax = 20\n",
    "#colmaplabel='Kron Radius [pixels]'\n",
    "\n",
    "#ax.scatter(truth_mag,(cmodel_mag-truth_mag)/truth_mag,color='k', marker='.', alpha=.5)#,vmin=0,vmax=20)\n",
    "im = ax.scatter(truth_mag[whgood],(cmodel_mag[whgood]-truth_mag[whgood]),c=cmap, marker='.', alpha=.5,vmin=0,vmax=vmax,label='fromBlend')\n",
    "\n",
    "\n",
    "ax.set_xlabel('truth AB Magnitude [i-band]')\n",
    "ax.set_ylabel('Mag Fractional Accuracy (M$_{obs}$ - M$_{true}$) ')\n",
    "ax.set_ylim([-1,1])\n",
    "ax.set_xlim([16,26])\n",
    "ax.axhline(0,linestyle='--')\n",
    "ax.set_title('cModel Photometry')\n",
    "ax.legend()\n",
    "#cmap = tab['i_kronRad'][whgood] #tab['i_blendedness'][whgood] # #tab['i_blendedness'][whgood] #\n",
    "whgood = np.where((tab['i_kronFlux_flag'] == 0) & (tab['i_extendedness'] == 1) & (tab['detect_isIsolated'] == 1) )[0]\n",
    "cmap = tab['i_blendedness'][whgood]\n",
    "\n",
    "#ax2.scatter(truth_mag,(cmodel_mag-truth_mag),color='k', marker='.', alpha=.5)#,vmin=0,vmax=20)\n",
    "ax2.scatter(truth_mag[whgood],(cmodel_mag[whgood]-truth_mag[whgood]),c=cmap, marker='.', alpha=.5,vmin=0,vmax=vmax,label='isIsolated')\n",
    "ax2.set_xlabel('truth AB Magnitude [i-band]')\n",
    "#ax2.set_ylabel('Mag Accuracy (M$_{obs}$ - M$_{true}$) /  M$_{true}$')\n",
    "#ax2.set_ylim([-1.5,1.5])\n",
    "ax2.set_ylim([-1,1])\n",
    "ax2.set_xlim([16,26])\n",
    "ax2.axhline(0,linestyle='--')\n",
    "print(len(whgood))\n",
    "\n",
    "fig.subplots_adjust(right=0.8)\n",
    "cbar_ax = fig.add_axes([0.85, 0.15, 0.05, 0.7])\n",
    "fig.colorbar(im, cax=cbar_ax,label=colmaplabel)\n",
    "\n",
    "ax2.set_title('cModel Photometry')\n",
    "ax2.legend()"
   ]
  },
  {
   "cell_type": "markdown",
   "id": "b16c2ecf-c99e-4b30-8d0c-1655c1cb7f92",
   "metadata": {},
   "source": [
    "### 2.5 Integrated photometry for high-redshift galaxies\n",
    "\n",
    "This section compares the photometry measurements for both low redshift and high redshift galaxies to see if one performs better for larger or smaller galaxies. In both cases it seems that while `kron` and `cModel` are both adequate, like the previous section, on average `cModel` has slightly better performance, in particular at bright magnitudes."
   ]
  },
  {
   "cell_type": "code",
   "execution_count": null,
   "id": "09d48509-bf5d-4e1b-a136-2c0bb4c03084",
   "metadata": {
    "execution": {
     "iopub.status.busy": "2025-01-28T22:17:45.644842Z",
     "iopub.status.idle": "2025-01-28T22:17:45.644994Z",
     "shell.execute_reply": "2025-01-28T22:17:45.644924Z",
     "shell.execute_reply.started": "2025-01-28T22:17:45.644917Z"
    }
   },
   "outputs": [],
   "source": [
    "\n",
    "zlim = 0.5\n",
    "whz = np.where(results['redshift'] < zlim)[0]\n",
    "whighz = np.where(results['redshift'] >= zlim)[0]\n",
    "print(len(results['redshift']),len(whz),len(whighz))\n",
    "\n",
    "fig,(ax, ax2) = plt.subplots(1, 2,figsize=(10,5))\n",
    "\n",
    "ax.axhline(0,linestyle='--')\n",
    "\n",
    "ax.plot(truth_mag[whz], (kron_mag[whz]-truth_mag[whz]),'.',alpha=.1,label='Kron',color='blue')\n",
    "#ax.plot(truth_mag[whz], (gaap_mag[whz]-truth_mag[whz]),'.',alpha=.1, label='gaapOptimal',color='green')\n",
    "ax.plot(truth_mag[whz], (cmodel_mag[whz]-truth_mag[whz]),'.',alpha=.1,label='cModel',color='r')\n",
    "\n",
    "x = truth_mag[whz]\n",
    "y = (cmodel_mag[whz]-truth_mag[whz])\n",
    "bin_means, bin_edges, binnumber = stats.binned_statistic(x,\n",
    "             y, statistic='median', bins=bins)\n",
    "binctr = bin_edges[:-1] + (bin_edges[1:]-bin_edges[:-1])/2\n",
    "ax.plot(binctr, bin_means, color='red', lw=2, label='cModel bin median',zorder=10)\n",
    "\n",
    "y = (kron_mag[whz]-truth_mag[whz])\n",
    "bin_means, bin_edges, binnumber = stats.binned_statistic(x,\n",
    "             y, statistic='median', bins=bins)\n",
    "binctr = bin_edges[:-1] + (bin_edges[1:]-bin_edges[:-1])/2\n",
    "ax.plot(binctr, bin_means, color='blue', lw=2, label='kron bin median',zorder=10)\n",
    "\n",
    "#y = (gaap_mag[whz]-truth_mag[whz])\n",
    "#bin_means, bin_edges, binnumber = stats.binned_statistic(x,\n",
    "#             y, statistic='median', bins=bins)\n",
    "#binctr = bin_edges[:-1] + (bin_edges[1:]-bin_edges[:-1])/2\n",
    "#ax.plot(binctr, bin_means, color='green', lw=2, label='GaaP Optimal bin median',zorder=10,linestyle='--')#,color='green')\n",
    "\n",
    "ax.set_xlabel('True i-band Magnitude')\n",
    "ax.set_ylabel('Mag Accuracy (M$_{obs}$ - M$_{true}$) ')\n",
    "#ax.set_ylim([-.2,.2])\n",
    "ax.set_xlim([16,26])\n",
    "ax.set_title('Low redshift z<'+str(zlim))\n",
    "ax.set_ylim([-1,1])\n",
    "\n",
    "ax2.axhline(0,linestyle='--')\n",
    "\n",
    "ax2.plot(truth_mag[whighz], (kron_mag[whighz]-truth_mag[whighz]),'.',alpha=.1,label='Kron',color='blue')\n",
    "#ax2.plot(truth_mag[whighz], (gaap_mag[whighz]-truth_mag[whighz]),'.',alpha=.1, label='gaapOptimal',color='green')\n",
    "ax2.plot(truth_mag[whighz], (cmodel_mag[whighz]-truth_mag[whighz]),'.',alpha=.1,label='cModel',color='r')\n",
    "\n",
    "x = truth_mag[whighz]\n",
    "y = (cmodel_mag[whighz]-truth_mag[whighz])\n",
    "\n",
    "bin_means, bin_edges, binnumber = stats.binned_statistic(x,\n",
    "             y, statistic='median', bins=bins)\n",
    "binctr = bin_edges[:-1] + (bin_edges[1:]-bin_edges[:-1])/2\n",
    "ax2.plot(binctr, bin_means, color='red', lw=2, label='cModel bin median',zorder=10)\n",
    "\n",
    "y = (kron_mag[whighz]-truth_mag[whighz])\n",
    "bin_means, bin_edges, binnumber = stats.binned_statistic(x,\n",
    "             y, statistic='median', bins=bins)\n",
    "binctr = bin_edges[:-1] + (bin_edges[1:]-bin_edges[:-1])/2\n",
    "ax2.plot(binctr, bin_means, color='blue', lw=2, label='kron bin median',zorder=10)\n",
    "\n",
    "#y = (gaap_mag[whighz]-truth_mag[whighz])\n",
    "#bin_means, bin_edges, binnumber = stats.binned_statistic(x,\n",
    "#             y, statistic='median', bins=bins)\n",
    "#binctr = bin_edges[:-1] + (bin_edges[1:]-bin_edges[:-1])/2\n",
    "#ax2.plot(binctr, bin_means, color='green', lw=2, label='GaaP Optimal bin median',zorder=10,linestyle='--')#,color='green')\n",
    "\n",
    "ax2.set_xlabel('True i-band Magnitude')\n",
    "ax2.set_ylim([-1,1])\n",
    "ax2.set_xlim([16,26])\n",
    "ax2.set_title('High redshift z>'+str(zlim))\n",
    "plt.legend()"
   ]
  },
  {
   "cell_type": "markdown",
   "id": "b6bc05d8-2f63-4b24-a123-4dd6620ac98a",
   "metadata": {},
   "source": [
    "## 3. Photometry for colors\n",
    "\n",
    "Here we show observed vs intrinsic colors to demonstrate that GaaP is good for that. Except all 3 measurements are decent and actually cModel has hte least bias (reason, and purpose of GaaP is still TBD).\n",
    "\n",
    "First, query for the photometry in g and z bands (which will have a large difference in spatial resolution given their relatively large difference wavelengths). u and y band would have an even larger wavelength baseline for comparison, but g and z have better throughput and thus S/N are typically higher. Like earlier sections, also retrieve the truth table input fluxes as a baseline for assessing accuracy in color between the different measurements."
   ]
  },
  {
   "cell_type": "code",
   "execution_count": null,
   "id": "fd7e6ebb-f348-4df9-9859-9d4febb51238",
   "metadata": {
    "execution": {
     "iopub.status.busy": "2025-01-28T22:17:45.645403Z",
     "iopub.status.idle": "2025-01-28T22:17:45.645576Z",
     "shell.execute_reply": "2025-01-28T22:17:45.645502Z",
     "shell.execute_reply.started": "2025-01-28T22:17:45.645496Z"
    }
   },
   "outputs": [],
   "source": [
    "query = \"SELECT mt.id_truth_type, mt.match_objectId, ts.ra, ts.dec, ts.truth_type, ts.flux_g, ts.flux_z, ts.redshift, \"\\\n",
    "        \"obj.coord_ra, obj.coord_dec, obj.detect_fromBlend, obj.detect_isIsolated, obj.i_blendedness_flag, obj.i_blendedness, obj.i_extendedness, \"\\\n",
    "        \"obj.g_kronFlux, obj.g_kronFluxErr, obj.g_kronRad, obj.g_kronFlux_flag, obj.g_cModelFlux, obj.g_gaapOptimalFlux, \" + \\\n",
    "        \"obj.z_kronFlux, obj.z_kronFluxErr, obj.z_kronRad, obj.z_kronFlux_flag, obj.z_cModelFlux, obj.z_gaapOptimalFlux \" + \\\n",
    "        \"FROM dp02_dc2_catalogs.MatchesTruth AS mt \"\\\n",
    "        \"JOIN dp02_dc2_catalogs.TruthSummary AS ts ON mt.id_truth_type = ts.id_truth_type \"\\\n",
    "        \"JOIN dp02_dc2_catalogs.Object AS obj ON mt.match_objectId = obj.objectId \"\\\n",
    "        \"WHERE (obj.detect_isPrimary = 1) AND (obj.g_kronFlux/obj.g_kronFluxErr > 10)  AND (obj.g_extendedness = 1) AND \"\\\n",
    "        \"CONTAINS(POINT('ICRS', obj.coord_ra, obj.coord_dec), CIRCLE('ICRS', 62.0, -37.0, 0.20)) = 1 \""
   ]
  },
  {
   "cell_type": "code",
   "execution_count": null,
   "id": "baec0660-1125-43de-9f21-cc5ccef958f0",
   "metadata": {
    "execution": {
     "iopub.status.busy": "2025-01-28T22:17:45.646125Z",
     "iopub.status.idle": "2025-01-28T22:17:45.646276Z",
     "shell.execute_reply": "2025-01-28T22:17:45.646210Z",
     "shell.execute_reply.started": "2025-01-28T22:17:45.646203Z"
    }
   },
   "outputs": [],
   "source": [
    "job = service.submit_job(query)\n",
    "job.run()\n",
    "job.wait(phases=['COMPLETED', 'ERROR'])\n",
    "print('Job phase is', job.phase)\n",
    "\n",
    "results = job.fetch_result()\n",
    "tab = results.to_table()"
   ]
  },
  {
   "cell_type": "code",
   "execution_count": null,
   "id": "8d97291d-2043-40a6-859c-db391565a9da",
   "metadata": {
    "execution": {
     "iopub.status.busy": "2025-01-28T22:17:45.646746Z",
     "iopub.status.idle": "2025-01-28T22:17:45.646901Z",
     "shell.execute_reply": "2025-01-28T22:17:45.646830Z",
     "shell.execute_reply.started": "2025-01-28T22:17:45.646823Z"
    }
   },
   "outputs": [],
   "source": [
    "g_cmodel_mag = -2.50 * np.log10(tab['g_cModelFlux']) + 31.4\n",
    "g_kron_mag = -2.50 * np.log10(tab['g_kronFlux']) + 31.4\n",
    "g_gaap_mag = -2.50 * np.log10(tab['g_gaapOptimalFlux']) + 31.4\n",
    "g_truth_mag =  -2.50 * np.log10(tab['flux_g']) + 31.4\n",
    "\n",
    "z_cmodel_mag = -2.50 * np.log10(tab['z_cModelFlux']) + 31.4\n",
    "z_kron_mag = -2.50 * np.log10(tab['z_kronFlux']) + 31.4\n",
    "z_gaap_mag = -2.50 * np.log10(tab['z_gaapOptimalFlux']) + 31.4\n",
    "z_truth_mag =  -2.50 * np.log10(tab['flux_z']) + 31.4\n"
   ]
  },
  {
   "cell_type": "code",
   "execution_count": null,
   "id": "59afd145-cc34-4671-82ac-616ba6f28882",
   "metadata": {
    "execution": {
     "iopub.status.busy": "2025-01-28T22:17:45.647404Z",
     "iopub.status.idle": "2025-01-28T22:17:45.647566Z",
     "shell.execute_reply": "2025-01-28T22:17:45.647496Z",
     "shell.execute_reply.started": "2025-01-28T22:17:45.647490Z"
    }
   },
   "outputs": [],
   "source": [
    "# very confused about why these colors line up so perfectly when the mags do not...\n",
    "# maybe on the fainter end (S/N ~ 5) the colors differ more? Check.\n",
    "\n",
    "fig, (ax, ax2) = plt.subplots(ncols=2, nrows=1, width_ratios=[0.8, 0.2], figsize=(10, 6))\n",
    "ylims = [-0.2,0.2]\n",
    "\n",
    "truth_color = g_truth_mag - z_truth_mag\n",
    "kron_color = g_kron_mag - z_kron_mag\n",
    "cmodel_color = g_cmodel_mag - z_cmodel_mag\n",
    "gaap_color =  g_gaap_mag - z_gaap_mag\n",
    "\n",
    "ax.plot(z_kron_mag, kron_color-truth_color, '.',alpha=.5, label='Kron '+str(np.median(kron_color-truth_color)),color='b')\n",
    "ax.plot(z_cmodel_mag, cmodel_color-truth_color, '.',alpha=.5, label='cModel '+str(np.median(cmodel_color-truth_color)),color='r')\n",
    "ax.plot(z_gaap_mag, gaap_color-truth_color, '.',alpha=.5, label='GaaP optimal '+str(np.median(gaap_color-truth_color)),color='g')\n",
    "\n",
    "ax2.hist((kron_color-truth_color),edgecolor='blue',orientation=\"horizontal\", bins=np.linspace(ylims[0], ylims[1], 80),align='mid',histtype=\"step\",stacked=True,fill=False)\n",
    "ax2.hist((gaap_color-truth_color),edgecolor='green',orientation=\"horizontal\", bins=np.linspace(ylims[0], ylims[1], 80),align='mid',histtype=\"step\",stacked=True,fill=False)\n",
    "ax2.hist((cmodel_color-truth_color),edgecolor='red',orientation=\"horizontal\", bins=np.linspace(ylims[0], ylims[1], 80),align='mid',histtype=\"step\",stacked=True,fill=False)\n",
    "ax2.axhline(0,linestyle='--')\n",
    "\n",
    "\n",
    "x = np.arange(-.1,6,.1)\n",
    "#plt.plot(x,x,linestyle='--')\n",
    "#plt.plot(x+.1,x+.1,linestyle='--')\n",
    "#plt.plot(x-.1,x-.1,linestyle='--')\n",
    "ylims = [-1,1]\n",
    "ax.axhline(0)\n",
    "ax.set_ylim(ylims)\n",
    "ax.set_xlim([16,26])\n",
    "ax.set_xlabel('Observed g-band Magnitude')\n",
    "ax.set_ylabel('Observed g-z color - True g-z color')\n",
    "#ax2.set_ylabel('Observed g-z color - True g-z color')\n",
    "ax.legend()"
   ]
  },
  {
   "cell_type": "markdown",
   "id": "f00bea4c-b9cb-40e5-8e5d-23110210a3f3",
   "metadata": {},
   "source": [
    "### 4. Photometry for light profiles (i.e. how to use aperture photometry)\n",
    "Science application for aperture fluxes\n",
    "Not sure how to do this yet"
   ]
  },
  {
   "cell_type": "code",
   "execution_count": null,
   "id": "8575a64b-f166-453b-aebd-dd09d728a259",
   "metadata": {
    "execution": {
     "iopub.status.busy": "2025-01-28T22:17:45.648116Z",
     "iopub.status.idle": "2025-01-28T22:17:45.648268Z",
     "shell.execute_reply": "2025-01-28T22:17:45.648197Z",
     "shell.execute_reply.started": "2025-01-28T22:17:45.648190Z"
    }
   },
   "outputs": [],
   "source": [
    "query = \"SELECT mt.id_truth_type, mt.match_objectId, ts.ra, ts.dec, ts.truth_type, ts.flux_i, ts.redshift, \"\\\n",
    "        \"obj.coord_ra, obj.coord_dec, obj.detect_fromBlend, obj.detect_isIsolated, obj.i_blendedness_flag, obj.i_blendedness, obj.i_extendedness, \"\\\n",
    "        \"obj.i_ap03Flux, obj.i_ap06Flux, obj.i_ap09Flux, obj.i_ap12Flux, obj.i_ap17Flux, obj.i_ap25Flux, obj.i_ap35Flux, obj.i_ap50Flux, obj.i_kronRad, obj.i_kronFlux_flag \" + \\\n",
    "        \"FROM dp02_dc2_catalogs.MatchesTruth AS mt \"\\\n",
    "        \"JOIN dp02_dc2_catalogs.TruthSummary AS ts ON mt.id_truth_type = ts.id_truth_type \"\\\n",
    "        \"JOIN dp02_dc2_catalogs.Object AS obj ON mt.match_objectId = obj.objectId \"\\\n",
    "        \"WHERE (obj.detect_isPrimary = 1) AND (obj.i_kronFlux/obj.i_kronFluxErr > 10) AND (obj.i_extendedness = 1) AND \"\\\n",
    "        \"CONTAINS(POINT('ICRS', obj.coord_ra, obj.coord_dec), CIRCLE('ICRS', 62.0, -37.0, 0.20)) = 1 \""
   ]
  },
  {
   "cell_type": "code",
   "execution_count": null,
   "id": "24718446-033d-4b3d-b11f-a94c708c6d1e",
   "metadata": {
    "execution": {
     "iopub.status.busy": "2025-01-28T22:17:45.648662Z",
     "iopub.status.idle": "2025-01-28T22:17:45.648817Z",
     "shell.execute_reply": "2025-01-28T22:17:45.648749Z",
     "shell.execute_reply.started": "2025-01-28T22:17:45.648742Z"
    }
   },
   "outputs": [],
   "source": [
    "job = service.submit_job(query)\n",
    "job.run()\n",
    "job.wait(phases=['COMPLETED', 'ERROR'])\n",
    "print('Job phase is', job.phase)"
   ]
  },
  {
   "cell_type": "code",
   "execution_count": null,
   "id": "1ddc4e98-1151-4aba-806a-b9097d2edfd0",
   "metadata": {
    "execution": {
     "iopub.status.busy": "2025-01-28T22:17:45.649491Z",
     "iopub.status.idle": "2025-01-28T22:17:45.649652Z",
     "shell.execute_reply": "2025-01-28T22:17:45.649582Z",
     "shell.execute_reply.started": "2025-01-28T22:17:45.649575Z"
    }
   },
   "outputs": [],
   "source": [
    "results = job.fetch_result()\n",
    "tab = results.to_table()"
   ]
  },
  {
   "cell_type": "code",
   "execution_count": null,
   "id": "0b26042c-c234-4885-819b-a05dfba2bc31",
   "metadata": {
    "execution": {
     "iopub.status.busy": "2025-01-28T22:17:45.650468Z",
     "iopub.status.idle": "2025-01-28T22:17:45.650625Z",
     "shell.execute_reply": "2025-01-28T22:17:45.650554Z",
     "shell.execute_reply.started": "2025-01-28T22:17:45.650547Z"
    }
   },
   "outputs": [],
   "source": [
    "# pick an object that has large size\n",
    "wh = np.where(tab['i_kronRad'] > 10)[0]\n",
    "#print(len(wh), tab['i_kronRad'][wh])\n",
    "\n",
    "rad = np.array([3,6,9,12,17,25,35,50])\n",
    "light_profile = np.array([tab['i_ap03Flux'][wh][0],tab['i_ap06Flux'][wh][0],tab['i_ap09Flux'][wh][0],tab['i_ap12Flux'][wh][0],tab['i_ap17Flux'][wh][0],\n",
    "                          tab['i_ap25Flux'][wh][0],tab['i_ap35Flux'][wh][0],tab['i_ap50Flux'][wh][0]])\n",
    "plt.plot(rad, light_profile, label='Large Radius R='+str(tab['i_kronRad'][wh][0]))\n",
    "plt.xlabel('Aperture Radius [pixels]')\n",
    "plt.ylabel('Flux density [nJy]')\n",
    "\n",
    "# pick an object that has large size\n",
    "wh = np.where(tab['i_kronRad'] < 5)[0]\n",
    "#print(len(wh), tab['i_kronRad'][wh])\n",
    "indx = 10\n",
    "rad = np.array([3,6,9,12,17,25,35,50])\n",
    "light_profile = np.array([tab['i_ap03Flux'][wh][indx],tab['i_ap06Flux'][wh][0],tab['i_ap09Flux'][wh][indx],tab['i_ap12Flux'][wh][indx],tab['i_ap17Flux'][wh][indx],\n",
    "                          tab['i_ap25Flux'][wh][indx],tab['i_ap35Flux'][wh][indx],tab['i_ap50Flux'][wh][indx]])\n",
    "plt.plot(rad, light_profile, label='Small Radius R='+str(tab['i_kronRad'][wh][indx]))\n",
    "plt.legend()\n"
   ]
  },
  {
   "cell_type": "code",
   "execution_count": null,
   "id": "12f5be0d-7816-4622-8523-aff5e6b9a028",
   "metadata": {
    "execution": {
     "iopub.status.busy": "2025-01-28T22:17:45.650924Z",
     "iopub.status.idle": "2025-01-28T22:17:45.651078Z",
     "shell.execute_reply": "2025-01-28T22:17:45.651001Z",
     "shell.execute_reply.started": "2025-01-28T22:17:45.650995Z"
    }
   },
   "outputs": [],
   "source": [
    "sys.exit()"
   ]
  },
  {
   "cell_type": "code",
   "execution_count": null,
   "id": "94c2ecc1-5760-4872-b01d-e6d48b145201",
   "metadata": {
    "execution": {
     "iopub.status.busy": "2025-01-28T22:17:45.651554Z",
     "iopub.status.idle": "2025-01-28T22:17:45.651709Z",
     "shell.execute_reply": "2025-01-28T22:17:45.651642Z",
     "shell.execute_reply.started": "2025-01-28T22:17:45.651635Z"
    }
   },
   "outputs": [],
   "source": [
    "#junk that doens't work yet:\n",
    "\n",
    "# now do the outlier fraction. histogram up the delta_M / M > 0.1 as function of magnitude for the 3\n",
    "\n",
    "x = truth_mag\n",
    "y = (cmodel_mag-truth_mag)#/truth_mag\n",
    "bins=np.arange(16,30,1)\n",
    "bin_means, bin_edges, binnumber = stats.binned_statistic(x,\n",
    "             y, statistic=lambda sigmaz: float(len(np.where(np.abs(y) > 0.01)[0]))/len(y) ,bins=bins)\n",
    "\n",
    "binctr = bin_edges[:-1] + (bin_edges[1:]-bin_edges[:-1])/2\n",
    "plt.plot(binctr, bin_means, color='red', lw=2, label='cModel bin median',zorder=10)\n",
    "#plt.hist(bins[:-1],bins,weights=bin_means,color='r',alpha=.5,edgecolor='black', linewidth=1.2)\n",
    "\n",
    "y = (kron_mag-truth_mag)#/truth_mag\n",
    "bin_means, bin_edges, binnumber = stats.binned_statistic(x,\n",
    "             y, statistic=lambda sigmaz: float(len(np.where(y > 0.01)[0]))/len(y) ,bins=bins)\n",
    "binctr = bin_edges[:-1] + (bin_edges[1:]-bin_edges[:-1])/2\n",
    "#plt.plot(binctr, bin_means, color='blue', lw=2, label='kron bin median',zorder=10)\n",
    "#plt.hist(bins[:-1],bins,weights=bin_means,color='b',alpha=.5,edgecolor='black', linewidth=1.2)\n",
    "\n",
    "y = (gaap_mag-truth_mag)#/truth_mag\n",
    "bin_means, bin_edges, binnumber = stats.binned_statistic(x,\n",
    "             y,  statistic=lambda sigmaz: float(len(np.where(y > 0.01)[0]))/len(y) ,bins=bins)\n",
    "binctr = bin_edges[:-1] + (bin_edges[1:]-bin_edges[:-1])/2\n",
    "#plt.plot(binctr, bin_means, color='green', lw=2, label='GaaP Optimal bin median',zorder=10)#,color='green')\n",
    "#plt.hist(bins[:-1],bins,weights=bin_means,color='g',alpha=.5,edgecolor='black', linewidth=1.2)\n",
    "\n",
    "#ax.scatter(truth_mag,kron_mag,c=tab['i_kronRad'], marker='+', alpha=.5)\n",
    "\n",
    "#plt.set_xlabel('True i-band Magnitude')\n",
    "#plt.set_ylabel('Mag Accuracy (M$_{obs}$ - M$_{true}$) /  M$_{true}$')\n",
    "#ax.set_ylim([-5,5])\n",
    "#plt.ylim([0,1000])\n",
    "#ax.set_yscale('log')\n",
    "plt.legend()\n",
    "\n",
    "\n",
    "#bin_means, bin_edges, binnumber = stats.binned_statistic(F150mag,sigmaz, statistic=lambda sigmaz: float(len(np.where(sigmaz > 0.15)[0]))/len(sigmaz) ,bins=bins)\n",
    "\n",
    "print(bin_means)\n"
   ]
  },
  {
   "cell_type": "code",
   "execution_count": null,
   "id": "20443fe8-caa8-4f32-97a9-e19cc2ff8079",
   "metadata": {
    "execution": {
     "iopub.status.busy": "2025-01-28T22:17:45.652405Z",
     "iopub.status.idle": "2025-01-28T22:17:45.652570Z",
     "shell.execute_reply": "2025-01-28T22:17:45.652501Z",
     "shell.execute_reply.started": "2025-01-28T22:17:45.652494Z"
    }
   },
   "outputs": [],
   "source": [
    "# compare kron mag to cmodel mag\n",
    "\n",
    "#whbright = np.where(tab['i_kronFlux'] > 0.0001e6)[0]\n",
    "whbright = np.where((tab['i_kronFlux'] > 0.01e6) & (tab['i_kronFlux_flag'] == 0))[0]\n",
    "\n",
    "cmodel_mag = -2.50 * np.log10(tab['i_cModelFlux']) + 31.4\n",
    "kron_mag = -2.50 * np.log10(tab['i_kronFlux']) + 31.4\n",
    "\n",
    "plt.scatter(cmodel_mag,kron_mag,\n",
    "            c=tab['i_kronRad'], marker='.', alpha=.5)\n",
    "\n",
    "#plt.scatter(cmodel_mag[whbright],kron_mag[whbright],\n",
    "#            c=tab['i_kronRad'][whbright], marker='.', alpha=.5)\n",
    "plt.axhline(26.4,linestyle='--',label='10-yr 5sig depth')\n",
    "\n",
    "plt.colorbar(label='Kron Radius [pixels]')\n",
    "plt.xlabel('cModel AB Magnitude [i-band]')\n",
    "plt.ylabel('kron AB Magnitude [i-band]')\n",
    "plt.legend()\n",
    "plt.show()"
   ]
  },
  {
   "cell_type": "code",
   "execution_count": null,
   "id": "c80af7f5-a048-4169-b7e7-61fb479b6df8",
   "metadata": {
    "execution": {
     "iopub.status.busy": "2025-01-28T22:17:45.653104Z",
     "iopub.status.idle": "2025-01-28T22:17:45.653253Z",
     "shell.execute_reply": "2025-01-28T22:17:45.653183Z",
     "shell.execute_reply.started": "2025-01-28T22:17:45.653177Z"
    }
   },
   "outputs": [],
   "source": [
    "\n",
    "cmodel_mag = -2.50 * np.log10(tab['i_gaapOptimalFlux']) + 31.4\n",
    "kron_mag = -2.50 * np.log10(tab['i_kronFlux']) + 31.4\n",
    "\n",
    "plt.scatter(cmodel_mag,kron_mag,\n",
    "            c=tab['i_kronRad'], marker='.', alpha=.5, vmin=1, vmax=50)\n",
    "\n",
    "#plt.scatter(cmodel_mag[whbright],kron_mag[whbright],\n",
    "#            c=tab['i_kronRad'][whbright], marker='.', alpha=.5)\n",
    "plt.axhline(26.4,linestyle='--',label='10-yr 5sig depth')\n",
    "\n",
    "plt.colorbar(label='Kron Radius [pixels]')\n",
    "plt.xlabel('GaaP optimal AB Magnitude [i-band]')\n",
    "plt.ylabel('kron AB Magnitude [i-band]')\n",
    "plt.legend()\n",
    "plt.show()"
   ]
  },
  {
   "cell_type": "code",
   "execution_count": null,
   "id": "6553101d-d9fa-45b5-9d68-6242bd9ae28d",
   "metadata": {
    "execution": {
     "iopub.status.busy": "2025-01-28T22:17:45.653643Z",
     "iopub.status.idle": "2025-01-28T22:17:45.653794Z",
     "shell.execute_reply": "2025-01-28T22:17:45.653727Z",
     "shell.execute_reply.started": "2025-01-28T22:17:45.653720Z"
    }
   },
   "outputs": [],
   "source": [
    "\n",
    "#cmodel_mag = -2.50 * np.log10(tab['i_gaap1p5Flux']) + 31.4\n",
    "kron_mag = -2.50 * np.log10(tab['i_kronFlux']) + 31.4\n",
    "\n",
    "plt.scatter(cmodel_mag,kron_mag,\n",
    "            c=tab['i_kronRad'], marker='.', alpha=.5, vmin=1, vmax=50)\n",
    "\n",
    "#plt.scatter(cmodel_mag[whbright],kron_mag[whbright],\n",
    "#            c=tab['i_kronRad'][whbright], marker='.', alpha=.5)\n",
    "plt.axhline(26.4,linestyle='--',label='10-yr 5sig depth')\n",
    "\n",
    "plt.colorbar(label='Kron Radius [pixels]')\n",
    "plt.xlabel('GaaP AB Magnitude 1.5 aperture [i-band]')\n",
    "plt.ylabel('kron AB Magnitude [i-band]')\n",
    "plt.legend()\n",
    "plt.show()"
   ]
  },
  {
   "cell_type": "code",
   "execution_count": null,
   "id": "ed161a44-81df-4b9e-9563-e7431e2dce89",
   "metadata": {
    "execution": {
     "iopub.status.busy": "2025-01-28T22:17:45.655622Z",
     "iopub.status.idle": "2025-01-28T22:17:45.655847Z",
     "shell.execute_reply": "2025-01-28T22:17:45.655756Z",
     "shell.execute_reply.started": "2025-01-28T22:17:45.655748Z"
    }
   },
   "outputs": [],
   "source": [
    "\n",
    "whbright = np.where((tab['i_kronFlux'] > 0.001e6) & (tab['i_kronFlux_flag'] == 0))[0]\n",
    "\n",
    "mag = -2.50 * np.log10(tab['i_kronFlux']) + 31.4\n",
    "plt.scatter(mag[whbright],tab['i_kronFlux'][whbright]/tab['i_cModelFlux'][whbright],\n",
    "            c=tab['i_kronRad'][whbright], marker='o', alpha=.5, vmin=1, vmax=50)\n",
    "plt.colorbar(label='Kron Radius [pixels]')\n",
    "plt.axhline(1,linestyle='--')\n",
    "plt.xlabel('Kron AB Magnitude [i-band]')\n",
    "plt.yscale('log')\n",
    "plt.ylabel('Kron flux / cModel Flux')\n",
    "\n",
    "\n",
    "whbad = np.where( (np.abs(tab['i_kronFlux'][whbright]/tab['i_cModelFlux'][whbright]) > 2) & (mag[whbright] < 22))[0]\n",
    "whblend = np.where( tab['detect_fromBlend'][whbright] == True)[0]\n",
    "\n",
    "print(tab['detect_fromBlend'][whbright][whbad])\n",
    "plt.plot(mag[whbright][whblend],tab['i_kronFlux'][whbright][whblend]/tab['i_cModelFlux'][whbright][whblend],'k+')\n",
    "\n",
    "plt.show()"
   ]
  },
  {
   "cell_type": "code",
   "execution_count": null,
   "id": "4d35fa45-3cc2-47c3-8e47-a29d3c7ec440",
   "metadata": {},
   "outputs": [],
   "source": []
  },
  {
   "cell_type": "code",
   "execution_count": null,
   "id": "f5c9bc62-6bbd-4e5c-8603-519427970caf",
   "metadata": {
    "execution": {
     "iopub.status.busy": "2025-01-28T22:17:45.656482Z",
     "iopub.status.idle": "2025-01-28T22:17:45.656648Z",
     "shell.execute_reply": "2025-01-28T22:17:45.656574Z",
     "shell.execute_reply.started": "2025-01-28T22:17:45.656566Z"
    }
   },
   "outputs": [],
   "source": [
    "plt.scatter(tab['i_kronRad'][whbright],tab['i_kronFlux'][whbright]/tab['i_gaapOptimalFlux'][whbright],\n",
    "            c=mag[whbright], marker='o', alpha=.5)\n",
    "plt.xlabel('Kron Radius [pix]')\n",
    "plt.ylabel('Kron flux / GaaP Optimal Flux')\n",
    "plt.colorbar(label='Kron Mag [ABmag]')\n",
    "plt.xlim([0,50])\n",
    "plt.ylim([-1,30])\n",
    "plt.show()"
   ]
  },
  {
   "cell_type": "code",
   "execution_count": null,
   "id": "c1487f21-af5c-48ee-9a7a-6cf0aa56185c",
   "metadata": {
    "execution": {
     "iopub.status.busy": "2025-01-28T22:17:45.657434Z",
     "iopub.status.idle": "2025-01-28T22:17:45.657607Z",
     "shell.execute_reply": "2025-01-28T22:17:45.657534Z",
     "shell.execute_reply.started": "2025-01-28T22:17:45.657528Z"
    }
   },
   "outputs": [],
   "source": [
    "plt.scatter(tab['i_kronRad'][whbright],tab['i_kronFlux'][whbright]/tab['i_cModelFlux'][whbright],\n",
    "            c=mag[whbright], marker='o', alpha=.5)\n",
    "plt.xlabel('Kron Radius [pix]')\n",
    "plt.ylabel('Kron flux / cModel Flux')\n",
    "plt.colorbar(label='Kron Mag [ABmag]')\n",
    "plt.xlim([0,50])\n",
    "plt.ylim([-1,30])\n",
    "plt.show()"
   ]
  },
  {
   "cell_type": "markdown",
   "id": "b7ec87d9-8f56-4974-a9c4-052af0fec039",
   "metadata": {},
   "source": [
    "# 4. AGN and host photometry"
   ]
  },
  {
   "cell_type": "markdown",
   "id": "6cc1a4dc-5256-48f5-a4d1-8100458c058b",
   "metadata": {},
   "source": []
  },
  {
   "cell_type": "markdown",
   "id": "2e364b4b-7cfd-4bfd-af48-8f08e0af2481",
   "metadata": {},
   "source": [
    "easier for someone to correct something i've done wrong than to tell me the right way to do it (so, try to write it up and take af irst stab at it and then ask if thats what they were going for). \n",
    "\n",
    "for DP1: here is literal interpretation of measurement (these should be short)\n",
    "\n",
    "then one for low-z galaxies and nuances of measuring photometry\n",
    "\n",
    "then one for high-z galaxies \n",
    "\n",
    "AGN: point source right in the center thats a better science case than the SN contamination one. there will be more of these and stacking doesn't take it out.\n",
    "\n",
    "can we think of a science case we would want to use galaxy photometry from a calexp? this is probably a different science case. lets exclude calexp photometry form this notebook. \n",
    "\n",
    "when you're ready for input from DM make a list of what i want help with (so Yusra can find someone for help and then help them respond to specific questions\n",
    "\n",
    "1/14/24 meeting with melissa:\n",
    "\n",
    "pull out a minimum (short) version of htis that is just hte stuff i'm sure about (descriptive) minimal on science demo. try to compare one measurement to the other (problem with truth is that people may remember forever that cmodel is best however it could just be that cmodel recovered with cmodel performed well.\n",
    "\n",
    "find a galaxy and show difference size of apertures on there as a demo. upper undergrad level. \n",
    "\n",
    "we are def going to have object catalogs for DP1 so we will need a tutorial for that. \n",
    "\n",
    "have shenming review (does weak lensing and. first talk to melissa to let her know then she will see hwat shenming is up to.\n",
    "\n",
    "Dan has thoughts about the sersic model photometry, talk to him at some point. He's been experimenting with single sersic photometry from multiprofit"
   ]
  },
  {
   "cell_type": "markdown",
   "id": "9872892a-18d7-4f6f-a82a-cbe970f1f60f",
   "metadata": {},
   "source": [
    "Dan:\n",
    "Jim: algorithms workshop maybe there are some slides somewhere. lsst algorithms workshop project.lsst.org/meetings/log\n",
    "thursday morning plans for galaxy photometry\n",
    "\n",
    "Gaap is supposed to be more consistent in colors not more accurate. it sounds like people have not looked at whehter or not the different measures are better. Photo-z team \n",
    "\n",
    "ellipse parameters are probably from sdss shape: \n",
    "\n",
    "we think that xx yy and xy are related to kron and you can reconstruct the PA from that.\n",
    "most moment measurements are on un-PSF-convolved (not corrected for PSF) ASK JIM ABOUT THIS they are doing a deep dive overhaul of the schema. if there are things that have fallen out of the schema tell him\n",
    "\n",
    "cmodel and alos cmodel_free (which have separate free params per band) without _free has fixed to some detection or ref band (and there's a separate column for that called ref)\n",
    "\n",
    "cmodel does fit its own ellipse params but they are not in the schema\n",
    "\n",
    "cmodel for galaxies because they are total fluxes\n",
    "psf mags for stars.\n",
    "consider using Gaap colors for photo-z and stellar pops modeling\n",
    "\n",
    "kron or aperture photometry: but we don't need to provide recommendations on if to use them or not. Perhaps in situations where you don't \n",
    "\n",
    "they are curious to know what is the performance\n",
    "\n",
    "https://www.sdss4.org/dr17/algorithms/magnitudes/\n",
    "radial profiles is the purpose of the aperture photometry\n",
    "\n",
    "Jim explains that applying aperture corrections for galaxies is basically impossible (??)\n",
    "\n",
    "The backgrounds for LSST are brighter / and harder to subtract than space based, which is why these dont' have aperture corrections done?\n",
    "\n",
    "A random galaxy person should just use sersic fluxes (i.e. cModel). In DP1 one can expect that there will be a single sersic model (multiprofit) photometry included.\n",
    "\n",
    "our fixed aperture radius photometry is not done in PSF homogenized images\n",
    "\n",
    "COSMOS2020 corrects to total fluxes using method of Lake et al.\n",
    "\n",
    "can compute from kron parameters what the missing flux outside the aperture is. for an object htat is considerably bigger than the PSF yes.\n",
    "\n",
    "pick a typical SFG and a typical elliptical and show the different apertures and compare the flux measurements then this would be useful\n",
    "\n",
    "sci-unit: \n",
    "https://rubinobs.atlassian.net/browse/LVV-508\n",
    "\n",
    "Notes from Jim Bosch presentations on galaxy photometry:\n",
    "CModel: fit an exp profile, fit a de vaucouleurs profile, fit a linear combo of both while holding ellipse params fixed. This is basically what SDSS did and it doesn't do well with LSST data with one difference: LSST version approximates profiles as sums of gaussians (Hogg & Lang 2012) and PSFs as sums of shapelets for speed. This has worked well and whatever we do with galaxy photometry will include this.\n",
    "\n",
    "However they think CMOdel is a placeholder for something else. It worked well for SDSS but never had good performance with HSC.\n",
    "\n",
    "Dan developed multiprofit which we think we will use: not as fast but is better and can run on multiple bands.\n"
   ]
  }
 ],
 "metadata": {
  "kernelspec": {
   "display_name": "LSST",
   "language": "python",
   "name": "lsst"
  },
  "language_info": {
   "codemirror_mode": {
    "name": "ipython",
    "version": 3
   },
   "file_extension": ".py",
   "mimetype": "text/x-python",
   "name": "python",
   "nbconvert_exporter": "python",
   "pygments_lexer": "ipython3",
   "version": "3.11.9"
  },
  "toc-autonumbering": false
 },
 "nbformat": 4,
 "nbformat_minor": 5
}
