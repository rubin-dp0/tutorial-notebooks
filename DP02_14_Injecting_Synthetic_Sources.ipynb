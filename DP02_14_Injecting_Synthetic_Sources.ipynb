{
 "cells": [
  {
   "cell_type": "markdown",
   "id": "749b0ddf",
   "metadata": {
    "tags": []
   },
   "source": [
    "# Injecting Synthetic Sources Into Single-Visit Images\n",
    "\n",
    "<img align=\"left\" src = https://project.lsst.org/sites/default/files/Rubin-O-Logo_0.png width=250 style=\"padding: 10px\" alt=\"Rubin Observatory logo, a graphical representation of turning stars into data.\">\n",
    "<br>\n",
    "Contact author(s): Jeff Carlin <br>\n",
    "Last verified to run: 2024-02-19 <br>\n",
    "LSST Science Pipelines version: Weekly 2024_04 <br>\n",
    "Container Size: medium <br>\n",
    "Targeted learning level: intermediate <br>"
   ]
  },
  {
   "cell_type": "markdown",
   "id": "9da1a210-d858-42fe-8591-570965b8be1a",
   "metadata": {},
   "source": [
    "**Description:** This tutorial demonstrates a method to inject artificial sources (stars and galaxies) into calexp images using the measured point-spread function of the given calexp image. Confirmation that the synthetic sources were correctly injected into the image is done by running a difference imaging task from the pipelines. It then shows how to run the pipelines' detection and measurement tasks on these images, extract the measurements of the artificial stars, and compare their measured magnitudes to the input (simulated) magnitudes."
   ]
  },
  {
   "cell_type": "markdown",
   "id": "80a0baf5-51ad-40ec-8991-060a7b27c289",
   "metadata": {},
   "source": [
    "**Skills:** Use the `source_injection` tools."
   ]
  },
  {
   "cell_type": "markdown",
   "id": "393da88f-7978-4920-aa4a-a9830df6eed9",
   "metadata": {},
   "source": [
    "**LSST Data Products:** Butler calexp images and corresponding src catalogs, goodSeeingDiff_templateExp images, and injection_catalogs."
   ]
  },
  {
   "cell_type": "markdown",
   "id": "5c67fab9-136a-4adc-bb42-142b91ab69dd",
   "metadata": {},
   "source": [
    "**Packages:** astropy.io, astropy.coordinates, astropy.table, astropy.units, matplotlib, numpy, lsst.afw.display, lsst.afw.table, lsst.daf.base, lsst.daf.butler, lsst.ip.diffim, lsst.meas.algorithms, lsst.meas.deblender, lsst.meas.base, lsst.pipe.tasks, lsst.source.injection"
   ]
  },
  {
   "cell_type": "markdown",
   "id": "8f72b27f",
   "metadata": {},
   "source": [
    "**Credit:**\n",
    "Developed by Jeff Carlin in collaboration with Lee Kelvin and the Rubin Community Science Team. Much of the material is based on the [source_injection package documentation](https://pipelines.lsst.io/v/daily/modules/lsst.source.injection/index.html)."
   ]
  },
  {
   "cell_type": "markdown",
   "id": "28e91cbf-ab7f-4e26-9276-b00299d6065e",
   "metadata": {},
   "source": [
    "**Get Support:**\n",
    "Find DP0-related documentation and resources at <a href=\"https://dp0-2.lsst.io\">dp0-2.lsst.io</a>\n",
    "and <a href=\"https://dp0-3.lsst.io\">dp0-3.lsst.io</a>.\n",
    "Questions are welcome as new topics in the \n",
    "<a href=\"https://community.lsst.org/c/support/dp0\">Support - Data Preview 0 Category</a> \n",
    "of the Rubin Community Forum. \n",
    "Rubin staff will respond to all questions posted there."
   ]
  },
  {
   "cell_type": "markdown",
   "id": "cfc73be0",
   "metadata": {},
   "source": [
    "## 1. Introduction\n",
    "\n",
    "This notebook provides a brief introduction to the `source_injection` package from the LSST Science Pipelines. The `source_injection` tools can be used to inject sources into images produced during various stages of Pipelines processing, including visit-level images (e.g., `calexp`s), any dataset with a `datasetType` of `Exposure` (e.g., `postISRCCD` images), and coadd images (e.g., `deepCoadd`s). The main driver that both creates and injects synthetic sources into images is based on [Galsim](https://galsim-developers.github.io/GalSim/), so that the `source_injection` tools enable injection of a variety of types of sources. These include a variety of parameterized galaxy models, stars, and postage stamp images.\n",
    "\n",
    "This notebook will teach users some basics of using the `source_injection` package to insert artificial sources into images, but users are encouraged to read the extensive [documentation](https://pipelines.lsst.io/v/daily/modules/lsst.source.injection/index.html) for more details and examples. Furthermore, the [Galsim](https://galsim-developers.github.io/GalSim/) documentation provides much more detail on the variety of types of sources that can be injected.\n",
    "\n",
    "For detection and measurement of injected sources, this notebook relies on DP0.2 tutorial [Notebook 05: Introduction to Source Detection](https://github.com/rubin-dp0/tutorial-notebooks/blob/main/DP02_05_Introduction_to_Source_Detection.ipynb). Readers are referred to that notebook for more details on detection and measurement of sources in images."
   ]
  },
  {
   "cell_type": "markdown",
   "id": "dc36f107",
   "metadata": {},
   "source": [
    "### 1.1 Import packages"
   ]
  },
  {
   "cell_type": "markdown",
   "id": "ccb4fe61-835a-47ac-a691-e086ce766e79",
   "metadata": {},
   "source": [
    "`numpy` is a fundamental package for scientific computing with arrays in Python\n",
    "(<a href=\"https://numpy.org\">numpy.org</a>).\n",
    "\n",
    "`matplotlib` is a comprehensive library for creating static, animated, and\n",
    "interactive visualizations in Python \n",
    "(<a href=\"https://matplotlib.org/\">matplotlib.org</a>; \n",
    "<a href=\"https://matplotlib.org/stable/gallery/index.html\">matplotlib gallery</a>).\n",
    "\n",
    "`astropy` (<a href=\"https://www.astropy.org/\">astropy.org</a>) is a package with many common astronomical utilities; here it is used for importing a FITS image, and working with coordinates and tables.\n",
    "\n",
    "From the `lsst` package, modules for accessing the butler, image display functions, the source injection utilities, and various measurement and data processing pipelines tasks are imported (<a href=\"https://pipelines.lsst.io/\">pipelines.lsst.io</a>)."
   ]
  },
  {
   "cell_type": "code",
   "execution_count": null,
   "id": "cddc1458",
   "metadata": {},
   "outputs": [],
   "source": [
    "import numpy as np\n",
    "import matplotlib.pyplot as plt\n",
    "import os\n",
    "from astropy.io import fits\n",
    "import astropy.units as u\n",
    "from astropy.table import Table, vstack\n",
    "from astropy.coordinates import SkyCoord\n",
    "\n",
    "from lsst.afw.table import SourceTable\n",
    "from lsst.daf.base import PropertyList\n",
    "from lsst.daf.butler import Butler\n",
    "import lsst.afw.display as afwDisplay\n",
    "from lsst.source.injection import ingest_injection_catalog, generate_injection_catalog\n",
    "from lsst.source.injection import VisitInjectConfig, VisitInjectTask\n",
    "from lsst.ip.diffim.subtractImages import AlardLuptonSubtractTask, AlardLuptonSubtractConfig\n",
    "\n",
    "# Import tasks from the LSST Science Pipelines for reprocessing images\n",
    "from lsst.pipe.tasks.characterizeImage import CharacterizeImageTask\n",
    "from lsst.meas.algorithms.detection import SourceDetectionTask\n",
    "from lsst.meas.deblender import SourceDeblendTask\n",
    "from lsst.meas.base import SingleFrameMeasurementTask\n",
    "\n",
    "afwDisplay.setDefaultBackend('matplotlib')\n",
    "plt.style.use('tableau-colorblind10')"
   ]
  },
  {
   "cell_type": "markdown",
   "id": "c6e9358e-b3cb-4e87-84a6-c3b761ab4ab2",
   "metadata": {},
   "source": [
    "## 2. Get an image to inject sources into:\n",
    "\n",
    "We must first retrieve an image that we will inject sources into. In this section, we will instantiate a Butler pointing to the DP0.2 dataset, identify `calexp` images overlapping a particular `tract`, and retrieve one of those images (plus some of its ancillary data) for later use.\n",
    "\n",
    "### 2.1 Instantiate a butler"
   ]
  },
  {
   "cell_type": "code",
   "execution_count": null,
   "id": "d4e00487-b9e6-4025-991d-533695c68dc1",
   "metadata": {},
   "outputs": [],
   "source": [
    "butler_config = 'dp02'\n",
    "collections = '2.2i/runs/DP0.2'\n",
    "butler = Butler(butler_config, collections=collections)"
   ]
  },
  {
   "cell_type": "markdown",
   "id": "3a1115a8-4781-4f0b-9cb8-19ed4607d711",
   "metadata": {},
   "source": [
    "### 2.2 Identify images overlapping a particular tract and select one\n",
    "\n",
    "We choose to select images from tract 3828, but feel free to change this to any tract number that exists in DP0.2 data. (See the map in Figure 15 of [\"The DC2 Simulated Sky Survey\"](https://ui.adsabs.harvard.edu/abs/2021ApJS..253...31L/abstract) overview paper; also visible in the [DP0.2 documentation](https://dp0-2.lsst.io/data-products-dp0-2/index.html#images)).\n",
    "\n",
    "Because a `calexp` image only spans one detector, we arbitrarily select a detector (number 19) and find images from the chosen tract that contain that detector."
   ]
  },
  {
   "cell_type": "code",
   "execution_count": null,
   "id": "15097b5f-5296-4530-86a3-acd5ffea0687",
   "metadata": {},
   "outputs": [],
   "source": [
    "tract = 3828\n",
    "where = f\"instrument='LSSTCam-imSim' AND skymap='DC2' AND \\\n",
    "          tract={tract} AND detector=19 AND band='g'\"\n",
    "\n",
    "calexp_g_DatasetRefs = sorted(list(set(butler.registry.queryDatasets('calexp', where=where))))\n",
    "\n",
    "print(f'Identified {len(calexp_g_DatasetRefs)} calexp DatasetRefs')\n",
    "\n",
    "# Here we use the index \"5\" to select an arbitrary dataId.\n",
    "# Change this index to select a different image.\n",
    "dataId_g = calexp_g_DatasetRefs[5].dataId\n",
    "\n",
    "print(f\"{dataId_g = }\")"
   ]
  },
  {
   "cell_type": "markdown",
   "id": "dbfd3dd1-10c3-488d-a23f-85b621e617a6",
   "metadata": {},
   "source": [
    "#### 2.2.1 Retrieve the calexp image we have identified"
   ]
  },
  {
   "cell_type": "code",
   "execution_count": null,
   "id": "769b7130-0ec8-47c9-a8cb-765041e59bb6",
   "metadata": {},
   "outputs": [],
   "source": [
    "calexp_g = butler.get('calexp', dataId=dataId_g)"
   ]
  },
  {
   "cell_type": "markdown",
   "id": "8dedd1af-f623-4e4c-b265-c3d663f016b0",
   "metadata": {},
   "source": [
    "#### 2.2.2 Retrieve additional information about the image\n",
    "\n",
    "To generate synthetic sources to be injected into the image, we will need to know the coordinates of its bounding box. Retrieve the image's WCS and bounding box, and print its central coordinate to the screen:"
   ]
  },
  {
   "cell_type": "code",
   "execution_count": null,
   "id": "7fe24c71-ca55-43df-92e0-b6da9964ce77",
   "metadata": {},
   "outputs": [],
   "source": [
    "wcs = calexp_g.getWcs()\n",
    "bbox = calexp_g.getBBox()\n",
    "print('bounding box: ', bbox)\n",
    "\n",
    "boxcen = bbox.getCenter()\n",
    "cen = wcs.pixelToSky(boxcen)\n",
    "sc_cen = SkyCoord(ra=cen[0].asDegrees()*u.deg, dec=cen[1].asDegrees()*u.deg)\n",
    "\n",
    "print(sc_cen)"
   ]
  },
  {
   "cell_type": "markdown",
   "id": "dde6d3b1-0b90-4f2b-a272-e6f608cadcc1",
   "metadata": {},
   "source": [
    "#### 2.2.3 Figure out how large the image is on the sky\n",
    "\n",
    "Note that above the bounding box is roughly 4000 x 4000. Use the `bbox.getDimensions` and `wcs.getPixelScale` methods to estimate how large this image is in sky coordinates:"
   ]
  },
  {
   "cell_type": "code",
   "execution_count": null,
   "id": "76060374-b3e1-475f-bf2f-6e8442c0b08b",
   "metadata": {},
   "outputs": [],
   "source": [
    "imsize = bbox.getDimensions()[0]*wcs.getPixelScale().asDegrees()\n",
    "print('Size of calexp in degrees: ', imsize)"
   ]
  },
  {
   "cell_type": "markdown",
   "id": "96734edf-8d93-49f3-8ac0-1149ae835a4b",
   "metadata": {},
   "source": [
    "## 3. Make and ingest a catalog of synthetic sources:\n",
    "\n",
    "We now have a `calexp` image that we want to inject into. Next we need to set up a simple synthetic source catalogue.\n",
    "\n",
    "### 3.1 Make a catalog of galaxies and stars\n",
    "\n",
    "The `source_injection` package provides tools to create catalogs of synthetic sources. Here, we will use the `generate_injection_catalog` tool to create the sources we wish to inject.\n",
    "\n",
    "Note that the \"inject_size\" is selected to be 0.1 degrees, or slightly smaller than the size of the image as determined above (inject_size is a radius, so it equals 0.2/2 degrees)."
   ]
  },
  {
   "cell_type": "code",
   "execution_count": null,
   "id": "28f7afc1-b476-4d42-89bf-117b0030817d",
   "metadata": {},
   "outputs": [],
   "source": [
    "inject_size = 0.2/2  # in degrees"
   ]
  },
  {
   "attachments": {},
   "cell_type": "markdown",
   "id": "91b9231d-a926-4c16-a491-313a0c3c5f75",
   "metadata": {},
   "source": [
    "#### 3.1.1 Make a catalog of galaxies to inject\n",
    "\n",
    "The simplest form of a galaxy in Galsim is parameterized by a [Sersic model](https://en.wikipedia.org/wiki/S%C3%A9rsic_profile): $I(r) = I_e~{\\rm exp}\\{-b_n [(\\frac{r}{r_e})^{1/n}-1]\\}$, which defines the shape of the galaxy's light profile as a function of radius (r) in terms of the \"Sersic index\" (n) and the \"half-light radius\" ($r_e$). (Note that $n = 1$ corresponds to an exponential profile.)\n",
    "\n",
    "The above equation results in a circular galaxy. One can also specify the minor-to-major axis ratio (q) to create elongated (elliptical) Sersic profiles, with a rotation angle (beta).\n",
    "\n",
    "The `generate_injection_catalog` task will automatically generate sources with all possible permutations of the parameters you provide. For example, below we specify \"number=2\" to create 2 synthetic galaxies, but then specify a single magnitude (mag), 3 values of Sersic index (n), 3 values of axis ratio (q), 2 values of beta, and a single value for half_light_radius. This should result in $2*1*3*3*2*1 = 36$ different combinations of those parameters.\n",
    "\n",
    "Finally, note that we provide minimum and maximum RA and Dec coordinates. In this case, `generate_injection_catalog` will randomly select positions within those limits."
   ]
  },
  {
   "cell_type": "code",
   "execution_count": null,
   "id": "2bafc845-2fc1-42bf-a5e4-cce3330ecf52",
   "metadata": {},
   "outputs": [],
   "source": [
    "my_injection_catalog_galaxies = generate_injection_catalog(\n",
    "    ra_lim=[sc_cen.ra.value-inject_size, sc_cen.ra.value+inject_size],\n",
    "    dec_lim=[sc_cen.dec.value-inject_size, sc_cen.dec.value+inject_size],\n",
    "    number=2,\n",
    "    seed='321',\n",
    "    source_type=\"Sersic\",\n",
    "    mag=[15.0],\n",
    "    n=[1, 2, 4],\n",
    "    q=[0.9, 0.5, 0.1],\n",
    "    beta=[31.0, 144.0],\n",
    "    half_light_radius=[15.0],\n",
    ")"
   ]
  },
  {
   "cell_type": "markdown",
   "id": "d2004011-6b1e-42f6-b910-1d33c739f2a2",
   "metadata": {},
   "source": [
    "#### 3.1.2 Make a catalog of stars to inject\n",
    "\n",
    "Using a similar method, create a catalog of stars to be injected. Specify 5 values of magnitude, with 7 instances, which will result in 35 stars."
   ]
  },
  {
   "cell_type": "code",
   "execution_count": null,
   "id": "27c2e170-604c-41c3-8ca7-2ea45de324fc",
   "metadata": {},
   "outputs": [],
   "source": [
    "my_injection_catalog_stars = generate_injection_catalog(\n",
    "    ra_lim=[sc_cen.ra.value-inject_size, sc_cen.ra.value+inject_size],\n",
    "    dec_lim=[sc_cen.dec.value-inject_size, sc_cen.dec.value+inject_size],\n",
    "    number=7,\n",
    "    seed='432',\n",
    "    source_type=\"Star\",\n",
    "    mag=[16.0, 17.0, 18.0, 19.0, 20.0],\n",
    ")"
   ]
  },
  {
   "cell_type": "markdown",
   "id": "e23a2012-fa6f-41ba-8df6-993e5e76d64b",
   "metadata": {},
   "source": [
    "#### 3.1.3 Combine the galaxies and stars into a single synthetic source catalog\n",
    "\n",
    "In particular, use the [vstack](https://docs.astropy.org/en/stable/table/operations.html#id4) method from Astropy's [Table](https://docs.astropy.org/en/stable/table/index.html) class to combine them."
   ]
  },
  {
   "cell_type": "code",
   "execution_count": null,
   "id": "f31a1ad1-1a5f-409b-aaec-4d8baa61a683",
   "metadata": {},
   "outputs": [],
   "source": [
    "inject_cat = vstack([my_injection_catalog_galaxies, my_injection_catalog_stars])"
   ]
  },
  {
   "cell_type": "code",
   "execution_count": null,
   "id": "f89ee26c-6d5c-4118-bd92-4f150dc886bb",
   "metadata": {},
   "outputs": [],
   "source": [
    "inject_cat"
   ]
  },
  {
   "cell_type": "markdown",
   "id": "e96a109c-fb7e-4158-a1c5-e3983edf63dd",
   "metadata": {},
   "source": [
    "### 3.2 Add a postage stamp of an image to the injection catalog\n",
    "\n",
    "In addition to parameterized sources of many types, a postage-stamp image (for example, an output image from a simulation) can also be injected. The image must be in FITS format. In this notebook, we select an [SDSS g-band image](https://ned.ipac.caltech.edu/byname?objname=NGC+4152&hconst=67.8&omegam=0.308&omegav=0.692&wmap=4&corr_z=1) downloaded from the NASA/IPAC Extragalactic Database (NED).\n",
    "\n",
    "Load the image, then display it to see what it depicts:"
   ]
  },
  {
   "cell_type": "code",
   "execution_count": null,
   "id": "e6e73816-f9fc-4a8f-97a5-f62a41d4db17",
   "metadata": {},
   "outputs": [],
   "source": [
    "stamp_img_hdu = fits.open('PGC_038749_I_g_bbl2011.fits')"
   ]
  },
  {
   "cell_type": "code",
   "execution_count": null,
   "id": "681bacda-8908-4b1c-ba9f-94acba452a82",
   "metadata": {},
   "outputs": [],
   "source": [
    "fig = plt.figure()\n",
    "plt.subplot()\n",
    "im = plt.imshow(stamp_img_hdu[0].data, cmap='gray', vmin=-20.0, vmax=100, origin='lower')\n",
    "plt.xlabel('x')\n",
    "plt.ylabel('y')\n",
    "plt.show()"
   ]
  },
  {
   "cell_type": "markdown",
   "id": "d09ab430-d2ac-4f76-98e5-5cb7bb77d226",
   "metadata": {},
   "source": [
    "#### 3.2.1 Create an entry in the injection catalog for the postage stamp image\n",
    "\n",
    "Add a postage stamp entry into the injection catalog, using `vstack` to add an astropy `Table` containing a single row. You must specify its position, magnitude, and \"source_type = Stamp,\" in addition to the filename of the image to inject. (It is OK to leave unnecessary columns empty.)"
   ]
  },
  {
   "cell_type": "code",
   "execution_count": null,
   "id": "c914dbd4-80e5-48c5-a396-20ed199c0ee5",
   "metadata": {},
   "outputs": [],
   "source": [
    "my_injection_catalog_stamp = Table(\n",
    "    {\n",
    "        'injection_id': [9999],\n",
    "        'ra': [56.622],\n",
    "        'dec': [-36.488],\n",
    "        'source_type': ['Stamp'],\n",
    "        'mag': [14.8],\n",
    "        'stamp': ['PGC_038749_I_g_bbl2011.fits'],\n",
    "    }\n",
    ")"
   ]
  },
  {
   "cell_type": "code",
   "execution_count": null,
   "id": "c6ecfcdd-b00e-4860-be58-d8b5acd2b25b",
   "metadata": {},
   "outputs": [],
   "source": [
    "inject_cat = vstack([inject_cat, my_injection_catalog_stamp])"
   ]
  },
  {
   "cell_type": "code",
   "execution_count": null,
   "id": "dd751614-9424-4ebf-9165-39cec1773fdf",
   "metadata": {},
   "outputs": [],
   "source": [
    "inject_cat"
   ]
  },
  {
   "cell_type": "markdown",
   "id": "0d9960aa-0c91-4752-a5d9-a58b51c16a82",
   "metadata": {
    "execution": {
     "iopub.execute_input": "2023-12-15T23:16:55.956111Z",
     "iopub.status.busy": "2023-12-15T23:16:55.955797Z",
     "iopub.status.idle": "2023-12-15T23:16:55.959344Z",
     "shell.execute_reply": "2023-12-15T23:16:55.958775Z",
     "shell.execute_reply.started": "2023-12-15T23:16:55.956092Z"
    }
   },
   "source": [
    "### 3.3 Ingest the synthetic source catalog into a Butler collection\n",
    "\n",
    "#### 3.3.1 Register the source injection collection\n",
    "The input `inject_cat` will be ingested into a RUN collection called `u/{user}/test0_injection_inputs` (where \"user\" will be your username) in the Butler repository. Here we register this collection for subsequent use below.\n",
    "\n",
    "To begin, we first instantiate a writable `butler`. Butlers are instantiated in read-only mode by default. By setting the argument `writeable` to `True`, a butler can also be made to be writeable.\n",
    "\n",
    "> Warning: take care when working with a writeable butler, as data on-disk has the potential to be permanently removed or corrupted.\n",
    "\n",
    "_Note: If you attempt to inject synthetic sources into a collection that already exists, the task will complain that the output data already exist on disk. The name you assign to your collection in `INJECTION_CATALOG_COLLECTION` in the following cell must not have been used before. (This means that if you've run source injection already, you must change the output collection name before running again.)_"
   ]
  },
  {
   "cell_type": "code",
   "execution_count": null,
   "id": "172a6e88-d605-438f-9fd0-4e39185be6cc",
   "metadata": {},
   "outputs": [],
   "source": [
    "# Get username.\n",
    "user = os.getenv(\"USER\")\n",
    "\n",
    "INJECTION_CATALOG_COLLECTION = f\"u/{user}/test1_injection_inputs\"\n",
    "\n",
    "# Instantiate a writeable Butler.\n",
    "writeable_butler = Butler(butler_config, writeable=True)"
   ]
  },
  {
   "cell_type": "markdown",
   "id": "a8e3bbf6-d136-44b2-bd3b-8b243020acd8",
   "metadata": {},
   "source": [
    "Now ingest the catalog of synthetic sources into the Butler collection using the `ingest_injection_catalog` method:"
   ]
  },
  {
   "cell_type": "code",
   "execution_count": null,
   "id": "9d74da88-4803-4309-933f-820974f42539",
   "metadata": {},
   "outputs": [],
   "source": [
    "my_injected_datasetRefs = ingest_injection_catalog(\n",
    "    writeable_butler=writeable_butler,\n",
    "    table=inject_cat,\n",
    "    band=\"g\",\n",
    "    output_collection=INJECTION_CATALOG_COLLECTION,\n",
    ")"
   ]
  },
  {
   "cell_type": "markdown",
   "id": "02faa0d1-dd40-4522-9812-6ec90485157e",
   "metadata": {},
   "source": [
    "## 4. Inject sources into a calexp image\n",
    "\n",
    "### 4.1 Use source_injection tools to inject sources\n",
    "\n",
    "The catalog specifying synthetic sources has been ingested into the butler. Now we can run the task from `source_injection` that injects sources into the `calexp` image that we retrieved.\n",
    "\n",
    "First, extract the point spread function (PSF), photometric calibration object, and the WCS (World Coordinate System) objects associated with the `calexp` image. These will be passed to the injection task so that sources can be injected using the properties of the image itself."
   ]
  },
  {
   "cell_type": "code",
   "execution_count": null,
   "id": "bbcabdf1-aa2f-49ca-b686-b2e321832fb7",
   "metadata": {},
   "outputs": [],
   "source": [
    "psf = calexp_g.getPsf()\n",
    "photo_calib = calexp_g.getPhotoCalib()\n",
    "wcs = calexp_g.getWcs()"
   ]
  },
  {
   "cell_type": "markdown",
   "id": "4448cfb6-7444-44c1-90bc-d2bdabc2983f",
   "metadata": {},
   "source": [
    "Load the input injection catalogs that we ingested into the butler in the previous step."
   ]
  },
  {
   "cell_type": "code",
   "execution_count": null,
   "id": "c39a1cf2-b95e-4627-9907-0c0ed6d609b5",
   "metadata": {},
   "outputs": [],
   "source": [
    "# Load input injection catalogs.\n",
    "injection_refs = butler.registry.queryDatasets(\n",
    "    \"injection_catalog\",\n",
    "    band=\"g\",\n",
    "    collections=INJECTION_CATALOG_COLLECTION,\n",
    ")\n",
    "injection_catalogs = [\n",
    "    butler.get(injection_ref) for injection_ref in injection_refs\n",
    "]"
   ]
  },
  {
   "cell_type": "markdown",
   "id": "435f4b84-f7ce-4262-9b50-9d1afbefa94b",
   "metadata": {},
   "source": [
    "### 4.2 Instantiate the injection classes\n",
    "\n",
    "At this stage, we have an input image and we have a fully ingested synthetic source input catalog. We're now ready to inject synthetic sources into the image using the tools available in the `source_injection` repo.\n",
    "\n",
    "First, instantiate the `VisitInjectConfig` class. The `VisitInjectConfig` class is where configuration of the injection task occurs, allowing for modifications to be made to how the task operates.\n",
    "\n",
    "Then instantiate the `VisitInjectTask`, using `inject_config` as the configuration argument.\n",
    "\n",
    "NOTE: For injections into other dataset types, use the appropriate option from the following list:\n",
    "```\n",
    "from lsst.source.injection import CoaddInjectConfig, CoaddInjectTask\n",
    "from lsst.source.injection import ExposureInjectConfig, ExposureInjectTask\n",
    "from lsst.source.injection import VisitInjectConfig, VisitInjectTask\n",
    "```\n",
    "Both `ExposureInject` and `VisitInject` accept dimensions of `(\"instrument\", \"visit\", \"detector\")`. They differ in that `ExposureInject` takes a `postISRCCD` exposure (i.e., a raw image that has had \"instrument signature removal,\" or ISR, applied, and no further processing) as an input, while `VisitInject` expects to operate on a `calexp` (an image that has been astrometrically and photometrically calibrated to an external source)."
   ]
  },
  {
   "cell_type": "code",
   "execution_count": null,
   "id": "7c64c1e6-02ca-41c5-8d52-f416352d8b7e",
   "metadata": {},
   "outputs": [],
   "source": [
    "inject_config = VisitInjectConfig()\n",
    "inject_task = VisitInjectTask(config=inject_config)"
   ]
  },
  {
   "cell_type": "markdown",
   "id": "115d7b80-d060-499a-8f63-ce733fc63b6b",
   "metadata": {},
   "source": [
    "### 4.3 Inject sources into an image\n",
    "\n",
    "Next, we execute the `run` method of the `inject_task`.\n",
    "\n",
    "The `run` method needs the following inputs:\n",
    "\n",
    "* the input injection catalogue\n",
    "* the input exposure\n",
    "* the PSF of the input exposure\n",
    "* the WCS information\n",
    "* the photometric calibration information\n",
    "\n",
    "We got the PSF, WCS, and photo_calib inputs directly from the `calexp` they are associated with.\n",
    "\n",
    "The inject task provides two outputs:\n",
    "\n",
    "* the output exposure with sources injected\n",
    "* the output source injection catalogue\n",
    "\n",
    "The output source injection catalogue is identical to the input, excepting two additional columns (x and y) which denote the pixel coordinates of these sources. Note that this catalogue is NOT the science catalogue containing the full suite of LSST Science Pipelines outputs. To get that, this source injected image will need to be processed by additional Science Pipelines tasks (we show an example of this later in this notebook).\n",
    "\n",
    "> Note: here we use a clone of the input `calexp`. This is because the `calexp` is edited in-place, so inputting a clone allows us to continue using the original `calexp` later in this notebook.\n",
    "\n",
    "#### 4.3.1 Run the source injection task\n",
    "Run the source injection task and extract the \"output_exposure\" and \"output_catalog\":"
   ]
  },
  {
   "cell_type": "code",
   "execution_count": null,
   "id": "2da88cf6-bfda-4b3f-ad37-932ab896f7ab",
   "metadata": {},
   "outputs": [],
   "source": [
    "injected_output = inject_task.run(\n",
    "    injection_catalogs=injection_catalogs,\n",
    "    input_exposure=calexp_g.clone(),\n",
    "    psf=psf,\n",
    "    photo_calib=photo_calib,\n",
    "    wcs=wcs,\n",
    ")\n",
    "injected_exposure = injected_output.output_exposure\n",
    "injected_catalog = injected_output.output_catalog"
   ]
  },
  {
   "cell_type": "markdown",
   "id": "0f6029cf-fbee-4b54-a74c-2738bfd46797",
   "metadata": {},
   "source": [
    "#### 4.3.2 Compare the images before and after injection\n",
    "\n",
    "Plot the images side-by-side to confirm that the source injection task successfully added sources to the image.\n",
    "\n",
    "Note that the injected image will have different flux values than the original, which would cause the image scaling of the two images to be slightly different by default (to confirm this, uncomment the \"display0.scale('linear', 'zscale')\" lines below and comment out the lines below them that explicitly set the min/max values). For a direct comparison we explicitly set the minimum and maximum pixel values of the color scale.\n",
    "\n",
    "Additionally, if you want to zoom in on the injected postage stamp to see how it looks in the image, uncomment the line below where it says \"To zoom on the NGC 4152 stamp:\"."
   ]
  },
  {
   "cell_type": "code",
   "execution_count": null,
   "id": "0e96452d-b815-4355-8de8-22983d216804",
   "metadata": {},
   "outputs": [],
   "source": [
    "plot_injected_calexp = injected_exposure.clone()\n",
    "\n",
    "fig, ax = plt.subplots(1, 2, figsize=(10, 6), dpi=150)\n",
    "\n",
    "plt.sca(ax[0])\n",
    "display0 = afwDisplay.Display(frame=fig)\n",
    "# display0.scale('linear', 'zscale')\n",
    "display0.scale('linear', min=-20, max=150)\n",
    "display0.mtv(calexp_g.image)\n",
    "plt.title('calexp image')\n",
    "\n",
    "plt.sca(ax[1])\n",
    "display1 = afwDisplay.Display(frame=fig)\n",
    "# display1.scale('linear', 'zscale')\n",
    "display1.scale('linear', min=-20, max=150)\n",
    "display1.mtv(plot_injected_calexp.image)\n",
    "# To zoom on the NGC 4152 stamp:\n",
    "# display1.mtv(plot_injected_calexp.image[3300:3800, 1500:2000])\n",
    "plt.title('injected_calexp image')\n",
    "\n",
    "plt.tight_layout()\n",
    "plt.show()"
   ]
  },
  {
   "cell_type": "markdown",
   "id": "b2a56083-87b6-4b4a-a2be-5f9373d0408b",
   "metadata": {},
   "source": [
    "### 4.4 Create a difference image to see the injected sources\n",
    "\n",
    "One reason for injected sources into a `calexp` image might be to test whether they would be recovered in a difference image (i.e., the `calexp` with a deep, coadd template image of the same sky area appropriately convolved and subtracted from it). In this section we demonstrate the use of an image differencing task from the LSST Science Pipelines to create a difference image.\n",
    "\n",
    "#### 4.4.1 Load the template image\n",
    "Template images are created as coadds of the images with the best seeing, and are called `goodSeeingDiff_templateExp`. Load the appropriate template corresponding to our `calexp` (note the use of the same dataId we used to load the `calexp`)."
   ]
  },
  {
   "cell_type": "code",
   "execution_count": null,
   "id": "72da2718-71f0-4653-a7f4-228267be99a0",
   "metadata": {},
   "outputs": [],
   "source": [
    "difftemp = 'goodSeeingDiff_templateExp'\n",
    "templateExposure = butler.get(difftemp, dataId=dataId_g.required)"
   ]
  },
  {
   "cell_type": "markdown",
   "id": "3fc58a81-8230-49dc-926d-fae60a462f65",
   "metadata": {},
   "source": [
    "#### 4.4.2 Initialize and run the image subtraction task\n",
    "\n",
    "The first two lines below load the default configuration for the `AlardLuptonSubtract` task, and then initialize the task with that configuration. The task requires (1) a template exposure, (2) the science exposure, and (3) the catalog of sources from the science exposure.\n",
    "\n",
    "Load the source catalog (`src`) and run the task:"
   ]
  },
  {
   "cell_type": "code",
   "execution_count": null,
   "id": "03039124-03de-49b3-b998-e59ae1a74a7f",
   "metadata": {},
   "outputs": [],
   "source": [
    "config = AlardLuptonSubtractConfig()\n",
    "alTask = AlardLuptonSubtractTask(config=config)\n",
    "\n",
    "scienceExposure = injected_exposure\n",
    "\n",
    "sources = butler.get('src', dataId=dataId_g)\n",
    "result = alTask.run(templateExposure, scienceExposure, sources)"
   ]
  },
  {
   "cell_type": "markdown",
   "id": "e23e0b4d-4adf-4a62-8aa7-3118ad6ea248",
   "metadata": {},
   "source": [
    "#### 4.4.3 Compare the original and the difference image\n",
    "\n",
    "Plot the original `calexp`, the injected image, and the difference image side by side:"
   ]
  },
  {
   "cell_type": "code",
   "execution_count": null,
   "id": "d5958c29-554b-4497-a6df-e301f0856be5",
   "metadata": {},
   "outputs": [],
   "source": [
    "# Zoom in on an arbitrary section of the image.\n",
    "# Change these coordinates to see a different region.\n",
    "xmin, xmax = 500, 2000\n",
    "ymin, ymax = 1000, 2500\n",
    "\n",
    "fig, ax = plt.subplots(1, 3, figsize=(14, 11))\n",
    "plt.sca(ax[0])  # set the first axis as current\n",
    "display1 = afwDisplay.Display(frame=fig)\n",
    "display1.scale('linear', 'zscale')\n",
    "display1.mtv(calexp_g.image)\n",
    "plt.title('coadd image (template)')\n",
    "plt.xlim(xmin, xmax)\n",
    "plt.ylim(ymin, ymax)\n",
    "plt.sca(ax[1])  # set the second axis as current\n",
    "display2 = afwDisplay.Display(frame=fig)\n",
    "display2.scale('linear', 'zscale')\n",
    "display2.mtv(plot_injected_calexp.image)\n",
    "plt.title('calexp with synthetic sources')\n",
    "plt.xlim(xmin, xmax)\n",
    "plt.ylim(ymin, ymax)\n",
    "plt.sca(ax[2])  # set the third axis as current\n",
    "display3 = afwDisplay.Display(frame=fig)\n",
    "display3.scale('linear', 'zscale')\n",
    "display3.mtv(result.difference.image)\n",
    "plt.xlim(xmin, xmax)\n",
    "plt.ylim(ymin, ymax)\n",
    "plt.title('diffim')\n",
    "plt.tight_layout()\n",
    "plt.show()"
   ]
  },
  {
   "cell_type": "markdown",
   "id": "6fcdcf01-a4e3-47ab-8942-44bf6c69b66e",
   "metadata": {},
   "source": [
    "## 5. Test recovery of injected stars\n",
    "\n",
    "In this section we will again inject sources into a `calexp` image, and will then run the Science Pipelines tasks to detect and measure all sources in the image. We end by comparing the measurements of injected sources to their (known) properties from the injection catalog.\n",
    "\n",
    "First, extract the minimum and maximum RA and Dec values of the `calexp` image to be used in generating a list of synthetic stars for injection."
   ]
  },
  {
   "cell_type": "code",
   "execution_count": null,
   "id": "921e11b9-548a-417a-9bbb-6445f12a2cd9",
   "metadata": {},
   "outputs": [],
   "source": [
    "corners = bbox.getCorners()\n",
    "ra_corners = []\n",
    "dec_corners = []\n",
    "\n",
    "for c in corners:\n",
    "    ra_corners.append(wcs.pixelToSky(c.x, c.y)[0])\n",
    "    dec_corners.append(wcs.pixelToSky(c.x, c.y)[1])\n",
    "\n",
    "minra = np.min(ra_corners).asDegrees()\n",
    "maxra = np.max(ra_corners).asDegrees()\n",
    "mindec = np.min(dec_corners).asDegrees()\n",
    "maxdec = np.max(dec_corners).asDegrees()"
   ]
  },
  {
   "cell_type": "markdown",
   "id": "c28f757b-fb20-4612-b321-2902e8a71a55",
   "metadata": {},
   "source": [
    "### 5.1 Make a catalog of synthetic stars\n",
    "\n",
    "This time we will demonstrate a different way to create the injection catalog. Instead of using `generate_injection_catalog`, we will directly create an Astropy Table containing the properties of stars to inject.\n",
    "\n",
    "Set a variable \"nstars\" for the number of stars to create, then randomly generate arrays of RA, Dec positions and g-band magnitudes for that many stars."
   ]
  },
  {
   "cell_type": "code",
   "execution_count": null,
   "id": "505e202c-ac67-4787-8743-1d5c5f29036d",
   "metadata": {},
   "outputs": [],
   "source": [
    "nstars = 231\n",
    "ras = np.random.uniform(low=minra, high=maxra, size=(nstars,))\n",
    "decs = np.random.uniform(low=mindec, high=maxdec, size=(nstars,))\n",
    "gmags = np.random.uniform(low=17.0, high=23.0, size=(nstars,))"
   ]
  },
  {
   "cell_type": "markdown",
   "id": "1ea8dddb-39a5-45ef-9e3b-1baffdf05714",
   "metadata": {},
   "source": [
    "Turn those arrays into a Table with the correct format to be ingested into the Butler as an `injection_catalog`.\n",
    "\n",
    "Note that this time we use a `source_type` of \"DeltaFunction\" instead of \"Star.\" Either is acceptable because the `source_injection` package defines \"Star\" as an alias for \"DeltaFunction.\""
   ]
  },
  {
   "cell_type": "code",
   "execution_count": null,
   "id": "ae446dfe-d59a-47ca-99f8-f65b17cf8036",
   "metadata": {},
   "outputs": [],
   "source": [
    "inject_cat_stars_g = Table(\n",
    "    {\n",
    "        'injection_id': np.arange(nstars),\n",
    "        'ra': ras, 'dec': decs,\n",
    "        'source_type': ['DeltaFunction']*nstars,\n",
    "        'mag': gmags,\n",
    "    }\n",
    ")"
   ]
  },
  {
   "cell_type": "code",
   "execution_count": null,
   "id": "c1e267dd-4280-427a-866a-cb0fcf213909",
   "metadata": {},
   "outputs": [],
   "source": [
    "inject_cat_stars_g"
   ]
  },
  {
   "cell_type": "markdown",
   "id": "587162de-0c94-4176-964f-6e3b05422292",
   "metadata": {},
   "source": [
    "### 5.2 Ingest the synthetic catalog into the Butler\n",
    "\n",
    "_Remember that the injection catalog collection must have a unique name that has not been registered to the Butler before._"
   ]
  },
  {
   "cell_type": "code",
   "execution_count": null,
   "id": "b0d4712d-e4c6-4db3-9149-b695284770aa",
   "metadata": {},
   "outputs": [],
   "source": [
    "INJECTION_CATALOG_COLLECTION2 = f\"u/{user}/test2_injection_inputs\"\n",
    "\n",
    "# Instantiate a writeable Butler.\n",
    "writeable_butler = Butler(butler_config, writeable=True)\n",
    "\n",
    "# Ingest the injection catalog.\n",
    "my_injected_datasetRefs_g = ingest_injection_catalog(\n",
    "    writeable_butler=writeable_butler,\n",
    "    table=inject_cat_stars_g,\n",
    "    band=\"g\",\n",
    "    output_collection=INJECTION_CATALOG_COLLECTION2,\n",
    ")"
   ]
  },
  {
   "cell_type": "markdown",
   "id": "33af6fc9-4392-4327-8319-1ddc8395a5d5",
   "metadata": {},
   "source": [
    "### 5.3 Inject the stars into an image\n",
    "\n",
    "First, load the injection catalogs that we just wrote to the Butler:"
   ]
  },
  {
   "cell_type": "code",
   "execution_count": null,
   "id": "b493a45f-aa39-4244-8d28-0c3f9b0b7802",
   "metadata": {},
   "outputs": [],
   "source": [
    "injection_refs2 = butler.registry.queryDatasets(\n",
    "    \"injection_catalog\",\n",
    "    band=\"g\",\n",
    "    collections=INJECTION_CATALOG_COLLECTION2,\n",
    ")\n",
    "injection_catalogs2 = [\n",
    "    butler.get(injection_ref) for injection_ref in injection_refs2\n",
    "]"
   ]
  },
  {
   "cell_type": "markdown",
   "id": "faabb2c1-6a20-4ad4-87a1-48a0f9d43d4b",
   "metadata": {},
   "source": [
    "Instantiate the injection class and run it:"
   ]
  },
  {
   "cell_type": "code",
   "execution_count": null,
   "id": "c8e81d5e-c53a-4167-82c8-bd76ccca30cc",
   "metadata": {},
   "outputs": [],
   "source": [
    "# Instantiate the injection classes.\n",
    "inject_config = VisitInjectConfig()\n",
    "inject_task = VisitInjectTask(config=inject_config)\n",
    "\n",
    "# Run the source injection task.\n",
    "injected_output2 = inject_task.run(\n",
    "    injection_catalogs=injection_catalogs2,\n",
    "    input_exposure=calexp_g.clone(),\n",
    "    psf=psf,\n",
    "    photo_calib=photo_calib,\n",
    "    wcs=wcs,\n",
    ")\n",
    "\n",
    "injected_exposure2 = injected_output2.output_exposure\n",
    "injected_catalog2 = injected_output2.output_catalog"
   ]
  },
  {
   "cell_type": "markdown",
   "id": "f4669b5d-c626-4c5f-852f-d8449faf1084",
   "metadata": {},
   "source": [
    "### 5.4 Run detection and measurement tasks on the image with injected sources\n",
    "\n",
    "The details of running source detection and measurement tasks from the pipelines on `calexp` images were covered in [tutorial notebook 05: Intro to Source Detection](https://github.com/rubin-dp0/tutorial-notebooks/blob/main/DP02_05_Introduction_to_Source_Detection.ipynb), so we do not describe the process in detail here. Instead, we run all of the steps (characterization, detection, deblending, and measurement) in a single cell below. This cell takes the original `calexp`, and the `calexp` with injected sources, runs detection and measurement tasks, and returns a catalog of measurements for sources in the injected exposure."
   ]
  },
  {
   "cell_type": "code",
   "execution_count": null,
   "id": "536ef242-c3a2-46a5-a7e5-ec56c51ef15a",
   "metadata": {},
   "outputs": [],
   "source": [
    "# Clone both the input exposure and the exposure after source_injection has been run:\n",
    "# calexp_inp = calexp_g.clone()\n",
    "calexp_inp_new = injected_exposure2.clone()\n",
    "\n",
    "# Create a basic schema to use with these tasks\n",
    "schema = SourceTable.makeMinimalSchema()\n",
    "\n",
    "# Create a container which will be used to record metadata about algorithm execution\n",
    "algMetadata = PropertyList()\n",
    "\n",
    "# Initialize CharacterizeImageTask and its configuration:\n",
    "config = CharacterizeImageTask.ConfigClass()\n",
    "config.psfIterations = 1\n",
    "charImageTask = CharacterizeImageTask(None, config=config)\n",
    "\n",
    "# Initialize SourceDetectionTask and its configuration:\n",
    "config = SourceDetectionTask.ConfigClass()\n",
    "config.thresholdValue = 5      # detection threshold in units of thresholdType\n",
    "config.thresholdType = \"stdev\"   # units for thresholdValue\n",
    "sourceDetectionTask = SourceDetectionTask(schema=schema, config=config)\n",
    "sourceDeblendTask = SourceDeblendTask(schema=schema)\n",
    "\n",
    "# Initialize SingleFrameMeasurementTask and its configuration:\n",
    "config = SingleFrameMeasurementTask.ConfigClass()\n",
    "sourceMeasurementTask = SingleFrameMeasurementTask(schema=schema,\n",
    "                                                   config=config,\n",
    "                                                   algMetadata=algMetadata)\n",
    "\n",
    "# Make an empty table that we'll put the results in:\n",
    "tab = SourceTable.make(schema)\n",
    "\n",
    "# Image characterization\n",
    "result = charImageTask.run(calexp_inp_new)\n",
    "\n",
    "# Get the PSF and some image properties\n",
    "psf = calexp_inp_new.getPsf()\n",
    "pixelScale = calexp_inp_new.getWcs().getPixelScale().asArcseconds()\n",
    "\n",
    "# The factor of 2.355 converts from std to fwhm\n",
    "sigma = 1./pixelScale/2.355\n",
    "print('psf fwhm = {:.2f} arcsec'.format(sigma*pixelScale*2.355))\n",
    "\n",
    "# Run source detection and extract the source list\n",
    "result = sourceDetectionTask.run(tab, calexp_inp_new)\n",
    "sources = result.sources\n",
    "\n",
    "# Delete the \"result\" object to save space\n",
    "del result\n",
    "\n",
    "# Make a copy to ensure that the sources are sequential in memory\n",
    "sources = sources.copy(True)\n",
    "\n",
    "# Run source deblending\n",
    "sourceDeblendTask.run(calexp_inp_new, sources)\n",
    "\n",
    "# Run source measurement\n",
    "sourceMeasurementTask.run(measCat=sources, exposure=calexp_inp_new)\n",
    "\n",
    "# The copy makes sure that the sources are sequential in memory\n",
    "sources = sources.copy(True)\n",
    "\n",
    "# For convenience, return an Astropy table:\n",
    "source_tab = sources.asAstropy()\n",
    "\n",
    "# Convert fluxes to magnitudes and add them to the table\n",
    "photocalib = calexp_inp_new.getPhotoCalib()\n",
    "psfmags = photocalib.instFluxToMagnitude(sources, 'base_PsfFlux')\n",
    "source_tab.add_columns([psfmags[:, 0], psfmags[:, 1]],\n",
    "                       names=['mag_psf', 'magerr_psf'])\n",
    "\n",
    "sources_withsynthsources_g = source_tab"
   ]
  },
  {
   "cell_type": "code",
   "execution_count": null,
   "id": "ac437b43-281b-4903-b05f-82e1a4027e8b",
   "metadata": {},
   "outputs": [],
   "source": [
    "sources_withsynthsources_g"
   ]
  },
  {
   "cell_type": "markdown",
   "id": "061867a9-2d82-4648-9e32-9c619ea30207",
   "metadata": {},
   "source": [
    "### 5.5 Compare the input and measured magnitudes of the injected stars\n",
    "\n",
    "To do so, we must match the injection catalog with the measured catalog. We use the Astropy [SkyCoord](https://docs.astropy.org/en/stable/api/astropy.coordinates.SkyCoord.html) package to do the matching.\n",
    "\n",
    "Create SkyCoord objects from the injection catalog and the measurements, then plot their coordinates to confirm they overlap on the sky."
   ]
  },
  {
   "cell_type": "code",
   "execution_count": null,
   "id": "340b7adb-3b6a-4e74-ac96-ef16c89f1441",
   "metadata": {},
   "outputs": [],
   "source": [
    "# Coordinates of input synthetic stars\n",
    "sc_synthsources = SkyCoord(ra=inject_cat_stars_g['ra']*u.deg,\n",
    "                           dec=inject_cat_stars_g['dec']*u.deg,\n",
    "                           frame='icrs')\n",
    "\n",
    "# Coordinates of objects in calexps with synthetic stars added:\n",
    "sc_withsynthsources_g = SkyCoord(ra=sources_withsynthsources_g['coord_ra'],\n",
    "                                 dec=sources_withsynthsources_g['coord_dec'],\n",
    "                                 frame='icrs')"
   ]
  },
  {
   "cell_type": "markdown",
   "id": "117af5f6-0ac4-4a02-8a07-7fdfc7bfd4d7",
   "metadata": {},
   "source": [
    "Match them using the Astropy SkyCoord `match_to_catalog_sky` method. When given two catalogs (say \"cat1\" and \"cat2\") this method returns the indices (as \"idx_g\" here) of matches to each \"cat1\" object in \"cat2\", and the separation between the matched objects. In the second cell below, select matches where the separation is less than 1.0 arcseconds."
   ]
  },
  {
   "cell_type": "code",
   "execution_count": null,
   "id": "0abade66-f51a-4cda-a3e8-2b7f5290b44d",
   "metadata": {},
   "outputs": [],
   "source": [
    "idx_g, sep_g, _ = sc_synthsources.match_to_catalog_sky(sc_withsynthsources_g)"
   ]
  },
  {
   "cell_type": "code",
   "execution_count": null,
   "id": "25cf29e4-6efb-46ca-b248-7742ea778362",
   "metadata": {},
   "outputs": [],
   "source": [
    "okmch_g = (sep_g.arcsec < 1.0)\n",
    "mch_mags_g = sources_withsynthsources_g[idx_g]['mag_psf']\n",
    "mch_magerrs_g = sources_withsynthsources_g[idx_g]['magerr_psf']\n",
    "mch_mags_g[~okmch_g] = -99.9\n",
    "mch_magerrs_g[~okmch_g] = 99.9\n",
    "seps_g = sep_g.arcsec"
   ]
  },
  {
   "cell_type": "code",
   "execution_count": null,
   "id": "7597000d-63ac-46f2-a873-e0184d5a13aa",
   "metadata": {},
   "outputs": [],
   "source": [
    "fig, ax = plt.subplots(1, 1, figsize=(5, 5))\n",
    "plt.plot(sc_withsynthsources_g.ra, sc_withsynthsources_g.dec, '.k', label='detected sources')\n",
    "plt.plot(sc_synthsources[~okmch_g].ra, sc_synthsources[~okmch_g].dec,\n",
    "         's', color='Orange', ms=3, fillstyle='none',\n",
    "         label='synthetic source, no match')\n",
    "plt.plot(sc_synthsources[okmch_g].ra, sc_synthsources[okmch_g].dec, 'sr', fillstyle='none',\n",
    "         label='synthetic source, with match')\n",
    "ax.invert_xaxis()\n",
    "plt.legend()\n",
    "plt.xlabel('RA (deg)')\n",
    "plt.ylabel('Dec (deg)')\n",
    "plt.show()"
   ]
  },
  {
   "cell_type": "markdown",
   "id": "45bfb720-9c7d-4dd2-820a-11525a467c30",
   "metadata": {},
   "source": [
    "#### 5.5.1 Compare the injected and measured magnitudes of stars\n",
    "\n",
    "Now that we have matched the input and output catalogs, we can directly compare the recovered magnitudes of the injected stars. Plot the difference between the measured and \"true\" magnitudes vs. the \"true\" (injected) magnitude ($mag_{\\rm synth}$):"
   ]
  },
  {
   "cell_type": "code",
   "execution_count": null,
   "id": "7cc0eb94-ec26-44fb-9cf5-5da40b4ccf87",
   "metadata": {},
   "outputs": [],
   "source": [
    "fig = plt.plot(figsize=(9, 9))\n",
    "\n",
    "plt.hlines(0, 0, 30, linestyle=':', color='Black')\n",
    "plt.plot(inject_cat_stars_g[okmch_g]['mag'],\n",
    "         1000.0 * (mch_mags_g[okmch_g] - inject_cat_stars_g[okmch_g]['mag']),\n",
    "         'D', ms=10, color='mediumseagreen', label='g', fillstyle='none')\n",
    "plt.legend()\n",
    "plt.xlabel(r'$mag_{\\rm synth}$')\n",
    "plt.ylabel(r'$(mag_{\\rm meas} - mag_{\\rm synth})$ (mmag)')\n",
    "plt.xlim(16.8, 23.3)\n",
    "plt.ylim(-48, 48)\n",
    "plt.minorticks_on()\n",
    "plt.show()"
   ]
  },
  {
   "cell_type": "markdown",
   "id": "dfde3ae5-2b85-4c6d-a42e-dfc4328365c5",
   "metadata": {},
   "source": [
    "The magnitude differences are very near, but not exactly at, zero (note that the offsets are plotted in _millimagnitudes_), with the errors increasing toward fainter injected magnitudes, as expected."
   ]
  },
  {
   "cell_type": "markdown",
   "id": "3d5af646-bb96-48c1-9343-8979f93fa40d",
   "metadata": {},
   "source": [
    "# 6. Exercises for the learner\n",
    "\n",
    "Further explorations could include:\n",
    "* Injecting sources into coadd images.\n",
    "* Exploring other types of objects that can be injected into images (i.e., other Galsim parameters for more complicated sources).\n",
    "* Injecting variable objects into multiple calexp images and testing their recoverability."
   ]
  },
  {
   "cell_type": "code",
   "execution_count": null,
   "id": "037d21db-efcf-43c0-b282-aabd21b4cbb5",
   "metadata": {},
   "outputs": [],
   "source": []
  }
 ],
 "metadata": {
  "kernelspec": {
   "display_name": "LSST",
   "language": "python",
   "name": "lsst"
  },
  "language_info": {
   "codemirror_mode": {
    "name": "ipython",
    "version": 3
   },
   "file_extension": ".py",
   "mimetype": "text/x-python",
   "name": "python",
   "nbconvert_exporter": "python",
   "pygments_lexer": "ipython3",
   "version": "3.11.7"
  },
  "toc-autonumbering": false
 },
 "nbformat": 4,
 "nbformat_minor": 5
}
