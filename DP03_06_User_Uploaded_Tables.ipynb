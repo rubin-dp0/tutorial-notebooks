{
 "cells": [
  {
   "cell_type": "markdown",
   "id": "749b0ddf",
   "metadata": {},
   "source": [
    "# User Uploaded Tables\n",
    "<img align=\"left\" src = https://project.lsst.org/sites/default/files/Rubin-O-Logo_0.png width=250 style=\"padding: 10px\"> \n",
    "<br>\n",
    "Contact authors: Yumi Choi <br>\n",
    "Last verified to run: 2024-06-03 <br>\n",
    "LSST Science Piplines version: Weekly 2024_16 <br>\n",
    "Container Size: small <br>\n",
    "Targeted learning level: Beginner <br>"
   ]
  },
  {
   "cell_type": "markdown",
   "id": "9da1a210-d858-42fe-8591-570965b8be1a",
   "metadata": {},
   "source": [
    "**Description:** Use the TAP upload functionality for user-supplied tables and join them with DP0.3 catalogs."
   ]
  },
  {
   "cell_type": "markdown",
   "id": "80a0baf5-51ad-40ec-8991-060a7b27c289",
   "metadata": {},
   "source": [
    "**Skills:** Use the TAP service to upload a table and join it to an LSST table with ADQL."
   ]
  },
  {
   "cell_type": "markdown",
   "id": "393da88f-7978-4920-aa4a-a9830df6eed9",
   "metadata": {},
   "source": [
    "**LSST Data Products:** TAP tables dp03_catalogs_10yr.SSObject, dp03_catalogs_10yr.MPCORB, dp03_catalogs_10yr.DiaSource"
   ]
  },
  {
   "cell_type": "markdown",
   "id": "5c67fab9-136a-4adc-bb42-142b91ab69dd",
   "metadata": {},
   "source": [
    "**Packages:** lsst.rsp.get_tap_service"
   ]
  },
  {
   "cell_type": "markdown",
   "id": "8f72b27f",
   "metadata": {},
   "source": [
    "**Credit:**\n",
    "Developed by Yumi Choi. This tutorial is based on <a href=\"https://dp0-3.lsst.io/tutorials-dp0-3/portal-dp0-3-5.html\">a Portal tutorial</a> by Christina Williams for using user-supplied tables in queries for DP0.3 and <a href=\"https://github.com/rubin-dp0/cst-dev/blob/main/MLG_sandbox/DP03/gaia_hack_day_Feb2024.ipynb\">a Jupyter Notebook</a> by Melissan Graham and Jake Kurlander for accessing Gaia data and matching with DP0.3 data for solar system objects."
   ]
  },
  {
   "cell_type": "markdown",
   "id": "a400d1bb-e1ec-4160-bd41-bc7ca953a97c",
   "metadata": {
    "execution": {
     "iopub.execute_input": "2023-07-27T17:55:39.523317Z",
     "iopub.status.busy": "2023-07-27T17:55:39.522902Z",
     "iopub.status.idle": "2023-07-27T17:55:40.035942Z",
     "shell.execute_reply": "2023-07-27T17:55:40.034503Z",
     "shell.execute_reply.started": "2023-07-27T17:55:39.523290Z"
    },
    "tags": []
   },
   "source": [
    "**Get Support:** Find DP0-related documentation and resources at <a href=\"https://dp0.lsst.io\">dp0.lsst.io</a>. Questions are welcome as new topics in the <a href=\"https://community.lsst.org/c/support/dp0\">Support - Data Preview 0 Category</a> of the Rubin Community Forum. Rubin staff will respond to all questions posted there."
   ]
  },
  {
   "attachments": {},
   "cell_type": "markdown",
   "id": "cfc73be0",
   "metadata": {
    "tags": []
   },
   "source": [
    "## 1. Introduction\n",
    "\n",
    "This notebook illustrates the process of uploading user-provided tables via the TAP service and integrating them into queries for DP0.3. It focuses on two types of user-provided tables: (1) tables generated outside the RSP, and (2) tables created within the RSP but retrieved from an external database using [PyVO](https://github.com/astropy/pyvo)."
   ]
  },
  {
   "cell_type": "markdown",
   "id": "5bf722b4-8227-441f-9f3e-0f8140040fc1",
   "metadata": {
    "tags": []
   },
   "source": [
    "### 1.1. Import packages\n",
    "\n",
    "Import general python packages and the Rubin Table Access Protocol (TAP) service.\n",
    "\n",
    "[PyVO](https://pyvo.readthedocs.io/en/latest/) is a package providing access to remote data and services of the Virtual observatory (VO) using Python."
   ]
  },
  {
   "cell_type": "code",
   "execution_count": 1,
   "id": "4d4078a1-8232-4f11-97ec-2a67ca19308e",
   "metadata": {
    "execution": {
     "iopub.execute_input": "2024-07-29T20:57:43.133221Z",
     "iopub.status.busy": "2024-07-29T20:57:43.132922Z",
     "iopub.status.idle": "2024-07-29T20:57:43.503475Z",
     "shell.execute_reply": "2024-07-29T20:57:43.502922Z",
     "shell.execute_reply.started": "2024-07-29T20:57:43.133200Z"
    }
   },
   "outputs": [],
   "source": [
    "import os\n",
    "import getpass\n",
    "import matplotlib.pyplot as plt\n",
    "import numpy as np\n",
    "import pyvo\n",
    "from astropy.table import Table\n",
    "import pandas as pd\n",
    "from lsst.rsp import get_tap_service"
   ]
  },
  {
   "cell_type": "markdown",
   "id": "c217adff-25ed-4fce-95e7-8aa04630f6cc",
   "metadata": {},
   "source": [
    "### 1.2. Define parameters"
   ]
  },
  {
   "cell_type": "markdown",
   "id": "8a4a8b3b-91cf-4729-a707-99b7b11a5b8d",
   "metadata": {},
   "source": [
    "Set a few style parameters for the plots."
   ]
  },
  {
   "cell_type": "code",
   "execution_count": 78,
   "id": "c780a382-5c5e-4f20-9ffd-7aa517c37146",
   "metadata": {
    "execution": {
     "iopub.execute_input": "2024-07-29T21:37:38.026143Z",
     "iopub.status.busy": "2024-07-29T21:37:38.025431Z",
     "iopub.status.idle": "2024-07-29T21:37:38.029846Z",
     "shell.execute_reply": "2024-07-29T21:37:38.029054Z",
     "shell.execute_reply.started": "2024-07-29T21:37:38.026115Z"
    },
    "tags": []
   },
   "outputs": [],
   "source": [
    "plt.style.use('tableau-colorblind10')\n",
    "params = {'axes.labelsize': 12,\n",
    "          'font.size': 12,\n",
    "          'legend.fontsize': 10}\n",
    "plt.rcParams.update(params)"
   ]
  },
  {
   "cell_type": "markdown",
   "id": "12ab5a66-b37d-4a3b-b207-b95a68c7a7a7",
   "metadata": {},
   "source": [
    "Define the path to the home directory, where outputs generated by this tutorial will be saved."
   ]
  },
  {
   "cell_type": "code",
   "execution_count": 3,
   "id": "f60d078e-a8b1-4925-8368-fe41064a1fa4",
   "metadata": {
    "execution": {
     "iopub.execute_input": "2024-07-29T20:57:44.429270Z",
     "iopub.status.busy": "2024-07-29T20:57:44.428932Z",
     "iopub.status.idle": "2024-07-29T20:57:44.432947Z",
     "shell.execute_reply": "2024-07-29T20:57:44.432291Z",
     "shell.execute_reply.started": "2024-07-29T20:57:44.429248Z"
    }
   },
   "outputs": [
    {
     "name": "stdout",
     "output_type": "stream",
     "text": [
      "/home/galaxyumi331/\n"
     ]
    }
   ],
   "source": [
    "my_home_dir = '/home/' + getpass.getuser() + '/'\n",
    "print(my_home_dir)"
   ]
  },
  {
   "cell_type": "markdown",
   "id": "00b268e9-b011-4c57-9604-91e82bca58ce",
   "metadata": {},
   "source": [
    "Start the TAP service and assert that it exists."
   ]
  },
  {
   "cell_type": "code",
   "execution_count": 4,
   "id": "b62bc6f9-62ea-46a8-a05d-f6a7efaa855c",
   "metadata": {
    "execution": {
     "iopub.execute_input": "2024-07-29T20:57:45.156005Z",
     "iopub.status.busy": "2024-07-29T20:57:45.155708Z",
     "iopub.status.idle": "2024-07-29T20:57:45.217108Z",
     "shell.execute_reply": "2024-07-29T20:57:45.216277Z",
     "shell.execute_reply.started": "2024-07-29T20:57:45.155983Z"
    }
   },
   "outputs": [],
   "source": [
    "rsp_tap = get_tap_service(\"ssotap\")\n",
    "assert rsp_tap is not None"
   ]
  },
  {
   "cell_type": "markdown",
   "id": "ec51ac0b",
   "metadata": {
    "tags": []
   },
   "source": [
    "## 2. Spatial and temporal cross-match to diaSources\n",
    "\n",
    "The scientific scenario used for this demonstration is to answer the question\n",
    "of whether LSST detected a moving object which, based on its known orbit, was\n",
    "expected to appear at given coordinates on nine different nights.\n",
    "\n",
    "The list of expected coordinates and dates is provided in a file with nine rows\n",
    "(i.e., nine expected locations and times), with the format\n",
    "expected for user-uploaded tables: column names in the first row with no # symbol at the start of the row.\n",
    "The list contains columns of identifier index, right ascension, declination, and modified julian date (id, ra, dec, and mjd).\n",
    "\n",
    "The [ADQL](https://www.ivoa.net/documents/ADQL/) query below uploads this list to the TAP service and cross-matches to\n",
    "the table of detected sources that results from difference image analysis: the `diaSource` table\n",
    "(learn more about [DP0.3 catalogs](https://dp0-3.lsst.io/data-products-dp0-3/index.html#dp0-3-data-products-definition-document-dpdd))."
   ]
  },
  {
   "cell_type": "code",
   "execution_count": 5,
   "id": "43f597c0-8ba4-40c7-aee9-9f250dac82dd",
   "metadata": {
    "execution": {
     "iopub.execute_input": "2024-07-29T20:57:45.839470Z",
     "iopub.status.busy": "2024-07-29T20:57:45.839111Z",
     "iopub.status.idle": "2024-07-29T20:57:45.843018Z",
     "shell.execute_reply": "2024-07-29T20:57:45.842332Z",
     "shell.execute_reply.started": "2024-07-29T20:57:45.839447Z"
    }
   },
   "outputs": [],
   "source": [
    "fnm1 = 'data/dp03_06_user_table_1.cat'"
   ]
  },
  {
   "cell_type": "markdown",
   "id": "c62755f2-f3fc-4759-9f10-e6f72d245edb",
   "metadata": {},
   "source": [
    "**Option:** View the contents of the file with `more`, or return the word count (lines, words, characters) with `wc`."
   ]
  },
  {
   "cell_type": "code",
   "execution_count": 6,
   "id": "81b8cd59-1ba3-4eaa-846f-6478ed0c3cf5",
   "metadata": {
    "execution": {
     "iopub.execute_input": "2024-07-29T20:57:46.295198Z",
     "iopub.status.busy": "2024-07-29T20:57:46.294884Z",
     "iopub.status.idle": "2024-07-29T20:57:46.297779Z",
     "shell.execute_reply": "2024-07-29T20:57:46.297294Z",
     "shell.execute_reply.started": "2024-07-29T20:57:46.295177Z"
    },
    "tags": []
   },
   "outputs": [],
   "source": [
    "# os.system('more ' + fnm1)\n",
    "# os.system('wc ' + fnm1)"
   ]
  },
  {
   "cell_type": "markdown",
   "id": "bf968de5-ce59-41c9-88f0-83cd88bdc083",
   "metadata": {},
   "source": [
    "Read the file as user table 1, `ut1`."
   ]
  },
  {
   "cell_type": "code",
   "execution_count": 7,
   "id": "220c90e6-5399-46c4-a1dc-49219c7f46fd",
   "metadata": {
    "execution": {
     "iopub.execute_input": "2024-07-29T20:57:46.863342Z",
     "iopub.status.busy": "2024-07-29T20:57:46.863002Z",
     "iopub.status.idle": "2024-07-29T20:57:46.871282Z",
     "shell.execute_reply": "2024-07-29T20:57:46.870746Z",
     "shell.execute_reply.started": "2024-07-29T20:57:46.863322Z"
    }
   },
   "outputs": [],
   "source": [
    "ut1 = Table.read(fnm1, format='ascii.basic')"
   ]
  },
  {
   "cell_type": "markdown",
   "id": "e99ebf49-6bf9-47bf-bcf6-5b768be279d3",
   "metadata": {},
   "source": [
    "Define a query to cross match the coordinates\n",
    "and dates in the file to detections in the DP0.3 `diaSource` catalog.\n",
    "\n",
    "This query is applying a spatial threshold of 10 arcseconds (0.00278 degrees), and a temporal threshold of half a day.\n",
    "\n",
    "Notice that the columns from the user-uploaded table are being renamed in the query, e.g., `ut1.ra AS ut1_ra`.\n",
    "If this renaming is not done, the TAP service will rename the columns from the user table as `ra2` and `dec2`\n",
    "to distinguish them from the `ra` and `dec` columns from the `DiaSource` table."
   ]
  },
  {
   "cell_type": "code",
   "execution_count": 8,
   "id": "184ee9e9-c038-4aad-bbe1-87367794e63d",
   "metadata": {
    "execution": {
     "iopub.execute_input": "2024-07-29T20:57:47.489002Z",
     "iopub.status.busy": "2024-07-29T20:57:47.488247Z",
     "iopub.status.idle": "2024-07-29T20:57:47.492721Z",
     "shell.execute_reply": "2024-07-29T20:57:47.491938Z",
     "shell.execute_reply.started": "2024-07-29T20:57:47.488973Z"
    }
   },
   "outputs": [],
   "source": [
    "query = \"\"\"\n",
    "        SELECT dias.ra, dias.dec, dias.midPointMjdTai, dias.ssObjectId,\n",
    "        ut1.ra AS ut1_ra, ut1.dec AS ut1_dec, ut1.mjd AS ut1_mjd, ut1.id AS ut1_id\n",
    "        FROM dp03_catalogs_10yr.DiaSource AS dias, TAP_UPLOAD.ut1 AS ut1\n",
    "        WHERE CONTAINS(POINT('ICRS', dias.ra, dias.dec),\n",
    "        CIRCLE('ICRS', ut1.ra, ut1.dec, 0.00278))=1\n",
    "        AND ABS(dias.midPointMjdTai - ut1.mjd) < 0.5\n",
    "        ORDER BY dias.ssObjectId\n",
    "        \"\"\""
   ]
  },
  {
   "cell_type": "markdown",
   "id": "46e8419f-ca60-4fc4-abf0-fa255f6d13ad",
   "metadata": {
    "execution": {
     "iopub.execute_input": "2024-06-03T03:44:00.969710Z",
     "iopub.status.busy": "2024-06-03T03:44:00.969017Z",
     "iopub.status.idle": "2024-06-03T03:44:01.592200Z",
     "shell.execute_reply": "2024-06-03T03:44:01.590939Z",
     "shell.execute_reply.started": "2024-06-03T03:44:00.969685Z"
    }
   },
   "source": [
    "Create the job by submitting the query and then run it asynchronously."
   ]
  },
  {
   "cell_type": "code",
   "execution_count": 9,
   "id": "12d0080b-13f2-4a50-8b0e-126aa8b02faa",
   "metadata": {
    "execution": {
     "iopub.execute_input": "2024-07-29T20:57:48.169883Z",
     "iopub.status.busy": "2024-07-29T20:57:48.169577Z",
     "iopub.status.idle": "2024-07-29T20:57:48.923731Z",
     "shell.execute_reply": "2024-07-29T20:57:48.923066Z",
     "shell.execute_reply.started": "2024-07-29T20:57:48.169856Z"
    }
   },
   "outputs": [
    {
     "data": {
      "text/plain": [
       "<pyvo.dal.tap.AsyncTAPJob at 0x7d3f7043df10>"
      ]
     },
     "execution_count": 9,
     "metadata": {},
     "output_type": "execute_result"
    }
   ],
   "source": [
    "job = rsp_tap.submit_job(query, uploads={\"ut1\": ut1})\n",
    "job.run()"
   ]
  },
  {
   "cell_type": "markdown",
   "id": "c3e7aaf0-2f7b-4185-9d1f-f5eb40ae06d3",
   "metadata": {},
   "source": [
    "Check that the job is completed."
   ]
  },
  {
   "cell_type": "code",
   "execution_count": 10,
   "id": "801f6215-f541-408e-82c1-e147267c8765",
   "metadata": {
    "execution": {
     "iopub.execute_input": "2024-07-29T20:57:48.934428Z",
     "iopub.status.busy": "2024-07-29T20:57:48.934260Z",
     "iopub.status.idle": "2024-07-29T20:57:52.002617Z",
     "shell.execute_reply": "2024-07-29T20:57:52.002020Z",
     "shell.execute_reply.started": "2024-07-29T20:57:48.934415Z"
    }
   },
   "outputs": [
    {
     "name": "stdout",
     "output_type": "stream",
     "text": [
      "Job phase is COMPLETED\n"
     ]
    }
   ],
   "source": [
    "job.wait(phases=['COMPLETED', 'ERROR'])\n",
    "print('Job phase is', job.phase)"
   ]
  },
  {
   "cell_type": "markdown",
   "id": "b5383c21-d6c5-43b9-b189-62e429d11298",
   "metadata": {},
   "source": [
    "Retrieve the results and display them."
   ]
  },
  {
   "cell_type": "code",
   "execution_count": 11,
   "id": "4164a28a-0786-4f0d-ada6-c7a5a371477e",
   "metadata": {
    "execution": {
     "iopub.execute_input": "2024-07-29T20:57:52.021007Z",
     "iopub.status.busy": "2024-07-29T20:57:52.020826Z",
     "iopub.status.idle": "2024-07-29T20:57:52.134949Z",
     "shell.execute_reply": "2024-07-29T20:57:52.134441Z",
     "shell.execute_reply.started": "2024-07-29T20:57:52.020994Z"
    }
   },
   "outputs": [
    {
     "data": {
      "text/html": [
       "<div><i>Table length=15</i>\n",
       "<table id=\"table137711418364112\" class=\"table-striped table-bordered table-condensed\">\n",
       "<thead><tr><th>ra</th><th>dec</th><th>midPointMjdTai</th><th>ssObjectId</th><th>ut1_ra</th><th>ut1_dec</th><th>ut1_mjd</th><th>ut1_id</th></tr></thead>\n",
       "<thead><tr><th>deg</th><th>deg</th><th>d</th><th></th><th></th><th></th><th></th><th></th></tr></thead>\n",
       "<thead><tr><th>float64</th><th>float64</th><th>float64</th><th>int64</th><th>float64</th><th>float64</th><th>float64</th><th>int64</th></tr></thead>\n",
       "<tr><td>314.9407129</td><td>-31.5520653</td><td>62800.04496</td><td>2956589648411852100</td><td>314.9407129</td><td>-31.5520653</td><td>62800.04496</td><td>0</td></tr>\n",
       "<tr><td>314.939805</td><td>-31.5544472</td><td>62800.02065</td><td>2956589648411852100</td><td>314.9407129</td><td>-31.5520653</td><td>62800.04496</td><td>0</td></tr>\n",
       "<tr><td>338.0151274</td><td>-14.4770618</td><td>61741.04101</td><td>2956589648411852100</td><td>338.0151274</td><td>-14.4770618</td><td>61741.04101</td><td>1</td></tr>\n",
       "<tr><td>338.014364</td><td>-14.4779895</td><td>61741.02776</td><td>2956589648411852100</td><td>338.0151274</td><td>-14.4770618</td><td>61741.04101</td><td>1</td></tr>\n",
       "<tr><td>22.8351124</td><td>13.0273351</td><td>63450.38788</td><td>2956589648411852100</td><td>22.8351124</td><td>13.0273351</td><td>63450.38788</td><td>2</td></tr>\n",
       "<tr><td>352.2623818</td><td>-13.4892628</td><td>61632.24295</td><td>2956589648411852100</td><td>352.2623818</td><td>-13.4892628</td><td>61632.24295</td><td>3</td></tr>\n",
       "<tr><td>349.8507502</td><td>-14.3276051</td><td>61644.29927</td><td>2956589648411852100</td><td>349.8507502</td><td>-14.3276051</td><td>61644.29927</td><td>4</td></tr>\n",
       "<tr><td>349.8505526</td><td>-14.3276598</td><td>61644.30017</td><td>2956589648411852100</td><td>349.8507502</td><td>-14.3276051</td><td>61644.29927</td><td>4</td></tr>\n",
       "<tr><td>338.0151274</td><td>-14.4770618</td><td>61741.04101</td><td>2956589648411852100</td><td>338.014364</td><td>-14.4779895</td><td>61741.02776</td><td>5</td></tr>\n",
       "<tr><td>338.014364</td><td>-14.4779895</td><td>61741.02776</td><td>2956589648411852100</td><td>338.014364</td><td>-14.4779895</td><td>61741.02776</td><td>5</td></tr>\n",
       "<tr><td>317.6806847</td><td>-35.8352905</td><td>61291.02415</td><td>2956589648411852100</td><td>317.6805893</td><td>-35.8352626</td><td>61291.0246</td><td>6</td></tr>\n",
       "<tr><td>317.6805893</td><td>-35.8352626</td><td>61291.0246</td><td>2956589648411852100</td><td>317.6805893</td><td>-35.8352626</td><td>61291.0246</td><td>6</td></tr>\n",
       "<tr><td>345.2016394</td><td>-15.5920336</td><td>61665.05291</td><td>2956589648411852100</td><td>345.2016394</td><td>-15.5920336</td><td>61665.05291</td><td>7</td></tr>\n",
       "<tr><td>324.1758204</td><td>-35.9475937</td><td>61267.33416</td><td>2956589648411852100</td><td>324.1765195</td><td>-35.9475313</td><td>61267.33191</td><td>8</td></tr>\n",
       "<tr><td>324.1765195</td><td>-35.9475313</td><td>61267.33191</td><td>2956589648411852100</td><td>324.1765195</td><td>-35.9475313</td><td>61267.33191</td><td>8</td></tr>\n",
       "</table></div>"
      ],
      "text/plain": [
       "<Table length=15>\n",
       "     ra         dec     midPointMjdTai ...   ut1_dec     ut1_mjd   ut1_id\n",
       "    deg         deg           d        ...                               \n",
       "  float64     float64      float64     ...   float64     float64   int64 \n",
       "----------- ----------- -------------- ... ----------- ----------- ------\n",
       "314.9407129 -31.5520653    62800.04496 ... -31.5520653 62800.04496      0\n",
       " 314.939805 -31.5544472    62800.02065 ... -31.5520653 62800.04496      0\n",
       "338.0151274 -14.4770618    61741.04101 ... -14.4770618 61741.04101      1\n",
       " 338.014364 -14.4779895    61741.02776 ... -14.4770618 61741.04101      1\n",
       " 22.8351124  13.0273351    63450.38788 ...  13.0273351 63450.38788      2\n",
       "352.2623818 -13.4892628    61632.24295 ... -13.4892628 61632.24295      3\n",
       "349.8507502 -14.3276051    61644.29927 ... -14.3276051 61644.29927      4\n",
       "349.8505526 -14.3276598    61644.30017 ... -14.3276051 61644.29927      4\n",
       "338.0151274 -14.4770618    61741.04101 ... -14.4779895 61741.02776      5\n",
       " 338.014364 -14.4779895    61741.02776 ... -14.4779895 61741.02776      5\n",
       "317.6806847 -35.8352905    61291.02415 ... -35.8352626  61291.0246      6\n",
       "317.6805893 -35.8352626     61291.0246 ... -35.8352626  61291.0246      6\n",
       "345.2016394 -15.5920336    61665.05291 ... -15.5920336 61665.05291      7\n",
       "324.1758204 -35.9475937    61267.33416 ... -35.9475313 61267.33191      8\n",
       "324.1765195 -35.9475313    61267.33191 ... -35.9475313 61267.33191      8"
      ]
     },
     "execution_count": 11,
     "metadata": {},
     "output_type": "execute_result"
    }
   ],
   "source": [
    "results = job.fetch_result().to_table()\n",
    "results"
   ]
  },
  {
   "cell_type": "markdown",
   "id": "476b0ef8-a1d8-4cfb-b408-715949807ae0",
   "metadata": {},
   "source": [
    "In the table above, notice that the `ssObjectId` is all the same.\n",
    "This is because the file was created to contain the detections of a single moving object across multiple nights.\n",
    "\n",
    "Notice also that whereas the user-uploaded table had 9 rows, there are 15 matches to the `diaSource` table.\n",
    "Six of the rows had two matches.\n",
    "This means that six times, this moving object was detected twice within 10 arcseconds in the same night.\n",
    "\n",
    "### 2.1. Plot the spatial and temporal offsets\n",
    "\n",
    "For the purposes of demonstrating some kind of plot out of the results of this cross-matching, calculate the spatial and temporal\n",
    "offsets (`s_off` and `t_off`) between the detected `diaSource`s and the user uploaded expectations,\n",
    "and then plot the spatial vs. the temporal offsets."
   ]
  },
  {
   "cell_type": "code",
   "execution_count": 12,
   "id": "c452a798-221a-4443-8061-69d26bc33f25",
   "metadata": {
    "execution": {
     "iopub.execute_input": "2024-07-29T20:57:52.135786Z",
     "iopub.status.busy": "2024-07-29T20:57:52.135614Z",
     "iopub.status.idle": "2024-07-29T20:57:52.141923Z",
     "shell.execute_reply": "2024-07-29T20:57:52.141384Z",
     "shell.execute_reply.started": "2024-07-29T20:57:52.135773Z"
    }
   },
   "outputs": [],
   "source": [
    "cos_dec = np.cos(np.deg2rad(results['dec']))\n",
    "delta_ra = cos_dec * np.abs(results['ra'] - results['ut1_ra'])\n",
    "delta_dec = np.abs(results['dec'] - results['ut1_dec'])\n",
    "s_off = 3600.0 * np.sqrt(delta_ra**2 + delta_dec**2)\n",
    "t_off = 24.0 * 60.0 * np.abs(results['midPointMjdTai'] - results['ut1_mjd'])\n",
    "del cos_dec, delta_ra, delta_dec"
   ]
  },
  {
   "cell_type": "markdown",
   "id": "3245ed75-b3a1-478f-be36-e4a7732c2936",
   "metadata": {},
   "source": [
    "Moving objects do not exhibit a constant rate of motion on the sky in terms of, e.g., arcsec per minute,\n",
    "but a correlation between spatial and temporal offset is expected.\n",
    "Keep in mind that nine of these points will be at zero (no offset; perfect match).\n",
    "But for the six additional, newly-discovered detections in\n",
    "the `diaSource` catalog which were not in the user-uploaded table,\n",
    "there should be larger spatial offsets for larger temporal offsets."
   ]
  },
  {
   "cell_type": "code",
   "execution_count": 13,
   "id": "d3bede14-c8f1-41b2-987a-bb00343668a2",
   "metadata": {
    "execution": {
     "iopub.execute_input": "2024-07-29T20:57:52.142996Z",
     "iopub.status.busy": "2024-07-29T20:57:52.142589Z",
     "iopub.status.idle": "2024-07-29T20:57:52.301358Z",
     "shell.execute_reply": "2024-07-29T20:57:52.300846Z",
     "shell.execute_reply.started": "2024-07-29T20:57:52.142981Z"
    }
   },
   "outputs": [
    {
     "data": {
      "image/png": "[encoded data removed]",
      "text/plain": [
       "<Figure size 600x400 with 1 Axes>"
      ]
     },
     "metadata": {},
     "output_type": "display_data"
    }
   ],
   "source": [
    "fig = plt.figure(figsize=(6, 4))\n",
    "plt.plot(t_off, s_off, 'o', ms=10, alpha=0.3, mew=0)\n",
    "plt.xlabel('time difference (minutes)')\n",
    "plt.ylabel('sky distance (arcseconds)')\n",
    "plt.title('distance between same-night observations')\n",
    "plt.show()"
   ]
  },
  {
   "cell_type": "markdown",
   "id": "d7cba04f-1538-417f-8260-80193b092b3a",
   "metadata": {},
   "source": [
    "> Figure 1: Above, the sky distance in arcseconds is plotted versus the time difference in minutes for the 15 detections cross-matched with the 9 anticipated coordinates and times in the user-uploaded table.\n",
    "\n",
    "Clean up."
   ]
  },
  {
   "cell_type": "code",
   "execution_count": 14,
   "id": "cc70f4d4-9551-435f-aa1c-84da684414b3",
   "metadata": {
    "execution": {
     "iopub.execute_input": "2024-07-29T20:57:52.302962Z",
     "iopub.status.busy": "2024-07-29T20:57:52.302711Z",
     "iopub.status.idle": "2024-07-29T20:57:52.305594Z",
     "shell.execute_reply": "2024-07-29T20:57:52.305078Z",
     "shell.execute_reply.started": "2024-07-29T20:57:52.302948Z"
    }
   },
   "outputs": [],
   "source": [
    "del t_off, s_off\n",
    "del fnm1, ut1, query, job, results"
   ]
  },
  {
   "cell_type": "markdown",
   "id": "94714005-d795-48ea-b80a-2885c09b21e3",
   "metadata": {},
   "source": [
    "## 3. Object identifier cross-match to diaSources\n",
    "\n",
    "This section demonstrates how to upload a user-supplied table and join it with a DP0.3 table.\n",
    "\n",
    "In this scenario, a list of identifiers (`ssObjectId`) for moving objects has been assembled\n",
    "by the user and stored in a file (one column, two rows of data).\n",
    "\n",
    "As in Section 2, define the file name, optionally print the contents or the word count, \n",
    "and then read in the file."
   ]
  },
  {
   "cell_type": "code",
   "execution_count": 15,
   "id": "55688974-a2cc-496b-801a-e1dfe38223e9",
   "metadata": {
    "execution": {
     "iopub.execute_input": "2024-07-29T20:57:52.306437Z",
     "iopub.status.busy": "2024-07-29T20:57:52.306244Z",
     "iopub.status.idle": "2024-07-29T20:57:52.318440Z",
     "shell.execute_reply": "2024-07-29T20:57:52.317889Z",
     "shell.execute_reply.started": "2024-07-29T20:57:52.306422Z"
    }
   },
   "outputs": [],
   "source": [
    "fnm2 = 'data/dp03_06_user_table_2.cat'"
   ]
  },
  {
   "cell_type": "code",
   "execution_count": 16,
   "id": "66188120-7185-4838-920a-644473c99845",
   "metadata": {
    "execution": {
     "iopub.execute_input": "2024-07-29T20:57:52.319334Z",
     "iopub.status.busy": "2024-07-29T20:57:52.319139Z",
     "iopub.status.idle": "2024-07-29T20:57:52.331355Z",
     "shell.execute_reply": "2024-07-29T20:57:52.330880Z",
     "shell.execute_reply.started": "2024-07-29T20:57:52.319321Z"
    }
   },
   "outputs": [],
   "source": [
    "# os.system('more ' + fnm2)\n",
    "# os.system('wc ' + fnm2)"
   ]
  },
  {
   "cell_type": "code",
   "execution_count": 17,
   "id": "c82b41af-37db-4c27-839f-bccf87e8d0cf",
   "metadata": {
    "execution": {
     "iopub.execute_input": "2024-07-29T20:57:52.332171Z",
     "iopub.status.busy": "2024-07-29T20:57:52.331981Z",
     "iopub.status.idle": "2024-07-29T20:57:52.347733Z",
     "shell.execute_reply": "2024-07-29T20:57:52.347262Z",
     "shell.execute_reply.started": "2024-07-29T20:57:52.332158Z"
    }
   },
   "outputs": [],
   "source": [
    "ut2 = Table.read(fnm2, format='ascii.basic')"
   ]
  },
  {
   "cell_type": "markdown",
   "id": "d17f1f77-92b3-4a16-be5a-035115e0b1f2",
   "metadata": {},
   "source": [
    "Define a query to use an inner join on the user-uploaded table and the `diaSource` table\n",
    "to return only records (objects) that have matching values in both tables.\n",
    "\n",
    "**Inner join:** An inner join is the default type of join, and is what is done if simply `JOIN` is used in a query.\n",
    "Other types of joins include outer joins (e.g., left, right, full) which optionally return\n",
    "all records in one or the other table, with matches where available."
   ]
  },
  {
   "cell_type": "code",
   "execution_count": 18,
   "id": "e0c62f66-0498-438c-b436-12ba79000d34",
   "metadata": {
    "execution": {
     "iopub.execute_input": "2024-07-29T20:57:52.348551Z",
     "iopub.status.busy": "2024-07-29T20:57:52.348379Z",
     "iopub.status.idle": "2024-07-29T20:57:52.356925Z",
     "shell.execute_reply": "2024-07-29T20:57:52.356498Z",
     "shell.execute_reply.started": "2024-07-29T20:57:52.348538Z"
    }
   },
   "outputs": [],
   "source": [
    "query = \"\"\"\n",
    "        SELECT ut2.ssObjectId_user, dias.ssObjectId, dias.ra, dias.dec\n",
    "        FROM TAP_UPLOAD.ut2 as ut2\n",
    "        INNER JOIN dp03_catalogs_10yr.diaSource as dias\n",
    "        ON ut2.ssObjectId_user = dias.ssObjectId\n",
    "        \"\"\""
   ]
  },
  {
   "cell_type": "markdown",
   "id": "b459919e-c47c-43fa-a0f4-208b92ff8e17",
   "metadata": {},
   "source": [
    "Run the query asynchronously and then retrieve the results."
   ]
  },
  {
   "cell_type": "code",
   "execution_count": 19,
   "id": "22229072-b16b-4ade-9f8c-e7489c52ebdd",
   "metadata": {
    "execution": {
     "iopub.execute_input": "2024-07-29T20:57:52.827408Z",
     "iopub.status.busy": "2024-07-29T20:57:52.826723Z",
     "iopub.status.idle": "2024-07-29T20:57:56.450594Z",
     "shell.execute_reply": "2024-07-29T20:57:56.449873Z",
     "shell.execute_reply.started": "2024-07-29T20:57:52.827386Z"
    }
   },
   "outputs": [
    {
     "name": "stdout",
     "output_type": "stream",
     "text": [
      "Job phase is COMPLETED\n"
     ]
    }
   ],
   "source": [
    "job = rsp_tap.submit_job(query, uploads={\"ut2\": ut2})\n",
    "job.run()\n",
    "job.wait(phases=['COMPLETED', 'ERROR'])\n",
    "print('Job phase is', job.phase)"
   ]
  },
  {
   "cell_type": "code",
   "execution_count": 20,
   "id": "5024461b-4a4d-4961-b893-4654e7cf679c",
   "metadata": {
    "execution": {
     "iopub.execute_input": "2024-07-29T20:57:56.461490Z",
     "iopub.status.busy": "2024-07-29T20:57:56.461318Z",
     "iopub.status.idle": "2024-07-29T20:57:56.531933Z",
     "shell.execute_reply": "2024-07-29T20:57:56.531227Z",
     "shell.execute_reply.started": "2024-07-29T20:57:56.461477Z"
    }
   },
   "outputs": [
    {
     "data": {
      "text/html": [
       "<div><i>Table length=672</i>\n",
       "<table id=\"table137711419175504\" class=\"table-striped table-bordered table-condensed\">\n",
       "<thead><tr><th>ssObjectId_user</th><th>ssObjectId</th><th>ra</th><th>dec</th></tr></thead>\n",
       "<thead><tr><th></th><th></th><th>deg</th><th>deg</th></tr></thead>\n",
       "<thead><tr><th>int64</th><th>int64</th><th>float64</th><th>float64</th></tr></thead>\n",
       "<tr><td>5977535780727431144</td><td>5977535780727431144</td><td>297.6175308</td><td>-0.4666219</td></tr>\n",
       "<tr><td>5977535780727431144</td><td>5977535780727431144</td><td>267.9602991</td><td>13.7540882</td></tr>\n",
       "<tr><td>5977535780727431144</td><td>5977535780727431144</td><td>242.0993711</td><td>6.867205</td></tr>\n",
       "<tr><td>5977535780727431144</td><td>5977535780727431144</td><td>251.1593754</td><td>0.5298268</td></tr>\n",
       "<tr><td>5977535780727431144</td><td>5977535780727431144</td><td>243.2244299</td><td>1.8095232</td></tr>\n",
       "<tr><td>5977535780727431144</td><td>5977535780727431144</td><td>287.9080887</td><td>8.1408245</td></tr>\n",
       "<tr><td>5977535780727431144</td><td>5977535780727431144</td><td>290.2771912</td><td>8.3605998</td></tr>\n",
       "<tr><td>5977535780727431144</td><td>5977535780727431144</td><td>252.1509606</td><td>10.6167461</td></tr>\n",
       "<tr><td>5977535780727431144</td><td>5977535780727431144</td><td>287.8090077</td><td>-16.8921954</td></tr>\n",
       "<tr><td>...</td><td>...</td><td>...</td><td>...</td></tr>\n",
       "<tr><td>4350915375550808373</td><td>4350915375550808373</td><td>69.8547407</td><td>-30.053796</td></tr>\n",
       "<tr><td>4350915375550808373</td><td>4350915375550808373</td><td>86.806202</td><td>-28.6962433</td></tr>\n",
       "<tr><td>4350915375550808373</td><td>4350915375550808373</td><td>61.7813131</td><td>-15.7272584</td></tr>\n",
       "<tr><td>4350915375550808373</td><td>4350915375550808373</td><td>75.2083479</td><td>-31.4801478</td></tr>\n",
       "<tr><td>4350915375550808373</td><td>4350915375550808373</td><td>71.6289181</td><td>-30.4687589</td></tr>\n",
       "<tr><td>4350915375550808373</td><td>4350915375550808373</td><td>3.1459663</td><td>-44.9514265</td></tr>\n",
       "<tr><td>4350915375550808373</td><td>4350915375550808373</td><td>82.8768975</td><td>-27.5150918</td></tr>\n",
       "<tr><td>4350915375550808373</td><td>4350915375550808373</td><td>80.2784977</td><td>-28.6247472</td></tr>\n",
       "<tr><td>4350915375550808373</td><td>4350915375550808373</td><td>84.344066</td><td>-29.4088081</td></tr>\n",
       "<tr><td>4350915375550808373</td><td>4350915375550808373</td><td>66.8995306</td><td>-31.6402378</td></tr>\n",
       "</table></div>"
      ],
      "text/plain": [
       "<Table length=672>\n",
       "  ssObjectId_user        ssObjectId          ra         dec    \n",
       "                                            deg         deg    \n",
       "       int64               int64          float64     float64  \n",
       "------------------- ------------------- ----------- -----------\n",
       "5977535780727431144 5977535780727431144 297.6175308  -0.4666219\n",
       "5977535780727431144 5977535780727431144 267.9602991  13.7540882\n",
       "5977535780727431144 5977535780727431144 242.0993711    6.867205\n",
       "5977535780727431144 5977535780727431144 251.1593754   0.5298268\n",
       "5977535780727431144 5977535780727431144 243.2244299   1.8095232\n",
       "5977535780727431144 5977535780727431144 287.9080887   8.1408245\n",
       "5977535780727431144 5977535780727431144 290.2771912   8.3605998\n",
       "5977535780727431144 5977535780727431144 252.1509606  10.6167461\n",
       "5977535780727431144 5977535780727431144 287.8090077 -16.8921954\n",
       "                ...                 ...         ...         ...\n",
       "4350915375550808373 4350915375550808373  69.8547407  -30.053796\n",
       "4350915375550808373 4350915375550808373   86.806202 -28.6962433\n",
       "4350915375550808373 4350915375550808373  61.7813131 -15.7272584\n",
       "4350915375550808373 4350915375550808373  75.2083479 -31.4801478\n",
       "4350915375550808373 4350915375550808373  71.6289181 -30.4687589\n",
       "4350915375550808373 4350915375550808373   3.1459663 -44.9514265\n",
       "4350915375550808373 4350915375550808373  82.8768975 -27.5150918\n",
       "4350915375550808373 4350915375550808373  80.2784977 -28.6247472\n",
       "4350915375550808373 4350915375550808373   84.344066 -29.4088081\n",
       "4350915375550808373 4350915375550808373  66.8995306 -31.6402378"
      ]
     },
     "execution_count": 20,
     "metadata": {},
     "output_type": "execute_result"
    }
   ],
   "source": [
    "results = job.fetch_result().to_table()\n",
    "results"
   ]
  },
  {
   "cell_type": "markdown",
   "id": "8b2af35e-2fb6-403e-a9f0-2e607f7e551d",
   "metadata": {},
   "source": [
    "Print the unique `ssObjectId` and how many detections each had."
   ]
  },
  {
   "cell_type": "code",
   "execution_count": 21,
   "id": "b3bf5e0f-8269-426e-a38e-d80106b279ed",
   "metadata": {
    "execution": {
     "iopub.execute_input": "2024-07-29T20:57:56.533875Z",
     "iopub.status.busy": "2024-07-29T20:57:56.533626Z",
     "iopub.status.idle": "2024-07-29T20:57:56.539079Z",
     "shell.execute_reply": "2024-07-29T20:57:56.538411Z",
     "shell.execute_reply.started": "2024-07-29T20:57:56.533860Z"
    }
   },
   "outputs": [
    {
     "name": "stdout",
     "output_type": "stream",
     "text": [
      "ssObjectId: 4350915375550808373 Number of detections: 322\n",
      "ssObjectId: 5977535780727431144 Number of detections: 350\n"
     ]
    }
   ],
   "source": [
    "uniqueIds, counts = np.unique(results['ssObjectId'], return_counts=True)\n",
    "for uniqueId, count in zip(uniqueIds, counts):\n",
    "    print(\"ssObjectId:\", uniqueId, \"Number of detections:\", count)"
   ]
  },
  {
   "cell_type": "markdown",
   "id": "0d66aa55-aca3-4703-a6a1-376b9fdb5da8",
   "metadata": {
    "execution": {
     "iopub.execute_input": "2024-05-07T05:18:45.699109Z",
     "iopub.status.busy": "2024-05-07T05:18:45.698800Z",
     "iopub.status.idle": "2024-05-07T05:18:45.704297Z",
     "shell.execute_reply": "2024-05-07T05:18:45.703757Z",
     "shell.execute_reply.started": "2024-05-07T05:18:45.699088Z"
    }
   },
   "source": [
    "### 3.1. Plot the sky distribution of LSST detections\n",
    "\n",
    "Create a plot showing sky distribution of the detections of these two unique objects over 10 years."
   ]
  },
  {
   "cell_type": "code",
   "execution_count": 22,
   "id": "4b6651e9-4f82-47d7-80a6-a863a9702fd1",
   "metadata": {
    "execution": {
     "iopub.execute_input": "2024-07-29T20:57:56.540204Z",
     "iopub.status.busy": "2024-07-29T20:57:56.539943Z",
     "iopub.status.idle": "2024-07-29T20:57:56.736691Z",
     "shell.execute_reply": "2024-07-29T20:57:56.736131Z",
     "shell.execute_reply.started": "2024-07-29T20:57:56.540185Z"
    }
   },
   "outputs": [
    {
     "data": {
      "image/png": "[encoded data removed]",
      "text/plain": [
       "<Figure size 600x400 with 1 Axes>"
      ]
     },
     "metadata": {},
     "output_type": "display_data"
    }
   ],
   "source": [
    "fig = plt.figure(figsize=(6, 4))\n",
    "for uniqueId in uniqueIds:\n",
    "    tx = results['ssObjectId'] == uniqueId\n",
    "    plt.plot(results['ra'][tx], results['dec'][tx],\n",
    "             'o', ms=5, alpha=0.3, mew=0, label=str(uniqueId))\n",
    "plt.xlabel('Right Ascension [deg]')\n",
    "plt.ylabel('Declination [deg]')\n",
    "plt.title('LSST detections of two moving objects')\n",
    "plt.legend(loc='lower left')\n",
    "plt.show()"
   ]
  },
  {
   "cell_type": "markdown",
   "id": "d1c27c6b-f22e-4993-93c4-10413484cebe",
   "metadata": {},
   "source": [
    "> Figure 2: Above, the coordinates of the LSST difference-image detections from the `diaSource` catalog for the two moving objects listed in the user-uploaded table.\n",
    "\n",
    "Clean up."
   ]
  },
  {
   "cell_type": "code",
   "execution_count": 23,
   "id": "3cbbe7d7-156f-4c46-8657-cb578c452bdf",
   "metadata": {
    "execution": {
     "iopub.execute_input": "2024-07-29T20:57:56.737652Z",
     "iopub.status.busy": "2024-07-29T20:57:56.737448Z",
     "iopub.status.idle": "2024-07-29T20:57:56.740461Z",
     "shell.execute_reply": "2024-07-29T20:57:56.740001Z",
     "shell.execute_reply.started": "2024-07-29T20:57:56.737638Z"
    }
   },
   "outputs": [],
   "source": [
    "del fnm2, ut2, query, job, results, uniqueIds, counts"
   ]
  },
  {
   "cell_type": "markdown",
   "id": "28a8f930-4423-4677-aa35-42faa2300019",
   "metadata": {},
   "source": [
    "## 4. Gaia data for DP0.3 asteroids\n",
    "\n",
    "This section demonstrates how to do an external TAP query to retrieve a Gaia data table using `PyVO` from the RSP,\n",
    "and then upload the table and use it in a joint query with the LSST DP0.3 catalogs.\n",
    "\n",
    "Gaia data is also accessible via the [Gaia Archive](https://www.cosmos.esa.int/web/gaia-users/archive)\n",
    "(see the Help tab for more information about Gaia catalogs and data access). "
   ]
  },
  {
   "cell_type": "markdown",
   "id": "7bbad6ce-afde-44a4-9c1d-77e5074d67b4",
   "metadata": {},
   "source": [
    "### 4.1. Retrieve Gaia data for main-belt asteroids\n",
    "\n",
    "Get an instance of the Gaia TAP service using `PyVO` and assert that it exists."
   ]
  },
  {
   "cell_type": "code",
   "execution_count": 24,
   "id": "b7644df2-4ac8-466a-83f8-7a896258f4fd",
   "metadata": {
    "execution": {
     "iopub.execute_input": "2024-07-29T20:57:56.741317Z",
     "iopub.status.busy": "2024-07-29T20:57:56.741145Z",
     "iopub.status.idle": "2024-07-29T20:57:56.755501Z",
     "shell.execute_reply": "2024-07-29T20:57:56.754859Z",
     "shell.execute_reply.started": "2024-07-29T20:57:56.741304Z"
    }
   },
   "outputs": [],
   "source": [
    "gaia_tap_url = 'https://gea.esac.esa.int/tap-server/tap'\n",
    "gaia_tap = pyvo.dal.TAPService(gaia_tap_url)\n",
    "assert gaia_tap is not None\n",
    "assert gaia_tap.baseurl == gaia_tap_url"
   ]
  },
  {
   "cell_type": "markdown",
   "id": "e1f90a3b-db1f-41c7-bd48-d53d5584068f",
   "metadata": {},
   "source": [
    "Query the Gaia database for main-belt asteroids (MBAs) following the population definition used by the\n",
    "[JPL Horizons small body database query tool](https://ssd.jpl.nasa.gov/tools/sbdb_query.html):\n",
    "2.0 < `a` < 3.25 au and `q` > 1.666 au.\n",
    "\n",
    "To expedite the query, only return objects with more than 200 observations (i.e., well-observed objects),\n",
    "and limit the number of objects returned to 1000 with `SELECT TOP 1000`."
   ]
  },
  {
   "cell_type": "code",
   "execution_count": 25,
   "id": "1c7a64ae-e845-42c8-9f1c-d1c85b7cf99e",
   "metadata": {
    "execution": {
     "iopub.execute_input": "2024-07-29T20:57:56.756555Z",
     "iopub.status.busy": "2024-07-29T20:57:56.756331Z",
     "iopub.status.idle": "2024-07-29T20:57:56.769249Z",
     "shell.execute_reply": "2024-07-29T20:57:56.768772Z",
     "shell.execute_reply.started": "2024-07-29T20:57:56.756535Z"
    }
   },
   "outputs": [],
   "source": [
    "gaia_query = \"\"\"\n",
    "             SELECT TOP 1000 denomination, inclination,\n",
    "                 eccentricity, semi_major_axis\n",
    "             FROM gaiadr3.sso_orbits\n",
    "             WHERE num_observations > 200\n",
    "             AND semi_major_axis > 2.0\n",
    "             AND semi_major_axis < 3.25\n",
    "             AND semi_major_axis*(1-eccentricity) > 1.666\n",
    "             \"\"\""
   ]
  },
  {
   "cell_type": "markdown",
   "id": "93bdd35f-602c-42e0-8556-79bbb32727f6",
   "metadata": {},
   "source": [
    "Run the query and retrieve the results."
   ]
  },
  {
   "cell_type": "code",
   "execution_count": 26,
   "id": "7dee88e3-3aa8-411a-bc97-eb57b293db1b",
   "metadata": {
    "execution": {
     "iopub.execute_input": "2024-07-29T20:57:56.770130Z",
     "iopub.status.busy": "2024-07-29T20:57:56.769873Z",
     "iopub.status.idle": "2024-07-29T20:57:58.532365Z",
     "shell.execute_reply": "2024-07-29T20:57:58.531812Z",
     "shell.execute_reply.started": "2024-07-29T20:57:56.770110Z"
    }
   },
   "outputs": [
    {
     "name": "stdout",
     "output_type": "stream",
     "text": [
      "Job phase is COMPLETED\n"
     ]
    }
   ],
   "source": [
    "gaia_job = gaia_tap.submit_job(gaia_query)\n",
    "gaia_job.run()\n",
    "gaia_job.wait(phases=['COMPLETED', 'ERROR'])\n",
    "print('Job phase is', gaia_job.phase)"
   ]
  },
  {
   "cell_type": "markdown",
   "id": "e590d892-326f-4abf-a0fb-61b9e15102e2",
   "metadata": {},
   "source": [
    "Retrieve the results and convert them to an `astropy` table with `to_table`, and then\n",
    "to a `pandas` table with `to_pandas`, in order to enable some column reformatting."
   ]
  },
  {
   "cell_type": "code",
   "execution_count": 27,
   "id": "680fb0e8-7feb-4abf-83b4-9aeb2a4e06e9",
   "metadata": {
    "execution": {
     "iopub.execute_input": "2024-07-29T20:57:58.605247Z",
     "iopub.status.busy": "2024-07-29T20:57:58.605055Z",
     "iopub.status.idle": "2024-07-29T20:57:58.969851Z",
     "shell.execute_reply": "2024-07-29T20:57:58.969368Z",
     "shell.execute_reply.started": "2024-07-29T20:57:58.605234Z"
    }
   },
   "outputs": [
    {
     "data": {
      "text/html": [
       "<div>\n",
       "<style scoped>\n",
       "    .dataframe tbody tr th:only-of-type {\n",
       "        vertical-align: middle;\n",
       "    }\n",
       "\n",
       "    .dataframe tbody tr th {\n",
       "        vertical-align: top;\n",
       "    }\n",
       "\n",
       "    .dataframe thead th {\n",
       "        text-align: right;\n",
       "    }\n",
       "</style>\n",
       "<table border=\"1\" class=\"dataframe\">\n",
       "  <thead>\n",
       "    <tr style=\"text-align: right;\">\n",
       "      <th></th>\n",
       "      <th>denomination</th>\n",
       "      <th>inclination</th>\n",
       "      <th>eccentricity</th>\n",
       "      <th>semi_major_axis</th>\n",
       "    </tr>\n",
       "  </thead>\n",
       "  <tbody>\n",
       "    <tr>\n",
       "      <th>0</th>\n",
       "      <td>2000_so179</td>\n",
       "      <td>0.058380</td>\n",
       "      <td>0.120836</td>\n",
       "      <td>2.701355</td>\n",
       "    </tr>\n",
       "    <tr>\n",
       "      <th>1</th>\n",
       "      <td>1999_gu8</td>\n",
       "      <td>0.113790</td>\n",
       "      <td>0.208611</td>\n",
       "      <td>2.203320</td>\n",
       "    </tr>\n",
       "    <tr>\n",
       "      <th>2</th>\n",
       "      <td>2000_ge143</td>\n",
       "      <td>0.185379</td>\n",
       "      <td>0.074487</td>\n",
       "      <td>3.091090</td>\n",
       "    </tr>\n",
       "    <tr>\n",
       "      <th>3</th>\n",
       "      <td>5082_t-3</td>\n",
       "      <td>0.097229</td>\n",
       "      <td>0.149435</td>\n",
       "      <td>2.313023</td>\n",
       "    </tr>\n",
       "    <tr>\n",
       "      <th>4</th>\n",
       "      <td>2000_su299</td>\n",
       "      <td>0.227229</td>\n",
       "      <td>0.075321</td>\n",
       "      <td>3.169976</td>\n",
       "    </tr>\n",
       "    <tr>\n",
       "      <th>...</th>\n",
       "      <td>...</td>\n",
       "      <td>...</td>\n",
       "      <td>...</td>\n",
       "      <td>...</td>\n",
       "    </tr>\n",
       "    <tr>\n",
       "      <th>995</th>\n",
       "      <td>1999_jx102</td>\n",
       "      <td>0.107432</td>\n",
       "      <td>0.114787</td>\n",
       "      <td>3.137027</td>\n",
       "    </tr>\n",
       "    <tr>\n",
       "      <th>996</th>\n",
       "      <td>1993_fv82</td>\n",
       "      <td>0.049898</td>\n",
       "      <td>0.202413</td>\n",
       "      <td>2.189258</td>\n",
       "    </tr>\n",
       "    <tr>\n",
       "      <th>997</th>\n",
       "      <td>1999_jv24</td>\n",
       "      <td>0.267638</td>\n",
       "      <td>0.046316</td>\n",
       "      <td>2.570573</td>\n",
       "    </tr>\n",
       "    <tr>\n",
       "      <th>998</th>\n",
       "      <td>andrewchiang</td>\n",
       "      <td>0.147260</td>\n",
       "      <td>0.037843</td>\n",
       "      <td>3.062983</td>\n",
       "    </tr>\n",
       "    <tr>\n",
       "      <th>999</th>\n",
       "      <td>2001_qs256</td>\n",
       "      <td>0.079710</td>\n",
       "      <td>0.130844</td>\n",
       "      <td>2.671761</td>\n",
       "    </tr>\n",
       "  </tbody>\n",
       "</table>\n",
       "<p>1000 rows × 4 columns</p>\n",
       "</div>"
      ],
      "text/plain": [
       "     denomination  inclination  eccentricity  semi_major_axis\n",
       "0      2000_so179     0.058380      0.120836         2.701355\n",
       "1        1999_gu8     0.113790      0.208611         2.203320\n",
       "2      2000_ge143     0.185379      0.074487         3.091090\n",
       "3        5082_t-3     0.097229      0.149435         2.313023\n",
       "4      2000_su299     0.227229      0.075321         3.169976\n",
       "..            ...          ...           ...              ...\n",
       "995    1999_jx102     0.107432      0.114787         3.137027\n",
       "996     1993_fv82     0.049898      0.202413         2.189258\n",
       "997     1999_jv24     0.267638      0.046316         2.570573\n",
       "998  andrewchiang     0.147260      0.037843         3.062983\n",
       "999    2001_qs256     0.079710      0.130844         2.671761\n",
       "\n",
       "[1000 rows x 4 columns]"
      ]
     },
     "execution_count": 27,
     "metadata": {},
     "output_type": "execute_result"
    }
   ],
   "source": [
    "gaia_results = gaia_job.fetch_result().to_table().to_pandas()\n",
    "gaia_results"
   ]
  },
  {
   "cell_type": "markdown",
   "id": "13ea1769-d3ad-47e3-a8ee-2d50db607ec4",
   "metadata": {},
   "source": [
    "#### 4.1.1. Plot the orbital parameters\n",
    "\n",
    "To explore the retrieved data for 1000 MBAs, make plots showing eccentricity (`e`) and inclination (`i`) against semi-major axis (`a`)."
   ]
  },
  {
   "cell_type": "code",
   "execution_count": 28,
   "id": "786b5319-f458-4c9b-8b75-c0d0c22eeff8",
   "metadata": {
    "execution": {
     "iopub.execute_input": "2024-07-29T20:57:58.970901Z",
     "iopub.status.busy": "2024-07-29T20:57:58.970521Z",
     "iopub.status.idle": "2024-07-29T20:57:59.236548Z",
     "shell.execute_reply": "2024-07-29T20:57:59.235978Z",
     "shell.execute_reply.started": "2024-07-29T20:57:58.970885Z"
    }
   },
   "outputs": [
    {
     "data": {
      "image/png": "[encoded data removed]",
      "text/plain": [
       "<Figure size 800x300 with 2 Axes>"
      ]
     },
     "metadata": {},
     "output_type": "display_data"
    }
   ],
   "source": [
    "fig = plt.figure(figsize=(8, 3))\n",
    "plt.subplot(121)\n",
    "plt.scatter(gaia_results['semi_major_axis'], gaia_results['eccentricity'],\n",
    "            s=3, alpha=0.3)\n",
    "plt.xlabel('a [au]')\n",
    "plt.ylabel('e')\n",
    "plt.subplot(122)\n",
    "plt.scatter(gaia_results['semi_major_axis'], np.sin(gaia_results['inclination']),\n",
    "            s=3, alpha=0.3)\n",
    "plt.xlabel('a [au]')\n",
    "plt.ylabel(r'sin($i$)')\n",
    "plt.tight_layout()\n",
    "plt.show()"
   ]
  },
  {
   "cell_type": "markdown",
   "id": "37e5c09f-3333-49ad-b26e-acb3c25a6889",
   "metadata": {},
   "source": [
    "> Figure 3: Above, scatter plots of the orbital parameters for 1000 MBAs from Gaia. At left, eccentricity (e) versus the semi-major axis (a). At right, inclination versus semi-major axis.\n",
    "\n",
    "#### 4.1.2. Reformat the MPC designation column\n",
    "\n",
    "The `MPCORB` table in DP0.3 follows the standard format for MPC designation, which is the year, then a space,\n",
    "and then an identifier that is several characters, capital letters and numbers.\n",
    "However, the `denomination` in some Gaia tables (like `sso_orbit`, queried above) uses underscores instead of spaces and/or lower-case letters instead of capital letters.\n",
    "\n",
    "The `denomination` column needs to be converted to the standard MPC designation format (`mpc_desig1`)\n",
    "in order to cross-match (table join) the Gaia data with the DP0.3 data in Section 4.2.2.\n",
    "The `denomination` column also needs to be converted to use spaces instead of underscores,\n",
    "but keep the lower-case letters (`mpc_desig2`), in order to identify a moving object by\n",
    "name in the Gaia `sso_observation` table in Section 4.2.3."
   ]
  },
  {
   "cell_type": "code",
   "execution_count": 29,
   "id": "78eaedd6-a954-494c-bf1b-b7417a5311ab",
   "metadata": {
    "execution": {
     "iopub.execute_input": "2024-07-29T20:57:59.251038Z",
     "iopub.status.busy": "2024-07-29T20:57:59.250863Z",
     "iopub.status.idle": "2024-07-29T20:57:59.263189Z",
     "shell.execute_reply": "2024-07-29T20:57:59.262634Z",
     "shell.execute_reply.started": "2024-07-29T20:57:59.251026Z"
    }
   },
   "outputs": [
    {
     "data": {
      "text/html": [
       "<div>\n",
       "<style scoped>\n",
       "    .dataframe tbody tr th:only-of-type {\n",
       "        vertical-align: middle;\n",
       "    }\n",
       "\n",
       "    .dataframe tbody tr th {\n",
       "        vertical-align: top;\n",
       "    }\n",
       "\n",
       "    .dataframe thead th {\n",
       "        text-align: right;\n",
       "    }\n",
       "</style>\n",
       "<table border=\"1\" class=\"dataframe\">\n",
       "  <thead>\n",
       "    <tr style=\"text-align: right;\">\n",
       "      <th></th>\n",
       "      <th>denomination</th>\n",
       "      <th>inclination</th>\n",
       "      <th>eccentricity</th>\n",
       "      <th>semi_major_axis</th>\n",
       "      <th>mpc_desig1</th>\n",
       "      <th>mpc_desig2</th>\n",
       "    </tr>\n",
       "  </thead>\n",
       "  <tbody>\n",
       "    <tr>\n",
       "      <th>0</th>\n",
       "      <td>2000_so179</td>\n",
       "      <td>0.058380</td>\n",
       "      <td>0.120836</td>\n",
       "      <td>2.701355</td>\n",
       "      <td>2000 SO179</td>\n",
       "      <td>2000 so179</td>\n",
       "    </tr>\n",
       "    <tr>\n",
       "      <th>1</th>\n",
       "      <td>1999_gu8</td>\n",
       "      <td>0.113790</td>\n",
       "      <td>0.208611</td>\n",
       "      <td>2.203320</td>\n",
       "      <td>1999 GU8</td>\n",
       "      <td>1999 gu8</td>\n",
       "    </tr>\n",
       "    <tr>\n",
       "      <th>2</th>\n",
       "      <td>2000_ge143</td>\n",
       "      <td>0.185379</td>\n",
       "      <td>0.074487</td>\n",
       "      <td>3.091090</td>\n",
       "      <td>2000 GE143</td>\n",
       "      <td>2000 ge143</td>\n",
       "    </tr>\n",
       "    <tr>\n",
       "      <th>3</th>\n",
       "      <td>5082_t-3</td>\n",
       "      <td>0.097229</td>\n",
       "      <td>0.149435</td>\n",
       "      <td>2.313023</td>\n",
       "      <td>5082 T-3</td>\n",
       "      <td>5082 t-3</td>\n",
       "    </tr>\n",
       "    <tr>\n",
       "      <th>4</th>\n",
       "      <td>2000_su299</td>\n",
       "      <td>0.227229</td>\n",
       "      <td>0.075321</td>\n",
       "      <td>3.169976</td>\n",
       "      <td>2000 SU299</td>\n",
       "      <td>2000 su299</td>\n",
       "    </tr>\n",
       "    <tr>\n",
       "      <th>...</th>\n",
       "      <td>...</td>\n",
       "      <td>...</td>\n",
       "      <td>...</td>\n",
       "      <td>...</td>\n",
       "      <td>...</td>\n",
       "      <td>...</td>\n",
       "    </tr>\n",
       "    <tr>\n",
       "      <th>995</th>\n",
       "      <td>1999_jx102</td>\n",
       "      <td>0.107432</td>\n",
       "      <td>0.114787</td>\n",
       "      <td>3.137027</td>\n",
       "      <td>1999 JX102</td>\n",
       "      <td>1999 jx102</td>\n",
       "    </tr>\n",
       "    <tr>\n",
       "      <th>996</th>\n",
       "      <td>1993_fv82</td>\n",
       "      <td>0.049898</td>\n",
       "      <td>0.202413</td>\n",
       "      <td>2.189258</td>\n",
       "      <td>1993 FV82</td>\n",
       "      <td>1993 fv82</td>\n",
       "    </tr>\n",
       "    <tr>\n",
       "      <th>997</th>\n",
       "      <td>1999_jv24</td>\n",
       "      <td>0.267638</td>\n",
       "      <td>0.046316</td>\n",
       "      <td>2.570573</td>\n",
       "      <td>1999 JV24</td>\n",
       "      <td>1999 jv24</td>\n",
       "    </tr>\n",
       "    <tr>\n",
       "      <th>998</th>\n",
       "      <td>andrewchiang</td>\n",
       "      <td>0.147260</td>\n",
       "      <td>0.037843</td>\n",
       "      <td>3.062983</td>\n",
       "      <td>ANDREWCHIANG</td>\n",
       "      <td>andrewchiang</td>\n",
       "    </tr>\n",
       "    <tr>\n",
       "      <th>999</th>\n",
       "      <td>2001_qs256</td>\n",
       "      <td>0.079710</td>\n",
       "      <td>0.130844</td>\n",
       "      <td>2.671761</td>\n",
       "      <td>2001 QS256</td>\n",
       "      <td>2001 qs256</td>\n",
       "    </tr>\n",
       "  </tbody>\n",
       "</table>\n",
       "<p>1000 rows × 6 columns</p>\n",
       "</div>"
      ],
      "text/plain": [
       "     denomination  inclination  eccentricity  semi_major_axis    mpc_desig1  \\\n",
       "0      2000_so179     0.058380      0.120836         2.701355    2000 SO179   \n",
       "1        1999_gu8     0.113790      0.208611         2.203320      1999 GU8   \n",
       "2      2000_ge143     0.185379      0.074487         3.091090    2000 GE143   \n",
       "3        5082_t-3     0.097229      0.149435         2.313023      5082 T-3   \n",
       "4      2000_su299     0.227229      0.075321         3.169976    2000 SU299   \n",
       "..            ...          ...           ...              ...           ...   \n",
       "995    1999_jx102     0.107432      0.114787         3.137027    1999 JX102   \n",
       "996     1993_fv82     0.049898      0.202413         2.189258     1993 FV82   \n",
       "997     1999_jv24     0.267638      0.046316         2.570573     1999 JV24   \n",
       "998  andrewchiang     0.147260      0.037843         3.062983  ANDREWCHIANG   \n",
       "999    2001_qs256     0.079710      0.130844         2.671761    2001 QS256   \n",
       "\n",
       "       mpc_desig2  \n",
       "0      2000 so179  \n",
       "1        1999 gu8  \n",
       "2      2000 ge143  \n",
       "3        5082 t-3  \n",
       "4      2000 su299  \n",
       "..            ...  \n",
       "995    1999 jx102  \n",
       "996     1993 fv82  \n",
       "997     1999 jv24  \n",
       "998  andrewchiang  \n",
       "999    2001 qs256  \n",
       "\n",
       "[1000 rows x 6 columns]"
      ]
     },
     "execution_count": 29,
     "metadata": {},
     "output_type": "execute_result"
    }
   ],
   "source": [
    "gaia_results['mpc_desig1'] = gaia_results['denomination'].str.replace('_', ' ').str.upper()\n",
    "gaia_results['mpc_desig2'] = gaia_results['denomination'].str.replace('_', ' ')\n",
    "gaia_results"
   ]
  },
  {
   "cell_type": "markdown",
   "id": "74a10b29-be39-4de0-adae-eff499aab84c",
   "metadata": {},
   "source": [
    "Save the result as a CSV (comma separated values) file in the home directory to explore an option of using `pandas` table joins in Section 5."
   ]
  },
  {
   "cell_type": "code",
   "execution_count": 30,
   "id": "ce31ab29-ce68-429a-b391-1c23fc467e91",
   "metadata": {
    "execution": {
     "iopub.execute_input": "2024-07-29T20:57:59.997656Z",
     "iopub.status.busy": "2024-07-29T20:57:59.996900Z",
     "iopub.status.idle": "2024-07-29T20:58:00.014400Z",
     "shell.execute_reply": "2024-07-29T20:58:00.013817Z",
     "shell.execute_reply.started": "2024-07-29T20:57:59.997625Z"
    }
   },
   "outputs": [],
   "source": [
    "gaia_results.to_csv(my_home_dir+'gaia_mba.cat', index=False)"
   ]
  },
  {
   "cell_type": "markdown",
   "id": "e97f10b2-caf6-4532-9a38-345e4634bed9",
   "metadata": {},
   "source": [
    "Clean up. Only `gaia_results` is needed for the next section."
   ]
  },
  {
   "cell_type": "code",
   "execution_count": 31,
   "id": "6c28a0fa-5424-4edf-a119-4002e2ba3c41",
   "metadata": {
    "execution": {
     "iopub.execute_input": "2024-07-29T20:58:00.760526Z",
     "iopub.status.busy": "2024-07-29T20:58:00.759832Z",
     "iopub.status.idle": "2024-07-29T20:58:00.764354Z",
     "shell.execute_reply": "2024-07-29T20:58:00.763756Z",
     "shell.execute_reply.started": "2024-07-29T20:58:00.760498Z"
    }
   },
   "outputs": [],
   "source": [
    "del gaia_tap_url, gaia_tap\n",
    "del gaia_query, gaia_job"
   ]
  },
  {
   "cell_type": "markdown",
   "id": "af945265-bfe6-40c0-86dc-b5232a103af3",
   "metadata": {},
   "source": [
    "### 4.2. Gaia object cross-match to MPCORB and diaSources\n",
    "\n",
    "The scientific scenario used for this demonstration is that for the 1000 Gaia moving objects,\n",
    "the question is whether LSST detected them and, if so, what their $g$-band difference-image magnitudes\n",
    "are for each detection.\n",
    "\n",
    "#### 4.2.1. Reformat the table\n",
    "\n",
    "As `gaia_results` is a `pandas` table, but the TAP service does not accept uploads in a pandas `DataFrame` format,\n",
    "convert it back to an `astropy` table using the imported `Table` method.\n",
    "Follow the convention established in the sections above and name the table `ut3`."
   ]
  },
  {
   "cell_type": "code",
   "execution_count": 32,
   "id": "a3422b55-7f4d-44ea-b1d2-0cd78a2bb569",
   "metadata": {
    "execution": {
     "iopub.execute_input": "2024-07-29T20:58:12.064405Z",
     "iopub.status.busy": "2024-07-29T20:58:12.063650Z",
     "iopub.status.idle": "2024-07-29T20:58:12.070748Z",
     "shell.execute_reply": "2024-07-29T20:58:12.070211Z",
     "shell.execute_reply.started": "2024-07-29T20:58:12.064381Z"
    }
   },
   "outputs": [
    {
     "data": {
      "text/plain": [
       "dtype([('denomination', '<U15'), ('inclination', '<f8'), ('eccentricity', '<f8'), ('semi_major_axis', '<f8'), ('mpc_desig1', '<U15'), ('mpc_desig2', '<U15')])"
      ]
     },
     "execution_count": 32,
     "metadata": {},
     "output_type": "execute_result"
    }
   ],
   "source": [
    "ut3 = Table.from_pandas(gaia_results)\n",
    "ut3.dtype"
   ]
  },
  {
   "cell_type": "markdown",
   "id": "e6053f80-5dab-457a-b89b-8e5132c67bdf",
   "metadata": {},
   "source": [
    "Notice that the `denomination` and `mpc_desig` columns are of data type (`dtype`) Unicode (`U`).\n",
    "Uploading a table which includes Unicode columns will not work.\n",
    "Convert the Unicode columns (`dtype.kind='U'`) to bytestring (`dtype.kind='S'`) using the\n",
    "`convert_unicde_to_bytestring`."
   ]
  },
  {
   "cell_type": "code",
   "execution_count": 33,
   "id": "9411d0f0-434f-410d-838e-110a83dd6575",
   "metadata": {
    "execution": {
     "iopub.execute_input": "2024-07-29T20:58:12.726445Z",
     "iopub.status.busy": "2024-07-29T20:58:12.725807Z",
     "iopub.status.idle": "2024-07-29T20:58:12.730354Z",
     "shell.execute_reply": "2024-07-29T20:58:12.729832Z",
     "shell.execute_reply.started": "2024-07-29T20:58:12.726424Z"
    }
   },
   "outputs": [],
   "source": [
    "ut3.convert_unicode_to_bytestring()"
   ]
  },
  {
   "cell_type": "markdown",
   "id": "4f70651c-2138-45dd-9caa-ea5b4bfdcab8",
   "metadata": {},
   "source": [
    "Clean up."
   ]
  },
  {
   "cell_type": "code",
   "execution_count": 34,
   "id": "6692d544-a0a1-4590-9692-a3e8a142b88c",
   "metadata": {
    "execution": {
     "iopub.execute_input": "2024-07-29T20:58:13.082086Z",
     "iopub.status.busy": "2024-07-29T20:58:13.081496Z",
     "iopub.status.idle": "2024-07-29T20:58:13.084876Z",
     "shell.execute_reply": "2024-07-29T20:58:13.084248Z",
     "shell.execute_reply.started": "2024-07-29T20:58:13.082065Z"
    }
   },
   "outputs": [],
   "source": [
    "del gaia_results"
   ]
  },
  {
   "cell_type": "markdown",
   "id": "6732902a-008d-4e82-bfc4-fa737c6ad8e3",
   "metadata": {},
   "source": [
    "#### 4.2.2. Execute the query\n",
    "\n",
    "Prepare a query to join three tables: the user-specified Gaia table data, the DP0.3 `MPCORB` table, and the DP0.3 `diaSource` table.\n",
    "\n",
    "This query will return the magnitudes for all LSST detections in $g$-band difference images from the DP0.3 `diaSource` table\n",
    "for all objects in the user-uploaded Gaia table data (where a match exists).\n",
    "\n",
    "In the query, the first join between the Gaia user-uploaded table and the DP0.3 `MPCORB` table obtains the internal LSST `ssObjectId`\n",
    "for a given moving object by joining on MPC designation.\n",
    "The second join between the `MPCORB` table and the `diaSource` table obtains all $g$-band detections associated\n",
    "with the `ssObjectId`.\n",
    "This triple join is necessary because the `diaSource` table does not contain the MPC designation."
   ]
  },
  {
   "cell_type": "code",
   "execution_count": 35,
   "id": "bd1b8d0e-e598-4027-a88c-9dd237c9fd42",
   "metadata": {
    "execution": {
     "iopub.execute_input": "2024-07-29T20:58:13.515039Z",
     "iopub.status.busy": "2024-07-29T20:58:13.514455Z",
     "iopub.status.idle": "2024-07-29T20:58:13.517853Z",
     "shell.execute_reply": "2024-07-29T20:58:13.517292Z",
     "shell.execute_reply.started": "2024-07-29T20:58:13.515017Z"
    }
   },
   "outputs": [],
   "source": [
    "query = \"\"\"\n",
    "        SELECT mpc.mpcDesignation, mpc.ssObjectId,\n",
    "        ut3.denomination, ut3.mpc_desig2,\n",
    "        dias.midPointMjdTai, dias.mag, dias.band\n",
    "        FROM dp03_catalogs_10yr.MPCORB AS mpc\n",
    "        INNER JOIN TAP_UPLOAD.ut3 as ut3\n",
    "        ON ut3.mpc_desig1 = mpc.mpcDesignation\n",
    "        INNER JOIN dp03_catalogs_10yr.DiaSource as dias\n",
    "        ON dias.ssObjectId = mpc.ssObjectId\n",
    "        Where dias.band = 'g'\n",
    "        \"\"\""
   ]
  },
  {
   "cell_type": "markdown",
   "id": "ff3daf9a-ec3c-4c06-90ca-3f81f1c24cbb",
   "metadata": {},
   "source": [
    "Execute the query, then retrieve the results."
   ]
  },
  {
   "cell_type": "code",
   "execution_count": 36,
   "id": "5faa4914-5b54-42dd-ac00-5643378fc348",
   "metadata": {
    "execution": {
     "iopub.execute_input": "2024-07-29T20:58:14.523032Z",
     "iopub.status.busy": "2024-07-29T20:58:14.522716Z",
     "iopub.status.idle": "2024-07-29T20:59:23.303531Z",
     "shell.execute_reply": "2024-07-29T20:59:23.302847Z",
     "shell.execute_reply.started": "2024-07-29T20:58:14.523002Z"
    }
   },
   "outputs": [
    {
     "name": "stdout",
     "output_type": "stream",
     "text": [
      "Job phase is COMPLETED\n"
     ]
    }
   ],
   "source": [
    "job = rsp_tap.submit_job(query, uploads={\"ut3\": ut3})\n",
    "job.run()\n",
    "job.wait(phases=['COMPLETED', 'ERROR'])\n",
    "print('Job phase is', job.phase)"
   ]
  },
  {
   "cell_type": "code",
   "execution_count": 37,
   "id": "1f0d4655-0da1-4c23-bb1a-08b46c29afef",
   "metadata": {
    "execution": {
     "iopub.execute_input": "2024-07-29T20:59:23.319012Z",
     "iopub.status.busy": "2024-07-29T20:59:23.318825Z",
     "iopub.status.idle": "2024-07-29T20:59:23.873894Z",
     "shell.execute_reply": "2024-07-29T20:59:23.873237Z",
     "shell.execute_reply.started": "2024-07-29T20:59:23.318998Z"
    }
   },
   "outputs": [
    {
     "data": {
      "text/html": [
       "<div><i>Table length=26155</i>\n",
       "<table id=\"table137711280192592\" class=\"table-striped table-bordered table-condensed\">\n",
       "<thead><tr><th>mpcDesignation</th><th>ssObjectId</th><th>denomination</th><th>mpc_desig2</th><th>midPointMjdTai</th><th>mag</th><th>band</th></tr></thead>\n",
       "<thead><tr><th></th><th></th><th></th><th></th><th>d</th><th></th><th></th></tr></thead>\n",
       "<thead><tr><th>str8</th><th>int64</th><th>str15</th><th>str15</th><th>float64</th><th>float32</th><th>str1</th></tr></thead>\n",
       "<tr><td>1020 T-3</td><td>-942361610017462599</td><td>1020_t-3</td><td>1020 t-3</td><td>63562.16077</td><td>18.813</td><td>g</td></tr>\n",
       "<tr><td>1020 T-3</td><td>-942361610017462599</td><td>1020_t-3</td><td>1020 t-3</td><td>63096.99067</td><td>21.002</td><td>g</td></tr>\n",
       "<tr><td>1020 T-3</td><td>-942361610017462599</td><td>1020_t-3</td><td>1020 t-3</td><td>61470.26138</td><td>19.519</td><td>g</td></tr>\n",
       "<tr><td>1020 T-3</td><td>-942361610017462599</td><td>1020_t-3</td><td>1020 t-3</td><td>62919.34252</td><td>20.99</td><td>g</td></tr>\n",
       "<tr><td>1020 T-3</td><td>-942361610017462599</td><td>1020_t-3</td><td>1020 t-3</td><td>61993.09195</td><td>19.406</td><td>g</td></tr>\n",
       "<tr><td>1020 T-3</td><td>-942361610017462599</td><td>1020_t-3</td><td>1020 t-3</td><td>63512.28129</td><td>18.624</td><td>g</td></tr>\n",
       "<tr><td>1020 T-3</td><td>-942361610017462599</td><td>1020_t-3</td><td>1020 t-3</td><td>63559.12272</td><td>18.723</td><td>g</td></tr>\n",
       "<tr><td>1020 T-3</td><td>-942361610017462599</td><td>1020_t-3</td><td>1020 t-3</td><td>62447.30256</td><td>20.195</td><td>g</td></tr>\n",
       "<tr><td>1020 T-3</td><td>-942361610017462599</td><td>1020_t-3</td><td>1020 t-3</td><td>61467.2197</td><td>19.568</td><td>g</td></tr>\n",
       "<tr><td>...</td><td>...</td><td>...</td><td>...</td><td>...</td><td>...</td><td>...</td></tr>\n",
       "<tr><td>6640 P-L</td><td>-8247848826207698658</td><td>6640_p-l</td><td>6640 p-l</td><td>60871.06686</td><td>19.287</td><td>g</td></tr>\n",
       "<tr><td>6640 P-L</td><td>-8247848826207698658</td><td>6640_p-l</td><td>6640 p-l</td><td>62716.11787</td><td>20.357</td><td>g</td></tr>\n",
       "<tr><td>6640 P-L</td><td>-8247848826207698658</td><td>6640_p-l</td><td>6640 p-l</td><td>63115.09364</td><td>19.096</td><td>g</td></tr>\n",
       "<tr><td>6640 P-L</td><td>-8247848826207698658</td><td>6640_p-l</td><td>6640 p-l</td><td>60852.31446</td><td>19.685</td><td>g</td></tr>\n",
       "<tr><td>6640 P-L</td><td>-8247848826207698658</td><td>6640_p-l</td><td>6640 p-l</td><td>60912.03036</td><td>19.94</td><td>g</td></tr>\n",
       "<tr><td>6640 P-L</td><td>-8247848826207698658</td><td>6640_p-l</td><td>6640 p-l</td><td>61797.19675</td><td>18.413</td><td>g</td></tr>\n",
       "<tr><td>6640 P-L</td><td>-8247848826207698658</td><td>6640_p-l</td><td>6640 p-l</td><td>63088.26039</td><td>19.082</td><td>g</td></tr>\n",
       "<tr><td>6640 P-L</td><td>-8247848826207698658</td><td>6640_p-l</td><td>6640 p-l</td><td>62217.27509</td><td>19.772</td><td>g</td></tr>\n",
       "<tr><td>6640 P-L</td><td>-8247848826207698658</td><td>6640_p-l</td><td>6640 p-l</td><td>60874.27013</td><td>19.289</td><td>g</td></tr>\n",
       "<tr><td>6640 P-L</td><td>-8247848826207698658</td><td>6640_p-l</td><td>6640 p-l</td><td>60857.35035</td><td>19.573</td><td>g</td></tr>\n",
       "</table></div>"
      ],
      "text/plain": [
       "<Table length=26155>\n",
       "mpcDesignation      ssObjectId      denomination ... midPointMjdTai   mag   band\n",
       "                                                 ...       d                    \n",
       "     str8             int64            str15     ...    float64     float32 str1\n",
       "-------------- -------------------- ------------ ... -------------- ------- ----\n",
       "      1020 T-3  -942361610017462599     1020_t-3 ...    63562.16077  18.813    g\n",
       "      1020 T-3  -942361610017462599     1020_t-3 ...    63096.99067  21.002    g\n",
       "      1020 T-3  -942361610017462599     1020_t-3 ...    61470.26138  19.519    g\n",
       "      1020 T-3  -942361610017462599     1020_t-3 ...    62919.34252   20.99    g\n",
       "      1020 T-3  -942361610017462599     1020_t-3 ...    61993.09195  19.406    g\n",
       "      1020 T-3  -942361610017462599     1020_t-3 ...    63512.28129  18.624    g\n",
       "      1020 T-3  -942361610017462599     1020_t-3 ...    63559.12272  18.723    g\n",
       "      1020 T-3  -942361610017462599     1020_t-3 ...    62447.30256  20.195    g\n",
       "      1020 T-3  -942361610017462599     1020_t-3 ...     61467.2197  19.568    g\n",
       "           ...                  ...          ... ...            ...     ...  ...\n",
       "      6640 P-L -8247848826207698658     6640_p-l ...    60871.06686  19.287    g\n",
       "      6640 P-L -8247848826207698658     6640_p-l ...    62716.11787  20.357    g\n",
       "      6640 P-L -8247848826207698658     6640_p-l ...    63115.09364  19.096    g\n",
       "      6640 P-L -8247848826207698658     6640_p-l ...    60852.31446  19.685    g\n",
       "      6640 P-L -8247848826207698658     6640_p-l ...    60912.03036   19.94    g\n",
       "      6640 P-L -8247848826207698658     6640_p-l ...    61797.19675  18.413    g\n",
       "      6640 P-L -8247848826207698658     6640_p-l ...    63088.26039  19.082    g\n",
       "      6640 P-L -8247848826207698658     6640_p-l ...    62217.27509  19.772    g\n",
       "      6640 P-L -8247848826207698658     6640_p-l ...    60874.27013  19.289    g\n",
       "      6640 P-L -8247848826207698658     6640_p-l ...    60857.35035  19.573    g"
      ]
     },
     "execution_count": 37,
     "metadata": {},
     "output_type": "execute_result"
    }
   ],
   "source": [
    "results = job.fetch_result().to_table()\n",
    "results"
   ]
  },
  {
   "cell_type": "markdown",
   "id": "9e642b90-93a9-42bb-8fc1-e88f007ca7a0",
   "metadata": {},
   "source": [
    "Print the number of objects (out of the 1000 from Gaia) that were detected by LSST,\n",
    "and also the minimum, maximum, and mean number of LSST detections over the ten-year survey."
   ]
  },
  {
   "cell_type": "code",
   "execution_count": 38,
   "id": "2658ae97-fd23-4700-a384-df81d3b86d73",
   "metadata": {
    "execution": {
     "iopub.execute_input": "2024-07-29T20:59:23.875404Z",
     "iopub.status.busy": "2024-07-29T20:59:23.875124Z",
     "iopub.status.idle": "2024-07-29T20:59:23.881589Z",
     "shell.execute_reply": "2024-07-29T20:59:23.880964Z",
     "shell.execute_reply.started": "2024-07-29T20:59:23.875387Z"
    }
   },
   "outputs": [
    {
     "name": "stdout",
     "output_type": "stream",
     "text": [
      "Number of LSST-detected objects:  769\n",
      "Minimum, maximum, and mean number of detections per object:  4 215 34\n"
     ]
    }
   ],
   "source": [
    "uniqueIds, counts = np.unique(results['ssObjectId'], return_counts=True)\n",
    "print('Number of LSST-detected objects: ', len(uniqueIds))\n",
    "print('Minimum, maximum, and mean number of detections per object: ',\n",
    "      np.min(counts), np.max(counts), int(np.mean(counts)))"
   ]
  },
  {
   "cell_type": "markdown",
   "id": "e451849b-224f-4d36-9a42-9d5d340961a3",
   "metadata": {},
   "source": [
    "Clean up."
   ]
  },
  {
   "cell_type": "code",
   "execution_count": 39,
   "id": "61961c95-1cb7-4b7a-9d74-69d9f08e4e7e",
   "metadata": {
    "execution": {
     "iopub.execute_input": "2024-07-29T20:59:23.882545Z",
     "iopub.status.busy": "2024-07-29T20:59:23.882354Z",
     "iopub.status.idle": "2024-07-29T20:59:23.893623Z",
     "shell.execute_reply": "2024-07-29T20:59:23.893016Z",
     "shell.execute_reply.started": "2024-07-29T20:59:23.882530Z"
    }
   },
   "outputs": [],
   "source": [
    "del ut3, query, job\n",
    "del uniqueIds, counts"
   ]
  },
  {
   "cell_type": "markdown",
   "id": "ecc33d2d-b7fc-46a0-86f8-4efa45f0f936",
   "metadata": {},
   "source": [
    "#### 4.2.3. Plot the Gaia+LSST light curve for one MBA\n",
    "\n",
    "Select one random MBA and save its data entry as a small table called `random_mba`."
   ]
  },
  {
   "cell_type": "code",
   "execution_count": 40,
   "id": "9fb292f4-55aa-417f-a872-e6e3829277be",
   "metadata": {
    "execution": {
     "iopub.execute_input": "2024-07-29T20:59:23.894574Z",
     "iopub.status.busy": "2024-07-29T20:59:23.894335Z",
     "iopub.status.idle": "2024-07-29T20:59:23.909229Z",
     "shell.execute_reply": "2024-07-29T20:59:23.908629Z",
     "shell.execute_reply.started": "2024-07-29T20:59:23.894558Z"
    }
   },
   "outputs": [
    {
     "name": "stdout",
     "output_type": "stream",
     "text": [
      "ssObjectId:  -328076093508251088\n",
      "MPC designation:  2001 au42\n"
     ]
    }
   ],
   "source": [
    "uniqueObj = np.random.choice(results['ssObjectId'], 1)[0]\n",
    "print('ssObjectId: ', uniqueObj)\n",
    "random_mba = results[results['ssObjectId'] == uniqueObj]\n",
    "print('MPC designation: ', random_mba['mpc_desig2'][0])"
   ]
  },
  {
   "cell_type": "markdown",
   "id": "9b45e4f7-acf5-463c-8120-58955f0e2111",
   "metadata": {},
   "source": [
    "Retrieve Gaia photometry for the selected MBA. \n",
    "\n",
    "Occasionally, the following error message may occur: \n",
    "```DALServiceError: 401 Client Error: 401 for url: https://gea.esac.esa.int/tap-server/tap/sync```.\n",
    "This usually represents an intermittent service error.\n",
    "To avoid it, rerun the following cell."
   ]
  },
  {
   "cell_type": "code",
   "execution_count": 41,
   "id": "75ac700b-ee9c-4523-803c-91df0442161d",
   "metadata": {
    "execution": {
     "iopub.execute_input": "2024-07-29T20:59:23.910341Z",
     "iopub.status.busy": "2024-07-29T20:59:23.910152Z",
     "iopub.status.idle": "2024-07-29T20:59:23.920681Z",
     "shell.execute_reply": "2024-07-29T20:59:23.920066Z",
     "shell.execute_reply.started": "2024-07-29T20:59:23.910326Z"
    }
   },
   "outputs": [],
   "source": [
    "gaia_tap_url = 'https://gea.esac.esa.int/tap-server/tap'\n",
    "gaia_tap = pyvo.dal.TAPService(gaia_tap_url)\n",
    "assert gaia_tap is not None\n",
    "assert gaia_tap.baseurl == gaia_tap_url"
   ]
  },
  {
   "cell_type": "markdown",
   "id": "26b889a3-c6a5-410f-abb0-3c325d28d769",
   "metadata": {},
   "source": [
    "Define and execute a query to retrieve the dates (`epoch_utc`) and $g$-band magnitudes (`g_mag`)\n",
    "of Gaia observations for the randomly selected MBA by only returning rows\n",
    "where the `denomination` is equal to `mpc_desig2`, which is the MPC\n",
    "Designation reformatted to the convention of the Gaia `sso_observation` table\n",
    "(see Section 4.1.2)."
   ]
  },
  {
   "cell_type": "code",
   "execution_count": 42,
   "id": "5872a57e-c18e-4cb6-8e38-37703ca58d65",
   "metadata": {
    "execution": {
     "iopub.execute_input": "2024-07-29T20:59:23.921607Z",
     "iopub.status.busy": "2024-07-29T20:59:23.921377Z",
     "iopub.status.idle": "2024-07-29T20:59:33.579646Z",
     "shell.execute_reply": "2024-07-29T20:59:33.578896Z",
     "shell.execute_reply.started": "2024-07-29T20:59:23.921592Z"
    }
   },
   "outputs": [
    {
     "name": "stdout",
     "output_type": "stream",
     "text": [
      "Job phase is COMPLETED\n"
     ]
    }
   ],
   "source": [
    "gaia_query = \"\"\"\n",
    "             SELECT epoch_utc, g_mag\n",
    "             FROM gaiadr3.sso_observation\n",
    "             WHERE denomination = '{}'\n",
    "             \"\"\".format(random_mba['mpc_desig2'][0])\n",
    "gaia_job = gaia_tap.submit_job(gaia_query)\n",
    "gaia_job.run()\n",
    "gaia_job.wait(phases=['COMPLETED', 'ERROR'])\n",
    "print('Job phase is', gaia_job.phase)"
   ]
  },
  {
   "cell_type": "markdown",
   "id": "c9bfa2c7-b930-4a32-af20-4495b4cd44a9",
   "metadata": {},
   "source": [
    "Retrieve the results."
   ]
  },
  {
   "cell_type": "code",
   "execution_count": 43,
   "id": "0cfe4c6a-5c0b-43b4-83ed-76d86450977d",
   "metadata": {
    "execution": {
     "iopub.execute_input": "2024-07-29T20:59:33.580956Z",
     "iopub.status.busy": "2024-07-29T20:59:33.580753Z",
     "iopub.status.idle": "2024-07-29T20:59:33.700264Z",
     "shell.execute_reply": "2024-07-29T20:59:33.699506Z",
     "shell.execute_reply.started": "2024-07-29T20:59:33.580942Z"
    }
   },
   "outputs": [],
   "source": [
    "gaia_results = gaia_job.fetch_result().to_table()"
   ]
  },
  {
   "cell_type": "markdown",
   "id": "9bdafd75-62d8-42c0-af2d-41b7e15909c2",
   "metadata": {},
   "source": [
    "Convert Universal Time Coordinated (UTC) observation date (`epoch_utc`) to a Modified Julian Date (MJD) observation date.\n",
    "\n",
    "From the [Gaia documentation](https://gea.esac.esa.int/archive/documentation/GDR2/Gaia_archive/chap_datamodel/sec_dm_sso_tables/ssec_dm_sso_observation.html), `epoch_utc` is the Gaiacentric epoch UTC, while the LSST records observing time in MJD. The conversion is MJD = UTC + 55197.5 (day)."
   ]
  },
  {
   "cell_type": "code",
   "execution_count": 44,
   "id": "a9cbe7ba-d81c-4d0c-98a1-4496ed1009d4",
   "metadata": {
    "execution": {
     "iopub.execute_input": "2024-07-29T20:59:33.702510Z",
     "iopub.status.busy": "2024-07-29T20:59:33.702212Z",
     "iopub.status.idle": "2024-07-29T20:59:33.706208Z",
     "shell.execute_reply": "2024-07-29T20:59:33.705577Z",
     "shell.execute_reply.started": "2024-07-29T20:59:33.702492Z"
    }
   },
   "outputs": [],
   "source": [
    "gaia_results['epoch_mjd'] = gaia_results['epoch_utc'] + 55197.5"
   ]
  },
  {
   "cell_type": "markdown",
   "id": "d80558ce-b77b-4840-9423-9243bcc251c0",
   "metadata": {},
   "source": [
    "Plot the $g$-band light curve for the selected asteroid."
   ]
  },
  {
   "cell_type": "code",
   "execution_count": 45,
   "id": "794fc254-9063-49da-9cde-580bce4ca65b",
   "metadata": {
    "execution": {
     "iopub.execute_input": "2024-07-29T20:59:33.707030Z",
     "iopub.status.busy": "2024-07-29T20:59:33.706846Z",
     "iopub.status.idle": "2024-07-29T20:59:33.877119Z",
     "shell.execute_reply": "2024-07-29T20:59:33.876498Z",
     "shell.execute_reply.started": "2024-07-29T20:59:33.707016Z"
    }
   },
   "outputs": [
    {
     "data": {
      "image/png": "[encoded data removed]",
      "text/plain": [
       "<Figure size 600x400 with 1 Axes>"
      ]
     },
     "metadata": {},
     "output_type": "display_data"
    }
   ],
   "source": [
    "fig = plt.figure(figsize=(6, 4))\n",
    "plt.plot(gaia_results['epoch_mjd'], gaia_results['g_mag'],\n",
    "         's', alpha=0.4, mew=0, color='dodgerblue', label='Gaia G')\n",
    "plt.plot(random_mba['midPointMjdTai'], random_mba['mag'],\n",
    "         'o', alpha=0.4, mew=0, color='darkgreen', label='LSST g')\n",
    "ymin = min(gaia_results['g_mag'].min(), random_mba['mag'].min())\n",
    "ymax = max(gaia_results['g_mag'].max(), random_mba['mag'].max())\n",
    "plt.ylim(ymax+0.2, ymin-0.2)\n",
    "plt.legend(loc='upper left')\n",
    "plt.xlabel('MJD [days]')\n",
    "plt.ylabel('magnitude')\n",
    "plt.title('MPC designation:' + random_mba['mpcDesignation'][0])\n",
    "plt.show()"
   ]
  },
  {
   "cell_type": "markdown",
   "id": "16471be3-2837-4365-910f-ca155beca412",
   "metadata": {},
   "source": [
    "> Figure 4: Above, the Gaia G-band detections in cyan squares and the simulated DP0.3 LSST $g$-band magnitudes in green circles as a function of time. The variation in apparent magnitude over time is primarily due to the object's changing distance from Earth.\n",
    "\n",
    "Clean up."
   ]
  },
  {
   "cell_type": "code",
   "execution_count": 46,
   "id": "abe33ff4-283e-4aff-8ab9-b989cf9fa962",
   "metadata": {
    "execution": {
     "iopub.execute_input": "2024-07-29T20:59:33.878404Z",
     "iopub.status.busy": "2024-07-29T20:59:33.878177Z",
     "iopub.status.idle": "2024-07-29T20:59:33.881412Z",
     "shell.execute_reply": "2024-07-29T20:59:33.880811Z",
     "shell.execute_reply.started": "2024-07-29T20:59:33.878387Z"
    }
   },
   "outputs": [],
   "source": [
    "del results, uniqueObj, random_mba\n",
    "del gaia_tap_url, gaia_tap, gaia_query, gaia_job, gaia_results"
   ]
  },
  {
   "cell_type": "markdown",
   "id": "d14acce7-08ed-4a2b-ab68-47d88f66356e",
   "metadata": {
    "execution": {
     "iopub.execute_input": "2024-07-09T22:18:01.759735Z",
     "iopub.status.busy": "2024-07-09T22:18:01.759090Z",
     "iopub.status.idle": "2024-07-09T22:18:01.764494Z",
     "shell.execute_reply": "2024-07-09T22:18:01.763838Z",
     "shell.execute_reply.started": "2024-07-09T22:18:01.759708Z"
    }
   },
   "source": [
    "## 5. Combine a user-created table and the LSST query result table using `Pandas`\n",
    "\n",
    "The scientific scenario used for this demonstration is for a user-created `pandas` table\n",
    "of moving objects (the saved 1,000 Gaia MBA data is recycled as an example), whether LSST detected\n",
    "them during a specific night, and if so how the LSST data look like.\n",
    "The LSST query result will be also saved as a `pandas` table, and the join with the user-created\n",
    "table will be done using the `merge` function provided by `pandas`. \n",
    "\n",
    "### 5.1. Read the Gaia MBA table as a pandas `DataFrame`\n",
    "\n",
    "Follow the convention established in the sections above and name the table ut4."
   ]
  },
  {
   "cell_type": "code",
   "execution_count": 47,
   "id": "3f9b4fea-1844-4725-b9aa-596e4cfdfa7a",
   "metadata": {
    "execution": {
     "iopub.execute_input": "2024-07-29T20:59:33.882397Z",
     "iopub.status.busy": "2024-07-29T20:59:33.882160Z",
     "iopub.status.idle": "2024-07-29T20:59:33.906103Z",
     "shell.execute_reply": "2024-07-29T20:59:33.905477Z",
     "shell.execute_reply.started": "2024-07-29T20:59:33.882383Z"
    }
   },
   "outputs": [
    {
     "data": {
      "text/html": [
       "<div>\n",
       "<style scoped>\n",
       "    .dataframe tbody tr th:only-of-type {\n",
       "        vertical-align: middle;\n",
       "    }\n",
       "\n",
       "    .dataframe tbody tr th {\n",
       "        vertical-align: top;\n",
       "    }\n",
       "\n",
       "    .dataframe thead th {\n",
       "        text-align: right;\n",
       "    }\n",
       "</style>\n",
       "<table border=\"1\" class=\"dataframe\">\n",
       "  <thead>\n",
       "    <tr style=\"text-align: right;\">\n",
       "      <th></th>\n",
       "      <th>denomination</th>\n",
       "      <th>inclination</th>\n",
       "      <th>eccentricity</th>\n",
       "      <th>semi_major_axis</th>\n",
       "      <th>mpc_desig1</th>\n",
       "      <th>mpc_desig2</th>\n",
       "    </tr>\n",
       "  </thead>\n",
       "  <tbody>\n",
       "    <tr>\n",
       "      <th>0</th>\n",
       "      <td>2000_so179</td>\n",
       "      <td>0.058380</td>\n",
       "      <td>0.120836</td>\n",
       "      <td>2.701355</td>\n",
       "      <td>2000 SO179</td>\n",
       "      <td>2000 so179</td>\n",
       "    </tr>\n",
       "    <tr>\n",
       "      <th>1</th>\n",
       "      <td>1999_gu8</td>\n",
       "      <td>0.113790</td>\n",
       "      <td>0.208611</td>\n",
       "      <td>2.203320</td>\n",
       "      <td>1999 GU8</td>\n",
       "      <td>1999 gu8</td>\n",
       "    </tr>\n",
       "    <tr>\n",
       "      <th>2</th>\n",
       "      <td>2000_ge143</td>\n",
       "      <td>0.185379</td>\n",
       "      <td>0.074487</td>\n",
       "      <td>3.091090</td>\n",
       "      <td>2000 GE143</td>\n",
       "      <td>2000 ge143</td>\n",
       "    </tr>\n",
       "    <tr>\n",
       "      <th>3</th>\n",
       "      <td>5082_t-3</td>\n",
       "      <td>0.097229</td>\n",
       "      <td>0.149435</td>\n",
       "      <td>2.313023</td>\n",
       "      <td>5082 T-3</td>\n",
       "      <td>5082 t-3</td>\n",
       "    </tr>\n",
       "    <tr>\n",
       "      <th>4</th>\n",
       "      <td>2000_su299</td>\n",
       "      <td>0.227229</td>\n",
       "      <td>0.075321</td>\n",
       "      <td>3.169976</td>\n",
       "      <td>2000 SU299</td>\n",
       "      <td>2000 su299</td>\n",
       "    </tr>\n",
       "    <tr>\n",
       "      <th>...</th>\n",
       "      <td>...</td>\n",
       "      <td>...</td>\n",
       "      <td>...</td>\n",
       "      <td>...</td>\n",
       "      <td>...</td>\n",
       "      <td>...</td>\n",
       "    </tr>\n",
       "    <tr>\n",
       "      <th>995</th>\n",
       "      <td>1999_jx102</td>\n",
       "      <td>0.107432</td>\n",
       "      <td>0.114787</td>\n",
       "      <td>3.137027</td>\n",
       "      <td>1999 JX102</td>\n",
       "      <td>1999 jx102</td>\n",
       "    </tr>\n",
       "    <tr>\n",
       "      <th>996</th>\n",
       "      <td>1993_fv82</td>\n",
       "      <td>0.049898</td>\n",
       "      <td>0.202413</td>\n",
       "      <td>2.189258</td>\n",
       "      <td>1993 FV82</td>\n",
       "      <td>1993 fv82</td>\n",
       "    </tr>\n",
       "    <tr>\n",
       "      <th>997</th>\n",
       "      <td>1999_jv24</td>\n",
       "      <td>0.267638</td>\n",
       "      <td>0.046316</td>\n",
       "      <td>2.570573</td>\n",
       "      <td>1999 JV24</td>\n",
       "      <td>1999 jv24</td>\n",
       "    </tr>\n",
       "    <tr>\n",
       "      <th>998</th>\n",
       "      <td>andrewchiang</td>\n",
       "      <td>0.147260</td>\n",
       "      <td>0.037843</td>\n",
       "      <td>3.062983</td>\n",
       "      <td>ANDREWCHIANG</td>\n",
       "      <td>andrewchiang</td>\n",
       "    </tr>\n",
       "    <tr>\n",
       "      <th>999</th>\n",
       "      <td>2001_qs256</td>\n",
       "      <td>0.079710</td>\n",
       "      <td>0.130844</td>\n",
       "      <td>2.671761</td>\n",
       "      <td>2001 QS256</td>\n",
       "      <td>2001 qs256</td>\n",
       "    </tr>\n",
       "  </tbody>\n",
       "</table>\n",
       "<p>1000 rows × 6 columns</p>\n",
       "</div>"
      ],
      "text/plain": [
       "     denomination  inclination  eccentricity  semi_major_axis    mpc_desig1  \\\n",
       "0      2000_so179     0.058380      0.120836         2.701355    2000 SO179   \n",
       "1        1999_gu8     0.113790      0.208611         2.203320      1999 GU8   \n",
       "2      2000_ge143     0.185379      0.074487         3.091090    2000 GE143   \n",
       "3        5082_t-3     0.097229      0.149435         2.313023      5082 T-3   \n",
       "4      2000_su299     0.227229      0.075321         3.169976    2000 SU299   \n",
       "..            ...          ...           ...              ...           ...   \n",
       "995    1999_jx102     0.107432      0.114787         3.137027    1999 JX102   \n",
       "996     1993_fv82     0.049898      0.202413         2.189258     1993 FV82   \n",
       "997     1999_jv24     0.267638      0.046316         2.570573     1999 JV24   \n",
       "998  andrewchiang     0.147260      0.037843         3.062983  ANDREWCHIANG   \n",
       "999    2001_qs256     0.079710      0.130844         2.671761    2001 QS256   \n",
       "\n",
       "       mpc_desig2  \n",
       "0      2000 so179  \n",
       "1        1999 gu8  \n",
       "2      2000 ge143  \n",
       "3        5082 t-3  \n",
       "4      2000 su299  \n",
       "..            ...  \n",
       "995    1999 jx102  \n",
       "996     1993 fv82  \n",
       "997     1999 jv24  \n",
       "998  andrewchiang  \n",
       "999    2001 qs256  \n",
       "\n",
       "[1000 rows x 6 columns]"
      ]
     },
     "execution_count": 47,
     "metadata": {},
     "output_type": "execute_result"
    }
   ],
   "source": [
    "ut4 = pd.read_csv(my_home_dir+'gaia_mba.cat')\n",
    "ut4"
   ]
  },
  {
   "cell_type": "markdown",
   "id": "abbe9138-473a-4c8e-9d8a-ddf9a42c5945",
   "metadata": {},
   "source": [
    "### 5.2 Retrieve the DP0.3 data and save the result as a `pandas` table\n",
    "\n",
    "As opposed to Section 4.2.2, the query in this section joins only two tables:\n",
    "the DP0.3 `MPCORB` table and the DP0.3 `diaSource` table.\n",
    "\n",
    "This query will return all LSST detections from the DP0.3 `diaSource` table\n",
    "for MBAs (2.0 < `a` < 3.25 au and `q` > 1.666 au) observed at 62001 < `midPointMjdTai` < 62002."
   ]
  },
  {
   "cell_type": "code",
   "execution_count": 97,
   "id": "c77defa5-b937-4eed-9c31-2bc7d3bf899e",
   "metadata": {
    "execution": {
     "iopub.execute_input": "2024-07-29T22:19:11.577572Z",
     "iopub.status.busy": "2024-07-29T22:19:11.576873Z",
     "iopub.status.idle": "2024-07-29T22:19:11.580391Z",
     "shell.execute_reply": "2024-07-29T22:19:11.579854Z",
     "shell.execute_reply.started": "2024-07-29T22:19:11.577551Z"
    }
   },
   "outputs": [],
   "source": [
    "query = \"\"\"\n",
    "        SELECT mpc.mpcDesignation, mpc.ssObjectId,\n",
    "        mpc.e, mpc.incl, mpc.q/(1-mpc.e) as a,\n",
    "        dias.midPointMjdTai, dias.mag, dias.band\n",
    "        FROM dp03_catalogs_10yr.MPCORB AS mpc\n",
    "        INNER JOIN dp03_catalogs_10yr.DiaSource as dias\n",
    "        ON dias.ssObjectId = mpc.ssObjectId\n",
    "        Where midPointMjdTai > 62001 AND midPointMjdTai < 62002\n",
    "        AND mpc.q/(1-mpc.e) > 2.0 AND mpc.q/(1-mpc.e) < 3.25\n",
    "        AND mpc.q > 1.666\n",
    "        \"\"\""
   ]
  },
  {
   "cell_type": "code",
   "execution_count": 100,
   "id": "adaf666f-2a1d-4569-aa67-12104b8e6138",
   "metadata": {
    "execution": {
     "iopub.execute_input": "2024-07-29T22:20:58.568517Z",
     "iopub.status.busy": "2024-07-29T22:20:58.567808Z",
     "iopub.status.idle": "2024-07-29T22:21:37.802981Z",
     "shell.execute_reply": "2024-07-29T22:21:37.802377Z",
     "shell.execute_reply.started": "2024-07-29T22:20:58.568495Z"
    }
   },
   "outputs": [
    {
     "name": "stdout",
     "output_type": "stream",
     "text": [
      "Job phase is COMPLETED\n"
     ]
    }
   ],
   "source": [
    "job = rsp_tap.submit_job(query)\n",
    "job.run()\n",
    "job.wait(phases=['COMPLETED', 'ERROR'])\n",
    "print('Job phase is', job.phase)"
   ]
  },
  {
   "cell_type": "code",
   "execution_count": 101,
   "id": "758c216e-3013-4597-b739-69e1e2a4c561",
   "metadata": {
    "execution": {
     "iopub.execute_input": "2024-07-29T22:21:37.822673Z",
     "iopub.status.busy": "2024-07-29T22:21:37.822488Z",
     "iopub.status.idle": "2024-07-29T22:21:47.114113Z",
     "shell.execute_reply": "2024-07-29T22:21:47.113597Z",
     "shell.execute_reply.started": "2024-07-29T22:21:37.822659Z"
    }
   },
   "outputs": [
    {
     "data": {
      "text/html": [
       "<div>\n",
       "<style scoped>\n",
       "    .dataframe tbody tr th:only-of-type {\n",
       "        vertical-align: middle;\n",
       "    }\n",
       "\n",
       "    .dataframe tbody tr th {\n",
       "        vertical-align: top;\n",
       "    }\n",
       "\n",
       "    .dataframe thead th {\n",
       "        text-align: right;\n",
       "    }\n",
       "</style>\n",
       "<table border=\"1\" class=\"dataframe\">\n",
       "  <thead>\n",
       "    <tr style=\"text-align: right;\">\n",
       "      <th></th>\n",
       "      <th>mpcDesignation</th>\n",
       "      <th>ssObjectId</th>\n",
       "      <th>e</th>\n",
       "      <th>incl</th>\n",
       "      <th>a</th>\n",
       "      <th>midPointMjdTai</th>\n",
       "      <th>mag</th>\n",
       "      <th>band</th>\n",
       "    </tr>\n",
       "  </thead>\n",
       "  <tbody>\n",
       "    <tr>\n",
       "      <th>0</th>\n",
       "      <td>2007 CO3</td>\n",
       "      <td>6102997768245</td>\n",
       "      <td>0.129147</td>\n",
       "      <td>3.82716</td>\n",
       "      <td>2.460951</td>\n",
       "      <td>62001.26994</td>\n",
       "      <td>23.445000</td>\n",
       "      <td>g</td>\n",
       "    </tr>\n",
       "    <tr>\n",
       "      <th>1</th>\n",
       "      <td>2014 DY2</td>\n",
       "      <td>47995361189908</td>\n",
       "      <td>0.288534</td>\n",
       "      <td>30.28869</td>\n",
       "      <td>2.577251</td>\n",
       "      <td>62001.12358</td>\n",
       "      <td>22.701000</td>\n",
       "      <td>r</td>\n",
       "    </tr>\n",
       "    <tr>\n",
       "      <th>2</th>\n",
       "      <td>2008 RW1</td>\n",
       "      <td>51566589826717</td>\n",
       "      <td>0.075504</td>\n",
       "      <td>8.89582</td>\n",
       "      <td>2.936360</td>\n",
       "      <td>62001.30411</td>\n",
       "      <td>21.393999</td>\n",
       "      <td>r</td>\n",
       "    </tr>\n",
       "    <tr>\n",
       "      <th>3</th>\n",
       "      <td>2008 RW1</td>\n",
       "      <td>51566589826717</td>\n",
       "      <td>0.075504</td>\n",
       "      <td>8.89582</td>\n",
       "      <td>2.936360</td>\n",
       "      <td>62001.27631</td>\n",
       "      <td>21.379999</td>\n",
       "      <td>r</td>\n",
       "    </tr>\n",
       "    <tr>\n",
       "      <th>4</th>\n",
       "      <td>2008 RW1</td>\n",
       "      <td>51566589826717</td>\n",
       "      <td>0.075504</td>\n",
       "      <td>8.89582</td>\n",
       "      <td>2.936360</td>\n",
       "      <td>62001.25500</td>\n",
       "      <td>22.037001</td>\n",
       "      <td>g</td>\n",
       "    </tr>\n",
       "    <tr>\n",
       "      <th>...</th>\n",
       "      <td>...</td>\n",
       "      <td>...</td>\n",
       "      <td>...</td>\n",
       "      <td>...</td>\n",
       "      <td>...</td>\n",
       "      <td>...</td>\n",
       "      <td>...</td>\n",
       "      <td>...</td>\n",
       "    </tr>\n",
       "    <tr>\n",
       "      <th>447674</th>\n",
       "      <td>S100jZN6</td>\n",
       "      <td>-325612888168026</td>\n",
       "      <td>0.068819</td>\n",
       "      <td>9.43365</td>\n",
       "      <td>3.161782</td>\n",
       "      <td>62001.22832</td>\n",
       "      <td>22.962000</td>\n",
       "      <td>r</td>\n",
       "    </tr>\n",
       "    <tr>\n",
       "      <th>447675</th>\n",
       "      <td>S1005kB6</td>\n",
       "      <td>-174501892927906</td>\n",
       "      <td>0.077079</td>\n",
       "      <td>21.92935</td>\n",
       "      <td>3.210731</td>\n",
       "      <td>62001.13702</td>\n",
       "      <td>20.893999</td>\n",
       "      <td>r</td>\n",
       "    </tr>\n",
       "    <tr>\n",
       "      <th>447676</th>\n",
       "      <td>S1005kB6</td>\n",
       "      <td>-174501892927906</td>\n",
       "      <td>0.077079</td>\n",
       "      <td>21.92935</td>\n",
       "      <td>3.210731</td>\n",
       "      <td>62001.14200</td>\n",
       "      <td>20.889000</td>\n",
       "      <td>r</td>\n",
       "    </tr>\n",
       "    <tr>\n",
       "      <th>447677</th>\n",
       "      <td>S1007L1v</td>\n",
       "      <td>-72352755829421</td>\n",
       "      <td>0.112628</td>\n",
       "      <td>14.93522</td>\n",
       "      <td>2.666496</td>\n",
       "      <td>62001.19220</td>\n",
       "      <td>22.156000</td>\n",
       "      <td>r</td>\n",
       "    </tr>\n",
       "    <tr>\n",
       "      <th>447678</th>\n",
       "      <td>2008 EU1</td>\n",
       "      <td>-25365820730656</td>\n",
       "      <td>0.236274</td>\n",
       "      <td>4.01956</td>\n",
       "      <td>3.159747</td>\n",
       "      <td>62001.30949</td>\n",
       "      <td>21.840000</td>\n",
       "      <td>r</td>\n",
       "    </tr>\n",
       "  </tbody>\n",
       "</table>\n",
       "<p>447679 rows × 8 columns</p>\n",
       "</div>"
      ],
      "text/plain": [
       "       mpcDesignation       ssObjectId         e      incl         a  \\\n",
       "0            2007 CO3    6102997768245  0.129147   3.82716  2.460951   \n",
       "1            2014 DY2   47995361189908  0.288534  30.28869  2.577251   \n",
       "2            2008 RW1   51566589826717  0.075504   8.89582  2.936360   \n",
       "3            2008 RW1   51566589826717  0.075504   8.89582  2.936360   \n",
       "4            2008 RW1   51566589826717  0.075504   8.89582  2.936360   \n",
       "...               ...              ...       ...       ...       ...   \n",
       "447674       S100jZN6 -325612888168026  0.068819   9.43365  3.161782   \n",
       "447675       S1005kB6 -174501892927906  0.077079  21.92935  3.210731   \n",
       "447676       S1005kB6 -174501892927906  0.077079  21.92935  3.210731   \n",
       "447677       S1007L1v  -72352755829421  0.112628  14.93522  2.666496   \n",
       "447678       2008 EU1  -25365820730656  0.236274   4.01956  3.159747   \n",
       "\n",
       "        midPointMjdTai        mag band  \n",
       "0          62001.26994  23.445000    g  \n",
       "1          62001.12358  22.701000    r  \n",
       "2          62001.30411  21.393999    r  \n",
       "3          62001.27631  21.379999    r  \n",
       "4          62001.25500  22.037001    g  \n",
       "...                ...        ...  ...  \n",
       "447674     62001.22832  22.962000    r  \n",
       "447675     62001.13702  20.893999    r  \n",
       "447676     62001.14200  20.889000    r  \n",
       "447677     62001.19220  22.156000    r  \n",
       "447678     62001.30949  21.840000    r  \n",
       "\n",
       "[447679 rows x 8 columns]"
      ]
     },
     "execution_count": 101,
     "metadata": {},
     "output_type": "execute_result"
    }
   ],
   "source": [
    "results = job.fetch_result().to_table().to_pandas()\n",
    "results"
   ]
  },
  {
   "cell_type": "code",
   "execution_count": 102,
   "id": "9db24f58-fb9e-4ddf-83c4-65239b7e8705",
   "metadata": {
    "execution": {
     "iopub.execute_input": "2024-07-29T22:23:37.425690Z",
     "iopub.status.busy": "2024-07-29T22:23:37.425075Z",
     "iopub.status.idle": "2024-07-29T22:23:37.441825Z",
     "shell.execute_reply": "2024-07-29T22:23:37.441287Z",
     "shell.execute_reply.started": "2024-07-29T22:23:37.425667Z"
    }
   },
   "outputs": [
    {
     "name": "stdout",
     "output_type": "stream",
     "text": [
      "241107 unique MBAs have LSST detections between MJD=62001 and 62002.\n"
     ]
    }
   ],
   "source": [
    "uniqObjId = np.unique(results['ssObjectId'])\n",
    "print(f'{len(uniqObjId)} unique MBAs have LSST detections between MJD=62001 and 62002.')"
   ]
  },
  {
   "cell_type": "markdown",
   "id": "64348f7c-4c28-4166-a698-84fb480fa60d",
   "metadata": {},
   "source": [
    "### 5.3 Join two pandas `DataFrames` using the `merge` function\n",
    "\n",
    "`Pandas` can combine two DataFrames with different column names for a common key. \n",
    "The common key is the designation for objects, with the corresponding column name\n",
    "being `mpc_desig1` in the `ut4` table and `mpcDesignation` in the `results` table.\n",
    "When using the 'inner' method, the merge operation returns only the rows that have\n",
    "matching values in both DataFrames. This type of join is known as an \"inner join\"."
   ]
  },
  {
   "cell_type": "code",
   "execution_count": 103,
   "id": "712c1013-f07e-42f8-8590-682d28be54c7",
   "metadata": {
    "execution": {
     "iopub.execute_input": "2024-07-29T22:23:39.351483Z",
     "iopub.status.busy": "2024-07-29T22:23:39.350589Z",
     "iopub.status.idle": "2024-07-29T22:23:39.460027Z",
     "shell.execute_reply": "2024-07-29T22:23:39.459535Z",
     "shell.execute_reply.started": "2024-07-29T22:23:39.351458Z"
    }
   },
   "outputs": [
    {
     "name": "stdout",
     "output_type": "stream",
     "text": [
      "81 matches between the ut4 (1000 MBAs) and the results (447679 diaSources) tables.\n"
     ]
    },
    {
     "data": {
      "text/html": [
       "<div>\n",
       "<style scoped>\n",
       "    .dataframe tbody tr th:only-of-type {\n",
       "        vertical-align: middle;\n",
       "    }\n",
       "\n",
       "    .dataframe tbody tr th {\n",
       "        vertical-align: top;\n",
       "    }\n",
       "\n",
       "    .dataframe thead th {\n",
       "        text-align: right;\n",
       "    }\n",
       "</style>\n",
       "<table border=\"1\" class=\"dataframe\">\n",
       "  <thead>\n",
       "    <tr style=\"text-align: right;\">\n",
       "      <th></th>\n",
       "      <th>denomination</th>\n",
       "      <th>inclination</th>\n",
       "      <th>eccentricity</th>\n",
       "      <th>semi_major_axis</th>\n",
       "      <th>mpc_desig1</th>\n",
       "      <th>mpc_desig2</th>\n",
       "      <th>mpcDesignation</th>\n",
       "      <th>ssObjectId</th>\n",
       "      <th>e</th>\n",
       "      <th>incl</th>\n",
       "      <th>a</th>\n",
       "      <th>midPointMjdTai</th>\n",
       "      <th>mag</th>\n",
       "      <th>band</th>\n",
       "    </tr>\n",
       "  </thead>\n",
       "  <tbody>\n",
       "    <tr>\n",
       "      <th>0</th>\n",
       "      <td>1994_eo6</td>\n",
       "      <td>0.088736</td>\n",
       "      <td>0.098679</td>\n",
       "      <td>2.361715</td>\n",
       "      <td>1994 EO6</td>\n",
       "      <td>1994 eo6</td>\n",
       "      <td>1994 EO6</td>\n",
       "      <td>-2828025230589562555</td>\n",
       "      <td>0.099343</td>\n",
       "      <td>5.08267</td>\n",
       "      <td>2.358358</td>\n",
       "      <td>62001.10954</td>\n",
       "      <td>17.509001</td>\n",
       "      <td>r</td>\n",
       "    </tr>\n",
       "    <tr>\n",
       "      <th>1</th>\n",
       "      <td>1991_aj</td>\n",
       "      <td>0.180869</td>\n",
       "      <td>0.172780</td>\n",
       "      <td>3.198215</td>\n",
       "      <td>1991 AJ</td>\n",
       "      <td>1991 aj</td>\n",
       "      <td>1991 AJ</td>\n",
       "      <td>-2147153103981108893</td>\n",
       "      <td>0.171861</td>\n",
       "      <td>10.35835</td>\n",
       "      <td>3.195750</td>\n",
       "      <td>62001.10219</td>\n",
       "      <td>18.228001</td>\n",
       "      <td>r</td>\n",
       "    </tr>\n",
       "    <tr>\n",
       "      <th>2</th>\n",
       "      <td>2002_ce5</td>\n",
       "      <td>0.147299</td>\n",
       "      <td>0.098563</td>\n",
       "      <td>3.159220</td>\n",
       "      <td>2002 CE5</td>\n",
       "      <td>2002 ce5</td>\n",
       "      <td>2002 CE5</td>\n",
       "      <td>-17251693158233675</td>\n",
       "      <td>0.110557</td>\n",
       "      <td>6.37901</td>\n",
       "      <td>2.326052</td>\n",
       "      <td>62001.29560</td>\n",
       "      <td>19.631001</td>\n",
       "      <td>r</td>\n",
       "    </tr>\n",
       "    <tr>\n",
       "      <th>3</th>\n",
       "      <td>2002_ce5</td>\n",
       "      <td>0.147299</td>\n",
       "      <td>0.098563</td>\n",
       "      <td>3.159220</td>\n",
       "      <td>2002 CE5</td>\n",
       "      <td>2002 ce5</td>\n",
       "      <td>2002 CE5</td>\n",
       "      <td>-17251693158233675</td>\n",
       "      <td>0.110557</td>\n",
       "      <td>6.37901</td>\n",
       "      <td>2.326052</td>\n",
       "      <td>62001.27361</td>\n",
       "      <td>19.621000</td>\n",
       "      <td>r</td>\n",
       "    </tr>\n",
       "    <tr>\n",
       "      <th>4</th>\n",
       "      <td>2002_ce5</td>\n",
       "      <td>0.147299</td>\n",
       "      <td>0.098563</td>\n",
       "      <td>3.159220</td>\n",
       "      <td>2002 CE5</td>\n",
       "      <td>2002 ce5</td>\n",
       "      <td>2002 CE5</td>\n",
       "      <td>-17251693158233675</td>\n",
       "      <td>0.110557</td>\n",
       "      <td>6.37901</td>\n",
       "      <td>2.326052</td>\n",
       "      <td>62001.25229</td>\n",
       "      <td>20.270000</td>\n",
       "      <td>g</td>\n",
       "    </tr>\n",
       "    <tr>\n",
       "      <th>...</th>\n",
       "      <td>...</td>\n",
       "      <td>...</td>\n",
       "      <td>...</td>\n",
       "      <td>...</td>\n",
       "      <td>...</td>\n",
       "      <td>...</td>\n",
       "      <td>...</td>\n",
       "      <td>...</td>\n",
       "      <td>...</td>\n",
       "      <td>...</td>\n",
       "      <td>...</td>\n",
       "      <td>...</td>\n",
       "      <td>...</td>\n",
       "      <td>...</td>\n",
       "    </tr>\n",
       "    <tr>\n",
       "      <th>76</th>\n",
       "      <td>2001_ag4</td>\n",
       "      <td>0.059589</td>\n",
       "      <td>0.272405</td>\n",
       "      <td>2.564281</td>\n",
       "      <td>2001 AG4</td>\n",
       "      <td>2001 ag4</td>\n",
       "      <td>2001 AG4</td>\n",
       "      <td>-698031098315107607</td>\n",
       "      <td>0.271387</td>\n",
       "      <td>3.41216</td>\n",
       "      <td>2.563919</td>\n",
       "      <td>62001.22109</td>\n",
       "      <td>16.940001</td>\n",
       "      <td>r</td>\n",
       "    </tr>\n",
       "    <tr>\n",
       "      <th>77</th>\n",
       "      <td>2001_ag4</td>\n",
       "      <td>0.059589</td>\n",
       "      <td>0.272405</td>\n",
       "      <td>2.564281</td>\n",
       "      <td>2001 AG4</td>\n",
       "      <td>2001 ag4</td>\n",
       "      <td>2001 AG4</td>\n",
       "      <td>-698031098315107607</td>\n",
       "      <td>0.271387</td>\n",
       "      <td>3.41216</td>\n",
       "      <td>2.563919</td>\n",
       "      <td>62001.24521</td>\n",
       "      <td>17.587999</td>\n",
       "      <td>g</td>\n",
       "    </tr>\n",
       "    <tr>\n",
       "      <th>78</th>\n",
       "      <td>2001_dt2</td>\n",
       "      <td>0.045905</td>\n",
       "      <td>0.138029</td>\n",
       "      <td>3.099012</td>\n",
       "      <td>2001 DT2</td>\n",
       "      <td>2001 dt2</td>\n",
       "      <td>2001 DT2</td>\n",
       "      <td>6989332235091723699</td>\n",
       "      <td>0.143442</td>\n",
       "      <td>16.40551</td>\n",
       "      <td>2.704446</td>\n",
       "      <td>62001.97693</td>\n",
       "      <td>22.011000</td>\n",
       "      <td>r</td>\n",
       "    </tr>\n",
       "    <tr>\n",
       "      <th>79</th>\n",
       "      <td>2001_dt2</td>\n",
       "      <td>0.045905</td>\n",
       "      <td>0.138029</td>\n",
       "      <td>3.099012</td>\n",
       "      <td>2001 DT2</td>\n",
       "      <td>2001 dt2</td>\n",
       "      <td>2001 DT2</td>\n",
       "      <td>6989332235091723699</td>\n",
       "      <td>0.143442</td>\n",
       "      <td>16.40551</td>\n",
       "      <td>2.704446</td>\n",
       "      <td>62001.97071</td>\n",
       "      <td>21.976000</td>\n",
       "      <td>r</td>\n",
       "    </tr>\n",
       "    <tr>\n",
       "      <th>80</th>\n",
       "      <td>2001_dt2</td>\n",
       "      <td>0.045905</td>\n",
       "      <td>0.138029</td>\n",
       "      <td>3.099012</td>\n",
       "      <td>2001 DT2</td>\n",
       "      <td>2001 dt2</td>\n",
       "      <td>2001 DT2</td>\n",
       "      <td>6989332235091723699</td>\n",
       "      <td>0.143442</td>\n",
       "      <td>16.40551</td>\n",
       "      <td>2.704446</td>\n",
       "      <td>62001.97382</td>\n",
       "      <td>22.155001</td>\n",
       "      <td>r</td>\n",
       "    </tr>\n",
       "  </tbody>\n",
       "</table>\n",
       "<p>81 rows × 14 columns</p>\n",
       "</div>"
      ],
      "text/plain": [
       "   denomination  inclination  eccentricity  semi_major_axis mpc_desig1  \\\n",
       "0      1994_eo6     0.088736      0.098679         2.361715   1994 EO6   \n",
       "1       1991_aj     0.180869      0.172780         3.198215    1991 AJ   \n",
       "2      2002_ce5     0.147299      0.098563         3.159220   2002 CE5   \n",
       "3      2002_ce5     0.147299      0.098563         3.159220   2002 CE5   \n",
       "4      2002_ce5     0.147299      0.098563         3.159220   2002 CE5   \n",
       "..          ...          ...           ...              ...        ...   \n",
       "76     2001_ag4     0.059589      0.272405         2.564281   2001 AG4   \n",
       "77     2001_ag4     0.059589      0.272405         2.564281   2001 AG4   \n",
       "78     2001_dt2     0.045905      0.138029         3.099012   2001 DT2   \n",
       "79     2001_dt2     0.045905      0.138029         3.099012   2001 DT2   \n",
       "80     2001_dt2     0.045905      0.138029         3.099012   2001 DT2   \n",
       "\n",
       "   mpc_desig2 mpcDesignation           ssObjectId         e      incl  \\\n",
       "0    1994 eo6       1994 EO6 -2828025230589562555  0.099343   5.08267   \n",
       "1     1991 aj        1991 AJ -2147153103981108893  0.171861  10.35835   \n",
       "2    2002 ce5       2002 CE5   -17251693158233675  0.110557   6.37901   \n",
       "3    2002 ce5       2002 CE5   -17251693158233675  0.110557   6.37901   \n",
       "4    2002 ce5       2002 CE5   -17251693158233675  0.110557   6.37901   \n",
       "..        ...            ...                  ...       ...       ...   \n",
       "76   2001 ag4       2001 AG4  -698031098315107607  0.271387   3.41216   \n",
       "77   2001 ag4       2001 AG4  -698031098315107607  0.271387   3.41216   \n",
       "78   2001 dt2       2001 DT2  6989332235091723699  0.143442  16.40551   \n",
       "79   2001 dt2       2001 DT2  6989332235091723699  0.143442  16.40551   \n",
       "80   2001 dt2       2001 DT2  6989332235091723699  0.143442  16.40551   \n",
       "\n",
       "           a  midPointMjdTai        mag band  \n",
       "0   2.358358     62001.10954  17.509001    r  \n",
       "1   3.195750     62001.10219  18.228001    r  \n",
       "2   2.326052     62001.29560  19.631001    r  \n",
       "3   2.326052     62001.27361  19.621000    r  \n",
       "4   2.326052     62001.25229  20.270000    g  \n",
       "..       ...             ...        ...  ...  \n",
       "76  2.563919     62001.22109  16.940001    r  \n",
       "77  2.563919     62001.24521  17.587999    g  \n",
       "78  2.704446     62001.97693  22.011000    r  \n",
       "79  2.704446     62001.97071  21.976000    r  \n",
       "80  2.704446     62001.97382  22.155001    r  \n",
       "\n",
       "[81 rows x 14 columns]"
      ]
     },
     "execution_count": 103,
     "metadata": {},
     "output_type": "execute_result"
    }
   ],
   "source": [
    "merged_df = pd.merge(ut4, results, left_on='mpc_desig1', right_on='mpcDesignation', how='inner')\n",
    "print(f'{len(merged_df)} matches between the ut4 ({len(ut4)} MBAs) and '\n",
    "      f'the results ({len(results)} diaSources) tables.')\n",
    "merged_df"
   ]
  },
  {
   "cell_type": "code",
   "execution_count": 104,
   "id": "99467bd2-d9fb-493e-836d-b53b64b5af1d",
   "metadata": {
    "execution": {
     "iopub.execute_input": "2024-07-29T22:23:39.915730Z",
     "iopub.status.busy": "2024-07-29T22:23:39.915426Z",
     "iopub.status.idle": "2024-07-29T22:23:39.920170Z",
     "shell.execute_reply": "2024-07-29T22:23:39.919609Z",
     "shell.execute_reply.started": "2024-07-29T22:23:39.915707Z"
    }
   },
   "outputs": [
    {
     "name": "stdout",
     "output_type": "stream",
     "text": [
      "28 Gaia MBAs out of 1000 are detected with Rubin between MJD=62001 and 62002.\n",
      "3 of them have the maximum number of the LSST detections of 7.\n"
     ]
    }
   ],
   "source": [
    "uniqObj, cnts = np.unique(merged_df['denomination'], return_counts=True)\n",
    "most_detected, = np.where(cnts == cnts.max())\n",
    "print(f'{len(uniqObj)} Gaia MBAs out of {len(ut4)} are detected with Rubin '\n",
    "      f'between MJD=62001 and 62002.')\n",
    "print(f'{len(most_detected)} of them have the maximum number '\n",
    "      f'of the LSST detections of {cnts.max()}.')"
   ]
  },
  {
   "cell_type": "markdown",
   "id": "e21472d4-2a88-4788-9e05-d9fa21d7450c",
   "metadata": {},
   "source": [
    "#### 5.3.1 Compare the orbital parameters from Gaia vs. the LSST for the matched MBAs\n",
    "\n",
    "Plot the orbital parameters eccentricity (`e`), inclination (`i`), and semi-major axis (`a`)\n",
    "from the Gaia and the LSST for matched MBAs."
   ]
  },
  {
   "cell_type": "code",
   "execution_count": null,
   "id": "b4a79104-2fe7-4f3a-918d-85747b546602",
   "metadata": {},
   "outputs": [],
   "source": []
  },
  {
   "cell_type": "code",
   "execution_count": 76,
   "id": "7879344c-752e-4b4c-97cc-084dae0f0de8",
   "metadata": {
    "execution": {
     "iopub.execute_input": "2024-07-29T21:30:28.975193Z",
     "iopub.status.busy": "2024-07-29T21:30:28.974524Z",
     "iopub.status.idle": "2024-07-29T21:30:29.174768Z",
     "shell.execute_reply": "2024-07-29T21:30:29.174014Z",
     "shell.execute_reply.started": "2024-07-29T21:30:28.975171Z"
    }
   },
   "outputs": [
    {
     "data": {
      "image/png": "[encoded data removed]",
      "text/plain": [
       "<Figure size 640x480 with 1 Axes>"
      ]
     },
     "metadata": {},
     "output_type": "display_data"
    }
   ],
   "source": [
    "index = most_detected[0]\n",
    "mask = merged_df['denomination'] == uniqObj[index]\n",
    "masked_df = merged_df[mask]\n",
    "bands = masked_df['band'].unique()\n",
    "\n",
    "for iband in bands:\n",
    "    df_band = masked_df[masked_df['band'] == iband]\n",
    "    plt.scatter(df_band['midPointMjdTai'], df_band['mag'], label=iband)\n",
    "\n",
    "plt.legend()\n",
    "plt.xlabel('MJD [days]')\n",
    "plt.ylabel('magnitude')\n",
    "plt.title('MPC designation: ' + uniqObj[index])\n",
    "plt.gca().invert_yaxis()\n",
    "plt.show()"
   ]
  },
  {
   "cell_type": "code",
   "execution_count": 110,
   "id": "f6080b89-2280-4399-88dd-b5c0be0e90cd",
   "metadata": {
    "execution": {
     "iopub.execute_input": "2024-07-29T22:39:07.745597Z",
     "iopub.status.busy": "2024-07-29T22:39:07.744860Z",
     "iopub.status.idle": "2024-07-29T22:39:08.125644Z",
     "shell.execute_reply": "2024-07-29T22:39:08.125126Z",
     "shell.execute_reply.started": "2024-07-29T22:39:07.745572Z"
    }
   },
   "outputs": [
    {
     "data": {
      "text/plain": [
       "Text(0, 0.5, 'a [au] from Rubin')"
      ]
     },
     "execution_count": 110,
     "metadata": {},
     "output_type": "execute_result"
    },
    {
     "data": {
      "image/png": "[encoded data removed]",
      "text/plain": [
       "<Figure size 1600x300 with 3 Axes>"
      ]
     },
     "metadata": {},
     "output_type": "display_data"
    }
   ],
   "source": [
    "fig, axs = plt.subplots(1, 3, figsize=(16, 3))\n",
    "fig.suptitle('For matched MBAs')\n",
    "\n",
    "axs[0].scatter(merged_df['eccentricity'], merged_df['e'])\n",
    "axs[0].set_xlabel('e from Gaia')\n",
    "axs[0].set_ylabel('e from Rubin')\n",
    "\n",
    "axs[1].scatter(np.rad2deg(merged_df['inclination']), merged_df['incl'])\n",
    "axs[1].set_xlabel('i [deg] from Gaia')\n",
    "axs[1].set_ylabel('i [deg] from Rubin')\n",
    "\n",
    "axs[2].scatter(merged_df['semi_major_axis'], merged_df['a'])\n",
    "axs[2].set_xlabel('a [au] from Gaia')\n",
    "axs[2].set_ylabel('a [au] from Rubin')\n",
    "\n",
    "# plt.subplot(132)\n",
    "# plt.scatter(gaia_results['semi_major_axis'], np.sin(gaia_results['inclination']),\n",
    "#             s=3, alpha=0.3)\n",
    "# plt.xlabel('a [au]')\n",
    "# plt.ylabel(r'sin($i$)')\n",
    "\n",
    "# plt.subplot(133)\n",
    "# plt.scatter(gaia_results['semi_major_axis'], np.sin(gaia_results['inclination']),\n",
    "#             s=3, alpha=0.3)\n",
    "# plt.xlabel('a [au]')\n",
    "# plt.ylabel(r'sin($i$)')\n",
    "# plt.tight_layout()\n",
    "# plt.show()"
   ]
  },
  {
   "cell_type": "markdown",
   "id": "83c07fad-a1c6-4231-9acd-3221ffdbc13f",
   "metadata": {},
   "source": [
    "Clean up."
   ]
  },
  {
   "cell_type": "code",
   "execution_count": null,
   "id": "aad84648-eae2-4b13-b6bf-a4d41cd90d5f",
   "metadata": {},
   "outputs": [],
   "source": [
    "del ut4, results, merged_df, uniqObj, cnts, most_detected, index, mask, masked_df, bands, df_band"
   ]
  },
  {
   "cell_type": "markdown",
   "id": "f880c4d0-6ffc-49e9-86f2-95f1b698e279",
   "metadata": {},
   "source": [
    "## 6. Excercises for the learner\n",
    "\n",
    "1. In Section 4.1, the Gaia database was queried for main-belt asteroids (MBAs) following the\n",
    "population definition used by the [JPL Horizons small body database query tool](https://ssd.jpl.nasa.gov/tools/sbdb_query.html).\n",
    "At that link, click on \"Limit by Orbit Class\" and then hover the cursor over any \"information\" symbol\n",
    "to see any definition. Use the definition of TransNeptunian Object (TNO) to rewrite the query in Section 4.1\n",
    "and create a table of the nine Gaia objects with >200 observations and the semi-major axis of a TNO.\n",
    "Clear the kernel and re-execute the notebook in full, using Gaia TNOs instead of MBAs; there\n",
    "should be 4 detected by LSST.\n",
    "\n",
    "2. (Advanced) Generate a table of DP0.3 objects of interest and save it as a file (e.g., the MPC designations of TNOs identified in step 1). Using Sections 3 and 4 as a guide, use the user-upload functionality and do a tripe-table join with the DP0.3 `SSObject` catalog (match on MPC designation)\n",
    "and `SSSource` catalog (match on `ssObjectId`) to obtain and plot, e.g., heliocentric distances."
   ]
  }
 ],
 "metadata": {
  "kernelspec": {
   "display_name": "LSST",
   "language": "python",
   "name": "lsst"
  },
  "language_info": {
   "codemirror_mode": {
    "name": "ipython",
    "version": 3
   },
   "file_extension": ".py",
   "mimetype": "text/x-python",
   "name": "python",
   "nbconvert_exporter": "python",
   "pygments_lexer": "ipython3",
   "version": "3.11.7"
  },
  "toc-autonumbering": false
 },
 "nbformat": 4,
 "nbformat_minor": 5
}
