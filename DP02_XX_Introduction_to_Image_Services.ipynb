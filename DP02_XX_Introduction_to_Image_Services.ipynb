{
 "cells": [
  {
   "cell_type": "markdown",
   "id": "749b0ddf",
   "metadata": {},
   "source": [
    "<img align=\"left\" src = https://project.lsst.org/sites/default/files/Rubin-O-Logo_0.png width=250 style=\"padding: 10px\"> \n",
    "<p><p><p><p>\n",
    "<b>Introduction to Rubin Image Services</b> <br>\n",
    "Contact author: <i>Leanne Guy</i> <br>\n",
    "Last verified to run: <i>2023-01-13</i> <br>\n",
    "LSST Science Piplines version: Weekly <i>2022_24</i> <br>\n",
    "Container Size: <i>medium</i> <br>\n",
    "Targeted learning level: <i>intermediate</i> <br>"
   ]
  },
  {
   "cell_type": "code",
   "execution_count": 12,
   "id": "7acc79a4-8530-42d9-96e5-b7acb4397864",
   "metadata": {
    "execution": {
     "iopub.execute_input": "2024-07-05T20:05:49.380684Z",
     "iopub.status.busy": "2024-07-05T20:05:49.379720Z",
     "iopub.status.idle": "2024-07-05T20:05:49.383617Z",
     "shell.execute_reply": "2024-07-05T20:05:49.382917Z",
     "shell.execute_reply.started": "2024-07-05T20:05:49.380653Z"
    }
   },
   "outputs": [],
   "source": [
    "# %load_ext pycodestyle_magic\n",
    "# %flake8_on\n",
    "# import logging\n",
    "# logging.getLogger(\"flake8\").setLevel(logging.FATAL)"
   ]
  },
  {
   "cell_type": "markdown",
   "id": "80a0baf5-51ad-40ec-8991-060a7b27c289",
   "metadata": {},
   "source": [
    "**Skills:** Learn how to use Rubin Images Services to query and retrieve images, including how to create image cutouts of variety of sizes and shapes on the different flavours of Rubin Images, e.g. single-epoch processed visit images, difference images and deep coadds."
   ]
  },
  {
   "cell_type": "markdown",
   "id": "2c3186c9-aa49-4b9b-a9a0-a267f9f7e6d1",
   "metadata": {},
   "source": [
    "**Description:** An introduction to Rubin Image Image Services"
   ]
  },
  {
   "cell_type": "markdown",
   "id": "393da88f-7978-4920-aa4a-a9830df6eed9",
   "metadata": {},
   "source": [
    "**LSST Image Data Products:** Single-epoch Images, Deep Coadds, Image Cutouts "
   ]
  },
  {
   "cell_type": "markdown",
   "id": "5c67fab9-136a-4adc-bb42-142b91ab69dd",
   "metadata": {},
   "source": [
    "**Packages:** lsst.rsp, lsst.daf, pyvo, astropy"
   ]
  },
  {
   "cell_type": "markdown",
   "id": "8f72b27f",
   "metadata": {},
   "source": [
    "**Credit:** This tutorial was developed for DP0.2 by Leanne Guy."
   ]
  },
  {
   "cell_type": "markdown",
   "id": "28e91cbf-ab7f-4e26-9276-b00299d6065e",
   "metadata": {},
   "source": [
    "**Get Support:**\n",
    "Find DP0-related documentation and resources at <a href=\"https://dp0.lsst.io\">dp0.lsst.io</a>. Questions are welcome as new topics in the <a href=\"https://community.lsst.org/c/support/dp0\">Support - Data Preview 0 Category</a> of the Rubin Community Forum. Rubin staff will respond to all questions posted there."
   ]
  },
  {
   "cell_type": "markdown",
   "id": "cdade621-a25f-479c-9e41-76a7451a0940",
   "metadata": {
    "tags": []
   },
   "source": [
    "## 1. Introduction\n",
    "\n",
    "Rubin will deliver a range of image data products from the LSST; raw images, processed visit images (PVI), single-epoch images, deep coadded images, template images and difference images. In addition to the delivered LSST image data products, scientists will want to make their own \\\"created-on-demand\\\" images, e.g cutout images of various sizes centered about a number of positions, bespoke coadds, e.g best-seeing, deepest, etc, or PVIs with different background estimation and subtraction. <p>\n",
    "\n",
    "Image Services is the term used to describe the collection of Rubin services used for the description, discovery, access and retrieval of LSST image data products. They include services for both image metadata and for the image pixel data itself, e.g image retrieval services, image cutout and mosiacing services, on-demand image creation services, and HiPS multi-resolution image map services. Rubin's image services are provided as part of the Rubin Science Platform's API Aspect, which are used both within the RSP to access image data products, and from externally. Rubin Observatory has adopted 'VO First' strategy for services, meaning that wherever possible, IVOA-standard interfaces will be adopted. \n",
    "\n",
    "- `Virtual Observatory (VO)` -- is a collection of interoperating data archives and software tools that utilize the internet to form a scientific research environment in which astronomical research programs can be conducted. It is the vision that astronomical datasets and services should work together as a whole. The VO allows scientists to query datasets at multiple data centers in a seamless and transparent way, which is made possible by the standardization of data and metadata, of data exchange methods, and by the use of a registry, which lists available services and what can be done with them. Rubin is one of many projects and data centres worldwide who are are working towards this goal. See [What is the VO](https://www.ivoa.net/about/what-is-vo.html).\n",
    "  \n",
    "- `International Virtual Observatory Alliance (IVOA)` -- is a global organization that facilitates the coordination and collaboration necessary to make the Virtual Observatory possible. The IVOA focuses on the development of standards and produced the \\\"Astronomical Data Query Language (ADQL)\\\". See [ivoa.net](https://ivoa.net).\n",
    "\n",
    "A suite of VO protocols specify basic access methods for different types of data resources, e.g. catalogs, images, spectra. Tutorial 02, [Catalog Queries with TAP](https://dp0-2.lsst.io/_static/nb_html/DP02_02_Catalog_Queries_with_TAP.html), introduced the VO-compliant Table Access Protocol (TAP) service for accessing catalog (table) data and metadata. The Rubin TAP service returns structured information in a VOTable format about LSST data products and was the first IVOA-compliant service to be deployed on the RSP. In this tutorial we will introduce several new IVOA-compliant services that have been deployed as part of DP0 for accessing images and creating image cutouts.\n",
    "\n",
    "Python access to remote data and services of the Virtual Observatory is provided by the PyVO software package\n",
    "\n",
    "- `PyVO` -- is a software package that provides access to remote data and services of the Virtual observatory (VO) using Python. It requires both AstroPy and NumPy"
   ]
  },
  {
   "cell_type": "markdown",
   "id": "dc36f107",
   "metadata": {
    "tags": []
   },
   "source": [
    "### 1.1 Package Imports"
   ]
  },
  {
   "cell_type": "code",
   "execution_count": 13,
   "id": "cddc1458",
   "metadata": {
    "execution": {
     "iopub.execute_input": "2024-07-05T20:05:49.385319Z",
     "iopub.status.busy": "2024-07-05T20:05:49.384841Z",
     "iopub.status.idle": "2024-07-05T20:05:49.405370Z",
     "shell.execute_reply": "2024-07-05T20:05:49.404351Z",
     "shell.execute_reply.started": "2024-07-05T20:05:49.385299Z"
    },
    "tags": []
   },
   "outputs": [],
   "source": [
    "# Import general python packages\n",
    "import os\n",
    "import numpy as np\n",
    "import pandas as pd\n",
    "import uuid\n",
    "import requests\n",
    "import warnings\n",
    "\n",
    "# Import the Rubin TAP service utilities\n",
    "from lsst.rsp import get_tap_service\n",
    "\n",
    "# Science Pipelines imports\n",
    "from lsst.daf.butler import Butler, DatasetType, CollectionType\n",
    "from lsst.afw.image import Exposure, ExposureF\n",
    "\n",
    "# RSP utilities\n",
    "from lsst.rsp import get_tap_service\n",
    "from lsst.rsp.utils import get_access_token\n",
    "\n",
    "# PyVO packages\n",
    "import pyvo as vo\n",
    "from pyvo.dal.adhoc import DatalinkResults, SodaQuery\n",
    "from pyvo.dal import SIAService, SIAResults\n",
    "\n",
    "# Astropy\n",
    "from astropy import units as u\n",
    "from astropy.units import Quantity\n",
    "from astropy.coordinates import SkyCoord\n",
    "from astropy.io import fits\n",
    "from astropy.time import Time\n",
    "from astropy.utils.data import download_file\n",
    "from astropy.utils.exceptions import AstropyWarning\n",
    "from astropy.visualization import  ZScaleInterval, AsinhStretch\n",
    "from astropy.wcs import WCS       \n",
    "from astropy.visualization import simple_norm, imshow_norm\n",
    "from astropy.visualization import ImageNormalize,  ZScaleInterval\n",
    "from astropy.visualization.stretch import SinhStretch, LinearStretch, SqrtStretch\n",
    "\n",
    "# Holoviz for interactive visualization\n",
    "import bokeh\n",
    "from bokeh.io import output_notebook\n",
    "from bokeh.models import HoverTool\n",
    "from bokeh.plotting import figure\n",
    "from bokeh.transform import factor_cmap\n",
    "\n",
    "import holoviews as hv\n",
    "from holoviews import opts\n",
    "from holoviews.operation.datashader import rasterize"
   ]
  },
  {
   "cell_type": "code",
   "execution_count": 14,
   "id": "767444b4-076a-4bab-9661-a1151d94277a",
   "metadata": {
    "execution": {
     "iopub.execute_input": "2024-07-05T20:05:49.407483Z",
     "iopub.status.busy": "2024-07-05T20:05:49.406799Z",
     "iopub.status.idle": "2024-07-05T20:05:49.479112Z",
     "shell.execute_reply": "2024-07-05T20:05:49.478425Z",
     "shell.execute_reply.started": "2024-07-05T20:05:49.407459Z"
    },
    "tags": []
   },
   "outputs": [
    {
     "data": {
      "application/javascript": [
       "(function(root) {\n",
       "  function now() {\n",
       "    return new Date();\n",
       "  }\n",
       "\n",
       "  var force = true;\n",
       "  var py_version = '3.4.1'.replace('rc', '-rc.').replace('.dev', '-dev.');\n",
       "  var reloading = false;\n",
       "  var Bokeh = root.Bokeh;\n",
       "\n",
       "  if (typeof (root._bokeh_timeout) === \"undefined\" || force) {\n",
       "    root._bokeh_timeout = Date.now() + 5000;\n",
       "    root._bokeh_failed_load = false;\n",
       "  }\n",
       "\n",
       "  function run_callbacks() {\n",
       "    try {\n",
       "      root._bokeh_onload_callbacks.forEach(function(callback) {\n",
       "        if (callback != null)\n",
       "          callback();\n",
       "      });\n",
       "    } finally {\n",
       "      delete root._bokeh_onload_callbacks;\n",
       "    }\n",
       "    console.debug(\"Bokeh: all callbacks have finished\");\n",
       "  }\n",
       "\n",
       "  function load_libs(css_urls, js_urls, js_modules, js_exports, callback) {\n",
       "    if (css_urls == null) css_urls = [];\n",
       "    if (js_urls == null) js_urls = [];\n",
       "    if (js_modules == null) js_modules = [];\n",
       "    if (js_exports == null) js_exports = {};\n",
       "\n",
       "    root._bokeh_onload_callbacks.push(callback);\n",
       "\n",
       "    if (root._bokeh_is_loading > 0) {\n",
       "      console.debug(\"Bokeh: BokehJS is being loaded, scheduling callback at\", now());\n",
       "      return null;\n",
       "    }\n",
       "    if (js_urls.length === 0 && js_modules.length === 0 && Object.keys(js_exports).length === 0) {\n",
       "      run_callbacks();\n",
       "      return null;\n",
       "    }\n",
       "    if (!reloading) {\n",
       "      console.debug(\"Bokeh: BokehJS not loaded, scheduling load and callback at\", now());\n",
       "    }\n",
       "\n",
       "    function on_load() {\n",
       "      root._bokeh_is_loading--;\n",
       "      if (root._bokeh_is_loading === 0) {\n",
       "        console.debug(\"Bokeh: all BokehJS libraries/stylesheets loaded\");\n",
       "        run_callbacks()\n",
       "      }\n",
       "    }\n",
       "    window._bokeh_on_load = on_load\n",
       "\n",
       "    function on_error() {\n",
       "      console.error(\"failed to load \" + url);\n",
       "    }\n",
       "\n",
       "    var skip = [];\n",
       "    if (window.requirejs) {\n",
       "      window.requirejs.config({'packages': {}, 'paths': {}, 'shim': {}});\n",
       "      root._bokeh_is_loading = css_urls.length + 0;\n",
       "    } else {\n",
       "      root._bokeh_is_loading = css_urls.length + js_urls.length + js_modules.length + Object.keys(js_exports).length;\n",
       "    }\n",
       "\n",
       "    var existing_stylesheets = []\n",
       "    var links = document.getElementsByTagName('link')\n",
       "    for (var i = 0; i < links.length; i++) {\n",
       "      var link = links[i]\n",
       "      if (link.href != null) {\n",
       "\texisting_stylesheets.push(link.href)\n",
       "      }\n",
       "    }\n",
       "    for (var i = 0; i < css_urls.length; i++) {\n",
       "      var url = css_urls[i];\n",
       "      if (existing_stylesheets.indexOf(url) !== -1) {\n",
       "\ton_load()\n",
       "\tcontinue;\n",
       "      }\n",
       "      const element = document.createElement(\"link\");\n",
       "      element.onload = on_load;\n",
       "      element.onerror = on_error;\n",
       "      element.rel = \"stylesheet\";\n",
       "      element.type = \"text/css\";\n",
       "      element.href = url;\n",
       "      console.debug(\"Bokeh: injecting link tag for BokehJS stylesheet: \", url);\n",
       "      document.body.appendChild(element);\n",
       "    }    var existing_scripts = []\n",
       "    var scripts = document.getElementsByTagName('script')\n",
       "    for (var i = 0; i < scripts.length; i++) {\n",
       "      var script = scripts[i]\n",
       "      if (script.src != null) {\n",
       "\texisting_scripts.push(script.src)\n",
       "      }\n",
       "    }\n",
       "    for (var i = 0; i < js_urls.length; i++) {\n",
       "      var url = js_urls[i];\n",
       "      if (skip.indexOf(url) !== -1 || existing_scripts.indexOf(url) !== -1) {\n",
       "\tif (!window.requirejs) {\n",
       "\t  on_load();\n",
       "\t}\n",
       "\tcontinue;\n",
       "      }\n",
       "      var element = document.createElement('script');\n",
       "      element.onload = on_load;\n",
       "      element.onerror = on_error;\n",
       "      element.async = false;\n",
       "      element.src = url;\n",
       "      console.debug(\"Bokeh: injecting script tag for BokehJS library: \", url);\n",
       "      document.head.appendChild(element);\n",
       "    }\n",
       "    for (var i = 0; i < js_modules.length; i++) {\n",
       "      var url = js_modules[i];\n",
       "      if (skip.indexOf(url) !== -1 || existing_scripts.indexOf(url) !== -1) {\n",
       "\tif (!window.requirejs) {\n",
       "\t  on_load();\n",
       "\t}\n",
       "\tcontinue;\n",
       "      }\n",
       "      var element = document.createElement('script');\n",
       "      element.onload = on_load;\n",
       "      element.onerror = on_error;\n",
       "      element.async = false;\n",
       "      element.src = url;\n",
       "      element.type = \"module\";\n",
       "      console.debug(\"Bokeh: injecting script tag for BokehJS library: \", url);\n",
       "      document.head.appendChild(element);\n",
       "    }\n",
       "    for (const name in js_exports) {\n",
       "      var url = js_exports[name];\n",
       "      if (skip.indexOf(url) >= 0 || root[name] != null) {\n",
       "\tif (!window.requirejs) {\n",
       "\t  on_load();\n",
       "\t}\n",
       "\tcontinue;\n",
       "      }\n",
       "      var element = document.createElement('script');\n",
       "      element.onerror = on_error;\n",
       "      element.async = false;\n",
       "      element.type = \"module\";\n",
       "      console.debug(\"Bokeh: injecting script tag for BokehJS library: \", url);\n",
       "      element.textContent = `\n",
       "      import ${name} from \"${url}\"\n",
       "      window.${name} = ${name}\n",
       "      window._bokeh_on_load()\n",
       "      `\n",
       "      document.head.appendChild(element);\n",
       "    }\n",
       "    if (!js_urls.length && !js_modules.length) {\n",
       "      on_load()\n",
       "    }\n",
       "  };\n",
       "\n",
       "  function inject_raw_css(css) {\n",
       "    const element = document.createElement(\"style\");\n",
       "    element.appendChild(document.createTextNode(css));\n",
       "    document.body.appendChild(element);\n",
       "  }\n",
       "\n",
       "  var js_urls = [\"https://cdn.bokeh.org/bokeh/release/bokeh-3.4.1.min.js\", \"https://cdn.bokeh.org/bokeh/release/bokeh-gl-3.4.1.min.js\", \"https://cdn.bokeh.org/bokeh/release/bokeh-widgets-3.4.1.min.js\", \"https://cdn.bokeh.org/bokeh/release/bokeh-tables-3.4.1.min.js\", \"https://cdn.holoviz.org/panel/1.4.2/dist/panel.min.js\"];\n",
       "  var js_modules = [];\n",
       "  var js_exports = {};\n",
       "  var css_urls = [];\n",
       "  var inline_js = [    function(Bokeh) {\n",
       "      Bokeh.set_log_level(\"info\");\n",
       "    },\n",
       "function(Bokeh) {} // ensure no trailing comma for IE\n",
       "  ];\n",
       "\n",
       "  function run_inline_js() {\n",
       "    if ((root.Bokeh !== undefined) || (force === true)) {\n",
       "      for (var i = 0; i < inline_js.length; i++) {\n",
       "\ttry {\n",
       "          inline_js[i].call(root, root.Bokeh);\n",
       "\t} catch(e) {\n",
       "\t  if (!reloading) {\n",
       "\t    throw e;\n",
       "\t  }\n",
       "\t}\n",
       "      }\n",
       "      // Cache old bokeh versions\n",
       "      if (Bokeh != undefined && !reloading) {\n",
       "\tvar NewBokeh = root.Bokeh;\n",
       "\tif (Bokeh.versions === undefined) {\n",
       "\t  Bokeh.versions = new Map();\n",
       "\t}\n",
       "\tif (NewBokeh.version !== Bokeh.version) {\n",
       "\t  Bokeh.versions.set(NewBokeh.version, NewBokeh)\n",
       "\t}\n",
       "\troot.Bokeh = Bokeh;\n",
       "      }} else if (Date.now() < root._bokeh_timeout) {\n",
       "      setTimeout(run_inline_js, 100);\n",
       "    } else if (!root._bokeh_failed_load) {\n",
       "      console.log(\"Bokeh: BokehJS failed to load within specified timeout.\");\n",
       "      root._bokeh_failed_load = true;\n",
       "    }\n",
       "    root._bokeh_is_initializing = false\n",
       "  }\n",
       "\n",
       "  function load_or_wait() {\n",
       "    // Implement a backoff loop that tries to ensure we do not load multiple\n",
       "    // versions of Bokeh and its dependencies at the same time.\n",
       "    // In recent versions we use the root._bokeh_is_initializing flag\n",
       "    // to determine whether there is an ongoing attempt to initialize\n",
       "    // bokeh, however for backward compatibility we also try to ensure\n",
       "    // that we do not start loading a newer (Panel>=1.0 and Bokeh>3) version\n",
       "    // before older versions are fully initialized.\n",
       "    if (root._bokeh_is_initializing && Date.now() > root._bokeh_timeout) {\n",
       "      root._bokeh_is_initializing = false;\n",
       "      root._bokeh_onload_callbacks = undefined;\n",
       "      console.log(\"Bokeh: BokehJS was loaded multiple times but one version failed to initialize.\");\n",
       "      load_or_wait();\n",
       "    } else if (root._bokeh_is_initializing || (typeof root._bokeh_is_initializing === \"undefined\" && root._bokeh_onload_callbacks !== undefined)) {\n",
       "      setTimeout(load_or_wait, 100);\n",
       "    } else {\n",
       "      root._bokeh_is_initializing = true\n",
       "      root._bokeh_onload_callbacks = []\n",
       "      var bokeh_loaded = Bokeh != null && (Bokeh.version === py_version || (Bokeh.versions !== undefined && Bokeh.versions.has(py_version)));\n",
       "      if (!reloading && !bokeh_loaded) {\n",
       "\troot.Bokeh = undefined;\n",
       "      }\n",
       "      load_libs(css_urls, js_urls, js_modules, js_exports, function() {\n",
       "\tconsole.debug(\"Bokeh: BokehJS plotting callback run at\", now());\n",
       "\trun_inline_js();\n",
       "      });\n",
       "    }\n",
       "  }\n",
       "  // Give older versions of the autoload script a head-start to ensure\n",
       "  // they initialize before we start loading newer version.\n",
       "  setTimeout(load_or_wait, 100)\n",
       "}(window));"
      ],
      "application/vnd.holoviews_load.v0+json": "(function(root) {\n  function now() {\n    return new Date();\n  }\n\n  var force = true;\n  var py_version = '3.4.1'.replace('rc', '-rc.').replace('.dev', '-dev.');\n  var reloading = false;\n  var Bokeh = root.Bokeh;\n\n  if (typeof (root._bokeh_timeout) === \"undefined\" || force) {\n    root._bokeh_timeout = Date.now() + 5000;\n    root._bokeh_failed_load = false;\n  }\n\n  function run_callbacks() {\n    try {\n      root._bokeh_onload_callbacks.forEach(function(callback) {\n        if (callback != null)\n          callback();\n      });\n    } finally {\n      delete root._bokeh_onload_callbacks;\n    }\n    console.debug(\"Bokeh: all callbacks have finished\");\n  }\n\n  function load_libs(css_urls, js_urls, js_modules, js_exports, callback) {\n    if (css_urls == null) css_urls = [];\n    if (js_urls == null) js_urls = [];\n    if (js_modules == null) js_modules = [];\n    if (js_exports == null) js_exports = {};\n\n    root._bokeh_onload_callbacks.push(callback);\n\n    if (root._bokeh_is_loading > 0) {\n      console.debug(\"Bokeh: BokehJS is being loaded, scheduling callback at\", now());\n      return null;\n    }\n    if (js_urls.length === 0 && js_modules.length === 0 && Object.keys(js_exports).length === 0) {\n      run_callbacks();\n      return null;\n    }\n    if (!reloading) {\n      console.debug(\"Bokeh: BokehJS not loaded, scheduling load and callback at\", now());\n    }\n\n    function on_load() {\n      root._bokeh_is_loading--;\n      if (root._bokeh_is_loading === 0) {\n        console.debug(\"Bokeh: all BokehJS libraries/stylesheets loaded\");\n        run_callbacks()\n      }\n    }\n    window._bokeh_on_load = on_load\n\n    function on_error() {\n      console.error(\"failed to load \" + url);\n    }\n\n    var skip = [];\n    if (window.requirejs) {\n      window.requirejs.config({'packages': {}, 'paths': {}, 'shim': {}});\n      root._bokeh_is_loading = css_urls.length + 0;\n    } else {\n      root._bokeh_is_loading = css_urls.length + js_urls.length + js_modules.length + Object.keys(js_exports).length;\n    }\n\n    var existing_stylesheets = []\n    var links = document.getElementsByTagName('link')\n    for (var i = 0; i < links.length; i++) {\n      var link = links[i]\n      if (link.href != null) {\n\texisting_stylesheets.push(link.href)\n      }\n    }\n    for (var i = 0; i < css_urls.length; i++) {\n      var url = css_urls[i];\n      if (existing_stylesheets.indexOf(url) !== -1) {\n\ton_load()\n\tcontinue;\n      }\n      const element = document.createElement(\"link\");\n      element.onload = on_load;\n      element.onerror = on_error;\n      element.rel = \"stylesheet\";\n      element.type = \"text/css\";\n      element.href = url;\n      console.debug(\"Bokeh: injecting link tag for BokehJS stylesheet: \", url);\n      document.body.appendChild(element);\n    }    var existing_scripts = []\n    var scripts = document.getElementsByTagName('script')\n    for (var i = 0; i < scripts.length; i++) {\n      var script = scripts[i]\n      if (script.src != null) {\n\texisting_scripts.push(script.src)\n      }\n    }\n    for (var i = 0; i < js_urls.length; i++) {\n      var url = js_urls[i];\n      if (skip.indexOf(url) !== -1 || existing_scripts.indexOf(url) !== -1) {\n\tif (!window.requirejs) {\n\t  on_load();\n\t}\n\tcontinue;\n      }\n      var element = document.createElement('script');\n      element.onload = on_load;\n      element.onerror = on_error;\n      element.async = false;\n      element.src = url;\n      console.debug(\"Bokeh: injecting script tag for BokehJS library: \", url);\n      document.head.appendChild(element);\n    }\n    for (var i = 0; i < js_modules.length; i++) {\n      var url = js_modules[i];\n      if (skip.indexOf(url) !== -1 || existing_scripts.indexOf(url) !== -1) {\n\tif (!window.requirejs) {\n\t  on_load();\n\t}\n\tcontinue;\n      }\n      var element = document.createElement('script');\n      element.onload = on_load;\n      element.onerror = on_error;\n      element.async = false;\n      element.src = url;\n      element.type = \"module\";\n      console.debug(\"Bokeh: injecting script tag for BokehJS library: \", url);\n      document.head.appendChild(element);\n    }\n    for (const name in js_exports) {\n      var url = js_exports[name];\n      if (skip.indexOf(url) >= 0 || root[name] != null) {\n\tif (!window.requirejs) {\n\t  on_load();\n\t}\n\tcontinue;\n      }\n      var element = document.createElement('script');\n      element.onerror = on_error;\n      element.async = false;\n      element.type = \"module\";\n      console.debug(\"Bokeh: injecting script tag for BokehJS library: \", url);\n      element.textContent = `\n      import ${name} from \"${url}\"\n      window.${name} = ${name}\n      window._bokeh_on_load()\n      `\n      document.head.appendChild(element);\n    }\n    if (!js_urls.length && !js_modules.length) {\n      on_load()\n    }\n  };\n\n  function inject_raw_css(css) {\n    const element = document.createElement(\"style\");\n    element.appendChild(document.createTextNode(css));\n    document.body.appendChild(element);\n  }\n\n  var js_urls = [\"https://cdn.bokeh.org/bokeh/release/bokeh-3.4.1.min.js\", \"https://cdn.bokeh.org/bokeh/release/bokeh-gl-3.4.1.min.js\", \"https://cdn.bokeh.org/bokeh/release/bokeh-widgets-3.4.1.min.js\", \"https://cdn.bokeh.org/bokeh/release/bokeh-tables-3.4.1.min.js\", \"https://cdn.holoviz.org/panel/1.4.2/dist/panel.min.js\"];\n  var js_modules = [];\n  var js_exports = {};\n  var css_urls = [];\n  var inline_js = [    function(Bokeh) {\n      Bokeh.set_log_level(\"info\");\n    },\nfunction(Bokeh) {} // ensure no trailing comma for IE\n  ];\n\n  function run_inline_js() {\n    if ((root.Bokeh !== undefined) || (force === true)) {\n      for (var i = 0; i < inline_js.length; i++) {\n\ttry {\n          inline_js[i].call(root, root.Bokeh);\n\t} catch(e) {\n\t  if (!reloading) {\n\t    throw e;\n\t  }\n\t}\n      }\n      // Cache old bokeh versions\n      if (Bokeh != undefined && !reloading) {\n\tvar NewBokeh = root.Bokeh;\n\tif (Bokeh.versions === undefined) {\n\t  Bokeh.versions = new Map();\n\t}\n\tif (NewBokeh.version !== Bokeh.version) {\n\t  Bokeh.versions.set(NewBokeh.version, NewBokeh)\n\t}\n\troot.Bokeh = Bokeh;\n      }} else if (Date.now() < root._bokeh_timeout) {\n      setTimeout(run_inline_js, 100);\n    } else if (!root._bokeh_failed_load) {\n      console.log(\"Bokeh: BokehJS failed to load within specified timeout.\");\n      root._bokeh_failed_load = true;\n    }\n    root._bokeh_is_initializing = false\n  }\n\n  function load_or_wait() {\n    // Implement a backoff loop that tries to ensure we do not load multiple\n    // versions of Bokeh and its dependencies at the same time.\n    // In recent versions we use the root._bokeh_is_initializing flag\n    // to determine whether there is an ongoing attempt to initialize\n    // bokeh, however for backward compatibility we also try to ensure\n    // that we do not start loading a newer (Panel>=1.0 and Bokeh>3) version\n    // before older versions are fully initialized.\n    if (root._bokeh_is_initializing && Date.now() > root._bokeh_timeout) {\n      root._bokeh_is_initializing = false;\n      root._bokeh_onload_callbacks = undefined;\n      console.log(\"Bokeh: BokehJS was loaded multiple times but one version failed to initialize.\");\n      load_or_wait();\n    } else if (root._bokeh_is_initializing || (typeof root._bokeh_is_initializing === \"undefined\" && root._bokeh_onload_callbacks !== undefined)) {\n      setTimeout(load_or_wait, 100);\n    } else {\n      root._bokeh_is_initializing = true\n      root._bokeh_onload_callbacks = []\n      var bokeh_loaded = Bokeh != null && (Bokeh.version === py_version || (Bokeh.versions !== undefined && Bokeh.versions.has(py_version)));\n      if (!reloading && !bokeh_loaded) {\n\troot.Bokeh = undefined;\n      }\n      load_libs(css_urls, js_urls, js_modules, js_exports, function() {\n\tconsole.debug(\"Bokeh: BokehJS plotting callback run at\", now());\n\trun_inline_js();\n      });\n    }\n  }\n  // Give older versions of the autoload script a head-start to ensure\n  // they initialize before we start loading newer version.\n  setTimeout(load_or_wait, 100)\n}(window));"
     },
     "metadata": {},
     "output_type": "display_data"
    },
    {
     "data": {
      "application/javascript": [
       "\n",
       "if ((window.PyViz === undefined) || (window.PyViz instanceof HTMLElement)) {\n",
       "  window.PyViz = {comms: {}, comm_status:{}, kernels:{}, receivers: {}, plot_index: []}\n",
       "}\n",
       "\n",
       "\n",
       "    function JupyterCommManager() {\n",
       "    }\n",
       "\n",
       "    JupyterCommManager.prototype.register_target = function(plot_id, comm_id, msg_handler) {\n",
       "      if (window.comm_manager || ((window.Jupyter !== undefined) && (Jupyter.notebook.kernel != null))) {\n",
       "        var comm_manager = window.comm_manager || Jupyter.notebook.kernel.comm_manager;\n",
       "        comm_manager.register_target(comm_id, function(comm) {\n",
       "          comm.on_msg(msg_handler);\n",
       "        });\n",
       "      } else if ((plot_id in window.PyViz.kernels) && (window.PyViz.kernels[plot_id])) {\n",
       "        window.PyViz.kernels[plot_id].registerCommTarget(comm_id, function(comm) {\n",
       "          comm.onMsg = msg_handler;\n",
       "        });\n",
       "      } else if (typeof google != 'undefined' && google.colab.kernel != null) {\n",
       "        google.colab.kernel.comms.registerTarget(comm_id, (comm) => {\n",
       "          var messages = comm.messages[Symbol.asyncIterator]();\n",
       "          function processIteratorResult(result) {\n",
       "            var message = result.value;\n",
       "            console.log(message)\n",
       "            var content = {data: message.data, comm_id};\n",
       "            var buffers = []\n",
       "            for (var buffer of message.buffers || []) {\n",
       "              buffers.push(new DataView(buffer))\n",
       "            }\n",
       "            var metadata = message.metadata || {};\n",
       "            var msg = {content, buffers, metadata}\n",
       "            msg_handler(msg);\n",
       "            return messages.next().then(processIteratorResult);\n",
       "          }\n",
       "          return messages.next().then(processIteratorResult);\n",
       "        })\n",
       "      }\n",
       "    }\n",
       "\n",
       "    JupyterCommManager.prototype.get_client_comm = function(plot_id, comm_id, msg_handler) {\n",
       "      if (comm_id in window.PyViz.comms) {\n",
       "        return window.PyViz.comms[comm_id];\n",
       "      } else if (window.comm_manager || ((window.Jupyter !== undefined) && (Jupyter.notebook.kernel != null))) {\n",
       "        var comm_manager = window.comm_manager || Jupyter.notebook.kernel.comm_manager;\n",
       "        var comm = comm_manager.new_comm(comm_id, {}, {}, {}, comm_id);\n",
       "        if (msg_handler) {\n",
       "          comm.on_msg(msg_handler);\n",
       "        }\n",
       "      } else if ((plot_id in window.PyViz.kernels) && (window.PyViz.kernels[plot_id])) {\n",
       "        var comm = window.PyViz.kernels[plot_id].connectToComm(comm_id);\n",
       "        comm.open();\n",
       "        if (msg_handler) {\n",
       "          comm.onMsg = msg_handler;\n",
       "        }\n",
       "      } else if (typeof google != 'undefined' && google.colab.kernel != null) {\n",
       "        var comm_promise = google.colab.kernel.comms.open(comm_id)\n",
       "        comm_promise.then((comm) => {\n",
       "          window.PyViz.comms[comm_id] = comm;\n",
       "          if (msg_handler) {\n",
       "            var messages = comm.messages[Symbol.asyncIterator]();\n",
       "            function processIteratorResult(result) {\n",
       "              var message = result.value;\n",
       "              var content = {data: message.data};\n",
       "              var metadata = message.metadata || {comm_id};\n",
       "              var msg = {content, metadata}\n",
       "              msg_handler(msg);\n",
       "              return messages.next().then(processIteratorResult);\n",
       "            }\n",
       "            return messages.next().then(processIteratorResult);\n",
       "          }\n",
       "        }) \n",
       "        var sendClosure = (data, metadata, buffers, disposeOnDone) => {\n",
       "          return comm_promise.then((comm) => {\n",
       "            comm.send(data, metadata, buffers, disposeOnDone);\n",
       "          });\n",
       "        };\n",
       "        var comm = {\n",
       "          send: sendClosure\n",
       "        };\n",
       "      }\n",
       "      window.PyViz.comms[comm_id] = comm;\n",
       "      return comm;\n",
       "    }\n",
       "    window.PyViz.comm_manager = new JupyterCommManager();\n",
       "    \n",
       "\n",
       "\n",
       "var JS_MIME_TYPE = 'application/javascript';\n",
       "var HTML_MIME_TYPE = 'text/html';\n",
       "var EXEC_MIME_TYPE = 'application/vnd.holoviews_exec.v0+json';\n",
       "var CLASS_NAME = 'output';\n",
       "\n",
       "/**\n",
       " * Render data to the DOM node\n",
       " */\n",
       "function render(props, node) {\n",
       "  var div = document.createElement(\"div\");\n",
       "  var script = document.createElement(\"script\");\n",
       "  node.appendChild(div);\n",
       "  node.appendChild(script);\n",
       "}\n",
       "\n",
       "/**\n",
       " * Handle when a new output is added\n",
       " */\n",
       "function handle_add_output(event, handle) {\n",
       "  var output_area = handle.output_area;\n",
       "  var output = handle.output;\n",
       "  if ((output.data == undefined) || (!output.data.hasOwnProperty(EXEC_MIME_TYPE))) {\n",
       "    return\n",
       "  }\n",
       "  var id = output.metadata[EXEC_MIME_TYPE][\"id\"];\n",
       "  var toinsert = output_area.element.find(\".\" + CLASS_NAME.split(' ')[0]);\n",
       "  if (id !== undefined) {\n",
       "    var nchildren = toinsert.length;\n",
       "    var html_node = toinsert[nchildren-1].children[0];\n",
       "    html_node.innerHTML = output.data[HTML_MIME_TYPE];\n",
       "    var scripts = [];\n",
       "    var nodelist = html_node.querySelectorAll(\"script\");\n",
       "    for (var i in nodelist) {\n",
       "      if (nodelist.hasOwnProperty(i)) {\n",
       "        scripts.push(nodelist[i])\n",
       "      }\n",
       "    }\n",
       "\n",
       "    scripts.forEach( function (oldScript) {\n",
       "      var newScript = document.createElement(\"script\");\n",
       "      var attrs = [];\n",
       "      var nodemap = oldScript.attributes;\n",
       "      for (var j in nodemap) {\n",
       "        if (nodemap.hasOwnProperty(j)) {\n",
       "          attrs.push(nodemap[j])\n",
       "        }\n",
       "      }\n",
       "      attrs.forEach(function(attr) { newScript.setAttribute(attr.name, attr.value) });\n",
       "      newScript.appendChild(document.createTextNode(oldScript.innerHTML));\n",
       "      oldScript.parentNode.replaceChild(newScript, oldScript);\n",
       "    });\n",
       "    if (JS_MIME_TYPE in output.data) {\n",
       "      toinsert[nchildren-1].children[1].textContent = output.data[JS_MIME_TYPE];\n",
       "    }\n",
       "    output_area._hv_plot_id = id;\n",
       "    if ((window.Bokeh !== undefined) && (id in Bokeh.index)) {\n",
       "      window.PyViz.plot_index[id] = Bokeh.index[id];\n",
       "    } else {\n",
       "      window.PyViz.plot_index[id] = null;\n",
       "    }\n",
       "  } else if (output.metadata[EXEC_MIME_TYPE][\"server_id\"] !== undefined) {\n",
       "    var bk_div = document.createElement(\"div\");\n",
       "    bk_div.innerHTML = output.data[HTML_MIME_TYPE];\n",
       "    var script_attrs = bk_div.children[0].attributes;\n",
       "    for (var i = 0; i < script_attrs.length; i++) {\n",
       "      toinsert[toinsert.length - 1].childNodes[1].setAttribute(script_attrs[i].name, script_attrs[i].value);\n",
       "    }\n",
       "    // store reference to server id on output_area\n",
       "    output_area._bokeh_server_id = output.metadata[EXEC_MIME_TYPE][\"server_id\"];\n",
       "  }\n",
       "}\n",
       "\n",
       "/**\n",
       " * Handle when an output is cleared or removed\n",
       " */\n",
       "function handle_clear_output(event, handle) {\n",
       "  var id = handle.cell.output_area._hv_plot_id;\n",
       "  var server_id = handle.cell.output_area._bokeh_server_id;\n",
       "  if (((id === undefined) || !(id in PyViz.plot_index)) && (server_id !== undefined)) { return; }\n",
       "  var comm = window.PyViz.comm_manager.get_client_comm(\"hv-extension-comm\", \"hv-extension-comm\", function () {});\n",
       "  if (server_id !== null) {\n",
       "    comm.send({event_type: 'server_delete', 'id': server_id});\n",
       "    return;\n",
       "  } else if (comm !== null) {\n",
       "    comm.send({event_type: 'delete', 'id': id});\n",
       "  }\n",
       "  delete PyViz.plot_index[id];\n",
       "  if ((window.Bokeh !== undefined) & (id in window.Bokeh.index)) {\n",
       "    var doc = window.Bokeh.index[id].model.document\n",
       "    doc.clear();\n",
       "    const i = window.Bokeh.documents.indexOf(doc);\n",
       "    if (i > -1) {\n",
       "      window.Bokeh.documents.splice(i, 1);\n",
       "    }\n",
       "  }\n",
       "}\n",
       "\n",
       "/**\n",
       " * Handle kernel restart event\n",
       " */\n",
       "function handle_kernel_cleanup(event, handle) {\n",
       "  delete PyViz.comms[\"hv-extension-comm\"];\n",
       "  window.PyViz.plot_index = {}\n",
       "}\n",
       "\n",
       "/**\n",
       " * Handle update_display_data messages\n",
       " */\n",
       "function handle_update_output(event, handle) {\n",
       "  handle_clear_output(event, {cell: {output_area: handle.output_area}})\n",
       "  handle_add_output(event, handle)\n",
       "}\n",
       "\n",
       "function register_renderer(events, OutputArea) {\n",
       "  function append_mime(data, metadata, element) {\n",
       "    // create a DOM node to render to\n",
       "    var toinsert = this.create_output_subarea(\n",
       "    metadata,\n",
       "    CLASS_NAME,\n",
       "    EXEC_MIME_TYPE\n",
       "    );\n",
       "    this.keyboard_manager.register_events(toinsert);\n",
       "    // Render to node\n",
       "    var props = {data: data, metadata: metadata[EXEC_MIME_TYPE]};\n",
       "    render(props, toinsert[0]);\n",
       "    element.append(toinsert);\n",
       "    return toinsert\n",
       "  }\n",
       "\n",
       "  events.on('output_added.OutputArea', handle_add_output);\n",
       "  events.on('output_updated.OutputArea', handle_update_output);\n",
       "  events.on('clear_output.CodeCell', handle_clear_output);\n",
       "  events.on('delete.Cell', handle_clear_output);\n",
       "  events.on('kernel_ready.Kernel', handle_kernel_cleanup);\n",
       "\n",
       "  OutputArea.prototype.register_mime_type(EXEC_MIME_TYPE, append_mime, {\n",
       "    safe: true,\n",
       "    index: 0\n",
       "  });\n",
       "}\n",
       "\n",
       "if (window.Jupyter !== undefined) {\n",
       "  try {\n",
       "    var events = require('base/js/events');\n",
       "    var OutputArea = require('notebook/js/outputarea').OutputArea;\n",
       "    if (OutputArea.prototype.mime_types().indexOf(EXEC_MIME_TYPE) == -1) {\n",
       "      register_renderer(events, OutputArea);\n",
       "    }\n",
       "  } catch(err) {\n",
       "  }\n",
       "}\n"
      ],
      "application/vnd.holoviews_load.v0+json": "\nif ((window.PyViz === undefined) || (window.PyViz instanceof HTMLElement)) {\n  window.PyViz = {comms: {}, comm_status:{}, kernels:{}, receivers: {}, plot_index: []}\n}\n\n\n    function JupyterCommManager() {\n    }\n\n    JupyterCommManager.prototype.register_target = function(plot_id, comm_id, msg_handler) {\n      if (window.comm_manager || ((window.Jupyter !== undefined) && (Jupyter.notebook.kernel != null))) {\n        var comm_manager = window.comm_manager || Jupyter.notebook.kernel.comm_manager;\n        comm_manager.register_target(comm_id, function(comm) {\n          comm.on_msg(msg_handler);\n        });\n      } else if ((plot_id in window.PyViz.kernels) && (window.PyViz.kernels[plot_id])) {\n        window.PyViz.kernels[plot_id].registerCommTarget(comm_id, function(comm) {\n          comm.onMsg = msg_handler;\n        });\n      } else if (typeof google != 'undefined' && google.colab.kernel != null) {\n        google.colab.kernel.comms.registerTarget(comm_id, (comm) => {\n          var messages = comm.messages[Symbol.asyncIterator]();\n          function processIteratorResult(result) {\n            var message = result.value;\n            console.log(message)\n            var content = {data: message.data, comm_id};\n            var buffers = []\n            for (var buffer of message.buffers || []) {\n              buffers.push(new DataView(buffer))\n            }\n            var metadata = message.metadata || {};\n            var msg = {content, buffers, metadata}\n            msg_handler(msg);\n            return messages.next().then(processIteratorResult);\n          }\n          return messages.next().then(processIteratorResult);\n        })\n      }\n    }\n\n    JupyterCommManager.prototype.get_client_comm = function(plot_id, comm_id, msg_handler) {\n      if (comm_id in window.PyViz.comms) {\n        return window.PyViz.comms[comm_id];\n      } else if (window.comm_manager || ((window.Jupyter !== undefined) && (Jupyter.notebook.kernel != null))) {\n        var comm_manager = window.comm_manager || Jupyter.notebook.kernel.comm_manager;\n        var comm = comm_manager.new_comm(comm_id, {}, {}, {}, comm_id);\n        if (msg_handler) {\n          comm.on_msg(msg_handler);\n        }\n      } else if ((plot_id in window.PyViz.kernels) && (window.PyViz.kernels[plot_id])) {\n        var comm = window.PyViz.kernels[plot_id].connectToComm(comm_id);\n        comm.open();\n        if (msg_handler) {\n          comm.onMsg = msg_handler;\n        }\n      } else if (typeof google != 'undefined' && google.colab.kernel != null) {\n        var comm_promise = google.colab.kernel.comms.open(comm_id)\n        comm_promise.then((comm) => {\n          window.PyViz.comms[comm_id] = comm;\n          if (msg_handler) {\n            var messages = comm.messages[Symbol.asyncIterator]();\n            function processIteratorResult(result) {\n              var message = result.value;\n              var content = {data: message.data};\n              var metadata = message.metadata || {comm_id};\n              var msg = {content, metadata}\n              msg_handler(msg);\n              return messages.next().then(processIteratorResult);\n            }\n            return messages.next().then(processIteratorResult);\n          }\n        }) \n        var sendClosure = (data, metadata, buffers, disposeOnDone) => {\n          return comm_promise.then((comm) => {\n            comm.send(data, metadata, buffers, disposeOnDone);\n          });\n        };\n        var comm = {\n          send: sendClosure\n        };\n      }\n      window.PyViz.comms[comm_id] = comm;\n      return comm;\n    }\n    window.PyViz.comm_manager = new JupyterCommManager();\n    \n\n\nvar JS_MIME_TYPE = 'application/javascript';\nvar HTML_MIME_TYPE = 'text/html';\nvar EXEC_MIME_TYPE = 'application/vnd.holoviews_exec.v0+json';\nvar CLASS_NAME = 'output';\n\n/**\n * Render data to the DOM node\n */\nfunction render(props, node) {\n  var div = document.createElement(\"div\");\n  var script = document.createElement(\"script\");\n  node.appendChild(div);\n  node.appendChild(script);\n}\n\n/**\n * Handle when a new output is added\n */\nfunction handle_add_output(event, handle) {\n  var output_area = handle.output_area;\n  var output = handle.output;\n  if ((output.data == undefined) || (!output.data.hasOwnProperty(EXEC_MIME_TYPE))) {\n    return\n  }\n  var id = output.metadata[EXEC_MIME_TYPE][\"id\"];\n  var toinsert = output_area.element.find(\".\" + CLASS_NAME.split(' ')[0]);\n  if (id !== undefined) {\n    var nchildren = toinsert.length;\n    var html_node = toinsert[nchildren-1].children[0];\n    html_node.innerHTML = output.data[HTML_MIME_TYPE];\n    var scripts = [];\n    var nodelist = html_node.querySelectorAll(\"script\");\n    for (var i in nodelist) {\n      if (nodelist.hasOwnProperty(i)) {\n        scripts.push(nodelist[i])\n      }\n    }\n\n    scripts.forEach( function (oldScript) {\n      var newScript = document.createElement(\"script\");\n      var attrs = [];\n      var nodemap = oldScript.attributes;\n      for (var j in nodemap) {\n        if (nodemap.hasOwnProperty(j)) {\n          attrs.push(nodemap[j])\n        }\n      }\n      attrs.forEach(function(attr) { newScript.setAttribute(attr.name, attr.value) });\n      newScript.appendChild(document.createTextNode(oldScript.innerHTML));\n      oldScript.parentNode.replaceChild(newScript, oldScript);\n    });\n    if (JS_MIME_TYPE in output.data) {\n      toinsert[nchildren-1].children[1].textContent = output.data[JS_MIME_TYPE];\n    }\n    output_area._hv_plot_id = id;\n    if ((window.Bokeh !== undefined) && (id in Bokeh.index)) {\n      window.PyViz.plot_index[id] = Bokeh.index[id];\n    } else {\n      window.PyViz.plot_index[id] = null;\n    }\n  } else if (output.metadata[EXEC_MIME_TYPE][\"server_id\"] !== undefined) {\n    var bk_div = document.createElement(\"div\");\n    bk_div.innerHTML = output.data[HTML_MIME_TYPE];\n    var script_attrs = bk_div.children[0].attributes;\n    for (var i = 0; i < script_attrs.length; i++) {\n      toinsert[toinsert.length - 1].childNodes[1].setAttribute(script_attrs[i].name, script_attrs[i].value);\n    }\n    // store reference to server id on output_area\n    output_area._bokeh_server_id = output.metadata[EXEC_MIME_TYPE][\"server_id\"];\n  }\n}\n\n/**\n * Handle when an output is cleared or removed\n */\nfunction handle_clear_output(event, handle) {\n  var id = handle.cell.output_area._hv_plot_id;\n  var server_id = handle.cell.output_area._bokeh_server_id;\n  if (((id === undefined) || !(id in PyViz.plot_index)) && (server_id !== undefined)) { return; }\n  var comm = window.PyViz.comm_manager.get_client_comm(\"hv-extension-comm\", \"hv-extension-comm\", function () {});\n  if (server_id !== null) {\n    comm.send({event_type: 'server_delete', 'id': server_id});\n    return;\n  } else if (comm !== null) {\n    comm.send({event_type: 'delete', 'id': id});\n  }\n  delete PyViz.plot_index[id];\n  if ((window.Bokeh !== undefined) & (id in window.Bokeh.index)) {\n    var doc = window.Bokeh.index[id].model.document\n    doc.clear();\n    const i = window.Bokeh.documents.indexOf(doc);\n    if (i > -1) {\n      window.Bokeh.documents.splice(i, 1);\n    }\n  }\n}\n\n/**\n * Handle kernel restart event\n */\nfunction handle_kernel_cleanup(event, handle) {\n  delete PyViz.comms[\"hv-extension-comm\"];\n  window.PyViz.plot_index = {}\n}\n\n/**\n * Handle update_display_data messages\n */\nfunction handle_update_output(event, handle) {\n  handle_clear_output(event, {cell: {output_area: handle.output_area}})\n  handle_add_output(event, handle)\n}\n\nfunction register_renderer(events, OutputArea) {\n  function append_mime(data, metadata, element) {\n    // create a DOM node to render to\n    var toinsert = this.create_output_subarea(\n    metadata,\n    CLASS_NAME,\n    EXEC_MIME_TYPE\n    );\n    this.keyboard_manager.register_events(toinsert);\n    // Render to node\n    var props = {data: data, metadata: metadata[EXEC_MIME_TYPE]};\n    render(props, toinsert[0]);\n    element.append(toinsert);\n    return toinsert\n  }\n\n  events.on('output_added.OutputArea', handle_add_output);\n  events.on('output_updated.OutputArea', handle_update_output);\n  events.on('clear_output.CodeCell', handle_clear_output);\n  events.on('delete.Cell', handle_clear_output);\n  events.on('kernel_ready.Kernel', handle_kernel_cleanup);\n\n  OutputArea.prototype.register_mime_type(EXEC_MIME_TYPE, append_mime, {\n    safe: true,\n    index: 0\n  });\n}\n\nif (window.Jupyter !== undefined) {\n  try {\n    var events = require('base/js/events');\n    var OutputArea = require('notebook/js/outputarea').OutputArea;\n    if (OutputArea.prototype.mime_types().indexOf(EXEC_MIME_TYPE) == -1) {\n      register_renderer(events, OutputArea);\n    }\n  } catch(err) {\n  }\n}\n"
     },
     "metadata": {},
     "output_type": "display_data"
    },
    {
     "data": {
      "text/html": [
       "<style>*[data-root-id],\n",
       "*[data-root-id] > * {\n",
       "  box-sizing: border-box;\n",
       "  font-family: var(--jp-ui-font-family);\n",
       "  font-size: var(--jp-ui-font-size1);\n",
       "  color: var(--vscode-editor-foreground, var(--jp-ui-font-color1));\n",
       "}\n",
       "\n",
       "/* Override VSCode background color */\n",
       ".cell-output-ipywidget-background:has(\n",
       "    > .cell-output-ipywidget-background > .lm-Widget > *[data-root-id]\n",
       "  ),\n",
       ".cell-output-ipywidget-background:has(> .lm-Widget > *[data-root-id]) {\n",
       "  background-color: transparent !important;\n",
       "}\n",
       "</style>"
      ]
     },
     "metadata": {},
     "output_type": "display_data"
    },
    {
     "data": {
      "application/vnd.holoviews_exec.v0+json": "",
      "text/html": [
       "<div id='p1004'>\n",
       "  <div id=\"bd128f91-8808-4551-8300-d20b2584a43d\" data-root-id=\"p1004\" style=\"display: contents;\"></div>\n",
       "</div>\n",
       "<script type=\"application/javascript\">(function(root) {\n",
       "  var docs_json = {\"85ce425c-57a8-4c82-8364-319f77a2b895\":{\"version\":\"3.4.1\",\"title\":\"Bokeh Application\",\"roots\":[{\"type\":\"object\",\"name\":\"panel.models.browser.BrowserInfo\",\"id\":\"p1004\"},{\"type\":\"object\",\"name\":\"panel.models.comm_manager.CommManager\",\"id\":\"p1005\",\"attributes\":{\"plot_id\":\"p1004\",\"comm_id\":\"de3b6124871a4d2faad504c83bbdd809\",\"client_comm_id\":\"a25b9f20f92848dfa762581a5f326822\"}}],\"defs\":[{\"type\":\"model\",\"name\":\"ReactiveHTML1\"},{\"type\":\"model\",\"name\":\"FlexBox1\",\"properties\":[{\"name\":\"align_content\",\"kind\":\"Any\",\"default\":\"flex-start\"},{\"name\":\"align_items\",\"kind\":\"Any\",\"default\":\"flex-start\"},{\"name\":\"flex_direction\",\"kind\":\"Any\",\"default\":\"row\"},{\"name\":\"flex_wrap\",\"kind\":\"Any\",\"default\":\"wrap\"},{\"name\":\"gap\",\"kind\":\"Any\",\"default\":\"\"},{\"name\":\"justify_content\",\"kind\":\"Any\",\"default\":\"flex-start\"}]},{\"type\":\"model\",\"name\":\"FloatPanel1\",\"properties\":[{\"name\":\"config\",\"kind\":\"Any\",\"default\":{\"type\":\"map\"}},{\"name\":\"contained\",\"kind\":\"Any\",\"default\":true},{\"name\":\"position\",\"kind\":\"Any\",\"default\":\"right-top\"},{\"name\":\"offsetx\",\"kind\":\"Any\",\"default\":null},{\"name\":\"offsety\",\"kind\":\"Any\",\"default\":null},{\"name\":\"theme\",\"kind\":\"Any\",\"default\":\"primary\"},{\"name\":\"status\",\"kind\":\"Any\",\"default\":\"normalized\"}]},{\"type\":\"model\",\"name\":\"GridStack1\",\"properties\":[{\"name\":\"mode\",\"kind\":\"Any\",\"default\":\"warn\"},{\"name\":\"ncols\",\"kind\":\"Any\",\"default\":null},{\"name\":\"nrows\",\"kind\":\"Any\",\"default\":null},{\"name\":\"allow_resize\",\"kind\":\"Any\",\"default\":true},{\"name\":\"allow_drag\",\"kind\":\"Any\",\"default\":true},{\"name\":\"state\",\"kind\":\"Any\",\"default\":[]}]},{\"type\":\"model\",\"name\":\"drag1\",\"properties\":[{\"name\":\"slider_width\",\"kind\":\"Any\",\"default\":5},{\"name\":\"slider_color\",\"kind\":\"Any\",\"default\":\"black\"},{\"name\":\"value\",\"kind\":\"Any\",\"default\":50}]},{\"type\":\"model\",\"name\":\"click1\",\"properties\":[{\"name\":\"terminal_output\",\"kind\":\"Any\",\"default\":\"\"},{\"name\":\"debug_name\",\"kind\":\"Any\",\"default\":\"\"},{\"name\":\"clears\",\"kind\":\"Any\",\"default\":0}]},{\"type\":\"model\",\"name\":\"FastWrapper1\",\"properties\":[{\"name\":\"object\",\"kind\":\"Any\",\"default\":null},{\"name\":\"style\",\"kind\":\"Any\",\"default\":null}]},{\"type\":\"model\",\"name\":\"NotificationAreaBase1\",\"properties\":[{\"name\":\"js_events\",\"kind\":\"Any\",\"default\":{\"type\":\"map\"}},{\"name\":\"position\",\"kind\":\"Any\",\"default\":\"bottom-right\"},{\"name\":\"_clear\",\"kind\":\"Any\",\"default\":0}]},{\"type\":\"model\",\"name\":\"NotificationArea1\",\"properties\":[{\"name\":\"js_events\",\"kind\":\"Any\",\"default\":{\"type\":\"map\"}},{\"name\":\"notifications\",\"kind\":\"Any\",\"default\":[]},{\"name\":\"position\",\"kind\":\"Any\",\"default\":\"bottom-right\"},{\"name\":\"_clear\",\"kind\":\"Any\",\"default\":0},{\"name\":\"types\",\"kind\":\"Any\",\"default\":[{\"type\":\"map\",\"entries\":[[\"type\",\"warning\"],[\"background\",\"#ffc107\"],[\"icon\",{\"type\":\"map\",\"entries\":[[\"className\",\"fas fa-exclamation-triangle\"],[\"tagName\",\"i\"],[\"color\",\"white\"]]}]]},{\"type\":\"map\",\"entries\":[[\"type\",\"info\"],[\"background\",\"#007bff\"],[\"icon\",{\"type\":\"map\",\"entries\":[[\"className\",\"fas fa-info-circle\"],[\"tagName\",\"i\"],[\"color\",\"white\"]]}]]}]}]},{\"type\":\"model\",\"name\":\"Notification\",\"properties\":[{\"name\":\"background\",\"kind\":\"Any\",\"default\":null},{\"name\":\"duration\",\"kind\":\"Any\",\"default\":3000},{\"name\":\"icon\",\"kind\":\"Any\",\"default\":null},{\"name\":\"message\",\"kind\":\"Any\",\"default\":\"\"},{\"name\":\"notification_type\",\"kind\":\"Any\",\"default\":null},{\"name\":\"_destroyed\",\"kind\":\"Any\",\"default\":false}]},{\"type\":\"model\",\"name\":\"TemplateActions1\",\"properties\":[{\"name\":\"open_modal\",\"kind\":\"Any\",\"default\":0},{\"name\":\"close_modal\",\"kind\":\"Any\",\"default\":0}]},{\"type\":\"model\",\"name\":\"BootstrapTemplateActions1\",\"properties\":[{\"name\":\"open_modal\",\"kind\":\"Any\",\"default\":0},{\"name\":\"close_modal\",\"kind\":\"Any\",\"default\":0}]},{\"type\":\"model\",\"name\":\"TemplateEditor1\",\"properties\":[{\"name\":\"layout\",\"kind\":\"Any\",\"default\":[]}]},{\"type\":\"model\",\"name\":\"MaterialTemplateActions1\",\"properties\":[{\"name\":\"open_modal\",\"kind\":\"Any\",\"default\":0},{\"name\":\"close_modal\",\"kind\":\"Any\",\"default\":0}]},{\"type\":\"model\",\"name\":\"copy_to_clipboard1\",\"properties\":[{\"name\":\"fill\",\"kind\":\"Any\",\"default\":\"none\"},{\"name\":\"value\",\"kind\":\"Any\",\"default\":null}]}]}};\n",
       "  var render_items = [{\"docid\":\"85ce425c-57a8-4c82-8364-319f77a2b895\",\"roots\":{\"p1004\":\"bd128f91-8808-4551-8300-d20b2584a43d\"},\"root_ids\":[\"p1004\"]}];\n",
       "  var docs = Object.values(docs_json)\n",
       "  if (!docs) {\n",
       "    return\n",
       "  }\n",
       "  const py_version = docs[0].version.replace('rc', '-rc.').replace('.dev', '-dev.')\n",
       "  function embed_document(root) {\n",
       "    var Bokeh = get_bokeh(root)\n",
       "    Bokeh.embed.embed_items_notebook(docs_json, render_items);\n",
       "    for (const render_item of render_items) {\n",
       "      for (const root_id of render_item.root_ids) {\n",
       "\tconst id_el = document.getElementById(root_id)\n",
       "\tif (id_el.children.length && (id_el.children[0].className === 'bk-root')) {\n",
       "\t  const root_el = id_el.children[0]\n",
       "\t  root_el.id = root_el.id + '-rendered'\n",
       "\t}\n",
       "      }\n",
       "    }\n",
       "  }\n",
       "  function get_bokeh(root) {\n",
       "    if (root.Bokeh === undefined) {\n",
       "      return null\n",
       "    } else if (root.Bokeh.version !== py_version) {\n",
       "      if (root.Bokeh.versions === undefined || !root.Bokeh.versions.has(py_version)) {\n",
       "\treturn null\n",
       "      }\n",
       "      return root.Bokeh.versions.get(py_version);\n",
       "    } else if (root.Bokeh.version === py_version) {\n",
       "      return root.Bokeh\n",
       "    }\n",
       "    return null\n",
       "  }\n",
       "  function is_loaded(root) {\n",
       "    var Bokeh = get_bokeh(root)\n",
       "    return (Bokeh != null && Bokeh.Panel !== undefined)\n",
       "  }\n",
       "  if (is_loaded(root)) {\n",
       "    embed_document(root);\n",
       "  } else {\n",
       "    var attempts = 0;\n",
       "    var timer = setInterval(function(root) {\n",
       "      if (is_loaded(root)) {\n",
       "        clearInterval(timer);\n",
       "        embed_document(root);\n",
       "      } else if (document.readyState == \"complete\") {\n",
       "        attempts++;\n",
       "        if (attempts > 200) {\n",
       "          clearInterval(timer);\n",
       "\t  var Bokeh = get_bokeh(root)\n",
       "\t  if (Bokeh == null || Bokeh.Panel == null) {\n",
       "            console.warn(\"Panel: ERROR: Unable to run Panel code because Bokeh or Panel library is missing\");\n",
       "\t  } else {\n",
       "\t    console.warn(\"Panel: WARNING: Attempting to render but not all required libraries could be resolved.\")\n",
       "\t    embed_document(root)\n",
       "\t  }\n",
       "        }\n",
       "      }\n",
       "    }, 25, root)\n",
       "  }\n",
       "})(window);</script>"
      ]
     },
     "metadata": {
      "application/vnd.holoviews_exec.v0+json": {
       "id": "p1004"
      }
     },
     "output_type": "display_data"
    },
    {
     "data": {
      "text/html": [
       "\n",
       "<div class=\"logo-block\">\n",
       "<img src='data:image/png;base64,iVBORw0KGgoAAAANSUhEUgAAAEAAAABACAYAAACqaXHeAAAABHNCSVQICAgIfAhkiAAAAAlwSFlz\n",
       "AAAB+wAAAfsBxc2miwAAABl0RVh0U29mdHdhcmUAd3d3Lmlua3NjYXBlLm9yZ5vuPBoAAA6zSURB\n",
       "VHic7ZtpeFRVmsf/5966taWqUlUJ2UioBBJiIBAwCZtog9IOgjqACsogKtqirT2ttt069nQ/zDzt\n",
       "tI4+CrJIREFaFgWhBXpUNhHZQoKBkIUASchWla1S+3ar7r1nPkDaCAnZKoQP/D7mnPOe9/xy76n3\n",
       "nFSAW9ziFoPFNED2LLK5wcyBDObkb8ZkxuaoSYlI6ZcOKq1eWFdedqNzGHQBk9RMEwFAASkk0Xw3\n",
       "ETacDNi2vtvc7L0ROdw0AjoSotQVkKSvHQz/wRO1lScGModBFbDMaNRN1A4tUBCS3lk7BWhQkgpD\n",
       "lG4852/+7DWr1R3uHAZVQDsbh6ZPN7CyxUrCzJMRouusj0ipRwD2uKm0Zn5d2dFwzX1TCGhnmdGo\n",
       "G62Nna+isiUqhkzuKrkQaJlPEv5mFl2fvGg2t/VnzkEV8F5ioioOEWkLG86fvbpthynjdhXYZziQ\n",
       "x1hC9J2NFyi8vCTt91Fh04KGip0AaG9zuCk2wQCVyoNU3Hjezee9bq92duzzTmxsRJoy+jEZZZYo\n",
       "GTKJ6SJngdJqAfRzpze0+jHreUtPc7gpBLQnIYK6BYp/uGhw9YK688eu7v95ysgshcg9qSLMo3JC\n",
       "4jqLKQFBgdKDPoQ+Pltb8dUyQLpeDjeVgI6EgLIQFT5tEl3rn2losHVsexbZ3EyT9wE1uGdkIPcy\n",
       "BGxn8QUq1QrA5nqW5i2tLqvrrM9NK6AdkVIvL9E9bZL/oyfMVd/jqvc8LylzRBKDJSzIExwhQzuL\n",
       "QYGQj4rHfFTc8mUdu3E7yoLtbTe9gI4EqVgVkug2i5+uXGo919ixbRog+3fTbQ8qJe4ZOYNfMoTI\n",
       "OoshUNosgO60AisX15aeI2PSIp5KiFLI9ubb1vV3Qb2ltwLakUCDAkWX7/nHKRmmGIl9VgYsUhJm\n",
       "2NXjKYADtM1ygne9QQDIXlk49FBstMKx66D1v4+XuQr7vqTe0VcBHQlRWiOCbmmSYe2SqtL6q5rJ\n",
       "zsTb7lKx3FKOYC4DoqyS/B5bvLPxvD9Qtf6saxYLQGJErmDOdOMr/zo96km1nElr8bmPOBwI9COv\n",
       "HnFPRIwmkSOv9kcAS4heRsidOkpeWBgZM+UBrTFAXNYL5Vf2ii9c1trNzpYdaoVil3WIc+wdk+gQ\n",
       "noie3ecCcxt9ITcLAPWt/laGEO/9U6PmzZkenTtsSMQ8uYywJVW+grCstAvCIaAdArAsIWkRDDs/\n",
       "KzLm2YcjY1Lv0UdW73HabE9n6V66cxSzfEmuJssTpKGVp+0vHq73FwL46eOjpMpbRAnNmJFrGJNu\n",
       "Ukf9Yrz+3rghiumCKNXXWPhLYcjxGsIpoCMsIRoFITkW8AuyM8jC1+/QLx4bozCEJIq38+1rtpR6\n",
       "V/yzb8eBlRb3fo5l783N0CWolAzJHaVNzkrTzlEp2bQ2q3TC5gn6wpnoQAmwSiGh2GitnTmVMc5O\n",
       "UyfKWUKCIsU7+fZDKwqdT6DDpvkzAX4/+AMFjk0tDp5GRXLpQ2MUmhgDp5gxQT8+Y7hyPsMi8uxF\n",
       "71H0oebujHALECjFKaW9Lm68n18wXp2kVzIcABytD5iXFzg+WVXkegpAsOOYziqo0OkK76GyquC3\n",
       "ltZAzMhhqlSNmmWTE5T6e3IN05ITFLM4GdN0vtZ3ob8Jh1NAKXFbm5PtLU/eqTSlGjkNAJjdgn/N\n",
       "aedXa0tdi7+t9G0FIF49rtMSEgAs1kDLkTPO7ebm4IUWeyh1bKomXqlgMG6kJmHcSM0clYLJ8XtR\n",
       "1GTnbV3F6I5wCGikAb402npp1h1s7LQUZZSMIfALFOuL3UUrfnS8+rez7v9qcold5tilgHbO1fjK\n",
       "9ubb17u9oshxzMiUBKXWqJNxd+fqb0tLVs4lILFnK71H0Ind7uiPgACVcFJlrb0tV6DzxqqTIhUM\n",
       "CwDf1/rrVhTa33/3pGPxJYdQ2l2cbgVcQSosdx8uqnDtbGjh9SlDVSMNWhlnilfqZk42Th2ZpLpf\n",
       "xrHec5e815zrr0dfBZSwzkZfqsv+1FS1KUknUwPARVvItfKUY+cn57yP7qv07UE3p8B2uhUwLk09\n",
       "e0SCOrK+hbdYHYLjRIl71wWzv9jpEoeOHhGRrJAzyEyNiJuUqX0g2sBN5kGK6y2Blp5M3lsB9Qh4\n",
       "y2Ja6x6+i0ucmKgwMATwhSjdUu49tKrQ/pvN5d53ml2CGwCmJipmKjgmyuaXzNeL2a0AkQ01Th5j\n",
       "2DktO3Jyk8f9vcOBQHV94OK+fPumJmvQHxJoWkaKWq9Vs+yUsbq0zGT1I4RgeH2b5wef7+c7bl8F\n",
       "eKgoHVVZa8ZPEORzR6sT1BzDUAD/d9F78e2Tzv99v8D+fLVTqAKAsbGamKey1Mt9Ann4eH3gTXTz\n",
       "idWtAJ8PQWOk7NzSeQn/OTHDuEikVF1R4z8BQCy+6D1aWRfY0tTGG2OM8rRoPaeIj5ZHzJxszElN\n",
       "VM8K8JS5WOfv8mzRnQAKoEhmt8gyPM4lU9SmBK1MCQBnW4KONT86v1hZ1PbwSXPw4JWussVjtH9Y\n",
       "NCoiL9UoH/6PSu8jFrfY2t36erQHXLIEakMi1SydmzB31h3GGXFDFNPaK8Rme9B79Ixrd0WN+1ij\n",
       "NRQ/doRmuFLBkHSTOm5GruG+pFjFdAmorG4IXH1Qua6ASniclfFtDYt+oUjKipPrCQB7QBQ2lrgP\n",
       "fFzm+9XWUtcqJ3/5vDLDpJ79XHZk3u8nGZ42qlj1+ydtbxysCezrydp6ugmipNJ7WBPB5tydY0jP\n",
       "HaVNzs3QzeE4ZpTbI+ZbnSFPbVOw9vsfnVvqWnirPyCNGD08IlqtYkh2hjZ5dErEQzoNm+6ykyOt\n",
       "Lt5/PQEuSRRKo22VkydK+vvS1XEKlhCJAnsqvcVvH7f/ZU2R67eXbMEGAMiIV5oWZWiWvz5Fv2xG\n",
       "sjqNJQRvn3Rs2lji/lNP19VjAQDgD7FHhujZB9OGqYxRkZxixgRDVlqS6uEOFaJUVu0rPFzctrnF\n",
       "JqijImVp8dEKVWyUXDk92zAuMZ6bFwpBU1HrOw6AdhQgUooChb0+ItMbWJitSo5Ws3IAOGEOtL53\n",
       "0vHZih9sC4vtofZ7Qu6523V/fmGcds1TY3V36pUsBwAbSlxnVh2xLfAD/IAIMDf7XYIkNmXfpp2l\n",
       "18rkAJAy9HKFaIr/qULkeQQKy9zf1JgDB2uaeFNGijo5QsUyacNUUTOnGO42xSnv4oOwpDi1zYkc\n",
       "efUc3I5Gk6PhyTuVKaOGyLUAYPGIoY9Pu/atL/L92+4q9wbflRJ2Trpm/jPjdBtfnqB/dIThcl8A\n",
       "KG7hbRuKnb8qsQsVvVlTrwQAQMUlf3kwJI24Z4JhPMtcfng5GcH49GsrxJpGvvHIaeem2ma+KSjQ\n",
       "lIwUdYyCY8j4dE1KzijNnIP2llF2wcXNnsoapw9XxsgYAl6k+KzUXbi2yP3KR2ecf6z3BFsBICdW\n",
       "nvnIaG3eHybqX7vbpEqUMT+9OL4Qpe8VON7dXuFd39v19FoAABRVePbGGuXTszO0P7tu6lghUonE\n",
       "llRdrhArLvmKdh9u29jcFiRRkfLUxBiFNiqSU9icoZQHo5mYBI1MBgBH6wMNb+U7Pnw337H4gi1Y\n",
       "ciWs+uks3Z9fztUvfzxTm9Ne8XXkvQLHNytOOZeiD4e0PgkAIAYCYknKUNUDSXEKzdWNpnil7r4p\n",
       "xqkjTarZMtk/K8TQ6Qve78qqvXurGwIJqcOUKfUWHsm8KGvxSP68YudXq4pcj39X49uOK2X142O0\n",
       "Tz5/u/7TVybqH0rSya6ZBwD21/gubbrgWdDgEOx9WUhfBaC2ibcEBYm7a7x+ukrBMNcEZggyR0TE\n",
       "T8zUPjikQ4VosQZbTpS4vqizBKvqmvjsqnpfzaZyx9JPiz1/bfGKdgD45XB1zoIMzYbfTdS/NClB\n",
       "Gct0USiY3YL/g0LHy/uq/Ef6uo5+n0R/vyhp17Klpge763f8rMu6YU/zrn2nml+2WtH+Z+5IAAFc\n",
       "2bUTdTDOSNa9+cQY7YLsOIXhevEkCvzph7a8laecz/Un/z4/Ae04XeL3UQb57IwU9ZDr9UuKVajv\n",
       "nxp1+1UVIo/LjztZkKH59fO3G/JemqCfmaCRqbqbd90ZZ8FfjtkfAyD0J/9+C2h1hDwsSxvGjNDc\n",
       "b4zk5NfrSwiQblLHzZhg+Jf4aPlUwpDqkQqa9nimbt1/TDH8OitGMaQnj+RJS6B1fbF7SY1TqO5v\n",
       "/v0WAADl1f7zokgS7s7VT2DZ7pegUjBM7mjtiDZbcN4j0YrHH0rXpCtY0qPX0cVL0rv5jv/ZXend\n",
       "0u/EESYBAFBU4T4Qa5TflZOhTe7pmKpaP8kCVUVw1+yhXfJWvn1P3hnXi33JsTN6PnP3hHZ8Z3/h\n",
       "aLHzmkNPuPj7Bc/F/Q38CwjTpSwQXgE4Vmwry9tpfq/ZFgqFMy4AVDtCvi8rvMvOmv0N4YwbVgEA\n",
       "sPM72/KVnzfspmH7HQGCRLG2yL1+z8XwvPcdCbsAANh+xPzstgMtxeGKt+6MK3/tacfvwhWvIwMi\n",
       "oKEBtm0H7W+UVfkc/Y1V0BhoPlDr/w1w/eu1vjIgAgDg22OtX6/eYfnEz/focrZTHAFR+PSs56/7\n",
       "q32nwpjazxgwAQCwcU/T62t3WL7r6/jVRa6/byp1rei+Z98ZUAEAhEPHPc8fKnTU9nbgtnOe8h0l\n",
       "9hcGIqmODLQAHCy2Xti6v/XNRivf43f4fFvIteu854+VHnR7q9tfBlwAAGz+pnndB9vM26UebAe8\n",
       "SLHujPOTPVW+rwY+sxskAAC2HrA8t2Vvc7ffP1r9o+vwR2dcr92InIAbKKC1FZ5tB1tf+/G8p8sv\n",
       "N/9Q5zd/XR34LYCwV5JdccMEAMDBk45DH243r/X4xGvqxFa/GNpS7n6rwOwNWwHVE26oAADYurf1\n",
       "zx/utOzt+DMKYM0p17YtZZ5VNzqfsB2HewG1WXE8PoZ7gOclbTIvynZf9JV+fqZtfgs/8F/Nu5rB\n",
       "EIBmJ+8QRMmpU7EzGRsf2FzuePqYRbzh/zE26EwdrT10f6r6o8HOYzCJB9Dpff8tbnGLG8L/A/WE\n",
       "roTBs2RqAAAAAElFTkSuQmCC'\n",
       "     style='height:25px; border-radius:12px; display: inline-block; float: left; vertical-align: middle'></img>\n",
       "\n",
       "\n",
       "  <img src='data:image/png;base64,iVBORw0KGgoAAAANSUhEUgAAACMAAAAjCAYAAAAe2bNZAAAABHNCSVQICAgIfAhkiAAAAAlwSFlzAAAK6wAACusBgosNWgAAABx0RVh0U29mdHdhcmUAQWRvYmUgRmlyZXdvcmtzIENTNui8sowAAAf9SURBVFiFvZh7cFTVHcc/59y7793sJiFAwkvAYDRqFWwdraLVlj61diRYsDjqCFbFKrYo0CltlSq1tLaC2GprGIriGwqjFu10OlrGv8RiK/IICYECSWBDkt3s695zTv9IAtlHeOn0O7Mzu797z+/3Ob/z+p0VfBq9doNFljuABwAXw2PcvGHt6bgwxhz7Ls4YZNVXxxANLENwE2D1W9PAGmAhszZ0/X9gll5yCbHoOirLzmaQs0F6F8QMZq1v/8xgNm7DYwwjgXJLYL4witQ16+sv/U9HdDmV4WrKw6B06cZC/RMrM4MZ7xz61DAbtzEXmAvUAX4pMOVecg9/MFFu3j3Gz7gQBLygS2RGumBkL0cubiFRsR3LzVBV1UMk3IrW73PT9C2lYOwhQB4ClhX1AuKpjLcV27oEjyUpNUJCg1CvcejykWTCXyQgzic2HIIBjg3pS6+uRLKAhumZvD4U+tq0jTrgkVKQQtLekfTtxIPAkhTNF6G7kZm7aPp6M9myKVQEoaYaIhEQYvD781DML/RfBGNZXAl4irJiwBa07e/y7cQnBaJghIX6ENl2GR/fGCBoz6cm5qeyEqQA5ZYA5x5eeiV0Qph4gjFAUSwAr6QllQgcxS/Jm25Cr2Tmpsk03XI9NfI31FTZBEOgVOk51adqDBNPCNPSRlkiDXbBEwOU2WxH+I7itQZ62g56OjM33suq1YsZHVtGZSUI2QdyYgkgOthQNIF7BIGDnRAJgJSgj69cUx1gB8PkOGwL4E1gPrM27gIg7NlGKLQApc7BmEnAxP5g/rw4YqBrCDB5xHkw5rdR/1qTrN/hKNo6YUwVDNpFsnjYS8RbidBPcPXFP6R6yfExuOXmN4A3jv1+8ZUwgY9D2OWjUZE6lO88jDwHI8ZixGiMKSeYTBamCoDk6kDAb6y1OcH1a6KpD/fZesoFw5FlIXAVCIiH4PxrV+p2npVDToTBmtjY8t1swh2V61E9KqWiyuPEjM8dbfxuvfa49Zayf9R136Wr8mBSf/T7bNteA8zwaGEUbFpckWwq95n59dUIywKl2fbOIS5e8bWSu0tJ1a5redAYfqkdjesodFajcgaVNWhXo1C9SrkN3Usmv3UMJrc6/DDwkwEntkEJLe67tSLhvyzK8rHDQWleve5CGk4VZEB1r+5bg2E2si+Y0QatDK6jUVkX5eg2YYlp++ZM+rfMNYamAj8Y7MAVWFqaR1f/t2xzU4IHjybBtthzuiAASqv7jTF7jOqDMAakFHgDNsFyP+FhwZHBmH9F7cutIYkQCylYYv1AZSqsn1/+bX51OMMjPSl2nAnM7hnjOx2v53YgNWAzHM9Q/9l0lQWPSCBSyokAtOBC1Rj+w/1Xs+STDp4/E5g7Rs2zm2+oeVd7PUuHKDf6A4r5EsPT5K3gfCnBXNUYnvGzb+KcCczYYWOnLpy4eOXuG2oec0PBN8XQQAnpvS35AvAykr56rWhPBiV4MvtceGLxk5Mr6A1O8IfK7rl7xJ0r9kyumuP4fa0lMqTBLJIAJqEf1J3qE92lMBndlyfRD2YBghHC4hlny7ASqCeWo5zaoDdIWfnIefNGTb9fC73QDfhyBUCNOxrGPSUBfPem9us253YTV+3mcBbdkUYfzmHiLqZbYdIGHHON2ZlemXouaJUOO6TqtdHEQuXYY8Yt+EbDgmlS6RdzkaDTv2P9A3gICiq93sWhb5mc5wVhuU3Y7m5hOc3So7qFT3SLgOXHb/cyOfMn7xROegoC/PTcn3v8gbKPgDopJFk3R/uBPWQiwQ+2/GJevRMObLUzqe/saJjQUQTTftEVMW9tWxPgAocwcj9abNcZe7s+6t2R2xXZG7zyYLp8Q1PiRBBHym5bYuXi8Qt+/LvGu9f/5YDAxABsaRNPH6Xr4D4Sk87a897SOy9v/fKwjoF2eQel95yDESGEF6gEMwKhLwKus3wOVjTtes7qzgLdXTMnNCNoEpbcrtNuq6N7Xh/+eqcbj94xQkp7mdKpW5XbtbR8Z26kgMCAf2UU5YEovRUVRHbu2b3vK1UdDFkDCyMRQxbpdv8nhKAGIa7QaQedzT07fFPny53R738JoVYBdVrnsNx9XZ9v33UeGO+AA2MMUkgqQ5UcdDLZSFeVgONnXeHqSAC5Ew1BXwko0D1Zct3dT1duOjS3MzZnEUJtBuoQAq3SGOLR4ekjn9NC5nVOaYXf9lETrUkmOJy3pOz8OKIb2A1cWhJCCEzOxU2mUPror+2/L3yyM3pkM7jTjr1nBOgkGeyQ7erxpdJsMAS9wb2F9rzMxNY1K2PMU0WtZV82VU8Wp6vbKJVo9Lx/+4cydORdxCCQ/kDGTZCWsRpLu7VD7bfKqL8V2orKTp/PtzaXy42jr6TwAuisi+7JolUG4wY+8vyrISCMtRrLKWpvjAOqx/QGhp0rjRo5xD3x98CWQuOQN8qumRMmI7jKZPUEpzNVZsj4Zbaq1to5tZZsKIydLWojhIXrJnES79EaOzv3du2NytKuxzJKAA6wF8xqEE8s2jo/1wd/khslQGxd81Zg62Bbp31XBH+iETt7Y3ELA0iU6iGDlQ5mexe0VEx4a3x8V1AaYwFJgTiwaOsDmeK2J8nMUOqsnB1A+dcA04ucCYt0urkjmflk9iT2v30q/gZn5rQPvor4n9Ou634PeBzoznes/iot/7WnClKoM/+zCIjH5kwT8ChQjTHPIPTjFV3PpU/Hx+DM/A9U3IXI4SPCYAAAAABJRU5ErkJggg=='\n",
       "       style='height:15px; border-radius:12px; display: inline-block; float: left'></img>\n",
       "  \n",
       "\n",
       "\n",
       "\n",
       "\n",
       "</div>\n"
      ]
     },
     "metadata": {},
     "output_type": "display_data"
    },
    {
     "data": {
      "text/html": [
       "    <style>\n",
       "        .bk-notebook-logo {\n",
       "            display: block;\n",
       "            width: 20px;\n",
       "            height: 20px;\n",
       "            background-image: url(data:image/png;base64,iVBORw0KGgoAAAANSUhEUgAAABQAAAAUCAYAAACNiR0NAAAABHNCSVQICAgIfAhkiAAAAAlwSFlzAAALEgAACxIB0t1+/AAAABx0RVh0U29mdHdhcmUAQWRvYmUgRmlyZXdvcmtzIENTNui8sowAAAOkSURBVDiNjZRtaJVlGMd/1/08zzln5zjP1LWcU9N0NkN8m2CYjpgQYQXqSs0I84OLIC0hkEKoPtiH3gmKoiJDU7QpLgoLjLIQCpEsNJ1vqUOdO7ppbuec5+V+rj4ctwzd8IIbbi6u+8f1539dt3A78eXC7QizUF7gyV1fD1Yqg4JWz84yffhm0qkFqBogB9rM8tZdtwVsPUhWhGcFJngGeWrPzHm5oaMmkfEg1usvLFyc8jLRqDOMru7AyC8saQr7GG7f5fvDeH7Ej8CM66nIF+8yngt6HWaKh7k49Soy9nXurCi1o3qUbS3zWfrYeQDTB/Qj6kX6Ybhw4B+bOYoLKCC9H3Nu/leUTZ1JdRWkkn2ldcCamzrcf47KKXdAJllSlxAOkRgyHsGC/zRday5Qld9DyoM4/q/rUoy/CXh3jzOu3bHUVZeU+DEn8FInkPBFlu3+nW3Nw0mk6vCDiWg8CeJaxEwuHS3+z5RgY+YBR6V1Z1nxSOfoaPa4LASWxxdNp+VWTk7+4vzaou8v8PN+xo+KY2xsw6une2frhw05CTYOmQvsEhjhWjn0bmXPjpE1+kplmmkP3suftwTubK9Vq22qKmrBhpY4jvd5afdRA3wGjFAgcnTK2s4hY0/GPNIb0nErGMCRxWOOX64Z8RAC4oCXdklmEvcL8o0BfkNK4lUg9HTl+oPlQxdNo3Mg4Nv175e/1LDGzZen30MEjRUtmXSfiTVu1kK8W4txyV6BMKlbgk3lMwYCiusNy9fVfvvwMxv8Ynl6vxoByANLTWplvuj/nF9m2+PDtt1eiHPBr1oIfhCChQMBw6Aw0UulqTKZdfVvfG7VcfIqLG9bcldL/+pdWTLxLUy8Qq38heUIjh4XlzZxzQm19lLFlr8vdQ97rjZVOLf8nclzckbcD4wxXMidpX30sFd37Fv/GtwwhzhxGVAprjbg0gCAEeIgwCZyTV2Z1REEW8O4py0wsjeloKoMr6iCY6dP92H6Vw/oTyICIthibxjm/DfN9lVz8IqtqKYLUXfoKVMVQVVJOElGjrnnUt9T9wbgp8AyYKaGlqingHZU/uG2NTZSVqwHQTWkx9hxjkpWDaCg6Ckj5qebgBVbT3V3NNXMSiWSDdGV3hrtzla7J+duwPOToIg42ChPQOQjspnSlp1V+Gjdged7+8UN5CRAV7a5EdFNwCjEaBR27b3W890TE7g24NAP/mMDXRWrGoFPQI9ls/MWO2dWFAar/xcOIImbbpA3zgAAAABJRU5ErkJggg==);\n",
       "        }\n",
       "    </style>\n",
       "    <div>\n",
       "        <a href=\"https://bokeh.org\" target=\"_blank\" class=\"bk-notebook-logo\"></a>\n",
       "        <span id=\"c115d569-53b1-4f0c-b13a-b191f2cb24a1\">Loading BokehJS ...</span>\n",
       "    </div>\n"
      ]
     },
     "metadata": {},
     "output_type": "display_data"
    },
    {
     "data": {
      "application/javascript": [
       "'use strict';\n",
       "(function(root) {\n",
       "  function now() {\n",
       "    return new Date();\n",
       "  }\n",
       "\n",
       "  const force = true;\n",
       "\n",
       "  if (typeof root._bokeh_onload_callbacks === \"undefined\" || force === true) {\n",
       "    root._bokeh_onload_callbacks = [];\n",
       "    root._bokeh_is_loading = undefined;\n",
       "  }\n",
       "\n",
       "const JS_MIME_TYPE = 'application/javascript';\n",
       "  const HTML_MIME_TYPE = 'text/html';\n",
       "  const EXEC_MIME_TYPE = 'application/vnd.bokehjs_exec.v0+json';\n",
       "  const CLASS_NAME = 'output_bokeh rendered_html';\n",
       "\n",
       "  /**\n",
       "   * Render data to the DOM node\n",
       "   */\n",
       "  function render(props, node) {\n",
       "    const script = document.createElement(\"script\");\n",
       "    node.appendChild(script);\n",
       "  }\n",
       "\n",
       "  /**\n",
       "   * Handle when an output is cleared or removed\n",
       "   */\n",
       "  function handleClearOutput(event, handle) {\n",
       "    function drop(id) {\n",
       "      const view = Bokeh.index.get_by_id(id)\n",
       "      if (view != null) {\n",
       "        view.model.document.clear()\n",
       "        Bokeh.index.delete(view)\n",
       "      }\n",
       "    }\n",
       "\n",
       "    const cell = handle.cell;\n",
       "\n",
       "    const id = cell.output_area._bokeh_element_id;\n",
       "    const server_id = cell.output_area._bokeh_server_id;\n",
       "\n",
       "    // Clean up Bokeh references\n",
       "    if (id != null) {\n",
       "      drop(id)\n",
       "    }\n",
       "\n",
       "    if (server_id !== undefined) {\n",
       "      // Clean up Bokeh references\n",
       "      const cmd_clean = \"from bokeh.io.state import curstate; print(curstate().uuid_to_server['\" + server_id + \"'].get_sessions()[0].document.roots[0]._id)\";\n",
       "      cell.notebook.kernel.execute(cmd_clean, {\n",
       "        iopub: {\n",
       "          output: function(msg) {\n",
       "            const id = msg.content.text.trim()\n",
       "            drop(id)\n",
       "          }\n",
       "        }\n",
       "      });\n",
       "      // Destroy server and session\n",
       "      const cmd_destroy = \"import bokeh.io.notebook as ion; ion.destroy_server('\" + server_id + \"')\";\n",
       "      cell.notebook.kernel.execute(cmd_destroy);\n",
       "    }\n",
       "  }\n",
       "\n",
       "  /**\n",
       "   * Handle when a new output is added\n",
       "   */\n",
       "  function handleAddOutput(event, handle) {\n",
       "    const output_area = handle.output_area;\n",
       "    const output = handle.output;\n",
       "\n",
       "    // limit handleAddOutput to display_data with EXEC_MIME_TYPE content only\n",
       "    if ((output.output_type != \"display_data\") || (!Object.prototype.hasOwnProperty.call(output.data, EXEC_MIME_TYPE))) {\n",
       "      return\n",
       "    }\n",
       "\n",
       "    const toinsert = output_area.element.find(\".\" + CLASS_NAME.split(' ')[0]);\n",
       "\n",
       "    if (output.metadata[EXEC_MIME_TYPE][\"id\"] !== undefined) {\n",
       "      toinsert[toinsert.length - 1].firstChild.textContent = output.data[JS_MIME_TYPE];\n",
       "      // store reference to embed id on output_area\n",
       "      output_area._bokeh_element_id = output.metadata[EXEC_MIME_TYPE][\"id\"];\n",
       "    }\n",
       "    if (output.metadata[EXEC_MIME_TYPE][\"server_id\"] !== undefined) {\n",
       "      const bk_div = document.createElement(\"div\");\n",
       "      bk_div.innerHTML = output.data[HTML_MIME_TYPE];\n",
       "      const script_attrs = bk_div.children[0].attributes;\n",
       "      for (let i = 0; i < script_attrs.length; i++) {\n",
       "        toinsert[toinsert.length - 1].firstChild.setAttribute(script_attrs[i].name, script_attrs[i].value);\n",
       "        toinsert[toinsert.length - 1].firstChild.textContent = bk_div.children[0].textContent\n",
       "      }\n",
       "      // store reference to server id on output_area\n",
       "      output_area._bokeh_server_id = output.metadata[EXEC_MIME_TYPE][\"server_id\"];\n",
       "    }\n",
       "  }\n",
       "\n",
       "  function register_renderer(events, OutputArea) {\n",
       "\n",
       "    function append_mime(data, metadata, element) {\n",
       "      // create a DOM node to render to\n",
       "      const toinsert = this.create_output_subarea(\n",
       "        metadata,\n",
       "        CLASS_NAME,\n",
       "        EXEC_MIME_TYPE\n",
       "      );\n",
       "      this.keyboard_manager.register_events(toinsert);\n",
       "      // Render to node\n",
       "      const props = {data: data, metadata: metadata[EXEC_MIME_TYPE]};\n",
       "      render(props, toinsert[toinsert.length - 1]);\n",
       "      element.append(toinsert);\n",
       "      return toinsert\n",
       "    }\n",
       "\n",
       "    /* Handle when an output is cleared or removed */\n",
       "    events.on('clear_output.CodeCell', handleClearOutput);\n",
       "    events.on('delete.Cell', handleClearOutput);\n",
       "\n",
       "    /* Handle when a new output is added */\n",
       "    events.on('output_added.OutputArea', handleAddOutput);\n",
       "\n",
       "    /**\n",
       "     * Register the mime type and append_mime function with output_area\n",
       "     */\n",
       "    OutputArea.prototype.register_mime_type(EXEC_MIME_TYPE, append_mime, {\n",
       "      /* Is output safe? */\n",
       "      safe: true,\n",
       "      /* Index of renderer in `output_area.display_order` */\n",
       "      index: 0\n",
       "    });\n",
       "  }\n",
       "\n",
       "  // register the mime type if in Jupyter Notebook environment and previously unregistered\n",
       "  if (root.Jupyter !== undefined) {\n",
       "    const events = require('base/js/events');\n",
       "    const OutputArea = require('notebook/js/outputarea').OutputArea;\n",
       "\n",
       "    if (OutputArea.prototype.mime_types().indexOf(EXEC_MIME_TYPE) == -1) {\n",
       "      register_renderer(events, OutputArea);\n",
       "    }\n",
       "  }\n",
       "  if (typeof (root._bokeh_timeout) === \"undefined\" || force === true) {\n",
       "    root._bokeh_timeout = Date.now() + 5000;\n",
       "    root._bokeh_failed_load = false;\n",
       "  }\n",
       "\n",
       "  const NB_LOAD_WARNING = {'data': {'text/html':\n",
       "     \"<div style='background-color: #fdd'>\\n\"+\n",
       "     \"<p>\\n\"+\n",
       "     \"BokehJS does not appear to have successfully loaded. If loading BokehJS from CDN, this \\n\"+\n",
       "     \"may be due to a slow or bad network connection. Possible fixes:\\n\"+\n",
       "     \"</p>\\n\"+\n",
       "     \"<ul>\\n\"+\n",
       "     \"<li>re-rerun `output_notebook()` to attempt to load from CDN again, or</li>\\n\"+\n",
       "     \"<li>use INLINE resources instead, as so:</li>\\n\"+\n",
       "     \"</ul>\\n\"+\n",
       "     \"<code>\\n\"+\n",
       "     \"from bokeh.resources import INLINE\\n\"+\n",
       "     \"output_notebook(resources=INLINE)\\n\"+\n",
       "     \"</code>\\n\"+\n",
       "     \"</div>\"}};\n",
       "\n",
       "  function display_loaded(error = null) {\n",
       "    const el = document.getElementById(\"c115d569-53b1-4f0c-b13a-b191f2cb24a1\");\n",
       "    if (el != null) {\n",
       "      const html = (() => {\n",
       "        if (typeof root.Bokeh === \"undefined\") {\n",
       "          if (error == null) {\n",
       "            return \"BokehJS is loading ...\";\n",
       "          } else {\n",
       "            return \"BokehJS failed to load.\";\n",
       "          }\n",
       "        } else {\n",
       "          const prefix = `BokehJS ${root.Bokeh.version}`;\n",
       "          if (error == null) {\n",
       "            return `${prefix} successfully loaded.`;\n",
       "          } else {\n",
       "            return `${prefix} <b>encountered errors</b> while loading and may not function as expected.`;\n",
       "          }\n",
       "        }\n",
       "      })();\n",
       "      el.innerHTML = html;\n",
       "\n",
       "      if (error != null) {\n",
       "        const wrapper = document.createElement(\"div\");\n",
       "        wrapper.style.overflow = \"auto\";\n",
       "        wrapper.style.height = \"5em\";\n",
       "        wrapper.style.resize = \"vertical\";\n",
       "        const content = document.createElement(\"div\");\n",
       "        content.style.fontFamily = \"monospace\";\n",
       "        content.style.whiteSpace = \"pre-wrap\";\n",
       "        content.style.backgroundColor = \"rgb(255, 221, 221)\";\n",
       "        content.textContent = error.stack ?? error.toString();\n",
       "        wrapper.append(content);\n",
       "        el.append(wrapper);\n",
       "      }\n",
       "    } else if (Date.now() < root._bokeh_timeout) {\n",
       "      setTimeout(() => display_loaded(error), 100);\n",
       "    }\n",
       "  }\n",
       "\n",
       "  function run_callbacks() {\n",
       "    try {\n",
       "      root._bokeh_onload_callbacks.forEach(function(callback) {\n",
       "        if (callback != null)\n",
       "          callback();\n",
       "      });\n",
       "    } finally {\n",
       "      delete root._bokeh_onload_callbacks\n",
       "    }\n",
       "    console.debug(\"Bokeh: all callbacks have finished\");\n",
       "  }\n",
       "\n",
       "  function load_libs(css_urls, js_urls, callback) {\n",
       "    if (css_urls == null) css_urls = [];\n",
       "    if (js_urls == null) js_urls = [];\n",
       "\n",
       "    root._bokeh_onload_callbacks.push(callback);\n",
       "    if (root._bokeh_is_loading > 0) {\n",
       "      console.debug(\"Bokeh: BokehJS is being loaded, scheduling callback at\", now());\n",
       "      return null;\n",
       "    }\n",
       "    if (js_urls == null || js_urls.length === 0) {\n",
       "      run_callbacks();\n",
       "      return null;\n",
       "    }\n",
       "    console.debug(\"Bokeh: BokehJS not loaded, scheduling load and callback at\", now());\n",
       "    root._bokeh_is_loading = css_urls.length + js_urls.length;\n",
       "\n",
       "    function on_load() {\n",
       "      root._bokeh_is_loading--;\n",
       "      if (root._bokeh_is_loading === 0) {\n",
       "        console.debug(\"Bokeh: all BokehJS libraries/stylesheets loaded\");\n",
       "        run_callbacks()\n",
       "      }\n",
       "    }\n",
       "\n",
       "    function on_error(url) {\n",
       "      console.error(\"failed to load \" + url);\n",
       "    }\n",
       "\n",
       "    for (let i = 0; i < css_urls.length; i++) {\n",
       "      const url = css_urls[i];\n",
       "      const element = document.createElement(\"link\");\n",
       "      element.onload = on_load;\n",
       "      element.onerror = on_error.bind(null, url);\n",
       "      element.rel = \"stylesheet\";\n",
       "      element.type = \"text/css\";\n",
       "      element.href = url;\n",
       "      console.debug(\"Bokeh: injecting link tag for BokehJS stylesheet: \", url);\n",
       "      document.body.appendChild(element);\n",
       "    }\n",
       "\n",
       "    for (let i = 0; i < js_urls.length; i++) {\n",
       "      const url = js_urls[i];\n",
       "      const element = document.createElement('script');\n",
       "      element.onload = on_load;\n",
       "      element.onerror = on_error.bind(null, url);\n",
       "      element.async = false;\n",
       "      element.src = url;\n",
       "      console.debug(\"Bokeh: injecting script tag for BokehJS library: \", url);\n",
       "      document.head.appendChild(element);\n",
       "    }\n",
       "  };\n",
       "\n",
       "  function inject_raw_css(css) {\n",
       "    const element = document.createElement(\"style\");\n",
       "    element.appendChild(document.createTextNode(css));\n",
       "    document.body.appendChild(element);\n",
       "  }\n",
       "\n",
       "  const js_urls = [\"https://cdn.bokeh.org/bokeh/release/bokeh-3.4.1.min.js\", \"https://cdn.bokeh.org/bokeh/release/bokeh-gl-3.4.1.min.js\", \"https://cdn.bokeh.org/bokeh/release/bokeh-widgets-3.4.1.min.js\", \"https://cdn.bokeh.org/bokeh/release/bokeh-tables-3.4.1.min.js\", \"https://cdn.bokeh.org/bokeh/release/bokeh-mathjax-3.4.1.min.js\", \"https://unpkg.com/@holoviz/panel@1.4.2/dist/panel.min.js\"];\n",
       "  const css_urls = [];\n",
       "\n",
       "  const inline_js = [    function(Bokeh) {\n",
       "      Bokeh.set_log_level(\"info\");\n",
       "    },\n",
       "function(Bokeh) {\n",
       "    }\n",
       "  ];\n",
       "\n",
       "  function run_inline_js() {\n",
       "    if (root.Bokeh !== undefined || force === true) {\n",
       "      try {\n",
       "            for (let i = 0; i < inline_js.length; i++) {\n",
       "      inline_js[i].call(root, root.Bokeh);\n",
       "    }\n",
       "\n",
       "      } catch (error) {display_loaded(error);throw error;\n",
       "      }if (force === true) {\n",
       "        display_loaded();\n",
       "      }} else if (Date.now() < root._bokeh_timeout) {\n",
       "      setTimeout(run_inline_js, 100);\n",
       "    } else if (!root._bokeh_failed_load) {\n",
       "      console.log(\"Bokeh: BokehJS failed to load within specified timeout.\");\n",
       "      root._bokeh_failed_load = true;\n",
       "    } else if (force !== true) {\n",
       "      const cell = $(document.getElementById(\"c115d569-53b1-4f0c-b13a-b191f2cb24a1\")).parents('.cell').data().cell;\n",
       "      cell.output_area.append_execute_result(NB_LOAD_WARNING)\n",
       "    }\n",
       "  }\n",
       "\n",
       "  if (root._bokeh_is_loading === 0) {\n",
       "    console.debug(\"Bokeh: BokehJS loaded, going straight to plotting\");\n",
       "    run_inline_js();\n",
       "  } else {\n",
       "    load_libs(css_urls, js_urls, function() {\n",
       "      console.debug(\"Bokeh: BokehJS plotting callback run at\", now());\n",
       "      run_inline_js();\n",
       "    });\n",
       "  }\n",
       "}(window));"
      ],
      "application/vnd.bokehjs_load.v0+json": "'use strict';\n(function(root) {\n  function now() {\n    return new Date();\n  }\n\n  const force = true;\n\n  if (typeof root._bokeh_onload_callbacks === \"undefined\" || force === true) {\n    root._bokeh_onload_callbacks = [];\n    root._bokeh_is_loading = undefined;\n  }\n\n\n  if (typeof (root._bokeh_timeout) === \"undefined\" || force === true) {\n    root._bokeh_timeout = Date.now() + 5000;\n    root._bokeh_failed_load = false;\n  }\n\n  const NB_LOAD_WARNING = {'data': {'text/html':\n     \"<div style='background-color: #fdd'>\\n\"+\n     \"<p>\\n\"+\n     \"BokehJS does not appear to have successfully loaded. If loading BokehJS from CDN, this \\n\"+\n     \"may be due to a slow or bad network connection. Possible fixes:\\n\"+\n     \"</p>\\n\"+\n     \"<ul>\\n\"+\n     \"<li>re-rerun `output_notebook()` to attempt to load from CDN again, or</li>\\n\"+\n     \"<li>use INLINE resources instead, as so:</li>\\n\"+\n     \"</ul>\\n\"+\n     \"<code>\\n\"+\n     \"from bokeh.resources import INLINE\\n\"+\n     \"output_notebook(resources=INLINE)\\n\"+\n     \"</code>\\n\"+\n     \"</div>\"}};\n\n  function display_loaded(error = null) {\n    const el = document.getElementById(\"c115d569-53b1-4f0c-b13a-b191f2cb24a1\");\n    if (el != null) {\n      const html = (() => {\n        if (typeof root.Bokeh === \"undefined\") {\n          if (error == null) {\n            return \"BokehJS is loading ...\";\n          } else {\n            return \"BokehJS failed to load.\";\n          }\n        } else {\n          const prefix = `BokehJS ${root.Bokeh.version}`;\n          if (error == null) {\n            return `${prefix} successfully loaded.`;\n          } else {\n            return `${prefix} <b>encountered errors</b> while loading and may not function as expected.`;\n          }\n        }\n      })();\n      el.innerHTML = html;\n\n      if (error != null) {\n        const wrapper = document.createElement(\"div\");\n        wrapper.style.overflow = \"auto\";\n        wrapper.style.height = \"5em\";\n        wrapper.style.resize = \"vertical\";\n        const content = document.createElement(\"div\");\n        content.style.fontFamily = \"monospace\";\n        content.style.whiteSpace = \"pre-wrap\";\n        content.style.backgroundColor = \"rgb(255, 221, 221)\";\n        content.textContent = error.stack ?? error.toString();\n        wrapper.append(content);\n        el.append(wrapper);\n      }\n    } else if (Date.now() < root._bokeh_timeout) {\n      setTimeout(() => display_loaded(error), 100);\n    }\n  }\n\n  function run_callbacks() {\n    try {\n      root._bokeh_onload_callbacks.forEach(function(callback) {\n        if (callback != null)\n          callback();\n      });\n    } finally {\n      delete root._bokeh_onload_callbacks\n    }\n    console.debug(\"Bokeh: all callbacks have finished\");\n  }\n\n  function load_libs(css_urls, js_urls, callback) {\n    if (css_urls == null) css_urls = [];\n    if (js_urls == null) js_urls = [];\n\n    root._bokeh_onload_callbacks.push(callback);\n    if (root._bokeh_is_loading > 0) {\n      console.debug(\"Bokeh: BokehJS is being loaded, scheduling callback at\", now());\n      return null;\n    }\n    if (js_urls == null || js_urls.length === 0) {\n      run_callbacks();\n      return null;\n    }\n    console.debug(\"Bokeh: BokehJS not loaded, scheduling load and callback at\", now());\n    root._bokeh_is_loading = css_urls.length + js_urls.length;\n\n    function on_load() {\n      root._bokeh_is_loading--;\n      if (root._bokeh_is_loading === 0) {\n        console.debug(\"Bokeh: all BokehJS libraries/stylesheets loaded\");\n        run_callbacks()\n      }\n    }\n\n    function on_error(url) {\n      console.error(\"failed to load \" + url);\n    }\n\n    for (let i = 0; i < css_urls.length; i++) {\n      const url = css_urls[i];\n      const element = document.createElement(\"link\");\n      element.onload = on_load;\n      element.onerror = on_error.bind(null, url);\n      element.rel = \"stylesheet\";\n      element.type = \"text/css\";\n      element.href = url;\n      console.debug(\"Bokeh: injecting link tag for BokehJS stylesheet: \", url);\n      document.body.appendChild(element);\n    }\n\n    for (let i = 0; i < js_urls.length; i++) {\n      const url = js_urls[i];\n      const element = document.createElement('script');\n      element.onload = on_load;\n      element.onerror = on_error.bind(null, url);\n      element.async = false;\n      element.src = url;\n      console.debug(\"Bokeh: injecting script tag for BokehJS library: \", url);\n      document.head.appendChild(element);\n    }\n  };\n\n  function inject_raw_css(css) {\n    const element = document.createElement(\"style\");\n    element.appendChild(document.createTextNode(css));\n    document.body.appendChild(element);\n  }\n\n  const js_urls = [\"https://cdn.bokeh.org/bokeh/release/bokeh-3.4.1.min.js\", \"https://cdn.bokeh.org/bokeh/release/bokeh-gl-3.4.1.min.js\", \"https://cdn.bokeh.org/bokeh/release/bokeh-widgets-3.4.1.min.js\", \"https://cdn.bokeh.org/bokeh/release/bokeh-tables-3.4.1.min.js\", \"https://cdn.bokeh.org/bokeh/release/bokeh-mathjax-3.4.1.min.js\", \"https://unpkg.com/@holoviz/panel@1.4.2/dist/panel.min.js\"];\n  const css_urls = [];\n\n  const inline_js = [    function(Bokeh) {\n      Bokeh.set_log_level(\"info\");\n    },\nfunction(Bokeh) {\n    }\n  ];\n\n  function run_inline_js() {\n    if (root.Bokeh !== undefined || force === true) {\n      try {\n            for (let i = 0; i < inline_js.length; i++) {\n      inline_js[i].call(root, root.Bokeh);\n    }\n\n      } catch (error) {display_loaded(error);throw error;\n      }if (force === true) {\n        display_loaded();\n      }} else if (Date.now() < root._bokeh_timeout) {\n      setTimeout(run_inline_js, 100);\n    } else if (!root._bokeh_failed_load) {\n      console.log(\"Bokeh: BokehJS failed to load within specified timeout.\");\n      root._bokeh_failed_load = true;\n    } else if (force !== true) {\n      const cell = $(document.getElementById(\"c115d569-53b1-4f0c-b13a-b191f2cb24a1\")).parents('.cell').data().cell;\n      cell.output_area.append_execute_result(NB_LOAD_WARNING)\n    }\n  }\n\n  if (root._bokeh_is_loading === 0) {\n    console.debug(\"Bokeh: BokehJS loaded, going straight to plotting\");\n    run_inline_js();\n  } else {\n    load_libs(css_urls, js_urls, function() {\n      console.debug(\"Bokeh: BokehJS plotting callback run at\", now());\n      run_inline_js();\n    });\n  }\n}(window));"
     },
     "metadata": {},
     "output_type": "display_data"
    }
   ],
   "source": [
    "# Set the holoviews plotting library to be bokeh and output display to be inline\n",
    "hv.extension('bokeh')\n",
    "output_notebook()"
   ]
  },
  {
   "cell_type": "code",
   "execution_count": 15,
   "id": "c374a496-c617-4207-a6a5-bad3c81d1577",
   "metadata": {
    "execution": {
     "iopub.execute_input": "2024-07-05T20:05:49.480262Z",
     "iopub.status.busy": "2024-07-05T20:05:49.480038Z",
     "iopub.status.idle": "2024-07-05T20:05:49.483702Z",
     "shell.execute_reply": "2024-07-05T20:05:49.482920Z",
     "shell.execute_reply.started": "2024-07-05T20:05:49.480246Z"
    }
   },
   "outputs": [],
   "source": [
    "# To quiet astropy warnings\n",
    "warnings.simplefilter('ignore', category=AstropyWarning) "
   ]
  },
  {
   "cell_type": "markdown",
   "id": "c217adff-25ed-4fce-95e7-8aa04630f6cc",
   "metadata": {
    "tags": []
   },
   "source": [
    "### 1.2 Define Functions and Parameters"
   ]
  },
  {
   "cell_type": "code",
   "execution_count": 16,
   "id": "16c1b54f-d697-437e-8677-5d22a3d90942",
   "metadata": {
    "execution": {
     "iopub.execute_input": "2024-07-05T20:05:49.486349Z",
     "iopub.status.busy": "2024-07-05T20:05:49.485840Z",
     "iopub.status.idle": "2024-07-05T20:05:49.499482Z",
     "shell.execute_reply": "2024-07-05T20:05:49.498724Z",
     "shell.execute_reply.started": "2024-07-05T20:05:49.486329Z"
    },
    "tags": []
   },
   "outputs": [],
   "source": [
    "# Set the maximum number of rows to display from pandas\n",
    "pd.set_option('display.max_rows', 20)"
   ]
  },
  {
   "cell_type": "code",
   "execution_count": 17,
   "id": "564ebab2-e113-4466-9c69-71645f172645",
   "metadata": {
    "execution": {
     "iopub.execute_input": "2024-07-05T20:05:49.500950Z",
     "iopub.status.busy": "2024-07-05T20:05:49.500519Z",
     "iopub.status.idle": "2024-07-05T20:05:50.793512Z",
     "shell.execute_reply": "2024-07-05T20:05:50.792561Z",
     "shell.execute_reply.started": "2024-07-05T20:05:49.500927Z"
    },
    "tags": []
   },
   "outputs": [
    {
     "name": "stdout",
     "output_type": "stream",
     "text": [
      "Weekly 2024_16\n",
      "   g4213664e8e+c2911b1728 \tcurrent w_2024_16 setup\n"
     ]
    }
   ],
   "source": [
    "# The version of the LSST science pipelines should match the verified version listed at the start of the notebook\n",
    "! echo ${IMAGE_DESCRIPTION}\n",
    "! eups list lsst_distrib"
   ]
  },
  {
   "cell_type": "code",
   "execution_count": 18,
   "id": "e1774f02-b599-433e-9ee8-847e46c2b6dc",
   "metadata": {
    "execution": {
     "iopub.execute_input": "2024-07-05T20:05:50.795372Z",
     "iopub.status.busy": "2024-07-05T20:05:50.795101Z",
     "iopub.status.idle": "2024-07-05T20:05:50.800414Z",
     "shell.execute_reply": "2024-07-05T20:05:50.799614Z",
     "shell.execute_reply.started": "2024-07-05T20:05:50.795350Z"
    }
   },
   "outputs": [
    {
     "name": "stdout",
     "output_type": "stream",
     "text": [
      "Directory './data/dp02_xx' created successfully.\n"
     ]
    }
   ],
   "source": [
    "# Create an output directory for data\n",
    "path = os.path.join(\"./data\", \"dp02_xx\")\n",
    "try:\n",
    "    os.makedirs(path, exist_ok=True)\n",
    "    print(f\"Directory '{path}' created successfully.\")\n",
    "except OSError as error:\n",
    "    print(f\"Error creating directory '{path}': {error}\")"
   ]
  },
  {
   "cell_type": "code",
   "execution_count": 19,
   "id": "6da01490-5895-4697-92dc-bcfa81f51b1f",
   "metadata": {
    "execution": {
     "iopub.execute_input": "2024-07-05T20:05:50.801782Z",
     "iopub.status.busy": "2024-07-05T20:05:50.801449Z",
     "iopub.status.idle": "2024-07-05T20:05:50.815792Z",
     "shell.execute_reply": "2024-07-05T20:05:50.814958Z",
     "shell.execute_reply.started": "2024-07-05T20:05:50.801763Z"
    },
    "tags": []
   },
   "outputs": [],
   "source": [
    "def is_valid_uuid(val) -> bool:\n",
    "    \"\"\"Convert a  string to a valid UUID\n",
    "    \n",
    "   Parameters\n",
    "    ----------\n",
    "    val : `string`\n",
    "        the stringt o convert to check\n",
    "        \n",
    "   \n",
    "   Returns\n",
    "    -------\n",
    "    uuid : `uuid.UUID` \n",
    "        A valid UUID\n",
    "    \"\"\"\n",
    "    try:\n",
    "        return uuid.UUID(str(val))\n",
    "    except ValueError:\n",
    "        return None"
   ]
  },
  {
   "cell_type": "code",
   "execution_count": 20,
   "id": "5fb94ee0-88ad-4a3e-916b-39c725bb364f",
   "metadata": {
    "execution": {
     "iopub.execute_input": "2024-07-05T20:05:50.817155Z",
     "iopub.status.busy": "2024-07-05T20:05:50.816904Z",
     "iopub.status.idle": "2024-07-05T20:05:50.833491Z",
     "shell.execute_reply": "2024-07-05T20:05:50.832732Z",
     "shell.execute_reply.started": "2024-07-05T20:05:50.817139Z"
    },
    "tags": []
   },
   "outputs": [],
   "source": [
    "def transformAndPlotImage(image: Exposure, title = None, img_opts: dict = None):\n",
    "    \"\"\"Plot and image using holoviews\n",
    "   \n",
    "   Parameters\n",
    "    ----------\n",
    "    image : `Exposure`\n",
    "        the image to plot\n",
    "        \n",
    "    opts : `\n",
    "   \n",
    "   Returns\n",
    "    -------\n",
    "    title : `str` (only if result is not `None`)\n",
    "        Plot title from string\n",
    "    \"\"\"\n",
    "    arrayData = image.image.array\n",
    "    \n",
    "    # Apply a asinh/zscale mapping to the data    \n",
    "    transform = ZScaleInterval() + AsinhStretch()\n",
    "    \n",
    "    scaledArrayData = transform(arrayData)\n",
    "    scaledFlippedArrayData = np.flipud(scaledArrayData)    \n",
    "    bbox_img = image.getBBox()\n",
    "    bounds_img = (bbox_img.endX, bbox_img.endY,bbox_img.beginX, bbox_img.beginY)\n",
    "    \n",
    "    # Define some default plot options for the Image if not passed\n",
    "    if img_opts is None:\n",
    "        img_opts = dict(height=600, width=700,  xaxis=\"bottom\", \n",
    "                        padding = 0.01, fontsize={'title': '8pt'},\n",
    "                        colorbar=True, toolbar='right', show_grid=True,\n",
    "                        tools=['hover']\n",
    "                   )\n",
    "    # Overlay the WCS - not complete\n",
    "    wcs = image.getWcs()\n",
    "    projection=WCS(image.getWcs().getFitsMetadata())\n",
    "    \n",
    "    # Create the Image element.\n",
    "    img = hv.Image(scaledFlippedArrayData, \n",
    "                   bounds=bounds_img, \n",
    "                   kdims=['x', 'y']).opts(\n",
    "        cmap = \"Gray\",  xlabel = 'X', ylabel ='Y',  title = title, **img_opts)\n",
    "    # img = img.redim.range(z=(0.3, 0.8))\n",
    "    return rasterize(img)"
   ]
  },
  {
   "cell_type": "code",
   "execution_count": 21,
   "id": "f6d5a74e-dcd5-469c-a63f-7a19e14c6489",
   "metadata": {
    "execution": {
     "iopub.execute_input": "2024-07-05T20:05:50.835007Z",
     "iopub.status.busy": "2024-07-05T20:05:50.834468Z",
     "iopub.status.idle": "2024-07-05T20:05:50.891742Z",
     "shell.execute_reply": "2024-07-05T20:05:50.890114Z",
     "shell.execute_reply.started": "2024-07-05T20:05:50.834986Z"
    }
   },
   "outputs": [
    {
     "ename": "NameError",
     "evalue": "name 'resultset' is not defined",
     "output_type": "error",
     "traceback": [
      "\u001b[0;31m---------------------------------------------------------------------------\u001b[0m",
      "\u001b[0;31mNameError\u001b[0m                                 Traceback (most recent call last)",
      "Cell \u001b[0;32mIn[21], line 3\u001b[0m\n\u001b[1;32m      1\u001b[0m \u001b[38;5;66;03m# Write data to file \u001b[39;00m\n\u001b[1;32m      2\u001b[0m \u001b[38;5;66;03m# Write the results to a VOTable python \u001b[39;00m\n\u001b[0;32m----> 3\u001b[0m \u001b[43mresultset\u001b[49m\u001b[38;5;241m.\u001b[39mvotable\u001b[38;5;241m.\u001b[39mto_xml(os\u001b[38;5;241m.\u001b[39mpath\u001b[38;5;241m.\u001b[39mjoin(path,\u001b[38;5;124m\"\u001b[39m\u001b[38;5;124mresultset_votable.xml\u001b[39m\u001b[38;5;124m\"\u001b[39m))\n\u001b[1;32m      4\u001b[0m resultset\u001b[38;5;241m.\u001b[39mto_table()\u001b[38;5;241m.\u001b[39mwrite(os\u001b[38;5;241m.\u001b[39mpath\u001b[38;5;241m.\u001b[39mjoin(path, \u001b[38;5;124m\"\u001b[39m\u001b[38;5;124mresultset_format_votable.xml\u001b[39m\u001b[38;5;124m\"\u001b[39m), \u001b[38;5;28mformat\u001b[39m\u001b[38;5;241m=\u001b[39m\u001b[38;5;124m'\u001b[39m\u001b[38;5;124mvotable\u001b[39m\u001b[38;5;124m'\u001b[39m, overwrite\u001b[38;5;241m=\u001b[39m\u001b[38;5;28;01mTrue\u001b[39;00m)\n\u001b[1;32m      6\u001b[0m \u001b[38;5;66;03m#Write the results to FITs file  \u001b[39;00m\n",
      "\u001b[0;31mNameError\u001b[0m: name 'resultset' is not defined"
     ]
    }
   ],
   "source": [
    "# # Write data to file \n",
    "# # Write the results to a VOTable python \n",
    "# resultset.votable.to_xml(os.path.join(path,\"resultset_votable.xml\"))\n",
    "# resultset.to_table().write(os.path.join(path, \"resultset_format_votable.xml\"), format='votable', overwrite=True)\n",
    "\n",
    "# #Write the results to FITs file  \n",
    "# resultset.to_table().write(os.path.join(path, \"filename.fits\"), format='fits', overwrite=True)"
   ]
  },
  {
   "cell_type": "code",
   "execution_count": null,
   "id": "910b1057-5e38-42ab-afd7-28b7f8857a2d",
   "metadata": {
    "execution": {
     "iopub.status.busy": "2024-07-05T20:05:50.892491Z",
     "iopub.status.idle": "2024-07-05T20:05:50.892895Z",
     "shell.execute_reply": "2024-07-05T20:05:50.892778Z",
     "shell.execute_reply.started": "2024-07-05T20:05:50.892767Z"
    },
    "tags": []
   },
   "outputs": [],
   "source": [
    "for vo_service in vo.regsearch(datamodel='obscore'):\n",
    "    print(f\"{vo_service['short_name']},  {vo_service['ivoid']}\")  "
   ]
  },
  {
   "cell_type": "markdown",
   "id": "d92690be-8c28-4581-b455-eddaf17a70cf",
   "metadata": {},
   "source": [
    "## 2. Data Discovery\n",
    "\n",
    "Table Access Protocol (TAP) defines a service protocol for accessing tabular data, such as astronomical catalogues. The Rubin TAP Service has been in use since DP0.1 and was the first VO-compliant service to be deployed.  It allows users to query the DP0 catalogs, filtering on attributes to retune a subset of the catalog entries for further analysis,  e.g select all Objects in a given search area with magnitude < 18. Many catalog queries executed over TAP specify make use of the IVOA specification for a [Simple Cone Search](https://ivoa.net/documents/ConeSearch/20200828/WD-ConeSearch-1.1-20200828.html) for retrieving records from astronomical catalogs whose positions lie within a cone defined by a central position and angular radius. The returned result set type is a [pyvo.dal.TAPResults](https://pyvo.readthedocs.io/en/latest/api/pyvo.dal.TAPResults.html#pyvo.dal.TAPResults), which holds the list of matching records from a catalog query. `TAPResults` is essentially a wrapper around an [astropy.io.votable](https://docs.astropy.org/en/stable/io/votable/ref_api.html#module-astropy.io.votable) [TableElement](https://docs.astropy.org/en/stable/api/astropy.io.votable.tree.TableElement.html#astropy.io.votable.tree.TableElement) instance where the columns contain the various metadata describing the entries. \n",
    "\n",
    "* `IVOA Table Access Protocol (TAP)` -- a IVOA-standard service protocol for accessing general tabular data, including astronomical catalogs and their metadata. \n",
    "* `IVOA Simple Cone Search (SCS)` --  a simple query protocol for retrieving records from an astronomical catalog or observation log. The input is sky position and angular distance defining a cone on the sky. The subset of records from the catalog that lie within the cone is returned. This protocol is easy to use but scales poorly since a separate query is required for every position. See [IVOA Simple Cone Search](http://www.ivoa.net/Documents/latest/ConeSearch.html)\n",
    "\n",
    "<!-- * `TAP Service` -- a service that implements TAP to allow users to interogate to catalogs data using ADQL and SQL-like queries. -->\n",
    "\n",
    "Initial priority was given to rolling out services implementing the above to enable access to catalog data described in the DPDD and produced by the LSST science Pipelines. This was to enable the Rubin community to gain experience with the data products described in the DPDD.  Another strongly motivating use case is the ability to discover data of a given kind, e.g images, catalogs, spectra, according to scientific criteria, e.g position, exposure time, seeing, etc. \n",
    "\n",
    "The returned result set type is a [pyvo.dal.TAPResults](https://pyvo.readthedocs.io/en/latest/api/pyvo.dal.TAPResults.html#pyvo.dal.TAPResults), which holds the list of matching records from a catalog query. `TAPResults` is essentially a wrapper around an [astropy.io.votable](https://docs.astropy.org/en/stable/io/votable/ref_api.html#module-astropy.io.votable) [TableElement](https://docs.astropy.org/en/stable/api/astropy.io.votable.tree.TableElement.html#astropy.io.votable.tree.TableElement) instance where the columns contain the various metadata describing the entries. \n",
    "\n",
    "We will see later that it can also hold lists of matching records from an image query or a query of the observatry metadata.\n",
    "\n",
    "There are many functions we can eecute without having to convert to pandas\n",
    "\n",
    "prioritised IVOA-standard-compliant implementations of the TAP and SCS services ...\n",
    "\n",
    "The tap acessoble catalog describe the data prodicts as processed. but we also want to query on for example spatial resolution of the image. \n",
    "\n",
    "This tutorial will introduce the next suite of IVOA-compliant services that have been deployed by Rubin as part of DP0 to enable data discovery and prodicing image cutouts on demand. It will introduce several new IVOA-compliant services for data doscovery and image access and manipulation incliding ObsCoer, ObsTAP, Datalinks and SODA. One key consideration is the ability to execute the same query at multiple archives. we will look at some examples. "
   ]
  },
  {
   "cell_type": "code",
   "execution_count": null,
   "id": "258a2858-4b1d-4e68-a770-403028a799f5",
   "metadata": {
    "execution": {
     "iopub.status.busy": "2024-07-05T20:05:50.893563Z",
     "iopub.status.idle": "2024-07-05T20:05:50.893820Z",
     "shell.execute_reply": "2024-07-05T20:05:50.893715Z",
     "shell.execute_reply.started": "2024-07-05T20:05:50.893706Z"
    },
    "tags": []
   },
   "outputs": [],
   "source": [
    "# Instantiate a DP0.2 TAP service \n",
    "service = get_tap_service(\"tap\")\n",
    "assert service is not None"
   ]
  },
  {
   "cell_type": "markdown",
   "id": "29e3c6d4-2f69-44ce-95fb-acd8a4539ec1",
   "metadata": {},
   "source": [
    "### 2.1 The Rubin Observation Data Model\n",
    "\n",
    "TAP services provide information on the various schemas and tables they contain in a special table named `TAP_SCHEMA`. The  `tap_schema.schemas` table lists all the schemas hosted in the RSP. "
   ]
  },
  {
   "cell_type": "code",
   "execution_count": null,
   "id": "cf42c29c-01da-4d5a-992a-64ee26a33c12",
   "metadata": {
    "execution": {
     "iopub.status.busy": "2024-07-05T20:05:50.894891Z",
     "iopub.status.idle": "2024-07-05T20:05:50.895113Z",
     "shell.execute_reply": "2024-07-05T20:05:50.895016Z",
     "shell.execute_reply.started": "2024-07-05T20:05:50.895008Z"
    }
   },
   "outputs": [],
   "source": [
    "Which tables can I query via the TAP service\n",
    "SELECT schema_name, table_name, description\n",
    "FROM TAP_SCHEMA.tables\n",
    "ORDER BY schema_name, table_name\n",
    "\n",
    "-- Further details:\n",
    "-- All TAP services must support a set of (meta) tables, in a schema named TAP_SCHEMA.\n",
    "-- These meta-tables describe all tables and columns published through the TAP service.\n",
    "-- The meta-tables can be queried themselves via TAP.\n",
    "-- Users can discover ESO-published tables or columns by querying the tables in this schema"
   ]
  },
  {
   "cell_type": "code",
   "execution_count": null,
   "id": "588a5812-66eb-448f-b6b0-6623eb1ed31c",
   "metadata": {
    "execution": {
     "iopub.status.busy": "2024-07-05T20:05:50.895842Z",
     "iopub.status.idle": "2024-07-05T20:05:50.896063Z",
     "shell.execute_reply": "2024-07-05T20:05:50.895959Z",
     "shell.execute_reply.started": "2024-07-05T20:05:50.895951Z"
    },
    "tags": []
   },
   "outputs": [],
   "source": [
    "query = \"\"\"\n",
    "SELECT * FROM tap_schema.schemas\n",
    "\"\"\"\n",
    "results = service.search(query).to_table()\n",
    "results"
   ]
  },
  {
   "cell_type": "markdown",
   "id": "72ae6f1d-1415-41cc-8b06-bfc3d54b47be",
   "metadata": {
    "execution": {
     "iopub.execute_input": "2024-07-03T18:41:27.931368Z",
     "iopub.status.busy": "2024-07-03T18:41:27.930489Z",
     "iopub.status.idle": "2024-07-03T18:41:27.936503Z",
     "shell.execute_reply": "2024-07-03T18:41:27.935749Z",
     "shell.execute_reply.started": "2024-07-03T18:41:27.931336Z"
    }
   },
   "source": [
    "The `dp01_dc2_catalogs` and `dp02_dc2_catalogs` schemas contain the tables of Rubin data products, e.g. Object, ForcedSource, Visit, etc.  The other three schemas contain IVOA-defined standard tables that contain metadata related to a service: <br>\n",
    "\n",
    "- `tap_schema`  metadata related to the TAP service, e.g  tables and columns exposed, indexing, descriptions and other information about columns.  All TAP services must support a set of tables in a schema named TAP_SCHEMA that describe the tables and columns included in the service.\n",
    "- `ivoa` metadata related to the Observation data model for Rubin datasets, useful for data discovery  \n",
    "- `UWS` metadata related to the Universal Worker Service (UWS) pattern for managing asynchronous execution of jobs on a service.\n",
    "\n",
    "Tutorial [NB 02. Catalog Queries with TAP](https://dp0-2.lsst.io/_static/nb_html/DP02_02_Catalog_Queries_with_TAP.html) explores the `tap_schema`. In this tutorial we will explore the `ivoa` schema, which holds the `ivoa.ObsCore` table containing generic metadata for the datasets held at the US Data Access Center (US DAC). The table is accessible via ADQL queries via a TAP endpoint."
   ]
  },
  {
   "cell_type": "markdown",
   "id": "06abaf8a-389a-45cf-8745-eb46f14157c6",
   "metadata": {},
   "source": [
    "The IVOA maintains a registry of all VO compliant services. We can interrogate this registry to find all the Tap services that support the ObsCoreDM. Valid registry keywords incluide: author, datamodel, ivoid, keywords, servicetype, spatial, spectral, temporal, ucd, waveband."
   ]
  },
  {
   "cell_type": "code",
   "execution_count": null,
   "id": "1e8e80c6-0294-441d-b8a2-7bc41a783994",
   "metadata": {
    "execution": {
     "iopub.status.busy": "2024-07-05T20:05:50.896555Z",
     "iopub.status.idle": "2024-07-05T20:05:50.896770Z",
     "shell.execute_reply": "2024-07-05T20:05:50.896681Z",
     "shell.execute_reply.started": "2024-07-05T20:05:50.896673Z"
    }
   },
   "outputs": [],
   "source": [
    "query = \"\"\"\n",
    "SELECT * FROM tap_schema.tables where schema_name like 'ivoa' order by table_index ASC\n",
    "\"\"\"\n",
    "result = service.search(query).to_table()\n",
    "result"
   ]
  },
  {
   "cell_type": "code",
   "execution_count": null,
   "id": "a561d6c0-d2ca-4f3e-a36c-c02d63d180c4",
   "metadata": {
    "execution": {
     "iopub.status.busy": "2024-07-05T20:05:50.897677Z",
     "iopub.status.idle": "2024-07-05T20:05:50.897898Z",
     "shell.execute_reply": "2024-07-05T20:05:50.897795Z",
     "shell.execute_reply.started": "2024-07-05T20:05:50.897787Z"
    }
   },
   "outputs": [],
   "source": [
    "What are the column names of the ObsCore table?\n",
    "SELECT column_name, datatype, unit, ucd, utype\n",
    "from TAP_SCHEMA.columns\n",
    "where table_name='ivoa.ObsCore'\n"
   ]
  },
  {
   "cell_type": "markdown",
   "id": "4a2d27db-79ab-4c51-926f-5c19b2f95784",
   "metadata": {},
   "source": [
    "The `ivoa` schema holds one table,  the`ivoa.ObsCore` table, which contains generic metadata for all datasets held at the US DAC.\n",
    "Observation Data Model Core Components and its Implementation in the Table Access Protocol (ObsCore)\thttps://www.ivoa.net/documents/ObsCore/20111028/\n",
    "\n",
    "\n",
    "Here are some definitions to help understand the description of this schema: \n",
    "* `ObsCore` - Observation Core components. Metadata for the discovery of data via an IVOA-standard-compliant TAP service, such as the Rubin TAP service. It describes the core components and the metadata to be attached to an astronomical observation,primarily describes data products by the physical axes (spatial, spectral, time, and polarization).ObsCore Data Model, \n",
    "* `ObsCoreDM` - Observation Core components Data Model. A data model that primarily describes data products by the physical axes (spatial, spectral, time, and polarization).\n",
    "* `ObsTAP` - TAP interface to an Observation Data Model.\n",
    "\n",
    "An ObsCore table may contain a) optional ObsCore-defined columns, and/or b) additional service-specific columns.\n",
    "  \n",
    "ObsTAP and the observation data model describe observations in a broad sense (exactly what comprises an \"observation\" is not well defined within astronomy and is left up to the data provider to define for their data).  In general an \"observation\" may be composed of multiple individual data products. ObsTAP also describes archive data products (e.g., actual archive files)."
   ]
  },
  {
   "cell_type": "markdown",
   "id": "44e33915-d813-4ee5-86be-01d3d97ea987",
   "metadata": {
    "execution": {
     "iopub.execute_input": "2024-07-05T15:58:58.894698Z",
     "iopub.status.busy": "2024-07-05T15:58:58.893919Z",
     "iopub.status.idle": "2024-07-05T15:58:58.900131Z",
     "shell.execute_reply": "2024-07-05T15:58:58.899300Z",
     "shell.execute_reply.started": "2024-07-05T15:58:58.894664Z"
    }
   },
   "source": [
    "\n",
    "Let's take a look at how to query the ObsCore table. We will start by looking at the table collections (schemas) present. In addition to the DP0.1 and DP0.2 catalog and TAP schema that were present in DP0.1, you will now see a new schema called \"ivoa\".\n",
    "\n",
    "We will look at the ObsCore Data Model and explore some of the most common informatin fileds that people will want to use.\n",
    "\n",
    "IVOA prescribes a set of Core Components of teh Observation data model -- a set of colums that must be included within teh `ivoa.ObsCore` table and a data center's data model. On top of those, dta centers can add dataset/survey specific columns\n",
    "\n",
    "We will take a look at the LSST ObsCore Data Model (ObsCoreDM) and how to query it using the ObsTAP service. \n",
    "We will then look at how to download data products.\n",
    "\n",
    "which contains a table called ivoa.ObsCore. \n",
    "The IVOA-defined obscore table contains generic metadata for datasets held at the IDF. \n",
    "The table is accessible via ADQL queries via a TAP endpoint. \n",
    "The mechanism for locating images from obsevations is to make a TAP query against the ObsCore schema.\n",
    "\n",
    "Let's use the TAP service to look at the tables in the ivoa table collection.  \n",
    "The ivoa schema contains 1 table called \\\"ivoa.ObsCore\\\". This table holds the observation metadata for all images in the DP0.2 dataset. Let's look a the main concepts in the ObsCore data model. \n",
    "\n",
    "The IVOA-defined obscore table, containing generic metadata for datasets within this datacenter.  The table is accessible via ADQL queries via a TAP endpoint."
   ]
  },
  {
   "cell_type": "markdown",
   "id": "aaf3c5b5-4d5e-4c76-9fec-0ad7ed4c5e99",
   "metadata": {},
   "source": [
    "The ObsCore data model that we see above results from analysis carried out by the IVOA to support global data discovery and accessibility. Many of the columns are a mandatory fields of the Observation Core Components data model including their name, recommended units, data type and designation."
   ]
  },
  {
   "cell_type": "code",
   "execution_count": null,
   "id": "e42604c6-d2b1-4ba5-8275-15ac7c48cfbd",
   "metadata": {
    "execution": {
     "iopub.status.busy": "2024-07-05T20:05:50.898717Z",
     "iopub.status.idle": "2024-07-05T20:05:50.898936Z",
     "shell.execute_reply": "2024-07-05T20:05:50.898838Z",
     "shell.execute_reply.started": "2024-07-05T20:05:50.898830Z"
    },
    "scrolled": true,
    "tags": []
   },
   "outputs": [],
   "source": [
    "# Let's take a look at the metadata about images that is contain in the Rubin ObsCore table\n",
    "query = \"\"\"SELECT *\n",
    "  FROM tap_schema.columns\n",
    "  WHERE table_name = 'ivoa.ObsCore'\n",
    "\"\"\"\n",
    "result = service.search(query).to_table()\n",
    "result[result.colnames[3:12]]"
   ]
  },
  {
   "cell_type": "markdown",
   "id": "3009063a-c22d-4390-9136-b84396511633",
   "metadata": {},
   "source": [
    "- `dataproduct_type` : The data product type, e.g  Image, Spectrum, SED\n",
    "- `dataproduct_subtype`: The dataproduct subtype, e.g PVI, coadd, difference image\n",
    "- `calib_level`: The calibration level indicating the amount of calibration processing that was applied to create the data product. "
   ]
  },
  {
   "cell_type": "markdown",
   "id": "3dc45010-74f7-49a8-830d-27b9dbd93854",
   "metadata": {},
   "source": [
    "### 2.2 Data Discovery using ObsCore \n",
    "\n",
    "Let's look at some examples of how we can use the metadata about Rubin images in the ObsCore table ObsCoreThe Rubin ObsCore table holds the observation metadata for all images in the DP0.2 dataset. Let's explore the contents of the ObsCore table. "
   ]
  },
  {
   "cell_type": "markdown",
   "id": "ec704406-2fc4-4471-8f6f-aff40ce37929",
   "metadata": {
    "execution": {
     "iopub.execute_input": "2024-07-05T17:49:21.984215Z",
     "iopub.status.busy": "2024-07-05T17:49:21.983594Z",
     "iopub.status.idle": "2024-07-05T17:49:21.988445Z",
     "shell.execute_reply": "2024-07-05T17:49:21.987785Z",
     "shell.execute_reply.started": "2024-07-05T17:49:21.984192Z"
    }
   },
   "source": [
    "#### 2.2.1 Discovery by data product type\n",
    "\n",
    "The model defines a data product type attribute. This is the observation product that a user will query for an retrieve, e.g \\\"image\\\", \\\"spectrum\\\". There is currently only one data product type supported in the Rubin ObsCore DM -- \\\"image\\\".  DP0.2 also has only one `facility_name`, `instrument_name` and `obs_collection`. So for DP0.0, including filters on these fields does not do anything, and you can safely omit them. Rubin however has several instruments, `AuxTel`, `ComCam`, `LSSTCam` so when real data arrives, will have more values. "
   ]
  },
  {
   "cell_type": "code",
   "execution_count": null,
   "id": "32eecbd6-afa1-4750-82fc-4131177ca620",
   "metadata": {
    "execution": {
     "iopub.status.busy": "2024-07-05T20:02:40.048404Z",
     "iopub.status.idle": "2024-07-05T20:02:40.048693Z",
     "shell.execute_reply": "2024-07-05T20:02:40.048549Z",
     "shell.execute_reply.started": "2024-07-05T20:02:40.048539Z"
    },
    "tags": []
   },
   "outputs": [],
   "source": [
    "query = \"\"\" \n",
    "SELECT dataproduct_type, facility_name, instrument_name, obs_collection, COUNT(*) \n",
    "FROM ivoa.ObsCore \n",
    "GROUP BY dataproduct_type\n",
    "\"\"\"\n",
    "result = service.search(query).to_table()\n",
    "result"
   ]
  },
  {
   "cell_type": "markdown",
   "id": "437951a5-fcb7-45c5-94ae-b1e3b99095af",
   "metadata": {},
   "source": [
    "In addition to the data product type, there are five unique data product subtypes defined in the ObsCore table. The data product subtype allows us to be more specific about data product type. Let's take a look at the data products defined in the Rubin ObsCore DM. "
   ]
  },
  {
   "cell_type": "code",
   "execution_count": null,
   "id": "550cee32-6445-4f59-ae04-edb04df12cec",
   "metadata": {
    "execution": {
     "iopub.status.busy": "2024-07-05T20:02:40.049513Z",
     "iopub.status.idle": "2024-07-05T20:02:40.049830Z",
     "shell.execute_reply": "2024-07-05T20:02:40.049685Z",
     "shell.execute_reply.started": "2024-07-05T20:02:40.049671Z"
    }
   },
   "outputs": [],
   "source": [
    "query = \"\"\" \n",
    "SELECT dataproduct_type, dataproduct_subtype, COUNT(*) \n",
    "FROM ivoa.ObsCore \n",
    "GROUP BY dataproduct_subtype\n",
    "\"\"\"\n",
    "result = service.search(query).to_table()\n",
    "result"
   ]
  },
  {
   "cell_type": "markdown",
   "id": "9ac2b2b2-7d72-4c7b-94a2-6a7382d8e755",
   "metadata": {
    "execution": {
     "iopub.execute_input": "2024-07-05T17:47:52.434515Z",
     "iopub.status.busy": "2024-07-05T17:47:52.433778Z",
     "iopub.status.idle": "2024-07-05T17:47:52.439170Z",
     "shell.execute_reply": "2024-07-05T17:47:52.438549Z",
     "shell.execute_reply.started": "2024-07-05T17:47:52.434490Z"
    }
   },
   "source": [
    "The calibration level tells the user the amount of calibration processing that was applied to create the data product. -  cannot be null for any entry in the ObsCore table. The following goves the defined calib_levels and their relationship to the LSST data products.\n",
    "cannot be null for any entry in the ObsCore table. The following goves the defined calib_levels and their relationship to the LSST data products. \n",
    "\n",
    "- `0`:  raw instrumental data, possibly in proprietary internal provider format\n",
    "- `1`: instrumental data that may or may mot be calibrated in standard format -- lsst.raw\n",
    "- `2`: science-ready calibrated data with instrument signature removed -- lsst.calexp\n",
    "- `3`: enhanced science-ready data products, e.g mosaics, coadds, difference images -- lsst.deepCoadd_calexp, lsst.goodSeeingDiff_differenceExp, lsst.goodSeeingCoadd"
   ]
  },
  {
   "cell_type": "code",
   "execution_count": null,
   "id": "13607423-a737-4bc7-99af-8b779381a50f",
   "metadata": {
    "execution": {
     "iopub.status.busy": "2024-07-05T20:02:40.050411Z",
     "iopub.status.idle": "2024-07-05T20:02:40.050674Z",
     "shell.execute_reply": "2024-07-05T20:02:40.050528Z",
     "shell.execute_reply.started": "2024-07-05T20:02:40.050520Z"
    },
    "tags": []
   },
   "outputs": [],
   "source": [
    "query = \"\"\" SELECT  dataproduct_type, dataproduct_subtype, calib_level, COUNT(*) \n",
    "FROM ivoa.ObsCore \n",
    "GROUP BY dataproduct_subtype, calib_level\n",
    "ORDER BY calib_level\n",
    "\"\"\"\n",
    "result = service.search(query).to_table()\n",
    "result"
   ]
  },
  {
   "cell_type": "markdown",
   "id": "cd3414c5-42d1-4fc2-a34c-bea7f3fc0d10",
   "metadata": {},
   "source": [
    "[dp0-2.lsst.io](https://dp0-2.lsst.io/data-products-dp0-2/index.html) lists many more data product types that are not listed here. For example, \"deepCoadd\" is not listed and you will not find any deepCoadd data product in the ObsCore table. Need to investigate. "
   ]
  },
  {
   "cell_type": "markdown",
   "id": "3ca2a4c6-572f-468a-b3e4-78c9055fe216",
   "metadata": {
    "execution": {
     "iopub.execute_input": "2024-07-05T17:50:24.980666Z",
     "iopub.status.busy": "2024-07-05T17:50:24.980302Z",
     "iopub.status.idle": "2024-07-05T17:50:24.983733Z",
     "shell.execute_reply": "2024-07-05T17:50:24.983208Z",
     "shell.execute_reply.started": "2024-07-05T17:50:24.980642Z"
    }
   },
   "source": [
    "#### 2.2.2.Discovery by spatial coordinates "
   ]
  },
  {
   "cell_type": "markdown",
   "id": "0e896290-9758-4b38-9a08-39f26db04ae1",
   "metadata": {},
   "source": [
    "The ObsCore model also defines a region with the `s_region` column expressed in the ICRS frame. We can use this attribute to select  image data products that fall into a given region, and then add additional filters."
   ]
  },
  {
   "cell_type": "code",
   "execution_count": null,
   "id": "a5e808b7-7af5-4dc4-ab8c-bbe6f42d5b5c",
   "metadata": {
    "tags": []
   },
   "outputs": [],
   "source": [
    "# Define a position and angular radius for the search \n",
    "center_coords = SkyCoord(55.74673760481304, -32.286155241413624, frame='icrs', unit='deg')\n",
    "ang_radius = 10*u.deg"
   ]
  },
  {
   "cell_type": "code",
   "execution_count": null,
   "id": "9330982d-4d93-4cff-bb03-1baa7f6bbce9",
   "metadata": {},
   "outputs": [],
   "source": [
    "# Why does s_region come back with a POLYGON when I specify a CIRCLE?\n",
    "query_template = \"\"\"\n",
    "SELECT *\n",
    "FROM ivoa.ObsCore\n",
    "WHERE 1=CONTAINS(\n",
    "  POINT('ICRS', ivoa.ObsCore.s_ra, ivoa.ObsCore.s_dec),\n",
    "  CIRCLE('ICRS', {ra}, {dec}, {radius})\n",
    ") \n",
    "\"\"\"\n",
    "query = query_template.format(ra=center_coords.ra.deg, \n",
    "                              dec=center_coords.dec.deg, \n",
    "                              radius=ang_radius.value)\n",
    "result = service.search(query).to_table()\n",
    "print(len(result))"
   ]
  },
  {
   "cell_type": "markdown",
   "id": "cf4fde3c-c76d-4e85-a873-e57b010e83c0",
   "metadata": {},
   "source": [
    "That's a lot of images in a 0.1 deg field. We can add some more filters "
   ]
  },
  {
   "cell_type": "code",
   "execution_count": null,
   "id": "8ec35357-6904-4db4-a5bf-719fce8a54a0",
   "metadata": {
    "tags": []
   },
   "outputs": [],
   "source": [
    "query_deep_coadd = query_template.format(\n",
    "    ra=center_coords.ra.deg, \n",
    "    dec=center_coords.dec.deg, \n",
    "    radius=0.15) \n",
    "query += str(\"\"\"AND dataproduct_type = 'image' \n",
    "    AND obs_collection = 'LSST.DP02' \n",
    "    AND dataproduct_subtype = 'lsst.deepCoadd_calexp'\n",
    "    AND lsst_band='r'\n",
    "    \"\"\")\n",
    "results = service.search(query_deep_coadd)\n",
    "results.to_table()"
   ]
  },
  {
   "cell_type": "code",
   "execution_count": null,
   "id": "2074c5a8-6f2f-4543-a3b3-fde07b7f936a",
   "metadata": {},
   "outputs": [],
   "source": []
  },
  {
   "cell_type": "raw",
   "id": "2cb6c061-f0ac-4882-aba1-66b0a4063c6b",
   "metadata": {},
   "source": []
  },
  {
   "cell_type": "markdown",
   "id": "df7608e2-abd7-4dae-84fb-e40b141e936d",
   "metadata": {},
   "source": [
    "We see that there are 6 deepCoadd_calexp images, one for each filter. Alternatively, knowing the patch and tract, can query directly for the same images and specify a filter. "
   ]
  },
  {
   "cell_type": "code",
   "execution_count": null,
   "id": "a8eb76fc-c675-42d0-8c36-237334eac02a",
   "metadata": {
    "tags": []
   },
   "outputs": [],
   "source": [
    "query = \"\"\"SELECT * FROM ivoa.ObsCore \n",
    "WHERE dataproduct_type = 'image'\n",
    "AND obs_collection = 'LSST.DP02' \n",
    "AND dataproduct_subtype = 'lsst.deepCoadd_calexp'\n",
    "AND lsst_tract = 4431\n",
    "AND lsst_patch = 17\n",
    "AND lsst_band = 'i'\n",
    "\"\"\"\n",
    "results = service.search(query)\n",
    "results.to_table()"
   ]
  },
  {
   "cell_type": "code",
   "execution_count": null,
   "id": "c77a3cec-928a-46df-94fa-a7b2dfea3d26",
   "metadata": {},
   "outputs": [],
   "source": [
    "# Let's search for the image that contains the SN1a used in tutorial 7a. \n",
    "query = \"\"\"SELECT * FROM ivoa.ObsCore \n",
    "WHERE dataproduct_type = 'image'\n",
    "AND obs_collection = 'LSST.DP02' \n",
    "AND dataproduct_subtype = 'lsst.deepCoadd_calexp'\n",
    "AND lsst_tract = 4431\n",
    "AND lsst_patch = 17\n",
    "AND lsst_band = 'i'\n",
    "\"\"\"\n",
    "diaObjectId = 1250953961339360185\n"
   ]
  },
  {
   "cell_type": "markdown",
   "id": "e3d6e276-c46a-4f71-9b62-0c7f66cb3b2e",
   "metadata": {},
   "source": [
    "2.2.2.X  Query products by filter, sorting by declination"
   ]
  },
  {
   "cell_type": "markdown",
   "id": "11f7514d-4580-4850-bac0-f37e5caed0f5",
   "metadata": {},
   "source": [
    "### 2.3 Data Access using the DataLink Links Service\n",
    "\n",
    "Now that we know how to query the ObsCore table to find images, lets see how to access them. We will use the i-band image in tract 4431, patch 17 that we queried for above as an example. The information needed to access the image data product is provided by the \\\"access_url\\\" and \\\"access_format\\\" columns. \n",
    "\n",
    "* `DataLink` - An IVOA standard to link from metadata about a dataset to the dataset itself, as well as other related data and services that can operate on that data. This is new and we will lok at it in this tutorial\n",
    "* `SODA`\n",
    "* `SIA` -- want to intriduce this now as a concept\n",
    "\n",
    "\n",
    "* `access_url` - column that contains a URL for each observation with a retrievable image. \n",
    "* `access_format` - specifies the format (content type) of the data product. \n",
    "\n",
    "The `access_url` format is `<rsp-base-url>/api/datalink/links?ID=<id>` where `<rsp-base-url>` is the base URL of the instance of the Rubin Science Platform and `<id>` is a unique identifier (UUID) for the image in the Butler. Note that if an observation listed in the ObsCore table does not have a corresponding retrievable image, `access_url` will be null. \n",
    " \n",
    "The `access_format` specifies the format of the URL in the `access_url` column. It is set to `application/x-votable+xml;content=datalink` to indicate that the `access_url` is a [DataLink](https://www.ivoa.net/documents/DataLink/) service. DataLink is an IVOA data access protocol that provides a linking mechanism metadata about a dataset and the dataset itself. Storing non-tabular data such as images and spectra in tables in a relational database is impractical. Instead we use the dedicated DataLink service designed to handle large volumes of requests to host these datasets. "
   ]
  },
  {
   "cell_type": "markdown",
   "id": "6f7e1e99-415e-47a3-8ef5-c4d6ce81209e",
   "metadata": {},
   "source": [
    "Let's get the DataLink URL for the i-band image in tract 4431, patch 17. Note that we can use the method `getdataurl` to get the URL in the `access_url` field."
   ]
  },
  {
   "cell_type": "code",
   "execution_count": null,
   "id": "b5e3f653-d2af-4269-b3b4-a04536fd44a7",
   "metadata": {
    "tags": []
   },
   "outputs": [],
   "source": [
    "dataLinkUrl = results[0].getdataurl()\n",
    "f\"Datalink link service url: {dataLinkUrl}\""
   ]
  },
  {
   "cell_type": "markdown",
   "id": "497e9fc4-c080-4c39-8a84-a050de45a50e",
   "metadata": {},
   "source": [
    "Extract the UUID for the image from the DataLink URL."
   ]
  },
  {
   "cell_type": "code",
   "execution_count": null,
   "id": "ea1bb8f9-6335-4de7-909e-015cce9a14fc",
   "metadata": {
    "tags": []
   },
   "outputs": [],
   "source": [
    "image_uuid = uuid.UUID(dataLinkUrl.split(\"dp02/\",1)[1])\n",
    "assert isinstance(image_uuid, uuid.UUID)\n",
    "f\"UUID for i-band image tract 4431, patch 17 is: {image_uuid}\""
   ]
  },
  {
   "cell_type": "markdown",
   "id": "2f6fe21a-9c5b-4072-a66c-3f6c3aea5cbd",
   "metadata": {},
   "source": [
    "Let's check that the UUID extracted from the DataLink URL coresponds to the same data product from the Butler"
   ]
  },
  {
   "cell_type": "code",
   "execution_count": null,
   "id": "cb99e6a7-9d6d-46df-993f-6b57bbe3c4ce",
   "metadata": {
    "tags": []
   },
   "outputs": [],
   "source": [
    "butler = Butler('dp02', collections='2.2i/runs/DP0.2')\n",
    "registry = butler.registry\n",
    "dataId = {'band':'i', 'tract':4431, 'patch': 17}\n",
    "datasetRef = registry.findDataset('deepCoadd_calexp', dataId)\n",
    "deepCoadd_uuid = datasetRef.id\n",
    "assert deepCoadd_uuid == image_uuid\n",
    "f\"UUID for deep coadd with dataId {dataId} is {deepCoadd_uuid}\""
   ]
  },
  {
   "cell_type": "markdown",
   "id": "6dea90f3-bc39-4435-b1a3-8cf4e3fad6cf",
   "metadata": {},
   "source": [
    "Alternatively, if we know the UUID for a data product, we can use it to query the ObsCore table directly as follows."
   ]
  },
  {
   "cell_type": "code",
   "execution_count": null,
   "id": "fd9bb35b-05b6-4afe-a489-0b2ff4480950",
   "metadata": {
    "tags": []
   },
   "outputs": [],
   "source": [
    "query = \"\"\"\n",
    "SELECT access_url, dataproduct_subtype, lsst_patch, lsst_tract, lsst_band\n",
    "FROM ivoa.ObsCore \n",
    "WHERE access_url like '%20d28216-534a-4102-b8a7-1c7f32a9b78c' \n",
    "\"\"\"\n",
    "results = service.search(query)\n",
    "assert len(results) == 1  \n",
    "results.to_table()"
   ]
  },
  {
   "cell_type": "markdown",
   "id": "26ce6467-7105-4474-8312-32c5f049a097",
   "metadata": {},
   "source": [
    "Now that we know have the DataLink URL for our image, let's see how to access it. Before proceeding however, we need to extract the session authentiction for reuse. "
   ]
  },
  {
   "cell_type": "code",
   "execution_count": null,
   "id": "2f3462dc-08c5-418f-843c-a36cb5ca3ee7",
   "metadata": {},
   "outputs": [],
   "source": [
    "auth_session = service._session"
   ]
  },
  {
   "cell_type": "markdown",
   "id": "d9eb6a7b-1591-45bb-b8ab-5081c19a497b",
   "metadata": {},
   "source": [
    "We will use the PyVo `DatalinkResults` class to return a list matching records, each record containing a set of metadata describing the record."
   ]
  },
  {
   "cell_type": "code",
   "execution_count": null,
   "id": "5df7b97c-7c76-4d5c-8fe6-0c3f1c749dd3",
   "metadata": {
    "tags": []
   },
   "outputs": [],
   "source": [
    "dl_results = DatalinkResults.from_result_url(dataLinkUrl,session=auth_session)\n",
    "f\"{dl_results.status}\""
   ]
  },
  {
   "cell_type": "code",
   "execution_count": null,
   "id": "0a72a703-17e4-418a-a77c-33570eb58631",
   "metadata": {
    "tags": []
   },
   "outputs": [],
   "source": [
    "dl_results.to_table().show_in_notebook()"
   ]
  },
  {
   "cell_type": "markdown",
   "id": "a843c2b9-6234-4b01-a4da-82f1a2dc3bf6",
   "metadata": {},
   "source": [
    "In the table above we see that two records are returned for our image. The first is a signed URL for the image (Primary image or observation data file) that is valid for one hour. ADD some text explaning where the image is stored and the URL. The second is a link to the cutout service.\n",
    "\n",
    "DataLinks return results: In addition to providing a link to the image, we also want to provide pointers to associated services, in this case,  to a SODA-compliant image cutout service. Attaching the image cutout service descriptor the the DataLinks links service is a simple and convienient way to keep all the metadata about the image together.  Additionaly, this will allow us, for example, to point a future SIA service at the same DataLink links service and thus easily provide the same service descriptors.\n",
    "\n",
    "We will look at the cutout service in part 4 of this tutorial. First, we will use the signed URL to visualise the image"
   ]
  },
  {
   "cell_type": "code",
   "execution_count": null,
   "id": "09b365cd-40f0-4ec0-b32c-5e42e63b51f1",
   "metadata": {
    "tags": []
   },
   "outputs": [],
   "source": [
    "image_url = dl_results.getrecord(0).get('access_url')\n",
    "f\"{image_url}\""
   ]
  },
  {
   "cell_type": "markdown",
   "id": "5e2b54ff-a02d-4173-a359-187302c0f52e",
   "metadata": {},
   "source": [
    "We can plot the image by making an Exposure object directly from the URL. Let's plot this image side by side the image retrieved via the Butler"
   ]
  },
  {
   "cell_type": "code",
   "execution_count": null,
   "id": "fa867727-c815-4fa6-bbb5-7c759563079c",
   "metadata": {
    "tags": []
   },
   "outputs": [],
   "source": [
    "image_datalink = ExposureF(image_url)\n",
    "image_butler =  butler.get('deepCoadd_calexp', dataId=dataId)"
   ]
  },
  {
   "cell_type": "code",
   "execution_count": null,
   "id": "2d353164-e546-4550-a635-0a398efa046a",
   "metadata": {
    "tags": []
   },
   "outputs": [],
   "source": [
    "img_opts = dict(height=300, width=350, xaxis=\"bottom\",\n",
    "                padding=0.05, fontsize={'title': '8pt'},\n",
    "                colorbar=False, toolbar=None, show_grid=False, \n",
    "                tools=[])"
   ]
  },
  {
   "cell_type": "code",
   "execution_count": null,
   "id": "cf41a5f3-445f-4684-89a1-bfab1f95183b",
   "metadata": {
    "tags": []
   },
   "outputs": [],
   "source": [
    "dl_image = transformAndPlotImage(image_datalink, \"Image from ObsCore\", img_opts) \n",
    "butler_image = transformAndPlotImage(image_butler, \"Image from Butler\", img_opts)\n",
    "layout = hv.Layout(dl_image + butler_image).cols(2)\n",
    "layout"
   ]
  },
  {
   "cell_type": "markdown",
   "id": "b4e33b16-b9a6-494c-8618-8d8b0d8aa250",
   "metadata": {
    "execution": {
     "iopub.execute_input": "2023-02-23T00:30:19.882091Z",
     "iopub.status.busy": "2023-02-23T00:30:19.881419Z",
     "iopub.status.idle": "2023-02-23T00:30:19.884586Z",
     "shell.execute_reply": "2023-02-23T00:30:19.884045Z",
     "shell.execute_reply.started": "2023-02-23T00:30:19.882070Z"
    }
   },
   "source": [
    "### 2.3 Inspecting and Downloading Images\n",
    "\n",
    "We can open the image and inspect the header information witout downloading the image. The image is clearly a coadd. We can download the image using \n",
    "the astropy utility function `download_file` that downloads a file from a URL and optionally caches the result.  "
   ]
  },
  {
   "cell_type": "code",
   "execution_count": null,
   "id": "307c6025-db28-44ab-a38d-ccbe969dc675",
   "metadata": {},
   "outputs": [],
   "source": [
    "hdulist = fits.open(image_url)\n",
    "for hdu in hdulist:\n",
    "    print(hdu.name)"
   ]
  },
  {
   "cell_type": "code",
   "execution_count": null,
   "id": "96074baf-f05d-4772-bb97-93de86914d63",
   "metadata": {
    "tags": []
   },
   "outputs": [],
   "source": [
    "filename = download_file(image_url, cache=True, timeout=120, show_progress=False)\n",
    "assert os.path.isfile(filename)\n",
    "f\"Downloaded image to {filename}\""
   ]
  },
  {
   "cell_type": "markdown",
   "id": "63701f26-24c7-422a-b2d0-283f9abb1486",
   "metadata": {},
   "source": [
    "We can inspect the header information "
   ]
  },
  {
   "cell_type": "code",
   "execution_count": null,
   "id": "1613b5f6-3005-4c73-bf9c-2a2a3b4579e1",
   "metadata": {
    "tags": []
   },
   "outputs": [],
   "source": [
    "hdu = fits.open(filename)[0]\n",
    "image = hdu.data\n",
    "hdr = hdu.header\n",
    "wcs = WCS(hdr)"
   ]
  },
  {
   "cell_type": "markdown",
   "id": "4ea80e3b-e099-4d12-b3f6-c7c5c2e9c380",
   "metadata": {},
   "source": [
    "Or just plot the image directly by creating an `ExposureF` object"
   ]
  },
  {
   "cell_type": "code",
   "execution_count": null,
   "id": "f342df52-6d93-4540-8852-1659fabecd70",
   "metadata": {
    "tags": []
   },
   "outputs": [],
   "source": [
    "image_download = ExposureF(filename)\n",
    "transformAndPlotImage(image_download, \"Downloaded image\", img_opts)"
   ]
  },
  {
   "cell_type": "markdown",
   "id": "71d14244-bfe3-4cbd-86d7-b83a1665987e",
   "metadata": {},
   "source": [
    "X. Image Services\n",
    "\n",
    "Image servies are base on the ObsCore observatin metadata service IVOA-standard-compliant implementation of the SODA image cutout service"
   ]
  },
  {
   "cell_type": "markdown",
   "id": "b59c8395-8d50-4619-a786-306428d04e78",
   "metadata": {
    "jp-MarkdownHeadingCollapsed": true
   },
   "source": [
    "## 3 The Rubin Image Cutout Service \n",
    "\n",
    "When working with astronomical images, it is often desireable to work with only a cutout of a larger image, centered on a region of interest, for example a star cluster or supernova. Rubin provides an `Image Cutout Service` that can be used to create and retrieve cutouts of defined regions of interest in an image.\n",
    "\n",
    "The Rubin Image Cutout Serivce is implemented using the [IVOA SODA](https://ivoa.net/documents/SODA/20170517/REC-SODA-1.0.html) standard. SODA (Server-side Operations for Data Access) is a low-level data access capability or server side data processing that can act upon data files, performing various kinds of operations, such as filtering/subsection, transformations, pixel operations, and applying functions to the data.\n",
    "\n",
    "An initial implementation of the image cutout service has been deployed as part of DP0.2. The current serivce supports CIRCLE and POLYGON stencils and will will only return FITS files. Only a single ID (UUID) parameter that uniquly identifies a source images and a single stencil parameter are supported. Only synchronouse queries of the cutout service run currently. An asynchronous quert support may be introduced in the future.\n",
    "\n",
    "SODA requires each cutout filter parameter produce a separate result file, which forbids returning a single FITS file with all cutouts included (which seems like a better data model for services that can handle it)."
   ]
  },
  {
   "cell_type": "markdown",
   "id": "de90ee64-d051-4e9b-91a8-4f69dd67b760",
   "metadata": {},
   "source": [
    "Let's go back to the DataLink results in section 2.2 for the single i-band image we retrieved in tract 4431, patch 17. Recall that there were 2 results, the signed URL for the image and a second result. Let's now take a look at the second result. The `service_def` field in the second record is `cutout-sync` and the `description` field tells us that this is a cutout service implemented using the SODA protocol. \n",
    "\n",
    "Now lets look at the second result in the DataLink table above. This record provides informaitn about the cutout service. We will use this to get a cutout by using SodaQuery Now lets look at the second result in the DataLink table above. "
   ]
  },
  {
   "cell_type": "markdown",
   "id": "15136bc1-c0f5-4035-b801-312aefa5b9d8",
   "metadata": {},
   "source": [
    "### Input Parameters\n",
    "\n",
    "SODA calls parameters that control the shape of the cutout “filtering parameters” or “filters.” The word \"filter\" is highly overloaded in astronomy.\n",
    "IVOA can support many input parameters. We are only supporting CIRCLE AND POLYGON initially"
   ]
  },
  {
   "cell_type": "markdown",
   "id": "04cd1bb7-709d-4ded-b941-3f6f34adaa96",
   "metadata": {},
   "source": [
    "Uses cases \n",
    "\n",
    "Data discovery produces data identifiers. These data identifiers can then be used directly in a query to an associated SODA service. The query response in SIA or TAP format will include a service descriptor describing the SODA service and its capabilities \n",
    "\n",
    " So what can we do with all of this?\n",
    "\n",
    " 1. Create an image utout a subsection using coordinate values The input to the cutout operation will include one or more of the following:\n",
    "a region on the sky or a time value range. The region can be defined by a shpe. Currently CIRCLE, POLYGON are aupported. What about a range of coordinate values\n",
    "2. Retrive a subsectin (cutoiut) of a 2D image (i.e retrieve the subsection made above)\n",
    "3. Retrive in different formats (we only support fits right now)\n",
    "\n",
    "\n",
    "A SODA service can be implemented as a syc or async resource. Rubin currently only supports ....sync/>>\n",
    "\n",
    "The {sync} resource performs the data access as specified by the input parameters and returns the data directly in the output stream. Synchronous data access is suitable when the operations can be quickly performed and the data stream can be setup and written to (by the service) in a short period of time (e.g. before any timeouts).\n",
    "\n",
    "Inputs: \n",
    "\n",
    "ID : The values for the ID parameter are generally discovered from data discovery requests.  We use UUIDs \n",
    "POS: The POS parameter defines the positional region(s) to be extracted from the data. The value is made up of a shape keyword followed by coordinate values. The allowed shapes are given in Table 2. lat/lon in degress in ICRS\n",
    "\n",
    "(https://www.ivoa.net/documents/SODA/20170517/REC-SODA-1.0.html#tth_sEc1.1.1)\n",
    "\n",
    "Shape   Coordinate\n",
    "CIRCLE\t<longitude> <latitude> <radius>\n",
    "RANGE\t<longitude1> <longitude2> <latitude1> <latitude2>\n",
    "POLYGON\t<longitude1> <latitude1> ... (at least 3 pairs)\n",
    "\n",
    "e.g.\n",
    "A circle at (12,34) with radius 0.5:\n",
    "\n",
    "POS=CIRCLE 12 34 0.5\n",
    "\n",
    "A range of [12,14] in longitude and [34,36] in latitude:\n",
    "\n",
    "POS=RANGE 12 14 34 36\n",
    "\n",
    "A polygon from (12,34) to (14,34) to (14,36) to (12,36) and (implicitly) back to (12,34):\n",
    "\n",
    "POS=POLYGON 12 34 14 34 14 36 12 36\n",
    "\n",
    "A band around the equator:\n",
    "\n",
    "POS=RANGE 0 360 -2 2\n",
    "\n",
    "The north pole:\n",
    "\n",
    "POS=RANGE 0 360 89 90\n",
    "\n",
    "Filtering "
   ]
  },
  {
   "cell_type": "code",
   "execution_count": null,
   "id": "4d990388-9e6e-4912-848d-5f5d8e95c3e9",
   "metadata": {
    "tags": []
   },
   "outputs": [],
   "source": [
    "dl_results.to_table().show_in_notebook()"
   ]
  },
  {
   "cell_type": "markdown",
   "id": "70a14b50-7644-4eca-9669-24ceabd53b01",
   "metadata": {},
   "source": [
    "### 3.1 Create an Image Cutout using the Cutout Serivce"
   ]
  },
  {
   "cell_type": "markdown",
   "id": "fea2e715-5d25-4e64-930b-ca57179650ca",
   "metadata": {},
   "source": [
    "We will make use of the PyVO `SodaQuery` class to prepare a query to send to the Rubin SODA-compliant cutout serivce. The `SodaQuery` class method `from_resource` allows us to create an instance of the `SodaQuery` class directly from the DataLinkResults and passing the session authorization token. "
   ]
  },
  {
   "cell_type": "code",
   "execution_count": null,
   "id": "2b996b8b-aabd-4a49-821a-9f9b71e91fae",
   "metadata": {
    "tags": []
   },
   "outputs": [],
   "source": [
    "sq = SodaQuery.from_resource(dl_results, \n",
    "                             dl_results.get_adhocservice_by_id(\"cutout-sync\"), \n",
    "                             session=auth_session)\n",
    "assert sq is not None"
   ]
  },
  {
   "cell_type": "markdown",
   "id": "800f4941-fdf4-41b6-bb2c-73499a1cc08b",
   "metadata": {},
   "source": [
    "To find out more about the SodaQuery class, uncomment the next cell"
   ]
  },
  {
   "cell_type": "code",
   "execution_count": null,
   "id": "c8a86704-c45a-4a37-bdc7-d9cd0ffac7cb",
   "metadata": {
    "tags": []
   },
   "outputs": [],
   "source": [
    "#help(sq)"
   ]
  },
  {
   "cell_type": "markdown",
   "id": "6f9ddb45-2814-434c-ac56-27f6903af9a9",
   "metadata": {},
   "source": [
    "Now we will define a circle centered on the galaxy cluster in the bottom left hand corner of the image. "
   ]
  },
  {
   "cell_type": "code",
   "execution_count": null,
   "id": "e367b9ad-64e8-49da-8de3-2e19bb8c5775",
   "metadata": {
    "tags": []
   },
   "outputs": [],
   "source": [
    "circle_radius = 0.03* u.deg\n",
    "sq.circle = (center_coords.ra.deg, center_coords.dec.deg, \n",
    "             circle_radius)\n",
    "f\"Circle stencil around point {center_coords.data} of radius {circle_radius} defined\""
   ]
  },
  {
   "cell_type": "markdown",
   "id": "26970a08-7dbd-4223-82ed-87cc99672ed8",
   "metadata": {},
   "source": [
    "Define a path for the file and create the cutout"
   ]
  },
  {
   "cell_type": "code",
   "execution_count": null,
   "id": "5d861c6d-bc2b-44d8-9660-80475c6663e9",
   "metadata": {},
   "outputs": [],
   "source": [
    "sodaCutout = os.path.join(os.getenv('HOME'), 'DATA/soda-cutout.fits')\n",
    "with open(sodaCutout, 'bw') as f:\n",
    "    f.write(sq.execute_stream().read())"
   ]
  },
  {
   "cell_type": "code",
   "execution_count": null,
   "id": "5d34df6a-55ad-4c39-87dd-5d350a580022",
   "metadata": {
    "tags": []
   },
   "outputs": [],
   "source": [
    "# Display the cutout\n",
    "transformAndPlotImage(ExposureF(sodaCutout), \"SODA cutout image\",  img_opts)"
   ]
  },
  {
   "cell_type": "code",
   "execution_count": null,
   "id": "706f9ed8-7a18-411c-bcd7-0f5de7424be5",
   "metadata": {},
   "outputs": [],
   "source": [
    "# Instantiate a DP0.2 Butler\n",
    "butler = Butler('dp02', collections='2.2i/runs/DP0.2')\n",
    "registry = butler.registry"
   ]
  },
  {
   "cell_type": "markdown",
   "id": "617f6dc1-d866-49bc-b58d-145bd1338556",
   "metadata": {},
   "source": [
    "### 3.2 Create an image cutout using the SODA endpoint\n",
    "\n",
    "We construct the SODA endoint as follows. This is similar to endpoints for TAP \n",
    "\n",
    "IVOA SODA: https://www.ivoa.net/documents/SODA/20170517/REC-SODA-1.0.html#tth_sEc1.1.1"
   ]
  },
  {
   "cell_type": "markdown",
   "id": "28259f31-f34a-4735-938a-58598a4123d1",
   "metadata": {},
   "source": [
    "\n",
    "SODA needs the Butler UUID. Specifically, the URL is similar to https://data-int.lsst.cloud/api/cutout/sync?id=8a953c0321bd4878bfa694dbf628ea81&circle=53.13925%20-34.0215%200.0105 (the id parameter is the Butler UUID, and the remaining parameters are the cutout request, and there's a POST version as well and an async version following the SODA standard).\n",
    "\n",
    "Using PyVO's SodaQuery objectUsing PyVO's SodaQuery objectSODA needs the Butler UUID. Specifically, the URL is similar to https://data-int.lsst.cloud/api/cutout/sync?id=8a953c0321bd4878bfa694dbf628ea81&circle=53.13925%20-34.0215%200.0105 (the id parameter is the Butler UUID, and the remaining parameters are the cutout request, and there's a POST version as well and an async version following the SODA standard).\n",
    "\n",
    "Using PyVO's SodaQuery objectUsing PyVO's SodaQuery object"
   ]
  },
  {
   "cell_type": "code",
   "execution_count": null,
   "id": "00f6de03-47a5-4770-9fd0-fb237dc306b5",
   "metadata": {},
   "outputs": [],
   "source": [
    "host=os.getenv(\"EXTERNAL_INSTANCE_URL\")\n",
    "SODA_URL=\"{}/api/image/soda/sync\".format(host)\n",
    "print(SODA_URL)"
   ]
  },
  {
   "cell_type": "markdown",
   "id": "fc6db55f-045c-4e58-bbcd-f20e15499ba2",
   "metadata": {
    "execution": {
     "iopub.execute_input": "2023-02-23T01:57:27.903924Z",
     "iopub.status.busy": "2023-02-23T01:57:27.903277Z",
     "iopub.status.idle": "2023-02-23T01:57:27.907642Z",
     "shell.execute_reply": "2023-02-23T01:57:27.906999Z",
     "shell.execute_reply.started": "2023-02-23T01:57:27.903902Z"
    }
   },
   "source": [
    "## 4.0 Simple Image Access (SIA) Service \n",
    "\n",
    "Rubin plans to offer an Image Access Service based on the [Simple Image Access (SIA)]() protocol. SIA provides capabilities for the discovery, description, access, and retrieval of multi-dimensional image datasets and s based on the ObsCore Data Model (ObsCoreDM).\n",
    "The Rubin SIA Service will based on version 2 of the SIA protocol [SIAv2](https://www.ivoa.net/documents/SIA/20150730/index.html).  The Rubin SIAv2 servics is not complete yet but we can see what one might look like by looking at a SIA service at another archive. "
   ]
  },
  {
   "cell_type": "code",
   "execution_count": null,
   "id": "f39c6b5a-9bb2-4ad0-95dc-b4b452397a07",
   "metadata": {
    "tags": []
   },
   "outputs": [],
   "source": [
    "# Search for available SIA services \n",
    "sia_services = vo.regsearch(servicetype='sia')\n",
    "# for sia_service in (sia_services):\n",
    "#     print(sia_service)"
   ]
  },
  {
   "cell_type": "code",
   "execution_count": null,
   "id": "4576874f-cbf5-4b8e-a191-d9bdf8e0c591",
   "metadata": {
    "tags": []
   },
   "outputs": [],
   "source": [
    "# Let's search for images of the same position in the DES Y4 data image dataset hosted at NOIRLab\n",
    "DES_Y4_SIA_URL = \"https://datalab.noirlab.edu/sia/des_y4\"\n",
    "sia_desy4 = SIAService(DES_Y4_SIA_URL)\n",
    "des_y4_images = sia_desy4.search(\n",
    "    center_coords.ra.deg, \n",
    "    center_coords.dec.deg, \n",
    "    circle_radius, verbosity=2\n",
    ").to_table()"
   ]
  },
  {
   "cell_type": "code",
   "execution_count": null,
   "id": "9329ddfc-a0f4-4bab-8e0e-7ed59b5d2507",
   "metadata": {
    "tags": []
   },
   "outputs": [],
   "source": [
    "url = \"http://dc.zah.uni-heidelberg.de/hppunion/q/im/siap.xml\"\n",
    "sia_service = vo.dal.SIAService(url)\n",
    "sia_service.describe()"
   ]
  },
  {
   "cell_type": "markdown",
   "id": "0c2b4dd3-f9da-43ea-9346-ecb1a6eff2ad",
   "metadata": {},
   "source": [
    "Let's search from some images in the Eta Carina region of the sky using the GAVO's SIA service"
   ]
  },
  {
   "cell_type": "code",
   "execution_count": null,
   "id": "0c56261b-5de8-4306-9697-f9f6f9115eff",
   "metadata": {
    "tags": []
   },
   "outputs": [],
   "source": [
    "pos = SkyCoord.from_name('Eta Carina')\n",
    "size = Quantity(0.5, unit=\"deg\")\n",
    "sia_query = sia_service.create_query(pos=pos, size=size)\n",
    "sia_results = sia_query.execute()\n",
    "assert isinstance(sia_results, SIAResults)\n",
    "assert len(sia_results) == 8"
   ]
  },
  {
   "cell_type": "code",
   "execution_count": null,
   "id": "4cf0acbf-446d-432f-be16-e08a5de292a8",
   "metadata": {
    "tags": []
   },
   "outputs": [],
   "source": [
    "sia_results.to_table().show_in_notebook()"
   ]
  },
  {
   "cell_type": "markdown",
   "id": "96d6adf9-aa9d-4b53-8e4f-0a68688d7d1d",
   "metadata": {},
   "source": [
    "The list of matching images resulting from an image (SIA) query are returned in a `pyvo.dal.sia.SIAResults` object. Each record contains a set of metadata that describes each image.  "
   ]
  },
  {
   "cell_type": "code",
   "execution_count": null,
   "id": "503be907-9db3-49b2-9fe2-7fbd5443261b",
   "metadata": {
    "tags": []
   },
   "outputs": [],
   "source": [
    "# Create an output directory for images\n",
    "SIA_IMAGE_PATH = \"./siaimages\"\n",
    "if not os.path.exists(SIA_IMAGE_PATH):\n",
    "    os.mkdir(\"SIA_IMAGE_PATH\")\n",
    "    \n",
    "# Download all images\n",
    "for sia_result in sia_results:\n",
    "    filename = SIA_IMAGE_PATH + \"/\" + sia_result.title + \".fits\"\n",
    "    f\"Downloading {sia_result.title} to {filename}\"\n",
    "    sia_result.cachedataset(filename)"
   ]
  },
  {
   "cell_type": "markdown",
   "id": "6066d9f5-aa07-4d3f-81b3-f407629a5f40",
   "metadata": {},
   "source": [
    "## 5. Exercises to the user \n",
    "\n",
    "* Explore the obscore data model for another archive\n",
    "* Explore some of te other attributes defined in the ObsCore DM table - how might you use them to query and retrieve data products of interest for science\n",
    "* Get the UUID for all the visits that comprise the deepCoadd, get a cutout of the galaxy cluster and display them in a grid of images \n",
    "* Do a reprocessing on a cutout\n",
    "* Find an interesting object and use the cutout service to get cutouts of the object in all bands\n",
    "* Explore some other archives that offer SODA or SIA services"
   ]
  },
  {
   "cell_type": "markdown",
   "id": "6ef7e6ca-8830-43de-abb6-cbba1ee6d7cd",
   "metadata": {},
   "source": [
    "Planned Rubin Endpoint Services \n",
    "\n",
    "* Catalog query: TAP (table Access Protocol). The [Rubin TAP Service](https://data.lsst.cloud/api/tap) is already in service since DP0.1\n",
    "* Image metadata query: ObsCore with and ObsTAP service and SIAv2 service. \n",
    "* Image cutout service: SODA. The [Rubin SODA service](https://data.lsst.cloud/api/cutout/)\n",
    "* DataLink links service\n",
    "\n",
    "Full list of service URLs supported\n",
    "\n",
    "https://data.lsst.cloud/api/tap\n",
    "https://data.lsst.cloud/api/cutout/sync -> needs an input parameter and auth"
   ]
  },
  {
   "cell_type": "markdown",
   "id": "99a26164-8f90-46ab-8e2e-48b25da70da0",
   "metadata": {},
   "source": [
    "## 6. References \n",
    "\n",
    "Rubin technotes\n",
    "*  [DMTN-208](dmtn-208.lsst.io): RSP image cutout service implementation strategy\n",
    "*  [DMTN-238](dmtn-238.lsst.io): RSP DataLink service implementation strategy\n",
    "*  https://dmtn-139.lsst.io/v/DM-22746/index.html , section 7.4 (not published yet)\n",
    "\n",
    "\n",
    "Relevant IVOA standards documents \n",
    "*  IVOA Table Access Protocol (TAP) https://www.ivoa.net/documents/TAP/\n",
    "*  The read-the-docs API is: https://pyvo.readthedocs.io/en/latest/_modules/pyvo/dal/sia2.html\n",
    "*  A useful unit test: https://github.com/lsst-dm/image_cutout_backend/blob/main/tests/test_imageCutoutsBackend.py\n"
   ]
  }
 ],
 "metadata": {
  "kernelspec": {
   "display_name": "LSST",
   "language": "python",
   "name": "lsst"
  },
  "language_info": {
   "codemirror_mode": {
    "name": "ipython",
    "version": 3
   },
   "file_extension": ".py",
   "mimetype": "text/x-python",
   "name": "python",
   "nbconvert_exporter": "python",
   "pygments_lexer": "ipython3",
   "version": "3.11.7"
  },
  "toc-autonumbering": false
 },
 "nbformat": 4,
 "nbformat_minor": 5
}
