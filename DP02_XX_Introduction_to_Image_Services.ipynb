{
 "cells": [
  {
   "cell_type": "markdown",
   "id": "749b0ddf",
   "metadata": {},
   "source": [
    "<img align=\"left\" src = https://project.lsst.org/sites/default/files/Rubin-O-Logo_0.png width=250 style=\"padding: 10px\"> \n",
    "<p><p><p><p>\n",
    "<b>Introduction to Rubin Image Services</b> <br>\n",
    "Contact author: <i>Leanne Guy</i> <br>\n",
    "Last verified to run: <i>2023-01-13</i> <br>\n",
    "LSST Science Piplines version: Weekly <i>2022_24</i> <br>\n",
    "Container Size: <i>medium</i> <br>\n",
    "Targeted learning level: <i>intermediate</i> <br>"
   ]
  },
  {
   "cell_type": "code",
   "execution_count": null,
   "id": "7acc79a4-8530-42d9-96e5-b7acb4397864",
   "metadata": {},
   "outputs": [],
   "source": [
    "# %load_ext pycodestyle_magic\n",
    "# %flake8_on\n",
    "# import logging\n",
    "# logging.getLogger(\"flake8\").setLevel(logging.FATAL)"
   ]
  },
  {
   "cell_type": "markdown",
   "id": "80a0baf5-51ad-40ec-8991-060a7b27c289",
   "metadata": {},
   "source": [
    "**Skills:** Learn how to use Rubin Images Services to query and retrieve images, including how to create image cutouts of variety of sizes and shapes on the different flavours of Rubin Images, e.g. single-epoch processed visit images, difference images and deep coadds."
   ]
  },
  {
   "cell_type": "markdown",
   "id": "2c3186c9-aa49-4b9b-a9a0-a267f9f7e6d1",
   "metadata": {},
   "source": [
    "**Description:** An introduction to Rubin Image Image Services"
   ]
  },
  {
   "cell_type": "markdown",
   "id": "393da88f-7978-4920-aa4a-a9830df6eed9",
   "metadata": {},
   "source": [
    "**LSST Image Data Products:** Single-epoch Images, Deep Coadds, Image Cutouts "
   ]
  },
  {
   "cell_type": "markdown",
   "id": "5c67fab9-136a-4adc-bb42-142b91ab69dd",
   "metadata": {},
   "source": [
    "**Packages:** lsst.rsp, lsst.daf, pyvo, astropy"
   ]
  },
  {
   "cell_type": "markdown",
   "id": "8f72b27f",
   "metadata": {},
   "source": [
    "**Credit:** This tutorial was developed for DP0.2 by Leanne Guy."
   ]
  },
  {
   "cell_type": "markdown",
   "id": "28e91cbf-ab7f-4e26-9276-b00299d6065e",
   "metadata": {},
   "source": [
    "**Get Support:**\n",
    "Find DP0-related documentation and resources at <a href=\"https://dp0.lsst.io\">dp0.lsst.io</a>. Questions are welcome as new topics in the <a href=\"https://community.lsst.org/c/support/dp0\">Support - Data Preview 0 Category</a> of the Rubin Community Forum. Rubin staff will respond to all questions posted there."
   ]
  },
  {
   "cell_type": "markdown",
   "id": "cdade621-a25f-479c-9e41-76a7451a0940",
   "metadata": {
    "tags": []
   },
   "source": [
    "## 1. Introduction\n",
    "\n",
    "Rubin will deliver a range of image data products from the LSST; raw images, processed visit images (PVI), single-epoch images, deep coadded images, template images and difference images. In addition to the delivered LSST image data products, scientists will want to make their own \\\"created-on-demand\\\" images, e.g cutout images of various sizes centered about a number of positions, bespoke coadds, e.g best-seeing, deepest, etc, or PVIs with different background estimation and subtraction. <p>\n",
    "\n",
    "Image Services is the term used to describe the collection of Rubin services used for the description, discovery, access and retrieval of LSST image data products. They include services for both image metadata and for the image pixel data itself, e.g image retrieval services, image cutout and mosiacing services, on-demand image creation services, and HiPS multi-resolution image map services. Rubin's image services are provided as part of the Rubin Science Platform's API Aspect, which are used both within the RSP to access image data products, and from externally. Rubin Observatory has adopted 'VO First' strategy for services, meaning that wherever possible, IVOA-standard interfaces will be adopted. \n",
    "\n",
    "- `Virtual Observatory (VO)` -- is a collection of interoperating data archives and software tools that utilize the internet to form a scientific research environment in which astronomical research programs can be conducted. It is the vision that astronomical datasets and services should work together as a whole. The VO allows scientists to query datasets at multiple data centers in a seamless and transparent way, which is made possible by the standardization of data and metadata, of data exchange methods, and by the use of a registry, which lists available services and what can be done with them. Rubin is one of many projects and data centres worldwide who are are working towards this goal. See [What is the VO](https://www.ivoa.net/about/what-is-vo.html).\n",
    "  \n",
    "- `International Virtual Observatory Alliance (IVOA)` -- is a global organization that facilitates the coordination and collaboration necessary to make the Virtual Observatory possible. The IVOA focuses on the development of standards and produced the \\\"Astronomical Data Query Language (ADQL)\\\". See [ivoa.net](https://ivoa.net).\n",
    "\n",
    "A suite of VO protocols specify basic access methods for different types of data resources, e.g. catalogs, images, spectra. Tutorial 02, [Catalog Queries with TAP](https://dp0-2.lsst.io/_static/nb_html/DP02_02_Catalog_Queries_with_TAP.html), introduced the VO-compliant Table Access Protocol (TAP) service for accessing catalog (table) data and metadata. The Rubin TAP service returns structured information in a VOTable format about LSST data products and was the first IVOA-compliant service to be deployed on the RSP. In this tutorial we will introduce several new IVOA-compliant services that have been deployed as part of DP0 for accessing images and creating image cutouts.\n",
    "\n",
    "Python access to remote data and services of the Virtual Observatory is provided by the PyVO software package\n",
    "\n",
    "- `PyVO` -- is a software package that provides access to remote data and services of the Virtual observatory (VO) using Python. It requires both AstroPy and NumPy"
   ]
  },
  {
   "cell_type": "markdown",
   "id": "dc36f107",
   "metadata": {
    "jp-MarkdownHeadingCollapsed": true,
    "tags": []
   },
   "source": [
    "### 1.1 Package Imports"
   ]
  },
  {
   "cell_type": "code",
   "execution_count": null,
   "id": "cddc1458",
   "metadata": {
    "tags": []
   },
   "outputs": [],
   "source": [
    "# Import general python packages\n",
    "import os\n",
    "import numpy as np\n",
    "import pandas as pd\n",
    "import uuid\n",
    "import requests\n",
    "import warnings\n",
    "\n",
    "# Import the Rubin TAP service utilities\n",
    "from lsst.rsp import get_tap_service\n",
    "\n",
    "# Science Pipelines imports\n",
    "from lsst.daf.butler import Butler, DatasetType, CollectionType\n",
    "from lsst.afw.image import Exposure, ExposureF\n",
    "\n",
    "# RSP utilities\n",
    "from lsst.rsp import get_tap_service\n",
    "from lsst.rsp.utils import get_access_token\n",
    "\n",
    "# PyVO packages\n",
    "import pyvo as vo\n",
    "from pyvo.dal.adhoc import DatalinkResults, SodaQuery\n",
    "from pyvo.dal import SIAService, SIAResults\n",
    "\n",
    "# Astropy\n",
    "from astropy import units as u\n",
    "from astropy.units import Quantity\n",
    "from astropy.coordinates import SkyCoord\n",
    "from astropy.io import fits\n",
    "from astropy.time import Time\n",
    "from astropy.utils.data import download_file\n",
    "from astropy.utils.exceptions import AstropyWarning\n",
    "from astropy.visualization import  ZScaleInterval, AsinhStretch\n",
    "from astropy.wcs import WCS       \n",
    "from astropy.visualization import simple_norm, imshow_norm\n",
    "from astropy.visualization import ImageNormalize,  ZScaleInterval\n",
    "from astropy.visualization.stretch import SinhStretch, LinearStretch, SqrtStretch\n",
    "\n",
    "# Holoviz for interactive visualization\n",
    "import bokeh\n",
    "from bokeh.io import output_notebook\n",
    "from bokeh.models import HoverTool\n",
    "from bokeh.plotting import figure\n",
    "from bokeh.transform import factor_cmap\n",
    "\n",
    "import holoviews as hv\n",
    "from holoviews import opts\n",
    "from holoviews.operation.datashader import rasterize"
   ]
  },
  {
   "cell_type": "code",
   "execution_count": null,
   "id": "767444b4-076a-4bab-9661-a1151d94277a",
   "metadata": {
    "tags": []
   },
   "outputs": [],
   "source": [
    "# Set the holoviews plotting library to be bokeh and output display to be inline\n",
    "hv.extension('bokeh')\n",
    "output_notebook()"
   ]
  },
  {
   "cell_type": "code",
   "execution_count": null,
   "id": "c374a496-c617-4207-a6a5-bad3c81d1577",
   "metadata": {},
   "outputs": [],
   "source": [
    "# To quiet astropy warnings\n",
    "warnings.simplefilter('ignore', category=AstropyWarning) "
   ]
  },
  {
   "cell_type": "markdown",
   "id": "c217adff-25ed-4fce-95e7-8aa04630f6cc",
   "metadata": {
    "jp-MarkdownHeadingCollapsed": true,
    "tags": []
   },
   "source": [
    "### 1.2 Define Functions and Parameters"
   ]
  },
  {
   "cell_type": "code",
   "execution_count": null,
   "id": "16c1b54f-d697-437e-8677-5d22a3d90942",
   "metadata": {
    "tags": []
   },
   "outputs": [],
   "source": [
    "# Set the maximum number of rows to display from pandas\n",
    "pd.set_option('display.max_rows', 20)"
   ]
  },
  {
   "cell_type": "code",
   "execution_count": null,
   "id": "564ebab2-e113-4466-9c69-71645f172645",
   "metadata": {
    "tags": []
   },
   "outputs": [],
   "source": [
    "# The version of the LSST science pipelines should match the verified version listed at the start of the notebook\n",
    "! echo ${IMAGE_DESCRIPTION}\n",
    "! eups list lsst_distrib"
   ]
  },
  {
   "cell_type": "code",
   "execution_count": null,
   "id": "e1774f02-b599-433e-9ee8-847e46c2b6dc",
   "metadata": {},
   "outputs": [],
   "source": [
    "# Create an output directory for data\n",
    "path = os.path.join(\"./data\", \"dp02_xx\")\n",
    "try:\n",
    "    os.makedirs(path, exist_ok=True)\n",
    "    print(f\"Directory '{path}' created successfully.\")\n",
    "except OSError as error:\n",
    "    print(f\"Error creating directory '{path}': {error}\")"
   ]
  },
  {
   "cell_type": "code",
   "execution_count": null,
   "id": "6da01490-5895-4697-92dc-bcfa81f51b1f",
   "metadata": {
    "tags": []
   },
   "outputs": [],
   "source": [
    "def is_valid_uuid(val) -> bool:\n",
    "    \"\"\"Convert a  string to a valid UUID\n",
    "    \n",
    "   Parameters\n",
    "    ----------\n",
    "    val : `string`\n",
    "        the stringt o convert to check\n",
    "        \n",
    "   \n",
    "   Returns\n",
    "    -------\n",
    "    uuid : `uuid.UUID` \n",
    "        A valid UUID\n",
    "    \"\"\"\n",
    "    try:\n",
    "        return uuid.UUID(str(val))\n",
    "    except ValueError:\n",
    "        return None"
   ]
  },
  {
   "cell_type": "code",
   "execution_count": null,
   "id": "5fb94ee0-88ad-4a3e-916b-39c725bb364f",
   "metadata": {
    "tags": []
   },
   "outputs": [],
   "source": [
    "def transformAndPlotImage(image: Exposure, title = None, img_opts: dict = None):\n",
    "    \"\"\"Plot and image using holoviews\n",
    "   \n",
    "   Parameters\n",
    "    ----------\n",
    "    image : `Exposure`\n",
    "        the image to plot\n",
    "        \n",
    "    opts : `\n",
    "   \n",
    "   Returns\n",
    "    -------\n",
    "    title : `str` (only if result is not `None`)\n",
    "        Plot title from string\n",
    "    \"\"\"\n",
    "    arrayData = image.image.array\n",
    "    \n",
    "    # Apply a asinh/zscale mapping to the data    \n",
    "    transform = ZScaleInterval() + AsinhStretch()\n",
    "    \n",
    "    scaledArrayData = transform(arrayData)\n",
    "    scaledFlippedArrayData = np.flipud(scaledArrayData)    \n",
    "    bbox_img = image.getBBox()\n",
    "    bounds_img = (bbox_img.endX, bbox_img.endY,bbox_img.beginX, bbox_img.beginY)\n",
    "    \n",
    "    # Define some default plot options for the Image if not passed\n",
    "    if img_opts is None:\n",
    "        img_opts = dict(height=600, width=700,  xaxis=\"bottom\", \n",
    "                        padding = 0.01, fontsize={'title': '8pt'},\n",
    "                        colorbar=True, toolbar='right', show_grid=True,\n",
    "                        tools=['hover']\n",
    "                   )\n",
    "    # Overlay the WCS - not complete\n",
    "    wcs = image.getWcs()\n",
    "    projection=WCS(image.getWcs().getFitsMetadata())\n",
    "    \n",
    "    # Create the Image element.\n",
    "    img = hv.Image(scaledFlippedArrayData, \n",
    "                   bounds=bounds_img, \n",
    "                   kdims=['x', 'y']).opts(\n",
    "        cmap = \"Gray\",  xlabel = 'X', ylabel ='Y',  title = title, **img_opts)\n",
    "    # img = img.redim.range(z=(0.3, 0.8))\n",
    "    return rasterize(img)"
   ]
  },
  {
   "cell_type": "code",
   "execution_count": null,
   "id": "f6d5a74e-dcd5-469c-a63f-7a19e14c6489",
   "metadata": {},
   "outputs": [],
   "source": [
    "# Write data to file \n",
    "# Write the results to a VOTable python \n",
    "resultset.votable.to_xml(os.path.join(path,\"resultset_votable.xml\"))\n",
    "resultset.to_table().write(os.path.join(path, \"resultset_format_votable.xml\"), format='votable', overwrite=True)\n",
    "\n",
    "#Write the results to FITs file  \n",
    "resultset.to_table().write(os.path.join(path, \"filename.fits\"), format='fits', overwrite=True)"
   ]
  },
  {
   "cell_type": "code",
   "execution_count": null,
   "id": "910b1057-5e38-42ab-afd7-28b7f8857a2d",
   "metadata": {
    "tags": []
   },
   "outputs": [],
   "source": [
    "for vo_service in vo.regsearch(datamodel='obscore'):\n",
    "    print(f\"{vo_service['short_name']},  {vo_service['ivoid']}\")  "
   ]
  },
  {
   "cell_type": "markdown",
   "id": "d92690be-8c28-4581-b455-eddaf17a70cf",
   "metadata": {},
   "source": [
    "## 2. Data Discovery\n",
    "\n",
    "Table Access Protocol (TAP) defines a service protocol for accessing tabular data, such as astronomical catalogues. The Rubin TAP Service has been in use since DP0.1 and was the first VO-compliant service to be deployed.  It allows users to query the DP0 catalogs, filtering on attributes to retune a subset of the catalog entries for further analysis,  e.g select all Objects in a given search area with magnitude < 18. Many catalog queries executed over TAP specify make use of the IVOA specification for a [Simple Cone Search](https://ivoa.net/documents/ConeSearch/20200828/WD-ConeSearch-1.1-20200828.html) for retrieving records from astronomical catalogs whose positions lie within a cone defined by a central position and angular radius. The returned result set type is a [pyvo.dal.TAPResults](https://pyvo.readthedocs.io/en/latest/api/pyvo.dal.TAPResults.html#pyvo.dal.TAPResults), which holds the list of matching records from a catalog query. `TAPResults` is essentially a wrapper around an [astropy.io.votable](https://docs.astropy.org/en/stable/io/votable/ref_api.html#module-astropy.io.votable) [TableElement](https://docs.astropy.org/en/stable/api/astropy.io.votable.tree.TableElement.html#astropy.io.votable.tree.TableElement) instance where the columns contain the various metadata describing the entries. \n",
    "\n",
    "* `IVOA Table Access Protocol (TAP)` -- a IVOA-standard service protocol for accessing general tabular data, including astronomical catalogs and their metadata. \n",
    "* `IVOA Simple Cone Search (SCS)` --  a simple query protocol for retrieving records from an astronomical catalog or observation log. The input is sky position and angular distance defining a cone on the sky. The subset of records from the catalog that lie within the cone is returned. This protocol is easy to use but scales poorly since a separate query is required for every position. See [IVOA Simple Cone Search](http://www.ivoa.net/Documents/latest/ConeSearch.html)\n",
    "\n",
    "<!-- * `TAP Service` -- a service that implements TAP to allow users to interogate to catalogs data using ADQL and SQL-like queries. -->\n",
    "\n",
    "Initial priority was given to rolling out services implementing the above to enable access to catalog data described in the DPDD and produced by the LSST science Pipelines. This was to enable the Rubin community to gain experience with the data products described in the DPDD.  Another strongly motivating use case is the ability to discover data of a given kind, e.g images, catalogs, spectra, according to scientific criteria, e.g position, exposure time, seeing, etc. \n",
    "\n",
    "The returned result set type is a [pyvo.dal.TAPResults](https://pyvo.readthedocs.io/en/latest/api/pyvo.dal.TAPResults.html#pyvo.dal.TAPResults), which holds the list of matching records from a catalog query. `TAPResults` is essentially a wrapper around an [astropy.io.votable](https://docs.astropy.org/en/stable/io/votable/ref_api.html#module-astropy.io.votable) [TableElement](https://docs.astropy.org/en/stable/api/astropy.io.votable.tree.TableElement.html#astropy.io.votable.tree.TableElement) instance where the columns contain the various metadata describing the entries. \n",
    "\n",
    "We will see later that it can also hold lists of matching records from an image query or a query of the observatry metadata.\n",
    "\n",
    "There are many functions we can eecute without having to convert to pandas\n",
    "\n",
    "prioritised IVOA-standard-compliant implementations of the TAP and SCS services ...\n",
    "\n",
    "The tap acessoble catalog describe the data prodicts as processed. but we also want to query on for example spatial resolution of the image. \n",
    "\n",
    "This tutorial will introduce the next suite of IVOA-compliant services that have been deployed by Rubin as part of DP0 to enable data discovery and prodicing image cutouts on demand. It will introduce several new IVOA-compliant services for data doscovery and image access and manipulation incliding ObsCoer, ObsTAP, Datalinks and SODA. One key consideration is the ability to execute the same query at multiple archives. we will look at some examples. "
   ]
  },
  {
   "cell_type": "code",
   "execution_count": null,
   "id": "258a2858-4b1d-4e68-a770-403028a799f5",
   "metadata": {
    "tags": []
   },
   "outputs": [],
   "source": [
    "# Instantiate a DP0.2 TAP service \n",
    "service = get_tap_service(\"tap\")\n",
    "assert service is not None"
   ]
  },
  {
   "cell_type": "markdown",
   "id": "29e3c6d4-2f69-44ce-95fb-acd8a4539ec1",
   "metadata": {},
   "source": [
    "### 2.1 The Rubin Observation Data Model\n",
    "\n",
    "TAP services provide information on the various schemas and tables they contain in a special table named `TAP_SCHEMA`. The  `tap_schema.schemas` table lists all the schemas hosted in the RSP. "
   ]
  },
  {
   "cell_type": "code",
   "execution_count": null,
   "id": "cf42c29c-01da-4d5a-992a-64ee26a33c12",
   "metadata": {},
   "outputs": [],
   "source": [
    "Which tables can I query via the TAP service\n",
    "SELECT schema_name, table_name, description\n",
    "FROM TAP_SCHEMA.tables\n",
    "ORDER BY schema_name, table_name\n",
    "\n",
    "-- Further details:\n",
    "-- All TAP services must support a set of (meta) tables, in a schema named TAP_SCHEMA.\n",
    "-- These meta-tables describe all tables and columns published through the TAP service.\n",
    "-- The meta-tables can be queried themselves via TAP.\n",
    "-- Users can discover ESO-published tables or columns by querying the tables in this schema"
   ]
  },
  {
   "cell_type": "code",
   "execution_count": null,
   "id": "588a5812-66eb-448f-b6b0-6623eb1ed31c",
   "metadata": {
    "tags": []
   },
   "outputs": [],
   "source": [
    "query = \"\"\"\n",
    "SELECT * FROM tap_schema.schemas\n",
    "\"\"\"\n",
    "results = service.search(query).to_table()\n",
    "results"
   ]
  },
  {
   "cell_type": "markdown",
   "id": "72ae6f1d-1415-41cc-8b06-bfc3d54b47be",
   "metadata": {
    "execution": {
     "iopub.execute_input": "2024-07-03T18:41:27.931368Z",
     "iopub.status.busy": "2024-07-03T18:41:27.930489Z",
     "iopub.status.idle": "2024-07-03T18:41:27.936503Z",
     "shell.execute_reply": "2024-07-03T18:41:27.935749Z",
     "shell.execute_reply.started": "2024-07-03T18:41:27.931336Z"
    }
   },
   "source": [
    "The `dp01_dc2_catalogs` and `dp02_dc2_catalogs` schemas contain the tables of Rubin data products, e.g. Object, ForcedSource, Visit, etc.  The other three schemas contain IVOA-defined standard tables that contain metadata related to a service: <br>\n",
    "\n",
    "- `tap_schema`  metadata related to the TAP service, e.g  tables and columns exposed, indexing, descriptions and other information about columns.  All TAP services must support a set of tables in a schema named TAP_SCHEMA that describe the tables and columns included in the service.\n",
    "- `ivoa` metadata related to the Observation data model for Rubin datasets, useful for data discovery  \n",
    "- `UWS` metadata related to the Universal Worker Service (UWS) pattern for managing asynchronous execution of jobs on a service.\n",
    "\n",
    "Tutorial [NB 02. Catalog Queries with TAP](https://dp0-2.lsst.io/_static/nb_html/DP02_02_Catalog_Queries_with_TAP.html) explores the `tap_schema`. In this tutorial we will explore the `ivoa` schema, which holds the `ivoa.ObsCore` table containing generic metadata for the datasets held at the US Data Access Center (US DAC). The table is accessible via ADQL queries via a TAP endpoint."
   ]
  },
  {
   "cell_type": "markdown",
   "id": "06abaf8a-389a-45cf-8745-eb46f14157c6",
   "metadata": {},
   "source": [
    "The IVOA maintains a registry of all VO compliant services. We can interrogate this registry to find all the Tap services that support the ObsCoreDM. Valid registry keywords incluide: author, datamodel, ivoid, keywords, servicetype, spatial, spectral, temporal, ucd, waveband."
   ]
  },
  {
   "cell_type": "code",
   "execution_count": null,
   "id": "1e8e80c6-0294-441d-b8a2-7bc41a783994",
   "metadata": {},
   "outputs": [],
   "source": [
    "query = \"\"\"\n",
    "SELECT * FROM tap_schema.tables where schema_name like 'ivoa' order by table_index ASC\n",
    "\"\"\"\n",
    "result = service.search(query).to_table()\n",
    "result"
   ]
  },
  {
   "cell_type": "code",
   "execution_count": null,
   "id": "a561d6c0-d2ca-4f3e-a36c-c02d63d180c4",
   "metadata": {},
   "outputs": [],
   "source": [
    "What are the column names of the ObsCore table?\n",
    "SELECT column_name, datatype, unit, ucd, utype\n",
    "from TAP_SCHEMA.columns\n",
    "where table_name='ivoa.ObsCore'\n"
   ]
  },
  {
   "cell_type": "markdown",
   "id": "4a2d27db-79ab-4c51-926f-5c19b2f95784",
   "metadata": {},
   "source": [
    "The `ivoa` schema holds one table,  the`ivoa.ObsCore` table, which contains generic metadata for all datasets held at the US DAC.\n",
    "Observation Data Model Core Components and its Implementation in the Table Access Protocol (ObsCore)\thttps://www.ivoa.net/documents/ObsCore/20111028/\n",
    "\n",
    "\n",
    "Here are some definitions to help understand the description of this schema: \n",
    "* `ObsCore` - Observation Core components. Metadata for the discovery of data via an IVOA-standard-compliant TAP service, such as the Rubin TAP service. It describes the core components and the metadata to be attached to an astronomical observation,primarily describes data products by the physical axes (spatial, spectral, time, and polarization).ObsCore Data Model, \n",
    "* `ObsCoreDM` - Observation Core components Data Model. A data model that primarily describes data products by the physical axes (spatial, spectral, time, and polarization).\n",
    "* `ObsTAP` - TAP interface to an Observation Data Model.\n",
    "\n",
    "An ObsCore table may contain a) optional ObsCore-defined columns, and/or b) additional service-specific columns.\n",
    "  \n",
    "ObsTAP and the observation data model describe observations in a broad sense (exactly what comprises an \"observation\" is not well defined within astronomy and is left up to the data provider to define for their data).  In general an \"observation\" may be composed of multiple individual data products. ObsTAP also describes archive data products (e.g., actual archive files)."
   ]
  },
  {
   "cell_type": "markdown",
   "id": "44e33915-d813-4ee5-86be-01d3d97ea987",
   "metadata": {
    "execution": {
     "iopub.execute_input": "2024-07-05T15:58:58.894698Z",
     "iopub.status.busy": "2024-07-05T15:58:58.893919Z",
     "iopub.status.idle": "2024-07-05T15:58:58.900131Z",
     "shell.execute_reply": "2024-07-05T15:58:58.899300Z",
     "shell.execute_reply.started": "2024-07-05T15:58:58.894664Z"
    }
   },
   "source": [
    "\n",
    "Let's take a look at how to query the ObsCore table. We will start by looking at the table collections (schemas) present. In addition to the DP0.1 and DP0.2 catalog and TAP schema that were present in DP0.1, you will now see a new schema called \"ivoa\".\n",
    "\n",
    "We will look at the ObsCore Data Model and explore some of the most common informatin fileds that people will want to use.\n",
    "\n",
    "IVOA prescribes a set of Core Components of teh Observation data model -- a set of colums that must be included within teh `ivoa.ObsCore` table and a data center's data model. On top of those, dta centers can add dataset/survey specific columns\n",
    "\n",
    "We will take a look at the LSST ObsCore Data Model (ObsCoreDM) and how to query it using the ObsTAP service. \n",
    "We will then look at how to download data products.\n",
    "\n",
    "which contains a table called ivoa.ObsCore. \n",
    "The IVOA-defined obscore table contains generic metadata for datasets held at the IDF. \n",
    "The table is accessible via ADQL queries via a TAP endpoint. \n",
    "The mechanism for locating images from obsevations is to make a TAP query against the ObsCore schema.\n",
    "\n",
    "Let's use the TAP service to look at the tables in the ivoa table collection.  \n",
    "The ivoa schema contains 1 table called \\\"ivoa.ObsCore\\\". This table holds the observation metadata for all images in the DP0.2 dataset. Let's look a the main concepts in the ObsCore data model. \n",
    "\n",
    "The IVOA-defined obscore table, containing generic metadata for datasets within this datacenter.  The table is accessible via ADQL queries via a TAP endpoint."
   ]
  },
  {
   "cell_type": "markdown",
   "id": "aaf3c5b5-4d5e-4c76-9fec-0ad7ed4c5e99",
   "metadata": {},
   "source": [
    "The ObsCore data model that we see above results from analysis carried out by the IVOA to support global data discovery and accessibility. Many of the columns are a mandatory fields of the Observation Core Components data model including their name, recommended units, data type and designation."
   ]
  },
  {
   "cell_type": "code",
   "execution_count": null,
   "id": "e42604c6-d2b1-4ba5-8275-15ac7c48cfbd",
   "metadata": {
    "scrolled": true,
    "tags": []
   },
   "outputs": [],
   "source": [
    "# Let's take a look at the metadata about images that is contain in the Rubin ObsCore table\n",
    "query = \"\"\"SELECT *\n",
    "  FROM tap_schema.columns\n",
    "  WHERE table_name = 'ivoa.ObsCore'\n",
    "\"\"\"\n",
    "result = service.search(query).to_table()\n",
    "result[result.colnames[3:12]]"
   ]
  },
  {
   "cell_type": "markdown",
   "id": "3009063a-c22d-4390-9136-b84396511633",
   "metadata": {},
   "source": [
    "- `dataproduct_type` : The data product type, e.g  Image, Spectrum, SED\n",
    "- `dataproduct_subtype`: The dataproduct subtype, e.g PVI, coadd, difference image\n",
    "- `calib_level`: The calibration level indicating the amount of calibration processing that was applied to create the data product. "
   ]
  },
  {
   "cell_type": "markdown",
   "id": "3dc45010-74f7-49a8-830d-27b9dbd93854",
   "metadata": {},
   "source": [
    "### 2.2 Data Discovery using ObsCore \n",
    "\n",
    "Let's look at some examples of how we can use the metadata about Rubin images in the ObsCore table ObsCoreThe Rubin ObsCore table holds the observation metadata for all images in the DP0.2 dataset. Let's explore the contents of the ObsCore table. "
   ]
  },
  {
   "cell_type": "markdown",
   "id": "ec704406-2fc4-4471-8f6f-aff40ce37929",
   "metadata": {
    "execution": {
     "iopub.execute_input": "2024-07-05T17:49:21.984215Z",
     "iopub.status.busy": "2024-07-05T17:49:21.983594Z",
     "iopub.status.idle": "2024-07-05T17:49:21.988445Z",
     "shell.execute_reply": "2024-07-05T17:49:21.987785Z",
     "shell.execute_reply.started": "2024-07-05T17:49:21.984192Z"
    }
   },
   "source": [
    "#### 2.2.1 Discovery by data product type\n",
    "\n",
    "The model defines a data product type attribute. This is the observation product that a user will query for an retrieve, e.g \\\"image\\\", \\\"spectrum\\\". There is currently only one data product type supported in the Rubin ObsCore DM -- \\\"image\\\".  DP0.2 also has only one `facility_name`, `instrument_name` and `obs_collection`. So for DP0.0, including filters on these fields does not do anything, and you can safely omit them. Rubin however has several instruments, `AuxTel`, `ComCam`, `LSSTCam` so when real data arrives, will have more values. "
   ]
  },
  {
   "cell_type": "code",
   "execution_count": null,
   "id": "32eecbd6-afa1-4750-82fc-4131177ca620",
   "metadata": {
    "tags": []
   },
   "outputs": [],
   "source": [
    "query = \"\"\" \n",
    "SELECT dataproduct_type, facility_name, instrument_name, obs_collection, COUNT(*) \n",
    "FROM ivoa.ObsCore \n",
    "GROUP BY dataproduct_type\n",
    "\"\"\"\n",
    "result = service.search(query).to_table()\n",
    "result"
   ]
  },
  {
   "cell_type": "markdown",
   "id": "437951a5-fcb7-45c5-94ae-b1e3b99095af",
   "metadata": {},
   "source": [
    "In addition to the data product type, there are five unique data product subtypes defined in the ObsCore table. The data product subtype allows us to be more specific about data product type. Let's take a look at the data products defined in the Rubin ObsCore DM. "
   ]
  },
  {
   "cell_type": "code",
   "execution_count": null,
   "id": "550cee32-6445-4f59-ae04-edb04df12cec",
   "metadata": {},
   "outputs": [],
   "source": [
    "query = \"\"\" \n",
    "SELECT dataproduct_type, dataproduct_subtype, COUNT(*) \n",
    "FROM ivoa.ObsCore \n",
    "GROUP BY dataproduct_subtype\n",
    "\"\"\"\n",
    "result = service.search(query).to_table()\n",
    "result"
   ]
  },
  {
   "cell_type": "markdown",
   "id": "9ac2b2b2-7d72-4c7b-94a2-6a7382d8e755",
   "metadata": {
    "execution": {
     "iopub.execute_input": "2024-07-05T17:47:52.434515Z",
     "iopub.status.busy": "2024-07-05T17:47:52.433778Z",
     "iopub.status.idle": "2024-07-05T17:47:52.439170Z",
     "shell.execute_reply": "2024-07-05T17:47:52.438549Z",
     "shell.execute_reply.started": "2024-07-05T17:47:52.434490Z"
    }
   },
   "source": [
    "The calibration level tells the user the amount of calibration processing that was applied to create the data product. -  cannot be null for any entry in the ObsCore table. The following goves the defined calib_levels and their relationship to the LSST data products.\n",
    "cannot be null for any entry in the ObsCore table. The following goves the defined calib_levels and their relationship to the LSST data products. \n",
    "\n",
    "- `0`:  raw instrumental data, possibly in proprietary internal provider format\n",
    "- `1`: instrumental data that may or may mot be calibrated in standard format -- lsst.raw\n",
    "- `2`: science-ready calibrated data with instrument signature removed -- lsst.calexp\n",
    "- `3`: enhanced science-ready data products, e.g mosaics, coadds, difference images -- lsst.deepCoadd_calexp, lsst.goodSeeingDiff_differenceExp, lsst.goodSeeingCoadd"
   ]
  },
  {
   "cell_type": "code",
   "execution_count": null,
   "id": "13607423-a737-4bc7-99af-8b779381a50f",
   "metadata": {
    "tags": []
   },
   "outputs": [],
   "source": [
    "query = \"\"\" SELECT  dataproduct_type, dataproduct_subtype, calib_level, COUNT(*) \n",
    "FROM ivoa.ObsCore \n",
    "GROUP BY dataproduct_subtype, calib_level\n",
    "ORDER BY calib_level\n",
    "\"\"\"\n",
    "result = service.search(query).to_table()\n",
    "result"
   ]
  },
  {
   "cell_type": "markdown",
   "id": "cd3414c5-42d1-4fc2-a34c-bea7f3fc0d10",
   "metadata": {},
   "source": [
    "[dp0-2.lsst.io](https://dp0-2.lsst.io/data-products-dp0-2/index.html) lists many more data product types that are not listed here. For example, \"deepCoadd\" is not listed and you will not find any deepCoadd data product in the ObsCore table. Need to investigate. "
   ]
  },
  {
   "cell_type": "markdown",
   "id": "3ca2a4c6-572f-468a-b3e4-78c9055fe216",
   "metadata": {
    "execution": {
     "iopub.execute_input": "2024-07-05T17:50:24.980666Z",
     "iopub.status.busy": "2024-07-05T17:50:24.980302Z",
     "iopub.status.idle": "2024-07-05T17:50:24.983733Z",
     "shell.execute_reply": "2024-07-05T17:50:24.983208Z",
     "shell.execute_reply.started": "2024-07-05T17:50:24.980642Z"
    }
   },
   "source": [
    "#### 2.2.2.Discovery by spatial coordinates "
   ]
  },
  {
   "cell_type": "markdown",
   "id": "0e896290-9758-4b38-9a08-39f26db04ae1",
   "metadata": {},
   "source": [
    "The ObsCore model also defines a region with the `s_region` column expressed in the ICRS frame. We can use this attribute to select  image data products that fall into a given region, and then add additional filters."
   ]
  },
  {
   "cell_type": "code",
   "execution_count": null,
   "id": "a5e808b7-7af5-4dc4-ab8c-bbe6f42d5b5c",
   "metadata": {
    "tags": []
   },
   "outputs": [],
   "source": [
    "# Define a position and angular radius for the search \n",
    "center_coords = SkyCoord(55.74673760481304, -32.286155241413624, frame='icrs', unit='deg')\n",
    "ang_radius = 10*u.deg"
   ]
  },
  {
   "cell_type": "code",
   "execution_count": null,
   "id": "9330982d-4d93-4cff-bb03-1baa7f6bbce9",
   "metadata": {},
   "outputs": [],
   "source": [
    "# Why does s_region come back with a POLYGON when I specify a CIRCLE?\n",
    "query_template = \"\"\"\n",
    "SELECT *\n",
    "FROM ivoa.ObsCore\n",
    "WHERE 1=CONTAINS(\n",
    "  POINT('ICRS', ivoa.ObsCore.s_ra, ivoa.ObsCore.s_dec),\n",
    "  CIRCLE('ICRS', {ra}, {dec}, {radius})\n",
    ") \n",
    "\"\"\"\n",
    "query = query_template.format(ra=center_coords.ra.deg, \n",
    "                              dec=center_coords.dec.deg, \n",
    "                              radius=ang_radius.value)\n",
    "result = service.search(query).to_table()\n",
    "print(len(result))"
   ]
  },
  {
   "cell_type": "markdown",
   "id": "cf4fde3c-c76d-4e85-a873-e57b010e83c0",
   "metadata": {},
   "source": [
    "That's a lot of images in a 0.1 deg field. We can add some more filters "
   ]
  },
  {
   "cell_type": "code",
   "execution_count": null,
   "id": "8ec35357-6904-4db4-a5bf-719fce8a54a0",
   "metadata": {
    "tags": []
   },
   "outputs": [],
   "source": [
    "query_deep_coadd = query_template.format(\n",
    "    ra=center_coords.ra.deg, \n",
    "    dec=center_coords.dec.deg, \n",
    "    radius=0.15) \n",
    "query += str(\"\"\"AND dataproduct_type = 'image' \n",
    "    AND obs_collection = 'LSST.DP02' \n",
    "    AND dataproduct_subtype = 'lsst.deepCoadd_calexp'\n",
    "    AND lsst_band='r'\n",
    "    \"\"\")\n",
    "results = service.search(query_deep_coadd)\n",
    "results.to_table()"
   ]
  },
  {
   "cell_type": "code",
   "execution_count": null,
   "id": "2074c5a8-6f2f-4543-a3b3-fde07b7f936a",
   "metadata": {},
   "outputs": [],
   "source": []
  },
  {
   "cell_type": "raw",
   "id": "2cb6c061-f0ac-4882-aba1-66b0a4063c6b",
   "metadata": {},
   "source": []
  },
  {
   "cell_type": "markdown",
   "id": "df7608e2-abd7-4dae-84fb-e40b141e936d",
   "metadata": {},
   "source": [
    "We see that there are 6 deepCoadd_calexp images, one for each filter. Alternatively, knowing the patch and tract, can query directly for the same images and specify a filter. "
   ]
  },
  {
   "cell_type": "code",
   "execution_count": null,
   "id": "a8eb76fc-c675-42d0-8c36-237334eac02a",
   "metadata": {
    "tags": []
   },
   "outputs": [],
   "source": [
    "query = \"\"\"SELECT * FROM ivoa.ObsCore \n",
    "WHERE dataproduct_type = 'image'\n",
    "AND obs_collection = 'LSST.DP02' \n",
    "AND dataproduct_subtype = 'lsst.deepCoadd_calexp'\n",
    "AND lsst_tract = 4431\n",
    "AND lsst_patch = 17\n",
    "AND lsst_band = 'i'\n",
    "\"\"\"\n",
    "results = service.search(query)\n",
    "results.to_table()"
   ]
  },
  {
   "cell_type": "code",
   "execution_count": null,
   "id": "c77a3cec-928a-46df-94fa-a7b2dfea3d26",
   "metadata": {},
   "outputs": [],
   "source": [
    "# Let's search for the image that contains the SN1a used in tutorial 7a. \n",
    "query = \"\"\"SELECT * FROM ivoa.ObsCore \n",
    "WHERE dataproduct_type = 'image'\n",
    "AND obs_collection = 'LSST.DP02' \n",
    "AND dataproduct_subtype = 'lsst.deepCoadd_calexp'\n",
    "AND lsst_tract = 4431\n",
    "AND lsst_patch = 17\n",
    "AND lsst_band = 'i'\n",
    "\"\"\"\n",
    "diaObjectId = 1250953961339360185\n"
   ]
  },
  {
   "cell_type": "markdown",
   "id": "e3d6e276-c46a-4f71-9b62-0c7f66cb3b2e",
   "metadata": {},
   "source": [
    "2.2.2.X  Query products by filter, sorting by declination"
   ]
  },
  {
   "cell_type": "markdown",
   "id": "11f7514d-4580-4850-bac0-f37e5caed0f5",
   "metadata": {},
   "source": [
    "### 2.3 Data Access using the DataLink Links Service\n",
    "\n",
    "Now that we know how to query the ObsCore table to find images, lets see how to access them. We will use the i-band image in tract 4431, patch 17 that we queried for above as an example. The information needed to access the image data product is provided by the \\\"access_url\\\" and \\\"access_format\\\" columns. \n",
    "\n",
    "* `DataLink` - An IVOA standard to link from metadata about a dataset to the dataset itself, as well as other related data and services that can operate on that data. This is new and we will lok at it in this tutorial\n",
    "* `SODA`\n",
    "* `SIA` -- want to intriduce this now as a concept\n",
    "\n",
    "\n",
    "* `access_url` - column that contains a URL for each observation with a retrievable image. \n",
    "* `access_format` - specifies the format (content type) of the data product. \n",
    "\n",
    "The `access_url` format is `<rsp-base-url>/api/datalink/links?ID=<id>` where `<rsp-base-url>` is the base URL of the instance of the Rubin Science Platform and `<id>` is a unique identifier (UUID) for the image in the Butler. Note that if an observation listed in the ObsCore table does not have a corresponding retrievable image, `access_url` will be null. \n",
    " \n",
    "The `access_format` specifies the format of the URL in the `access_url` column. It is set to `application/x-votable+xml;content=datalink` to indicate that the `access_url` is a [DataLink](https://www.ivoa.net/documents/DataLink/) service. DataLink is an IVOA data access protocol that provides a linking mechanism metadata about a dataset and the dataset itself. Storing non-tabular data such as images and spectra in tables in a relational database is impractical. Instead we use the dedicated DataLink service designed to handle large volumes of requests to host these datasets. "
   ]
  },
  {
   "cell_type": "markdown",
   "id": "6f7e1e99-415e-47a3-8ef5-c4d6ce81209e",
   "metadata": {},
   "source": [
    "Let's get the DataLink URL for the i-band image in tract 4431, patch 17. Note that we can use the method `getdataurl` to get the URL in the `access_url` field."
   ]
  },
  {
   "cell_type": "code",
   "execution_count": null,
   "id": "b5e3f653-d2af-4269-b3b4-a04536fd44a7",
   "metadata": {
    "tags": []
   },
   "outputs": [],
   "source": [
    "dataLinkUrl = results[0].getdataurl()\n",
    "f\"Datalink link service url: {dataLinkUrl}\""
   ]
  },
  {
   "cell_type": "markdown",
   "id": "497e9fc4-c080-4c39-8a84-a050de45a50e",
   "metadata": {},
   "source": [
    "Extract the UUID for the image from the DataLink URL."
   ]
  },
  {
   "cell_type": "code",
   "execution_count": null,
   "id": "ea1bb8f9-6335-4de7-909e-015cce9a14fc",
   "metadata": {
    "tags": []
   },
   "outputs": [],
   "source": [
    "image_uuid = uuid.UUID(dataLinkUrl.split(\"dp02/\",1)[1])\n",
    "assert isinstance(image_uuid, uuid.UUID)\n",
    "f\"UUID for i-band image tract 4431, patch 17 is: {image_uuid}\""
   ]
  },
  {
   "cell_type": "markdown",
   "id": "2f6fe21a-9c5b-4072-a66c-3f6c3aea5cbd",
   "metadata": {},
   "source": [
    "Let's check that the UUID extracted from the DataLink URL coresponds to the same data product from the Butler"
   ]
  },
  {
   "cell_type": "code",
   "execution_count": null,
   "id": "cb99e6a7-9d6d-46df-993f-6b57bbe3c4ce",
   "metadata": {
    "tags": []
   },
   "outputs": [],
   "source": [
    "butler = Butler('dp02', collections='2.2i/runs/DP0.2')\n",
    "registry = butler.registry\n",
    "dataId = {'band':'i', 'tract':4431, 'patch': 17}\n",
    "datasetRef = registry.findDataset('deepCoadd_calexp', dataId)\n",
    "deepCoadd_uuid = datasetRef.id\n",
    "assert deepCoadd_uuid == image_uuid\n",
    "f\"UUID for deep coadd with dataId {dataId} is {deepCoadd_uuid}\""
   ]
  },
  {
   "cell_type": "markdown",
   "id": "6dea90f3-bc39-4435-b1a3-8cf4e3fad6cf",
   "metadata": {},
   "source": [
    "Alternatively, if we know the UUID for a data product, we can use it to query the ObsCore table directly as follows."
   ]
  },
  {
   "cell_type": "code",
   "execution_count": null,
   "id": "fd9bb35b-05b6-4afe-a489-0b2ff4480950",
   "metadata": {
    "tags": []
   },
   "outputs": [],
   "source": [
    "query = \"\"\"\n",
    "SELECT access_url, dataproduct_subtype, lsst_patch, lsst_tract, lsst_band\n",
    "FROM ivoa.ObsCore \n",
    "WHERE access_url like '%20d28216-534a-4102-b8a7-1c7f32a9b78c' \n",
    "\"\"\"\n",
    "results = service.search(query)\n",
    "assert len(results) == 1  \n",
    "results.to_table()"
   ]
  },
  {
   "cell_type": "markdown",
   "id": "26ce6467-7105-4474-8312-32c5f049a097",
   "metadata": {},
   "source": [
    "Now that we know have the DataLink URL for our image, let's see how to access it. Before proceeding however, we need to extract the session authentiction for reuse. "
   ]
  },
  {
   "cell_type": "code",
   "execution_count": null,
   "id": "2f3462dc-08c5-418f-843c-a36cb5ca3ee7",
   "metadata": {},
   "outputs": [],
   "source": [
    "auth_session = service._session"
   ]
  },
  {
   "cell_type": "markdown",
   "id": "d9eb6a7b-1591-45bb-b8ab-5081c19a497b",
   "metadata": {},
   "source": [
    "We will use the PyVo `DatalinkResults` class to return a list matching records, each record containing a set of metadata describing the record."
   ]
  },
  {
   "cell_type": "code",
   "execution_count": null,
   "id": "5df7b97c-7c76-4d5c-8fe6-0c3f1c749dd3",
   "metadata": {
    "tags": []
   },
   "outputs": [],
   "source": [
    "dl_results = DatalinkResults.from_result_url(dataLinkUrl,session=auth_session)\n",
    "f\"{dl_results.status}\""
   ]
  },
  {
   "cell_type": "code",
   "execution_count": null,
   "id": "0a72a703-17e4-418a-a77c-33570eb58631",
   "metadata": {
    "tags": []
   },
   "outputs": [],
   "source": [
    "dl_results.to_table().show_in_notebook()"
   ]
  },
  {
   "cell_type": "markdown",
   "id": "a843c2b9-6234-4b01-a4da-82f1a2dc3bf6",
   "metadata": {},
   "source": [
    "In the table above we see that two records are returned for our image. The first is a signed URL for the image (Primary image or observation data file) that is valid for one hour. ADD some text explaning where the image is stored and the URL. The second is a link to the cutout service.\n",
    "\n",
    "DataLinks return results: In addition to providing a link to the image, we also want to provide pointers to associated services, in this case,  to a SODA-compliant image cutout service. Attaching the image cutout service descriptor the the DataLinks links service is a simple and convienient way to keep all the metadata about the image together.  Additionaly, this will allow us, for example, to point a future SIA service at the same DataLink links service and thus easily provide the same service descriptors.\n",
    "\n",
    "We will look at the cutout service in part 4 of this tutorial. First, we will use the signed URL to visualise the image"
   ]
  },
  {
   "cell_type": "code",
   "execution_count": null,
   "id": "09b365cd-40f0-4ec0-b32c-5e42e63b51f1",
   "metadata": {
    "tags": []
   },
   "outputs": [],
   "source": [
    "image_url = dl_results.getrecord(0).get('access_url')\n",
    "f\"{image_url}\""
   ]
  },
  {
   "cell_type": "markdown",
   "id": "5e2b54ff-a02d-4173-a359-187302c0f52e",
   "metadata": {},
   "source": [
    "We can plot the image by making an Exposure object directly from the URL. Let's plot this image side by side the image retrieved via the Butler"
   ]
  },
  {
   "cell_type": "code",
   "execution_count": null,
   "id": "fa867727-c815-4fa6-bbb5-7c759563079c",
   "metadata": {
    "tags": []
   },
   "outputs": [],
   "source": [
    "image_datalink = ExposureF(image_url)\n",
    "image_butler =  butler.get('deepCoadd_calexp', dataId=dataId)"
   ]
  },
  {
   "cell_type": "code",
   "execution_count": null,
   "id": "2d353164-e546-4550-a635-0a398efa046a",
   "metadata": {
    "tags": []
   },
   "outputs": [],
   "source": [
    "img_opts = dict(height=300, width=350, xaxis=\"bottom\",\n",
    "                padding=0.05, fontsize={'title': '8pt'},\n",
    "                colorbar=False, toolbar=None, show_grid=False, \n",
    "                tools=[])"
   ]
  },
  {
   "cell_type": "code",
   "execution_count": null,
   "id": "cf41a5f3-445f-4684-89a1-bfab1f95183b",
   "metadata": {
    "tags": []
   },
   "outputs": [],
   "source": [
    "dl_image = transformAndPlotImage(image_datalink, \"Image from ObsCore\", img_opts) \n",
    "butler_image = transformAndPlotImage(image_butler, \"Image from Butler\", img_opts)\n",
    "layout = hv.Layout(dl_image + butler_image).cols(2)\n",
    "layout"
   ]
  },
  {
   "cell_type": "markdown",
   "id": "b4e33b16-b9a6-494c-8618-8d8b0d8aa250",
   "metadata": {
    "execution": {
     "iopub.execute_input": "2023-02-23T00:30:19.882091Z",
     "iopub.status.busy": "2023-02-23T00:30:19.881419Z",
     "iopub.status.idle": "2023-02-23T00:30:19.884586Z",
     "shell.execute_reply": "2023-02-23T00:30:19.884045Z",
     "shell.execute_reply.started": "2023-02-23T00:30:19.882070Z"
    }
   },
   "source": [
    "### 2.3 Inspecting and Downloading Images\n",
    "\n",
    "We can open the image and inspect the header information witout downloading the image. The image is clearly a coadd. We can download the image using \n",
    "the astropy utility function `download_file` that downloads a file from a URL and optionally caches the result.  "
   ]
  },
  {
   "cell_type": "code",
   "execution_count": null,
   "id": "307c6025-db28-44ab-a38d-ccbe969dc675",
   "metadata": {},
   "outputs": [],
   "source": [
    "hdulist = fits.open(image_url)\n",
    "for hdu in hdulist:\n",
    "    print(hdu.name)"
   ]
  },
  {
   "cell_type": "code",
   "execution_count": null,
   "id": "96074baf-f05d-4772-bb97-93de86914d63",
   "metadata": {
    "tags": []
   },
   "outputs": [],
   "source": [
    "filename = download_file(image_url, cache=True, timeout=120, show_progress=False)\n",
    "assert os.path.isfile(filename)\n",
    "f\"Downloaded image to {filename}\""
   ]
  },
  {
   "cell_type": "markdown",
   "id": "63701f26-24c7-422a-b2d0-283f9abb1486",
   "metadata": {},
   "source": [
    "We can inspect the header information "
   ]
  },
  {
   "cell_type": "code",
   "execution_count": null,
   "id": "1613b5f6-3005-4c73-bf9c-2a2a3b4579e1",
   "metadata": {
    "tags": []
   },
   "outputs": [],
   "source": [
    "hdu = fits.open(filename)[0]\n",
    "image = hdu.data\n",
    "hdr = hdu.header\n",
    "wcs = WCS(hdr)"
   ]
  },
  {
   "cell_type": "markdown",
   "id": "4ea80e3b-e099-4d12-b3f6-c7c5c2e9c380",
   "metadata": {},
   "source": [
    "Or just plot the image directly by creating an `ExposureF` object"
   ]
  },
  {
   "cell_type": "code",
   "execution_count": null,
   "id": "f342df52-6d93-4540-8852-1659fabecd70",
   "metadata": {
    "tags": []
   },
   "outputs": [],
   "source": [
    "image_download = ExposureF(filename)\n",
    "transformAndPlotImage(image_download, \"Downloaded image\", img_opts)"
   ]
  },
  {
   "cell_type": "markdown",
   "id": "71d14244-bfe3-4cbd-86d7-b83a1665987e",
   "metadata": {},
   "source": [
    "X. Image Services\n",
    "\n",
    "Image servies are base on the ObsCore observatin metadata service IVOA-standard-compliant implementation of the SODA image cutout service"
   ]
  },
  {
   "cell_type": "markdown",
   "id": "b59c8395-8d50-4619-a786-306428d04e78",
   "metadata": {
    "jp-MarkdownHeadingCollapsed": true
   },
   "source": [
    "## 3 The Rubin Image Cutout Service \n",
    "\n",
    "When working with astronomical images, it is often desireable to work with only a cutout of a larger image, centered on a region of interest, for example a star cluster or supernova. Rubin provides an `Image Cutout Service` that can be used to create and retrieve cutouts of defined regions of interest in an image.\n",
    "\n",
    "The Rubin Image Cutout Serivce is implemented using the [IVOA SODA](https://ivoa.net/documents/SODA/20170517/REC-SODA-1.0.html) standard. SODA (Server-side Operations for Data Access) is a low-level data access capability or server side data processing that can act upon data files, performing various kinds of operations, such as filtering/subsection, transformations, pixel operations, and applying functions to the data.\n",
    "\n",
    "An initial implementation of the image cutout service has been deployed as part of DP0.2. The current serivce supports CIRCLE and POLYGON stencils and will will only return FITS files. Only a single ID (UUID) parameter that uniquly identifies a source images and a single stencil parameter are supported. Only synchronouse queries of the cutout service run currently. An asynchronous quert support may be introduced in the future.\n",
    "\n",
    "SODA requires each cutout filter parameter produce a separate result file, which forbids returning a single FITS file with all cutouts included (which seems like a better data model for services that can handle it)."
   ]
  },
  {
   "cell_type": "markdown",
   "id": "de90ee64-d051-4e9b-91a8-4f69dd67b760",
   "metadata": {},
   "source": [
    "Let's go back to the DataLink results in section 2.2 for the single i-band image we retrieved in tract 4431, patch 17. Recall that there were 2 results, the signed URL for the image and a second result. Let's now take a look at the second result. The `service_def` field in the second record is `cutout-sync` and the `description` field tells us that this is a cutout service implemented using the SODA protocol. \n",
    "\n",
    "Now lets look at the second result in the DataLink table above. This record provides informaitn about the cutout service. We will use this to get a cutout by using SodaQuery Now lets look at the second result in the DataLink table above. "
   ]
  },
  {
   "cell_type": "markdown",
   "id": "15136bc1-c0f5-4035-b801-312aefa5b9d8",
   "metadata": {},
   "source": [
    "### Input Parameters\n",
    "\n",
    "SODA calls parameters that control the shape of the cutout “filtering parameters” or “filters.” The word \"filter\" is highly overloaded in astronomy.\n",
    "IVOA can support many input parameters. We are only supporting CIRCLE AND POLYGON initially"
   ]
  },
  {
   "cell_type": "markdown",
   "id": "04cd1bb7-709d-4ded-b941-3f6f34adaa96",
   "metadata": {},
   "source": [
    "Uses cases \n",
    "\n",
    "Data discovery produces data identifiers. These data identifiers can then be used directly in a query to an associated SODA service. The query response in SIA or TAP format will include a service descriptor describing the SODA service and its capabilities \n",
    "\n",
    " So what can we do with all of this?\n",
    "\n",
    " 1. Create an image utout a subsection using coordinate values The input to the cutout operation will include one or more of the following:\n",
    "a region on the sky or a time value range. The region can be defined by a shpe. Currently CIRCLE, POLYGON are aupported. What about a range of coordinate values\n",
    "2. Retrive a subsectin (cutoiut) of a 2D image (i.e retrieve the subsection made above)\n",
    "3. Retrive in different formats (we only support fits right now)\n",
    "\n",
    "\n",
    "A SODA service can be implemented as a syc or async resource. Rubin currently only supports ....sync/>>\n",
    "\n",
    "The {sync} resource performs the data access as specified by the input parameters and returns the data directly in the output stream. Synchronous data access is suitable when the operations can be quickly performed and the data stream can be setup and written to (by the service) in a short period of time (e.g. before any timeouts).\n",
    "\n",
    "Inputs: \n",
    "\n",
    "ID : The values for the ID parameter are generally discovered from data discovery requests.  We use UUIDs \n",
    "POS: The POS parameter defines the positional region(s) to be extracted from the data. The value is made up of a shape keyword followed by coordinate values. The allowed shapes are given in Table 2. lat/lon in degress in ICRS\n",
    "\n",
    "(https://www.ivoa.net/documents/SODA/20170517/REC-SODA-1.0.html#tth_sEc1.1.1)\n",
    "\n",
    "Shape   Coordinate\n",
    "CIRCLE\t<longitude> <latitude> <radius>\n",
    "RANGE\t<longitude1> <longitude2> <latitude1> <latitude2>\n",
    "POLYGON\t<longitude1> <latitude1> ... (at least 3 pairs)\n",
    "\n",
    "e.g.\n",
    "A circle at (12,34) with radius 0.5:\n",
    "\n",
    "POS=CIRCLE 12 34 0.5\n",
    "\n",
    "A range of [12,14] in longitude and [34,36] in latitude:\n",
    "\n",
    "POS=RANGE 12 14 34 36\n",
    "\n",
    "A polygon from (12,34) to (14,34) to (14,36) to (12,36) and (implicitly) back to (12,34):\n",
    "\n",
    "POS=POLYGON 12 34 14 34 14 36 12 36\n",
    "\n",
    "A band around the equator:\n",
    "\n",
    "POS=RANGE 0 360 -2 2\n",
    "\n",
    "The north pole:\n",
    "\n",
    "POS=RANGE 0 360 89 90\n",
    "\n",
    "Filtering "
   ]
  },
  {
   "cell_type": "code",
   "execution_count": null,
   "id": "4d990388-9e6e-4912-848d-5f5d8e95c3e9",
   "metadata": {
    "tags": []
   },
   "outputs": [],
   "source": [
    "dl_results.to_table().show_in_notebook()"
   ]
  },
  {
   "cell_type": "markdown",
   "id": "70a14b50-7644-4eca-9669-24ceabd53b01",
   "metadata": {},
   "source": [
    "### 3.1 Create an Image Cutout using the Cutout Serivce"
   ]
  },
  {
   "cell_type": "markdown",
   "id": "fea2e715-5d25-4e64-930b-ca57179650ca",
   "metadata": {},
   "source": [
    "We will make use of the PyVO `SodaQuery` class to prepare a query to send to the Rubin SODA-compliant cutout serivce. The `SodaQuery` class method `from_resource` allows us to create an instance of the `SodaQuery` class directly from the DataLinkResults and passing the session authorization token. "
   ]
  },
  {
   "cell_type": "code",
   "execution_count": null,
   "id": "2b996b8b-aabd-4a49-821a-9f9b71e91fae",
   "metadata": {
    "tags": []
   },
   "outputs": [],
   "source": [
    "sq = SodaQuery.from_resource(dl_results, \n",
    "                             dl_results.get_adhocservice_by_id(\"cutout-sync\"), \n",
    "                             session=auth_session)\n",
    "assert sq is not None"
   ]
  },
  {
   "cell_type": "markdown",
   "id": "800f4941-fdf4-41b6-bb2c-73499a1cc08b",
   "metadata": {},
   "source": [
    "To find out more about the SodaQuery class, uncomment the next cell"
   ]
  },
  {
   "cell_type": "code",
   "execution_count": null,
   "id": "c8a86704-c45a-4a37-bdc7-d9cd0ffac7cb",
   "metadata": {
    "tags": []
   },
   "outputs": [],
   "source": [
    "#help(sq)"
   ]
  },
  {
   "cell_type": "markdown",
   "id": "6f9ddb45-2814-434c-ac56-27f6903af9a9",
   "metadata": {},
   "source": [
    "Now we will define a circle centered on the galaxy cluster in the bottom left hand corner of the image. "
   ]
  },
  {
   "cell_type": "code",
   "execution_count": null,
   "id": "e367b9ad-64e8-49da-8de3-2e19bb8c5775",
   "metadata": {
    "tags": []
   },
   "outputs": [],
   "source": [
    "circle_radius = 0.03* u.deg\n",
    "sq.circle = (center_coords.ra.deg, center_coords.dec.deg, \n",
    "             circle_radius)\n",
    "f\"Circle stencil around point {center_coords.data} of radius {circle_radius} defined\""
   ]
  },
  {
   "cell_type": "markdown",
   "id": "26970a08-7dbd-4223-82ed-87cc99672ed8",
   "metadata": {},
   "source": [
    "Define a path for the file and create the cutout"
   ]
  },
  {
   "cell_type": "code",
   "execution_count": null,
   "id": "5d861c6d-bc2b-44d8-9660-80475c6663e9",
   "metadata": {},
   "outputs": [],
   "source": [
    "sodaCutout = os.path.join(os.getenv('HOME'), 'DATA/soda-cutout.fits')\n",
    "with open(sodaCutout, 'bw') as f:\n",
    "    f.write(sq.execute_stream().read())"
   ]
  },
  {
   "cell_type": "code",
   "execution_count": null,
   "id": "5d34df6a-55ad-4c39-87dd-5d350a580022",
   "metadata": {
    "tags": []
   },
   "outputs": [],
   "source": [
    "# Display the cutout\n",
    "transformAndPlotImage(ExposureF(sodaCutout), \"SODA cutout image\",  img_opts)"
   ]
  },
  {
   "cell_type": "code",
   "execution_count": null,
   "id": "706f9ed8-7a18-411c-bcd7-0f5de7424be5",
   "metadata": {},
   "outputs": [],
   "source": [
    "# Instantiate a DP0.2 Butler\n",
    "butler = Butler('dp02', collections='2.2i/runs/DP0.2')\n",
    "registry = butler.registry"
   ]
  },
  {
   "cell_type": "markdown",
   "id": "617f6dc1-d866-49bc-b58d-145bd1338556",
   "metadata": {},
   "source": [
    "### 3.2 Create an image cutout using the SODA endpoint\n",
    "\n",
    "We construct the SODA endoint as follows. This is similar to endpoints for TAP \n",
    "\n",
    "IVOA SODA: https://www.ivoa.net/documents/SODA/20170517/REC-SODA-1.0.html#tth_sEc1.1.1"
   ]
  },
  {
   "cell_type": "markdown",
   "id": "28259f31-f34a-4735-938a-58598a4123d1",
   "metadata": {},
   "source": [
    "\n",
    "SODA needs the Butler UUID. Specifically, the URL is similar to https://data-int.lsst.cloud/api/cutout/sync?id=8a953c0321bd4878bfa694dbf628ea81&circle=53.13925%20-34.0215%200.0105 (the id parameter is the Butler UUID, and the remaining parameters are the cutout request, and there's a POST version as well and an async version following the SODA standard).\n",
    "\n",
    "Using PyVO's SodaQuery objectUsing PyVO's SodaQuery objectSODA needs the Butler UUID. Specifically, the URL is similar to https://data-int.lsst.cloud/api/cutout/sync?id=8a953c0321bd4878bfa694dbf628ea81&circle=53.13925%20-34.0215%200.0105 (the id parameter is the Butler UUID, and the remaining parameters are the cutout request, and there's a POST version as well and an async version following the SODA standard).\n",
    "\n",
    "Using PyVO's SodaQuery objectUsing PyVO's SodaQuery object"
   ]
  },
  {
   "cell_type": "code",
   "execution_count": null,
   "id": "00f6de03-47a5-4770-9fd0-fb237dc306b5",
   "metadata": {},
   "outputs": [],
   "source": [
    "host=os.getenv(\"EXTERNAL_INSTANCE_URL\")\n",
    "SODA_URL=\"{}/api/image/soda/sync\".format(host)\n",
    "print(SODA_URL)"
   ]
  },
  {
   "cell_type": "markdown",
   "id": "fc6db55f-045c-4e58-bbcd-f20e15499ba2",
   "metadata": {
    "execution": {
     "iopub.execute_input": "2023-02-23T01:57:27.903924Z",
     "iopub.status.busy": "2023-02-23T01:57:27.903277Z",
     "iopub.status.idle": "2023-02-23T01:57:27.907642Z",
     "shell.execute_reply": "2023-02-23T01:57:27.906999Z",
     "shell.execute_reply.started": "2023-02-23T01:57:27.903902Z"
    }
   },
   "source": [
    "## 4.0 Simple Image Access (SIA) Service \n",
    "\n",
    "Rubin plans to offer an Image Access Service based on the [Simple Image Access (SIA)]() protocol. SIA provides capabilities for the discovery, description, access, and retrieval of multi-dimensional image datasets and s based on the ObsCore Data Model (ObsCoreDM).\n",
    "The Rubin SIA Service will based on version 2 of the SIA protocol [SIAv2](https://www.ivoa.net/documents/SIA/20150730/index.html).  The Rubin SIAv2 servics is not complete yet but we can see what one might look like by looking at a SIA service at another archive. "
   ]
  },
  {
   "cell_type": "code",
   "execution_count": null,
   "id": "f39c6b5a-9bb2-4ad0-95dc-b4b452397a07",
   "metadata": {
    "tags": []
   },
   "outputs": [],
   "source": [
    "# Search for available SIA services \n",
    "sia_services = vo.regsearch(servicetype='sia')\n",
    "# for sia_service in (sia_services):\n",
    "#     print(sia_service)"
   ]
  },
  {
   "cell_type": "code",
   "execution_count": null,
   "id": "4576874f-cbf5-4b8e-a191-d9bdf8e0c591",
   "metadata": {
    "tags": []
   },
   "outputs": [],
   "source": [
    "# Let's search for images of the same position in the DES Y4 data image dataset hosted at NOIRLab\n",
    "DES_Y4_SIA_URL = \"https://datalab.noirlab.edu/sia/des_y4\"\n",
    "sia_desy4 = SIAService(DES_Y4_SIA_URL)\n",
    "des_y4_images = sia_desy4.search(\n",
    "    center_coords.ra.deg, \n",
    "    center_coords.dec.deg, \n",
    "    circle_radius, verbosity=2\n",
    ").to_table()"
   ]
  },
  {
   "cell_type": "code",
   "execution_count": null,
   "id": "9329ddfc-a0f4-4bab-8e0e-7ed59b5d2507",
   "metadata": {
    "tags": []
   },
   "outputs": [],
   "source": [
    "url = \"http://dc.zah.uni-heidelberg.de/hppunion/q/im/siap.xml\"\n",
    "sia_service = vo.dal.SIAService(url)\n",
    "sia_service.describe()"
   ]
  },
  {
   "cell_type": "markdown",
   "id": "0c2b4dd3-f9da-43ea-9346-ecb1a6eff2ad",
   "metadata": {},
   "source": [
    "Let's search from some images in the Eta Carina region of the sky using the GAVO's SIA service"
   ]
  },
  {
   "cell_type": "code",
   "execution_count": null,
   "id": "0c56261b-5de8-4306-9697-f9f6f9115eff",
   "metadata": {
    "tags": []
   },
   "outputs": [],
   "source": [
    "pos = SkyCoord.from_name('Eta Carina')\n",
    "size = Quantity(0.5, unit=\"deg\")\n",
    "sia_query = sia_service.create_query(pos=pos, size=size)\n",
    "sia_results = sia_query.execute()\n",
    "assert isinstance(sia_results, SIAResults)\n",
    "assert len(sia_results) == 8"
   ]
  },
  {
   "cell_type": "code",
   "execution_count": null,
   "id": "4cf0acbf-446d-432f-be16-e08a5de292a8",
   "metadata": {
    "tags": []
   },
   "outputs": [],
   "source": [
    "sia_results.to_table().show_in_notebook()"
   ]
  },
  {
   "cell_type": "markdown",
   "id": "96d6adf9-aa9d-4b53-8e4f-0a68688d7d1d",
   "metadata": {},
   "source": [
    "The list of matching images resulting from an image (SIA) query are returned in a `pyvo.dal.sia.SIAResults` object. Each record contains a set of metadata that describes each image.  "
   ]
  },
  {
   "cell_type": "code",
   "execution_count": null,
   "id": "503be907-9db3-49b2-9fe2-7fbd5443261b",
   "metadata": {
    "tags": []
   },
   "outputs": [],
   "source": [
    "# Create an output directory for images\n",
    "SIA_IMAGE_PATH = \"./siaimages\"\n",
    "if not os.path.exists(SIA_IMAGE_PATH):\n",
    "    os.mkdir(\"SIA_IMAGE_PATH\")\n",
    "    \n",
    "# Download all images\n",
    "for sia_result in sia_results:\n",
    "    filename = SIA_IMAGE_PATH + \"/\" + sia_result.title + \".fits\"\n",
    "    f\"Downloading {sia_result.title} to {filename}\"\n",
    "    sia_result.cachedataset(filename)"
   ]
  },
  {
   "cell_type": "markdown",
   "id": "6066d9f5-aa07-4d3f-81b3-f407629a5f40",
   "metadata": {},
   "source": [
    "## 5. Exercises to the user \n",
    "\n",
    "* Explore the obscore data model for another archive\n",
    "* Explore some of te other attributes defined in the ObsCore DM table - how might you use them to query and retrieve data products of interest for science\n",
    "* Get the UUID for all the visits that comprise the deepCoadd, get a cutout of the galaxy cluster and display them in a grid of images \n",
    "* Do a reprocessing on a cutout\n",
    "* Find an interesting object and use the cutout service to get cutouts of the object in all bands\n",
    "* Explore some other archives that offer SODA or SIA services"
   ]
  },
  {
   "cell_type": "markdown",
   "id": "6ef7e6ca-8830-43de-abb6-cbba1ee6d7cd",
   "metadata": {},
   "source": [
    "Planned Rubin Endpoint Services \n",
    "\n",
    "* Catalog query: TAP (table Access Protocol). The [Rubin TAP Service](https://data.lsst.cloud/api/tap) is already in service since DP0.1\n",
    "* Image metadata query: ObsCore with and ObsTAP service and SIAv2 service. \n",
    "* Image cutout service: SODA. The [Rubin SODA service](https://data.lsst.cloud/api/cutout/)\n",
    "* DataLink links service\n",
    "\n",
    "Full list of service URLs supported\n",
    "\n",
    "https://data.lsst.cloud/api/tap\n",
    "https://data.lsst.cloud/api/cutout/sync -> needs an input parameter and auth"
   ]
  },
  {
   "cell_type": "markdown",
   "id": "99a26164-8f90-46ab-8e2e-48b25da70da0",
   "metadata": {},
   "source": [
    "## 6. References \n",
    "\n",
    "Rubin technotes\n",
    "*  [DMTN-208](dmtn-208.lsst.io): RSP image cutout service implementation strategy\n",
    "*  [DMTN-238](dmtn-238.lsst.io): RSP DataLink service implementation strategy\n",
    "*  https://dmtn-139.lsst.io/v/DM-22746/index.html , section 7.4 (not published yet)\n",
    "\n",
    "\n",
    "Relevant IVOA standards documents \n",
    "*  IVOA Table Access Protocol (TAP) https://www.ivoa.net/documents/TAP/\n",
    "*  The read-the-docs API is: https://pyvo.readthedocs.io/en/latest/_modules/pyvo/dal/sia2.html\n",
    "*  A useful unit test: https://github.com/lsst-dm/image_cutout_backend/blob/main/tests/test_imageCutoutsBackend.py\n"
   ]
  }
 ],
 "metadata": {
  "kernelspec": {
   "display_name": "LSST",
   "language": "python",
   "name": "lsst"
  },
  "language_info": {
   "codemirror_mode": {
    "name": "ipython",
    "version": 3
   },
   "file_extension": ".py",
   "mimetype": "text/x-python",
   "name": "python",
   "nbconvert_exporter": "python",
   "pygments_lexer": "ipython3",
   "version": "3.11.7"
  },
  "toc-autonumbering": false
 },
 "nbformat": 4,
 "nbformat_minor": 5
}
