{
 "cells": [
  {
   "cell_type": "markdown",
   "id": "ea18fc1d-a242-4648-8010-bb3765c816c7",
   "metadata": {
    "tags": []
   },
   "source": [
    "<img align=\"left\" src = https://project.lsst.org/sites/default/files/Rubin-O-Logo_0.png width=250 style=\"padding: 10px\"> \n",
    "<b>Detect and Measure Sources in a Custom Coadded Image</b> <br>\n",
    "Contact author: Melissa Graham, Aaron Meisner <br>\n",
    "Last verified to run: 2024-10-21 <br>\n",
    "LSST Science Pipelines version: <b>Weekly 2022_40</b> <br>\n",
    "Container Size: large <br>\n",
    "Targeted learning level: advanced <br>"
   ]
  },
  {
   "cell_type": "markdown",
   "id": "3f1e3e59-cd69-4bd1-ac2f-1569b6dce176",
   "metadata": {},
   "source": [
    "___\n",
    "\n",
    "**WARNING:\n",
    "This notebook will only run with LSST Science Pipelines version Weekly 2022_40.**\n",
    "\n",
    "To find out which version of the LSST Science Pipelines is being used, look in the footer bar or execute the cell below."
   ]
  },
  {
   "cell_type": "code",
   "execution_count": null,
   "id": "b3ffa8e0-16fa-40a7-b3a0-1b3a95dbe08e",
   "metadata": {},
   "outputs": [],
   "source": [
    "! echo $IMAGE_DESCRIPTION"
   ]
  },
  {
   "cell_type": "markdown",
   "id": "5b25c08b-11fc-416c-9a68-97f1ee5be71b",
   "metadata": {},
   "source": [
    "If `Weekly 2022_40` is being used, then proceed with executing the tutorial.\n",
    "\n",
    "If `Weekly 2022_40` is **not** being used, **log out and start a new server**:\n",
    " 1. At top left in the menu bar choose File then Save All and Exit.\n",
    " 2. Re-enter the Notebook Aspect.\n",
    " 3. At <a href=\"https://dp0-2.lsst.io/data-access-analysis-tools/nb-intro.html#how-to-log-in-navigate-and-log-out-of-jupyterlab\">the \"Server Options\" stage</a>, under \"Select uncached image (slower start)\" choose `Weekly 2022_40`.\n",
    " 4. Note that it might take a few minutes to start the server with an old image.\n",
    "\n",
    "___\n",
    "\n",
    "\n",
    "**NOTICE:\n",
    "This notebook will only run with the butler repo alias `dp02-direct`.**\n",
    "\n",
    "All other tutorial notebooks in this repository use the `dp02` alias, which was updated in Oct 2024 to provide\n",
    "ready-only access to butler data repos.\n",
    "As this tutorial writes processed images back to the butler, \"direct access\" is needed and `dp02-direct` must be used.\n",
    "Note that this is a temporary work around for Data Preview 0. \n",
    "Butler functionality for Data Preview 1 will be different, as the butler service continues to evolve.\n",
    "\n",
    "___\n",
    "\n",
    "<br><br><br><br>"
   ]
  },
  {
   "cell_type": "markdown",
   "id": "d6d464c8-591d-441d-afa4-41106337fecf",
   "metadata": {},
   "source": [
    "**Description:** Detect and measure sources in a custom \"deepCoadd\" image."
   ]
  },
  {
   "cell_type": "markdown",
   "id": "6f9d71d1-eb54-48d5-9aef-65e7cfa026c6",
   "metadata": {},
   "source": [
    "**Skills:** Use the butler and LSST pipeline tasks on user-generated collections. Run source detection, deblending, and measurement."
   ]
  },
  {
   "cell_type": "markdown",
   "id": "319e4d20-a058-4ce7-9524-2c4ff7009da4",
   "metadata": {},
   "source": [
    "**LSST Data Products:** user-generated deepCoadd; DP0.2 deepCoadd image and Object table"
   ]
  },
  {
   "cell_type": "markdown",
   "id": "c98e878a-6076-4358-ad21-d3f5ec4c7fcc",
   "metadata": {},
   "source": [
    "**Packages:** lsst.afw, lsst.pipe, lsst.ctrl"
   ]
  },
  {
   "cell_type": "markdown",
   "id": "c7dfdc49-2789-4c5e-bd72-ece9f0fc21bb",
   "metadata": {},
   "source": [
    "**Credit:** Originally developed by Melissa Graham and Clare Saunders, this tutorial draws on the contents of the \"Introduction to Source Detection\" DP0.2 tutorial notebook by Douglas Tucker and Alex Drlica-Wagner."
   ]
  },
  {
   "cell_type": "markdown",
   "id": "79bcfd21-eeea-4292-9d34-fe8ffb1cb5b4",
   "metadata": {},
   "source": [
    "**Get Support:**\n",
    "Find DP0-related documentation and resources at <a href=\"https://dp0-2.lsst.io\">dp0-2.lsst.io</a>. Questions are welcome as new topics in the <a href=\"https://community.lsst.org/c/support/dp0\">Support - Data Preview 0 Category</a> of the Rubin Community Forum. Rubin staff will respond to all questions posted there."
   ]
  },
  {
   "cell_type": "markdown",
   "id": "38c2b0d8-1b08-4498-95e6-5c0ae91ef80d",
   "metadata": {},
   "source": [
    "\n",
    "> **WARNING: This tutorial uses the output of notebook DP02_09a_Custom_Coadd.ipynb. Users must run that notebook first, or have already generated the relevant custom coadd from the command line as in <a href=\"https://dp0-2.lsst.io/tutorials-examples/cmdline-custom-coadd.html\">DP0.2 command line tutorial 02</a>.**\n"
   ]
  },
  {
   "cell_type": "markdown",
   "id": "4c35ae3d-e686-4806-b572-2bf5da03d61a",
   "metadata": {},
   "source": [
    "# 1. Introduction\n",
    "\n",
    "This tutorial notebook is a follow-up to DP02_09a_Custom_Coadd.ipynb, and demonstrates how to run source detection and measurement on a user-generated custom `deepCoadd` image.\n",
    "\n",
    "Recall that although that new custom `deepCoadd` is not actually deep, but a rather shallower custom coadd, it will still be called `deepCoadd` in the butler because that is the default name of results from the `assembleCoadd` task."
   ]
  },
  {
   "cell_type": "markdown",
   "id": "2e3172a2-c1d0-44a7-9e32-cfd7b6b3963c",
   "metadata": {},
   "source": [
    "## 1.1. Package imports"
   ]
  },
  {
   "cell_type": "code",
   "execution_count": null,
   "id": "146b88ab-9582-40dd-bc2f-1b7c778af7ce",
   "metadata": {},
   "outputs": [],
   "source": [
    "import getpass\n",
    "import numpy as np\n",
    "import matplotlib.pyplot as plt\n",
    "from astropy.wcs import WCS\n",
    "from astropy.coordinates import SkyCoord\n",
    "import astropy.units as u\n",
    "\n",
    "import lsst.geom\n",
    "from lsst.daf.butler import Butler\n",
    "from lsst.rsp import get_tap_service\n",
    "import lsst.afw.display as afwDisplay\n",
    "\n",
    "from lsst.ctrl.mpexec import SimplePipelineExecutor\n",
    "from lsst.pipe.base import Pipeline"
   ]
  },
  {
   "cell_type": "markdown",
   "id": "b5af73a3-a010-4790-9fcf-464079afbfb8",
   "metadata": {},
   "source": [
    "## 1.2. Define functions and parameters\n",
    "\n",
    "Set `afwDisplay` to use a `matplotlib` backend."
   ]
  },
  {
   "cell_type": "code",
   "execution_count": null,
   "id": "27c04d69-a5ff-4ee0-8745-de36e6270cce",
   "metadata": {},
   "outputs": [],
   "source": [
    "afwDisplay.setDefaultBackend('matplotlib')"
   ]
  },
  {
   "cell_type": "markdown",
   "id": "f46cde4b-36c3-4fea-b0c9-18c2a3d17480",
   "metadata": {},
   "source": [
    "Instantiate the TAP service, which is used in Section 3.3."
   ]
  },
  {
   "cell_type": "code",
   "execution_count": null,
   "id": "4383ea42-1df4-4a60-bbed-5add658af109",
   "metadata": {},
   "outputs": [],
   "source": [
    "tap_service = get_tap_service()"
   ]
  },
  {
   "cell_type": "markdown",
   "id": "8edcfa22-f13f-4c06-875d-c3ed6a889243",
   "metadata": {},
   "source": [
    "## 1.3. Find the desired coadd in the butler\n",
    "\n",
    "Create a temporary butler in order to identify the collection and run containing the custom `deepCoadd`."
   ]
  },
  {
   "cell_type": "code",
   "execution_count": null,
   "id": "f275bdc0-f4b4-4e48-8224-f008f41ec0d1",
   "metadata": {},
   "outputs": [],
   "source": [
    "my_username = getpass.getuser()\n",
    "butler_repo = 'dp02-direct'"
   ]
  },
  {
   "cell_type": "code",
   "execution_count": null,
   "id": "eff0faa8-80be-4673-9ba3-e12ab26c6be6",
   "metadata": {},
   "outputs": [],
   "source": [
    "tempButler = Butler(butler_repo)"
   ]
  },
  {
   "cell_type": "markdown",
   "id": "e0eb3eff-e21f-4af9-993c-376f2c4bee4f",
   "metadata": {},
   "source": [
    "Print all collections and runs associated with the current user's username."
   ]
  },
  {
   "cell_type": "code",
   "execution_count": null,
   "id": "29158318-5fe5-49f7-b764-3d921e9daba7",
   "metadata": {},
   "outputs": [],
   "source": [
    "for c in sorted(tempButler.registry.queryCollections('*'+my_username+'*')):\n",
    "    print(c)"
   ]
  },
  {
   "cell_type": "markdown",
   "id": "0b2c4345-d54e-4dc4-9f52-6fa7149910bb",
   "metadata": {},
   "source": [
    "Delete this temporary butler."
   ]
  },
  {
   "cell_type": "code",
   "execution_count": null,
   "id": "eaf4d45d-c5db-4aa1-b55f-5502266f52a0",
   "metadata": {},
   "outputs": [],
   "source": [
    "del tempButler"
   ]
  },
  {
   "cell_type": "markdown",
   "id": "1ea9a6b1-62fa-444c-867a-eb1017f2be1f",
   "metadata": {},
   "source": [
    "Create a new butler with the collection containing the custom `deepCoadd`.\n",
    "\n",
    "> **Stop!** Make sure the name of the collection below matches the name of the collection created when running tutorial notebook DP02_09a_Custom_Coadd.ipynb, or when executing <a href=\"https://dp0-2.lsst.io/tutorials-examples/cmdline-custom-coadd.html\">DP0.2 command line tutorial 02</a>."
   ]
  },
  {
   "cell_type": "code",
   "execution_count": null,
   "id": "95d8162d-cb20-467e-aaee-59cf43d2879c",
   "metadata": {},
   "outputs": [],
   "source": [
    "inputCollection = \"u/\"+my_username+\"/custom_coadd_window1_test1\"\n",
    "print(inputCollection)"
   ]
  },
  {
   "cell_type": "code",
   "execution_count": null,
   "id": "0ed56a4b-8c70-4574-90e6-aa6e82d6c886",
   "metadata": {},
   "outputs": [],
   "source": [
    "butler = Butler(butler_repo, collections=[inputCollection])"
   ]
  },
  {
   "cell_type": "markdown",
   "id": "446c2b52-2bfd-42ed-9b10-15e8e9970271",
   "metadata": {},
   "source": [
    "Use the `dataId` from tutorial notebook DP02_09a_Custom_Coadd.ipynb and retrieve the custom `deepCoadd`."
   ]
  },
  {
   "cell_type": "code",
   "execution_count": null,
   "id": "4cd0503c-12be-4929-872a-bec4a0009a94",
   "metadata": {},
   "outputs": [],
   "source": [
    "my_dataId = {'band': 'i', 'tract': 4431, 'patch': 17}\n",
    "my_deepCoadd = butler.get('deepCoadd', my_dataId)"
   ]
  },
  {
   "cell_type": "markdown",
   "id": "61f4ba77-c2f3-4e75-b8ea-8bb193f15657",
   "metadata": {},
   "source": [
    "Confirm that the retrieved `deepCoadd` is the custom user-generated 6-input visits version."
   ]
  },
  {
   "cell_type": "code",
   "execution_count": null,
   "id": "455653a2-0596-474a-85b6-cb815afe7301",
   "metadata": {},
   "outputs": [],
   "source": [
    "my_deepCoadd_inputs = my_deepCoadd.getInfo().getCoaddInputs()\n",
    "my_deepCoadd_inputs.visits.asAstropy()"
   ]
  },
  {
   "cell_type": "markdown",
   "id": "93271ee8-d9d0-4a1d-81d8-e5f9f42635b7",
   "metadata": {},
   "source": [
    "# 2. Run source detection, deblending, and measurement"
   ]
  },
  {
   "cell_type": "markdown",
   "id": "974799d4-ea3d-4639-a7cb-470fad3500f9",
   "metadata": {},
   "source": [
    "This tutorial uses an approach to running source detection that is meant to parallel the approach adopted in tutorial notebook 09a for coaddition: use the <a href=\"https://pipelines.lsst.io/py-api/lsst.ctrl.mpexec.SimplePipelineExecutor.html\">Simple Pipeline Executor</a> to run a subset of Tasks from the DP0.2 Data Release Production (DRP) pipeline. The usage of SimplePiplineExecutor here also closely parallels the command line version of source detection demonstrated in DP0.2 <a href=\"https://dp0-2.lsst.io/tutorials-examples/cmdline-custom-coadd.html\">command line tutorial 02</a>."
   ]
  },
  {
   "cell_type": "markdown",
   "id": "16f3600d-17c0-4790-bc87-56490109a7e7",
   "metadata": {},
   "source": [
    "## 2.1. Set up an output collection for the source detection results"
   ]
  },
  {
   "cell_type": "markdown",
   "id": "71fa51a3-7883-4baa-84df-6742b84a9e68",
   "metadata": {},
   "source": [
    "<a href=\"https://community.lsst.org/t/adding-new-data-to-a-butler-gen3-decam/7728/2\">For technical reasons</a>, it's necessary to use a collection other than the input collection for the source detection outputs. Define an output collection name into which the custom coadd source detection results will be persisted:"
   ]
  },
  {
   "cell_type": "code",
   "execution_count": null,
   "id": "714ae833-e6dc-4362-a140-ae2d20b5ef1f",
   "metadata": {},
   "outputs": [],
   "source": [
    "my_outputCollection_identifier = 'custom_coadd_window1_test1_nbdet'\n",
    "my_outputCollection = 'u/' + my_username + '/'+ my_outputCollection_identifier\n",
    "print(my_outputCollection)"
   ]
  },
  {
   "cell_type": "markdown",
   "id": "535d5c75-ccb9-4ce4-8986-31dd79a98f99",
   "metadata": {},
   "source": [
    "As in the DP0.2 custom coaddition tutorial, the next step is to define a \"simple butler\" object that will be needed for running the SimplePipelineExecutor:"
   ]
  },
  {
   "cell_type": "code",
   "execution_count": null,
   "id": "03e56251-fc55-4214-a40d-46d70d0c1f05",
   "metadata": {},
   "outputs": [],
   "source": [
    "simpleButler = SimplePipelineExecutor.prep_butler(butler_repo, \n",
    "                                                  inputs=[inputCollection], \n",
    "                                                  output=my_outputCollection)"
   ]
  },
  {
   "cell_type": "markdown",
   "id": "0e256101-cfeb-4691-8ce8-ae676c83219d",
   "metadata": {},
   "source": [
    "Below, check that the newly created output collection is first in the list.\n",
    "\n",
    "> **Notice:** A run timestamp has been added to `my_outputCollection` as additional information for users.\n",
    "\n",
    "> **Warning:** To run custom coadd source detection multiple times, identify each source detection deployment with a new output collection name, such as `custom_coadd_window1_test1_nbdet2` or `custom_coadd_window1_test1_nbdet3`, and so on. <br>\n",
    "Note that re-executing Section 2.4 with the _same output collection name_ will produce results with a new run timestamp, but the butler always retrieves data _from the most recent timestamp for a given collection_. Not setting a new output collection name for a new deployment of source detection is essentially like \"overwriting\" results in the butler. It is not recommended to work that way, but to bookkeep using output collection names."
   ]
  },
  {
   "cell_type": "code",
   "execution_count": null,
   "id": "c8107823-ad7c-4804-9ffc-fa9777b52f1e",
   "metadata": {},
   "outputs": [],
   "source": [
    "simpleButler.registry.getCollectionChain(my_outputCollection)"
   ]
  },
  {
   "cell_type": "markdown",
   "id": "4e4beb42-518d-42f4-aa41-dc68c751351f",
   "metadata": {},
   "source": [
    "## 2.2. Define the source detection pipeline"
   ]
  },
  {
   "cell_type": "markdown",
   "id": "755705e1-77a1-498a-b576-518e06271026",
   "metadata": {},
   "source": [
    "Now for the pipeline definition. Use a subset of the pipeline Tasks from the DP0.2 DRP pipline, which is defined by the `$DRP_PIPE_DIR/pipelines/LSSTCam-imSim/DRP-test-med-1.yaml` YAML file. Specifically, four \"steps\" from within the DP0.2 DRP pipeline will be run: (1) `detection`, the initial detection of sources within the custom coadd (2) `mergeDetection`, which is needed to make possible downstream processing steps (3) `deblend`, deblending based on further analysis of the initial `detection` list (4) `measure`, which computes useful quantities, such as the photometric fluxes, given the deblended list of sources.\n",
    "\n",
    "As in DP0.2 notebook tutorial 09a, it's necessary to combine this information about the pipeline definition YAML file name and the desired subset of pipeline steps. This is done by creating a Uniform Resource Identifier (URI) containing all of this relevant information as follows:"
   ]
  },
  {
   "cell_type": "code",
   "execution_count": null,
   "id": "c0b5829c-bbad-4d31-a8e5-aeee1faa69d8",
   "metadata": {},
   "outputs": [],
   "source": [
    "yaml_file = '$DRP_PIPE_DIR/pipelines/LSSTCam-imSim/DRP-test-med-1.yaml'\n",
    "steps = 'detection,mergeDetections,deblend,measure'\n",
    "my_uri = yaml_file + '#' + steps\n",
    "print(my_uri)"
   ]
  },
  {
   "cell_type": "markdown",
   "id": "6164a9c0-2d71-4539-9228-c0dc3bdb5004",
   "metadata": {},
   "source": [
    "Note how the URI begins with the full DP0.2 DRP YAML pipeline definition file name, then, after a `#` character, continues with a comma-separated list of the desired pipeline steps. The order in which these steps are listed after the `#` character does not matter, though here they are listed in the order they run during processing for the sake of understandability."
   ]
  },
  {
   "cell_type": "markdown",
   "id": "ecc7fb86-c887-44ec-a7e7-54f802ca0473",
   "metadata": {},
   "source": [
    "Now create a source detection pipeline object based on the URI just constructed:"
   ]
  },
  {
   "cell_type": "code",
   "execution_count": null,
   "id": "6e84ab85-3420-4f74-847c-d8e66dc36559",
   "metadata": {},
   "outputs": [],
   "source": [
    "sourceDetectionPipeline = Pipeline.from_uri(my_uri)"
   ]
  },
  {
   "cell_type": "markdown",
   "id": "5397e4f5-db25-4f85-8730-d18d062c1d14",
   "metadata": {},
   "source": [
    "As in DP0.2 tutorial notebook 09a, it's necessary to apply a small number of configuration overrides to customize the pipeline's operation. The first two configuration overrides below set the detection threshold applied to the custom i-band coadd to be 10 sigma. The 10 sigma detection threshold employed here is used only for the sake of an additional configuration override example, but should not be interpreted as a general-purpose recommendation. The `multibandDeblend.maxIter` configuration override sets the maximum deblending iterations to a lower value than its default, which is a recommended mechanism for speeding up the processing. The `doPropagateFlags` configuration override is set because this processing does not need to propagate flag information about which sources were used for PSF construction."
   ]
  },
  {
   "cell_type": "code",
   "execution_count": null,
   "id": "16048f00-e9eb-4ea0-a195-a1d30a062776",
   "metadata": {},
   "outputs": [],
   "source": [
    "sourceDetectionPipeline.addConfigOverride('detection', 'detection.thresholdValue', 10.0)\n",
    "sourceDetectionPipeline.addConfigOverride('detection', 'detection.thresholdType', \"stdev\")\n",
    "sourceDetectionPipeline.addConfigOverride('deblend', 'multibandDeblend.maxIter', 20)\n",
    "sourceDetectionPipeline.addConfigOverride('measure', 'doPropagateFlags', False)"
   ]
  },
  {
   "cell_type": "markdown",
   "id": "cb45c485-878e-4f99-bad6-63c6fb3411a4",
   "metadata": {},
   "source": [
    "## 2.3. The `QuantumGraph`"
   ]
  },
  {
   "cell_type": "markdown",
   "id": "8054c42f-428e-4b50-8f5c-626e257aff5b",
   "metadata": {},
   "source": [
    "Recall that the `QuantumGraph` is <a href=\"https://pipelines.lsst.io/py-api/lsst.pipe.base.QuantumGraph.html#lsst.pipe.base.QuantumGraph\">a tool</a> used by the LSST Science Pipelines to break a large processing into relatively “bite-sized” quanta and arrange these quanta into a sequence such that all inputs needed by a given quantum are available for the execution of that quantum. In the present case, the processing is not especially large, but for production deployments it makes sense to inspect and validate the `QuantumGraph` before proceeding straight to full-scale processing launch. The image below provides a visualization of the custom coadd processing's `QuantumGraph`."
   ]
  },
  {
   "cell_type": "markdown",
   "id": "1021d452-99f2-4977-97f1-9c5ed7436e09",
   "metadata": {},
   "source": [
    "Here's what the `QuantumGraph` for the pipeline to perform source detection, debleding, and measurement looks like:"
   ]
  },
  {
   "cell_type": "markdown",
   "id": "9109506a-7d20-4f98-99db-0d8d66aa686e",
   "metadata": {},
   "source": [
    "<img align=\"left\" src = https://dp0-2.lsst.io/_images/detectionMergeDetectionsDeblendMeasure-DRP.png width=\"100%\" style=\"padding: 10px\">"
   ]
  },
  {
   "cell_type": "markdown",
   "id": "0d5b9c29-ebc7-41ed-a5a4-7c828a68c47f",
   "metadata": {},
   "source": [
    "The pipeline workflow starts from the top of the `QuantumGraph`, the custom `deepCoadd`, and works its way down to the bottom, where one can see that the final output data products (light gray rectangles with rounded corners) arise from the `measure` Task"
   ]
  },
  {
   "cell_type": "markdown",
   "id": "65c4bd4e-469c-47e7-bf3f-2398277941dc",
   "metadata": {},
   "source": [
    "**Option:** to recreate the above `QuantumGraph` visualization, uncomment the following cell and run it. Note that running the following optional commands will create two files, `source_detection_qgraph.dot` and `source_detection_qgraph.png`, in the current user's RSP home directory. Note also that running this optional `QuantumGraph` recreation will yield a warning message which can be ignored."
   ]
  },
  {
   "cell_type": "code",
   "execution_count": null,
   "id": "c8c6a0d3-6841-4226-ab29-8c1b0290f2c2",
   "metadata": {},
   "outputs": [],
   "source": [
    "#from lsst.ctrl.mpexec import pipeline2dot\n",
    "#pipeline2dot(sourceDetectionPipeline, '/home/' + my_username + '/source_detection_qgraph.dot')\n",
    "\n",
    "#! dot -Tpng /home/$USER/source_detection_qgraph.dot > /home/$USER/source_detection_qgraph.png"
   ]
  },
  {
   "cell_type": "markdown",
   "id": "ad9057f7-c1fa-47e2-bde5-1d385bbb9cc8",
   "metadata": {},
   "source": [
    "## 2.4. Deploying the source detection pipeline"
   ]
  },
  {
   "cell_type": "markdown",
   "id": "6a2d3a5c-8daa-435d-9522-c20f0ceffd4f",
   "metadata": {},
   "source": [
    "**Important**: The goal is to only run the source detection pipeline on one specific custom i-band coadd, not all of the DP0.2 `deepCoadd` products. In order to communicate this to the Simple Pipeline Executor framework, define a <a href=\"https://pipelines.lsst.io/modules/lsst.daf.butler/queries.html\">query string</a> that specifies what dataId is to be processed. As discussed above, the desired tract (patch) to process is 4431 (17), the band is i, and the relevant sky map is that of the DC2 simulation which forms the basis of DP0.2."
   ]
  },
  {
   "cell_type": "code",
   "execution_count": null,
   "id": "ed7be418-303c-4bbc-9e41-9579b707a97c",
   "metadata": {},
   "outputs": [],
   "source": [
    "queryString = f\"tract = 4431 AND patch = 17 AND band = 'i' AND skymap = 'DC2'\""
   ]
  },
  {
   "cell_type": "markdown",
   "id": "b6f0c442-fb17-417d-9885-7a71ee649b37",
   "metadata": {},
   "source": [
    "Now it's time to define the `SimplePipelineExecutor` object that will be used to deploy source detection on the custom i-band coadd. The `SimplePipelineExecutor` brings together the URI defining the pipeline, the query string defining the data set on which to deploy source detection, and the simple butler with information about the inputs the pipeline will have to work with. These three components become the three arguments passed to the `SimplePipelineExecutor` instantiation command below.\n",
    "\n",
    "> **Notice:** The following command returns UserWarning and FutureWarning messages that can be ignored."
   ]
  },
  {
   "cell_type": "code",
   "execution_count": null,
   "id": "33ac3a4c-6ba0-4d81-b4bf-5ff451c844de",
   "metadata": {},
   "outputs": [],
   "source": [
    "spe = SimplePipelineExecutor.from_pipeline(sourceDetectionPipeline, \n",
    "                                           where=queryString, \n",
    "                                           butler=simpleButler)"
   ]
  },
  {
   "cell_type": "markdown",
   "id": "01cdcec6-0098-4a8a-ab9a-23e662054a30",
   "metadata": {},
   "source": [
    "Run the pipeline.\n",
    "\n",
    "There will be a lot of standard output. Alt-click to the left of the cell (or control-click for Mac) and choose \"Enable Scrolling for Outputs\" to condense all of the output into a scrollable inset window. There will also be a couple of warning messages which can be ignored."
   ]
  },
  {
   "cell_type": "code",
   "execution_count": null,
   "id": "a290d1bb-430c-4a9f-b833-acd9bf6e8975",
   "metadata": {},
   "outputs": [],
   "source": [
    "quanta = spe.run()"
   ]
  },
  {
   "cell_type": "markdown",
   "id": "f64b4890-ed14-4fbd-8038-a6cd0b5d40eb",
   "metadata": {},
   "source": [
    "The above run of source detection, deblending, and measurement typically takes about 10-12 minutes to complete."
   ]
  },
  {
   "cell_type": "markdown",
   "id": "7954851c-f6f1-4713-aeb6-ffa0e9130fd2",
   "metadata": {},
   "source": [
    "# 3. Analyze sources"
   ]
  },
  {
   "cell_type": "markdown",
   "id": "9b1fe156-3d44-4852-b256-807672e2bec8",
   "metadata": {},
   "source": [
    "## 3.1. Read in the custom source measurement catalog"
   ]
  },
  {
   "cell_type": "markdown",
   "id": "dd9bac98-5ef3-4c02-87d3-2cb4482b0ce4",
   "metadata": {},
   "source": [
    "When running the detection pipeline in Section 2, this persisted various outputs, included the final `measurement` catalogs with critical information like fluxes measured for the detected/deblended source list. Use butler to access these persisted outputs from the source detection pipeline run:"
   ]
  },
  {
   "cell_type": "code",
   "execution_count": null,
   "id": "4376ec3a-724b-4128-b5b1-3c27fd51280e",
   "metadata": {},
   "outputs": [],
   "source": [
    "butler = Butler(butler_repo, collections=[my_outputCollection])\n",
    "sources = butler.get('deepCoadd_meas', dataId=my_dataId)"
   ]
  },
  {
   "cell_type": "markdown",
   "id": "52eb0c06-a438-40a9-9be8-4433aec6da88",
   "metadata": {},
   "source": [
    "## 3.1. Explore the source table contents\n",
    "\n",
    "Make the results into an astropy table for better human interaction.\n",
    "\n",
    "First, make a copy.\n",
    "Otherwise, the second cell below will fail with the error message _\"Record data is not contiguous in memory.\"_"
   ]
  },
  {
   "cell_type": "code",
   "execution_count": null,
   "id": "72617559-320e-4f76-936f-4417f6b841ab",
   "metadata": {},
   "outputs": [],
   "source": [
    "sources = sources.copy(True)"
   ]
  },
  {
   "cell_type": "code",
   "execution_count": null,
   "id": "4b315f6b-c81c-4984-85ed-505c7f31ecf2",
   "metadata": {},
   "outputs": [],
   "source": [
    "my_sources = sources.asAstropy()"
   ]
  },
  {
   "cell_type": "markdown",
   "id": "6fb396ae-1187-41a2-be96-6838289fb139",
   "metadata": {},
   "source": [
    "**Option:** print all of the column names of source measurements."
   ]
  },
  {
   "cell_type": "code",
   "execution_count": null,
   "id": "d5a7ba38-1c5a-4c0a-a14d-1c9357ff714d",
   "metadata": {},
   "outputs": [],
   "source": [
    "#my_sources.colnames"
   ]
  },
  {
   "cell_type": "markdown",
   "id": "a547450d-be82-4f1d-b2c5-91e47ac06b35",
   "metadata": {},
   "source": [
    "**Option:** explore which columns are flux measurements (not flux flags!) and which have been populated with nonzero flux values."
   ]
  },
  {
   "cell_type": "code",
   "execution_count": null,
   "id": "17f06382-ed59-452e-9a5e-d2c61108841f",
   "metadata": {},
   "outputs": [],
   "source": [
    "#for col in my_sources.colnames:\n",
    "#     if ((col.find('Flux') >= 0) | (col.find('flux') >= 0)) & (col.find('flag') < 0):\n",
    "#         tx = np.where(my_sources[col] > 0.0)[0]\n",
    "#         print(len(tx), col)\n",
    "#         del tx"
   ]
  },
  {
   "cell_type": "markdown",
   "id": "17405e4e-87af-452c-b281-7413a9382746",
   "metadata": {},
   "source": [
    "Convert `instFlux` to AB apparent magnitudes."
   ]
  },
  {
   "cell_type": "code",
   "execution_count": null,
   "id": "8aaa2e89-fd3c-48d8-905c-c3c6b1ecbf1f",
   "metadata": {},
   "outputs": [],
   "source": [
    "my_sources.add_column('i_CalibMag_AB')\n",
    "my_sources['i_CalibMag_AB'] = np.zeros(len(my_sources), dtype='float')\n",
    "my_deepCoadd_photoCalib = my_deepCoadd.getPhotoCalib()\n",
    "for s in range(len(my_sources)):\n",
    "    my_sources['i_CalibMag_AB'][s] = \\\n",
    "    my_deepCoadd_photoCalib.instFluxToMagnitude(my_sources['base_CircularApertureFlux_12_0_instFlux'][s])"
   ]
  },
  {
   "cell_type": "markdown",
   "id": "c2b21fbc-70e1-4b95-b78c-995c2f95abc8",
   "metadata": {},
   "source": [
    "Restrict to only \"primary\" sources for subsequent detailed analysis of i-band fluxes/magnitudes. This removes e.g., parent sources and sources near the edge of the custom coadd footprint."
   ]
  },
  {
   "cell_type": "code",
   "execution_count": null,
   "id": "1ecf2d24-64a2-4674-9afc-f01c0e6b668c",
   "metadata": {},
   "outputs": [],
   "source": [
    "my_sources = my_sources[my_sources['detect_isPrimary'] == True]"
   ]
  },
  {
   "cell_type": "markdown",
   "id": "69b4fa27-8dca-49b5-93b1-5977aa11f2b5",
   "metadata": {},
   "source": [
    "Plot the apparent i-band magnitude distribution of detected sources."
   ]
  },
  {
   "cell_type": "code",
   "execution_count": null,
   "id": "aa6452ef-767a-426f-8759-6efd82e6bd5f",
   "metadata": {},
   "outputs": [],
   "source": [
    "plt.figure(figsize=(5, 3))\n",
    "plt.hist(my_sources['i_CalibMag_AB'], bins=20)\n",
    "plt.xlabel('i-band apparent magnitude')\n",
    "plt.ylabel('number of detected sources')\n",
    "plt.show()"
   ]
  },
  {
   "cell_type": "markdown",
   "id": "448efec7-e17f-429d-949b-cce3fbd7b88d",
   "metadata": {},
   "source": [
    "## 3.2. Plot detected sources on a cutout of the custom coadd"
   ]
  },
  {
   "cell_type": "markdown",
   "id": "0e5badcc-01b5-4c84-bbe2-2b54ba2cdce4",
   "metadata": {},
   "source": [
    "Create a 1000 by 1000 pixel cutout of the custom `deepCoadd`."
   ]
  },
  {
   "cell_type": "code",
   "execution_count": null,
   "id": "dbb26ce2-ea84-4372-a56d-f31265d8e3e8",
   "metadata": {},
   "outputs": [],
   "source": [
    "cutout_width = 1000\n",
    "cutout_height = 1000\n",
    "my_cutout_bbox = lsst.geom.Box2I(lsst.geom.Point2I(my_deepCoadd.getX0(),\n",
    "                                                   my_deepCoadd.getY0()),\n",
    "                                 lsst.geom.Extent2I(cutout_width, cutout_height))\n",
    "my_cutout = my_deepCoadd.Factory(my_deepCoadd, my_cutout_bbox)"
   ]
  },
  {
   "cell_type": "markdown",
   "id": "27bf54f1-df64-4818-9b2d-eb54f625e58d",
   "metadata": {},
   "source": [
    "Print the center coordinates of the cutout."
   ]
  },
  {
   "cell_type": "code",
   "execution_count": null,
   "id": "74b2a48f-6ccd-4aa4-ba2f-bef4f7c7fcef",
   "metadata": {},
   "outputs": [],
   "source": [
    "bbox = my_cutout.getBBox()\n",
    "wcs = my_cutout.wcs\n",
    "fitsMd = wcs.getFitsMetadata()\n",
    "WCSfMd = WCS(fitsMd)\n",
    "center = wcs.pixelToSky(bbox.centerX, bbox.centerY)\n",
    "print('Cutout center (RA, Dec): ', center)"
   ]
  },
  {
   "cell_type": "markdown",
   "id": "62961186-e396-4672-b88c-44b74eba4d15",
   "metadata": {},
   "source": [
    "Recall from tutorial notebook 09a that the 'science use case' adopted for context was that there was a (hypothetical) supernova at RA = 55.745834, Dec = -32.269167, and evidence of a precursor outburst during Window1 was investigated.\n",
    "\n",
    "Convert those coordinates into a pixel location."
   ]
  },
  {
   "cell_type": "code",
   "execution_count": null,
   "id": "bb0f4d34-0266-4267-9ade-3e05294b0af9",
   "metadata": {},
   "outputs": [],
   "source": [
    "sn_coords = lsst.geom.SpherePoint(55.745834*lsst.geom.degrees, -32.269167*lsst.geom.degrees)\n",
    "sn_pix = wcs.skyToPixel(sn_coords)\n",
    "print(sn_pix)"
   ]
  },
  {
   "cell_type": "markdown",
   "id": "1aab8bec-42e6-4405-8b64-3449f4fd383b",
   "metadata": {},
   "source": [
    "Display cutout with detected sources as orange circles, and the supernova location as a larger green circle."
   ]
  },
  {
   "cell_type": "code",
   "execution_count": null,
   "id": "ad3fdf08-bae5-417e-ac52-253b5f9d67ba",
   "metadata": {},
   "outputs": [],
   "source": [
    "plt.figure()\n",
    "afw_display = afwDisplay.Display()\n",
    "afw_display.scale('asinh', 'zscale')\n",
    "afw_display.mtv(my_cutout.image)\n",
    "\n",
    "afw_display.dot('o', sn_pix[0], sn_pix[1], size=20, ctype='green')\n",
    "\n",
    "with afw_display.Buffering():\n",
    "    for s in sources:\n",
    "        afw_display.dot('o', s.getX(), s.getY(), size=10, ctype='orange')"
   ]
  },
  {
   "cell_type": "markdown",
   "id": "144a1d72-81ea-4761-be5f-417cf89e5da9",
   "metadata": {},
   "source": [
    "This display shows that there is no source detected at 10-sigma (defined by `config.thresholdValue` above in Section 2.2) at the location of the (hypothetical) supernova (green circle). \n",
    "\n",
    "In Section 4, an exercise for the learner is to re-run source detection with a lower sigma, which would be the next analysis step for the science use-case of exploring precursor eruptions.\n",
    "Recall that the DC2 simulation did not include precursor eruptions for supernovae, though -- and that there is no actual simulated supernova at the coordinates anyway. \n",
    "They are just used as an example."
   ]
  },
  {
   "cell_type": "code",
   "execution_count": null,
   "id": "fbe33a53-75d7-4506-9dab-482ce2ac571b",
   "metadata": {},
   "outputs": [],
   "source": [
    "del bbox, wcs, fitsMd, WCSfMd, center"
   ]
  },
  {
   "cell_type": "markdown",
   "id": "d65b3382-bf01-450d-948b-a2e822dea83e",
   "metadata": {},
   "source": [
    "## 3.3. Compare with Objects in the original deepCoadd image"
   ]
  },
  {
   "cell_type": "markdown",
   "id": "086e8631-b285-4090-b3eb-3f8a243d8853",
   "metadata": {},
   "source": [
    "### 3.3.1. Make a cutout of the original deepCoadd\n",
    "\n",
    "Instantiate a temporary butler that looks only at the DP0.2 collection."
   ]
  },
  {
   "cell_type": "code",
   "execution_count": null,
   "id": "88cb6223-d00b-46c9-9718-69a087a7c220",
   "metadata": {},
   "outputs": [],
   "source": [
    "tempButler = Butler(butler_repo, collections='2.2i/runs/DP0.2')"
   ]
  },
  {
   "cell_type": "markdown",
   "id": "8fe81b5d-0880-4883-82e9-b0e550cf9a5a",
   "metadata": {},
   "source": [
    "Use the same `dataId` that defines the custom `deepCoadd`.\n",
    "As a temporary butler that only looks at the DP0.2 data release collection, and not the user collection, this will retrieve the original `deepCoadd`, not the custom `deepCoadd`."
   ]
  },
  {
   "cell_type": "code",
   "execution_count": null,
   "id": "8b5042c7-2046-45b5-85c4-2b250c033741",
   "metadata": {},
   "outputs": [],
   "source": [
    "deepCoadd = tempButler.get('deepCoadd', my_dataId)"
   ]
  },
  {
   "cell_type": "markdown",
   "id": "957b80c0-2fde-47f3-ae48-cf25019ad85d",
   "metadata": {},
   "source": [
    "Double check that this `deepCoadd` is the result of 161 input visits."
   ]
  },
  {
   "cell_type": "code",
   "execution_count": null,
   "id": "afad2bd7-033c-44dd-b3a3-69b8b4858a5d",
   "metadata": {},
   "outputs": [],
   "source": [
    "deepCoadd_inputs = tempButler.get(\"deepCoadd.coaddInputs\", my_dataId)\n",
    "len(deepCoadd_inputs.visits.asAstropy())"
   ]
  },
  {
   "cell_type": "code",
   "execution_count": null,
   "id": "dff1ff45-59fe-4781-b487-d9c77f031467",
   "metadata": {},
   "outputs": [],
   "source": [
    "del tempButler"
   ]
  },
  {
   "cell_type": "markdown",
   "id": "f44d0d9d-06ed-44f9-8c50-c96e90414de5",
   "metadata": {},
   "source": [
    "Create a cutout from the original `deepCoadd`."
   ]
  },
  {
   "cell_type": "code",
   "execution_count": null,
   "id": "be0d19b7-d5c6-45c9-89ef-fc4586a0edb6",
   "metadata": {},
   "outputs": [],
   "source": [
    "cutout_bbox = lsst.geom.Box2I(lsst.geom.Point2I(deepCoadd.getX0(),\n",
    "                                                deepCoadd.getY0()),\n",
    "                              lsst.geom.Extent2I(cutout_width, cutout_height))\n",
    "cutout = deepCoadd.Factory(deepCoadd, cutout_bbox)"
   ]
  },
  {
   "cell_type": "markdown",
   "id": "162542d3-7b50-45d5-9e86-530ee956ebbd",
   "metadata": {},
   "source": [
    "**Option:** display the original `deepCoadd` cutout."
   ]
  },
  {
   "cell_type": "code",
   "execution_count": null,
   "id": "6727c98c-ab5a-40a8-925f-97c58bb5fb33",
   "metadata": {},
   "outputs": [],
   "source": [
    "#plt.figure()\n",
    "#afw_display = afwDisplay.Display()\n",
    "#afw_display.scale('asinh', 'zscale')\n",
    "#afw_display.mtv(cutout.image)"
   ]
  },
  {
   "cell_type": "markdown",
   "id": "09f68503-52a4-4952-8eb3-a1581e91e2a2",
   "metadata": {},
   "source": [
    "### 3.3.2. Retrieve Objects via TAP\n",
    "\n",
    "Use the TAP service to query and return the i-band calibrated fluxes for `Objects` detected with a signal-to-noise ratio > 10 (to match the custom coadd detection threshold set in Section 2.2) in the original `deepCoadd`, within the cutout area.\n",
    "\n",
    "Recall that the cutout center coordinates are: 55.7572944294, -32.2945077996. Use these as the central coordinates for the TAP query."
   ]
  },
  {
   "cell_type": "code",
   "execution_count": null,
   "id": "17432002-f906-4de2-9905-e48a4aec008b",
   "metadata": {},
   "outputs": [],
   "source": [
    "%%time\n",
    "query = \"SELECT objectId, coord_ra, coord_dec, detect_isPrimary, \" + \\\n",
    "        \"scisql_nanojanskyToAbMag(i_calibFlux) AS i_calibMag, \" + \\\n",
    "        \"scisql_nanojanskyToAbMagSigma(i_calibFlux, i_calibFluxErr) AS i_calibMagErr, \" + \\\n",
    "        \"i_extendedness \" + \\\n",
    "        \"FROM dp02_dc2_catalogs.Object \" + \\\n",
    "        \"WHERE CONTAINS(POINT('ICRS', coord_ra, coord_dec), \" + \\\n",
    "        \"CIRCLE('ICRS', 55.757, -32.295, 0.2)) = 1 \" + \\\n",
    "        \"AND i_calibFlux/i_calibFluxErr >= 10 \" + \\\n",
    "        \"AND detect_isPrimary = 1\"\n",
    "tap_results = tap_service.search(query)"
   ]
  },
  {
   "cell_type": "markdown",
   "id": "1e8798f7-e553-4d17-b94a-872018313d20",
   "metadata": {},
   "source": [
    "Store the TAP results in a pandas table."
   ]
  },
  {
   "cell_type": "code",
   "execution_count": null,
   "id": "3fd7700a-f2e5-42cd-aa30-3b427540be0a",
   "metadata": {},
   "outputs": [],
   "source": [
    "tap_table = tap_results.to_table().to_pandas()"
   ]
  },
  {
   "cell_type": "markdown",
   "id": "a8571e3d-836a-46bd-bd0d-067236970ccb",
   "metadata": {},
   "source": [
    "Convert `Object` sky coordinates (RA, Dec) to `deepCoadd` pixels (x,y) and store in the TAP results table."
   ]
  },
  {
   "cell_type": "code",
   "execution_count": null,
   "id": "e670d9c6-c9d9-498c-9d90-64dc6b8ab254",
   "metadata": {},
   "outputs": [],
   "source": [
    "wcs = cutout.wcs\n",
    "temp1 = np.zeros(len(tap_table), dtype='float')\n",
    "temp2 = np.zeros(len(tap_table), dtype='float')\n",
    "\n",
    "for i in range(len(tap_table['coord_ra'].values)):\n",
    "    sP = lsst.geom.SpherePoint(tap_table['coord_ra'][i]*lsst.geom.degrees, \\\n",
    "                               tap_table['coord_dec'][i]*lsst.geom.degrees)\n",
    "    cpix = wcs.skyToPixel(sP)\n",
    "    temp1[i] = float(cpix[0])\n",
    "    temp2[i] = float(cpix[1])\n",
    "    del sP, cpix\n",
    "\n",
    "tap_table['cutout_x'] = temp1\n",
    "tap_table['cutout_y'] = temp2\n",
    "\n",
    "del wcs, temp1, temp2"
   ]
  },
  {
   "cell_type": "markdown",
   "id": "4be8348c-1c0c-4280-92ad-6cc80c34cde3",
   "metadata": {},
   "source": [
    "### 3.3.3. Plot images side-by-side\n",
    "\n",
    "Plot the new custom `deepCoadd` (left; 6 input visits) and original `deepCoadd` (right; 161 input visits) cutouts side-by-side.\n",
    "\n",
    "Show newly detected sources in the custom `deepCoadd` (orange) and `Object` catalog sources from the original `deepCoadd` (red).\n",
    "\n",
    "Making these side-by-side images can take a minute."
   ]
  },
  {
   "cell_type": "code",
   "execution_count": null,
   "id": "fc37b989-2beb-4e87-bf08-a0afe0f1c1f7",
   "metadata": {},
   "outputs": [],
   "source": [
    "%%time\n",
    "\n",
    "fig, ax = plt.subplots(1, 2, figsize=(14, 7), sharey=False, sharex=False)\n",
    "\n",
    "plt.subplot(1, 2, 1)\n",
    "disp1 = afwDisplay.getDisplay(frame=fig)\n",
    "disp1.scale('asinh', 'zscale')\n",
    "disp1.mtv(my_cutout.image)\n",
    "\n",
    "with disp1.Buffering():\n",
    "    for s in sources:\n",
    "        disp1.dot('o', s.getX(), s.getY(), size=10, ctype='orange')\n",
    "\n",
    "plt.subplot(1, 2, 2)\n",
    "disp2 = afwDisplay.getDisplay(frame=fig)\n",
    "disp2.scale('asinh', 'zscale')\n",
    "disp2.mtv(cutout.image)\n",
    "\n",
    "with disp2.Buffering():\n",
    "    for s in range(len(tap_table)):\n",
    "        disp2.dot('o', tap_table['cutout_x'][s], tap_table['cutout_y'][s], size=10, ctype='red')\n",
    "\n",
    "plt.show()"
   ]
  },
  {
   "cell_type": "markdown",
   "id": "4951eb31-a6e0-4cd8-8f23-ac785350e6a2",
   "metadata": {},
   "source": [
    "### 3.3.4. Compare apparent magnitudes\n",
    "\n",
    "For sources detected in both the custom `deepCoadd` _and_ the original `deepCoadd`, plot a comparison of their apparent i-band magnitudes."
   ]
  },
  {
   "cell_type": "code",
   "execution_count": null,
   "id": "fba70311-08d4-4bb4-a613-b8d82c455b04",
   "metadata": {},
   "outputs": [],
   "source": [
    "plt.figure(figsize=(4, 4))\n",
    "\n",
    "plt.plot([16, 25], [16, 25], lw=1, ls='solid', color='black')\n",
    "\n",
    "r2d = 180.0/np.pi\n",
    "idx, d2d, d3d = (SkyCoord(ra=np.array(my_sources['coord_ra'])*r2d*u.deg, \n",
    "    dec=np.array(my_sources['coord_dec'])*r2d*u.deg)).match_to_catalog_sky(\n",
    "    SkyCoord(ra=tap_table['coord_ra']*u.deg, dec=tap_table['coord_dec']*u.deg))\n",
    "\n",
    "good_match = (d2d.arcsec < 1)\n",
    "\n",
    "plt.scatter(my_sources['i_CalibMag_AB'][good_match], tap_table['i_calibMag'][idx[good_match]],\n",
    "            s=8, alpha=0.35, color='grey', marker='o', edgecolor='none', zorder=2)\n",
    "\n",
    "plt.xlim([15, 26])\n",
    "plt.ylim([15, 26])\n",
    "plt.xlabel('deepCoadd i-band magnitude')\n",
    "plt.ylabel('custom coadd i-band magnitude')\n",
    "plt.show()"
   ]
  },
  {
   "cell_type": "markdown",
   "id": "a66f6040-8778-4b91-8db4-f848bd1792cf",
   "metadata": {},
   "source": [
    "The above is only for _matched sources_.\n",
    "\n",
    "Below, compare the apparent magnitude distributions for everything detected in the two images."
   ]
  },
  {
   "cell_type": "code",
   "execution_count": null,
   "id": "704fb4f2-588c-43c1-bf5e-4c737c0dd8ca",
   "metadata": {},
   "outputs": [],
   "source": [
    "plt.figure(figsize=(5, 3))\n",
    "\n",
    "plt.hist(my_sources['i_CalibMag_AB'], bins=20, histtype='step', label='custom coadd')\n",
    "plt.hist(tap_table['i_calibMag'], bins=20, histtype='step', label='original deepCoadd')\n",
    "\n",
    "plt.xlabel('i-band apparent magnitude')\n",
    "plt.ylabel('number of detected sources')\n",
    "plt.legend(loc='upper left')\n",
    "plt.xlim([15, 26])\n",
    "plt.show()"
   ]
  },
  {
   "cell_type": "markdown",
   "id": "abd9cb98-e225-49d4-8dc2-6cac3d764920",
   "metadata": {},
   "source": [
    "# 4. Exercises for the learner\n",
    "\n",
    "1. Lower the source detection threshold (e.g., from 10 to 5) and rerun the source detection and analysis. Remember to change the SNR limit in the TAP query to the `Objects` table, in order to make a meaningful comparison. \n",
    "> (Recall that the `Objects` table only includes SNR>5 detections, so if the source detection threshold for the custom `deepCoadd` is lowered to below 5, a meaningful comparison with the `Objects` table will not be possible. Rerun source detection on the original `deepCoadd` if desiring to explore low-SNR detections).\n",
    "2. Compare not just the apparent magnitudes between the custom `deepCoadd` and original `deepCoadd`, but also shape parameters like PSF or the `SdssShape` moments.\n",
    "3. Return to tutorial notebook 09a, create a custom `deepCoadd` for Window2, and compare it to the custom `deepCoadd` for Window1."
   ]
  }
 ],
 "metadata": {
  "kernelspec": {
   "display_name": "LSST",
   "language": "python",
   "name": "lsst"
  },
  "language_info": {
   "codemirror_mode": {
    "name": "ipython",
    "version": 3
   },
   "file_extension": ".py",
   "mimetype": "text/x-python",
   "name": "python",
   "nbconvert_exporter": "python",
   "pygments_lexer": "ipython3",
   "version": "3.10.5"
  }
 },
 "nbformat": 4,
 "nbformat_minor": 5
}
