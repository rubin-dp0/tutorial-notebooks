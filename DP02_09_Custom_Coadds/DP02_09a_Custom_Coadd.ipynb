{
 "cells": [
  {
   "cell_type": "markdown",
   "id": "88e46a87-3937-4534-ae66-8343f99049ed",
   "metadata": {},
   "source": [
    "<img align=\"left\" src = https://project.lsst.org/sites/default/files/Rubin-O-Logo_0.png width=250 style=\"padding: 10px\"> \n",
    "<b>Construct a Custom Coadded Image</b> <br>\n",
    "Contact author: Melissa Graham <br>\n",
    "Last verified to run: 2023-06-03 <br>\n",
    "LSST Science Pipelines version: <b>Weekly 2022_40</b> <br>\n",
    "Container Size: large <br>\n",
    "Targeted learning level: advanced <br>"
   ]
  },
  {
   "cell_type": "markdown",
   "id": "c6e5601a-2328-4634-a3e3-53f7dc9f458b",
   "metadata": {},
   "source": [
    "___\n",
    "\n",
    "**WARNING:\n",
    "This notebook will only run with LSST Science Pipelines version Weekly 2022_40.**\n",
    "\n",
    "To find out which version of the LSST Science Pipelines you are using, look in the footer bar or execute the cell below."
   ]
  },
  {
   "cell_type": "code",
   "execution_count": null,
   "id": "a08ce78f-dd89-4ac0-9407-ba7078f6c747",
   "metadata": {},
   "outputs": [],
   "source": [
    "! echo $IMAGE_DESCRIPTION"
   ]
  },
  {
   "cell_type": "markdown",
   "id": "9c1a8ace-c80d-41cb-b643-9cdda67d793b",
   "metadata": {},
   "source": [
    "If you are using `w_2022_40`, you may proceed with executing the tutorial.\n",
    "\n",
    "If you are **not** using `w_2022_40` you **must** log out and start a new server:\n",
    " 1. At top left in the menu bar choose File then Save All and Exit.\n",
    " 2. Re-enter the Notebook Aspect.\n",
    " 3. At <a href=\"https://dp0-2.lsst.io/data-access-analysis-tools/nb-intro.html#how-to-log-in-navigate-and-log-out-of-jupyterlab\">the \"Server Options\" stage</a>, under \"Select uncached image (slower start)\" choose `w_2022_40`.\n",
    " 4. Note that it might take a few minutes to start your server with an old image.\n",
    "\n",
    "**Why do I need to use an old image for this tutorial notebook?**\n",
    "In this tutorial and in the future with real LSST data, users will be able to recreate coadds starting with intermediate data products (the warps).\n",
    "On Feb 16 2023, as documented in the <a href=\"https://dp0-2.lsst.io/tutorials-examples/major-updates-log.html#major-updates-log\">Major Updates Log</a> for DP0.2 tutorials, the recommended image of the RSP at data.lsst.cloud was bumped from Weekly 2022_40 to Weekly 2023_07.\n",
    "However, the latest versions of the pipelines are not compatible with the intermediate data products of DP0.2, which were produced in early 2022.\n",
    "To update this tutorial to be able to use Weekly 2023_07, it would have to demonstrate how to recreate coadds *starting with the raw data products*.\n",
    "This is pedagogically undesirable because it does not accurately represent *future workflows*, which is the goal of DP0.2.\n",
    "Thus, it is recommended that delegates learn how to recreate coadds with Weekly 2022_40.\n",
    "\n",
    "___\n",
    "\n",
    "<br><br><br><br>"
   ]
  },
  {
   "cell_type": "markdown",
   "id": "985dbaac-2239-4e63-99af-069885693cd9",
   "metadata": {},
   "source": [
    "**Description:** Create a custom \"deepCoadd\" using only a subset of the input visits."
   ]
  },
  {
   "cell_type": "markdown",
   "id": "835825c1-745b-4bb5-bad8-861812618231",
   "metadata": {},
   "source": [
    "**Skills:** Use of pipetasks for image coaddition. Creating and writing to Butler collections. Properties of deepCoadds."
   ]
  },
  {
   "cell_type": "markdown",
   "id": "e710443e-0f79-4a89-ae31-c07bed8e5d8d",
   "metadata": {},
   "source": [
    "**LSST Data Products:** visitTable, deepCoadd images"
   ]
  },
  {
   "cell_type": "markdown",
   "id": "5d2d1c4b-2893-4abc-99c3-c305338e5d05",
   "metadata": {},
   "source": [
    "**Packages:** lsst.daf.butler, lsst.ctrl.mpexec, lsst.pipe.base"
   ]
  },
  {
   "cell_type": "markdown",
   "id": "5992b774-f0bf-49d7-8e23-7aca9788f6fb",
   "metadata": {},
   "source": [
    "**Credit:** Originally developed by Melissa Graham and Clare Saunders."
   ]
  },
  {
   "cell_type": "markdown",
   "id": "37ebdbb7-c12d-4645-8259-13aed7872ebb",
   "metadata": {},
   "source": [
    "**Get Support:**\n",
    "Find DP0-related documentation and resources at <a href=\"https://dp0-2.lsst.io\">dp0-2.lsst.io</a>. Questions are welcome as new topics in the <a href=\"https://community.lsst.org/c/support/dp0\">Support - Data Preview 0 Category</a> of the Rubin Community Forum. Rubin staff will respond to all questions posted there."
   ]
  },
  {
   "cell_type": "markdown",
   "id": "7b41f9a0-c6b3-4279-bfe4-692ff5e9a473",
   "metadata": {
    "tags": []
   },
   "source": [
    "# 1. Introduction\n",
    "\n",
    "This notebook shows how to retrieve information about the individual images that contributed to a deepCoadd, and how to make a new \"custom coadd\" image using only a subset of the inputs.\n",
    "\n",
    "In the past you might have used IRAF's imcombine or AstrOmatic's SWarp (for example) to coadd images.\n",
    "This notebook demonstrates the appropriate method for coadding LSST images with the LSST Science Pipelines.\n",
    "\n",
    "Science applications of coadding a subset of LSST images include searching for faint, slowly-evolving transients or variables (e.g., coadding images by season), using the effects of differential chromatic refraction (e.g., coadding images in bins of airmass), or searching for low surface brightness features (e.g., coadding only dark-time images with the faintest sky backgrounds).\n",
    "\n",
    "**Adopted science use case for custom coadds: supernova precursor events.**<br>\n",
    "This notebook tutorial uses the science case of a hypothetical supernova that occurred at RA 55.745834, Dec -32.269167 on MJD = 60960.\n",
    "(There is no DC2 supernova there, we just use the coordinates as an example).\n",
    "Since the deepCoadds are made out of years worth of images, and are combined to remove most transient flux, the supernova itself would not appear in the deepCoadd.\n",
    "However, some supernovae are known to have faint precursor eruptions, and characterizing precursor events is useful for understanding the supernova progenitor star and, e.g., its pre-supernova mass-loss episodes.\n",
    "It could be possible to detect faint precursor eruptions by stacking images obtained prior to the supernova explosion.\n",
    "\n",
    "**Caveats for the adopted science use case.**<br>\n",
    "1. This science use case of supernova precurors would be much better achieved by stacking the difference images. However, we wanted to make this a tutorial that creates custom coadds, and our science background is supernovae. So there remains a bit of a mismatch between science use case and image type for this tutorial.\n",
    "\n",
    "2. This tutorial uses only i-band visits to recreate coadds, but in reality scientists looking for supernova precursor events would use all filters (searching the bluer filters in particular would be more relevant).\n",
    "\n",
    "3. This tutorial uses images obtained in a one-month window prior to the supernova, but in reality scientists looking for supernova precursor events would use more windows, further in the past. That is left as an exercise for the learner in Section 5.\n",
    "\n",
    "4. The simulated DC2 supernovae were all of Type Ia and no precursor events were simulated.\n",
    "\n",
    "**Source detection in custom coadds.**<br>\n",
    "See the next tutorial notebook in the series, 09b_Custom_Coadd_Sources.ipynb, to learn how to run source detection and measurement on the new custom coadd."
   ]
  },
  {
   "cell_type": "markdown",
   "id": "0127a799-1cd7-4a7a-9deb-911938589161",
   "metadata": {},
   "source": [
    "## 1.1. Package imports\n",
    "\n",
    "Standard python and astropy packages for numerical processing, plotting, databases, unit conversion, etc.\n",
    "\n",
    "LSST Science Pipelines packages for data access, display, sky coordinates, and pipeline tasks."
   ]
  },
  {
   "cell_type": "code",
   "execution_count": null,
   "id": "4aef3e1b-efee-4d8a-9ed0-d9a910be88d3",
   "metadata": {},
   "outputs": [],
   "source": [
    "import getpass\n",
    "import numpy as np\n",
    "import matplotlib\n",
    "import matplotlib.pyplot as plt\n",
    "import pandas\n",
    "from astropy.time import Time\n",
    "\n",
    "import lsst.geom\n",
    "import lsst.afw.display as afwDisplay\n",
    "from lsst.daf.butler import Butler, DatasetType, CollectionType\n",
    "from lsst.ctrl.mpexec import SimplePipelineExecutor\n",
    "from lsst.pipe.base import Pipeline, Instrument"
   ]
  },
  {
   "cell_type": "markdown",
   "id": "633fe9bd-43cd-478e-81d9-d3fe6f712841",
   "metadata": {},
   "source": [
    "## 1.2. Define functions and parameters\n",
    "\n",
    "Set a few parameters related to plotting and display."
   ]
  },
  {
   "cell_type": "code",
   "execution_count": null,
   "id": "f7952911-b6e2-43c3-9e28-6a60431a3530",
   "metadata": {},
   "outputs": [],
   "source": [
    "font = {'size': 14}\n",
    "matplotlib.rc('font', **font)\n",
    "\n",
    "pandas.set_option('display.max_rows', 1000)\n",
    "\n",
    "afwDisplay.setDefaultBackend('matplotlib')"
   ]
  },
  {
   "cell_type": "markdown",
   "id": "f5bf823a-f544-46e3-a3db-df71bd6c083f",
   "metadata": {},
   "source": [
    "Set the DP0.2 config and collection, and instantiate a butler."
   ]
  },
  {
   "cell_type": "code",
   "execution_count": null,
   "id": "9340359c-49d6-471e-af30-2b2387756468",
   "metadata": {},
   "outputs": [],
   "source": [
    "butler = Butler('dp02', collections='2.2i/runs/DP0.2')"
   ]
  },
  {
   "cell_type": "markdown",
   "id": "460b2aa1-d80d-4060-b45b-2d4fb51eeac9",
   "metadata": {},
   "source": [
    "**Option:** display all the `deepCoadd` `datasetTypes` available via the butler."
   ]
  },
  {
   "cell_type": "code",
   "execution_count": null,
   "id": "c0697bca-571b-47a8-87f1-451f37fe1a5c",
   "metadata": {
    "tags": []
   },
   "outputs": [],
   "source": [
    "# for x in sorted(butler.registry.queryDatasetTypes('deepCoadd*')):\n",
    "#     print(x)"
   ]
  },
  {
   "cell_type": "markdown",
   "id": "c42ce015-7441-4155-bc6c-201d4118efce",
   "metadata": {},
   "source": [
    "# 2. Identify the visits to combine\n",
    "\n",
    "This example starts with a given sky coordinate. In the adopted science use case for this tutorial, consider this the coordinates of a supernova. (There is no DC2 supernova at this location, but the coordinates were chosen to be near a rich galaxy cluster, as a visually interesting target for a custom coadd).\n",
    "\n",
    "The DC2 skyMap is used to identify the i-band `deepCoadd` which contains that coordinate, and then the butler is used to retrieve the `deepCoadd` and the list of visit ids which were combined to create it.\n",
    "\n",
    "The `visitTable` is then used to obtain the acquisition dates of the input visits.\n",
    "For this example, the visits in a short time range will be selected as the visits to be coadded."
   ]
  },
  {
   "cell_type": "markdown",
   "id": "0f50f8d0-6a1b-4f32-9e44-5f9edd0f9e31",
   "metadata": {},
   "source": [
    "## 2.1. Identify and retrieve the deepCoadd\n",
    "\n",
    "Define the coordinates and filter to identify and retrieve the relevant `deepCoadd`.\n",
    "\n",
    "This takes 4-5 seconds."
   ]
  },
  {
   "cell_type": "code",
   "execution_count": null,
   "id": "6e5849dd-f51c-4443-b3b9-48f73b5b3eae",
   "metadata": {},
   "outputs": [],
   "source": [
    "my_ra_deg = 55.745834\n",
    "my_dec_deg = -32.269167\n",
    "my_filter = 'i'\n",
    "\n",
    "my_spherePoint = lsst.geom.SpherePoint(my_ra_deg*lsst.geom.degrees, my_dec_deg*lsst.geom.degrees)\n",
    "\n",
    "skymap = butler.get('skyMap')\n",
    "tract = skymap.findTract(my_spherePoint)\n",
    "my_tract = tract.tract_id\n",
    "my_patch = tract.findPatch(my_spherePoint).getSequentialIndex()\n",
    "print('My tract and patch: ', my_tract, my_patch)\n",
    "\n",
    "my_dataId = {'band': my_filter, 'tract': my_tract, 'patch': my_patch}\n",
    "my_deepCoadd = butler.get('deepCoadd', dataId=my_dataId)\n",
    "\n",
    "del my_ra_deg, my_dec_deg, my_filter, my_spherePoint, skymap, tract"
   ]
  },
  {
   "cell_type": "markdown",
   "id": "88c4d270-a2bf-4d35-a5c8-560fd1e675b7",
   "metadata": {},
   "source": [
    "**Option:** display the `deepCoadd` image."
   ]
  },
  {
   "cell_type": "code",
   "execution_count": null,
   "id": "6ed19ab9-d079-42e4-bff4-55eeef94afcb",
   "metadata": {
    "tags": []
   },
   "outputs": [],
   "source": [
    "# fig = plt.figure(figsize=(6, 4))\n",
    "# afw_display = afwDisplay.Display(1)\n",
    "# afw_display.scale('asinh', 'zscale')\n",
    "# afw_display.mtv(my_deepCoadd.image)\n",
    "# plt.gca().axis('off')"
   ]
  },
  {
   "cell_type": "markdown",
   "id": "34b35b55-74d4-422e-bf9d-a13c1aab45c1",
   "metadata": {},
   "source": [
    "**Option:** learn more about the `deepCoadd` metadata, such as bounding box, corners, and the World Coordinate System (WCS), by uncommenting and executing the cell below.\n",
    "It is not necessary to know the bounding box for a `deepCoadd` in order to find all of the calexps that were used to assemble it, this is simply a demonstration for the learner."
   ]
  },
  {
   "cell_type": "code",
   "execution_count": null,
   "id": "8c89c7e6-e96d-4135-9e44-06b84987ffb2",
   "metadata": {
    "tags": []
   },
   "outputs": [],
   "source": [
    "# my_deepCoadd_bbox = butler.get('deepCoadd.bbox', dataId=my_dataId)\n",
    "# print('bbox')\n",
    "# print(my_deepCoadd_bbox.beginX, my_deepCoadd_bbox.beginY,\n",
    "#       my_deepCoadd_bbox.endX, my_deepCoadd_bbox.endY)\n",
    "\n",
    "# print('')\n",
    "# print('corners')\n",
    "# print(my_deepCoadd_bbox.getCorners())\n",
    "\n",
    "# print('')\n",
    "# print('wcs')\n",
    "# my_deepCoadd_wcs = butler.get('deepCoadd.wcs', dataId=my_dataId)\n",
    "# print(my_deepCoadd_wcs)\n",
    "\n",
    "# del my_deepCoadd_bbox, my_deepCoadd_wcs"
   ]
  },
  {
   "cell_type": "markdown",
   "id": "92be360e-c8d0-4b99-be77-827561954c5b",
   "metadata": {},
   "source": [
    "## 2.2. Retrieve the deepCoadd's input visits"
   ]
  },
  {
   "cell_type": "code",
   "execution_count": null,
   "id": "b8c4f4b7-2447-4361-96c9-ca805d9106df",
   "metadata": {},
   "outputs": [],
   "source": [
    "my_coadd_inputs = my_deepCoadd.getInfo().getCoaddInputs()"
   ]
  },
  {
   "cell_type": "markdown",
   "id": "15e26c9d-e8b1-4f9d-93f7-0a37545c3d4c",
   "metadata": {},
   "source": [
    "The length of this table, 161, indicates that 161 separate visits contributed to this `deepCoadd`."
   ]
  },
  {
   "cell_type": "code",
   "execution_count": null,
   "id": "ae810206-6d17-42d9-96df-3560cf711e94",
   "metadata": {},
   "outputs": [],
   "source": [
    "len(my_coadd_inputs.visits)"
   ]
  },
  {
   "cell_type": "markdown",
   "id": "273ada69-3204-426d-9bec-a12d54dcfceb",
   "metadata": {},
   "source": [
    "**Option:** display the information for the `deepCoadd` inputs as an astropy table."
   ]
  },
  {
   "cell_type": "code",
   "execution_count": null,
   "id": "6708a08e-7cfb-429b-a121-7b918aa27b73",
   "metadata": {
    "tags": []
   },
   "outputs": [],
   "source": [
    "# my_coadd_inputs.visits.asAstropy()"
   ]
  },
  {
   "cell_type": "markdown",
   "id": "fc08dafe-6a6a-4d04-8b0b-ca25b33b37ed",
   "metadata": {},
   "source": [
    "**Option:** list the `id` of each of the `deepCoadd` input visits."
   ]
  },
  {
   "cell_type": "code",
   "execution_count": null,
   "id": "d54bbfd1-497f-4875-a5c8-707c1bf82193",
   "metadata": {
    "tags": []
   },
   "outputs": [],
   "source": [
    "# my_coadd_visits = my_coadd_inputs.visits['id']\n",
    "# my_coadd_visits"
   ]
  },
  {
   "cell_type": "markdown",
   "id": "d9ecfb5c-2c94-48ca-be41-b0d557c47739",
   "metadata": {},
   "source": [
    "> **Notice:** The `visitId` is a unique identifier for a visit, which is a full-focal plane exposure obtained at a specific time, at specific sky coordinates, in one filter. The `visitID` does not also uniquely identify the CCD (detector): that is called a `ccdVisitId`. "
   ]
  },
  {
   "cell_type": "markdown",
   "id": "cd7f0a95-9d41-44d1-aff7-6f6b59f77eeb",
   "metadata": {},
   "source": [
    "## 2.3. Identify the acquisition dates for the input visits\n",
    "\n",
    "First, get the entire visit table."
   ]
  },
  {
   "cell_type": "code",
   "execution_count": null,
   "id": "027cdc0f-0d1d-4330-83a9-ca8d67932044",
   "metadata": {},
   "outputs": [],
   "source": [
    "visitTableRef = list(butler.registry.queryDatasets('visitTable'))"
   ]
  },
  {
   "cell_type": "code",
   "execution_count": null,
   "id": "35cbbfe6-11b1-4500-baf3-cba58d529bf8",
   "metadata": {},
   "outputs": [],
   "source": [
    "visitTable = butler.get(visitTableRef[0])"
   ]
  },
  {
   "cell_type": "markdown",
   "id": "17a9591c-2e9f-4ef9-b385-c167b3ff2936",
   "metadata": {},
   "source": [
    "**Option:** display the contents of the entire `visitTable`."
   ]
  },
  {
   "cell_type": "code",
   "execution_count": null,
   "id": "a31b7e5c-df48-44f6-8854-b073f701ed1c",
   "metadata": {
    "tags": []
   },
   "outputs": [],
   "source": [
    "# visitTable"
   ]
  },
  {
   "cell_type": "markdown",
   "id": "1e628388-4a7b-4197-8aaa-80b925f5995d",
   "metadata": {},
   "source": [
    "Retrieve the Modified Julian Dates (MJDs; `expMidptMJD`) of our `deepCoadd`'s input visits.\n",
    "\n",
    "The fact that the `id` column for both the `my_coadd_inputs.visits` table and the `visitTable` is the visit number makes doing this a simple single line of code."
   ]
  },
  {
   "cell_type": "code",
   "execution_count": null,
   "id": "1c1a95b0-2702-4e2f-b6bf-b81f32ee918d",
   "metadata": {},
   "outputs": [],
   "source": [
    "my_coadd_visits_mjds = visitTable.loc[my_coadd_inputs.visits['id']]['expMidptMJD']"
   ]
  },
  {
   "cell_type": "markdown",
   "id": "f85ea9a3-0711-4f77-a309-15f403e6bcb5",
   "metadata": {},
   "source": [
    "This list of MJDs has 161 elements, for the 161 separate visits contributed to this `deepCoadd`."
   ]
  },
  {
   "cell_type": "code",
   "execution_count": null,
   "id": "95c50262-b42c-4151-b862-26e7ba8af02c",
   "metadata": {},
   "outputs": [],
   "source": [
    "len(my_coadd_visits_mjds)"
   ]
  },
  {
   "cell_type": "markdown",
   "id": "c0abddb8-f601-4388-b838-5e3dae9308f3",
   "metadata": {},
   "source": [
    "## 2.4. Identify input visits to combine into a new Coadd\n",
    "\n",
    "For the sake of the adopted science use case, the supernova exploded on MJD = 60960.\n",
    "\n",
    "As a user, we want to stack images first from the month before to look for a faint precursor, and then maybe also the month before that.\n",
    "\n",
    "Thus, we identify input visits in two date ranges:\n",
    "\n",
    "Window1: 60925 to 60955 (the month before)\n",
    "\n",
    "Window2: 60885 to 60922 (the month before that)"
   ]
  },
  {
   "cell_type": "code",
   "execution_count": null,
   "id": "dd205feb-436a-40e7-8119-6b2944255533",
   "metadata": {},
   "outputs": [],
   "source": [
    "Window1_start = 60925\n",
    "Window1_end = 60955\n",
    "\n",
    "Window2_start = 60885\n",
    "Window2_end = 60922\n",
    "\n",
    "fig, ax = plt.subplots(2, figsize=(10, 8))\n",
    "\n",
    "ax[0].axvline(60960, lw=1, ls='solid', color='black')\n",
    "ax[0].hist(my_coadd_visits_mjds, bins=150, color='dodgerblue')\n",
    "ax[0].set_xlabel('MJD')\n",
    "ax[0].set_ylabel('Number of Visits')\n",
    "ax[0].axvline(Window1_start, ls='dotted', color='firebrick')\n",
    "ax[0].axvline(Window1_end, ls='dotted', color='firebrick')\n",
    "ax[0].axvline(Window2_start, ls='dashed', color='darkorange')\n",
    "ax[0].axvline(Window2_end, ls='dashed', color='darkorange')\n",
    "\n",
    "ax[1].axvline(60960, lw=1, ls='solid', color='black')\n",
    "ax[1].text(60960.5, 7.5, 'SN', color='black')\n",
    "ax[1].hist(my_coadd_visits_mjds, bins=150, color='dodgerblue')\n",
    "ax[1].set_xlabel('MJD')\n",
    "ax[1].set_ylabel('Number of Visits')\n",
    "ax[1].set_xlim([60880, 60985])\n",
    "ax[1].axvline(Window1_start, ls='dotted', color='firebrick')\n",
    "ax[1].axvline(Window1_end, ls='dotted', color='firebrick')\n",
    "ax[1].text(Window1_start+1, 7.5, 'Window1', color='firebrick')\n",
    "ax[1].axvline(Window2_start, ls='dashed', color='darkorange')\n",
    "ax[1].axvline(Window2_end, ls='dashed', color='darkorange')\n",
    "ax[1].text(Window2_start+1, 7.5, 'Window2', color='darkorange')\n",
    "\n",
    "plt.show()"
   ]
  },
  {
   "cell_type": "markdown",
   "id": "bd659dea-4c4d-4592-a93b-fc93e7ee9344",
   "metadata": {},
   "source": [
    "There are six visits in Window1, and ten in the earlier Window2."
   ]
  },
  {
   "cell_type": "markdown",
   "id": "38f882d3-026a-4de7-920a-56072bfd5f96",
   "metadata": {},
   "source": [
    "# 3. Create a coadd for the visits in Window1"
   ]
  },
  {
   "cell_type": "markdown",
   "id": "96b1bcdc-3be9-46a7-b853-0fca694f2e44",
   "metadata": {},
   "source": [
    "Put the list of visits for Window1 into a string, formatted as a tuple, for use in a query later on.\n",
    "(\"Formatted as a tuple\" means within round brackets and separated by commas).\n",
    "\n",
    "> **Notice:** Changes to the `SimplePipelineExecutor` are planned so as to remove the need for users to reformat `visitId` lists as strings."
   ]
  },
  {
   "cell_type": "code",
   "execution_count": null,
   "id": "487e8fcb-8366-4ba7-9f09-4ad413c9fed1",
   "metadata": {
    "tags": []
   },
   "outputs": [],
   "source": [
    "my_range = np.array((my_coadd_visits_mjds > Window1_start)\n",
    "                    & (my_coadd_visits_mjds < Window1_end))\n",
    "my_visits = my_coadd_inputs.visits[my_range]\n",
    "my_visits_tupleString = \"(\"+\",\".join(my_visits['id'].astype(str))+\")\"\n",
    "print(my_visits_tupleString)"
   ]
  },
  {
   "cell_type": "markdown",
   "id": "a86fe32e-0c36-4e50-a2b4-98d36ed1b3b1",
   "metadata": {},
   "source": [
    "## 3.1. Name a new butler collection for your output\n",
    "\n",
    "Use the convention `u/<Your User Name>/<Collection Identifier>` to set up a new butler output collection for this tutorial.\n",
    "\n",
    "For `<Collection Identifier>`, for the first test of this notebook creating a custom coadd for Window1, \"custom_coadd_window1_test1\".\n",
    "\n",
    "The new `deepCoadd` generated by this tutorial will be stored in the butler, just like the DP0 data sets generated by Rubin staff.\n",
    "Everything stored in the butler is visible to all users.\n",
    "All users should feel free to go ahead and build up a bunch of processed data in the butler. Rubin staff will reach out if this ever gets to be \"too much\".\n",
    "\n",
    "> **Warning:** For DP0, the butler is a shared data repository, and everything stored in it is accessible to everyone. For DP0, there are no safeguards preventing users from deleting other people's data. Thus, for DP0, we are not teaching users how to delete _anything_ from the butler."
   ]
  },
  {
   "cell_type": "code",
   "execution_count": null,
   "id": "9795e6ef-1ffa-4489-bda0-36a15619a04a",
   "metadata": {},
   "outputs": [],
   "source": [
    "my_username = getpass.getuser()\n",
    "print(my_username)"
   ]
  },
  {
   "cell_type": "code",
   "execution_count": null,
   "id": "a94c0d74-8d88-40f9-8978-32df5bce834f",
   "metadata": {},
   "outputs": [],
   "source": [
    "my_collection_identifier = 'custom_coadd_window1_test1'\n",
    "print(my_collection_identifier)"
   ]
  },
  {
   "cell_type": "code",
   "execution_count": null,
   "id": "68013bdf-2624-48c5-9002-95afb351fef8",
   "metadata": {},
   "outputs": [],
   "source": [
    "my_outputCollection = 'u/'+my_username+'/'+my_collection_identifier\n",
    "print('Name of new butler collection for my output: ', my_outputCollection)"
   ]
  },
  {
   "cell_type": "markdown",
   "id": "0c4c35fd-402a-4878-80d4-0402e3740ff3",
   "metadata": {},
   "source": [
    "Check if this output collection already exists.\n",
    "\n",
    "If nothing is printed below this cell, the output collection does not already exist."
   ]
  },
  {
   "cell_type": "code",
   "execution_count": null,
   "id": "1814025e-a06b-41c8-8b56-b5d7fcde04d5",
   "metadata": {},
   "outputs": [],
   "source": [
    "for c in sorted(butler.registry.queryCollections()):\n",
    "    if c.find(my_outputCollection) > -1:\n",
    "        print(c)"
   ]
  },
  {
   "cell_type": "markdown",
   "id": "323bde7d-5a93-44ac-a02b-8709a78f6050",
   "metadata": {},
   "source": [
    "Delete the current butler. In the next section, a \"simple butler\" is created and used thereafter."
   ]
  },
  {
   "cell_type": "code",
   "execution_count": null,
   "id": "22a9d72a-46d9-4791-97d2-45cb20fae8dd",
   "metadata": {},
   "outputs": [],
   "source": [
    "del butler"
   ]
  },
  {
   "cell_type": "markdown",
   "id": "5d12d1c6-fd47-4c6e-845c-9e10bccc22d2",
   "metadata": {},
   "source": [
    "## 3.2. Set up a simple butler with your output collection"
   ]
  },
  {
   "cell_type": "markdown",
   "id": "a3763cc6-1f00-43dd-affb-193b78b4f7be",
   "metadata": {},
   "source": [
    "Set up a simple butler to use with the simple pipeline executor that is made in Section 3.6 below.\n",
    "\n",
    "This simple butler defines the input collection that contains the images which will be used to create the custom coadd, `2.2i/runs/DP0.2`, and also the output collection that will contain the custom `deepCoadd`, `my_outputCollection`, as defined in Section 3.1 above."
   ]
  },
  {
   "cell_type": "code",
   "execution_count": null,
   "id": "10da28f9-0e9b-4146-becd-8655b5aefbb9",
   "metadata": {
    "tags": []
   },
   "outputs": [],
   "source": [
    "simpleButler = SimplePipelineExecutor.prep_butler('dp02', \n",
    "                                                  inputs=['2.2i/runs/DP0.2'], \n",
    "                                                  output=my_outputCollection)"
   ]
  },
  {
   "cell_type": "markdown",
   "id": "33abd84d-f4d5-4dbf-8feb-15308c42c773",
   "metadata": {},
   "source": [
    "Below, check that the newly created output collection is first in the list.\n",
    "\n",
    "> **Notice:** A run timestamp has been added to `my_outputCollection` as additional information for users.\n",
    "\n",
    "> **Warning:** If you want to make multiple custom coadds, you should identify each with a new output collection name, such as `custom_coadd_window1_test2` or `custom_coadd_window2_test1`, and so on. <br>\n",
    "Note that re-executing Section 3 with the _same output collection name_ will produce results with a new run timestamp, but the butler always retrieves data _from the most recent timestamp for a given collection_. Not setting a new output collection name for a new custom coadd is essentially like \"overwriting\" your results in the butler. It is not recommended to work that way, but to bookkeep using output collection names."
   ]
  },
  {
   "cell_type": "code",
   "execution_count": null,
   "id": "46962fa6-ef50-4933-9d5d-7f66c22a23c8",
   "metadata": {
    "tags": []
   },
   "outputs": [],
   "source": [
    "simpleButler.registry.getCollectionChain(my_outputCollection)"
   ]
  },
  {
   "cell_type": "markdown",
   "id": "cec8f5a4-74bf-449b-9246-7e549dc56efe",
   "metadata": {},
   "source": [
    "**Option:** check the output collection run names that currently exist."
   ]
  },
  {
   "cell_type": "code",
   "execution_count": null,
   "id": "d86cf566-1271-460b-814c-e64a4987f241",
   "metadata": {
    "tags": []
   },
   "outputs": [],
   "source": [
    "# for c in sorted(simpleButler.registry.queryCollections(my_outputCollection+'*')):\n",
    "#     print('Found: ', c)"
   ]
  },
  {
   "cell_type": "markdown",
   "id": "e1740781-d79a-4202-971b-f9ef8f6a9329",
   "metadata": {
    "tags": []
   },
   "source": [
    "## 3.3. Create a pipeline with the makeWarp and assembleCoadd tasks\n",
    "\n",
    "In order to combine the identified visits into a new `deepCoadd`, two steps of the larger Data Release Pipeline (DRP) must be included: `makeWarp` and `assembleCoadd`. \n",
    "Although warped images are created during processing, they are not stored long-term because they take up a lot of space and because they can be easily recreated when needed.\n",
    "\n",
    "For more information, review the relevant documentation about <a href=\"https://pipelines.lsst.io/v/weekly/modules/lsst.pipe.base/creating-a-pipeline.html\">creating a pipeline</a> or the <a href=\"https://pipelines.lsst.io/modules/lsst.pipe.tasks/tasks/lsst.pipe.tasks.assembleCoadd.AssembleCoaddTask.html\">assembleCoadd<a> task.\n",
    "\n",
    "**The `from_uri` method.**\n",
    "    \n",
    "The following method for creating the `assembleCoaddPipeline` task in a notebook (i.e., using the `from_uri` function and passing a file path) is not intuitive, but is preferred because it gives the user all of the configuration settings for the instrument automatically, and because it most closely replicates the command-line syntax.\n",
    "    \n",
    "A URI is a uniform resource identifier, and as seen below it can take both a file path and additional information: in this case, the additional information is the processing steps that we wish to use, which are defined in the file.\n",
    "\n",
    "**The \"yaml\" file.**\n",
    "    \n",
    "yaml is a human-readable data-serialization language.\n",
    "It is commonly used for configuration files and in applications where data are being stored or transmitted. \n",
    "    \n",
    "All the DP0 tasks are listed in the DPO data release production pipeline definition yaml.\n",
    "To see this full list of tasks, first open a new terminal (click the blue + button at upper left and then select terminal).\n",
    "Then create a Rubin Observatory environment, and render the pipeline yaml content via the `pipetask build` command:\n",
    "> `setup lsst_distrib` <br>\n",
    "> `pipetask build -p $DRP_PIPE_DIR/pipelines/LSSTCam-imSim/DRP-test-med-1.yaml --show pipeline`<br>\n",
    "\n",
    "You will see quite a lot of yaml output as a result of this command. For more information about `pipetask build`, please check out the  <a href=\"https://dp0-2.lsst.io/tutorials-examples/cmdline-custom-coadd.html\">command line version</a> of this custom coadd tutorial. Note that, witihin the `pipetask build` yaml output, the ordering of tasks within a given step may be randomized.\n",
    "\n",
    "You can see an abbreviated version of the DP0 pipeline definition yaml by isolating \"step3\" as follows, where \"step3\" refers to coaddition:\n",
    "    \n",
    "> `pipetask build -p $DRP_PIPE_DIR/pipelines/LSSTCam-imSim/DRP-test-med-1.yaml#step3 --show pipeline`<br>\n",
    "    \n",
    "The above command assumes that you've already run `setup lsst_distrib` to set up the LSST software stack environment.\n",
    "    "
   ]
  },
  {
   "cell_type": "markdown",
   "id": "881e2e65-dad7-426e-a631-74bacaad209e",
   "metadata": {},
   "source": [
    "First create `my_uri`, a string that defines which parts of the Data Release Pipeline (DRP) will be included.\n",
    "\n",
    "To create a custom coadd, only two steps need to be rerun: `makeWarp` and `assembleCoadd`. \n",
    "\n",
    "In the file `$DRP_PIPE_DIR/pipelines/LSSTCam-imSim/DRP-test-med-1.yaml`, you will find these defined as the first two sub-steps of \"step3\", and that they are usually followed by the sub-step `detection`. \n",
    "\n",
    "However, we omit that sub-step and do source detection and measurement in the next tutorial notebook in this series, 09b_Custom_Coadd_Sources.ipynb."
   ]
  },
  {
   "cell_type": "code",
   "execution_count": null,
   "id": "63d2e0f9-8d04-4045-b182-f112ee7c5430",
   "metadata": {
    "tags": []
   },
   "outputs": [],
   "source": [
    "yaml_file = '$DRP_PIPE_DIR/pipelines/LSSTCam-imSim/DRP-test-med-1.yaml'\n",
    "steps = 'makeWarp,assembleCoadd'\n",
    "my_uri = yaml_file + '#' + steps\n",
    "print(my_uri)"
   ]
  },
  {
   "cell_type": "markdown",
   "id": "5a35cd5b-5a71-449f-a15a-4694c84ccb51",
   "metadata": {},
   "source": [
    "Next create a pipeline including just `makeWarp` and `assembleCoadd` steps, and call it `assembleCoaddPipeline`."
   ]
  },
  {
   "cell_type": "code",
   "execution_count": null,
   "id": "31df8776-0574-4d69-804e-4ddc7e78dde1",
   "metadata": {
    "tags": []
   },
   "outputs": [],
   "source": [
    "assembleCoaddPipeline = Pipeline.from_uri(my_uri)"
   ]
  },
  {
   "cell_type": "markdown",
   "id": "de7ebc47-f65e-4c46-b9c4-954248c32478",
   "metadata": {},
   "source": [
    "## 3.4. Configure the pipeline\n",
    "\n",
    "There is only one configuration that must be set, and it is to clarify to the pipeline that it _does not_ need to redo a final image characterization step.\n",
    "Currently, this configuration is only needed due to a version mismatch: the DP0.2 data sets were processed with Version 23 of the LSST Science Pipelines, whereas this notebook uses the version \"Weekly 2022_40\".\n",
    "\n",
    "This configuration might not be needed in the future, and in general, users of this tutorial do not need to worry about other configuration changes. Just as an FYI, configurations can be set using `addConfigOverride(<taskName>, <configName>, <configValue>)`.\n",
    "Section 4.2.5. shows how to view the configurations that were used for a given run."
   ]
  },
  {
   "cell_type": "code",
   "execution_count": null,
   "id": "fe6ac227-1047-4ba2-bc36-386934a7821b",
   "metadata": {
    "tags": []
   },
   "outputs": [],
   "source": [
    "assembleCoaddPipeline.addConfigOverride('makeWarp', 'doApplyFinalizedPsf', False)"
   ]
  },
  {
   "cell_type": "code",
   "execution_count": null,
   "id": "0ceb54ab-e986-4dae-8b3d-a24fda1056a5",
   "metadata": {
    "tags": []
   },
   "outputs": [],
   "source": [
    "assembleCoaddPipeline.addConfigOverride('makeWarp', \n",
    "                                        'connections.visitSummary', \n",
    "                                        \"visitSummary\")"
   ]
  },
  {
   "cell_type": "markdown",
   "id": "ad31692e-cede-4cd8-856e-d4e94471f092",
   "metadata": {},
   "source": [
    "## 3.5 Visualize the pipeline `QuantumGraph`\n",
    "\n",
    "Before actually deploying the custom coaddition, let’s take a moment to inspect the `QuantumGraph` of the processing to be run. The QuantumGraph is <a href=\"https://pipelines.lsst.io/py-api/lsst.pipe.base.QuantumGraph.html#lsst.pipe.base.QuantumGraph\">a tool</a> used by the LSST Science Pipelines to break a large processing into relatively “bite-sized” quanta and arrange these quanta into a sequence such that all inputs needed by a given quantum are available for the execution of that quantum. In the present case, you will not be doing an especially large processing, but for production deployments it makes sense to inspect and validate the `QuantumGraph` before proceeding straight to full-scale processing launch. The image below provides a visualization of the custom coadd processing's `QuantumGraph`.\n",
    "\n",
    "<img align=\"left\" src = https://dp0-2.lsst.io/_images/makeWarpAssembleCoadd.png width=\"100%\" style=\"padding: 10px\">\n",
    "\n",
    "Light gray rectangles with rounded corners represent data, whereas darker gray rectangles with sharp corners represent pipeline tasks. The arrows connecting the data and tasks illustrate the data processing flow. The data processing starts at the top, with the `calexp` calibrated single-exposure images (also known as Processed Visit Images; PVIs). The `makeWarp` task is applied to generate reprojected \"warp\" images from the various input `calexp` images, and finally the `assembleCoadd` task combines the warps into `deepCoadd` coadded products (light gray boxes along the bottom row).\n",
    "\n",
    "**Option:** recreate the above `QuantumGraph` visualization yourself. Note that running the following optional commands will create two files, `custom_coadd_qgraph.dot` and `custom_coadd_qgraph.png`, in your RSP home directory."
   ]
  },
  {
   "cell_type": "code",
   "execution_count": null,
   "id": "b314841c-6d85-4720-8df1-0c73ae5eebcc",
   "metadata": {},
   "outputs": [],
   "source": [
    "# from lsst.ctrl.mpexec import pipeline2dot\n",
    "# pipeline2dot(assembleCoaddPipeline, '/home/' + getpass.getuser() + '/custom_coadd_qgraph.dot')\n",
    "\n",
    "# ! dot -Tpng /home/$USER/custom_coadd_qgraph.dot > /home/$USER/custom_coadd_qgraph.png"
   ]
  },
  {
   "cell_type": "markdown",
   "id": "34207342-4542-4477-a900-8c095ed8be56",
   "metadata": {},
   "source": [
    "## 3.6. Create the full query string\n",
    "\n",
    "Above, the visits to be recombined were stored in `my_visits_tupleString`.\n",
    "\n",
    "Below, the full query string is built to include the patch being recreated."
   ]
  },
  {
   "cell_type": "code",
   "execution_count": null,
   "id": "ba1aa59a-db98-4d3c-b46e-e15f8901b18d",
   "metadata": {
    "tags": []
   },
   "outputs": [],
   "source": [
    "queryString = f\"tract = {my_tract} AND patch = {my_patch} AND \" + \\\n",
    "              f\"visit in {my_visits_tupleString} AND skymap = 'DC2'\"\n",
    "\n",
    "print(queryString)"
   ]
  },
  {
   "cell_type": "markdown",
   "id": "d335b20d-3cb9-4a45-9e09-d1b5a7023cc0",
   "metadata": {},
   "source": [
    "## 3.7. Use the Simple Pipeline Executor to run the pipeline\n",
    "\n",
    "The <a href=\"https://pipelines.lsst.io/v/weekly/py-api/lsst.ctrl.mpexec.SimplePipelineExecutor.html\">Simple Pipeline Executor</a> is a simple, high-level executor for pipelines that is primarily used for unit tests and small-scale integration of `PipelineTask` classes. It is appropriate to use in this case, where we are doing small-scale pipeline integration, in this case, of the `makeWarp` and `assembleCoaddPipeline` tasks only."
   ]
  },
  {
   "cell_type": "markdown",
   "id": "3bf4a0b0-c88e-4c3c-8525-4e0fd56f91a6",
   "metadata": {},
   "source": [
    "Learn more about the Simple Pipeline Executor."
   ]
  },
  {
   "cell_type": "code",
   "execution_count": null,
   "id": "e7a8e183-bee2-4117-b830-ca69f78649d1",
   "metadata": {
    "tags": []
   },
   "outputs": [],
   "source": [
    "# SimplePipelineExecutor.from_pipeline?"
   ]
  },
  {
   "cell_type": "markdown",
   "id": "872efc12-f282-473f-9bf3-fd43eb0a3627",
   "metadata": {},
   "source": [
    "Set up the Simple Pipeline Executor. This step can take up to 15 minutes."
   ]
  },
  {
   "cell_type": "code",
   "execution_count": null,
   "id": "50c26734-de0e-40f9-899a-42e9de2a52dc",
   "metadata": {
    "tags": []
   },
   "outputs": [],
   "source": [
    "spe = SimplePipelineExecutor.from_pipeline(assembleCoaddPipeline, \n",
    "                                           where=queryString, \n",
    "                                           butler=simpleButler)"
   ]
  },
  {
   "cell_type": "markdown",
   "id": "b91d8887-0e6d-4787-a5b2-3a889e5fe5e4",
   "metadata": {},
   "source": [
    "**Option:** Further explore the `QuantumGraph` via your `SimplePipelineExecutor` object. To see a pop-up window of `QuantumGraph`-related methods/attributes accessible via your `SimplePipelineExecutor`, put your cursor after the period and press the tab key."
   ]
  },
  {
   "cell_type": "code",
   "execution_count": null,
   "id": "e4bdafa1-8cbb-4ab4-b84c-5700a204568c",
   "metadata": {},
   "outputs": [],
   "source": [
    "# spe.quantum_graph."
   ]
  },
  {
   "cell_type": "markdown",
   "id": "7fba6582-9f37-46e6-bca0-e4fe673a3fdd",
   "metadata": {
    "tags": []
   },
   "source": [
    "Run the pipeline.\n",
    "\n",
    "There will be a lot of standard output. Alt-click to the left of the cell (or control-click for Macs) and choose \"Enable Scrolling for Outputs\" to condense all of the output into a scrollable inset window.\n",
    "\n",
    "This takes about 20 minutes to coadd the 6 visits of Window1.\n",
    "\n",
    ">**Notice:** Recall from Section 3.2 that the Butler will not overwrite existing data.\n",
    "If you've already executed the cell below, and then you attempt to re-execute it without first re-executing the cell in Section 3.2 that instantiates the `simpleButler` with an output collection that has a unique timestamp, an error message will be returned."
   ]
  },
  {
   "cell_type": "code",
   "execution_count": null,
   "id": "ebe78d52-d186-4220-b58a-1dafd518ca0f",
   "metadata": {
    "scrolled": true,
    "tags": []
   },
   "outputs": [],
   "source": [
    "quanta = spe.run()"
   ]
  },
  {
   "cell_type": "markdown",
   "id": "ed37a316-41d3-4bb6-8187-2da1250d71de",
   "metadata": {},
   "source": [
    "# 4. Display and analyze the results\n",
    "\n",
    "## 4.1. The quanta\n",
    "\n",
    "The `quanta` that was just created is a list of objects corresponding to each of the pipeline tasks that were run.\n",
    "There will be one for each visit’s `makeWarp` and one for `assembleCoadd`.\n",
    "Each of those has information about, e.g., the name of the task, the reference to the input and output.\n",
    "\n",
    "**Option:** learn more about the `quanta`."
   ]
  },
  {
   "cell_type": "code",
   "execution_count": null,
   "id": "ed3ae560-1376-41f5-b68c-f27859546c99",
   "metadata": {},
   "outputs": [],
   "source": [
    "# quanta"
   ]
  },
  {
   "cell_type": "markdown",
   "id": "aeedcf66-5179-46e1-89e8-1cd809eb0aaa",
   "metadata": {},
   "source": [
    "**Option:** to see the pop-up window of methods for `quanta`, put your cursor after the period and press the tab key."
   ]
  },
  {
   "cell_type": "code",
   "execution_count": null,
   "id": "9750295b-bcc4-4736-a983-9b24b7713fc8",
   "metadata": {},
   "outputs": [],
   "source": [
    "# quanta."
   ]
  },
  {
   "cell_type": "markdown",
   "id": "bc6794fa-9929-4caf-8308-a4251a96d2be",
   "metadata": {},
   "source": [
    "**Option:** instead of using tab, see the methods associated with an object by using `dir`."
   ]
  },
  {
   "cell_type": "code",
   "execution_count": null,
   "id": "addb5e0a-ad73-41d3-9b05-5bac4cc21001",
   "metadata": {},
   "outputs": [],
   "source": [
    "# dir(quanta[0])"
   ]
  },
  {
   "cell_type": "markdown",
   "id": "e14dff77-845a-4e21-b511-a577e6b3c97a",
   "metadata": {},
   "source": [
    "Display the task names for each `quantum` in `quanta` to find the one associated with the `assembleCoadd` task."
   ]
  },
  {
   "cell_type": "code",
   "execution_count": null,
   "id": "2c75391a-84a4-488f-94ef-2a3cf5bad965",
   "metadata": {},
   "outputs": [],
   "source": [
    "for q, quantum in enumerate(quanta):\n",
    "    print(q, quantum.taskName)"
   ]
  },
  {
   "cell_type": "markdown",
   "id": "a98acfa7-95db-44c7-b0df-2c29b24e37e8",
   "metadata": {},
   "source": [
    "When this tutorial was prepared, the output of the cell above showed that the first six elements of `quanta` (indices 0 through 5) were the results of `makeWarp` for the six visits, and then the seventh (index 6) was the results of `assembleCoadd`.\n",
    "\n",
    "Below, set `coadd_index` equal to the index for the outputs of `lsst.pipe.tasks.assembleCoadd`.\n",
    "\n",
    "This should be the same unless you've changed how many visits are input to the custom coadd.\n",
    "\n",
    "> E.g., `coadd_index = 6`"
   ]
  },
  {
   "cell_type": "code",
   "execution_count": null,
   "id": "2d02655d-4e33-49ef-8d0d-441ecd4ab414",
   "metadata": {},
   "outputs": [],
   "source": [
    "coadd_index = 6"
   ]
  },
  {
   "cell_type": "markdown",
   "id": "c40a4b06-117c-4cb6-85ca-478412821c24",
   "metadata": {},
   "source": [
    "**Option:** display information using the `inputs` and `outputs` methods for `quanta`."
   ]
  },
  {
   "cell_type": "code",
   "execution_count": null,
   "id": "f27a9f02-ad51-45d5-b004-6951b7f45ad7",
   "metadata": {},
   "outputs": [],
   "source": [
    "# quanta[coadd_index].inputs"
   ]
  },
  {
   "cell_type": "code",
   "execution_count": null,
   "id": "1276c9f9-f1d2-40c7-b1ea-7daf23838158",
   "metadata": {},
   "outputs": [],
   "source": [
    "# quanta[coadd_index].outputs"
   ]
  },
  {
   "cell_type": "code",
   "execution_count": null,
   "id": "b95ac82a-df63-4671-8f57-9c9bdbc6106e",
   "metadata": {},
   "outputs": [],
   "source": [
    "for output in quanta[coadd_index].outputs:\n",
    "    print(output)"
   ]
  },
  {
   "cell_type": "markdown",
   "id": "923668a1-9bda-40e9-9fe4-d10cd0d5fa0c",
   "metadata": {},
   "source": [
    "The `deepCoadd` is the output we're interested in. Notice that it has a `DatasetType` of `ExposureF`, so it is the image."
   ]
  },
  {
   "cell_type": "code",
   "execution_count": null,
   "id": "26a8f2a4-a889-400b-aa0b-4483b9c31fee",
   "metadata": {},
   "outputs": [],
   "source": [
    "quanta[coadd_index].outputs['deepCoadd']"
   ]
  },
  {
   "cell_type": "markdown",
   "id": "a3ef617f-03d2-4879-b6cd-a80cb7192c65",
   "metadata": {},
   "source": [
    "From the square brackets, it's a list of just one element. So the `DatasetRef` for just our new coadd would be:\n",
    "\n",
    "> `quanta[coadd_index].outputs['deepCoadd'][0]`\n",
    "\n",
    "The above output is used in Section 4.2.1, below, to retrieve the new custom `deepCoadd` image from the `simpleButler`."
   ]
  },
  {
   "cell_type": "markdown",
   "id": "76d7fbb4-c3a2-4d9f-be5b-9ca91ae0cbc7",
   "metadata": {},
   "source": [
    "## 4.2. The new image\n",
    "\n",
    "Although the new custom `deepCoadd` that we created is not actually deep, but a rather shallower custom coadd, it will still be called `deepCoadd` in the butler because that is the default name of results from the `assembleCoadd` task.\n",
    "\n",
    "> **Notice:** Only use 4.2.1 \"Option 1\" ***OR*** 4.2.2 \"Option 2\" to retrieve the new image.\n",
    "\n",
    "### 4.2.1. Option 1 - use the quanta"
   ]
  },
  {
   "cell_type": "code",
   "execution_count": null,
   "id": "6ce67ffb-6e78-42a2-91d3-c93af77e3a9a",
   "metadata": {},
   "outputs": [],
   "source": [
    "my_new_deepCoadd = simpleButler.get(quanta[coadd_index].outputs['deepCoadd'][0])"
   ]
  },
  {
   "cell_type": "markdown",
   "id": "08c9f136-c859-44a5-8f20-14edd1ec2ce5",
   "metadata": {},
   "source": [
    "### 4.2.2. Option 2 - use the dataId\n",
    "\n",
    "The `dataId` for the `deepCoadd` of interest was already defined:\n",
    "> `my_dataId = {'band': 'i', 'tract': my_tract, 'patch': my_patch}`\n",
    "\n",
    "Use it to retrieve the newly made `deepCoadd` from the `simpleButler`.\n",
    "\n",
    "So long as you use the `simpleButler`, it will search the collections in order, and since we made sure that the new collection we just created and wrote to appears first -- as checked in the first cell below -- it will take the `deepCoadd` from that new collection."
   ]
  },
  {
   "cell_type": "code",
   "execution_count": null,
   "id": "15c45e5b-9c01-4d9a-acf1-8780ec93b5de",
   "metadata": {},
   "outputs": [],
   "source": [
    "# simpleButler.registry.getCollectionChain(my_outputCollection)"
   ]
  },
  {
   "cell_type": "code",
   "execution_count": null,
   "id": "74e56269-f945-4a69-9931-4b0b63cda199",
   "metadata": {},
   "outputs": [],
   "source": [
    "# my_new_deepCoadd = simpleButler.get('deepCoadd', dataId=my_dataId)"
   ]
  },
  {
   "cell_type": "markdown",
   "id": "86f2e113-1cd4-4dbd-9d91-7e4075417f5c",
   "metadata": {},
   "source": [
    "#### Accessing the image from another notebook.\n",
    "\n",
    "The results have been permanently written to the butler.\n",
    "\n",
    "If you instantiated a new butler in a new notebook: <br>\n",
    "`collection = \"u/<Your User Name>/coadd_recreation_nb/Window1_coadd/<Unique Timestamp>\"`<br>\n",
    "`butler = Butler('dp02', collections=collection)`<br>\n",
    "\n",
    "Then you would be able to define the dataId in the same way:<br>\n",
    "`my_dataId = {'band': 'i', 'tract': 4431, 'patch': 17}`<br>\n",
    "\n",
    "And retrieve your new `deepCoadd` with:<br>\n",
    "`my_new_deepCoadd = Butler.get('deepCoadd', dataId=my_dataId)`.\n",
    "\n",
    "Since we already have our collection in the `simpleButler`, we don't need this option in this notebook.\n",
    "\n",
    "This will be demonstrated in tutorial notebook 09b_Custom_Coadd_Sources.ipynb."
   ]
  },
  {
   "cell_type": "markdown",
   "id": "40f23100-15af-4e0c-b036-d507eeaffe36",
   "metadata": {},
   "source": [
    "### 4.2.3. Check the inputs of the new Coadd\n",
    "\n",
    "Check the inputs of `my_new_deepCoadd`, and compare them with the \"queryString\", and see that they match.\n",
    "\n",
    "> **Notice:** With Weekly 41 it should be possible to do: <br>\n",
    "> `my_new_deepCoadd_inputs = simpleButler.get(\"deepCoadd.coaddInputs\", my_dataId, storageClass=\"AstropyTable\")` <br>\n",
    "> to have the results returned as an astropy table with a single command, instead of the two below."
   ]
  },
  {
   "cell_type": "code",
   "execution_count": null,
   "id": "42a2d904-2c31-4f48-b564-a122978371f4",
   "metadata": {},
   "outputs": [],
   "source": [
    "my_new_deepCoadd_inputs = simpleButler.get(\"deepCoadd.coaddInputs\", my_dataId)"
   ]
  },
  {
   "cell_type": "code",
   "execution_count": null,
   "id": "971b923c-dc89-41c1-8e79-9b30d2152343",
   "metadata": {},
   "outputs": [],
   "source": [
    "my_new_deepCoadd_inputs.visits.asAstropy()"
   ]
  },
  {
   "cell_type": "markdown",
   "id": "a42df602-9d76-4419-9fef-25bd3fc9e874",
   "metadata": {},
   "source": [
    "### 4.2.4. Display the new Coadd\n",
    "\n",
    "In the next tutorial notebook in the series, 09b_Custom_Coadd_Sources.ipynb, the new custom `deepCoadd` is displayed alongside the original `deepCoadd` (along with other comparisons between the two).\n",
    "\n",
    "Here, just show the newly coadded image."
   ]
  },
  {
   "cell_type": "code",
   "execution_count": null,
   "id": "9c4f7bb6-61ad-42d5-beab-1e09a1537864",
   "metadata": {},
   "outputs": [],
   "source": [
    "fig = plt.figure(figsize=(10, 6))\n",
    "afw_display = afwDisplay.Display(1)\n",
    "afw_display.scale('asinh', 'zscale')\n",
    "afw_display.mtv(my_new_deepCoadd.image)\n",
    "plt.gca().axis('off')"
   ]
  },
  {
   "cell_type": "markdown",
   "id": "1290081e-24b6-404b-82d3-4fc77fac0f0c",
   "metadata": {},
   "source": [
    "### 4.2.5. Retrieve the configurations for the run\n",
    "\n",
    "In this example, only one configuration parameter was changed from the default values. This was in Section 3.4 where we set:\n",
    "`assembleCoaddPipeline.addConfigOverride('makeWarp', 'doApplyFinalizedPsf', False)`.\n",
    "\n",
    "The configurations can be retrieved for the `simpleButler` with the following calls."
   ]
  },
  {
   "cell_type": "code",
   "execution_count": null,
   "id": "ae64cd5a-ca9b-4025-bf4e-3f3b277feb44",
   "metadata": {},
   "outputs": [],
   "source": [
    "my_makeWarp_config = simpleButler.get(\"makeWarp_config\", my_dataId)"
   ]
  },
  {
   "cell_type": "code",
   "execution_count": null,
   "id": "50637d6b-a52d-420c-b62e-5786194e2049",
   "metadata": {},
   "outputs": [],
   "source": [
    "my_assembleCoadd_config = simpleButler.get(\"assembleCoadd_config\", my_dataId)"
   ]
  },
  {
   "cell_type": "markdown",
   "id": "70713694-fe6d-4ecc-92d3-04038645ff58",
   "metadata": {},
   "source": [
    "**Option:** print all of the keys and values for each pipeline tasks's configuration."
   ]
  },
  {
   "cell_type": "code",
   "execution_count": null,
   "id": "9ff7a2d1-10c2-4b1d-bc98-51de42723a5f",
   "metadata": {},
   "outputs": [],
   "source": [
    "# for key, value in my_makeWarp_config.items():\n",
    "#     print(key, value)"
   ]
  },
  {
   "cell_type": "code",
   "execution_count": null,
   "id": "ee7fcec3-e0ae-4bf3-8290-6b0627cd3abb",
   "metadata": {},
   "outputs": [],
   "source": [
    "# for key, value in my_assembleCoadd_config.items():\n",
    "#     print(key, value)"
   ]
  },
  {
   "cell_type": "markdown",
   "id": "6ec53f40-6e3a-4746-a0fa-31a7e0fd1dea",
   "metadata": {},
   "source": [
    "## 4.3. Sources in the new image\n",
    "\n",
    "Use the next tutorial notebook in the series (09b_Custom_Coadd_Sources.ipynb) to do source detection and measurement on the new custom `deepCoadd`, and compare with results from the original `deepCoadd`.\n"
   ]
  },
  {
   "cell_type": "markdown",
   "id": "3990fb27-a4a1-4ada-94db-b265a2b87417",
   "metadata": {},
   "source": [
    "# 5. Exercises for the learner\n",
    "\n",
    "1. Create a custom `deepCoadd` for date Window2. Restart the kernel and clear all outputs. Edit Section 3 to use Window2. Note that when you get to re-executing Section 4.1 for Window2, the coadd_index will be different.\n",
    "2. Use airmass constraints instead of MJD to identify the subset of visits to coadd. Hint: use `my_coadd_visits_airmass = visitTable.loc[my_coadd_inputs.visits['id']]['airmass']`."
   ]
  }
 ],
 "metadata": {
  "kernelspec": {
   "display_name": "LSST",
   "language": "python",
   "name": "lsst"
  },
  "language_info": {
   "codemirror_mode": {
    "name": "ipython",
    "version": 3
   },
   "file_extension": ".py",
   "mimetype": "text/x-python",
   "name": "python",
   "nbconvert_exporter": "python",
   "pygments_lexer": "ipython3",
   "version": "3.10.5"
  }
 },
 "nbformat": 4,
 "nbformat_minor": 5
}
