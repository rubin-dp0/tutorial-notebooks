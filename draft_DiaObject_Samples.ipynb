{
 "cells": [
  {
   "cell_type": "markdown",
   "id": "749b0ddf",
   "metadata": {},
   "source": [
    "<img align=\"left\" src = https://project.lsst.org/sites/default/files/Rubin-O-Logo_0.png width=250 style=\"padding: 10px\"> \n",
    "<b>DiaObject Sample Identification</b> <br>\n",
    "Contact author: Melissa Graham <br>\n",
    "Last verified to run: <i>yyyy-mm-dd</i> <br>\n",
    "LSST Science Piplines version: Weekly <i>yyyy_xx</i> <br>\n",
    "Container Size: medium <br>\n",
    "Targeted learning level: intermediate <br>"
   ]
  },
  {
   "cell_type": "raw",
   "id": "1aaf1e41-a215-4ed4-b7b6-596ef98c44b5",
   "metadata": {},
   "source": [
    "known issues to fix:\n",
    " - scisql_fluxToAbMag(flux/1e32) needs to be updated\n",
    " - flake8/pycodestyle not run yet"
   ]
  },
  {
   "cell_type": "code",
   "execution_count": null,
   "id": "7acc79a4-8530-42d9-96e5-b7acb4397864",
   "metadata": {},
   "outputs": [],
   "source": [
    "# %load_ext pycodestyle_magic\n",
    "# %flake8_on\n",
    "# import logging\n",
    "# logging.getLogger(\"flake8\").setLevel(logging.FATAL)"
   ]
  },
  {
   "cell_type": "markdown",
   "id": "9da1a210-d858-42fe-8591-570965b8be1a",
   "metadata": {},
   "source": [
    "**Description:** To use the DiaObject table parameters to identify a sample of time-variable objects of interest."
   ]
  },
  {
   "cell_type": "markdown",
   "id": "80a0baf5-51ad-40ec-8991-060a7b27c289",
   "metadata": {},
   "source": [
    "**Skills:** Use the TAP service and the DP0.2 DiaObject and DiaSource tables."
   ]
  },
  {
   "cell_type": "markdown",
   "id": "393da88f-7978-4920-aa4a-a9830df6eed9",
   "metadata": {},
   "source": [
    "**LSST Data Products:** TAP tables dp02_dc2_catalogs.DiaObject and DiaSource."
   ]
  },
  {
   "cell_type": "markdown",
   "id": "5c67fab9-136a-4adc-bb42-142b91ab69dd",
   "metadata": {},
   "source": [
    "**Packages:** lsst.rsp, astropy.cosmology, numpy, matplotlib"
   ]
  },
  {
   "cell_type": "markdown",
   "id": "8f72b27f",
   "metadata": {},
   "source": [
    "**Credit:** Originally developed by Melissa Graham and the Rubin Community Engagement Team for Data Preview 0. Please consider acknowledging them if this notebook is used for the preparation of journal articles, software releases, or other notebooks."
   ]
  },
  {
   "cell_type": "markdown",
   "id": "28e91cbf-ab7f-4e26-9276-b00299d6065e",
   "metadata": {},
   "source": [
    "**Get Support:**\n",
    "Find DP0-related documentation and resources at <a href=\"https://dp0-2.lsst.io\">dp0-1.lsst.io</a>. Questions are welcome as new topics in the <a href=\"https://community.lsst.org/c/support/dp0\">Support - Data Preview 0 Category</a> of the Rubin Community Forum. Rubin staff will respond to all questions posted there."
   ]
  },
  {
   "cell_type": "markdown",
   "id": "cfc73be0",
   "metadata": {},
   "source": [
    "## 1. Introduction\n",
    "\n",
    "This notebook demonstrates how to use the DiaObject table's lightcurve summary statistics to identify samples of objects for further study, and how to retrieve and plot lightcurves for DiaObjects of interest from the DiaSource table.\n",
    "\n",
    "As a example, a sample of potential Type Ia supernovae are identified and retrieved from the DiaObject table.\n",
    "\n",
    "Learn more about the contents of the DiaObject and DiaSource tables in the <a href=\"https://dp0-2.lsst.io\">DP0.2 Documentation</a>."
   ]
  },
  {
   "cell_type": "markdown",
   "id": "dc36f107",
   "metadata": {},
   "source": [
    "### 1.1. Package Imports\n",
    "\n",
    "**lsst.rsp:** The LSST Science Pipelines package for RSP functionality such as the TAP service (<a href=\"http://pipelines.lsst.io\">pipelines.lsst.io</a>).\n",
    "\n",
    "**astropy.cosmology:** An open-source package of cosmology tools (<a href=\"https://docs.astropy.org/en/stable/cosmology/index.html\"> the astropy cosmology documentation</a>)."
   ]
  },
  {
   "cell_type": "code",
   "execution_count": null,
   "id": "cddc1458",
   "metadata": {},
   "outputs": [],
   "source": [
    "import time\n",
    "from IPython.display import Image\n",
    "\n",
    "import numpy\n",
    "import matplotlib.pyplot as plt\n",
    "\n",
    "from lsst.rsp import get_tap_service\n",
    "\n",
    "from astropy.cosmology import FlatLambdaCDM\n",
    "cosmo = FlatLambdaCDM(H0=70, Om0=0.3)"
   ]
  },
  {
   "cell_type": "markdown",
   "id": "c217adff-25ed-4fce-95e7-8aa04630f6cc",
   "metadata": {},
   "source": [
    "### 1.2. Define functions and parameters"
   ]
  },
  {
   "cell_type": "markdown",
   "id": "7cc807cf-3937-4a92-9fc8-9efbf8827447",
   "metadata": {},
   "source": [
    "Start the TAP service."
   ]
  },
  {
   "cell_type": "code",
   "execution_count": null,
   "id": "6e32778c-067e-41c3-a777-dcc4128d7de4",
   "metadata": {},
   "outputs": [],
   "source": [
    "service = get_tap_service()"
   ]
  },
  {
   "cell_type": "markdown",
   "id": "b6a8c049-2ea5-4370-b80e-8d2df94464ee",
   "metadata": {},
   "source": [
    "Set a few parameters to use later, when plotting lightcurves."
   ]
  },
  {
   "cell_type": "code",
   "execution_count": null,
   "id": "5a72c70e-e682-458c-8aeb-56ecfb4567f2",
   "metadata": {},
   "outputs": [],
   "source": [
    "plt.style.use('tableau-colorblind10')\n",
    "plt.rcParams.update({'font.size':16})\n",
    "\n",
    "plot_filter_labels = ['u', 'g', 'r', 'i', 'z', 'y']\n",
    "plot_filter_colors = ['darkviolet', 'darkgreen', 'firebrick', 'darkorange', 'brown', 'black']\n",
    "plot_filter_symbols = ['o', '^', 'v', 's', '*', 'p']"
   ]
  },
  {
   "cell_type": "markdown",
   "id": "7b7a23cf-6498-4d36-9a62-a04831371a48",
   "metadata": {},
   "source": [
    "## 2. Understand the DiaObject table's contents\n",
    "\n",
    "**DiaSource Table:** Measurements for sources detected with a signal-to-noise ratio > 5 in the difference-images (i.e., lightcurves).\n",
    "Note that these measurements are not forced photometry at the locations of all DiaObjects, but detections only.\n",
    "\n",
    "**DiaObject Table:** Summary parameters for DiaSources associated by coordinate (including lightcurve summary statistics).\n",
    "\n",
    "Option to print all of the available column names for the DiaObject table."
   ]
  },
  {
   "cell_type": "code",
   "execution_count": null,
   "id": "38a09fd0-fa4c-4a2a-8320-25f5955d8818",
   "metadata": {},
   "outputs": [],
   "source": [
    "# results = service.search(\"SELECT column_name from TAP_SCHEMA.columns \"\\\n",
    "#                          \"WHERE table_name = 'dp02_dc2_catalogs.DiaObject'\")\n",
    "# for column_name in results['column_name']:\n",
    "#     print(column_name)"
   ]
  },
  {
   "cell_type": "markdown",
   "id": "a1286bda-77bd-44f1-b46a-d991515212ec",
   "metadata": {},
   "source": [
    "### 2.1. Review these descriptions for selected lightcurve summary statistics\n",
    "\n",
    "The DiaObjects table includes the following lightcurve summary statistics, which are derived from the contents of the DiaSource table.\n",
    "\n",
    "**nDiaSources:** The number of difference-image detections in any filter (i.e., number of DiaSources associated with a given DiaObject).\n",
    " \n",
    "The following statistics are all based on _difference-image point source (PS) flux values_ for each filter [f].<br>\n",
    "**[f]PSFluxMin:** The faintest flux. <br>\n",
    "**[f]PSFluxMax:** The brightest flux. <br>\n",
    "**[f]PSFluxMean:** The average flux. <br>\n",
    "**[f]PSFluxSigma:** The standard deviation of the fluxes. <br>\n",
    "**[f]PSFluxMAD:** The mean absolute deviation of the fluxes (i.e., the average distance from the mean). <br>\n",
    "**[f]PSFluxChi2:** The Chi2 statistic for the scatter of the fluxes around the mean. <br>\n",
    "**[f]PSFluxNdata:** The number of data points used to compute [f]PSFluxChi2. <br>\n",
    "**[f]PSFluxSkew:** A measure of asymmentry in the distribution of fluxes about the mean (where 0 means symmetric). <br>\n",
    "**[f]PSFluxStetsonJ:** A variability index developed for Cepheids (defined in <a href=\"https://ui.adsabs.harvard.edu/abs/1996PASP..108..851S/abstract\">Stetson 1996</a>). <br>\n",
    "**[f]PSFluxPercentile05, 25, 50, 75, 95:** Derived from the cumulative distribution of flux values. <br>\n",
    "\n",
    "The following statistics are all based on the _direct-image total (TOT) flux values_ for each filter [f]. <br>\n",
    "**[f]TOTFluxMean:** The average flux.  <br>\n",
    "**[f]TOTFluxSigma:** The standard deviation of the fluxes.  <br>\n",
    "\n",
    "> **Note:** The DP0.2 DiaObject table is missing some variability characterization parameters (<a href=\"https://dmtn-118.lsst.io\">DMTN-118</a>) and host association parameters (<a href=\"https://dmtn-151.lsst.io\">DMTN-151</a>) which will exist for future data releases."
   ]
  },
  {
   "cell_type": "markdown",
   "id": "e56a765a-29c7-49cc-bc30-dcabf9d29514",
   "metadata": {},
   "source": [
    "### 2.2. Plot summary-statistic histograms for a random sample of DiaObjects\n",
    "\n",
    "In order to learn a bit more abut these lightcurve summary statistics, plot histograms of their values for a random selection of DiaObjects are plotted.\n",
    "\n",
    "First, retrieve a random sample of DiaObjects. This query takes about 1.5 minutes."
   ]
  },
  {
   "cell_type": "code",
   "execution_count": null,
   "id": "c7b6649d-002c-46d7-8137-88dcb43c7bdb",
   "metadata": {},
   "outputs": [],
   "source": [
    "%%time\n",
    "\n",
    "results = service.search(\"SELECT ra, decl, diaObjectId, nDiaSources, \"\n",
    "                         \"rPSFluxMin, rPSFluxMax, rPSFluxMean, rPSFluxSigma, \"\n",
    "                         \"rPSFluxMAD, rPSFluxChi2, rPSFluxNdata, rPSFluxSkew, \"\n",
    "                         \"rPSFluxStetsonJ, rPSFluxPercentile05, rPSFluxPercentile25, \"\n",
    "                         \"rPSFluxPercentile50, rPSFluxPercentile75, rPSFluxPercentile95, \"\n",
    "                         \"rTOTFluxMean, rTOTFluxSigma \"\n",
    "                         \"FROM dp02_dc2_catalogs.DiaObject \",\n",
    "                         maxrec=100000)\n",
    "\n",
    "DiaObjs = results.to_table()\n",
    "del results"
   ]
  },
  {
   "cell_type": "markdown",
   "id": "73d454f2-ad25-422f-b090-173f0ea7b866",
   "metadata": {},
   "source": [
    "Plot the distribution of the number of DiaSources per DiaObject (i.e., the total number of difference-image detections in any filter; at left), and the distribution of the number of r-band DiaSources per DiaObject (at right)."
   ]
  },
  {
   "cell_type": "code",
   "execution_count": null,
   "id": "d5b24c43-caae-49aa-af04-be5bbec4210d",
   "metadata": {},
   "outputs": [],
   "source": [
    "fig, ax = plt.subplots( 1,2, figsize=(14,4), sharey=False, sharex=False)\n",
    "\n",
    "ax[0].hist(DiaObjs['nDiaSources'], bins=50, log=True, color='grey')\n",
    "ax[0].set_xlabel('nDiaSources')\n",
    "ax[0].set_ylabel('log(Number of DiaObjects)')\n",
    "\n",
    "ax[1].hist(DiaObjs['rPSFluxNdata'], bins=50, log=True, color=plot_filter_colors[2])\n",
    "ax[1].set_xlabel('rPSFluxNdata')\n",
    "\n",
    "plt.tight_layout()\n",
    "plt.show()"
   ]
  },
  {
   "cell_type": "markdown",
   "id": "360c31db-1ac4-45c7-b0b6-499d5d99292c",
   "metadata": {},
   "source": [
    "Plot the distribution of minimum and maximum r-band PS flux from the difference-image detections.\n",
    "The PS fluxes can be negative because they are measured on the difference images."
   ]
  },
  {
   "cell_type": "code",
   "execution_count": null,
   "id": "4b119d72-6caa-4c7c-b122-d834d58b1314",
   "metadata": {},
   "outputs": [],
   "source": [
    "fig, ax = plt.subplots( 1,2, figsize=(14,4), sharey=False, sharex=False)\n",
    "\n",
    "ax[0].hist(DiaObjs['rPSFluxMin'], bins=100, log=True, color=plot_filter_colors[2])\n",
    "ax[0].set_xlabel('rPSFluxMin')\n",
    "ax[0].set_ylabel('log(Number of DiaObjects)')\n",
    "\n",
    "ax[1].hist(DiaObjs['rPSFluxMax'], bins=100, log=True, color=plot_filter_colors[2])\n",
    "ax[1].set_xlabel('rPSFluxMax')\n",
    "\n",
    "plt.tight_layout()\n",
    "plt.show()"
   ]
  },
  {
   "cell_type": "markdown",
   "id": "2cc0a428-ae54-4ff0-a3cf-d81ca60b1f55",
   "metadata": {},
   "source": [
    "It is left as an exercise for the learner to investigate typical values of rPSFluxMean, rPSFluxSigma, rPSFluxMAD, rPSFluxChi2, rPSFluxSkew, and/or rPSFluxStetsonJ."
   ]
  },
  {
   "cell_type": "markdown",
   "id": "a63b9b17-e4d8-4a03-91a4-5c59f18f5668",
   "metadata": {},
   "source": [
    "Plot the distributions of the DiaObject parameters (mean and sigma) derived from the total fluxes from the direct-images. Note that the TOT fluxes _cannot be_ negative because they are measured on the direct images."
   ]
  },
  {
   "cell_type": "code",
   "execution_count": null,
   "id": "8970a042-5155-4652-a161-617a2bd3acab",
   "metadata": {},
   "outputs": [],
   "source": [
    "fig, ax = plt.subplots( 1,2, figsize=(14,4), sharey=False, sharex=False)\n",
    "\n",
    "ax[0].hist(DiaObjs['rTOTFluxMean'], bins=50, log=True, color=plot_filter_colors[2])\n",
    "ax[0].set_xlabel('rTOTFluxMean')\n",
    "ax[0].set_ylabel('log(Number of DiaObjects)')\n",
    "\n",
    "ax[1].hist(DiaObjs['rTOTFluxSigma'], bins=50, log=True, color=plot_filter_colors[2])\n",
    "ax[1].set_xlabel('rTOTFluxSigma')\n",
    "\n",
    "plt.tight_layout()\n",
    "plt.show()"
   ]
  },
  {
   "cell_type": "markdown",
   "id": "cb77e8c5-79a0-485d-b1e1-d07e4971efe2",
   "metadata": {},
   "source": [
    "### 2.3. Investigate the DiaSource data for one random, bright, well-sampled DiaObject\n",
    "\n",
    "Choose a DiaObject that was detected >40 times in an r-band difference image, had an average total (direct-image) flux > 1e6, and an average PS difference-image flux > 5e5."
   ]
  },
  {
   "cell_type": "code",
   "execution_count": null,
   "id": "c45cc504-1e97-492d-80e3-69d8ce913a2d",
   "metadata": {},
   "outputs": [],
   "source": [
    "tx = numpy.where((DiaObjs['rPSFluxNdata'] > 40) & \\\n",
    "                 (DiaObjs['rTOTFluxMean'] > 1000000) & \\\n",
    "                 (DiaObjs['rPSFluxMean'] > 500000))[0]\n",
    "\n",
    "use_index = tx[0]\n",
    "use_diaObjectId = DiaObjs['diaObjectId'][tx[0]]\n",
    "del tx"
   ]
  },
  {
   "cell_type": "markdown",
   "id": "9b0aec16-2c06-4533-8168-6ca66f2239c0",
   "metadata": {},
   "source": [
    "Retrieve the DiaSource data for this DiaObject. (A UnitsWarning about nanojansky not supported by VOUnit is OK to ignore.)"
   ]
  },
  {
   "cell_type": "code",
   "execution_count": null,
   "id": "704b36c9-1929-468a-9337-bb71f50dcb5d",
   "metadata": {},
   "outputs": [],
   "source": [
    "results = service.search(\"SELECT ra, decl, diaObjectId, diaSourceId, \"\n",
    "                         \"filterName, midPointTai, psFlux, totFlux \"\n",
    "                         \"FROM dp02_dc2_catalogs.DiaSource \"\n",
    "                         \"WHERE diaObjectId = \"+str(use_diaObjectId))\n",
    "\n",
    "DiaSrcs = results.to_table()\n",
    "del results\n",
    "\n",
    "fx = numpy.where(DiaSrcs['filterName'] == 'r')[0]"
   ]
  },
  {
   "cell_type": "markdown",
   "id": "de36bdd9-555b-4a14-90ef-015ddf1a0738",
   "metadata": {},
   "source": [
    "Plot the difference-image (PSFlux) and direct-image (TOTFlux) lightcurves. \n",
    "Mark the DiaObject minimum and maximum flux with solid lines; average flux with dashed lines; and the standard deviation in flux with dotted lines."
   ]
  },
  {
   "cell_type": "code",
   "execution_count": null,
   "id": "57166c37-81f7-478d-a2db-5aad76820427",
   "metadata": {},
   "outputs": [],
   "source": [
    "fig, ax = plt.subplots( 2, figsize=(14,8), sharey=False, sharex=False)\n",
    "\n",
    "ax[0].plot(DiaSrcs['midPointTai'][fx], DiaSrcs['psFlux'][fx], \n",
    "           plot_filter_symbols[2], ms=15, mew=0, alpha=0.5, color=plot_filter_colors[2])\n",
    "ax[0].axhline(DiaObjs['rPSFluxMin'][use_index])\n",
    "ax[0].axhline(DiaObjs['rPSFluxMax'][use_index])\n",
    "ax[0].axhline(DiaObjs['rPSFluxMean'][use_index], ls='dashed')\n",
    "ax[0].axhline(DiaObjs['rPSFluxMean'][use_index] - DiaObjs['rPSFluxSigma'][use_index], ls='dotted')\n",
    "ax[0].axhline(DiaObjs['rPSFluxMean'][use_index] + DiaObjs['rPSFluxSigma'][use_index], ls='dotted')\n",
    "ax[0].set_xlabel('Modified Julian Date')\n",
    "ax[0].set_ylabel('PS Flux')\n",
    "ax[0].set_title('Difference-Image PSFlux r-band Lightcurve')\n",
    "\n",
    "ax[1].plot(DiaSrcs['midPointTai'][fx], DiaSrcs['totFlux'][fx], \n",
    "         plot_filter_symbols[2], ms=15, mew=0, alpha=0.5, color=plot_filter_colors[2])\n",
    "ax[1].axhline(DiaObjs['rTOTFluxMean'][use_index], ls='dashed')\n",
    "ax[1].axhline(DiaObjs['rTOTFluxMean'][use_index] - DiaObjs['rTOTFluxSigma'][use_index], ls='dotted')\n",
    "ax[1].axhline(DiaObjs['rTOTFluxMean'][use_index] + DiaObjs['rTOTFluxSigma'][use_index], ls='dotted')\n",
    "ax[1].set_xlabel('Modified Julian Date')\n",
    "ax[1].set_ylabel('Total Flux')\n",
    "ax[1].set_title('Direct-Image TOTFlux r-band Lightcurve')\n",
    "\n",
    "plt.tight_layout()\n",
    "plt.show()"
   ]
  },
  {
   "cell_type": "markdown",
   "id": "592a9baa-74a0-41cc-810e-3c8b3ac4df07",
   "metadata": {},
   "source": [
    "Plot the distribution (left) and normalized cumulative distribution (right) of difference-image fluxes (PSFlux), along with the relevant DiaObject characterization parameters (e.g., mean, sigma, and percentiles).\n",
    "Mark the average flux with dashed lines and the standard deviation in flux with dotted lines."
   ]
  },
  {
   "cell_type": "code",
   "execution_count": null,
   "id": "560af696-3468-4c77-aa47-71027f2c131d",
   "metadata": {},
   "outputs": [],
   "source": [
    "fig, ax = plt.subplots( 1,2, figsize=(14,4), sharey=False, sharex=False)\n",
    "\n",
    "ax[0].hist(DiaSrcs['psFlux'][fx], bins=20, color=plot_filter_colors[2])\n",
    "ax[0].axvline(DiaObjs['rPSFluxMean'][use_index], ls='dashed')\n",
    "ax[0].axvline(DiaObjs['rPSFluxMean'][use_index] - DiaObjs['rPSFluxSigma'][use_index], ls='dotted')\n",
    "ax[0].axvline(DiaObjs['rPSFluxMean'][use_index] + DiaObjs['rPSFluxSigma'][use_index], ls='dotted')\n",
    "ax[0].set_xlabel('r-band PS Flux')\n",
    "ax[0].set_ylabel('Number of DiaSources')\n",
    "ax[0].text(-0.18e6,12.5,'skew=%5.2f' % DiaObjs['rPSFluxSkew'][use_index])\n",
    "\n",
    "ax[1].hist(DiaSrcs['psFlux'][fx], bins=len(fx), color=plot_filter_colors[2],\\\n",
    "           cumulative=True, density=True, histtype='step')\n",
    "ax[1].plot(DiaObjs['rPSFluxPercentile05'][use_index], 0.05, '*', ms=10, color='black', \\\n",
    "           label='percentiles: 0.05, 0.25, 0.50, 0.75, and 0.95')\n",
    "ax[1].plot(DiaObjs['rPSFluxPercentile25'][use_index], 0.25, '*', ms=10, color='black')\n",
    "ax[1].plot(DiaObjs['rPSFluxPercentile50'][use_index], 0.50, '*', ms=10, color='black')\n",
    "ax[1].plot(DiaObjs['rPSFluxPercentile75'][use_index], 0.75, '*', ms=10, color='black')\n",
    "ax[1].plot(DiaObjs['rPSFluxPercentile95'][use_index], 0.95, '*', ms=10, color='black')\n",
    "ax[1].set_xlabel('r-band PS Flux')\n",
    "ax[1].set_ylabel('Cumulative Fraction')\n",
    "ax[1].legend(loc='upper left', fontsize=14)\n",
    "\n",
    "plt.tight_layout()\n",
    "plt.show()"
   ]
  },
  {
   "cell_type": "markdown",
   "id": "f28be602-fdbb-40cb-b4b1-56a2259a39ae",
   "metadata": {},
   "source": [
    "Clean up by deleting a few arrays that are no longer needed."
   ]
  },
  {
   "cell_type": "code",
   "execution_count": null,
   "id": "656f5166-84ce-415a-a9e4-eadcb90ccc13",
   "metadata": {},
   "outputs": [],
   "source": [
    "del DiaObjs, DiaSrcs, fx\n",
    "del use_index, use_diaObjectId"
   ]
  },
  {
   "cell_type": "markdown",
   "id": "88e53a69-f6dd-4a04-8d00-93d54b325668",
   "metadata": {},
   "source": [
    "## 3. Identify DiaObjects that are potential Type Ia Supernovae\n",
    "\n",
    "For this example, a sample of potential low-redshift, well-sampled Type Ia supernovae (SNIa) are identified.\n",
    "\n",
    "Comared to other types of supernovae, SNIa have homogenous lightcurves with very similar peak absolute brightnesses (about -19 mag in B-band), and similar rise and decline times (i.e., similar observed lightcurve amplitudes and durations, for a survey with a given limiting magnitude).\n",
    "\n",
    "In LSST-like data sets with an r-band limiting magnitude of about 24.5 mag, such as the DC2 simulation, low-redshift SNIa (0.1 < _z_ < 0.3) lightcurves would look approximately like those plotted in the image below.\n",
    "\n",
    "In this example, the expected peak brightnesses, amplitude, and duration for the lightcurves of low-redshift SNIa are used to construct a TAP query on the DiaObjects table to identify a sample of potential SNIa."
   ]
  },
  {
   "cell_type": "code",
   "execution_count": null,
   "id": "31ddc0c5-55c3-4525-b43e-e1df38fc13a8",
   "metadata": {},
   "outputs": [],
   "source": [
    "Image(filename='data/template_lowz_Vband.png') "
   ]
  },
  {
   "cell_type": "markdown",
   "id": "ec51ac0b",
   "metadata": {
    "tags": []
   },
   "source": [
    "### 3.1. Establish lightcurve parameter constraints to identify potential SNIa\n",
    "\n",
    "Define the desired redshift boundaries, the known approximate peak absolute magnitude for SNeIa (-19 mag), and the desired peak range to use to create the TAP query. This range roughly includes the intrinsic diversity in SNIa brightness and color, and host-galaxy reddening."
   ]
  },
  {
   "cell_type": "code",
   "execution_count": null,
   "id": "23eb3470-bd49-45a1-a4a2-ab36697c63c6",
   "metadata": {},
   "outputs": [],
   "source": [
    "redshift_min = 0.1\n",
    "redshift_max = 0.3\n",
    "\n",
    "snia_peak_mag = -19.0\n",
    "snia_peak_mag_range = 0.5"
   ]
  },
  {
   "cell_type": "markdown",
   "id": "7d8e4f0a-4b8e-4847-9989-b7fac84f66f5",
   "metadata": {},
   "source": [
    "Use the astropy.cosmology package to convert redshift to distance modulus. \n",
    "Define the minimum and maximum peak apparent r-band magnitudes -- allowing for the intrinsic diversity range specified above -- to use in the \n",
    "TAP query."
   ]
  },
  {
   "cell_type": "code",
   "execution_count": null,
   "id": "862cec58-1dc6-44b7-afed-34a3bbeb12c6",
   "metadata": {},
   "outputs": [],
   "source": [
    "snia_peak_mr_min = cosmo.distmod(redshift_min).value + snia_peak_mag - snia_peak_mag_range\n",
    "snia_peak_mr_max = cosmo.distmod(redshift_max).value + snia_peak_mag + snia_peak_mag_range\n",
    "print('The minimum and maximum apparent r-band magnitudes '\n",
    "      'to use in the TAP query are %5.2f and %5.2f mag.' %\n",
    "      (snia_peak_mr_min, snia_peak_mr_max))"
   ]
  },
  {
   "cell_type": "markdown",
   "id": "ab83fd6f-8215-4af7-be4a-d25b07d6fea7",
   "metadata": {},
   "source": [
    "Define maximum magnitudes in the g- and i-bands to use in the TAP query. The point of this is to simply enforce detection in at least the three filters g, r, and i. With knowledge of SNIa colors, this could be made more constraining, but for the purposes of this example these values are fine."
   ]
  },
  {
   "cell_type": "code",
   "execution_count": null,
   "id": "1df6cb93-53ee-4f09-9581-455bdd0f5466",
   "metadata": {},
   "outputs": [],
   "source": [
    "snia_peak_mg_max = 24.0\n",
    "snia_peak_mi_max = 24.0"
   ]
  },
  {
   "cell_type": "markdown",
   "id": "0cadc9f1-0d97-4724-a97a-8a98e0733712",
   "metadata": {},
   "source": [
    "Define the r-band minimum and maximum lightcurve amplitudes to use in the TAP query (i.e., the difference between the brightest and faintest detections in the difference image, in magnitudes). Well-sampled, low-redshift SNIa should be observed to change by at least 1.5 mag (_z_=0.3), and up to 5.5 mag (_z_=0.1)."
   ]
  },
  {
   "cell_type": "code",
   "execution_count": null,
   "id": "61f81c3b-e7ab-4d66-b534-97a0b477d3ce",
   "metadata": {},
   "outputs": [],
   "source": [
    "snia_ampl_mr_min = 1.5\n",
    "snia_ampl_mr_max = 5.5"
   ]
  },
  {
   "cell_type": "markdown",
   "id": "4a336a81-cceb-4488-bad7-6b6278c7720a",
   "metadata": {},
   "source": [
    "Define the minimum and maximum number of DiaSources (i.e., difference-image detections) to use in the TAP query.\n",
    "The goal of this example is to identify potential _well-sampled_ Type Ia supernovae, and here a minimum of 15 detections is used.\n",
    "Since the DC2 dataset was simulated using a baseline observing strategy (and does not include deep drilling fields), there are no more than 100 visits per year per field.\n",
    "Any DiaObject with >100 DiaSources had a duration >1 year, and is not a SNIa."
   ]
  },
  {
   "cell_type": "code",
   "execution_count": null,
   "id": "d83e88cb-2032-4641-a152-092670595fa6",
   "metadata": {},
   "outputs": [],
   "source": [
    "snia_nDiaSources_min = 15\n",
    "snia_nDiaSources_max = 100"
   ]
  },
  {
   "cell_type": "markdown",
   "id": "1f2c49cb-bcb1-4deb-aad9-42d6530c24be",
   "metadata": {},
   "source": [
    "Define the minimum and maximum lightcurve duration, in days. \n",
    "The duration is the time between the first and last difference-image detection in any filter.\n",
    "As seen in the template lightcurve plot above, SNIa at redshifts 0.1 < _z_ < 0.3 will have durations of 50 to 300 days."
   ]
  },
  {
   "cell_type": "code",
   "execution_count": null,
   "id": "a77ce538-57cf-4bb8-97d8-a2a5c787b0b9",
   "metadata": {},
   "outputs": [],
   "source": [
    "snia_duration_min = 50\n",
    "snia_duration_max = 300"
   ]
  },
  {
   "cell_type": "markdown",
   "id": "d41d9032-612e-4134-8a2e-4b82470b6268",
   "metadata": {},
   "source": [
    "> **Important Note:** Of the above parameters defined to identify potential SNIa, only the lightcurve duration is _not_ represented in the DiaObjects table, and cannot be included as a constraint in the TAP query used below.\n",
    "Instead, the lightcurve durations are calculated and used in Section 3.3."
   ]
  },
  {
   "cell_type": "markdown",
   "id": "6c2c05d1-7f62-458c-b5e9-cb6a9f399a6d",
   "metadata": {},
   "source": [
    "### 3.2. Retrieve a sample of potentially SNIa-like DiaObjects\n",
    "\n",
    "Only retrieve 1000 DiaObjects for this example.\n",
    "When the TAP query completes, transfer the results to an astropy table.\n",
    "\n",
    "This TAP query takes about a minute."
   ]
  },
  {
   "cell_type": "code",
   "execution_count": null,
   "id": "81b8cd59-1ba3-4eaa-846f-6478ed0c3cf5",
   "metadata": {},
   "outputs": [],
   "source": [
    "%%time\n",
    "\n",
    "results = service.search(\"SELECT ra, decl, diaObjectId, nDiaSources, \"\n",
    "                         \"scisql_fluxToAbMag(rPSFluxMin/1e32) AS rMagMax, \"\n",
    "                         \"scisql_fluxToAbMag(rPSFluxMax/1e32) AS rMagMin, \"\n",
    "                         \"scisql_fluxToAbMag(gPSFluxMax/1e32) AS gMagMin, \"\n",
    "                         \"scisql_fluxToAbMag(iPSFluxMax/1e32) AS iMagMin, \"\n",
    "                         \"scisql_fluxToAbMag(rPSFluxMin/1e32) - scisql_fluxToAbMag(rPSFluxMax/1e32) AS rMagAmp \"\n",
    "                         \"FROM dp02_dc2_catalogs.DiaObject \"\n",
    "                         \"WHERE nDiaSources > \"+str(snia_nDiaSources_min)+\" \"\n",
    "                         \"AND nDiaSources < \"+str(snia_nDiaSources_max)+\" \"\n",
    "                         \"AND scisql_fluxToAbMag(rPSFluxMax/1e32) > \"+str(snia_peak_mr_min)+\" \"\n",
    "                         \"AND scisql_fluxToAbMag(rPSFluxMax/1e32) < \"+str(snia_peak_mr_max)+\" \"\n",
    "                         \"AND scisql_fluxToAbMag(gPSFluxMax/1e32) < \"+str(snia_peak_mg_max)+\" \"\n",
    "                         \"AND scisql_fluxToAbMag(iPSFluxMax/1e32) < \"+str(snia_peak_mi_max)+\" \"\n",
    "                         \"AND scisql_fluxToAbMag(rPSFluxMin/1e32) - scisql_fluxToAbMag(rPSFluxMax/1e32) < \"+str(snia_ampl_mr_max)+\" \"\n",
    "                         \"AND scisql_fluxToAbMag(rPSFluxMin/1e32) - scisql_fluxToAbMag(rPSFluxMax/1e32) > \"+str(snia_ampl_mr_min)+\" \",\n",
    "                         maxrec=1000)\n",
    "\n",
    "DiaObjs = results.to_table()\n",
    "del results"
   ]
  },
  {
   "cell_type": "markdown",
   "id": "1768203c-de36-4aeb-a447-f3f7e40cdb9c",
   "metadata": {},
   "source": [
    "Option to display the table"
   ]
  },
  {
   "cell_type": "code",
   "execution_count": null,
   "id": "85db3b35-5317-4bb5-888a-56bb56290e2b",
   "metadata": {},
   "outputs": [],
   "source": [
    "# DiaObjs"
   ]
  },
  {
   "cell_type": "markdown",
   "id": "6ff735a9-9a1a-4b5f-8a8a-dfa02f6e2593",
   "metadata": {},
   "source": [
    "Plot histograms to characterize a few of the DiaObject parameters for this initial sample."
   ]
  },
  {
   "cell_type": "code",
   "execution_count": null,
   "id": "89c95b1b-159f-461d-9057-c4ea95255ca6",
   "metadata": {},
   "outputs": [],
   "source": [
    "fig, ax = plt.subplots( 1,3, figsize=(14,4), sharey=False, sharex=False)\n",
    "\n",
    "ax[0].hist(DiaObjs['rMagMin'], bins=20, color=plot_filter_colors[2])\n",
    "ax[0].set_xlabel('Brightest Detected r-band Magnitude')\n",
    "ax[0].set_ylabel('Number of Potential SNIa')\n",
    "\n",
    "ax[1].hist(DiaObjs['rMagAmp'], bins=20, color=plot_filter_colors[2])\n",
    "ax[1].set_xlabel('Amplitude in r-band Magnitude')\n",
    "\n",
    "ax[2].hist(DiaObjs['nDiaSources'], bins=20, color='grey')\n",
    "ax[2].set_xlabel('Number of DiaSources')\n",
    "\n",
    "plt.tight_layout()\n",
    "plt.show()"
   ]
  },
  {
   "cell_type": "markdown",
   "id": "424d4c96-66ca-4b0d-a4c8-9aa684981737",
   "metadata": {},
   "source": [
    "### 3.3. Calculate lightcurve duration and identify potential SNIa\n",
    "\n",
    "The lightcurve duration -- time between the first and last detected DiaSource in any filter -- is not included in the DiaObject table.\n",
    "It is calculated below, using all of the DiaSources for each DiaObject.\n",
    "\n",
    "This query takes about 4 minutes to calculate the lightcurve duration for the 1000 DiaObjects."
   ]
  },
  {
   "cell_type": "code",
   "execution_count": null,
   "id": "9d77eb34-34de-4a92-8c4a-d76d85114a07",
   "metadata": {},
   "outputs": [],
   "source": [
    "%%time\n",
    "\n",
    "DiaObjs['duration'] = numpy.zeros(len(DiaObjs), dtype='float')\n",
    "\n",
    "for j,DiaObjId in enumerate(DiaObjs['diaObjectId']):\n",
    "    results = service.search(\"SELECT diaObjectId, midPointTai \"\n",
    "                             \"FROM dp02_dc2_catalogs.DiaSource \"\n",
    "                             \"WHERE diaObjectId = \"+str(DiaObjId))\n",
    "    results = results.to_table()\n",
    "    DiaObjs['duration'][j] = numpy.max(results['midPointTai']) - numpy.min(results['midPointTai'])\n",
    "    del results"
   ]
  },
  {
   "cell_type": "markdown",
   "id": "16aafdfa-e78d-4345-982e-c4ee37b44489",
   "metadata": {},
   "source": [
    "Select only DiaObjects that have lightcurve durations within the specified range for SNIa."
   ]
  },
  {
   "cell_type": "code",
   "execution_count": null,
   "id": "aed21a5f-101c-44bb-868c-a3b18e97fe27",
   "metadata": {},
   "outputs": [],
   "source": [
    "tx = numpy.where((DiaObjs['duration'] > snia_duration_min) & \\\n",
    "                 (DiaObjs['duration'] < snia_duration_max))[0]\n",
    "print(len(tx))"
   ]
  },
  {
   "cell_type": "markdown",
   "id": "23cdc39f-3fbb-4bfb-87d3-0e07f5c34096",
   "metadata": {},
   "source": [
    "Make a few histograms to characterize the lightcurve durations."
   ]
  },
  {
   "cell_type": "code",
   "execution_count": null,
   "id": "508ae771-c983-4299-89a4-97b497490b95",
   "metadata": {},
   "outputs": [],
   "source": [
    "fig, ax = plt.subplots( 1,2, figsize=(14,4), sharey=False, sharex=False)\n",
    "\n",
    "ax[0].hist(DiaObjs['duration'][tx], bins=20, color='grey')\n",
    "ax[0].set_xlabel('Lightcurve Duration [days]')\n",
    "ax[0].set_ylabel('Number of Potential SNIa')\n",
    "\n",
    "ax[1].plot(DiaObjs['duration'][tx], DiaObjs['rMagAmp'][tx], 'o', color='grey')\n",
    "ax[1].set_xlabel('Lightcurve Duration [days]')\n",
    "ax[1].set_ylabel('Amplitude in r-band [mag]')\n",
    "\n",
    "plt.tight_layout()\n",
    "plt.show()"
   ]
  },
  {
   "cell_type": "markdown",
   "id": "7f6216ee-2188-43e0-b188-a70f42d2f11e",
   "metadata": {},
   "source": [
    "### 3.4. Plot multi-band lightcurves for the first 20 potential SNIa"
   ]
  },
  {
   "cell_type": "code",
   "execution_count": null,
   "id": "41bb4666-7c90-4f35-b9e8-b3dbd59b0185",
   "metadata": {},
   "outputs": [],
   "source": [
    "fig, ax = plt.subplots( 5,4, figsize=(14,14), sharey=False, sharex=False)\n",
    "\n",
    "x = 0\n",
    "\n",
    "for i in range(5):\n",
    "    for j in range(4):\n",
    "        results = service.search(\"SELECT ra, decl, diaObjectId, diaSourceId, \"\n",
    "                                 \"filterName, midPointTai, \"\n",
    "                                 \"scisql_fluxToAbMag(psFlux/1e32) AS psAbMag \"\n",
    "                                 \"FROM dp02_dc2_catalogs.DiaSource \"\n",
    "                                 \"WHERE diaObjectId = \"+str(DiaObjs['diaObjectId'][tx[x]]))\n",
    "        results = results.to_table()\n",
    "\n",
    "        for f, filt in enumerate(plot_filter_labels):\n",
    "            fx = numpy.where(results['filterName'] == filt)[0]\n",
    "            ax[i,j].plot(results['midPointTai'][fx], results['psAbMag'][fx], \n",
    "                         plot_filter_symbols[f], ms=15, mew=0, alpha=0.5, \n",
    "                         color=plot_filter_colors[f])\n",
    "            del fx\n",
    "        \n",
    "        x += 1\n",
    "        del results\n",
    "        ax[i,j].invert_yaxis()\n",
    "\n",
    "plt.tight_layout()\n",
    "plt.show()"
   ]
  },
  {
   "cell_type": "markdown",
   "id": "2a79e66e-9e2b-4c13-b6bc-18260e203d18",
   "metadata": {},
   "source": [
    "## 4. Further Exercises\n",
    "\n",
    "From here, there are a variety of exercises that a learner could undertake.\n",
    "\n",
    "1. Change the query constraints and identify a sample of high-redshift SNIa.\n",
    "2. Tighten the query contraints to identify only SNIa with pre-peak observations.\n",
    "3. Apply a lightcurve-template fitter, or try a photometric classifier on the sample."
   ]
  },
  {
   "cell_type": "code",
   "execution_count": null,
   "id": "e0c152c9-1a81-428b-b889-7b4acf6a86f3",
   "metadata": {},
   "outputs": [],
   "source": []
  }
 ],
 "metadata": {
  "kernelspec": {
   "display_name": "LSST",
   "language": "python",
   "name": "lsst"
  },
  "language_info": {
   "codemirror_mode": {
    "name": "ipython",
    "version": 3
   },
   "file_extension": ".py",
   "mimetype": "text/x-python",
   "name": "python",
   "nbconvert_exporter": "python",
   "pygments_lexer": "ipython3",
   "version": "3.10.4"
  },
  "toc-autonumbering": false
 },
 "nbformat": 4,
 "nbformat_minor": 5
}
