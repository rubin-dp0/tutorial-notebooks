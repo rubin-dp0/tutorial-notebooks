{
 "cells": [
  {
   "cell_type": "markdown",
   "metadata": {},
   "source": [
    "# Introduction to the Table Access Protocol (TAP) Service\n",
    "\n",
    "<img align=\"left\" src = https://project.lsst.org/sites/default/files/Rubin-O-Logo_0.png width=250 style=\"padding: 10px\"> \n",
    "<br>\n",
    "Contact authors: Leanne Guy, Melissa Graham <br>\n",
    "Last verified to run: 2024-10-29 <br>\n",
    "LSST Science Pipelines version: Weekly 2024_42 <br>\n",
    "Container Size: medium <br>\n",
    "Targeted learning level: beginner <br>"
   ]
  },
  {
   "cell_type": "markdown",
   "metadata": {},
   "source": [
    "**Description:** Explore the DP0.2 catalogs with the TAP service."
   ]
  },
  {
   "cell_type": "markdown",
   "metadata": {},
   "source": [
    "**Skills:** Use the TAP service. Make simple ADQL queries. Visualize retrieved datasets."
   ]
  },
  {
   "cell_type": "markdown",
   "metadata": {},
   "source": [
    "**LSST Data Products:** Catalog schema. Object table."
   ]
  },
  {
   "cell_type": "markdown",
   "metadata": {},
   "source": [
    "**Packages:** lsst.rsp"
   ]
  },
  {
   "cell_type": "markdown",
   "metadata": {},
   "source": [
    "**Credit:**\n",
    "Originally developed by Leanne Guy in the context of the Rubin DP0.1."
   ]
  },
  {
   "cell_type": "markdown",
   "metadata": {},
   "source": [
    "**Get Support:**\n",
    "Find DP0-related documentation and resources at <a href=\"https://dp0.lsst.io\">dp0.lsst.io</a>. Questions are welcome as new topics in the <a href=\"https://community.lsst.org/c/support/dp0\">Support - Data Preview 0 Category</a> of the Rubin Community Forum. Rubin staff will respond to all questions posted there."
   ]
  },
  {
   "cell_type": "markdown",
   "metadata": {
    "tags": []
   },
   "source": [
    "## 1. Introduction\n",
    "\n",
    "This notebook provides a beginner-level demonstration of how to use\n",
    "Astronomy Data Query Language (ADQL) to access DP0.2 catalog data via\n",
    "Rubin's Table Access Protocol (TAP) service.\n",
    "\n",
    "The [documentation for Data Preview 0.2](https://dp0-2.lsst.io/) includes definitions\n",
    "of the data products, descriptions of catalog contents, and ADQL recipes.\n",
    "The RSP's Portal Aspect, with its graphical user interface, is also\n",
    "recommended for exploring the available catalogs and for testing queries.\n",
    "\n",
    "### 1.1. TAP basics\n",
    "\n",
    "TAP provides standardized access to catalog data for discovery, search, and retrieval.\n",
    "Full [documentation for TAP](http://www.ivoa.net/documents/TAP) is provided by the\n",
    "International Virtual Observatory Alliance (IVOA).\n",
    "\n",
    "TAP Glossary\n",
    "* schema - Database terminology for the abstract design that represents the storage of data in a database.\n",
    "* `tap_schema` - The set of tables that describe the data tables and their columns.\n",
    "* table collection - A collection of tables. E.g., `dp02_dc2_catalogs`.\n",
    "* table - A collection of related data held in a table format in a database. E.g., `dp02_dc2_catalogs.Object`.\n",
    "* query - A string formatted in ADQL that selects data from a table, with contraints if desired. \n",
    "* results - The output of the TAP service's search method when a query is passed.\n",
    "\n",
    "### 1.2. ADQL basics\n",
    "\n",
    "The [documentation for ADQL](http://www.ivoa.net/documents/latest/ADQL.html)\n",
    "includes more information about syntax, keywords, operators, functions, and so on.\n",
    "ADQL is similar to SQL (Structured Query Langage).\n",
    "\n",
    "A typical ADQL statement has at least three components:\n",
    "\n",
    "`SELECT <columns> FROM <catalog> WHERE <constraints>`,\n",
    "\n",
    "where\n",
    " * `<columns>` is a comma-separated list of the columns to return,\n",
    " * `<catalog>` is the name of the catalog to retreive data from, and\n",
    " * `<constraints>` imposes a restriction that only rows with column values that meet the constraints are returned.\n",
    "\n",
    "For example, say there is a catalog called \"mysurveydata\" with 5 columns, \"col1\", \"col2\", and so on.\n",
    "The ADQL statement:\n",
    "\n",
    "`SELECT col3, col4, col5 FROM mysurveydata WHERE col1 > 0.5 AND col5 < 10`\n",
    "\n",
    "would \n",
    "return a table that has three columns, and as many rows as meet both of the restrictions in the `WHERE` statement.\n",
    "\n",
    "As the DP0.2 catalogs are _very_ large, the ADQL statement to return an entire\n",
    "table **should not** be used (`SELECT * FROM mysurveydata`).\n",
    "\n",
    "\n",
    "### 1.3. What is not covered in this tutorial?\n",
    "\n",
    "The following intermediate-level TAP functionalities for retrieving catalog data are _not_ demonstrated in this tutorial,\n",
    "but are covered in other tutorials.\n",
    "\n",
    "See DP0.2 tutorial notebook 02b for:\n",
    " * table joins\n",
    " * renaming columns\n",
    " * applying mathematical functions\n",
    " * converting fluxes to magnitudes\n",
    " * querying and visualizing large data sets\n",
    "\n",
    "See DP0.2 tutorial notebook 02c for ObsTAP queries for images (metadata and pixel data)."
   ]
  },
  {
   "cell_type": "markdown",
   "metadata": {},
   "source": [
    "### 1.4. Recommendations for TAP queries\n",
    "\n",
    "The following recommendations are all demonstrated in Section 3.\n",
    "\n",
    "#### 1.4.1. Use asynchronous queries\n",
    "In Section 2, synchronous queries are used with `results = service.search(query)`. \n",
    "This is OK for querying schema or small amounts of data, but when more data is being\n",
    "retrieved it is recommended to use asynchronous jobs with `job = service.submit_job(query)`\n",
    "as demonstrated in Section 3.\n",
    "\n",
    "#### 1.4.2. Include coordinate constraints\n",
    "When possible include coordinate constraints (e.g., use a cone search).\n",
    "The TAP-accessible tables are sharded by coordinate (RA, Dec).\n",
    "ADQL query statements that include constraints by coordinate do not require a\n",
    "whole-catalog search, and are typically faster (and can be much faster) than\n",
    "ADQL query statements which only include constraints for other columns.\n",
    "\n",
    "#### 1.4.3. Constrain detect_isPrimary = True\n",
    "As a default, it is recommended to include a constraint of `detect_isPrimary = True` in queries for the \n",
    "`Object`, `Source`, and `ForcedSource` catalogs.\n",
    "This parameter is `True` if a source has no children, is in the inner region of a coadd patch, \n",
    "is in the inner region of a coadd tract, and is not detected in a pseudo-filter.\n",
    "Including this constraint will remove any duplicates (i.e., will not include both a parent and its deblended children).\n",
    "Only remove this constraint in situations where duplicates are desired.\n",
    "\n",
    "#### 1.4.4. If limiting rows, use TOP\n",
    "Use of `TOP` is preferred to `maxrec` because most\n",
    "TAP services map `maxrec` to `SELECT TOP` on the back end anyways.\n",
    "Using `TOP` ensures that queries are copy-pasteable between interfaces\n",
    "(e.g., into the Portal Aspect).\n",
    "\n",
    "#### 1.4.5. If sorting, take care with ORDER BY\n",
    "Combined use of TOP and ORDER BY in ADQL queries can be dangerous: it may take an unexpectedly long\n",
    "time because the database is trying to first sort, and *then* extract the top N elements.\n",
    "It is best to only combine TOP and ORDER BY if the query's WHERE statements significantly cut\n",
    "down the number of objects that would need to be sorted."
   ]
  },
  {
   "cell_type": "markdown",
   "metadata": {},
   "source": [
    "### 1.5. Import packages\n",
    "\n",
    "Import general python packages\n",
    "([pandas](https://pandas.pydata.org/docs/user_guide/index.html),\n",
    "[numpy](https://numpy.org/doc/stable/index.html), and\n",
    "[matplotlib](https://matplotlib.org/)),\n",
    "two classes from [astropy](https://www.astropy.org/),\n",
    "and the Rubin Science Platform (RST) TAP service."
   ]
  },
  {
   "cell_type": "code",
   "execution_count": 1,
   "metadata": {
    "execution": {
     "iopub.execute_input": "2024-10-29T16:44:53.446552Z",
     "iopub.status.busy": "2024-10-29T16:44:53.446397Z",
     "iopub.status.idle": "2024-10-29T16:44:54.413424Z",
     "shell.execute_reply": "2024-10-29T16:44:54.412918Z",
     "shell.execute_reply.started": "2024-10-29T16:44:53.446539Z"
    },
    "tags": []
   },
   "outputs": [],
   "source": [
    "import pandas\n",
    "import numpy as np\n",
    "import matplotlib.pyplot as plt\n",
    "import astropy.units as u\n",
    "from astropy.visualization.wcsaxes import SphericalCircle\n",
    "from lsst.rsp import get_tap_service, retrieve_query"
   ]
  },
  {
   "cell_type": "markdown",
   "metadata": {},
   "source": [
    "### 1.6. Define functions and parameters\n",
    "\n",
    "Get an instance of the TAP service, and assert that it exists."
   ]
  },
  {
   "cell_type": "code",
   "execution_count": 2,
   "metadata": {
    "execution": {
     "iopub.execute_input": "2024-10-29T16:44:54.414269Z",
     "iopub.status.busy": "2024-10-29T16:44:54.413952Z",
     "iopub.status.idle": "2024-10-29T16:44:54.502705Z",
     "shell.execute_reply": "2024-10-29T16:44:54.502234Z",
     "shell.execute_reply.started": "2024-10-29T16:44:54.414253Z"
    }
   },
   "outputs": [],
   "source": [
    "service = get_tap_service(\"tap\")\n",
    "assert service is not None"
   ]
  },
  {
   "cell_type": "markdown",
   "metadata": {},
   "source": [
    "Set the maximum number of rows to display from pandas."
   ]
  },
  {
   "cell_type": "code",
   "execution_count": 3,
   "metadata": {
    "execution": {
     "iopub.execute_input": "2024-10-29T16:44:54.503367Z",
     "iopub.status.busy": "2024-10-29T16:44:54.503223Z",
     "iopub.status.idle": "2024-10-29T16:44:54.506221Z",
     "shell.execute_reply": "2024-10-29T16:44:54.505759Z",
     "shell.execute_reply.started": "2024-10-29T16:44:54.503353Z"
    },
    "tags": []
   },
   "outputs": [],
   "source": [
    "pandas.set_option('display.max_rows', 20)"
   ]
  },
  {
   "cell_type": "markdown",
   "metadata": {},
   "source": [
    "## 2. Explore the TAP schema \n",
    "\n",
    "This section will use ADQL queries of increasing complexity to both explore \n",
    "the available catalog data and to demonstrate how to use the TAP service and ADQL.\n",
    "\n",
    "### 2.1. Synchronous queries\n",
    "\n",
    "This section uses \"synchronous\" TAP queries.\n",
    "This means that the query is run and the results are retrieved at the same time.\n",
    "No other cells can be run while this is happening.\n",
    "\n",
    "Since the queries in this section are very simple, and are only retrieving schemas (not data),\n",
    "they are very quick and synchronous queries work fine.\n",
    "However, when data is retrieved from catalogs, asynchronous queries should be used (Section 3)."
   ]
  },
  {
   "cell_type": "markdown",
   "metadata": {},
   "source": [
    "### 2.2. List all catalogs (schema)\n",
    "\n",
    "Create an ADQL query that selects all columns (*) from the `tap_schema`.\n",
    "The results of the query will be a list of available schemas (in other words, the available catalogs).\n",
    "\n",
    "Store it in a string named `query`."
   ]
  },
  {
   "cell_type": "code",
   "execution_count": 4,
   "metadata": {
    "execution": {
     "iopub.execute_input": "2024-10-29T16:44:54.506870Z",
     "iopub.status.busy": "2024-10-29T16:44:54.506714Z",
     "iopub.status.idle": "2024-10-29T16:44:54.519577Z",
     "shell.execute_reply": "2024-10-29T16:44:54.519129Z",
     "shell.execute_reply.started": "2024-10-29T16:44:54.506856Z"
    }
   },
   "outputs": [],
   "source": [
    "query = 'SELECT * FROM tap_schema.schemas'"
   ]
  },
  {
   "cell_type": "markdown",
   "metadata": {},
   "source": [
    "Execute the query by passing `query` to the TAP service's search method,\n",
    "and store the output in `results`."
   ]
  },
  {
   "cell_type": "code",
   "execution_count": 5,
   "metadata": {
    "execution": {
     "iopub.execute_input": "2024-10-29T16:44:54.520229Z",
     "iopub.status.busy": "2024-10-29T16:44:54.520078Z",
     "iopub.status.idle": "2024-10-29T16:44:54.735007Z",
     "shell.execute_reply": "2024-10-29T16:44:54.734542Z",
     "shell.execute_reply.started": "2024-10-29T16:44:54.520216Z"
    }
   },
   "outputs": [],
   "source": [
    "results = service.search(query)"
   ]
  },
  {
   "cell_type": "markdown",
   "metadata": {},
   "source": [
    "Print the type of `results`."
   ]
  },
  {
   "cell_type": "code",
   "execution_count": 6,
   "metadata": {
    "execution": {
     "iopub.execute_input": "2024-10-29T16:44:54.735616Z",
     "iopub.status.busy": "2024-10-29T16:44:54.735476Z",
     "iopub.status.idle": "2024-10-29T16:44:54.738385Z",
     "shell.execute_reply": "2024-10-29T16:44:54.738017Z",
     "shell.execute_reply.started": "2024-10-29T16:44:54.735603Z"
    },
    "tags": []
   },
   "outputs": [
    {
     "name": "stdout",
     "output_type": "stream",
     "text": [
      "<class 'pyvo.dal.tap.TAPResults'>\n"
     ]
    }
   ],
   "source": [
    "print(type(results))"
   ]
  },
  {
   "cell_type": "markdown",
   "metadata": {},
   "source": [
    "`TAPResults` is a python class from the\n",
    "[PyVO Data Access](https://pyvo.readthedocs.io/en/latest/dal/index.html) package.\n",
    "The [documentation for TAPResults](https://pyvo.readthedocs.io/en/latest/api/pyvo.dal.TAPResults.html)\n",
    "has more information about the class and its methods.\n",
    "\n",
    "Typically, for convenience it is recommended to convert the results into an\n",
    "[Astropy table](https://docs.astropy.org/en/stable/table/).\n",
    "\n",
    "Rerun the query, but store the results as an astropy table with the `to_table()` method."
   ]
  },
  {
   "cell_type": "code",
   "execution_count": 7,
   "metadata": {
    "execution": {
     "iopub.execute_input": "2024-10-29T16:44:54.738914Z",
     "iopub.status.busy": "2024-10-29T16:44:54.738777Z",
     "iopub.status.idle": "2024-10-29T16:44:54.861843Z",
     "shell.execute_reply": "2024-10-29T16:44:54.861360Z",
     "shell.execute_reply.started": "2024-10-29T16:44:54.738902Z"
    },
    "tags": []
   },
   "outputs": [],
   "source": [
    "results_table = service.search(query).to_table()"
   ]
  },
  {
   "cell_type": "markdown",
   "metadata": {},
   "source": [
    "Print the type of `results` and see that it is an `astropy` table."
   ]
  },
  {
   "cell_type": "code",
   "execution_count": 8,
   "metadata": {
    "execution": {
     "iopub.execute_input": "2024-10-29T16:44:54.862444Z",
     "iopub.status.busy": "2024-10-29T16:44:54.862309Z",
     "iopub.status.idle": "2024-10-29T16:44:54.865233Z",
     "shell.execute_reply": "2024-10-29T16:44:54.864838Z",
     "shell.execute_reply.started": "2024-10-29T16:44:54.862431Z"
    }
   },
   "outputs": [
    {
     "name": "stdout",
     "output_type": "stream",
     "text": [
      "<class 'astropy.table.table.Table'>\n"
     ]
    }
   ],
   "source": [
    "print(type(results_table))"
   ]
  },
  {
   "cell_type": "markdown",
   "metadata": {},
   "source": [
    "Display the table."
   ]
  },
  {
   "cell_type": "code",
   "execution_count": 9,
   "metadata": {
    "execution": {
     "iopub.execute_input": "2024-10-29T16:44:54.865915Z",
     "iopub.status.busy": "2024-10-29T16:44:54.865725Z",
     "iopub.status.idle": "2024-10-29T16:44:54.881095Z",
     "shell.execute_reply": "2024-10-29T16:44:54.880686Z",
     "shell.execute_reply.started": "2024-10-29T16:44:54.865901Z"
    }
   },
   "outputs": [
    {
     "data": {
      "text/html": [
       "<div><i>Table length=3</i>\n",
       "<table id=\"table137248488167184\" class=\"table-striped table-bordered table-condensed\">\n",
       "<thead><tr><th>description</th><th>schema_index</th><th>schema_name</th><th>utype</th></tr></thead>\n",
       "<thead><tr><th>str512</th><th>int32</th><th>str64</th><th>str512</th></tr></thead>\n",
       "<tr><td>Data Preview 0.2 contains the image and catalog products of the Rubin Science Pipelines v23 processing of the DESC Data Challenge 2 simulation, which covered 300 square degrees of the wide-fast-deep LSST survey region over 5 years.</td><td>0</td><td>dp02_dc2_catalogs</td><td></td></tr>\n",
       "<tr><td>ObsCore v1.1 attributes in ObsTAP realization</td><td>1</td><td>ivoa</td><td></td></tr>\n",
       "<tr><td>A TAP-standard-mandated schema to describe tablesets in a TAP 1.1 service</td><td>100000</td><td>tap_schema</td><td></td></tr>\n",
       "</table></div>"
      ],
      "text/plain": [
       "<Table length=3>\n",
       "                                                                                                              description                                                                                                               ...\n",
       "                                                                                                                 str512                                                                                                                 ...\n",
       "--------------------------------------------------------------------------------------------------------------------------------------------------------------------------------------------------------------------------------------- ...\n",
       "Data Preview 0.2 contains the image and catalog products of the Rubin Science Pipelines v23 processing of the DESC Data Challenge 2 simulation, which covered 300 square degrees of the wide-fast-deep LSST survey region over 5 years. ...\n",
       "                                                                                                                                                                                          ObsCore v1.1 attributes in ObsTAP realization ...\n",
       "                                                                                                                                                              A TAP-standard-mandated schema to describe tablesets in a TAP 1.1 service ..."
      ]
     },
     "execution_count": 9,
     "metadata": {},
     "output_type": "execute_result"
    }
   ],
   "source": [
    "results_table"
   ]
  },
  {
   "cell_type": "markdown",
   "metadata": {},
   "source": [
    "The table above shows that the DP0.2 data `schema_name` is `dp02_dc2_catalogs`.\n",
    "\n",
    "\"DC2\" stands for \"Data Challenge 2\" and it was the name of the effort by\n",
    "the Dark Energy Science Collaboration to create the simulated data\n",
    "([The DESC DC2 Simulated Sky Survey](https://arxiv.org/abs/2010.05926)).\n",
    "\n",
    "Although the description says \"Data Preview 0.2 contains the image and catalog products...\",\n",
    "the `dp02_dc2_catalogs` contains only catalog data and image data for DP0.2 is \n",
    "stored in the `ObsCore`, with `schema_name` = `ivoa`. \n",
    "Accessing image data via the TAP service is covered in another tutorial.\n",
    "\n",
    "The above table is quite short, and it is obvious from looking at it \n",
    "that the table collection for DP0.2 is `dp02_dc2_catalogs`.\n",
    "However, there may be times in the future when there are many more\n",
    "schemas available.\n",
    "The following demonstrates a way to search for catalogs by name.\n",
    "\n",
    "Use a `for` loop to look for the presence of `dp02` in the\n",
    "`schema_name` column for every row of the results table,\n",
    "and write the name when there is a match."
   ]
  },
  {
   "cell_type": "code",
   "execution_count": 10,
   "metadata": {
    "execution": {
     "iopub.execute_input": "2024-10-29T16:44:54.881725Z",
     "iopub.status.busy": "2024-10-29T16:44:54.881577Z",
     "iopub.status.idle": "2024-10-29T16:44:54.893529Z",
     "shell.execute_reply": "2024-10-29T16:44:54.893108Z",
     "shell.execute_reply.started": "2024-10-29T16:44:54.881712Z"
    }
   },
   "outputs": [
    {
     "name": "stdout",
     "output_type": "stream",
     "text": [
      "dp02_dc2_catalogs\n"
     ]
    }
   ],
   "source": [
    "for name in results_table['schema_name']:\n",
    "    if name.find('dp02') > -1:\n",
    "        print(name)"
   ]
  },
  {
   "cell_type": "markdown",
   "metadata": {},
   "source": [
    "Clean up by deleting the query and its results."
   ]
  },
  {
   "cell_type": "code",
   "execution_count": 11,
   "metadata": {
    "execution": {
     "iopub.execute_input": "2024-10-29T16:44:54.894142Z",
     "iopub.status.busy": "2024-10-29T16:44:54.894005Z",
     "iopub.status.idle": "2024-10-29T16:44:54.905244Z",
     "shell.execute_reply": "2024-10-29T16:44:54.904802Z",
     "shell.execute_reply.started": "2024-10-29T16:44:54.894130Z"
    }
   },
   "outputs": [],
   "source": [
    "del query, results, results_table"
   ]
  },
  {
   "cell_type": "markdown",
   "metadata": {},
   "source": [
    "### 2.3. List all tables in the DP0.2 catalog\n",
    "\n",
    "Create a query that selects all columns from `tap_schema.tables`\n",
    "for the `dp02_dc2_catalogs` schema.\n",
    "Add an ORDER BY statement to return the results sorted by `table_index`.\n",
    "\n",
    "This query will return the names of all tables that are available in the `dp02_dc2_catalogs`."
   ]
  },
  {
   "cell_type": "code",
   "execution_count": 12,
   "metadata": {
    "execution": {
     "iopub.execute_input": "2024-10-29T16:44:54.908657Z",
     "iopub.status.busy": "2024-10-29T16:44:54.908498Z",
     "iopub.status.idle": "2024-10-29T16:44:54.917927Z",
     "shell.execute_reply": "2024-10-29T16:44:54.917473Z",
     "shell.execute_reply.started": "2024-10-29T16:44:54.908644Z"
    }
   },
   "outputs": [],
   "source": [
    "query = \"SELECT * FROM tap_schema.tables \" \\\n",
    "        \"WHERE tap_schema.tables.schema_name = 'dp02_dc2_catalogs'\" \\\n",
    "        \"ORDER BY table_index ASC\""
   ]
  },
  {
   "cell_type": "markdown",
   "metadata": {},
   "source": [
    "Use a synchronous query and return the results as an astropy table."
   ]
  },
  {
   "cell_type": "code",
   "execution_count": 13,
   "metadata": {
    "execution": {
     "iopub.execute_input": "2024-10-29T16:44:54.918521Z",
     "iopub.status.busy": "2024-10-29T16:44:54.918389Z",
     "iopub.status.idle": "2024-10-29T16:44:55.044681Z",
     "shell.execute_reply": "2024-10-29T16:44:55.044178Z",
     "shell.execute_reply.started": "2024-10-29T16:44:54.918509Z"
    }
   },
   "outputs": [],
   "source": [
    "results = service.search(query).to_table()"
   ]
  },
  {
   "cell_type": "markdown",
   "metadata": {},
   "source": [
    "Display the results to see the tables in the DP0.2 schema."
   ]
  },
  {
   "cell_type": "code",
   "execution_count": 14,
   "metadata": {
    "execution": {
     "iopub.execute_input": "2024-10-29T16:44:55.045307Z",
     "iopub.status.busy": "2024-10-29T16:44:55.045169Z",
     "iopub.status.idle": "2024-10-29T16:44:55.051767Z",
     "shell.execute_reply": "2024-10-29T16:44:55.051346Z",
     "shell.execute_reply.started": "2024-10-29T16:44:55.045295Z"
    },
    "tags": []
   },
   "outputs": [
    {
     "data": {
      "text/html": [
       "<div><i>Table length=11</i>\n",
       "<table id=\"table137248770160912\" class=\"table-striped table-bordered table-condensed\">\n",
       "<thead><tr><th>description</th><th>schema_name</th><th>table_index</th><th>table_name</th><th>table_type</th><th>utype</th></tr></thead>\n",
       "<thead><tr><th>str512</th><th>str512</th><th>int32</th><th>str64</th><th>str8</th><th>str512</th></tr></thead>\n",
       "<tr><td>Properties of the astronomical objects detected and measured on the deep coadded images.</td><td>dp02_dc2_catalogs</td><td>1</td><td>dp02_dc2_catalogs.Object</td><td>table</td><td></td></tr>\n",
       "<tr><td>Properties of detections on the single-epoch visit images, performed independently of the Object detections on coadded images.</td><td>dp02_dc2_catalogs</td><td>2</td><td>dp02_dc2_catalogs.Source</td><td>table</td><td></td></tr>\n",
       "<tr><td>Forced-photometry measurements on individual single-epoch visit images and difference images, based on and linked to the entries in the Object table. Point-source PSF photometry is performed, based on coordinates from a reference band chosen for each Object and reported in the Object.refBand column.</td><td>dp02_dc2_catalogs</td><td>3</td><td>dp02_dc2_catalogs.ForcedSource</td><td>table</td><td></td></tr>\n",
       "<tr><td>Properties of time-varying astronomical objects based on association of data from one or more spatially-related DiaSource detections on individual single-epoch difference images.</td><td>dp02_dc2_catalogs</td><td>4</td><td>dp02_dc2_catalogs.DiaObject</td><td>table</td><td></td></tr>\n",
       "<tr><td>Properties of transient-object detections on the single-epoch difference images.</td><td>dp02_dc2_catalogs</td><td>5</td><td>dp02_dc2_catalogs.DiaSource</td><td>table</td><td></td></tr>\n",
       "<tr><td>Point-source forced-photometry measurements on individual single-epoch visit images and difference images, based on and linked to the entries in the DiaObject table.</td><td>dp02_dc2_catalogs</td><td>6</td><td>dp02_dc2_catalogs.ForcedSourceOnDiaObject</td><td>table</td><td></td></tr>\n",
       "<tr><td>Metadata about the pointings of the DC2 simulated survey, largely associated with the boresight of the entire focal plane.</td><td>dp02_dc2_catalogs</td><td>7</td><td>dp02_dc2_catalogs.Visit</td><td>table</td><td></td></tr>\n",
       "<tr><td>Metadata about the 189 individual CCD images for each Visit in the DC2 simulated survey.</td><td>dp02_dc2_catalogs</td><td>8</td><td>dp02_dc2_catalogs.CcdVisit</td><td>table</td><td></td></tr>\n",
       "<tr><td>Static information about the subset of tracts and patches from the standard LSST skymap that apply to coadds in these catalogs</td><td>dp02_dc2_catalogs</td><td>9</td><td>dp02_dc2_catalogs.CoaddPatches</td><td>table</td><td></td></tr>\n",
       "<tr><td>Summary properties of objects from the DESC DC2 truth catalog, as described in arXiv:2101.04855. Includes the noiseless astrometric and photometric parameters.</td><td>dp02_dc2_catalogs</td><td>10</td><td>dp02_dc2_catalogs.TruthSummary</td><td>table</td><td></td></tr>\n",
       "<tr><td>Match information for TruthSummary objects.</td><td>dp02_dc2_catalogs</td><td>11</td><td>dp02_dc2_catalogs.MatchesTruth</td><td>table</td><td></td></tr>\n",
       "</table></div>"
      ],
      "text/plain": [
       "<Table length=11>\n",
       "                                                                                                                                                description                                                                                                                                                  ...\n",
       "                                                                                                                                                   str512                                                                                                                                                    ...\n",
       "------------------------------------------------------------------------------------------------------------------------------------------------------------------------------------------------------------------------------------------------------------------------------------------------------------ ...\n",
       "                                                                                                                                                                                                                    Properties of the astronomical objects detected and measured on the deep coadded images. ...\n",
       "                                                                                                                                                                              Properties of detections on the single-epoch visit images, performed independently of the Object detections on coadded images. ...\n",
       "Forced-photometry measurements on individual single-epoch visit images and difference images, based on and linked to the entries in the Object table. Point-source PSF photometry is performed, based on coordinates from a reference band chosen for each Object and reported in the Object.refBand column. ...\n",
       "                                                                                                                          Properties of time-varying astronomical objects based on association of data from one or more spatially-related DiaSource detections on individual single-epoch difference images. ...\n",
       "                                                                                                                                                                                                                            Properties of transient-object detections on the single-epoch difference images. ...\n",
       "                                                                                                                                       Point-source forced-photometry measurements on individual single-epoch visit images and difference images, based on and linked to the entries in the DiaObject table. ...\n",
       "                                                                                                                                                                                  Metadata about the pointings of the DC2 simulated survey, largely associated with the boresight of the entire focal plane. ...\n",
       "                                                                                                                                                                                                                    Metadata about the 189 individual CCD images for each Visit in the DC2 simulated survey. ...\n",
       "                                                                                                                                                                              Static information about the subset of tracts and patches from the standard LSST skymap that apply to coadds in these catalogs ...\n",
       "                                                                                                                                             Summary properties of objects from the DESC DC2 truth catalog, as described in arXiv:2101.04855. Includes the noiseless astrometric and photometric parameters. ...\n",
       "                                                                                                                                                                                                                                                                 Match information for TruthSummary objects. ..."
      ]
     },
     "execution_count": 14,
     "metadata": {},
     "output_type": "execute_result"
    }
   ],
   "source": [
    "results"
   ]
  },
  {
   "cell_type": "markdown",
   "metadata": {},
   "source": [
    "Clean up."
   ]
  },
  {
   "cell_type": "code",
   "execution_count": 15,
   "metadata": {
    "execution": {
     "iopub.execute_input": "2024-10-29T16:44:55.052418Z",
     "iopub.status.busy": "2024-10-29T16:44:55.052282Z",
     "iopub.status.idle": "2024-10-29T16:44:55.063221Z",
     "shell.execute_reply": "2024-10-29T16:44:55.062774Z",
     "shell.execute_reply.started": "2024-10-29T16:44:55.052406Z"
    }
   },
   "outputs": [],
   "source": [
    "del query, results"
   ]
  },
  {
   "cell_type": "markdown",
   "metadata": {},
   "source": [
    "### 2.4. List all columns in the Object table\n",
    "\n",
    "For the example, use the first table: the `Object` table (see Section 3).\n",
    "\n",
    "The following query selects four colums from the `tap_schema.columns` table,\n",
    "column names, data types, descriptions, and units,\n",
    "only for the `Object` table."
   ]
  },
  {
   "cell_type": "code",
   "execution_count": 16,
   "metadata": {
    "execution": {
     "iopub.execute_input": "2024-10-29T16:44:55.063864Z",
     "iopub.status.busy": "2024-10-29T16:44:55.063707Z",
     "iopub.status.idle": "2024-10-29T16:44:55.075578Z",
     "shell.execute_reply": "2024-10-29T16:44:55.075114Z",
     "shell.execute_reply.started": "2024-10-29T16:44:55.063852Z"
    }
   },
   "outputs": [],
   "source": [
    "query = \"SELECT column_name, datatype, description, unit \" \\\n",
    "        \"FROM tap_schema.columns \" \\\n",
    "        \"WHERE table_name = 'dp02_dc2_catalogs.Object'\""
   ]
  },
  {
   "cell_type": "markdown",
   "metadata": {},
   "source": [
    "Run the synchronous query and store results in an astropy table."
   ]
  },
  {
   "cell_type": "code",
   "execution_count": 17,
   "metadata": {
    "execution": {
     "iopub.execute_input": "2024-10-29T16:44:55.076227Z",
     "iopub.status.busy": "2024-10-29T16:44:55.076082Z",
     "iopub.status.idle": "2024-10-29T16:44:55.233458Z",
     "shell.execute_reply": "2024-10-29T16:44:55.232859Z",
     "shell.execute_reply.started": "2024-10-29T16:44:55.076215Z"
    }
   },
   "outputs": [],
   "source": [
    "results = service.search(query).to_table()"
   ]
  },
  {
   "cell_type": "markdown",
   "metadata": {},
   "source": [
    "Display the results."
   ]
  },
  {
   "cell_type": "code",
   "execution_count": 18,
   "metadata": {
    "execution": {
     "iopub.execute_input": "2024-10-29T16:44:55.234131Z",
     "iopub.status.busy": "2024-10-29T16:44:55.233983Z",
     "iopub.status.idle": "2024-10-29T16:44:55.240471Z",
     "shell.execute_reply": "2024-10-29T16:44:55.240082Z",
     "shell.execute_reply.started": "2024-10-29T16:44:55.234118Z"
    }
   },
   "outputs": [
    {
     "data": {
      "text/html": [
       "<div><i>Table length=991</i>\n",
       "<table id=\"table137248488299920\" class=\"table-striped table-bordered table-condensed\">\n",
       "<thead><tr><th>column_name</th><th>datatype</th><th>description</th><th>unit</th></tr></thead>\n",
       "<thead><tr><th>str64</th><th>str64</th><th>str512</th><th>str64</th></tr></thead>\n",
       "<tr><td>coord_dec</td><td>double</td><td>Fiducial ICRS Declination of centroid used for database indexing</td><td>deg</td></tr>\n",
       "<tr><td>coord_ra</td><td>double</td><td>Fiducial ICRS Right Ascension of centroid used for database indexing</td><td>deg</td></tr>\n",
       "<tr><td>deblend_nChild</td><td>int</td><td>Number of children this object has (defaults to 0)</td><td></td></tr>\n",
       "<tr><td>deblend_skipped</td><td>boolean</td><td>Deblender skipped this source</td><td></td></tr>\n",
       "<tr><td>detect_fromBlend</td><td>boolean</td><td>This source is deblended from a parent with more than one child.</td><td></td></tr>\n",
       "<tr><td>detect_isDeblendedModelSource</td><td>boolean</td><td>True if source has no children and is in the inner region of a coadd patch and is in the inner region of a coadd tract and is not a sky source and is a deblended child</td><td></td></tr>\n",
       "<tr><td>detect_isDeblendedSource</td><td>boolean</td><td>True if source has no children and is in the inner region of a coadd patch and is in the inner region of a coadd tract and is not a sky source and is either an unblended isolated source or a deblended child from a parent with</td><td></td></tr>\n",
       "<tr><td>detect_isIsolated</td><td>boolean</td><td>This source is not a part of a blend.</td><td></td></tr>\n",
       "<tr><td>detect_isPatchInner</td><td>boolean</td><td>True if source is in the inner region of a coadd patch</td><td></td></tr>\n",
       "<tr><td>...</td><td>...</td><td>...</td><td>...</td></tr>\n",
       "<tr><td>z_pixelFlags_suspect</td><td>boolean</td><td>Source&apos;s footprint includes suspect pixels. Measured on z-band.</td><td></td></tr>\n",
       "<tr><td>z_pixelFlags_suspectCenter</td><td>boolean</td><td>Source&apos;s center is close to suspect pixels. Measured on z-band.</td><td></td></tr>\n",
       "<tr><td>z_psfFlux</td><td>double</td><td>Flux derived from linear least-squares fit of PSF model. Forced on z-band.</td><td>nJy</td></tr>\n",
       "<tr><td>z_psfFlux_area</td><td>float</td><td>Effective area of PSF. Forced on z-band.</td><td>pixel</td></tr>\n",
       "<tr><td>z_psfFlux_flag</td><td>boolean</td><td>General Failure Flag. Forced on z-band.</td><td></td></tr>\n",
       "<tr><td>z_psfFlux_flag_apCorr</td><td>boolean</td><td>Set if unable to aperture correct base_PsfFlux. Forced on z-band.</td><td></td></tr>\n",
       "<tr><td>z_psfFlux_flag_edge</td><td>boolean</td><td>Object was too close to the edge of the image to use the full PSF model. Forced on z-band.</td><td></td></tr>\n",
       "<tr><td>z_psfFlux_flag_noGoodPixels</td><td>boolean</td><td>Not enough non-rejected pixels in data to attempt the fit. Forced on z-band.</td><td></td></tr>\n",
       "<tr><td>z_psfFluxErr</td><td>double</td><td>Flux uncertainty derived from linear least-squares fit of PSF model. Forced on z-band.</td><td>nJy</td></tr>\n",
       "<tr><td>z_ra</td><td>double</td><td>Position in Right Ascension. Measured on z-band.</td><td>deg</td></tr>\n",
       "</table></div>"
      ],
      "text/plain": [
       "<Table length=991>\n",
       "         column_name          datatype ...  unit\n",
       "            str64              str64   ... str64\n",
       "----------------------------- -------- ... -----\n",
       "                    coord_dec   double ...   deg\n",
       "                     coord_ra   double ...   deg\n",
       "               deblend_nChild      int ...      \n",
       "              deblend_skipped  boolean ...      \n",
       "             detect_fromBlend  boolean ...      \n",
       "detect_isDeblendedModelSource  boolean ...      \n",
       "     detect_isDeblendedSource  boolean ...      \n",
       "            detect_isIsolated  boolean ...      \n",
       "          detect_isPatchInner  boolean ...      \n",
       "                          ...      ... ...   ...\n",
       "         z_pixelFlags_suspect  boolean ...      \n",
       "   z_pixelFlags_suspectCenter  boolean ...      \n",
       "                    z_psfFlux   double ...   nJy\n",
       "               z_psfFlux_area    float ... pixel\n",
       "               z_psfFlux_flag  boolean ...      \n",
       "        z_psfFlux_flag_apCorr  boolean ...      \n",
       "          z_psfFlux_flag_edge  boolean ...      \n",
       "  z_psfFlux_flag_noGoodPixels  boolean ...      \n",
       "                 z_psfFluxErr   double ...   nJy\n",
       "                         z_ra   double ...   deg"
      ]
     },
     "execution_count": 18,
     "metadata": {},
     "output_type": "execute_result"
    }
   ],
   "source": [
    "results"
   ]
  },
  {
   "cell_type": "markdown",
   "metadata": {},
   "source": [
    "Above, notice that the table is very long (991 rows) and the display has been truncated (the '...' represents skipped rows).\n",
    "There are too many columns to read through.\n",
    "\n",
    "Use a `for` loop to look for the presence of `coord` in the\n",
    "`column_name` column for every row of the results table,\n",
    "and write the name when there is a match."
   ]
  },
  {
   "cell_type": "code",
   "execution_count": 19,
   "metadata": {
    "execution": {
     "iopub.execute_input": "2024-10-29T16:44:55.241089Z",
     "iopub.status.busy": "2024-10-29T16:44:55.240946Z",
     "iopub.status.idle": "2024-10-29T16:44:55.263182Z",
     "shell.execute_reply": "2024-10-29T16:44:55.262742Z",
     "shell.execute_reply.started": "2024-10-29T16:44:55.241076Z"
    }
   },
   "outputs": [
    {
     "name": "stdout",
     "output_type": "stream",
     "text": [
      "coord_dec\n",
      "coord_ra\n"
     ]
    }
   ],
   "source": [
    "search_string = 'coord'\n",
    "for cname in results['column_name']:\n",
    "    if cname.find(search_string) > -1:\n",
    "        print(cname)"
   ]
  },
  {
   "cell_type": "markdown",
   "metadata": {},
   "source": [
    "Repeat the above exercise, but for all columns that are related to the *g*-band PSF (point spread function) flux measurements.\n",
    "This flux measurement is appropriate to use for point-like objects, like stars.\n",
    "\n",
    "Notice that there is a flux, and error, and several flag values.\n",
    "Flags indicate various warnings, e.g., if the source was close to the edge of the detector and thus might be missing some flux."
   ]
  },
  {
   "cell_type": "code",
   "execution_count": 20,
   "metadata": {
    "execution": {
     "iopub.execute_input": "2024-10-29T16:44:55.263800Z",
     "iopub.status.busy": "2024-10-29T16:44:55.263654Z",
     "iopub.status.idle": "2024-10-29T16:44:55.283570Z",
     "shell.execute_reply": "2024-10-29T16:44:55.283146Z",
     "shell.execute_reply.started": "2024-10-29T16:44:55.263787Z"
    }
   },
   "outputs": [
    {
     "name": "stdout",
     "output_type": "stream",
     "text": [
      "g_psfFlux\n",
      "g_psfFlux_area\n",
      "g_psfFlux_flag\n",
      "g_psfFlux_flag_apCorr\n",
      "g_psfFlux_flag_edge\n",
      "g_psfFlux_flag_noGoodPixels\n",
      "g_psfFluxErr\n"
     ]
    }
   ],
   "source": [
    "search_string = 'g_psfFlux'\n",
    "for cname in results['column_name']:\n",
    "    if cname.find(search_string) > -1:\n",
    "        print(cname)"
   ]
  },
  {
   "cell_type": "markdown",
   "metadata": {},
   "source": [
    "The `datatype` column has a limited set of values.\n",
    "Print the unique data types."
   ]
  },
  {
   "cell_type": "code",
   "execution_count": 21,
   "metadata": {
    "execution": {
     "iopub.execute_input": "2024-10-29T16:44:55.284196Z",
     "iopub.status.busy": "2024-10-29T16:44:55.284047Z",
     "iopub.status.idle": "2024-10-29T16:44:55.298326Z",
     "shell.execute_reply": "2024-10-29T16:44:55.297904Z",
     "shell.execute_reply.started": "2024-10-29T16:44:55.284182Z"
    }
   },
   "outputs": [
    {
     "name": "stdout",
     "output_type": "stream",
     "text": [
      "datatype\n",
      "--------\n",
      " boolean\n",
      "    char\n",
      "  double\n",
      "   float\n",
      "     int\n",
      "    long\n"
     ]
    }
   ],
   "source": [
    "print(np.unique(results['datatype']))"
   ]
  },
  {
   "cell_type": "markdown",
   "metadata": {},
   "source": [
    "The `units` column also has a limited set of values.\n",
    "Print the unique set of units used in the `Object` table."
   ]
  },
  {
   "cell_type": "code",
   "execution_count": 22,
   "metadata": {
    "execution": {
     "iopub.execute_input": "2024-10-29T16:44:55.298945Z",
     "iopub.status.busy": "2024-10-29T16:44:55.298790Z",
     "iopub.status.idle": "2024-10-29T16:44:55.310306Z",
     "shell.execute_reply": "2024-10-29T16:44:55.309839Z",
     "shell.execute_reply.started": "2024-10-29T16:44:55.298932Z"
    }
   },
   "outputs": [
    {
     "name": "stdout",
     "output_type": "stream",
     "text": [
      "  unit  \n",
      "--------\n",
      "        \n",
      "     deg\n",
      "     nJy\n",
      "   pixel\n",
      "pixel**2\n"
     ]
    }
   ],
   "source": [
    "print(np.unique(results['unit']))"
   ]
  },
  {
   "cell_type": "markdown",
   "metadata": {},
   "source": [
    "Clean up."
   ]
  },
  {
   "cell_type": "code",
   "execution_count": 23,
   "metadata": {
    "execution": {
     "iopub.execute_input": "2024-10-29T16:44:55.310918Z",
     "iopub.status.busy": "2024-10-29T16:44:55.310770Z",
     "iopub.status.idle": "2024-10-29T16:44:55.319922Z",
     "shell.execute_reply": "2024-10-29T16:44:55.319485Z",
     "shell.execute_reply.started": "2024-10-29T16:44:55.310905Z"
    }
   },
   "outputs": [],
   "source": [
    "del query, results"
   ]
  },
  {
   "cell_type": "markdown",
   "metadata": {},
   "source": [
    "## 3. Query the DP0.2 Object table\n",
    "\n",
    "The `Object` table contains measurements for all objects detected\n",
    "in the deep coadd (stacked) images.\n",
    "It includes objects detected with a signal-to-noise ratio of at least five in at least one filter.\n",
    "Detections are deblended, e.g., overlapping galaxies (blended sources in the image), are split into\n",
    "individual objects (referred to as 'parent' and 'child' objects).\n",
    "The measurements of these objects, such as shapes, sizes, and fluxes, are made in all filters.\n",
    "\n",
    "The Object catalog (`dp02_dc2_catalogs.Object`) contains sources detected in the coadded images (also called stacked or combined images)."
   ]
  },
  {
   "cell_type": "markdown",
   "metadata": {},
   "source": [
    "### 3.1. Asynchronous queries\n",
    "\n",
    "This section uses \"asynchronous\" TAP queries.\n",
    "This means that the query is submitted as a job to the TAP service,\n",
    "and it can run in the background until it completes.\n",
    "The results can then be retrieved right away, or at a later time.\n",
    "Other cells can be run while this is happening.\n",
    "\n",
    "Since the queries in this section are more complex, and retrieving rows of data (not just schema),\n",
    "asynchronous queries are used."
   ]
  },
  {
   "cell_type": "markdown",
   "metadata": {},
   "source": [
    "### 3.2. Cone search\n",
    "\n",
    "A cone search means a catalog query that returns all objects within a given radius of a sky coordinate.\n",
    "Since a given angular diameter corresponds to a larger physical diameter at larger distances,\n",
    "the volume queried is a cone, not a cylinder.\n",
    "\n",
    "In ADQL, a cone search is executed with `WHERE CONTAINS(POINT(), CIRCLE()) = 1`.\n",
    " * `POINT()` passes the catalog's columns for sky coordinates.\n",
    " * `CIRCLE()` defines the center and radius of the search circle.\n",
    " * `CONTAINS() = 1` constrains the query to only return rows for which the statement \"this circle contains this point\" is \"True\" (=1).\n",
    "\n",
    "In Section 2.4, the columns for sky coordinate in the `Object` catalog\n",
    "were shown to be `coord_ra` and `coord_dec`, with units of degrees. \n",
    "The approximate center of the DP0.2 area is RA, Dec = 62.0, -37.0 (decimal degrees).\n",
    "A conservative radius that ensures a quick query with a limited number of rows returned in 0.01 degrees (36 arcsec).\n",
    "\n",
    "The following query would return the `coord_ra` and `coord_dec` columns for all rows of the `Object` table\n",
    "which are within 0.05 degrees of RA, Dec = 62.0, -37.0, and for which the `detect_isPrimary` column is \"True\" (as recommended above).\n",
    "The `'ICRS'` stands for \"International Celestial Reference System\", the reference frame for the coordinates.\n",
    "\n",
    "```\n",
    "SELECT coord_ra, coord_dec FROM dp02_dc2_catalogs.Object \n",
    "WHERE CONTAINS(POINT('ICRS', coord_ra, coord_dec), CIRCLE('ICRS', 62, -37, 0.05\")) = 1 \n",
    "AND detect_isPrimary = 1\n",
    "```\n",
    "\n",
    "Define the center coordinates and the radius.\n",
    "TAP queries are created as strings, so define `str_center_coords` and `str_radius` as strings\n",
    "which can be inserted into the query string."
   ]
  },
  {
   "cell_type": "code",
   "execution_count": 24,
   "metadata": {
    "execution": {
     "iopub.execute_input": "2024-10-29T16:44:55.320546Z",
     "iopub.status.busy": "2024-10-29T16:44:55.320412Z",
     "iopub.status.idle": "2024-10-29T16:44:55.332376Z",
     "shell.execute_reply": "2024-10-29T16:44:55.331919Z",
     "shell.execute_reply.started": "2024-10-29T16:44:55.320534Z"
    },
    "tags": []
   },
   "outputs": [],
   "source": [
    "center_ra = 62\n",
    "center_dec = -37\n",
    "radius = 0.01\n",
    "\n",
    "str_center_coords = str(center_ra) + \", \" + str(center_dec)\n",
    "str_radius = str(radius)"
   ]
  },
  {
   "cell_type": "markdown",
   "metadata": {},
   "source": [
    "Create the query string, and print it."
   ]
  },
  {
   "cell_type": "code",
   "execution_count": 25,
   "metadata": {
    "execution": {
     "iopub.execute_input": "2024-10-29T16:44:55.333056Z",
     "iopub.status.busy": "2024-10-29T16:44:55.332904Z",
     "iopub.status.idle": "2024-10-29T16:44:55.345229Z",
     "shell.execute_reply": "2024-10-29T16:44:55.344832Z",
     "shell.execute_reply.started": "2024-10-29T16:44:55.333044Z"
    }
   },
   "outputs": [
    {
     "name": "stdout",
     "output_type": "stream",
     "text": [
      "SELECT coord_ra, coord_dec FROM dp02_dc2_catalogs.Object WHERE CONTAINS(POINT('ICRS', coord_ra, coord_dec), CIRCLE('ICRS', 62, -37, 0.01)) = 1 AND detect_isPrimary = 1\n"
     ]
    }
   ],
   "source": [
    "query = \"SELECT coord_ra, coord_dec \"\\\n",
    "        \"FROM dp02_dc2_catalogs.Object \"\\\n",
    "        \"WHERE CONTAINS(POINT('ICRS', coord_ra, coord_dec), \"\\\n",
    "        \"CIRCLE('ICRS', \" + str_center_coords + \", \" + str_radius + \")) = 1 \"\\\n",
    "        \"AND detect_isPrimary = 1\"\n",
    "print(query)"
   ]
  },
  {
   "cell_type": "markdown",
   "metadata": {},
   "source": [
    "Submit the `query` as an asynchronous job to the TAP service."
   ]
  },
  {
   "cell_type": "code",
   "execution_count": 26,
   "metadata": {
    "execution": {
     "iopub.execute_input": "2024-10-29T16:44:55.345839Z",
     "iopub.status.busy": "2024-10-29T16:44:55.345693Z",
     "iopub.status.idle": "2024-10-29T16:44:55.540616Z",
     "shell.execute_reply": "2024-10-29T16:44:55.540199Z",
     "shell.execute_reply.started": "2024-10-29T16:44:55.345826Z"
    }
   },
   "outputs": [
    {
     "name": "stdout",
     "output_type": "stream",
     "text": [
      "Job URL is https://data-int.lsst.cloud/api/tap/async/eo82pqme2uu8mxrc\n",
      "Job phase is PENDING\n"
     ]
    }
   ],
   "source": [
    "job = service.submit_job(query)\n",
    "print('Job URL is', job.url)\n",
    "print('Job phase is', job.phase)"
   ]
  },
  {
   "cell_type": "markdown",
   "metadata": {},
   "source": [
    "Run the job."
   ]
  },
  {
   "cell_type": "code",
   "execution_count": 27,
   "metadata": {
    "execution": {
     "iopub.execute_input": "2024-10-29T16:44:55.541245Z",
     "iopub.status.busy": "2024-10-29T16:44:55.541104Z",
     "iopub.status.idle": "2024-10-29T16:44:55.610228Z",
     "shell.execute_reply": "2024-10-29T16:44:55.609836Z",
     "shell.execute_reply.started": "2024-10-29T16:44:55.541233Z"
    }
   },
   "outputs": [
    {
     "data": {
      "text/plain": [
       "<pyvo.dal.tap.AsyncTAPJob at 0x7cd3a7478c10>"
      ]
     },
     "execution_count": 27,
     "metadata": {},
     "output_type": "execute_result"
    }
   ],
   "source": [
    "job.run()"
   ]
  },
  {
   "cell_type": "markdown",
   "metadata": {},
   "source": [
    "Wait for the job status to be either \"COMPLETED\" or \"ERROR\".\n",
    "\n",
    "This is not mandatory, but is recommended; if it is not run, there will be no other\n",
    "automatic notification that the job is no longer running.\n",
    "However, note that if this cell is executed then no other cells can be executed while the job runs in the background."
   ]
  },
  {
   "cell_type": "code",
   "execution_count": 28,
   "metadata": {
    "execution": {
     "iopub.execute_input": "2024-10-29T16:44:55.610783Z",
     "iopub.status.busy": "2024-10-29T16:44:55.610651Z",
     "iopub.status.idle": "2024-10-29T16:44:56.683926Z",
     "shell.execute_reply": "2024-10-29T16:44:56.683483Z",
     "shell.execute_reply.started": "2024-10-29T16:44:55.610770Z"
    }
   },
   "outputs": [
    {
     "name": "stdout",
     "output_type": "stream",
     "text": [
      "Job phase is COMPLETED\n"
     ]
    }
   ],
   "source": [
    "job.wait(phases=['COMPLETED', 'ERROR'])\n",
    "print('Job phase is', job.phase)"
   ]
  },
  {
   "cell_type": "markdown",
   "metadata": {},
   "source": [
    "**Optional:** If the status returned was \"ERROR\", uncomment and execute this cell to print the error messages."
   ]
  },
  {
   "cell_type": "code",
   "execution_count": 29,
   "metadata": {
    "execution": {
     "iopub.execute_input": "2024-10-29T16:44:56.684513Z",
     "iopub.status.busy": "2024-10-29T16:44:56.684363Z",
     "iopub.status.idle": "2024-10-29T16:44:56.686851Z",
     "shell.execute_reply": "2024-10-29T16:44:56.686440Z",
     "shell.execute_reply.started": "2024-10-29T16:44:56.684501Z"
    }
   },
   "outputs": [],
   "source": [
    "# job.raise_if_error()"
   ]
  },
  {
   "cell_type": "markdown",
   "metadata": {},
   "source": [
    "If the status returned was \"COMPLETED\", execute this cell to retrieve the query results as an `astropy` table\n",
    "and print the length of the table."
   ]
  },
  {
   "cell_type": "code",
   "execution_count": 30,
   "metadata": {
    "execution": {
     "iopub.execute_input": "2024-10-29T16:44:56.687394Z",
     "iopub.status.busy": "2024-10-29T16:44:56.687267Z",
     "iopub.status.idle": "2024-10-29T16:44:56.816654Z",
     "shell.execute_reply": "2024-10-29T16:44:56.816214Z",
     "shell.execute_reply.started": "2024-10-29T16:44:56.687382Z"
    }
   },
   "outputs": [
    {
     "name": "stdout",
     "output_type": "stream",
     "text": [
      "173\n"
     ]
    }
   ],
   "source": [
    "results = job.fetch_result().to_table()\n",
    "print(len(results))"
   ]
  },
  {
   "cell_type": "markdown",
   "metadata": {
    "execution": {
     "iopub.execute_input": "2024-07-10T18:08:45.946400Z",
     "iopub.status.busy": "2024-07-10T18:08:45.945717Z",
     "iopub.status.idle": "2024-07-10T18:08:46.556444Z",
     "shell.execute_reply": "2024-07-10T18:08:46.555565Z",
     "shell.execute_reply.started": "2024-07-10T18:08:45.946377Z"
    }
   },
   "source": [
    "**Optional:** Uncomment and execute to display the table contents."
   ]
  },
  {
   "cell_type": "code",
   "execution_count": 31,
   "metadata": {
    "execution": {
     "iopub.execute_input": "2024-10-29T16:44:56.817287Z",
     "iopub.status.busy": "2024-10-29T16:44:56.817140Z",
     "iopub.status.idle": "2024-10-29T16:44:56.819489Z",
     "shell.execute_reply": "2024-10-29T16:44:56.819119Z",
     "shell.execute_reply.started": "2024-10-29T16:44:56.817274Z"
    }
   },
   "outputs": [],
   "source": [
    "# results"
   ]
  },
  {
   "cell_type": "markdown",
   "metadata": {},
   "source": [
    "Plot the coordinates, right ascension (RA) vs. declination (Dec).\n",
    "\n",
    "Use the `astropy` class `SphericalCircle` to shade the query region.\n",
    "This class takes into account the \"cos-dec\" factor\n",
    "(for points off the celestial equator, i.e., at non-zero declination, the real distance\n",
    "in the right ascension axis is smaller by a factor of the cosine of the declination)."
   ]
  },
  {
   "cell_type": "code",
   "execution_count": 32,
   "metadata": {
    "execution": {
     "iopub.execute_input": "2024-10-29T16:44:56.820050Z",
     "iopub.status.busy": "2024-10-29T16:44:56.819914Z",
     "iopub.status.idle": "2024-10-29T16:44:56.925883Z",
     "shell.execute_reply": "2024-10-29T16:44:56.925437Z",
     "shell.execute_reply.started": "2024-10-29T16:44:56.820038Z"
    }
   },
   "outputs": [
    {
     "data": {
      "image/png": "[encoded data removed]",
      "text/plain": [
       "<Figure size 400x400 with 1 Axes>"
      ]
     },
     "metadata": {},
     "output_type": "display_data"
    }
   ],
   "source": [
    "fig = plt.figure(figsize=(4, 4))\n",
    "\n",
    "region = SphericalCircle((center_ra * u.deg, center_dec * u.deg),\n",
    "                         radius * u.deg, alpha=0.2, color='blue')\n",
    "plt.gca().add_patch(region)\n",
    "\n",
    "plt.plot(results['coord_ra'], results['coord_dec'],\n",
    "         'o', alpha=0.5, color='black', mew=0)\n",
    "\n",
    "plt.xlabel('RA')\n",
    "plt.ylabel('Dec')\n",
    "plt.show()"
   ]
  },
  {
   "cell_type": "markdown",
   "metadata": {},
   "source": [
    "Figure 1: The Right Ascension (RA) versus Declination (Dec) coordinates for Objects retrieved by the query (black dots) within the query region (blue circle).\n",
    "\n",
    "Clean up (and save memory) by deleting the job and its results."
   ]
  },
  {
   "cell_type": "code",
   "execution_count": 33,
   "metadata": {
    "execution": {
     "iopub.execute_input": "2024-10-29T16:44:56.926520Z",
     "iopub.status.busy": "2024-10-29T16:44:56.926371Z",
     "iopub.status.idle": "2024-10-29T16:44:56.964246Z",
     "shell.execute_reply": "2024-10-29T16:44:56.963730Z",
     "shell.execute_reply.started": "2024-10-29T16:44:56.926508Z"
    }
   },
   "outputs": [],
   "source": [
    "job.delete()\n",
    "del query, results"
   ]
  },
  {
   "cell_type": "markdown",
   "metadata": {},
   "source": [
    "### 3.3. Limit rows returned with TOP\n",
    "\n",
    "For debugging and testing queries, it can be useful to only retrieve a subset of the rows\n",
    "which meet the query constraints, because this is faster.\n",
    "\n",
    "Alter the query used above to use `TOP` to return only `N` rows."
   ]
  },
  {
   "cell_type": "code",
   "execution_count": 34,
   "metadata": {
    "execution": {
     "iopub.execute_input": "2024-10-29T16:44:56.964870Z",
     "iopub.status.busy": "2024-10-29T16:44:56.964714Z",
     "iopub.status.idle": "2024-10-29T16:44:56.967156Z",
     "shell.execute_reply": "2024-10-29T16:44:56.966752Z",
     "shell.execute_reply.started": "2024-10-29T16:44:56.964858Z"
    },
    "tags": []
   },
   "outputs": [],
   "source": [
    "N = 20"
   ]
  },
  {
   "cell_type": "code",
   "execution_count": 35,
   "metadata": {
    "execution": {
     "iopub.execute_input": "2024-10-29T16:44:56.967705Z",
     "iopub.status.busy": "2024-10-29T16:44:56.967577Z",
     "iopub.status.idle": "2024-10-29T16:44:56.979935Z",
     "shell.execute_reply": "2024-10-29T16:44:56.979481Z",
     "shell.execute_reply.started": "2024-10-29T16:44:56.967694Z"
    },
    "tags": []
   },
   "outputs": [
    {
     "name": "stdout",
     "output_type": "stream",
     "text": [
      "SELECT TOP 20 coord_ra, coord_dec FROM dp02_dc2_catalogs.Object WHERE CONTAINS(POINT('ICRS', coord_ra, coord_dec), CIRCLE('ICRS', 62, -37, 0.01)) = 1 AND detect_isPrimary = 1\n"
     ]
    }
   ],
   "source": [
    "query = \"SELECT TOP \" + str(N) + \" coord_ra, coord_dec \"\\\n",
    "        \"FROM dp02_dc2_catalogs.Object \"\\\n",
    "        \"WHERE CONTAINS(POINT('ICRS', coord_ra, coord_dec), \"\\\n",
    "        \"CIRCLE('ICRS', \" + str_center_coords + \", \" + str_radius + \")) = 1 \"\\\n",
    "        \"AND detect_isPrimary = 1\"\n",
    "print(query)"
   ]
  },
  {
   "cell_type": "markdown",
   "metadata": {},
   "source": [
    "Run the job asynchronously and wait until it is finished."
   ]
  },
  {
   "cell_type": "code",
   "execution_count": 36,
   "metadata": {
    "execution": {
     "iopub.execute_input": "2024-10-29T16:44:56.980555Z",
     "iopub.status.busy": "2024-10-29T16:44:56.980409Z",
     "iopub.status.idle": "2024-10-29T16:44:58.262152Z",
     "shell.execute_reply": "2024-10-29T16:44:58.261547Z",
     "shell.execute_reply.started": "2024-10-29T16:44:56.980541Z"
    }
   },
   "outputs": [
    {
     "name": "stdout",
     "output_type": "stream",
     "text": [
      "Job phase is COMPLETED\n"
     ]
    }
   ],
   "source": [
    "job = service.submit_job(query)\n",
    "job.run()\n",
    "job.wait(phases=['COMPLETED', 'ERROR'])\n",
    "print('Job phase is', job.phase)"
   ]
  },
  {
   "cell_type": "code",
   "execution_count": 37,
   "metadata": {
    "execution": {
     "iopub.execute_input": "2024-10-29T16:44:58.262931Z",
     "iopub.status.busy": "2024-10-29T16:44:58.262747Z",
     "iopub.status.idle": "2024-10-29T16:44:58.366093Z",
     "shell.execute_reply": "2024-10-29T16:44:58.365350Z",
     "shell.execute_reply.started": "2024-10-29T16:44:58.262917Z"
    }
   },
   "outputs": [
    {
     "name": "stdout",
     "output_type": "stream",
     "text": [
      "20\n"
     ]
    }
   ],
   "source": [
    "results = job.fetch_result().to_table()\n",
    "print(len(results))"
   ]
  },
  {
   "cell_type": "code",
   "execution_count": 38,
   "metadata": {
    "execution": {
     "iopub.execute_input": "2024-10-29T16:44:58.366852Z",
     "iopub.status.busy": "2024-10-29T16:44:58.366672Z",
     "iopub.status.idle": "2024-10-29T16:44:58.455722Z",
     "shell.execute_reply": "2024-10-29T16:44:58.455160Z",
     "shell.execute_reply.started": "2024-10-29T16:44:58.366838Z"
    }
   },
   "outputs": [
    {
     "data": {
      "image/png": "[encoded data removed]",
      "text/plain": [
       "<Figure size 400x400 with 1 Axes>"
      ]
     },
     "metadata": {},
     "output_type": "display_data"
    }
   ],
   "source": [
    "fig = plt.figure(figsize=(4, 4))\n",
    "region = SphericalCircle((center_ra * u.deg, center_dec * u.deg),\n",
    "                         radius * u.deg, alpha=0.2, color='blue')\n",
    "plt.gca().add_patch(region)\n",
    "plt.plot(results['coord_ra'], results['coord_dec'],\n",
    "         'o', alpha=0.5, color='black', mew=0)\n",
    "plt.xlabel('RA')\n",
    "plt.ylabel('Dec')\n",
    "plt.show()"
   ]
  },
  {
   "cell_type": "markdown",
   "metadata": {},
   "source": [
    "Figure 2: The Right Ascension (RA) versus Declination (Dec) coordinates for only the top 20 Objects retrieved by the query (black dots) within the query region (blue circle). All of the black dots are in the lower half of the blue circle.\n",
    "\n",
    "\n",
    "Clean up."
   ]
  },
  {
   "cell_type": "code",
   "execution_count": 39,
   "metadata": {
    "execution": {
     "iopub.execute_input": "2024-10-29T16:44:58.456532Z",
     "iopub.status.busy": "2024-10-29T16:44:58.456358Z",
     "iopub.status.idle": "2024-10-29T16:44:58.494893Z",
     "shell.execute_reply": "2024-10-29T16:44:58.494301Z",
     "shell.execute_reply.started": "2024-10-29T16:44:58.456517Z"
    }
   },
   "outputs": [],
   "source": [
    "job.delete()\n",
    "del query, results"
   ]
  },
  {
   "cell_type": "markdown",
   "metadata": {},
   "source": [
    "### 3.4. Use of maxrec instead of TOP\n",
    "\n",
    "TAP queries run in the Notebook Aspect of the RSP can also use the `maxrec` keyword for the TAP service.\n",
    "Use of `TOP` is preferred, as described in Section 1.4.4, but they work the same way from a Jupyter Notebook.\n",
    "\n",
    "Use the same query as above, but without `TOP`."
   ]
  },
  {
   "cell_type": "code",
   "execution_count": 40,
   "metadata": {
    "execution": {
     "iopub.execute_input": "2024-10-29T16:44:58.495694Z",
     "iopub.status.busy": "2024-10-29T16:44:58.495531Z",
     "iopub.status.idle": "2024-10-29T16:44:58.499042Z",
     "shell.execute_reply": "2024-10-29T16:44:58.498489Z",
     "shell.execute_reply.started": "2024-10-29T16:44:58.495680Z"
    }
   },
   "outputs": [
    {
     "name": "stdout",
     "output_type": "stream",
     "text": [
      "SELECT coord_ra, coord_dec FROM dp02_dc2_catalogs.Object WHERE CONTAINS(POINT('ICRS', coord_ra, coord_dec), CIRCLE('ICRS', 62, -37, 0.01)) = 1 AND detect_isPrimary = 1\n"
     ]
    }
   ],
   "source": [
    "query = \"SELECT coord_ra, coord_dec \"\\\n",
    "        \"FROM dp02_dc2_catalogs.Object \"\\\n",
    "        \"WHERE CONTAINS(POINT('ICRS', coord_ra, coord_dec), \"\\\n",
    "        \"CIRCLE('ICRS', \" + str_center_coords + \", \" + str_radius + \")) = 1 \"\\\n",
    "        \"AND detect_isPrimary = 1\"\n",
    "print(query)"
   ]
  },
  {
   "cell_type": "markdown",
   "metadata": {
    "execution": {
     "iopub.execute_input": "2024-07-10T18:32:33.275011Z",
     "iopub.status.busy": "2024-07-10T18:32:33.274479Z",
     "iopub.status.idle": "2024-07-10T18:32:33.382310Z",
     "shell.execute_reply": "2024-07-10T18:32:33.381776Z",
     "shell.execute_reply.started": "2024-07-10T18:32:33.274989Z"
    }
   },
   "source": [
    "Include `maxrec` as a keyword when submitting the query to the TAP service. Run the job."
   ]
  },
  {
   "cell_type": "code",
   "execution_count": 41,
   "metadata": {
    "execution": {
     "iopub.execute_input": "2024-10-29T16:44:58.499892Z",
     "iopub.status.busy": "2024-10-29T16:44:58.499725Z",
     "iopub.status.idle": "2024-10-29T16:44:59.778111Z",
     "shell.execute_reply": "2024-10-29T16:44:59.777551Z",
     "shell.execute_reply.started": "2024-10-29T16:44:58.499879Z"
    }
   },
   "outputs": [
    {
     "name": "stdout",
     "output_type": "stream",
     "text": [
      "Job phase is COMPLETED\n"
     ]
    }
   ],
   "source": [
    "job = service.submit_job(query, maxrec=N)\n",
    "job.run()\n",
    "job.wait(phases=['COMPLETED', 'ERROR'])\n",
    "print('Job phase is', job.phase)"
   ]
  },
  {
   "cell_type": "markdown",
   "metadata": {},
   "source": [
    "Retrieve the job results.\n",
    "\n",
    "> **Warning:** Use of `maxrec` might return a `DALOverflowWarning` when the results are retrieved. This warns the user that partial results have been returned. In this case, it is ok to ignore this warning, because the query's intent was to return partial results by using `maxrec`."
   ]
  },
  {
   "cell_type": "code",
   "execution_count": 42,
   "metadata": {
    "execution": {
     "iopub.execute_input": "2024-10-29T16:44:59.778850Z",
     "iopub.status.busy": "2024-10-29T16:44:59.778652Z",
     "iopub.status.idle": "2024-10-29T16:44:59.867486Z",
     "shell.execute_reply": "2024-10-29T16:44:59.866855Z",
     "shell.execute_reply.started": "2024-10-29T16:44:59.778797Z"
    }
   },
   "outputs": [
    {
     "name": "stdout",
     "output_type": "stream",
     "text": [
      "20\n"
     ]
    },
    {
     "name": "stderr",
     "output_type": "stream",
     "text": [
      "/opt/lsst/software/stack/conda/envs/lsst-scipipe-9.0.0/lib/python3.11/site-packages/pyvo/dal/query.py:325: DALOverflowWarning: Partial result set. Potential causes MAXREC, async storage space, etc.\n",
      "  warn(\"Partial result set. Potential causes MAXREC, async storage space, etc.\",\n"
     ]
    }
   ],
   "source": [
    "results = job.fetch_result().to_table()\n",
    "print(len(results))"
   ]
  },
  {
   "cell_type": "markdown",
   "metadata": {},
   "source": [
    "Plot the results."
   ]
  },
  {
   "cell_type": "code",
   "execution_count": 43,
   "metadata": {
    "execution": {
     "iopub.execute_input": "2024-10-29T16:44:59.868733Z",
     "iopub.status.busy": "2024-10-29T16:44:59.868223Z",
     "iopub.status.idle": "2024-10-29T16:44:59.949170Z",
     "shell.execute_reply": "2024-10-29T16:44:59.948654Z",
     "shell.execute_reply.started": "2024-10-29T16:44:59.868719Z"
    }
   },
   "outputs": [
    {
     "data": {
      "image/png": "[encoded data removed]",
      "text/plain": [
       "<Figure size 400x400 with 1 Axes>"
      ]
     },
     "metadata": {},
     "output_type": "display_data"
    }
   ],
   "source": [
    "fig = plt.figure(figsize=(4, 4))\n",
    "region = SphericalCircle((center_ra * u.deg, center_dec * u.deg),\n",
    "                         radius * u.deg, alpha=0.2, color='blue')\n",
    "plt.gca().add_patch(region)\n",
    "plt.plot(results['coord_ra'], results['coord_dec'],\n",
    "         'o', alpha=0.5, color='black', mew=0)\n",
    "plt.xlabel('RA')\n",
    "plt.ylabel('Dec')\n",
    "plt.show()"
   ]
  },
  {
   "cell_type": "markdown",
   "metadata": {},
   "source": [
    "Figure 3: Identical to Figure 2.\n",
    "\n",
    "Clean up."
   ]
  },
  {
   "cell_type": "code",
   "execution_count": 44,
   "metadata": {
    "execution": {
     "iopub.execute_input": "2024-10-29T16:44:59.949980Z",
     "iopub.status.busy": "2024-10-29T16:44:59.949750Z",
     "iopub.status.idle": "2024-10-29T16:44:59.993704Z",
     "shell.execute_reply": "2024-10-29T16:44:59.993144Z",
     "shell.execute_reply.started": "2024-10-29T16:44:59.949965Z"
    }
   },
   "outputs": [],
   "source": [
    "job.delete()\n",
    "del query, results"
   ]
  },
  {
   "cell_type": "markdown",
   "metadata": {},
   "source": [
    "### 3.5. Sort results with ORDER BY\n",
    "\n",
    "As described in Section 1.4.5, **use `ORDER BY` and `TOP` together with caution**.\n",
    "\n",
    "The TAP service first applies `WHERE` constraints, then `ORDER BY`, and then `TOP`.\n",
    "If the query is not well constrained, i.e., if thousands or more objects meet the `WHERE`\n",
    "constraints, then they all must first be sorted before the top number are returned. \n",
    "This is a waste of time and compute resources.\n",
    "\n",
    "Create the query. Add an `ORDER BY` statement to the TAP query to return the `TOP` N objects\n",
    "sorted by `coord_ra`, in ascending (`ASC`) order."
   ]
  },
  {
   "cell_type": "code",
   "execution_count": 45,
   "metadata": {
    "execution": {
     "iopub.execute_input": "2024-10-29T16:44:59.994465Z",
     "iopub.status.busy": "2024-10-29T16:44:59.994296Z",
     "iopub.status.idle": "2024-10-29T16:44:59.997602Z",
     "shell.execute_reply": "2024-10-29T16:44:59.997181Z",
     "shell.execute_reply.started": "2024-10-29T16:44:59.994451Z"
    }
   },
   "outputs": [
    {
     "name": "stdout",
     "output_type": "stream",
     "text": [
      "SELECT TOP 20 coord_ra, coord_dec FROM dp02_dc2_catalogs.Object WHERE CONTAINS(POINT('ICRS', coord_ra, coord_dec), CIRCLE('ICRS', 62, -37, 0.01)) = 1 AND detect_isPrimary = 1 ORDER BY coord_ra ASC\n"
     ]
    }
   ],
   "source": [
    "query = \"SELECT TOP \" + str(N) + \" coord_ra, coord_dec \"\\\n",
    "        \"FROM dp02_dc2_catalogs.Object \"\\\n",
    "        \"WHERE CONTAINS(POINT('ICRS', coord_ra, coord_dec), \"\\\n",
    "        \"CIRCLE('ICRS', \" + str_center_coords + \", \" + str_radius + \")) = 1 \"\\\n",
    "        \"AND detect_isPrimary = 1 \"\\\n",
    "        \"ORDER BY coord_ra ASC\"\n",
    "print(query)"
   ]
  },
  {
   "cell_type": "markdown",
   "metadata": {
    "execution": {
     "iopub.execute_input": "2024-07-10T19:20:01.849536Z",
     "iopub.status.busy": "2024-07-10T19:20:01.848539Z",
     "iopub.status.idle": "2024-07-10T19:20:02.571184Z",
     "shell.execute_reply": "2024-07-10T19:20:02.570347Z",
     "shell.execute_reply.started": "2024-07-10T19:20:01.849499Z"
    }
   },
   "source": [
    "Run the job."
   ]
  },
  {
   "cell_type": "code",
   "execution_count": 46,
   "metadata": {
    "execution": {
     "iopub.execute_input": "2024-10-29T16:44:59.998289Z",
     "iopub.status.busy": "2024-10-29T16:44:59.998136Z",
     "iopub.status.idle": "2024-10-29T16:45:01.281734Z",
     "shell.execute_reply": "2024-10-29T16:45:01.281170Z",
     "shell.execute_reply.started": "2024-10-29T16:44:59.998276Z"
    }
   },
   "outputs": [
    {
     "name": "stdout",
     "output_type": "stream",
     "text": [
      "Job phase is COMPLETED\n"
     ]
    }
   ],
   "source": [
    "job = service.submit_job(query)\n",
    "job.run()\n",
    "job.wait(phases=['COMPLETED', 'ERROR'])\n",
    "print('Job phase is', job.phase)"
   ]
  },
  {
   "cell_type": "markdown",
   "metadata": {},
   "source": [
    "Retrieve the results."
   ]
  },
  {
   "cell_type": "code",
   "execution_count": 47,
   "metadata": {
    "execution": {
     "iopub.execute_input": "2024-10-29T16:45:01.282488Z",
     "iopub.status.busy": "2024-10-29T16:45:01.282322Z",
     "iopub.status.idle": "2024-10-29T16:45:01.389297Z",
     "shell.execute_reply": "2024-10-29T16:45:01.388729Z",
     "shell.execute_reply.started": "2024-10-29T16:45:01.282475Z"
    }
   },
   "outputs": [
    {
     "name": "stdout",
     "output_type": "stream",
     "text": [
      "20\n"
     ]
    }
   ],
   "source": [
    "results = job.fetch_result().to_table()\n",
    "print(len(results))"
   ]
  },
  {
   "cell_type": "markdown",
   "metadata": {},
   "source": [
    "Plot the results."
   ]
  },
  {
   "cell_type": "code",
   "execution_count": 48,
   "metadata": {
    "execution": {
     "iopub.execute_input": "2024-10-29T16:45:01.390095Z",
     "iopub.status.busy": "2024-10-29T16:45:01.389912Z",
     "iopub.status.idle": "2024-10-29T16:45:01.473508Z",
     "shell.execute_reply": "2024-10-29T16:45:01.472973Z",
     "shell.execute_reply.started": "2024-10-29T16:45:01.390080Z"
    }
   },
   "outputs": [
    {
     "data": {
      "image/png": "[encoded data removed]",
      "text/plain": [
       "<Figure size 400x400 with 1 Axes>"
      ]
     },
     "metadata": {},
     "output_type": "display_data"
    }
   ],
   "source": [
    "fig = plt.figure(figsize=(4, 4))\n",
    "region = SphericalCircle((center_ra * u.deg, center_dec * u.deg),\n",
    "                         radius * u.deg, alpha=0.2, color='blue')\n",
    "plt.gca().add_patch(region)\n",
    "plt.plot(results['coord_ra'], results['coord_dec'],\n",
    "         'o', alpha=0.5, color='black', mew=0)\n",
    "plt.xlabel('RA')\n",
    "plt.ylabel('Dec')\n",
    "plt.show()"
   ]
  },
  {
   "cell_type": "markdown",
   "metadata": {},
   "source": [
    "Figure 4: Similar to Figure 2, except the top 20 Objects returned (black dots) are all on the left-most edge of the blue circle, because they have the lowest RA values,\n",
    "and the query results were sorted by RA in ascending order before the top 20 were selected.\n",
    "\n",
    "Clean up."
   ]
  },
  {
   "cell_type": "code",
   "execution_count": 49,
   "metadata": {
    "execution": {
     "iopub.execute_input": "2024-10-29T16:45:01.474280Z",
     "iopub.status.busy": "2024-10-29T16:45:01.474101Z",
     "iopub.status.idle": "2024-10-29T16:45:01.512530Z",
     "shell.execute_reply": "2024-10-29T16:45:01.511820Z",
     "shell.execute_reply.started": "2024-10-29T16:45:01.474267Z"
    }
   },
   "outputs": [],
   "source": [
    "job.delete()\n",
    "del query, results"
   ]
  },
  {
   "cell_type": "markdown",
   "metadata": {},
   "source": [
    "### 3.6. Sort results with pandas\n",
    "\n",
    "The `pandas` package provides high-performance, easy-to-use data structures and data analysis tools for the Python programming language.\n",
    "TAP query results can be converted to `pandas` dataframes, and then `pandas` functionality (such as sorting) can be applied to the dataframe.\n",
    "\n",
    "Use the same query as above for a small, unsorted set of Objects."
   ]
  },
  {
   "cell_type": "code",
   "execution_count": 50,
   "metadata": {
    "execution": {
     "iopub.execute_input": "2024-10-29T16:45:01.513350Z",
     "iopub.status.busy": "2024-10-29T16:45:01.513183Z",
     "iopub.status.idle": "2024-10-29T16:45:01.516711Z",
     "shell.execute_reply": "2024-10-29T16:45:01.516201Z",
     "shell.execute_reply.started": "2024-10-29T16:45:01.513336Z"
    }
   },
   "outputs": [
    {
     "name": "stdout",
     "output_type": "stream",
     "text": [
      "SELECT coord_ra, coord_dec FROM dp02_dc2_catalogs.Object WHERE CONTAINS(POINT('ICRS', coord_ra, coord_dec), CIRCLE('ICRS', 62, -37, 0.01)) = 1 AND detect_isPrimary = 1\n"
     ]
    }
   ],
   "source": [
    "query = \"SELECT coord_ra, coord_dec \"\\\n",
    "        \"FROM dp02_dc2_catalogs.Object \"\\\n",
    "        \"WHERE CONTAINS(POINT('ICRS', coord_ra, coord_dec), \"\\\n",
    "        \"CIRCLE('ICRS', \" + str_center_coords + \", \" + str_radius + \")) = 1 \"\\\n",
    "        \"AND detect_isPrimary = 1\"\n",
    "print(query)"
   ]
  },
  {
   "cell_type": "markdown",
   "metadata": {},
   "source": [
    "Run the job."
   ]
  },
  {
   "cell_type": "code",
   "execution_count": 51,
   "metadata": {
    "execution": {
     "iopub.execute_input": "2024-10-29T16:45:01.517454Z",
     "iopub.status.busy": "2024-10-29T16:45:01.517277Z",
     "iopub.status.idle": "2024-10-29T16:45:04.794555Z",
     "shell.execute_reply": "2024-10-29T16:45:04.793981Z",
     "shell.execute_reply.started": "2024-10-29T16:45:01.517441Z"
    }
   },
   "outputs": [
    {
     "name": "stdout",
     "output_type": "stream",
     "text": [
      "Job phase is COMPLETED\n"
     ]
    }
   ],
   "source": [
    "job = service.submit_job(query)\n",
    "job.run()\n",
    "job.wait(phases=['COMPLETED', 'ERROR'])\n",
    "print('Job phase is', job.phase)"
   ]
  },
  {
   "cell_type": "markdown",
   "metadata": {},
   "source": [
    "Retrieve the results, and use the `to_pandas()` method to convert `results` to a `pandas` dataframe."
   ]
  },
  {
   "cell_type": "code",
   "execution_count": 52,
   "metadata": {
    "execution": {
     "iopub.execute_input": "2024-10-29T16:45:04.795332Z",
     "iopub.status.busy": "2024-10-29T16:45:04.795170Z",
     "iopub.status.idle": "2024-10-29T16:45:04.880918Z",
     "shell.execute_reply": "2024-10-29T16:45:04.880358Z",
     "shell.execute_reply.started": "2024-10-29T16:45:04.795318Z"
    }
   },
   "outputs": [
    {
     "name": "stdout",
     "output_type": "stream",
     "text": [
      "173\n"
     ]
    }
   ],
   "source": [
    "results = job.fetch_result().to_table().to_pandas()\n",
    "print(len(results))"
   ]
  },
  {
   "cell_type": "markdown",
   "metadata": {},
   "source": [
    "Print the type of `results` and see that it is a `pandas` dataframe."
   ]
  },
  {
   "cell_type": "code",
   "execution_count": 53,
   "metadata": {
    "execution": {
     "iopub.execute_input": "2024-10-29T16:45:04.881613Z",
     "iopub.status.busy": "2024-10-29T16:45:04.881456Z",
     "iopub.status.idle": "2024-10-29T16:45:04.884504Z",
     "shell.execute_reply": "2024-10-29T16:45:04.884018Z",
     "shell.execute_reply.started": "2024-10-29T16:45:04.881600Z"
    }
   },
   "outputs": [
    {
     "name": "stdout",
     "output_type": "stream",
     "text": [
      "<class 'pandas.core.frame.DataFrame'>\n"
     ]
    }
   ],
   "source": [
    "print(type(results))"
   ]
  },
  {
   "cell_type": "markdown",
   "metadata": {},
   "source": [
    "Display the results."
   ]
  },
  {
   "cell_type": "code",
   "execution_count": 54,
   "metadata": {
    "execution": {
     "iopub.execute_input": "2024-10-29T16:45:04.885288Z",
     "iopub.status.busy": "2024-10-29T16:45:04.885115Z",
     "iopub.status.idle": "2024-10-29T16:45:04.903868Z",
     "shell.execute_reply": "2024-10-29T16:45:04.903341Z",
     "shell.execute_reply.started": "2024-10-29T16:45:04.885276Z"
    }
   },
   "outputs": [
    {
     "data": {
      "text/html": [
       "<div>\n",
       "<style scoped>\n",
       "    .dataframe tbody tr th:only-of-type {\n",
       "        vertical-align: middle;\n",
       "    }\n",
       "\n",
       "    .dataframe tbody tr th {\n",
       "        vertical-align: top;\n",
       "    }\n",
       "\n",
       "    .dataframe thead th {\n",
       "        text-align: right;\n",
       "    }\n",
       "</style>\n",
       "<table border=\"1\" class=\"dataframe\">\n",
       "  <thead>\n",
       "    <tr style=\"text-align: right;\">\n",
       "      <th></th>\n",
       "      <th>coord_ra</th>\n",
       "      <th>coord_dec</th>\n",
       "    </tr>\n",
       "  </thead>\n",
       "  <tbody>\n",
       "    <tr>\n",
       "      <th>0</th>\n",
       "      <td>61.989258</td>\n",
       "      <td>-37.005119</td>\n",
       "    </tr>\n",
       "    <tr>\n",
       "      <th>1</th>\n",
       "      <td>61.997438</td>\n",
       "      <td>-37.005796</td>\n",
       "    </tr>\n",
       "    <tr>\n",
       "      <th>2</th>\n",
       "      <td>62.003285</td>\n",
       "      <td>-37.006248</td>\n",
       "    </tr>\n",
       "    <tr>\n",
       "      <th>3</th>\n",
       "      <td>61.998238</td>\n",
       "      <td>-37.007123</td>\n",
       "    </tr>\n",
       "    <tr>\n",
       "      <th>4</th>\n",
       "      <td>62.003341</td>\n",
       "      <td>-37.002536</td>\n",
       "    </tr>\n",
       "    <tr>\n",
       "      <th>...</th>\n",
       "      <td>...</td>\n",
       "      <td>...</td>\n",
       "    </tr>\n",
       "    <tr>\n",
       "      <th>168</th>\n",
       "      <td>61.990251</td>\n",
       "      <td>-36.996347</td>\n",
       "    </tr>\n",
       "    <tr>\n",
       "      <th>169</th>\n",
       "      <td>61.989260</td>\n",
       "      <td>-36.995563</td>\n",
       "    </tr>\n",
       "    <tr>\n",
       "      <th>170</th>\n",
       "      <td>61.990184</td>\n",
       "      <td>-36.995566</td>\n",
       "    </tr>\n",
       "    <tr>\n",
       "      <th>171</th>\n",
       "      <td>61.992685</td>\n",
       "      <td>-36.998426</td>\n",
       "    </tr>\n",
       "    <tr>\n",
       "      <th>172</th>\n",
       "      <td>61.992210</td>\n",
       "      <td>-36.998456</td>\n",
       "    </tr>\n",
       "  </tbody>\n",
       "</table>\n",
       "<p>173 rows × 2 columns</p>\n",
       "</div>"
      ],
      "text/plain": [
       "      coord_ra  coord_dec\n",
       "0    61.989258 -37.005119\n",
       "1    61.997438 -37.005796\n",
       "2    62.003285 -37.006248\n",
       "3    61.998238 -37.007123\n",
       "4    62.003341 -37.002536\n",
       "..         ...        ...\n",
       "168  61.990251 -36.996347\n",
       "169  61.989260 -36.995563\n",
       "170  61.990184 -36.995566\n",
       "171  61.992685 -36.998426\n",
       "172  61.992210 -36.998456\n",
       "\n",
       "[173 rows x 2 columns]"
      ]
     },
     "execution_count": 54,
     "metadata": {},
     "output_type": "execute_result"
    }
   ],
   "source": [
    "results"
   ]
  },
  {
   "cell_type": "markdown",
   "metadata": {},
   "source": [
    "In general, the order of results from TAP queries cannot be assumed to be the same every time,\n",
    "and they will not necessarily be sorted unless `ORDER BY` has been used in the query statement.\n",
    "\n",
    "Use the `pandas` method `sort_values` to sort the dataframe by `coord_ra`, save it as a new\n",
    "dataframe named `sorted_results`, and display the new sorted dataframe."
   ]
  },
  {
   "cell_type": "code",
   "execution_count": 55,
   "metadata": {
    "execution": {
     "iopub.execute_input": "2024-10-29T16:45:04.904641Z",
     "iopub.status.busy": "2024-10-29T16:45:04.904470Z",
     "iopub.status.idle": "2024-10-29T16:45:04.913452Z",
     "shell.execute_reply": "2024-10-29T16:45:04.912860Z",
     "shell.execute_reply.started": "2024-10-29T16:45:04.904627Z"
    }
   },
   "outputs": [],
   "source": [
    "sorted_results = results.sort_values('coord_ra')"
   ]
  },
  {
   "cell_type": "code",
   "execution_count": 56,
   "metadata": {
    "execution": {
     "iopub.execute_input": "2024-10-29T16:45:04.914188Z",
     "iopub.status.busy": "2024-10-29T16:45:04.914016Z",
     "iopub.status.idle": "2024-10-29T16:45:04.930335Z",
     "shell.execute_reply": "2024-10-29T16:45:04.929847Z",
     "shell.execute_reply.started": "2024-10-29T16:45:04.914175Z"
    }
   },
   "outputs": [
    {
     "data": {
      "text/html": [
       "<div>\n",
       "<style scoped>\n",
       "    .dataframe tbody tr th:only-of-type {\n",
       "        vertical-align: middle;\n",
       "    }\n",
       "\n",
       "    .dataframe tbody tr th {\n",
       "        vertical-align: top;\n",
       "    }\n",
       "\n",
       "    .dataframe thead th {\n",
       "        text-align: right;\n",
       "    }\n",
       "</style>\n",
       "<table border=\"1\" class=\"dataframe\">\n",
       "  <thead>\n",
       "    <tr style=\"text-align: right;\">\n",
       "      <th></th>\n",
       "      <th>coord_ra</th>\n",
       "      <th>coord_dec</th>\n",
       "    </tr>\n",
       "  </thead>\n",
       "  <tbody>\n",
       "    <tr>\n",
       "      <th>161</th>\n",
       "      <td>61.988079</td>\n",
       "      <td>-36.999024</td>\n",
       "    </tr>\n",
       "    <tr>\n",
       "      <th>164</th>\n",
       "      <td>61.988408</td>\n",
       "      <td>-36.998968</td>\n",
       "    </tr>\n",
       "    <tr>\n",
       "      <th>154</th>\n",
       "      <td>61.988546</td>\n",
       "      <td>-36.997821</td>\n",
       "    </tr>\n",
       "    <tr>\n",
       "      <th>165</th>\n",
       "      <td>61.988612</td>\n",
       "      <td>-37.001517</td>\n",
       "    </tr>\n",
       "    <tr>\n",
       "      <th>0</th>\n",
       "      <td>61.989258</td>\n",
       "      <td>-37.005119</td>\n",
       "    </tr>\n",
       "    <tr>\n",
       "      <th>...</th>\n",
       "      <td>...</td>\n",
       "      <td>...</td>\n",
       "    </tr>\n",
       "    <tr>\n",
       "      <th>82</th>\n",
       "      <td>62.010771</td>\n",
       "      <td>-36.998845</td>\n",
       "    </tr>\n",
       "    <tr>\n",
       "      <th>79</th>\n",
       "      <td>62.010843</td>\n",
       "      <td>-36.999844</td>\n",
       "    </tr>\n",
       "    <tr>\n",
       "      <th>98</th>\n",
       "      <td>62.010987</td>\n",
       "      <td>-36.996173</td>\n",
       "    </tr>\n",
       "    <tr>\n",
       "      <th>97</th>\n",
       "      <td>62.011207</td>\n",
       "      <td>-36.997063</td>\n",
       "    </tr>\n",
       "    <tr>\n",
       "      <th>128</th>\n",
       "      <td>62.012241</td>\n",
       "      <td>-36.999059</td>\n",
       "    </tr>\n",
       "  </tbody>\n",
       "</table>\n",
       "<p>173 rows × 2 columns</p>\n",
       "</div>"
      ],
      "text/plain": [
       "      coord_ra  coord_dec\n",
       "161  61.988079 -36.999024\n",
       "164  61.988408 -36.998968\n",
       "154  61.988546 -36.997821\n",
       "165  61.988612 -37.001517\n",
       "0    61.989258 -37.005119\n",
       "..         ...        ...\n",
       "82   62.010771 -36.998845\n",
       "79   62.010843 -36.999844\n",
       "98   62.010987 -36.996173\n",
       "97   62.011207 -36.997063\n",
       "128  62.012241 -36.999059\n",
       "\n",
       "[173 rows x 2 columns]"
      ]
     },
     "execution_count": 56,
     "metadata": {},
     "output_type": "execute_result"
    }
   ],
   "source": [
    "sorted_results"
   ]
  },
  {
   "cell_type": "markdown",
   "metadata": {},
   "source": [
    "Notice that the index values did not update, and are not in the order of the sorted dataframe.\n",
    "\n",
    "To reset the index, use the `pandas` method `set_index` to reset the index of the `sorted_results` dataframe."
   ]
  },
  {
   "cell_type": "code",
   "execution_count": 57,
   "metadata": {
    "execution": {
     "iopub.execute_input": "2024-10-29T16:45:04.931094Z",
     "iopub.status.busy": "2024-10-29T16:45:04.930920Z",
     "iopub.status.idle": "2024-10-29T16:45:04.943381Z",
     "shell.execute_reply": "2024-10-29T16:45:04.942852Z",
     "shell.execute_reply.started": "2024-10-29T16:45:04.931081Z"
    }
   },
   "outputs": [],
   "source": [
    "sorted_results.set_index(np.array(range(len(sorted_results))), inplace=True)"
   ]
  },
  {
   "cell_type": "code",
   "execution_count": 58,
   "metadata": {
    "execution": {
     "iopub.execute_input": "2024-10-29T16:45:04.944091Z",
     "iopub.status.busy": "2024-10-29T16:45:04.943944Z",
     "iopub.status.idle": "2024-10-29T16:45:04.960076Z",
     "shell.execute_reply": "2024-10-29T16:45:04.959547Z",
     "shell.execute_reply.started": "2024-10-29T16:45:04.944078Z"
    }
   },
   "outputs": [
    {
     "data": {
      "text/html": [
       "<div>\n",
       "<style scoped>\n",
       "    .dataframe tbody tr th:only-of-type {\n",
       "        vertical-align: middle;\n",
       "    }\n",
       "\n",
       "    .dataframe tbody tr th {\n",
       "        vertical-align: top;\n",
       "    }\n",
       "\n",
       "    .dataframe thead th {\n",
       "        text-align: right;\n",
       "    }\n",
       "</style>\n",
       "<table border=\"1\" class=\"dataframe\">\n",
       "  <thead>\n",
       "    <tr style=\"text-align: right;\">\n",
       "      <th></th>\n",
       "      <th>coord_ra</th>\n",
       "      <th>coord_dec</th>\n",
       "    </tr>\n",
       "  </thead>\n",
       "  <tbody>\n",
       "    <tr>\n",
       "      <th>0</th>\n",
       "      <td>61.988079</td>\n",
       "      <td>-36.999024</td>\n",
       "    </tr>\n",
       "    <tr>\n",
       "      <th>1</th>\n",
       "      <td>61.988408</td>\n",
       "      <td>-36.998968</td>\n",
       "    </tr>\n",
       "    <tr>\n",
       "      <th>2</th>\n",
       "      <td>61.988546</td>\n",
       "      <td>-36.997821</td>\n",
       "    </tr>\n",
       "    <tr>\n",
       "      <th>3</th>\n",
       "      <td>61.988612</td>\n",
       "      <td>-37.001517</td>\n",
       "    </tr>\n",
       "    <tr>\n",
       "      <th>4</th>\n",
       "      <td>61.989258</td>\n",
       "      <td>-37.005119</td>\n",
       "    </tr>\n",
       "    <tr>\n",
       "      <th>...</th>\n",
       "      <td>...</td>\n",
       "      <td>...</td>\n",
       "    </tr>\n",
       "    <tr>\n",
       "      <th>168</th>\n",
       "      <td>62.010771</td>\n",
       "      <td>-36.998845</td>\n",
       "    </tr>\n",
       "    <tr>\n",
       "      <th>169</th>\n",
       "      <td>62.010843</td>\n",
       "      <td>-36.999844</td>\n",
       "    </tr>\n",
       "    <tr>\n",
       "      <th>170</th>\n",
       "      <td>62.010987</td>\n",
       "      <td>-36.996173</td>\n",
       "    </tr>\n",
       "    <tr>\n",
       "      <th>171</th>\n",
       "      <td>62.011207</td>\n",
       "      <td>-36.997063</td>\n",
       "    </tr>\n",
       "    <tr>\n",
       "      <th>172</th>\n",
       "      <td>62.012241</td>\n",
       "      <td>-36.999059</td>\n",
       "    </tr>\n",
       "  </tbody>\n",
       "</table>\n",
       "<p>173 rows × 2 columns</p>\n",
       "</div>"
      ],
      "text/plain": [
       "      coord_ra  coord_dec\n",
       "0    61.988079 -36.999024\n",
       "1    61.988408 -36.998968\n",
       "2    61.988546 -36.997821\n",
       "3    61.988612 -37.001517\n",
       "4    61.989258 -37.005119\n",
       "..         ...        ...\n",
       "168  62.010771 -36.998845\n",
       "169  62.010843 -36.999844\n",
       "170  62.010987 -36.996173\n",
       "171  62.011207 -36.997063\n",
       "172  62.012241 -36.999059\n",
       "\n",
       "[173 rows x 2 columns]"
      ]
     },
     "execution_count": 58,
     "metadata": {},
     "output_type": "execute_result"
    }
   ],
   "source": [
    "sorted_results"
   ]
  },
  {
   "cell_type": "markdown",
   "metadata": {},
   "source": [
    "Clean up."
   ]
  },
  {
   "cell_type": "code",
   "execution_count": 59,
   "metadata": {
    "execution": {
     "iopub.execute_input": "2024-10-29T16:45:04.960777Z",
     "iopub.status.busy": "2024-10-29T16:45:04.960627Z",
     "iopub.status.idle": "2024-10-29T16:45:05.010979Z",
     "shell.execute_reply": "2024-10-29T16:45:05.010449Z",
     "shell.execute_reply.started": "2024-10-29T16:45:04.960763Z"
    }
   },
   "outputs": [],
   "source": [
    "job.delete()\n",
    "del query, results, sorted_results"
   ]
  },
  {
   "cell_type": "markdown",
   "metadata": {},
   "source": [
    "## 4. Retrieve query results with job URL\n",
    "\n",
    "Job results are generally available from previously run queries,\n",
    "and can be retrieved if the URL of the job is known _and_ if the job\n",
    "has not been deleted.\n",
    "\n",
    "Do not use `job.delete()` if the results will be retrieved later!\n",
    "\n",
    "First, execute the same query as used above."
   ]
  },
  {
   "cell_type": "code",
   "execution_count": 60,
   "metadata": {
    "execution": {
     "iopub.execute_input": "2024-10-29T16:45:05.011854Z",
     "iopub.status.busy": "2024-10-29T16:45:05.011668Z",
     "iopub.status.idle": "2024-10-29T16:45:06.287837Z",
     "shell.execute_reply": "2024-10-29T16:45:06.287265Z",
     "shell.execute_reply.started": "2024-10-29T16:45:05.011838Z"
    }
   },
   "outputs": [
    {
     "name": "stdout",
     "output_type": "stream",
     "text": [
      "SELECT coord_ra, coord_dec FROM dp02_dc2_catalogs.Object WHERE CONTAINS(POINT('ICRS', coord_ra, coord_dec), CIRCLE('ICRS', 62, -37, 0.01)) = 1 AND detect_isPrimary = 1\n",
      "Job phase is COMPLETED\n"
     ]
    }
   ],
   "source": [
    "query = \"SELECT coord_ra, coord_dec \"\\\n",
    "        \"FROM dp02_dc2_catalogs.Object \"\\\n",
    "        \"WHERE CONTAINS(POINT('ICRS', coord_ra, coord_dec), \"\\\n",
    "        \"CIRCLE('ICRS', \" + str_center_coords + \", \" + str_radius + \")) = 1 \"\\\n",
    "        \"AND detect_isPrimary = 1\"\n",
    "print(query)\n",
    "\n",
    "job = service.submit_job(query)\n",
    "job.run()\n",
    "job.wait(phases=['COMPLETED', 'ERROR'])\n",
    "print('Job phase is', job.phase)"
   ]
  },
  {
   "cell_type": "markdown",
   "metadata": {},
   "source": [
    "Instead of using `job.fetch_result()`, store the `job.url` as `my_job_url` and print it."
   ]
  },
  {
   "cell_type": "code",
   "execution_count": 61,
   "metadata": {
    "execution": {
     "iopub.execute_input": "2024-10-29T16:45:06.288533Z",
     "iopub.status.busy": "2024-10-29T16:45:06.288381Z",
     "iopub.status.idle": "2024-10-29T16:45:06.291661Z",
     "shell.execute_reply": "2024-10-29T16:45:06.291137Z",
     "shell.execute_reply.started": "2024-10-29T16:45:06.288520Z"
    }
   },
   "outputs": [
    {
     "name": "stdout",
     "output_type": "stream",
     "text": [
      "https://data-int.lsst.cloud/api/tap/async/t1o9lkayll9essyw\n"
     ]
    }
   ],
   "source": [
    "my_job_url = str(job.url)\n",
    "print(my_job_url)"
   ]
  },
  {
   "cell_type": "markdown",
   "metadata": {},
   "source": [
    "This URL can be used to retrieve the query results.\n",
    "\n",
    "The URL could be shared with another user of the Rubin TAP service, and they could retrieve the same results.\n",
    "\n",
    "Retrieve the job by passing `my_job_url` to `retrieve_query`, then retrieve the results with `fetch_result()`."
   ]
  },
  {
   "cell_type": "code",
   "execution_count": 62,
   "metadata": {
    "execution": {
     "iopub.execute_input": "2024-10-29T16:45:06.296159Z",
     "iopub.status.busy": "2024-10-29T16:45:06.295975Z",
     "iopub.status.idle": "2024-10-29T16:45:06.507306Z",
     "shell.execute_reply": "2024-10-29T16:45:06.506719Z",
     "shell.execute_reply.started": "2024-10-29T16:45:06.296143Z"
    }
   },
   "outputs": [],
   "source": [
    "retrieved_job = retrieve_query(my_job_url)\n",
    "retrieved_results = retrieved_job.fetch_result().to_table().to_pandas()"
   ]
  },
  {
   "cell_type": "code",
   "execution_count": 63,
   "metadata": {
    "execution": {
     "iopub.execute_input": "2024-10-29T16:45:06.508006Z",
     "iopub.status.busy": "2024-10-29T16:45:06.507831Z",
     "iopub.status.idle": "2024-10-29T16:45:06.514625Z",
     "shell.execute_reply": "2024-10-29T16:45:06.514153Z",
     "shell.execute_reply.started": "2024-10-29T16:45:06.507993Z"
    },
    "tags": []
   },
   "outputs": [
    {
     "data": {
      "text/html": [
       "<div>\n",
       "<style scoped>\n",
       "    .dataframe tbody tr th:only-of-type {\n",
       "        vertical-align: middle;\n",
       "    }\n",
       "\n",
       "    .dataframe tbody tr th {\n",
       "        vertical-align: top;\n",
       "    }\n",
       "\n",
       "    .dataframe thead th {\n",
       "        text-align: right;\n",
       "    }\n",
       "</style>\n",
       "<table border=\"1\" class=\"dataframe\">\n",
       "  <thead>\n",
       "    <tr style=\"text-align: right;\">\n",
       "      <th></th>\n",
       "      <th>coord_ra</th>\n",
       "      <th>coord_dec</th>\n",
       "    </tr>\n",
       "  </thead>\n",
       "  <tbody>\n",
       "    <tr>\n",
       "      <th>0</th>\n",
       "      <td>61.989258</td>\n",
       "      <td>-37.005119</td>\n",
       "    </tr>\n",
       "    <tr>\n",
       "      <th>1</th>\n",
       "      <td>61.997438</td>\n",
       "      <td>-37.005796</td>\n",
       "    </tr>\n",
       "    <tr>\n",
       "      <th>2</th>\n",
       "      <td>62.003285</td>\n",
       "      <td>-37.006248</td>\n",
       "    </tr>\n",
       "    <tr>\n",
       "      <th>3</th>\n",
       "      <td>61.998238</td>\n",
       "      <td>-37.007123</td>\n",
       "    </tr>\n",
       "    <tr>\n",
       "      <th>4</th>\n",
       "      <td>62.003341</td>\n",
       "      <td>-37.002536</td>\n",
       "    </tr>\n",
       "    <tr>\n",
       "      <th>...</th>\n",
       "      <td>...</td>\n",
       "      <td>...</td>\n",
       "    </tr>\n",
       "    <tr>\n",
       "      <th>168</th>\n",
       "      <td>61.990251</td>\n",
       "      <td>-36.996347</td>\n",
       "    </tr>\n",
       "    <tr>\n",
       "      <th>169</th>\n",
       "      <td>61.989260</td>\n",
       "      <td>-36.995563</td>\n",
       "    </tr>\n",
       "    <tr>\n",
       "      <th>170</th>\n",
       "      <td>61.990184</td>\n",
       "      <td>-36.995566</td>\n",
       "    </tr>\n",
       "    <tr>\n",
       "      <th>171</th>\n",
       "      <td>61.992685</td>\n",
       "      <td>-36.998426</td>\n",
       "    </tr>\n",
       "    <tr>\n",
       "      <th>172</th>\n",
       "      <td>61.992210</td>\n",
       "      <td>-36.998456</td>\n",
       "    </tr>\n",
       "  </tbody>\n",
       "</table>\n",
       "<p>173 rows × 2 columns</p>\n",
       "</div>"
      ],
      "text/plain": [
       "      coord_ra  coord_dec\n",
       "0    61.989258 -37.005119\n",
       "1    61.997438 -37.005796\n",
       "2    62.003285 -37.006248\n",
       "3    61.998238 -37.007123\n",
       "4    62.003341 -37.002536\n",
       "..         ...        ...\n",
       "168  61.990251 -36.996347\n",
       "169  61.989260 -36.995563\n",
       "170  61.990184 -36.995566\n",
       "171  61.992685 -36.998426\n",
       "172  61.992210 -36.998456\n",
       "\n",
       "[173 rows x 2 columns]"
      ]
     },
     "execution_count": 63,
     "metadata": {},
     "output_type": "execute_result"
    }
   ],
   "source": [
    "retrieved_results"
   ]
  },
  {
   "cell_type": "markdown",
   "metadata": {},
   "source": [
    "Clean up."
   ]
  },
  {
   "cell_type": "code",
   "execution_count": 64,
   "metadata": {
    "execution": {
     "iopub.execute_input": "2024-10-29T16:45:06.515343Z",
     "iopub.status.busy": "2024-10-29T16:45:06.515185Z",
     "iopub.status.idle": "2024-10-29T16:45:06.564108Z",
     "shell.execute_reply": "2024-10-29T16:45:06.563546Z",
     "shell.execute_reply.started": "2024-10-29T16:45:06.515329Z"
    }
   },
   "outputs": [],
   "source": [
    "job.delete()\n",
    "del query, retrieved_results"
   ]
  },
  {
   "cell_type": "markdown",
   "metadata": {},
   "source": [
    "### 4.1. Retrieve results from a Portal query\n",
    "\n",
    "It is also possible to retrieve the results of queries executed in the Portal Aspect of the Rubin Science Platform."
   ]
  },
  {
   "cell_type": "markdown",
   "metadata": {},
   "source": [
    "#### 4.1.1. Run an ADQL query in the Portal\n",
    "\n",
    "In a new browser tab, go to <a href=\"https://data.lsst.cloud/\">data.lsst.cloud</a> and enter the Portal Aspect.\n",
    "\n",
    "Click on the tab \"DP0.2 Catalogs\" at the top of the screen.\n",
    "\n",
    "Click \"Edit ADQL\" at upper right.\n",
    "\n",
    "Copy-paste the following query into the ADQL box as shown in the screenshot below.\n",
    "\n",
    "```\n",
    "SELECT coord_ra, coord_dec FROM dp02_dc2_catalogs.Object\n",
    "WHERE CONTAINS(POINT('ICRS', coord_ra, coord_dec), CIRCLE('ICRS', 62, -37, 0.01)) = 1\n",
    "AND detect_isPrimary = 1\n",
    "```\n",
    "\n",
    "<img src=\"data/DP02_02a_S4_fig1.png\" width=700>\n",
    "\n",
    "Figure 5: A screenshot of the Portal's ADQL interface, with the query statement copied in.\n",
    "\n",
    "Click \"Search\" in the lower left corner of the Portal."
   ]
  },
  {
   "cell_type": "markdown",
   "metadata": {},
   "source": [
    "#### 4.1.2. Get the job URL from the Portal\n",
    "\n",
    "The default results view will appear as in the screenshot below.\n",
    "\n",
    "<img src=\"data/DP02_02a_S4_fig2.png\" width=700>\n",
    "\n",
    "Figure 6: A screenshot of the Portal's results view for the ADQL query in Figure 5.\n",
    "\n",
    "The search results have been automatically saved and assigned a URL.\n",
    "\n",
    "Click on the \"Info\" button (the letter i in a circle),\n",
    "which is in the upper right-hand corner of the table (bottom of the screen).\n",
    "\n",
    "The pop-up window contains the URL (the Job Link).\n",
    "\n",
    "<img src=\"data/DP02_02a_S4_fig3.png\" width=500>\n",
    "\n",
    "Figure 7: A screenshot of the table information, including the Job URL."
   ]
  },
  {
   "cell_type": "markdown",
   "metadata": {},
   "source": [
    "#### 4.1.3. Retrieve the results\n",
    "\n",
    "Follow the instructions above to create a new URL.\n",
    "\n",
    "> **Warning:** Using the job URL in the screenshot above will not work, it has expired.\n",
    "\n",
    "Copy the newly created URL into the empty quotes below to define `my_portal_url`.\n",
    "\n",
    "Uncomment and execute the following cells to obtain the results of \n",
    "the Portal query here in the Notebook."
   ]
  },
  {
   "cell_type": "code",
   "execution_count": 65,
   "metadata": {
    "execution": {
     "iopub.execute_input": "2024-10-29T16:45:06.564792Z",
     "iopub.status.busy": "2024-10-29T16:45:06.564638Z",
     "iopub.status.idle": "2024-10-29T16:45:06.567271Z",
     "shell.execute_reply": "2024-10-29T16:45:06.566787Z",
     "shell.execute_reply.started": "2024-10-29T16:45:06.564778Z"
    },
    "tags": []
   },
   "outputs": [],
   "source": [
    "# my_portal_url = ''\n",
    "# retrieved_job = retrieve_query(my_portal_url)\n",
    "# retrieved_results = retrieved_job.fetch_result().to_table().to_pandas()"
   ]
  },
  {
   "cell_type": "code",
   "execution_count": 66,
   "metadata": {
    "execution": {
     "iopub.execute_input": "2024-10-29T16:45:06.567925Z",
     "iopub.status.busy": "2024-10-29T16:45:06.567755Z",
     "iopub.status.idle": "2024-10-29T16:45:06.579832Z",
     "shell.execute_reply": "2024-10-29T16:45:06.579296Z",
     "shell.execute_reply.started": "2024-10-29T16:45:06.567911Z"
    }
   },
   "outputs": [],
   "source": [
    "# retrieved_results"
   ]
  },
  {
   "cell_type": "markdown",
   "metadata": {},
   "source": [
    "Delete the retrieved job and clean up."
   ]
  },
  {
   "cell_type": "code",
   "execution_count": 67,
   "metadata": {
    "execution": {
     "iopub.execute_input": "2024-10-29T16:45:06.580533Z",
     "iopub.status.busy": "2024-10-29T16:45:06.580381Z",
     "iopub.status.idle": "2024-10-29T16:45:06.593033Z",
     "shell.execute_reply": "2024-10-29T16:45:06.592402Z",
     "shell.execute_reply.started": "2024-10-29T16:45:06.580520Z"
    }
   },
   "outputs": [],
   "source": [
    "# retrieved_job.delete()\n",
    "# del retrieved_results"
   ]
  },
  {
   "cell_type": "code",
   "execution_count": null,
   "metadata": {},
   "outputs": [],
   "source": []
  }
 ],
 "metadata": {
  "kernelspec": {
   "display_name": "LSST",
   "language": "python",
   "name": "lsst"
  },
  "language_info": {
   "codemirror_mode": {
    "name": "ipython",
    "version": 3
   },
   "file_extension": ".py",
   "mimetype": "text/x-python",
   "name": "python",
   "nbconvert_exporter": "python",
   "pygments_lexer": "ipython3",
   "version": "3.11.9"
  }
 },
 "nbformat": 4,
 "nbformat_minor": 4
}
