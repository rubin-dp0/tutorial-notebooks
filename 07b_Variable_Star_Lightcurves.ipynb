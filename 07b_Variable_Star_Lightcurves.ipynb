{
 "cells": [
  {
   "cell_type": "markdown",
   "id": "749b0ddf",
   "metadata": {},
   "source": [
    "<img align=\"left\" src = https://project.lsst.org/sites/default/files/Rubin-O-Logo_0.png width=250 style=\"padding: 10px\"> \n",
    "<br>\n",
    "<b>Variable Stars in DP0.2</b> <br>\n",
    "Contact author(s): Jeff Carlin <br>\n",
    "Last verified to run: 2022-09-29 <br>\n",
    "LSST Science Piplines version: Weekly 2022_40 <br>\n",
    "Container Size: medium <br>\n",
    "Targeted learning level: intermediate <br>"
   ]
  },
  {
   "cell_type": "markdown",
   "id": "9da1a210-d858-42fe-8591-570965b8be1a",
   "metadata": {},
   "source": [
    "**Description:** Use various catalogs to identify variable stars and plot their lightcurves."
   ]
  },
  {
   "cell_type": "markdown",
   "id": "80a0baf5-51ad-40ec-8991-060a7b27c289",
   "metadata": {},
   "source": [
    "**Skills:** Use various TAP tables, including joining multiple tables. Extract time-series photometry. Measure periods and plot phased lightcurves."
   ]
  },
  {
   "cell_type": "markdown",
   "id": "393da88f-7978-4920-aa4a-a9830df6eed9",
   "metadata": {},
   "source": [
    "**LSST Data Products:** TAP tables dp02_dc2_catalogs.Object, ForcedSource, CcdVisit, DiaObject, DiaSource"
   ]
  },
  {
   "cell_type": "markdown",
   "id": "5c67fab9-136a-4adc-bb42-142b91ab69dd",
   "metadata": {},
   "source": [
    "**Packages:** numpy, matplotlib, astropy.units, astropy.coordinates, astropy.io.fits, astropy.timeseries.LombScargle, lsst.rsp.get_tap_service"
   ]
  },
  {
   "cell_type": "markdown",
   "id": "8f72b27f",
   "metadata": {},
   "source": [
    "**Credit:** Originally developed by Jeff Carlin and the Community Engagement Team for Rubin Data Preview 0, with improvements contributed by Bob Abel."
   ]
  },
  {
   "cell_type": "markdown",
   "id": "28e91cbf-ab7f-4e26-9276-b00299d6065e",
   "metadata": {},
   "source": [
    "**Get Support:**\n",
    "Find DP0-related documentation and resources at <a href=\"https://dp0-2.lsst.io\">dp0-2.lsst.io</a>. Questions are welcome as new topics in the <a href=\"https://community.lsst.org/c/support/dp0\">Support - Data Preview 0 Category</a> of the Rubin Community Forum. Rubin staff will respond to all questions posted there."
   ]
  },
  {
   "cell_type": "markdown",
   "id": "cfc73be0",
   "metadata": {},
   "source": [
    "## 1. Introduction\n",
    "\n",
    "This notebook demonstrates use of the TAP service to query the time-domain data products at the location of a known RR Lyrae variable star.\n",
    "The photometry is retrieved from the ForcedSource table, and a Lomb-Scargle periodogram is used to identify the period and phase-fold the time-series photometry.\n",
    "A phase-folded lightcurve is then displayed for the single RR Lyrae.\n",
    "\n",
    "This notebook also demonstrates use of the TAP service, and in particular the lightcurve summary statistic parameters available in the DiaObjects table, to identify a sample of likely RR Lyrae from the DP0.2 data set."
   ]
  },
  {
   "cell_type": "markdown",
   "id": "dc36f107",
   "metadata": {},
   "source": [
    "### 1.1 Package Imports"
   ]
  },
  {
   "cell_type": "code",
   "execution_count": null,
   "id": "cddc1458",
   "metadata": {},
   "outputs": [],
   "source": [
    "# General\n",
    "import numpy as np\n",
    "import matplotlib.pyplot as plt\n",
    "plt.style.use('tableau-colorblind10')\n",
    "\n",
    "# Astropy\n",
    "import astropy.units as u\n",
    "from astropy.timeseries import LombScargle\n",
    "\n",
    "# LSST package for TAP queries\n",
    "from lsst.rsp import get_tap_service"
   ]
  },
  {
   "cell_type": "markdown",
   "id": "c217adff-25ed-4fce-95e7-8aa04630f6cc",
   "metadata": {},
   "source": [
    "### 1.2 Define Functions and Parameters"
   ]
  },
  {
   "cell_type": "markdown",
   "id": "3d73ba11-2562-4f7b-afa3-71f17f61d0a0",
   "metadata": {},
   "source": [
    "Set up some plotting defaults so plots will look nice:"
   ]
  },
  {
   "cell_type": "code",
   "execution_count": null,
   "id": "211857a3-2f55-47e5-9d9d-4a9462b71fcd",
   "metadata": {},
   "outputs": [],
   "source": [
    "%matplotlib inline\n",
    "\n",
    "params = {'axes.labelsize': 24,\n",
    "          'font.size': 20,\n",
    "          'legend.fontsize': 14,\n",
    "          'xtick.major.width': 3,\n",
    "          'xtick.minor.width': 2,\n",
    "          'xtick.major.size': 12,\n",
    "          'xtick.minor.size': 6,\n",
    "          'xtick.direction': 'in',\n",
    "          'xtick.top': True,\n",
    "          'lines.linewidth': 3,\n",
    "          'axes.linewidth': 3,\n",
    "          'axes.labelweight': 3,\n",
    "          'axes.titleweight': 3,\n",
    "          'ytick.major.width': 3,\n",
    "          'ytick.minor.width': 2,\n",
    "          'ytick.major.size': 12,\n",
    "          'ytick.minor.size': 6,\n",
    "          'ytick.direction': 'in',\n",
    "          'ytick.right': True,\n",
    "          'figure.figsize': [10, 8],\n",
    "          'figure.facecolor': 'White'\n",
    "          }\n",
    "\n",
    "plt.rcParams.update(params)"
   ]
  },
  {
   "cell_type": "markdown",
   "id": "3ca0486a-f9e7-4657-bfb2-ab2b4dcb3664",
   "metadata": {},
   "source": [
    "Set up colors and plot symbols corresponding to the _ugrizy_ bands. These colors are the same as those used for _ugrizy_ bands in Dark Energy Survey (DES) publications, and are defined in <a href=\"https://github.com/DarkEnergySurvey/descolors\">this github repository</a>."
   ]
  },
  {
   "cell_type": "code",
   "execution_count": null,
   "id": "92849209-8afe-4039-b891-c9c27b123e8c",
   "metadata": {},
   "outputs": [],
   "source": [
    "plot_filter_labels = ['u', 'g', 'r', 'i', 'z', 'y']\n",
    "plot_filter_colors = {'u': '#56b4e9', 'g': '#008060', 'r': '#ff4000',\n",
    "                      'i': '#850000', 'z': '#6600cc', 'y': '#000000'}\n",
    "plot_filter_symbols = {'u': 'o', 'g': '^', 'r': 'v', 'i': 's', 'z': '*', 'y': 'p'}"
   ]
  },
  {
   "cell_type": "markdown",
   "id": "abc01243-805d-4b6d-b0f8-a35c51aa8b9a",
   "metadata": {},
   "source": [
    "Start the TAP service, which we will use for all data retrieval in this notebook:"
   ]
  },
  {
   "cell_type": "code",
   "execution_count": null,
   "id": "be13f623-0505-4243-a9ad-8846c6729547",
   "metadata": {},
   "outputs": [],
   "source": [
    "service = get_tap_service()"
   ]
  },
  {
   "cell_type": "markdown",
   "id": "ec51ac0b",
   "metadata": {
    "tags": []
   },
   "source": [
    "## 2. Create a Lightcurve for a Known RR Lyrae Variable\n",
    "\n",
    "To start out, we will use a star that is known (from the DC2 truth tables) to be a simulated RR Lyrae star in DC2. This will help us get our feet wet at extracting time-series data and manipulating them.\n",
    "\n"
   ]
  },
  {
   "cell_type": "markdown",
   "id": "ff55f19f-452e-496a-a644-463d9e86bc56",
   "metadata": {},
   "source": [
    "### 2.1 Extract Forced Photometry Measurements for a Pulsating Variable\n",
    "\n",
    "The known RR Lyrae star we will use is at position (RA, Dec) = (62.1479031, -35.799138) degrees. We will initially look for this star in the `Object` table to identify its `objectId`. Then we will use this `objectId` to identify measurements of the star in the `ForcedSource` table.\n",
    "\n",
    "#### 2.1.1 Define star coordinates\n",
    "\n",
    "Initialize two variables with the known position of the star of interest:"
   ]
  },
  {
   "cell_type": "code",
   "execution_count": null,
   "id": "7cb5de4b-05f1-4c7b-b2bc-67ef52a900cd",
   "metadata": {},
   "outputs": [],
   "source": [
    "ra_known_rrl = 62.1479031\n",
    "dec_known_rrl = -35.799138"
   ]
  },
  {
   "cell_type": "markdown",
   "id": "16ee1333-412c-455d-aa8b-80670e0beef9",
   "metadata": {},
   "source": [
    "#### 2.1.2 Find the Star in the Object Table\n",
    "\n",
    "Query the `Object` table for this star. We use a spatial query at the RA, Dec position of interest, and specify a very small area to search (0.001 degrees), so that we will retrieve only the star of interest.\n",
    "\n",
    "Notice that in addition to selecting on position, we specify \"detect_isPrimary = 1\" as well. The <a href=\"https://pipelines.lsst.io/getting-started/multiband-analysis.html#filtering-for-unique-deblended-sources-with-the-detect-isprimary-flag\">detect_isPrimary flag</a> is a composite flag that, if TRUE (or set to 1), ensures a unique, deblended source.\n",
    "\n",
    "Notice also the use of the `scisql_nanojanskyToAbMag` function to convert fluxes to magnitudes. (This could also be done after extracting the fluxes if desired, but this step streamlines things.)"
   ]
  },
  {
   "cell_type": "code",
   "execution_count": null,
   "id": "9415ac47-8fd2-4f07-8fb2-ac8c46ea4dcf",
   "metadata": {},
   "outputs": [],
   "source": [
    "results = service.search(\"SELECT coord_ra, coord_dec, objectId, \"\n",
    "                         \"g_psfFlux, r_psfFlux, i_psfFlux, detect_isPrimary, \"\n",
    "                         \"scisql_nanojanskyToAbMag(g_psfFlux) as gPSFMag, \"\n",
    "                         \"scisql_nanojanskyToAbMag(r_psfFlux) as rPSFMag, \"\n",
    "                         \"scisql_nanojanskyToAbMag(i_psfFlux) as iPSFMag, \"\n",
    "                         \"g_extendedness, r_extendedness, i_extendedness \"\n",
    "                         \"FROM dp02_dc2_catalogs.Object \"\n",
    "                         \"WHERE CONTAINS(POINT('ICRS', coord_ra, coord_dec), \"\n",
    "                         \"CIRCLE('ICRS',\" + str(ra_known_rrl) + \", \"\n",
    "                         + str(dec_known_rrl) + \", 0.001)) = 1 \"\n",
    "                         \"AND detect_isPrimary = 1\", maxrec=100000)\n",
    "\n",
    "objs = results.to_table()"
   ]
  },
  {
   "cell_type": "code",
   "execution_count": null,
   "id": "fc7ccd7f-c589-47ea-be90-7f56e13ce25e",
   "metadata": {},
   "outputs": [],
   "source": [
    "objs"
   ]
  },
  {
   "cell_type": "markdown",
   "id": "4673064e-828a-4939-b15d-3c431395fbe8",
   "metadata": {},
   "source": [
    "Looks good - our limited search retrieved only a single object. Notice that the \"extendedness\" flag is zero for all three bands, meaning this object is likely a point source (i.e., a star). It is around 18th magnitude in all three bands, and has fairly blue colors as expected for an RR Lyrae star.\n",
    "\n",
    "#### 2.1.3 Extract the Measurements from the Forced Source Table\n",
    "\n",
    "Now that we have identified the candidate in the Object table, we can use its `objectId` to identify it in the `ForcedSource` table. First extract the `objectId`:"
   ]
  },
  {
   "cell_type": "code",
   "execution_count": null,
   "id": "7de84592-3ebc-451f-abf6-610e65ae5eb3",
   "metadata": {},
   "outputs": [],
   "source": [
    "sel_objid = objs[0]['objectId']\n",
    "print(sel_objid)"
   ]
  },
  {
   "cell_type": "markdown",
   "id": "9cb924df-d2fa-46c6-aea1-77b36b599535",
   "metadata": {},
   "source": [
    "Now we will use this ID to pick out all measurements of this object from the `ForcedSource` table (by use of a WHERE statement in the query).\n",
    "\n",
    "Note that we are also using a JOIN here to extract the visit info for each entry in `ForcedSource`. This is necessary so we can get the time each exposure was observed (\"expMidptMJD\"), to be used in constructing lightcurves."
   ]
  },
  {
   "cell_type": "code",
   "execution_count": null,
   "id": "173b5b93-f2bb-4ae1-b985-9b25f8248c25",
   "metadata": {},
   "outputs": [],
   "source": [
    "# Define the query\n",
    "query = \"SELECT src.band, src.ccdVisitId, src.coord_ra, src.coord_dec, \"\\\n",
    "        \"src.objectId, src.psfFlux, src.psfFluxErr, \"\\\n",
    "        \"scisql_nanojanskyToAbMag(psfFlux) as psfMag, \"\\\n",
    "        \"visinfo.ccdVisitId, visinfo.band, \"\\\n",
    "        \"visinfo.expMidptMJD, visinfo.zeroPoint \"\\\n",
    "        \"FROM dp02_dc2_catalogs.ForcedSource as src \"\\\n",
    "        \"JOIN dp02_dc2_catalogs.CcdVisit as visinfo \"\\\n",
    "        \"ON visinfo.ccdVisitId = src.ccdVisitId \"\\\n",
    "        \"WHERE src.objectId = \"+str(sel_objid)+\" \"\n"
   ]
  },
  {
   "cell_type": "markdown",
   "id": "022c3d36-2132-4ab3-9faa-2999a9128e6c",
   "metadata": {},
   "source": [
    "Execute the query, and extract the results to a table:"
   ]
  },
  {
   "cell_type": "code",
   "execution_count": null,
   "id": "66e64747-dca3-44a7-abeb-2591344a5f5d",
   "metadata": {},
   "outputs": [],
   "source": [
    "results = service.search(query)\n",
    "srcs = results.to_table()\n",
    "print(len(srcs))"
   ]
  },
  {
   "cell_type": "markdown",
   "id": "43c978c4-1cae-41f8-ad36-55a4e21cf3e4",
   "metadata": {},
   "source": [
    "Uncomment and execute the following cell to see what this table looks like."
   ]
  },
  {
   "cell_type": "code",
   "execution_count": null,
   "id": "ec582424-7f13-4054-b729-51fe0b19b4da",
   "metadata": {},
   "outputs": [],
   "source": [
    "# srcs"
   ]
  },
  {
   "cell_type": "markdown",
   "id": "700ea0a0-13f7-4b9d-be27-5c3e03bfc6f8",
   "metadata": {
    "tags": []
   },
   "source": [
    "#### 2.1.4 Select Forced Photometry Measurements from Each Band\n",
    "\n",
    "The `ForcedSource` table contains measurements from all bands (i.e., _ugrizy_ filters). It will be useful to extract measurements for each band by selecting on the \"band\" column.\n",
    "\n",
    "In the following cell, and throughout this notebook, we store arrays in a python dict (in this case, one called \"pick\") that is indexed on the \"band\" or \"filter\" name."
   ]
  },
  {
   "cell_type": "code",
   "execution_count": null,
   "id": "33e18029-f16c-4a93-8bdc-01bf1f2f2c6e",
   "metadata": {},
   "outputs": [],
   "source": [
    "pick = {}\n",
    "for filter in plot_filter_labels:\n",
    "    pick[filter] = (srcs['band'] == filter)"
   ]
  },
  {
   "cell_type": "markdown",
   "id": "6b4193af-6ac1-41c0-946e-8118ec0b6b1a",
   "metadata": {},
   "source": [
    "Plot the observed \"lightcurve\" for the _r_ band."
   ]
  },
  {
   "cell_type": "code",
   "execution_count": null,
   "id": "86f9398b-9894-4897-b38a-9d13fe7b6a9a",
   "metadata": {},
   "outputs": [],
   "source": [
    "plt.plot(srcs[pick['r']]['expMidptMJD'], srcs[pick['r']]['psfMag'],\n",
    "         'k.', ms=10)\n",
    "plt.minorticks_on()\n",
    "plt.xlabel('MJD (days)')\n",
    "plt.ylabel('r')\n",
    "plt.show()"
   ]
  },
  {
   "cell_type": "markdown",
   "id": "f9829649-5571-4f7f-92ee-1b9909a29c33",
   "metadata": {
    "tags": []
   },
   "source": [
    "There is a spread of almost 1 magnitude, so clearly we have identified a variable star. Hooray!"
   ]
  },
  {
   "cell_type": "markdown",
   "id": "a9b850c3-bc56-41b0-b185-a2174827f8f8",
   "metadata": {},
   "source": [
    "### 2.2 Create a Phased Lightcurve\n",
    "\n",
    "In the plot above, it is clear that this is a variable star, but we want to know more about it. Assuming it is a periodic variable, let's try to estimate its period so we can create a phased lightcurve.\n",
    "\n",
    "_CAVEAT: The author of this notebook is not an expert in periodic variables or analysis of time-series data. The following is almost certainly not the **best** way of doing these analyses, but is simply one way to do things. It is shown here as a demonstration only._\n",
    "\n",
    "A common way of searching for periodicity in unevenly-sampled time-series data is the Lomb-Scargle Periodogram. In this section we will create such a periodogram using the <a href=\"https://docs.astropy.org/en/stable/timeseries/lombscargle.html\">Lomb-Scargle package from Astropy</a>. We will then estimate the best period, and reference all observations to that period to create a phased lightcurve.\n"
   ]
  },
  {
   "cell_type": "markdown",
   "id": "082cdf05-1384-4536-a0fb-83e5712306ca",
   "metadata": {},
   "source": [
    "#### 2.2.1 Extract and Plot a Periodogram\n",
    "\n",
    "For convenience, we first extract all of the times of observation and measured magnitudes to separate arrays for each bandpass."
   ]
  },
  {
   "cell_type": "code",
   "execution_count": null,
   "id": "d29a1bc1-65b1-47b3-8278-61a883355e4c",
   "metadata": {},
   "outputs": [],
   "source": [
    "mjd_days = {}\n",
    "mags = {}\n",
    "for filter in plot_filter_labels:\n",
    "    mjd_days[filter] = np.array(srcs[pick[filter]]['expMidptMJD']) * u.day\n",
    "    mags[filter] = np.array(srcs[pick[filter]]['psfMag'])"
   ]
  },
  {
   "cell_type": "markdown",
   "id": "a69d93f7-242c-4e03-b0d3-75b5bd1239bc",
   "metadata": {},
   "source": [
    "The Lomb-Scargle periodogram returns the power at different frequencies. Because we know this is an RR Lyrae star, its period must be between ~0.2-0.9 days. We will use the min/max frequency settings to limit our period search to 0.05-1.05 days. (Recall that frequency is 1/period.)"
   ]
  },
  {
   "cell_type": "code",
   "execution_count": null,
   "id": "ffdaac5d-7c18-4944-9db9-ccab7fa0079b",
   "metadata": {},
   "outputs": [],
   "source": [
    "min_period = 0.05 * u.day\n",
    "max_period = 1.05 * u.day\n",
    "\n",
    "min_freq_search = 1.0 / max_period\n",
    "max_freq_search = 1.0 / min_period"
   ]
  },
  {
   "cell_type": "markdown",
   "id": "995d2575-16f4-4fcb-becf-c58504026d97",
   "metadata": {},
   "source": [
    "Now we run the LombScargle algorithm on each of these datasets. We will set only the min/max frequencies, and otherwise use the \"autopower\" method from LombScargle. "
   ]
  },
  {
   "cell_type": "code",
   "execution_count": null,
   "id": "0f2a5905-3d47-4439-bd8b-97d9af7bbfd8",
   "metadata": {},
   "outputs": [],
   "source": [
    "frequency = {}\n",
    "power = {}\n",
    "for filter in plot_filter_labels:\n",
    "    frequency[filter], power[filter] =\\\n",
    "        LombScargle(mjd_days[filter], mags[filter]).autopower(minimum_frequency=min_freq_search,\n",
    "                                                              maximum_frequency=max_freq_search)\n"
   ]
  },
  {
   "cell_type": "markdown",
   "id": "3ab61d89-ca9c-4de7-98a7-15334e639611",
   "metadata": {},
   "source": [
    "In a well-behaved and well-sampled scenario, the Lomb-Scargle power will peak at a specific frequency that corresponds to the period of the star's variability.\n",
    "\n",
    "We will assume that the frequency returning the highest power corresponds to the real period of the star (which is not necessarily true in the case of real data with uneven sampling, period aliasing, and other effects). Let's find this frequency for each band:"
   ]
  },
  {
   "cell_type": "code",
   "execution_count": null,
   "id": "89166291-473e-4b5b-bf8a-2b21cd0aea90",
   "metadata": {},
   "outputs": [],
   "source": [
    "all_peak_freqs = []\n",
    "\n",
    "for filter in plot_filter_labels:\n",
    "    # find the index with maximum power (= peakbin)\n",
    "    peakbin = np.argmax(power[filter])\n",
    "\n",
    "    # Store the frequency corresponding to the peak power in each filter (band)\n",
    "    all_peak_freqs.append(frequency[filter][peakbin].value)\n",
    "\n",
    "# Convert the frequencies from a list to and array:\n",
    "all_peak_freqs = np.array(all_peak_freqs)\n",
    "\n",
    "# Calculate the mean of the \"best-fit\" frequencies:\n",
    "mean_peak_freq = np.mean(all_peak_freqs)\n",
    "\n",
    "print('Mean frequency:', mean_peak_freq)\n",
    "print('Mean period:', 1.0/mean_peak_freq, ' days')\n",
    "print('\\nugrizy frequency results:\\n', all_peak_freqs)\n"
   ]
  },
  {
   "cell_type": "markdown",
   "id": "d0e23f5a-93a8-4f1a-93a2-d98352bd7cee",
   "metadata": {
    "tags": []
   },
   "source": [
    "Plot a \"periodogram\" -- a figure showing the power vs. frequency from the Lomb-Scargle analysis. We'll also add a panel for the period. (This figure shows only the r-band results. You could try it with others!)"
   ]
  },
  {
   "cell_type": "code",
   "execution_count": null,
   "id": "3dee1f8a-0cc8-49ad-b717-0a9962a4fdc8",
   "metadata": {},
   "outputs": [],
   "source": [
    "fig, ax = plt.subplots(1, 2, figsize=(12, 7))\n",
    "\n",
    "plt.sca(ax[0])  # set the first axis as current\n",
    "\n",
    "plt.plot(frequency['r'], power['r'])\n",
    "plt.vlines(mean_peak_freq, 0, 1, linestyle='--', color='red')\n",
    "plt.minorticks_on()\n",
    "plt.xlabel('frequency (1/d)')\n",
    "plt.ylabel('power')\n",
    "\n",
    "plt.sca(ax[1])  # set the second axis as current\n",
    "plt.plot(1 / frequency['r'], power['r'])\n",
    "plt.vlines(1/mean_peak_freq, 0, 1, linestyle='--', color='red')\n",
    "plt.minorticks_on()\n",
    "plt.xlabel('period (d)')\n",
    "plt.ylabel('power')\n",
    "plt.show()"
   ]
  },
  {
   "cell_type": "markdown",
   "id": "d25d0c76-134f-4e27-8b56-1e37ff63104c",
   "metadata": {},
   "source": [
    "#### 2.2.2 Create a Phased Lightcurve\n",
    "\n",
    "The red line we overlaid on the previous plot corresponds to a clear peak in the periodogram, so it looks like we have found a good estimate of the period. Now we will use that period to extract and plot phased light-curves of the variable star.\n",
    "\n",
    "Recall that period = 1/frequency:"
   ]
  },
  {
   "cell_type": "code",
   "execution_count": null,
   "id": "bfa44421-de24-485d-880e-c4554a928059",
   "metadata": {},
   "outputs": [],
   "source": [
    "best_period = 1/mean_peak_freq"
   ]
  },
  {
   "cell_type": "markdown",
   "id": "ff5be9d3-17f4-464c-b859-7b14dfdfe3d7",
   "metadata": {},
   "source": [
    "To \"phase\" the lightcurves, we calculate how many periods have passed since some fiducial time \"t0\". Here, we select t0 to be the time of the first g-band observation, but that is completely arbitrary.\n",
    "\n",
    "The second part takes only the non-integer part of the number of elapsed periods. For example, a point that happens 2.75 periods after t0 will have phase 0.75."
   ]
  },
  {
   "cell_type": "code",
   "execution_count": null,
   "id": "ff810ddb-902b-42b3-9dde-c5d6b97863d0",
   "metadata": {},
   "outputs": [],
   "source": [
    "mjd_norm = {}\n",
    "phase = {}\n",
    "\n",
    "# Number of elapsed periods since the first measurement:\n",
    "t0 = np.min(mjd_days['g'].value)\n",
    "\n",
    "for filter in plot_filter_labels:\n",
    "    mjd_norm[filter] = (mjd_days[filter].value - t0) / best_period\n",
    "\n",
    "    # Calculate phase by using the modulus function:\n",
    "    phase[filter] = np.mod(mjd_norm[filter], 1.0)"
   ]
  },
  {
   "cell_type": "markdown",
   "id": "6fa0f7c9-ee64-4628-8156-d7c683591cb3",
   "metadata": {},
   "source": [
    "Now plot them separately for each band (using an integer offset to separate them):"
   ]
  },
  {
   "cell_type": "code",
   "execution_count": null,
   "id": "c2889486-4fbb-40e4-a6bb-e4e3685ad56b",
   "metadata": {},
   "outputs": [],
   "source": [
    "fig = plt.figure(figsize=(7, 10))     # create a matplotlib.pyplot figure\n",
    "\n",
    "i = 0\n",
    "\n",
    "for filter in plot_filter_labels:\n",
    "    plt.plot(phase[filter], mags[filter]-np.mean(mags[filter]) + i,\n",
    "             plot_filter_symbols[filter],\n",
    "             color=plot_filter_colors[filter], label=filter)\n",
    "    plt.hlines(i, 0, 1, linestyle=':', color='Gray')\n",
    "    i += 1\n",
    "\n",
    "plt.gca().invert_yaxis()\n",
    "plt.legend()\n",
    "plt.xlabel('phase')\n",
    "plt.ylabel('mag - mean (plus integer offset)')\n",
    "plt.minorticks_on()\n",
    "plt.show()"
   ]
  },
  {
   "cell_type": "markdown",
   "id": "146a96dc-2959-478e-8b7e-0b32a5656947",
   "metadata": {
    "tags": []
   },
   "source": [
    "...and all together:"
   ]
  },
  {
   "cell_type": "code",
   "execution_count": null,
   "id": "774229f2-b6c7-4507-8e00-35cad1fc5182",
   "metadata": {},
   "outputs": [],
   "source": [
    "fig = plt.figure(figsize=(9, 7))     # create a matplotlib.pyplot figure\n",
    "\n",
    "for filter in plot_filter_labels:\n",
    "    plt.plot(phase[filter], mags[filter]-np.mean(mags[filter]),\n",
    "             plot_filter_symbols[filter],\n",
    "             color=plot_filter_colors[filter], label=filter)\n",
    "plt.hlines(0, 0, 1, linestyle=':', color='Gray')\n",
    "plt.gca().invert_yaxis()\n",
    "plt.legend()\n",
    "plt.xlabel('phase')\n",
    "plt.ylabel('mag - mean')\n",
    "plt.minorticks_on()\n",
    "plt.show()"
   ]
  },
  {
   "cell_type": "markdown",
   "id": "1b4e48c2-93e9-4a7f-baa0-9f57c6bbeac4",
   "metadata": {
    "tags": []
   },
   "source": [
    "Success! That looks like an RR Lyrae star. "
   ]
  },
  {
   "cell_type": "markdown",
   "id": "4dc6ff06-61db-406d-b2b5-64571de11423",
   "metadata": {},
   "source": [
    "## 3. Identify candidate RR Lyrae From Catalogs\n",
    "\n",
    "Now that we know we can extract a lightcurve, find the star's period, and plot phased lightcurves for a _known_ RR Lyrae star, we move on to exploring how to _find_ candidate variables based on data in the catalogs.\n",
    "\n",
    "Data products from difference image analysis (DIA, where sources are detected and measured on the _difference_ image resulting from subtracting an approriately scaled deep coadd template of the same sky area from a single visit image) are a good place to check for transient and variable objects. The two DIA products we will use are:\n",
    "\n",
    "- **DiaSource**: catalog of sources detected and measured on each visit image after subtracting the appropriate template\n",
    "- **DiaObject**: \"summary\" catalog of all unique objects detected on all difference images (essentially a superset containing all unique sources from DiaSource)\n",
    "\n",
    "The DiaObject table has some summary statistics for each object, which we can use to identify candidate variables."
   ]
  },
  {
   "cell_type": "markdown",
   "id": "36fcf4d5-2506-4340-a65b-d3f3f2fdcad5",
   "metadata": {},
   "source": [
    "### 3.1 Query DiaObject and DiaSource to Retrieve Candidates\n",
    "\n",
    "The DiaObject table has several parameters that characterize the variability of DiaSource flux measurements (see the <a href=\"https://dm.lsst.org/sdm_schemas/browser/dp02.html#DiaObject\">DP0.2 Schema Browser</a> for a full list).\n",
    "These include the min/max fluxes, and various statistical measures of the scatter in flux measurements.\n",
    "A particularly useful statistic for variable stars in the \"StetsonJ\" statistic, based on <a href=\"https://ui.adsabs.harvard.edu/abs/1996PASP..108..851S/abstract\">this 1996 paper</a>.\n",
    "Variable stars have flux that varies more than expected based on the measurement errors.\n",
    "High values of the StetsonJ index should identify objects whose fluxes varied much more than expected -- i.e., variable stars.\n",
    "Here we use StetsonJ>20, but users are encouraged to explore this and other statistics.\n",
    "\n",
    "Here are all of the criteria we apply to our selection from `DiaObject`:\n",
    "\n",
    " 1. g-band measurements only\n",
    " 2. sigma_flux/flux > 0.25 -- the scatter in measured fluxes is larger than 25% relative to the mean\n",
    " 3. sigma_flux/flux < 1.25 -- the scatter in measured fluxes is no larger than 125% relative to the mean\n",
    " 4. 18 < gmag < 23 -- mean g magnitude between 18-23\n",
    " 5. gPSFluxNdata > 30 -- at least 30 observations in g band\n",
    " 6. gPSFluxStetsonJ > 20 -- StetsonJ index greater than 20\n",
    " 7. within 5 degrees of our chosen RA, Dec position\n",
    " \n",
    "We perform all of these selections in the ADQL portion of the TAP query. Note also that this is performing a table JOIN between DiaObject and DiaSource where all DiaSources corresponding to each DiaObject will be retrieved. If the order of DiaObject and DiaSource was reversed in this JOIN, it would instead return only a single Source for each Object.\n",
    "\n",
    "It is normal for the following query to take up to ten minutes."
   ]
  },
  {
   "cell_type": "code",
   "execution_count": null,
   "id": "34256d2e-5ce1-47b0-ad47-7af6e4ae65ab",
   "metadata": {},
   "outputs": [],
   "source": [
    "query = \"SELECT obj.diaObjectId, obj.ra, obj.decl, obj.nDiaSources, \"\\\n",
    "        \"obj.gPSFluxMin, obj.gPSFluxMax, obj.gPSFluxMean, obj.gPSFluxSigma, \"\\\n",
    "        \"obj.gPSFluxMAD, obj.gPSFluxChi2, obj.gPSFluxNdata, obj.gPSFluxSkew, \"\\\n",
    "        \"obj.gPSFluxStetsonJ, obj.gPSFluxPercentile05, obj.gPSFluxPercentile25, \"\\\n",
    "        \"obj.gPSFluxPercentile50, obj.gPSFluxPercentile75, obj.gPSFluxPercentile95, \"\\\n",
    "        \"obj.gTOTFluxMean, obj.gTOTFluxSigma, \"\\\n",
    "        \"scisql_nanojanskyToAbMag(obj.gTOTFluxMean) as gmag_obj, \"\\\n",
    "        \"src.diaSourceId, src.diaObjectId, src.midPointTai, \"\\\n",
    "        \"src.ccdVisitId, src.filterName, src.psFlux, src.psFluxErr, \"\\\n",
    "        \"src.totFlux, src.totFluxErr, \"\\\n",
    "        \"scisql_nanojanskyToAbMag(src.totFlux) as gmag \"\\\n",
    "        \"FROM dp02_dc2_catalogs.DiaObject as obj \"\\\n",
    "        \"JOIN dp02_dc2_catalogs.DiaSource as src \"\\\n",
    "        \"ON src.diaObjectId = obj.diaObjectId \"\\\n",
    "        \"WHERE obj.gTOTFluxSigma/obj.gTOTFluxMean > 0.25 \"\\\n",
    "        \"AND obj.gTOTFluxSigma/obj.gTOTFluxMean < 1.25 \"\\\n",
    "        \"AND scisql_nanojanskyToAbMag(obj.gTOTFluxMean) > 18 \"\\\n",
    "        \"AND scisql_nanojanskyToAbMag(obj.gTOTFluxMean) < 23 \"\\\n",
    "        \"AND obj.gPSFluxNdata > 30 \"\\\n",
    "        \"AND obj.gPSFluxStetsonJ > 20 \"\\\n",
    "        \"AND src.filterName = 'g' \"\\\n",
    "        \"AND CONTAINS(POINT('ICRS', obj.ra, obj.decl), \"\\\n",
    "        \"CIRCLE('ICRS',\"+str(ra_known_rrl)+\", \"+str(dec_known_rrl)+\", 5.0)) = 1 \"\n",
    "\n",
    "results = service.search(query)\n",
    "dia_sources = results.to_table()"
   ]
  },
  {
   "cell_type": "code",
   "execution_count": null,
   "id": "467417d1-4a0c-496f-87f3-4f40b78077aa",
   "metadata": {},
   "outputs": [],
   "source": [
    "print(len(dia_sources), len(np.unique(dia_sources['diaObjectId'])))"
   ]
  },
  {
   "cell_type": "markdown",
   "id": "c8163381-2d48-4bf9-b4e4-ced7affec33e",
   "metadata": {},
   "source": [
    "The statement and its output above tells us that the query returned 14 unique DiaObjects, with a total of 549 measurements in DiaSource.\n",
    "\n",
    "### 3.2 Run the Lomb-Scargle Frequency Algorithm on All Candidates"
   ]
  },
  {
   "cell_type": "code",
   "execution_count": null,
   "id": "70e82824-b7c0-44ab-8e6b-3212c79df18d",
   "metadata": {},
   "outputs": [],
   "source": [
    "objids = np.unique(dia_sources['diaObjectId'])\n",
    "LSpower = []\n",
    "LSfreq = []\n",
    "\n",
    "minfreq = 1 / (1.25*u.d)\n",
    "maxfreq = 1 / (0.05*u.d)\n",
    "for objid in objids:\n",
    "    findobj = (dia_sources['diaObjectId'] == objid)\n",
    "    obj_mjd_days = np.array(dia_sources[findobj]['midPointTai']) * u.day\n",
    "    obj_mags = np.array(dia_sources[findobj]['gmag'])\n",
    "    obj_frequency, obj_power =\\\n",
    "        LombScargle(obj_mjd_days, obj_mags).autopower(minimum_frequency=minfreq,\n",
    "                                                      maximum_frequency=maxfreq)\n",
    "    max_power = np.argmax(obj_power)\n",
    "    LSpower.append(obj_power[max_power])\n",
    "    LSfreq.append(obj_frequency[max_power].value)\n",
    "\n",
    "LSpower = np.array(LSpower)\n",
    "LSfreq = np.array(LSfreq)"
   ]
  },
  {
   "cell_type": "markdown",
   "id": "47f30ab8-a4fd-43a2-8f71-abbd0cfbcb89",
   "metadata": {},
   "source": [
    "### 3.3 Plot Lightcurves\n",
    "\n",
    "To see if they look like RR Lyrae (and whether we identified the correct period), plot phased lightcurves based on the frequencies from the Lomb-Scargle analysis."
   ]
  },
  {
   "cell_type": "code",
   "execution_count": null,
   "id": "c23d6719-d21c-415f-ba5a-3b96120792de",
   "metadata": {},
   "outputs": [],
   "source": [
    "for i in range(len(objids)):\n",
    "    fig = plt.figure(figsize=(9, 5))     # create a matplotlib.pyplot figure\n",
    "    findobj = (dia_sources['diaObjectId'] == objids[i])\n",
    "    obj_mjd_days = np.array(dia_sources[findobj]['midPointTai']) * u.day\n",
    "    obj_mags = np.array(dia_sources[findobj]['gmag'])\n",
    "    obj_period = 1 / LSfreq[i]\n",
    "    print('object: ', objids[i],\n",
    "          ' RA: ', dia_sources[findobj]['ra'][0],\n",
    "          ' Dec: ', dia_sources[findobj]['decl'][0],\n",
    "          ' period: ', obj_period)\n",
    "    # Number of elapsed periods since the first measurement:\n",
    "    t0 = 0.0\n",
    "\n",
    "    obj_mjd_norm = (obj_mjd_days.value - t0) / obj_period\n",
    "\n",
    "    # Calculate phase by using the modulus function:\n",
    "    obj_phase = np.mod(obj_mjd_norm, 1.0)\n",
    "\n",
    "    plt.plot(obj_phase, obj_mags-np.nanmean(obj_mags), plot_filter_symbols['g'],\n",
    "             color=plot_filter_colors['g'], ms=8, label=str(objids[i]))\n",
    "    plt.hlines(0, 0, 1, linestyle=':', color='Gray')\n",
    "\n",
    "    plt.gca().invert_yaxis()\n",
    "    plt.legend()\n",
    "    plt.xlabel('phase')\n",
    "    plt.ylabel('mag - mean')\n",
    "    plt.minorticks_on()\n",
    "    plt.show()"
   ]
  },
  {
   "cell_type": "markdown",
   "id": "6ad5a4dd-d247-4694-9c0f-7407fda1b6e3",
   "metadata": {
    "tags": []
   },
   "source": [
    "Hooray! A few of these look like actual RR Lyrae variables! Some of the others either aren't RR Lyrae, or have mis-identified periods.\n",
    "\n",
    "## 4. Exercises for the learner:\n",
    "\n",
    "There are many further explorations one could try as extensions of this notebook. Some examples:\n",
    "\n",
    "1. Experiment with ways to identify periodic signals in the data.\n",
    "2. Compare measurements in DiaSource, ForcedSource, and ForcedSourceOnDiaObjects tables for the same star(s).\n",
    "3. Refine the selection criteria for finding candidates.\n",
    "\n",
    "...and many more. Have fun!"
   ]
  },
  {
   "cell_type": "code",
   "execution_count": null,
   "id": "8b72c6e7-b904-43d6-9234-1f84b9f7f14c",
   "metadata": {},
   "outputs": [],
   "source": []
  }
 ],
 "metadata": {
  "kernelspec": {
   "display_name": "LSST",
   "language": "python",
   "name": "lsst"
  },
  "language_info": {
   "codemirror_mode": {
    "name": "ipython",
    "version": 3
   },
   "file_extension": ".py",
   "mimetype": "text/x-python",
   "name": "python",
   "nbconvert_exporter": "python",
   "pygments_lexer": "ipython3",
   "version": "3.10.5"
  },
  "toc-autonumbering": false
 },
 "nbformat": 4,
 "nbformat_minor": 5
}
