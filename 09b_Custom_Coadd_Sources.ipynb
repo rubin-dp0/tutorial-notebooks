{
 "cells": [
  {
   "cell_type": "markdown",
   "id": "ea18fc1d-a242-4648-8010-bb3765c816c7",
   "metadata": {
    "tags": []
   },
   "source": [
    "<img align=\"left\" src = https://project.lsst.org/sites/default/files/Rubin-O-Logo_0.png width=250 style=\"padding: 10px\"> \n",
    "<b>Detect and Measure Sources in a Custom Coadded Image</b> <br>\n",
    "Contact author: Melissa Graham <br>\n",
    "Last verified to run: 2022-10-21 <br>\n",
    "LSST Science Piplines version: Weekly 2022_40 <br>\n",
    "Container Size: large <br>\n",
    "Targeted learning level: advanced <br>"
   ]
  },
  {
   "cell_type": "markdown",
   "id": "d6d464c8-591d-441d-afa4-41106337fecf",
   "metadata": {},
   "source": [
    "**Description:** Detect and measure sources in a custom \"deepCoadd\" image."
   ]
  },
  {
   "cell_type": "markdown",
   "id": "6f9d71d1-eb54-48d5-9aef-65e7cfa026c6",
   "metadata": {},
   "source": [
    "**Skills:** Use the butler on user-generated collections. Run source detection and measurement."
   ]
  },
  {
   "cell_type": "markdown",
   "id": "319e4d20-a058-4ce7-9524-2c4ff7009da4",
   "metadata": {},
   "source": [
    "**LSST Data Products:** user-generated deepCoadd; DP0.2 deepCoadd image and Object table"
   ]
  },
  {
   "cell_type": "markdown",
   "id": "c98e878a-6076-4358-ad21-d3f5ec4c7fcc",
   "metadata": {},
   "source": [
    "**Packages:** lsst.afw, lsst.pipe, lsst.meas"
   ]
  },
  {
   "cell_type": "markdown",
   "id": "c7dfdc49-2789-4c5e-bd72-ece9f0fc21bb",
   "metadata": {},
   "source": [
    "**Credit:** Originally developed by Melissa Graham and Clare Saunders, this tutorial draws on the contents of the \"Introduction to Source Detection\" DP0.2 tutorial notebook by Douglas Tucker and Alex Drlica-Wagner."
   ]
  },
  {
   "cell_type": "markdown",
   "id": "79bcfd21-eeea-4292-9d34-fe8ffb1cb5b4",
   "metadata": {},
   "source": [
    "**Get Support:**\n",
    "Find DP0-related documentation and resources at <a href=\"https://dp0-2.lsst.io\">dp0-2.lsst.io</a>. Questions are welcome as new topics in the <a href=\"https://community.lsst.org/c/support/dp0\">Support - Data Preview 0 Category</a> of the Rubin Community Forum. Rubin staff will respond to all questions posted there."
   ]
  },
  {
   "cell_type": "markdown",
   "id": "4c35ae3d-e686-4806-b572-2bf5da03d61a",
   "metadata": {},
   "source": [
    "# 1. Introduction\n",
    "\n",
    "This tutorial notebook is a follow-up to 09a_Custom_Coadd.ipynb, and demonstrates how to run source detection and measurement on a user-generated custom `deepCoadd` image.\n",
    "\n",
    "Recall that although that new custom `deepCoadd` is not actually deep, but a rather shallower custom coadd, it will still be called `deepCoadd` in the butler because that is the default name of results from the `assembleCoadd` task.\n",
    "\n",
    "> **Stop!** This tutorial uses the output of notebook 09a_Custom_Coadd.ipynb. Users must run that notebook first.\n",
    "\n",
    "**This tutorial notebook may evolve in the near future.**\n",
    "In tutorial notebook 09a_Custom_Coadd.ipynb, we use the Simple Pipeline Executor (SPE) to build a pipeline that runs components of the Data Release Pipeline (DRP).\n",
    "In _this_ tutorial notebook, instead of building a pipeline to run the DRP components for detection, deblending, and measurement, and then writing a table with the same schema as the `Object` table, we are simply executing the standalone tasks for source detection and measurement. This is faster and simpler, but in the future this notebook will be updated to use the SPE."
   ]
  },
  {
   "cell_type": "markdown",
   "id": "2e3172a2-c1d0-44a7-9e32-cfd7b6b3963c",
   "metadata": {},
   "source": [
    "## 1.1. Package imports"
   ]
  },
  {
   "cell_type": "code",
   "execution_count": null,
   "id": "146b88ab-9582-40dd-bc2f-1b7c778af7ce",
   "metadata": {},
   "outputs": [],
   "source": [
    "import time, getpass\n",
    "import numpy as np\n",
    "import pandas\n",
    "import matplotlib.pyplot as plt\n",
    "from astropy.wcs import WCS\n",
    "\n",
    "import lsst.geom\n",
    "from lsst.daf.butler import Butler, CollectionType\n",
    "from lsst.rsp import get_tap_service, retrieve_query\n",
    "import lsst.daf.base as dafBase\n",
    "import lsst.afw.display as afwDisplay\n",
    "import lsst.afw.table as afwTable\n",
    "import lsst.afw.image as afwImage\n",
    "from lsst.pipe.tasks.characterizeImage import CharacterizeImageTask\n",
    "from lsst.meas.algorithms.detection import SourceDetectionTask\n",
    "from lsst.meas.deblender import SourceDeblendTask\n",
    "from lsst.meas.base import SingleFrameMeasurementTask"
   ]
  },
  {
   "cell_type": "markdown",
   "id": "b5af73a3-a010-4790-9fcf-464079afbfb8",
   "metadata": {},
   "source": [
    "## 1.2. Define functions and parameters\n",
    "\n",
    "Set `afwDisplay` to use a `matplotlib` backend"
   ]
  },
  {
   "cell_type": "code",
   "execution_count": null,
   "id": "27c04d69-a5ff-4ee0-8745-de36e6270cce",
   "metadata": {},
   "outputs": [],
   "source": [
    "afwDisplay.setDefaultBackend('matplotlib')"
   ]
  },
  {
   "cell_type": "markdown",
   "id": "f46cde4b-36c3-4fea-b0c9-18c2a3d17480",
   "metadata": {},
   "source": [
    "Instantiate the TAP service, which is used in Section 3.3."
   ]
  },
  {
   "cell_type": "code",
   "execution_count": null,
   "id": "4383ea42-1df4-4a60-bbed-5add658af109",
   "metadata": {},
   "outputs": [],
   "source": [
    "tap_service = get_tap_service()"
   ]
  },
  {
   "cell_type": "markdown",
   "id": "8edcfa22-f13f-4c06-875d-c3ed6a889243",
   "metadata": {},
   "source": [
    "## 1.3. Find the desired coadd in the butler\n",
    "\n",
    "Create a temporary butler in order to identify the collection and run containing the custom `deepCoadd`."
   ]
  },
  {
   "cell_type": "code",
   "execution_count": null,
   "id": "f275bdc0-f4b4-4e48-8224-f008f41ec0d1",
   "metadata": {},
   "outputs": [],
   "source": [
    "my_username = getpass.getuser()\n",
    "collection = \"u/\"+my_username"
   ]
  },
  {
   "cell_type": "code",
   "execution_count": null,
   "id": "eff0faa8-80be-4673-9ba3-e12ab26c6be6",
   "metadata": {},
   "outputs": [],
   "source": [
    "tempButler = Butler('dp02')"
   ]
  },
  {
   "cell_type": "markdown",
   "id": "e0eb3eff-e21f-4af9-993c-376f2c4bee4f",
   "metadata": {},
   "source": [
    "Print all collections and runs associated with your username."
   ]
  },
  {
   "cell_type": "code",
   "execution_count": null,
   "id": "29158318-5fe5-49f7-b764-3d921e9daba7",
   "metadata": {},
   "outputs": [],
   "source": [
    "for c in sorted(tempButler.registry.queryCollections('*'+my_username+'*')):\n",
    "    print(c)"
   ]
  },
  {
   "cell_type": "markdown",
   "id": "0b2c4345-d54e-4dc4-9f52-6fa7149910bb",
   "metadata": {},
   "source": [
    "Delete this temporary butler."
   ]
  },
  {
   "cell_type": "code",
   "execution_count": null,
   "id": "eaf4d45d-c5db-4aa1-b55f-5502266f52a0",
   "metadata": {},
   "outputs": [],
   "source": [
    "del tempButler"
   ]
  },
  {
   "cell_type": "markdown",
   "id": "1ea9a6b1-62fa-444c-867a-eb1017f2be1f",
   "metadata": {},
   "source": [
    "Create a new butler with the collection containing the custom `deepCoadd`.\n",
    "\n",
    "> **Stop!** Make sure the name of the collection below matches the name of your own collection that you created with tutorial notebook 09a_Custom_Coadd.ipynb."
   ]
  },
  {
   "cell_type": "code",
   "execution_count": null,
   "id": "95d8162d-cb20-467e-aaee-59cf43d2879c",
   "metadata": {},
   "outputs": [],
   "source": [
    "collection = \"u/\"+my_username+\"/custom_coadd_window1_test1\"\n",
    "print(collection)"
   ]
  },
  {
   "cell_type": "code",
   "execution_count": null,
   "id": "0ed56a4b-8c70-4574-90e6-aa6e82d6c886",
   "metadata": {},
   "outputs": [],
   "source": [
    "butler = Butler('dp02', collections=[collection])"
   ]
  },
  {
   "cell_type": "markdown",
   "id": "446c2b52-2bfd-42ed-9b10-15e8e9970271",
   "metadata": {},
   "source": [
    "Use the `dataId` from tutorial notebook 09a_Custom_Coadd.ipynb and retrieve the custom `deepCoadd`."
   ]
  },
  {
   "cell_type": "code",
   "execution_count": null,
   "id": "4cd0503c-12be-4929-872a-bec4a0009a94",
   "metadata": {},
   "outputs": [],
   "source": [
    "my_dataId = {'band': 'i', 'tract': 4431, 'patch': 17}\n",
    "my_deepCoadd = butler.get('deepCoadd', my_dataId)"
   ]
  },
  {
   "cell_type": "markdown",
   "id": "61f4ba77-c2f3-4e75-b8ea-8bb193f15657",
   "metadata": {},
   "source": [
    "Confirm that the retrieved `deepCoadd` is the custom user-generated 6-input visits version."
   ]
  },
  {
   "cell_type": "code",
   "execution_count": null,
   "id": "455653a2-0596-474a-85b6-cb815afe7301",
   "metadata": {},
   "outputs": [],
   "source": [
    "my_deepCoadd_inputs = my_deepCoadd.getInfo().getCoaddInputs()\n",
    "my_deepCoadd_inputs.visits.asAstropy()"
   ]
  },
  {
   "cell_type": "markdown",
   "id": "93271ee8-d9d0-4a1d-81d8-e5f9f42635b7",
   "metadata": {},
   "source": [
    "# 2. Run source detection and measurement"
   ]
  },
  {
   "cell_type": "markdown",
   "id": "565a9b2b-eda4-4c48-8d31-6ca9d3b33bdf",
   "metadata": {},
   "source": [
    "## 2.1. Create schema"
   ]
  },
  {
   "cell_type": "markdown",
   "id": "1c122eaa-2c38-4008-981e-2f6db4b27b72",
   "metadata": {},
   "source": [
    "Create a basic schema to use with the source measurement and detection tasks."
   ]
  },
  {
   "cell_type": "code",
   "execution_count": null,
   "id": "06a83779-a435-41f9-ad18-57c542ca6abb",
   "metadata": {},
   "outputs": [],
   "source": [
    "schema = afwTable.SourceTable.makeMinimalSchema()\n",
    "print(schema)"
   ]
  },
  {
   "cell_type": "markdown",
   "id": "100c3ed7-6665-41d7-ba70-07a1939db890",
   "metadata": {},
   "source": [
    "Create a container, `algMetadata`, which will be used to record metadata about algorithm execution."
   ]
  },
  {
   "cell_type": "code",
   "execution_count": null,
   "id": "a5cbd008-202d-4c21-a582-3a95a90afe09",
   "metadata": {},
   "outputs": [],
   "source": [
    "algMetadata = dafBase.PropertyList()\n",
    "print('algMetadata: ')\n",
    "algMetadata"
   ]
  },
  {
   "cell_type": "markdown",
   "id": "ea28b4f6-7ccb-4ae4-8f76-4334ccb06c89",
   "metadata": {},
   "source": [
    "## 2.2. Configure tasks\n",
    "\n",
    "Configure the task to characterize the image. \n",
    "Use just one iteration to determine the point spread function (PSF)."
   ]
  },
  {
   "cell_type": "code",
   "execution_count": null,
   "id": "4c69c185-cea1-4c38-a1ae-41b42719cd7f",
   "metadata": {},
   "outputs": [],
   "source": [
    "config = CharacterizeImageTask.ConfigClass()\n",
    "config.psfIterations = 1\n",
    "charImageTask = CharacterizeImageTask(config=config)"
   ]
  },
  {
   "cell_type": "markdown",
   "id": "b6236c37-1cba-4bcf-8a08-7ff6caeb4e59",
   "metadata": {},
   "source": [
    "Configure the task to detect sources.\n",
    "Set the threshold that defines what \"detected\" means to be 10 times above the standard deviation (i.e., a signal-to-noise ratio of 10)."
   ]
  },
  {
   "cell_type": "code",
   "execution_count": null,
   "id": "059ea6a4-c0ec-4a96-9fd8-3355f169befb",
   "metadata": {},
   "outputs": [],
   "source": [
    "config = SourceDetectionTask.ConfigClass()\n",
    "config.thresholdValue = 10\n",
    "config.thresholdType = \"stdev\"\n",
    "sourceDetectionTask = SourceDetectionTask(schema=schema, config=config)"
   ]
  },
  {
   "cell_type": "markdown",
   "id": "3d7949ad-d7df-4e7b-a3ac-6ea39aa2dd2f",
   "metadata": {},
   "source": [
    "No special configurations are used for the deblender in this example."
   ]
  },
  {
   "cell_type": "code",
   "execution_count": null,
   "id": "37f7d221-ba16-4390-92f9-ab32b0f7fa98",
   "metadata": {},
   "outputs": [],
   "source": [
    "sourceDeblendTask = SourceDeblendTask(schema=schema)"
   ]
  },
  {
   "cell_type": "markdown",
   "id": "31d4a005-7a08-4a93-8da4-2c67eee78bdd",
   "metadata": {},
   "source": [
    "No special configurations are used for the source measurements."
   ]
  },
  {
   "cell_type": "code",
   "execution_count": null,
   "id": "c1d7f1b4-6af9-41a4-b209-5b0ec66c53ac",
   "metadata": {},
   "outputs": [],
   "source": [
    "sourceMeasurementTask = SingleFrameMeasurementTask(schema=schema,\n",
    "                                                   algMetadata=algMetadata)"
   ]
  },
  {
   "cell_type": "markdown",
   "id": "ee27ace8-c5f5-464a-b357-8661b58df763",
   "metadata": {},
   "source": [
    "**Option:** the help documentation can be accessed with the `help()` command."
   ]
  },
  {
   "cell_type": "code",
   "execution_count": null,
   "id": "e4492fa2-fed5-4124-8815-274e081c68b8",
   "metadata": {},
   "outputs": [],
   "source": [
    "# help(sourceMeasurementTask.ConfigClass())"
   ]
  },
  {
   "cell_type": "markdown",
   "id": "3c79e4c6-f5ad-425b-92b0-f791b51fb6b4",
   "metadata": {},
   "source": [
    "## 2.3. Characterize image\n",
    "\n",
    "Send the standard output (a structure) into `result_ci` to avoid having it display to screen (see Section 2.4 for more about structures).\n",
    "\n",
    "The following cell will still provide standard output information about progress of the task."
   ]
  },
  {
   "cell_type": "code",
   "execution_count": null,
   "id": "815fd12b-443b-4271-b123-b678e71b956e",
   "metadata": {},
   "outputs": [],
   "source": [
    "result_ci = charImageTask.run(my_deepCoadd)"
   ]
  },
  {
   "cell_type": "markdown",
   "id": "6d2f0173-06df-465e-b91c-7a48d4ca2052",
   "metadata": {},
   "source": [
    "One of the steps of image characterization is to compute the PSF size.\n",
    "\n",
    "**Option:** print the PSF's Full-Width Half-Max (FWHM) size at the center of the image."
   ]
  },
  {
   "cell_type": "code",
   "execution_count": null,
   "id": "3c22e947-8977-4933-89e2-b57782d623e2",
   "metadata": {},
   "outputs": [],
   "source": [
    "# bbox = my_deepCoadd.getBBox()\n",
    "# center = lsst.geom.Point2D(bbox.centerX, bbox.centerY)\n",
    "# psf = my_deepCoadd.getPsf()\n",
    "# sigma = psf.computeShape(center).getDeterminantRadius()\n",
    "# scale = my_deepCoadd.wcs.getPixelScale().asArcseconds()\n",
    "# print('PSF FWHM = {:.2f} arcsec'.format(sigma * scale * 2.355))\n",
    "# del bbox, center, psf, sigma, scale"
   ]
  },
  {
   "cell_type": "markdown",
   "id": "c09a2083-314a-498c-b361-617373bec181",
   "metadata": {},
   "source": [
    "## 2.4. Detect sources"
   ]
  },
  {
   "cell_type": "markdown",
   "id": "06b94231-4df6-492e-b154-412f080e69a6",
   "metadata": {},
   "source": [
    "Create a source table for holding the output."
   ]
  },
  {
   "cell_type": "code",
   "execution_count": null,
   "id": "40e0bde5-52d5-4f14-bb3b-7f3051f7fd21",
   "metadata": {},
   "outputs": [],
   "source": [
    "srctab = afwTable.SourceTable.make(schema)"
   ]
  },
  {
   "cell_type": "markdown",
   "id": "d56e38a2-2f31-4a00-840f-450c5757c213",
   "metadata": {},
   "source": [
    "Run the source detection task.\n",
    "Send the standard output (a structure) into `result_sd`. \n",
    "A few lines of information about the task's progress will still display to the screen."
   ]
  },
  {
   "cell_type": "code",
   "execution_count": null,
   "id": "a39f80cf-f503-4051-9272-4f174b2ac776",
   "metadata": {},
   "outputs": [],
   "source": [
    "result_sd = sourceDetectionTask.run(srctab, my_deepCoadd)"
   ]
  },
  {
   "cell_type": "markdown",
   "id": "7298901b-0c2c-47d9-a34e-2ed764676272",
   "metadata": {},
   "source": [
    "The result returned is a `Struct`, a generalized container. Investigate with `getDict`."
   ]
  },
  {
   "cell_type": "code",
   "execution_count": null,
   "id": "50d43b41-6cef-4995-9f64-a6fe631ddffc",
   "metadata": {},
   "outputs": [],
   "source": [
    "for k, v in result_sd.getDict().items():\n",
    "    print(k, type(v))"
   ]
  },
  {
   "cell_type": "markdown",
   "id": "bcec0e96-2392-4a0a-97bb-5053fd0b0b7d",
   "metadata": {},
   "source": [
    "Print how many positive peaks were found."
   ]
  },
  {
   "cell_type": "code",
   "execution_count": null,
   "id": "82073cd6-097e-4803-b8c5-0514af40f8b1",
   "metadata": {},
   "outputs": [],
   "source": [
    "result_sd.numPosPeaks"
   ]
  },
  {
   "cell_type": "markdown",
   "id": "dbfaaa93-8719-4e06-bd77-ea7441595489",
   "metadata": {},
   "source": [
    "Store the detected sources in a new table called `sources`."
   ]
  },
  {
   "cell_type": "code",
   "execution_count": null,
   "id": "4738b76f-a393-4445-b0a7-8d1b84f6fe86",
   "metadata": {},
   "outputs": [],
   "source": [
    "sources = result_sd.sources"
   ]
  },
  {
   "cell_type": "markdown",
   "id": "6c296135-69b3-4f93-b58d-10f017fcb8a2",
   "metadata": {},
   "source": [
    "> **Notice:** The data in the sources table will be mostly NaN before deblending and measurement are done.\n",
    "\n",
    "**Option:** display the mostly-empty sources table."
   ]
  },
  {
   "cell_type": "code",
   "execution_count": null,
   "id": "714ae833-e6dc-4362-a140-ae2d20b5ef1f",
   "metadata": {},
   "outputs": [],
   "source": [
    "# sources"
   ]
  },
  {
   "cell_type": "markdown",
   "id": "39068cb9-c04a-4ae6-9455-c53dbfcffda9",
   "metadata": {},
   "source": [
    "## 2.5. Deblend sources\n",
    "\n",
    "This task does not create a structure, but rather modifies the passed `sources` table in-place, so we do not need to use `results = ` in this case."
   ]
  },
  {
   "cell_type": "code",
   "execution_count": null,
   "id": "b352a727-2670-4e9d-b4f0-023ac0679fc5",
   "metadata": {},
   "outputs": [],
   "source": [
    "sourceDeblendTask.run(my_deepCoadd, sources)"
   ]
  },
  {
   "cell_type": "markdown",
   "id": "5642ef8b-9d9b-40d3-80c5-56907891519b",
   "metadata": {},
   "source": [
    "## 2.6. Measure sources\n",
    "\n",
    "This task does not create a structure, but also modifies the `sources` table in-place, so we do not need to use `results = ` for this step either."
   ]
  },
  {
   "cell_type": "code",
   "execution_count": null,
   "id": "36df9e34-d350-43f8-974d-aa633cb37608",
   "metadata": {},
   "outputs": [],
   "source": [
    "sourceMeasurementTask.run(measCat=sources, exposure=my_deepCoadd)"
   ]
  },
  {
   "cell_type": "markdown",
   "id": "7954851c-f6f1-4713-aeb6-ffa0e9130fd2",
   "metadata": {},
   "source": [
    "# 3. Analyze sources"
   ]
  },
  {
   "cell_type": "markdown",
   "id": "52eb0c06-a438-40a9-9be8-4433aec6da88",
   "metadata": {},
   "source": [
    "## 3.1. Explore the source table contents\n",
    "\n",
    "Make the results into an astropy table for better human interaction.\n",
    "\n",
    "First, make a copy.\n",
    "Otherwise, the second cell below will fail with the error message _\"Record data is not contiguous in memory.\"_"
   ]
  },
  {
   "cell_type": "code",
   "execution_count": null,
   "id": "4376ec3a-724b-4128-b5b1-3c27fd51280e",
   "metadata": {},
   "outputs": [],
   "source": [
    "sources = sources.copy(True)"
   ]
  },
  {
   "cell_type": "code",
   "execution_count": null,
   "id": "4b315f6b-c81c-4984-85ed-505c7f31ecf2",
   "metadata": {},
   "outputs": [],
   "source": [
    "my_sources = sources.asAstropy()"
   ]
  },
  {
   "cell_type": "markdown",
   "id": "6fb396ae-1187-41a2-be96-6838289fb139",
   "metadata": {},
   "source": [
    "**Option:** print all of the column names of source measurements."
   ]
  },
  {
   "cell_type": "code",
   "execution_count": null,
   "id": "d5a7ba38-1c5a-4c0a-a14d-1c9357ff714d",
   "metadata": {},
   "outputs": [],
   "source": [
    "# my_sources.colnames"
   ]
  },
  {
   "cell_type": "markdown",
   "id": "a547450d-be82-4f1d-b2c5-91e47ac06b35",
   "metadata": {},
   "source": [
    "**Option:** explore which columns are flux measurements (not flux flags!) and which have been populated with nonzero flux values."
   ]
  },
  {
   "cell_type": "code",
   "execution_count": null,
   "id": "17f06382-ed59-452e-9a5e-d2c61108841f",
   "metadata": {},
   "outputs": [],
   "source": [
    "# for col in my_sources.colnames:\n",
    "#     if ((col.find('Flux') >= 0) | (col.find('flux') >= 0)) & (col.find('flag') < 0):\n",
    "#         tx = np.where(my_sources[col] > 0.0)[0]\n",
    "#         print(len(tx), col)\n",
    "#         del tx"
   ]
  },
  {
   "cell_type": "markdown",
   "id": "17405e4e-87af-452c-b281-7413a9382746",
   "metadata": {},
   "source": [
    "Convert `instFlux` to AB apparent magnitudes."
   ]
  },
  {
   "cell_type": "code",
   "execution_count": null,
   "id": "8aaa2e89-fd3c-48d8-905c-c3c6b1ecbf1f",
   "metadata": {},
   "outputs": [],
   "source": [
    "my_sources.add_column('i_CalibMag_AB')\n",
    "my_sources['i_CalibMag_AB'] = np.zeros(len(my_sources), dtype='float')\n",
    "my_deepCoadd_photoCalib = my_deepCoadd.getPhotoCalib()\n",
    "for s in range(len(my_sources)):\n",
    "    my_sources['i_CalibMag_AB'][s] = \\\n",
    "    my_deepCoadd_photoCalib.instFluxToMagnitude(my_sources['slot_CalibFlux_instFlux'][s])"
   ]
  },
  {
   "cell_type": "markdown",
   "id": "69b4fa27-8dca-49b5-93b1-5977aa11f2b5",
   "metadata": {},
   "source": [
    "Plot the apparent i-band magnitude distribution of detected sources."
   ]
  },
  {
   "cell_type": "code",
   "execution_count": null,
   "id": "aa6452ef-767a-426f-8759-6efd82e6bd5f",
   "metadata": {},
   "outputs": [],
   "source": [
    "plt.figure(figsize=(5, 3))\n",
    "plt.hist(my_sources['i_CalibMag_AB'], bins=20)\n",
    "plt.xlabel('i-band apparent magnitude')\n",
    "plt.ylabel('number of detected sources')\n",
    "plt.show()"
   ]
  },
  {
   "cell_type": "markdown",
   "id": "448efec7-e17f-429d-949b-cce3fbd7b88d",
   "metadata": {},
   "source": [
    "## 3.2. Plot detected sources on a cutout of the custom coadd"
   ]
  },
  {
   "cell_type": "markdown",
   "id": "0e5badcc-01b5-4c84-bbe2-2b54ba2cdce4",
   "metadata": {},
   "source": [
    "Create a 1000 by 1000 pixel cutout of the custom `deepCoadd`."
   ]
  },
  {
   "cell_type": "code",
   "execution_count": null,
   "id": "dbb26ce2-ea84-4372-a56d-f31265d8e3e8",
   "metadata": {},
   "outputs": [],
   "source": [
    "cutout_width = 1000\n",
    "cutout_height = 1000\n",
    "my_cutout_bbox = lsst.geom.Box2I(lsst.geom.Point2I(my_deepCoadd.getX0(),\n",
    "                                                   my_deepCoadd.getY0()),\n",
    "                                 lsst.geom.Extent2I(cutout_width, cutout_height))\n",
    "my_cutout = my_deepCoadd.Factory(my_deepCoadd, my_cutout_bbox)"
   ]
  },
  {
   "cell_type": "markdown",
   "id": "27bf54f1-df64-4818-9b2d-eb54f625e58d",
   "metadata": {},
   "source": [
    "Print the center coordinates of the cutout."
   ]
  },
  {
   "cell_type": "code",
   "execution_count": null,
   "id": "74b2a48f-6ccd-4aa4-ba2f-bef4f7c7fcef",
   "metadata": {},
   "outputs": [],
   "source": [
    "bbox = my_cutout.getBBox()\n",
    "wcs = my_cutout.wcs\n",
    "fitsMd = wcs.getFitsMetadata()\n",
    "WCSfMd = WCS(fitsMd)\n",
    "center = wcs.pixelToSky(bbox.centerX, bbox.centerY)\n",
    "print('Cutout center (RA, Dec): ', center)"
   ]
  },
  {
   "cell_type": "markdown",
   "id": "62961186-e396-4672-b88c-44b74eba4d15",
   "metadata": {},
   "source": [
    "Recall from tutorial notebook 09a that the 'science use case' adopted for context was that there was a (hypothetical) supernova at RA = 55.745834, Dec = -32.269167, and we were looking for evidence of a precursor outburst during Window1.\n",
    "\n",
    "Convert the those coordinates into a pixel location."
   ]
  },
  {
   "cell_type": "code",
   "execution_count": null,
   "id": "bb0f4d34-0266-4267-9ade-3e05294b0af9",
   "metadata": {},
   "outputs": [],
   "source": [
    "sn_coords = lsst.geom.SpherePoint(55.745834*lsst.geom.degrees, -32.269167*lsst.geom.degrees)\n",
    "sn_pix = wcs.skyToPixel(sn_coords)\n",
    "print(sn_pix)"
   ]
  },
  {
   "cell_type": "markdown",
   "id": "1aab8bec-42e6-4405-8b64-3449f4fd383b",
   "metadata": {},
   "source": [
    "Display cutout with detected sources as orange circles, and the supernova location as a larger green circle."
   ]
  },
  {
   "cell_type": "code",
   "execution_count": null,
   "id": "ad3fdf08-bae5-417e-ac52-253b5f9d67ba",
   "metadata": {},
   "outputs": [],
   "source": [
    "plt.figure()\n",
    "afw_display = afwDisplay.Display()\n",
    "afw_display.scale('asinh', 'zscale')\n",
    "afw_display.mtv(my_cutout.image)\n",
    "\n",
    "afw_display.dot('o', sn_pix[0], sn_pix[1], size=20, ctype='green')\n",
    "\n",
    "with afw_display.Buffering():\n",
    "    for s in sources:\n",
    "        afw_display.dot('o', s.getX(), s.getY(), size=10, ctype='orange')"
   ]
  },
  {
   "cell_type": "markdown",
   "id": "144a1d72-81ea-4761-be5f-417cf89e5da9",
   "metadata": {},
   "source": [
    "Above, we can see that there is no source detected at 10-sigma (defined by `config.thresholdValue` above in Section 2.2) at the location of the (hypothetical) supernova (green circle). \n",
    "\n",
    "In Section 4, an exercise for the learner is to re-run source detection with a lower sigma, which would be the next analysis step for the science use-case of exploring precusor eruptions.\n",
    "Recall that the DC2 simulation did not include precusor eruptions for supernovae, though -- and that there is no actual simulated supernova at the coordinates anyway. \n",
    "They are just used as an example."
   ]
  },
  {
   "cell_type": "code",
   "execution_count": null,
   "id": "fbe33a53-75d7-4506-9dab-482ce2ac571b",
   "metadata": {},
   "outputs": [],
   "source": [
    "del bbox, wcs, fitsMd, WCSfMd, center"
   ]
  },
  {
   "cell_type": "markdown",
   "id": "d65b3382-bf01-450d-948b-a2e822dea83e",
   "metadata": {},
   "source": [
    "## 3.3. Compare with Objects in the original deepCoadd image"
   ]
  },
  {
   "cell_type": "markdown",
   "id": "086e8631-b285-4090-b3eb-3f8a243d8853",
   "metadata": {},
   "source": [
    "### 3.3.1. Make a cutout of the original deepCoadd\n",
    "\n",
    "Instantiate a temporary butler that looks only at the DP0.2 collection."
   ]
  },
  {
   "cell_type": "code",
   "execution_count": null,
   "id": "88cb6223-d00b-46c9-9718-69a087a7c220",
   "metadata": {},
   "outputs": [],
   "source": [
    "tempButler = Butler('dp02', collections='2.2i/runs/DP0.2')"
   ]
  },
  {
   "cell_type": "markdown",
   "id": "8fe81b5d-0880-4883-82e9-b0e550cf9a5a",
   "metadata": {},
   "source": [
    "Use the same `dataId` that defines the custom `deepCoadd`.\n",
    "Since we are using a temporary butler that only looks at the DP0.2 data release collection, and not the user collection, this will retrieve the original `deepCoadd`, not the custom `deepCoadd`."
   ]
  },
  {
   "cell_type": "code",
   "execution_count": null,
   "id": "8b5042c7-2046-45b5-85c4-2b250c033741",
   "metadata": {},
   "outputs": [],
   "source": [
    "deepCoadd = tempButler.get('deepCoadd', my_dataId)"
   ]
  },
  {
   "cell_type": "markdown",
   "id": "957b80c0-2fde-47f3-ae48-cf25019ad85d",
   "metadata": {},
   "source": [
    "Double check that this `deepCoadd` is the result of 161 input visits."
   ]
  },
  {
   "cell_type": "code",
   "execution_count": null,
   "id": "afad2bd7-033c-44dd-b3a3-69b8b4858a5d",
   "metadata": {},
   "outputs": [],
   "source": [
    "deepCoadd_inputs = tempButler.get(\"deepCoadd.coaddInputs\", my_dataId)\n",
    "len(deepCoadd_inputs.visits.asAstropy())"
   ]
  },
  {
   "cell_type": "code",
   "execution_count": null,
   "id": "dff1ff45-59fe-4781-b487-d9c77f031467",
   "metadata": {},
   "outputs": [],
   "source": [
    "del tempButler"
   ]
  },
  {
   "cell_type": "markdown",
   "id": "f44d0d9d-06ed-44f9-8c50-c96e90414de5",
   "metadata": {},
   "source": [
    "Create a cutout from the original `deepCoadd`."
   ]
  },
  {
   "cell_type": "code",
   "execution_count": null,
   "id": "be0d19b7-d5c6-45c9-89ef-fc4586a0edb6",
   "metadata": {},
   "outputs": [],
   "source": [
    "cutout_bbox = lsst.geom.Box2I(lsst.geom.Point2I(deepCoadd.getX0(),\n",
    "                                                deepCoadd.getY0()),\n",
    "                              lsst.geom.Extent2I(cutout_width, cutout_height))\n",
    "cutout = deepCoadd.Factory(deepCoadd, cutout_bbox)"
   ]
  },
  {
   "cell_type": "markdown",
   "id": "162542d3-7b50-45d5-9e86-530ee956ebbd",
   "metadata": {},
   "source": [
    "**Option:** display the original `deepCoadd` cutout."
   ]
  },
  {
   "cell_type": "code",
   "execution_count": null,
   "id": "6727c98c-ab5a-40a8-925f-97c58bb5fb33",
   "metadata": {},
   "outputs": [],
   "source": [
    "# plt.figure()\n",
    "# afw_display = afwDisplay.Display()\n",
    "# afw_display.scale('asinh', 'zscale')\n",
    "# afw_display.mtv(cutout.image)"
   ]
  },
  {
   "cell_type": "markdown",
   "id": "09f68503-52a4-4952-8eb3-a1581e91e2a2",
   "metadata": {},
   "source": [
    "### 3.3.2. Retrieve Objects via TAP\n",
    "\n",
    "Use the TAP service to query and return the i-band calibrated fluxes for `Objects` detected with a signal-to-noise ratio > 10 (to match the custom coadd detection threshold set in Section 2.2) in the original `deepCoadd`, within the cutout area.\n",
    "\n",
    "Recall that the cutout center coordinates are: 55.7572944294, -32.2945077996. Use these as the central coordinates for the TAP query."
   ]
  },
  {
   "cell_type": "code",
   "execution_count": null,
   "id": "17432002-f906-4de2-9905-e48a4aec008b",
   "metadata": {},
   "outputs": [],
   "source": [
    "%%time\n",
    "query = \"SELECT objectId, coord_ra, coord_dec, detect_isPrimary, \" + \\\n",
    "        \"scisql_nanojanskyToAbMag(i_calibFlux) AS i_calibMag, \" + \\\n",
    "        \"scisql_nanojanskyToAbMagSigma(i_calibFlux, i_calibFluxErr) AS i_calibMagErr, \" + \\\n",
    "        \"i_extendedness \" + \\\n",
    "        \"FROM dp02_dc2_catalogs.Object \" + \\\n",
    "        \"WHERE CONTAINS(POINT('ICRS', coord_ra, coord_dec), \" + \\\n",
    "        \"CIRCLE('ICRS', 55.757, -32.295, 0.2)) = 1 \" + \\\n",
    "        \"AND i_calibFlux/i_calibFluxErr >= 10 \" + \\\n",
    "        \"AND detect_isPrimary = 1\"\n",
    "tap_results = tap_service.search(query)"
   ]
  },
  {
   "cell_type": "markdown",
   "id": "1e8798f7-e553-4d17-b94a-872018313d20",
   "metadata": {},
   "source": [
    "Store the TAP results in a pandas table."
   ]
  },
  {
   "cell_type": "code",
   "execution_count": null,
   "id": "3fd7700a-f2e5-42cd-aa30-3b427540be0a",
   "metadata": {},
   "outputs": [],
   "source": [
    "tap_table = tap_results.to_table().to_pandas()"
   ]
  },
  {
   "cell_type": "markdown",
   "id": "a8571e3d-836a-46bd-bd0d-067236970ccb",
   "metadata": {},
   "source": [
    "Convert `Object` sky coordinates (RA, Dec) to `deepCoadd` pixels (x,y) and store in the TAP results table."
   ]
  },
  {
   "cell_type": "code",
   "execution_count": null,
   "id": "e670d9c6-c9d9-498c-9d90-64dc6b8ab254",
   "metadata": {},
   "outputs": [],
   "source": [
    "wcs = cutout.wcs\n",
    "temp1 = np.zeros(len(tap_table), dtype='float')\n",
    "temp2 = np.zeros(len(tap_table), dtype='float')\n",
    "\n",
    "for i in range(len(tap_table['coord_ra'].values)):\n",
    "    sP = lsst.geom.SpherePoint(tap_table['coord_ra'][i]*lsst.geom.degrees, \\\n",
    "                               tap_table['coord_dec'][i]*lsst.geom.degrees)\n",
    "    cpix = wcs.skyToPixel(sP)\n",
    "    temp1[i] = float(cpix[0])\n",
    "    temp2[i] = float(cpix[1])\n",
    "    del sP, cpix\n",
    "\n",
    "tap_table['cutout_x'] = temp1\n",
    "tap_table['cutout_y'] = temp2\n",
    "\n",
    "del wcs, temp1, temp2"
   ]
  },
  {
   "cell_type": "markdown",
   "id": "4be8348c-1c0c-4280-92ad-6cc80c34cde3",
   "metadata": {},
   "source": [
    "### 3.3.3. Plot images side-by-side\n",
    "\n",
    "Plot the new custom `deepCoadd` (left; 6 input visits) and original `deepCoadd` (right; 161 input visits) cutouts side-by-side.\n",
    "\n",
    "Show newly detected sources in the custom `deepCoadd` (orange) and `Object` catalog sources from the original `deepCoadd` (red).\n",
    "\n",
    "Making these side-by-side images can take a minute."
   ]
  },
  {
   "cell_type": "code",
   "execution_count": null,
   "id": "fc37b989-2beb-4e87-bf08-a0afe0f1c1f7",
   "metadata": {},
   "outputs": [],
   "source": [
    "%%time\n",
    "\n",
    "fig, ax = plt.subplots(1, 2, figsize=(14, 7), sharey=False, sharex=False)\n",
    "\n",
    "plt.subplot(1, 2, 1)\n",
    "disp1 = afwDisplay.getDisplay(frame=fig)\n",
    "disp1.scale('asinh', 'zscale')\n",
    "disp1.mtv(my_cutout.image)\n",
    "\n",
    "with disp1.Buffering():\n",
    "    for s in sources:\n",
    "        disp1.dot('o', s.getX(), s.getY(), size=10, ctype='orange')\n",
    "\n",
    "plt.subplot(1, 2, 2)\n",
    "disp2 = afwDisplay.getDisplay(frame=fig)\n",
    "disp2.scale('asinh', 'zscale')\n",
    "disp2.mtv(cutout.image)\n",
    "\n",
    "with disp2.Buffering():\n",
    "    for s in range(len(tap_table)):\n",
    "        disp2.dot('o', tap_table['cutout_x'][s], tap_table['cutout_y'][s], size=10, ctype='red')\n",
    "\n",
    "plt.show()"
   ]
  },
  {
   "cell_type": "markdown",
   "id": "4951eb31-a6e0-4cd8-8f23-ac785350e6a2",
   "metadata": {},
   "source": [
    "### 3.3.4. Compare apparent magnitudes\n",
    "\n",
    "For sources detected in both the custom `deepCoadd` _and_ the original `deepCoadd`, plot a comparison of their apparent i-band magnitudes."
   ]
  },
  {
   "cell_type": "code",
   "execution_count": null,
   "id": "fba70311-08d4-4bb4-a613-b8d82c455b04",
   "metadata": {},
   "outputs": [],
   "source": [
    "plt.figure(figsize=(4, 4))\n",
    "\n",
    "plt.plot([16, 25], [16, 25], lw=1, ls='solid', color='black')\n",
    "\n",
    "for s in range(len(my_sources)):\n",
    "    tx = np.where((np.abs(my_sources['base_SdssCentroid_x'][s] - tap_table['cutout_x'][:]) < 5.0)\n",
    "                  & (np.abs(my_sources['base_SdssCentroid_y'][s] - tap_table['cutout_y'][:]) < 5.0))[0]\n",
    "    if len(tx) == 1:\n",
    "        plt.plot(tap_table['i_calibMag'][tx[0]],\n",
    "                 my_sources['i_CalibMag_AB'][s],\n",
    "                 'o', ms=2, alpha=0.3, mew=0, color='grey')\n",
    "\n",
    "plt.xlim([15, 26])\n",
    "plt.ylim([15, 26])\n",
    "plt.xlabel('deepCoadd i-band magnitude')\n",
    "plt.ylabel('custom coadd i-band magnitude')\n",
    "plt.show()"
   ]
  },
  {
   "cell_type": "markdown",
   "id": "a66f6040-8778-4b91-8db4-f848bd1792cf",
   "metadata": {},
   "source": [
    "The above is only for _matched sources_.\n",
    "\n",
    "Below, compare the apparent magnitude distributions for everything detected in the two images."
   ]
  },
  {
   "cell_type": "code",
   "execution_count": null,
   "id": "704fb4f2-588c-43c1-bf5e-4c737c0dd8ca",
   "metadata": {},
   "outputs": [],
   "source": [
    "plt.figure(figsize=(5, 3))\n",
    "\n",
    "plt.hist(my_sources['i_CalibMag_AB'], bins=20, histtype='step', label='custom coadd')\n",
    "plt.hist(tap_table['i_calibMag'], bins=20, histtype='step', label='original deepCoadd')\n",
    "\n",
    "plt.xlabel('i-band apparent magnitude')\n",
    "plt.ylabel('number of detected sources')\n",
    "plt.legend(loc='upper left')\n",
    "plt.xlim([15, 26])\n",
    "plt.show()"
   ]
  },
  {
   "cell_type": "markdown",
   "id": "abd9cb98-e225-49d4-8dc2-6cac3d764920",
   "metadata": {},
   "source": [
    "# 4. Exercises for the learner\n",
    "\n",
    "1. Lower the source detection threshold (e.g., from 10 to 5) and rerun the source detection and analysis. Remember to change the SNR limit in the TAP query to the `Objects` table, in order to make a meaningful comparison. \n",
    "> (Recall that the `Objects` table only includes SNR>5 detections, so if the source detection threshold for the custom `deepCoadd` is lowered to 5, a meaningful comparison with the `Objects` table will not be possible. Rerun source detection on the original `deepCoadd` if you want to explore low-SNR detections).\n",
    "2. Compare not just the apparent magnitudes between the custom `deepCoadd` and original `deepCoadd`, but also shape parameters like PSF or the `SdssShape` moments.\n",
    "3. Return to tutorial notebook 09a, create a custom `deepCoadd` for Window2, and compare it to the custom `deepCoadd` for Window1."
   ]
  }
 ],
 "metadata": {
  "kernelspec": {
   "display_name": "LSST",
   "language": "python",
   "name": "lsst"
  },
  "language_info": {
   "codemirror_mode": {
    "name": "ipython",
    "version": 3
   },
   "file_extension": ".py",
   "mimetype": "text/x-python",
   "name": "python",
   "nbconvert_exporter": "python",
   "pygments_lexer": "ipython3",
   "version": "3.10.5"
  }
 },
 "nbformat": 4,
 "nbformat_minor": 5
}
